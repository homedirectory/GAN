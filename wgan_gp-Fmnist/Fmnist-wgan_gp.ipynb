{
 "cells": [
  {
   "cell_type": "code",
   "execution_count": 1,
   "metadata": {},
   "outputs": [],
   "source": [
    "from wgan_gp_Fmnist import train, usage, WGAN_GP"
   ]
  },
  {
   "cell_type": "code",
   "execution_count": 2,
   "metadata": {
    "scrolled": true
   },
   "outputs": [
    {
     "name": "stdout",
     "output_type": "stream",
     "text": [
      "Model: \"Generator\"\n",
      "_________________________________________________________________\n",
      "Layer (type)                 Output Shape              Param #   \n",
      "=================================================================\n",
      "dense_1 (Dense)              (None, 12544)             1618176   \n",
      "_________________________________________________________________\n",
      "reshape (Reshape)            (None, 7, 7, 256)         0         \n",
      "_________________________________________________________________\n",
      "batch_normalization (BatchNo (None, 7, 7, 256)         1024      \n",
      "_________________________________________________________________\n",
      "re_lu (ReLU)                 (None, 7, 7, 256)         0         \n",
      "_________________________________________________________________\n",
      "conv2d_transpose (Conv2DTran (None, 14, 14, 256)       590080    \n",
      "_________________________________________________________________\n",
      "batch_normalization_1 (Batch (None, 14, 14, 256)       1024      \n",
      "_________________________________________________________________\n",
      "re_lu_1 (ReLU)               (None, 14, 14, 256)       0         \n",
      "_________________________________________________________________\n",
      "conv2d_transpose_1 (Conv2DTr (None, 28, 28, 128)       295040    \n",
      "_________________________________________________________________\n",
      "batch_normalization_2 (Batch (None, 28, 28, 128)       512       \n",
      "_________________________________________________________________\n",
      "re_lu_2 (ReLU)               (None, 28, 28, 128)       0         \n",
      "_________________________________________________________________\n",
      "conv2d_transpose_2 (Conv2DTr (None, 28, 28, 1)         1153      \n",
      "=================================================================\n",
      "Total params: 2,507,009\n",
      "Trainable params: 2,505,729\n",
      "Non-trainable params: 1,280\n",
      "_________________________________________________________________\n"
     ]
    }
   ],
   "source": [
    "critic, generator = WGAN_GP().models\n",
    "generator.summary()"
   ]
  },
  {
   "cell_type": "code",
   "execution_count": 3,
   "metadata": {},
   "outputs": [
    {
     "name": "stdout",
     "output_type": "stream",
     "text": [
      "Model: \"Critic\"\n",
      "_________________________________________________________________\n",
      "Layer (type)                 Output Shape              Param #   \n",
      "=================================================================\n",
      "conv2d (Conv2D)              (None, 28, 28, 64)        640       \n",
      "_________________________________________________________________\n",
      "leaky_re_lu (LeakyReLU)      (None, 28, 28, 64)        0         \n",
      "_________________________________________________________________\n",
      "conv2d_1 (Conv2D)            (None, 14, 14, 64)        36928     \n",
      "_________________________________________________________________\n",
      "leaky_re_lu_1 (LeakyReLU)    (None, 14, 14, 64)        0         \n",
      "_________________________________________________________________\n",
      "conv2d_2 (Conv2D)            (None, 7, 7, 128)         73856     \n",
      "_________________________________________________________________\n",
      "flatten (Flatten)            (None, 6272)              0         \n",
      "_________________________________________________________________\n",
      "dense (Dense)                (None, 1)                 6273      \n",
      "=================================================================\n",
      "Total params: 117,697\n",
      "Trainable params: 117,697\n",
      "Non-trainable params: 0\n",
      "_________________________________________________________________\n"
     ]
    }
   ],
   "source": [
    "critic.summary()"
   ]
  },
  {
   "cell_type": "code",
   "execution_count": 4,
   "metadata": {},
   "outputs": [
    {
     "name": "stdout",
     "output_type": "stream",
     "text": [
      "train(epochs, load_models, save_images, save_models)\n",
      "returns: C_losses, G_losses, critic, generator, basename\n"
     ]
    }
   ],
   "source": [
    "usage()"
   ]
  },
  {
   "cell_type": "code",
   "execution_count": 5,
   "metadata": {
    "scrolled": true
   },
   "outputs": [
    {
     "name": "stderr",
     "output_type": "stream",
     "text": [
      "\r",
      "  0%|          | 0/100 [00:00<?, ?it/s]"
     ]
    },
    {
     "name": "stdout",
     "output_type": "stream",
     "text": [
      "----------- TRAINING TO GENERATE **T-shirt** -----------\n"
     ]
    },
    {
     "name": "stderr",
     "output_type": "stream",
     "text": [
      "\r",
      "  1%|          | 1.0/100 [00:06<11:19,  6.86s/it]"
     ]
    },
    {
     "name": "stdout",
     "output_type": "stream",
     "text": [
      "LABEL: T-shirt\n",
      "EPOCH 1: 6.86019 sec\n",
      "Critic loss: -2.50593\n",
      "Generator loss: -2.86515\n",
      "\n",
      "WARNING:tensorflow:From /usr/local/lib/python3.6/dist-packages/tensorflow_core/python/ops/resource_variable_ops.py:1786: calling BaseResourceVariable.__init__ (from tensorflow.python.ops.resource_variable_ops) with constraint is deprecated and will be removed in a future version.\n",
      "Instructions for updating:\n",
      "If using Keras pass *_constraint arguments to layers.\n",
      "INFO:tensorflow:Assets written to: models/05-05-21_11:26:10/T-shirt/generator/assets\n",
      "INFO:tensorflow:Assets written to: models/05-05-21_11:26:10/T-shirt/critic/assets\n"
     ]
    },
    {
     "name": "stderr",
     "output_type": "stream",
     "text": [
      "\r",
      "  2%|▏         | 2.0/100 [00:10<08:23,  5.14s/it]"
     ]
    },
    {
     "name": "stdout",
     "output_type": "stream",
     "text": [
      "LABEL: T-shirt\n",
      "EPOCH 2: 2.33606 sec\n",
      "Critic loss: -2.35109\n",
      "Generator loss: -2.17050\n",
      "\n"
     ]
    },
    {
     "name": "stderr",
     "output_type": "stream",
     "text": [
      "\r",
      "  3%|▎         | 3.0/100 [00:13<06:22,  3.95s/it]"
     ]
    },
    {
     "name": "stdout",
     "output_type": "stream",
     "text": [
      "LABEL: T-shirt\n",
      "EPOCH 3: 2.43960 sec\n",
      "Critic loss: -2.75541\n",
      "Generator loss: -1.35160\n",
      "\n"
     ]
    },
    {
     "name": "stderr",
     "output_type": "stream",
     "text": [
      "\r",
      "  4%|▍         | 4.0/100 [00:15<05:23,  3.37s/it]"
     ]
    },
    {
     "name": "stdout",
     "output_type": "stream",
     "text": [
      "LABEL: T-shirt\n",
      "EPOCH 4: 2.39750 sec\n",
      "Critic loss: -2.40638\n",
      "Generator loss: -0.51853\n",
      "\n"
     ]
    },
    {
     "name": "stderr",
     "output_type": "stream",
     "text": [
      "\r",
      "  5%|▌         | 5.0/100 [00:18<04:50,  3.05s/it]"
     ]
    },
    {
     "name": "stdout",
     "output_type": "stream",
     "text": [
      "LABEL: T-shirt\n",
      "EPOCH 5: 2.39796 sec\n",
      "Critic loss: -2.62823\n",
      "Generator loss: 0.01309\n",
      "\n"
     ]
    },
    {
     "name": "stderr",
     "output_type": "stream",
     "text": [
      "\r",
      "  6%|▌         | 6.0/100 [00:20<04:28,  2.85s/it]"
     ]
    },
    {
     "name": "stdout",
     "output_type": "stream",
     "text": [
      "LABEL: T-shirt\n",
      "EPOCH 6: 2.38016 sec\n",
      "Critic loss: -2.52202\n",
      "Generator loss: -0.65492\n",
      "\n"
     ]
    },
    {
     "name": "stderr",
     "output_type": "stream",
     "text": [
      "\r",
      "  7%|▋         | 7.0/100 [00:23<04:13,  2.72s/it]"
     ]
    },
    {
     "name": "stdout",
     "output_type": "stream",
     "text": [
      "LABEL: T-shirt\n",
      "EPOCH 7: 2.35784 sec\n",
      "Critic loss: -2.63895\n",
      "Generator loss: -0.75362\n",
      "\n"
     ]
    },
    {
     "name": "stderr",
     "output_type": "stream",
     "text": [
      "\r",
      "  8%|▊         | 8.0/100 [00:25<04:02,  2.64s/it]"
     ]
    },
    {
     "name": "stdout",
     "output_type": "stream",
     "text": [
      "LABEL: T-shirt\n",
      "EPOCH 8: 2.38006 sec\n",
      "Critic loss: -2.22092\n",
      "Generator loss: -1.74545\n",
      "\n"
     ]
    },
    {
     "name": "stderr",
     "output_type": "stream",
     "text": [
      "\r",
      "  9%|▉         | 9.0/100 [00:28<03:58,  2.62s/it]"
     ]
    },
    {
     "name": "stdout",
     "output_type": "stream",
     "text": [
      "LABEL: T-shirt\n",
      "EPOCH 9: 2.48097 sec\n",
      "Critic loss: -2.24307\n",
      "Generator loss: -2.28544\n",
      "\n"
     ]
    },
    {
     "name": "stderr",
     "output_type": "stream",
     "text": [
      "\r",
      " 10%|█         | 10.0/100 [00:30<03:54,  2.60s/it]"
     ]
    },
    {
     "name": "stdout",
     "output_type": "stream",
     "text": [
      "LABEL: T-shirt\n",
      "EPOCH 10: 2.47012 sec\n",
      "Critic loss: -2.16072\n",
      "Generator loss: -2.47803\n",
      "\n"
     ]
    },
    {
     "name": "stderr",
     "output_type": "stream",
     "text": [
      "\r",
      " 11%|█         | 11.0/100 [00:33<03:47,  2.55s/it]"
     ]
    },
    {
     "name": "stdout",
     "output_type": "stream",
     "text": [
      "LABEL: T-shirt\n",
      "EPOCH 11: 2.36311 sec\n",
      "Critic loss: -2.19452\n",
      "Generator loss: -1.84434\n",
      "\n"
     ]
    },
    {
     "name": "stderr",
     "output_type": "stream",
     "text": [
      "\r",
      " 12%|█▏        | 12.0/100 [00:35<03:41,  2.52s/it]"
     ]
    },
    {
     "name": "stdout",
     "output_type": "stream",
     "text": [
      "LABEL: T-shirt\n",
      "EPOCH 12: 2.34425 sec\n",
      "Critic loss: -2.05541\n",
      "Generator loss: -1.71549\n",
      "\n"
     ]
    },
    {
     "name": "stderr",
     "output_type": "stream",
     "text": [
      "\r",
      " 13%|█▎        | 13.0/100 [00:38<03:37,  2.50s/it]"
     ]
    },
    {
     "name": "stdout",
     "output_type": "stream",
     "text": [
      "LABEL: T-shirt\n",
      "EPOCH 13: 2.39422 sec\n",
      "Critic loss: -2.08649\n",
      "Generator loss: -1.22471\n",
      "\n"
     ]
    },
    {
     "name": "stderr",
     "output_type": "stream",
     "text": [
      "\r",
      " 14%|█▍        | 14.0/100 [00:40<03:35,  2.51s/it]"
     ]
    },
    {
     "name": "stdout",
     "output_type": "stream",
     "text": [
      "LABEL: T-shirt\n",
      "EPOCH 14: 2.41975 sec\n",
      "Critic loss: -1.47810\n",
      "Generator loss: 0.46591\n",
      "\n"
     ]
    },
    {
     "name": "stderr",
     "output_type": "stream",
     "text": [
      "\r",
      " 15%|█▌        | 15.0/100 [00:43<03:34,  2.53s/it]"
     ]
    },
    {
     "name": "stdout",
     "output_type": "stream",
     "text": [
      "LABEL: T-shirt\n",
      "EPOCH 15: 2.49244 sec\n",
      "Critic loss: -0.87558\n",
      "Generator loss: 0.41903\n",
      "\n"
     ]
    },
    {
     "name": "stderr",
     "output_type": "stream",
     "text": [
      "\r",
      " 16%|█▌        | 16.0/100 [00:45<03:32,  2.53s/it]"
     ]
    },
    {
     "name": "stdout",
     "output_type": "stream",
     "text": [
      "LABEL: T-shirt\n",
      "EPOCH 16: 2.42898 sec\n",
      "Critic loss: -0.41431\n",
      "Generator loss: 0.42369\n",
      "\n"
     ]
    },
    {
     "name": "stderr",
     "output_type": "stream",
     "text": [
      "\r",
      " 17%|█▋        | 17.0/100 [00:48<03:28,  2.52s/it]"
     ]
    },
    {
     "name": "stdout",
     "output_type": "stream",
     "text": [
      "LABEL: T-shirt\n",
      "EPOCH 17: 2.39636 sec\n",
      "Critic loss: -0.43458\n",
      "Generator loss: 1.52861\n",
      "\n"
     ]
    },
    {
     "name": "stderr",
     "output_type": "stream",
     "text": [
      "\r",
      " 18%|█▊        | 18.0/100 [00:50<03:25,  2.50s/it]"
     ]
    },
    {
     "name": "stdout",
     "output_type": "stream",
     "text": [
      "LABEL: T-shirt\n",
      "EPOCH 18: 2.38220 sec\n",
      "Critic loss: -0.41767\n",
      "Generator loss: 0.81123\n",
      "\n"
     ]
    },
    {
     "name": "stderr",
     "output_type": "stream",
     "text": [
      "\r",
      " 19%|█▉        | 19.0/100 [00:53<03:22,  2.50s/it]"
     ]
    },
    {
     "name": "stdout",
     "output_type": "stream",
     "text": [
      "LABEL: T-shirt\n",
      "EPOCH 19: 2.41441 sec\n",
      "Critic loss: -0.38358\n",
      "Generator loss: 0.04829\n",
      "\n"
     ]
    },
    {
     "name": "stderr",
     "output_type": "stream",
     "text": [
      "\r",
      " 20%|██        | 20.0/100 [00:55<03:19,  2.49s/it]"
     ]
    },
    {
     "name": "stdout",
     "output_type": "stream",
     "text": [
      "LABEL: T-shirt\n",
      "EPOCH 20: 2.39484 sec\n",
      "Critic loss: -0.43079\n",
      "Generator loss: -0.84834\n",
      "\n"
     ]
    },
    {
     "name": "stderr",
     "output_type": "stream",
     "text": [
      "\r",
      " 21%|██        | 21.0/100 [00:58<03:18,  2.51s/it]"
     ]
    },
    {
     "name": "stdout",
     "output_type": "stream",
     "text": [
      "LABEL: T-shirt\n",
      "EPOCH 21: 2.47206 sec\n",
      "Critic loss: -0.47634\n",
      "Generator loss: -1.43086\n",
      "\n",
      "INFO:tensorflow:Assets written to: models/05-05-21_11:26:10/T-shirt/generator/assets\n",
      "INFO:tensorflow:Assets written to: models/05-05-21_11:26:10/T-shirt/critic/assets\n"
     ]
    },
    {
     "name": "stderr",
     "output_type": "stream",
     "text": [
      "\r",
      " 22%|██▏       | 22.0/100 [01:02<03:50,  2.95s/it]"
     ]
    },
    {
     "name": "stdout",
     "output_type": "stream",
     "text": [
      "LABEL: T-shirt\n",
      "EPOCH 22: 2.32192 sec\n",
      "Critic loss: -0.50798\n",
      "Generator loss: -2.41257\n",
      "\n"
     ]
    },
    {
     "name": "stderr",
     "output_type": "stream",
     "text": [
      "\r",
      " 23%|██▎       | 23.0/100 [01:04<03:34,  2.79s/it]"
     ]
    },
    {
     "name": "stdout",
     "output_type": "stream",
     "text": [
      "LABEL: T-shirt\n",
      "EPOCH 23: 2.32006 sec\n",
      "Critic loss: -0.40620\n",
      "Generator loss: -2.80765\n",
      "\n"
     ]
    },
    {
     "name": "stderr",
     "output_type": "stream",
     "text": [
      "\r",
      " 24%|██▍       | 24.0/100 [01:07<03:23,  2.67s/it]"
     ]
    },
    {
     "name": "stdout",
     "output_type": "stream",
     "text": [
      "LABEL: T-shirt\n",
      "EPOCH 24: 2.32066 sec\n",
      "Critic loss: -0.39968\n",
      "Generator loss: -3.95196\n",
      "\n"
     ]
    },
    {
     "name": "stderr",
     "output_type": "stream",
     "text": [
      "\r",
      " 25%|██▌       | 25.0/100 [01:09<03:15,  2.61s/it]"
     ]
    },
    {
     "name": "stdout",
     "output_type": "stream",
     "text": [
      "LABEL: T-shirt\n",
      "EPOCH 25: 2.37602 sec\n",
      "Critic loss: -0.35457\n",
      "Generator loss: -4.74967\n",
      "\n"
     ]
    },
    {
     "name": "stderr",
     "output_type": "stream",
     "text": [
      "\r",
      " 26%|██▌       | 26.0/100 [01:12<03:11,  2.58s/it]"
     ]
    },
    {
     "name": "stdout",
     "output_type": "stream",
     "text": [
      "LABEL: T-shirt\n",
      "EPOCH 26: 2.43086 sec\n",
      "Critic loss: -0.43336\n",
      "Generator loss: -5.48589\n",
      "\n"
     ]
    },
    {
     "name": "stderr",
     "output_type": "stream",
     "text": [
      "\r",
      " 27%|██▋       | 27.0/100 [01:14<03:05,  2.54s/it]"
     ]
    },
    {
     "name": "stdout",
     "output_type": "stream",
     "text": [
      "LABEL: T-shirt\n",
      "EPOCH 27: 2.35535 sec\n",
      "Critic loss: -0.41971\n",
      "Generator loss: -6.06530\n",
      "\n"
     ]
    },
    {
     "name": "stderr",
     "output_type": "stream",
     "text": [
      "\r",
      " 28%|██▊       | 28.0/100 [01:16<02:59,  2.50s/it]"
     ]
    },
    {
     "name": "stdout",
     "output_type": "stream",
     "text": [
      "LABEL: T-shirt\n",
      "EPOCH 28: 2.32039 sec\n",
      "Critic loss: -0.29560\n",
      "Generator loss: -6.09033\n",
      "\n"
     ]
    },
    {
     "name": "stderr",
     "output_type": "stream",
     "text": [
      "\r",
      " 29%|██▉       | 29.0/100 [01:19<02:55,  2.47s/it]"
     ]
    },
    {
     "name": "stdout",
     "output_type": "stream",
     "text": [
      "LABEL: T-shirt\n",
      "EPOCH 29: 2.32111 sec\n",
      "Critic loss: -0.30522\n",
      "Generator loss: -7.08398\n",
      "\n"
     ]
    },
    {
     "name": "stderr",
     "output_type": "stream",
     "text": [
      "\r",
      " 30%|███       | 30.0/100 [01:21<02:51,  2.45s/it]"
     ]
    },
    {
     "name": "stdout",
     "output_type": "stream",
     "text": [
      "LABEL: T-shirt\n",
      "EPOCH 30: 2.31984 sec\n",
      "Critic loss: -0.33367\n",
      "Generator loss: -6.94993\n",
      "\n"
     ]
    },
    {
     "name": "stderr",
     "output_type": "stream",
     "text": [
      "\r",
      " 31%|███       | 31.0/100 [01:24<02:48,  2.44s/it]"
     ]
    },
    {
     "name": "stdout",
     "output_type": "stream",
     "text": [
      "LABEL: T-shirt\n",
      "EPOCH 31: 2.31996 sec\n",
      "Critic loss: -0.29268\n",
      "Generator loss: -8.15617\n",
      "\n"
     ]
    },
    {
     "name": "stderr",
     "output_type": "stream",
     "text": [
      "\r",
      " 32%|███▏      | 32.0/100 [01:26<02:45,  2.43s/it]"
     ]
    },
    {
     "name": "stdout",
     "output_type": "stream",
     "text": [
      "LABEL: T-shirt\n",
      "EPOCH 32: 2.32070 sec\n",
      "Critic loss: -0.37258\n",
      "Generator loss: -8.06484\n",
      "\n"
     ]
    },
    {
     "name": "stderr",
     "output_type": "stream",
     "text": [
      "\r",
      " 33%|███▎      | 33.0/100 [01:28<02:42,  2.42s/it]"
     ]
    },
    {
     "name": "stdout",
     "output_type": "stream",
     "text": [
      "LABEL: T-shirt\n",
      "EPOCH 33: 2.31953 sec\n",
      "Critic loss: -0.34195\n",
      "Generator loss: -8.28762\n",
      "\n"
     ]
    },
    {
     "name": "stderr",
     "output_type": "stream",
     "text": [
      "\r",
      " 34%|███▍      | 34.0/100 [01:31<02:39,  2.42s/it]"
     ]
    },
    {
     "name": "stdout",
     "output_type": "stream",
     "text": [
      "LABEL: T-shirt\n",
      "EPOCH 34: 2.32960 sec\n",
      "Critic loss: -0.36936\n",
      "Generator loss: -8.29699\n",
      "\n"
     ]
    },
    {
     "name": "stderr",
     "output_type": "stream",
     "text": [
      "\r",
      " 35%|███▌      | 35.0/100 [01:33<02:36,  2.41s/it]"
     ]
    },
    {
     "name": "stdout",
     "output_type": "stream",
     "text": [
      "LABEL: T-shirt\n",
      "EPOCH 35: 2.32287 sec\n",
      "Critic loss: -0.32666\n",
      "Generator loss: -8.23207\n",
      "\n"
     ]
    },
    {
     "name": "stderr",
     "output_type": "stream",
     "text": [
      "\r",
      " 36%|███▌      | 36.0/100 [01:36<02:34,  2.41s/it]"
     ]
    },
    {
     "name": "stdout",
     "output_type": "stream",
     "text": [
      "LABEL: T-shirt\n",
      "EPOCH 36: 2.32074 sec\n",
      "Critic loss: -0.36103\n",
      "Generator loss: -8.46745\n",
      "\n"
     ]
    },
    {
     "name": "stderr",
     "output_type": "stream",
     "text": [
      "\r",
      " 37%|███▋      | 37.0/100 [01:38<02:31,  2.41s/it]"
     ]
    },
    {
     "name": "stdout",
     "output_type": "stream",
     "text": [
      "LABEL: T-shirt\n",
      "EPOCH 37: 2.32582 sec\n",
      "Critic loss: -0.32147\n",
      "Generator loss: -8.28895\n",
      "\n"
     ]
    },
    {
     "name": "stderr",
     "output_type": "stream",
     "text": [
      "\r",
      " 38%|███▊      | 38.0/100 [01:40<02:29,  2.41s/it]"
     ]
    },
    {
     "name": "stdout",
     "output_type": "stream",
     "text": [
      "LABEL: T-shirt\n",
      "EPOCH 38: 2.32150 sec\n",
      "Critic loss: -0.23478\n",
      "Generator loss: -7.90033\n",
      "\n"
     ]
    },
    {
     "name": "stderr",
     "output_type": "stream",
     "text": [
      "\r",
      " 39%|███▉      | 39.0/100 [01:43<02:26,  2.41s/it]"
     ]
    },
    {
     "name": "stdout",
     "output_type": "stream",
     "text": [
      "LABEL: T-shirt\n",
      "EPOCH 39: 2.31975 sec\n",
      "Critic loss: -0.30829\n",
      "Generator loss: -8.18216\n",
      "\n"
     ]
    },
    {
     "name": "stderr",
     "output_type": "stream",
     "text": [
      "\r",
      " 40%|████      | 40.0/100 [01:45<02:24,  2.41s/it]"
     ]
    },
    {
     "name": "stdout",
     "output_type": "stream",
     "text": [
      "LABEL: T-shirt\n",
      "EPOCH 40: 2.32152 sec\n",
      "Critic loss: -0.34664\n",
      "Generator loss: -8.18068\n",
      "\n"
     ]
    },
    {
     "name": "stderr",
     "output_type": "stream",
     "text": [
      "\r",
      " 41%|████      | 41.0/100 [01:48<02:21,  2.41s/it]"
     ]
    },
    {
     "name": "stdout",
     "output_type": "stream",
     "text": [
      "LABEL: T-shirt\n",
      "EPOCH 41: 2.32057 sec\n",
      "Critic loss: -0.34217\n",
      "Generator loss: -8.76620\n",
      "\n",
      "INFO:tensorflow:Assets written to: models/05-05-21_11:26:10/T-shirt/generator/assets\n",
      "INFO:tensorflow:Assets written to: models/05-05-21_11:26:10/T-shirt/critic/assets\n"
     ]
    },
    {
     "name": "stderr",
     "output_type": "stream",
     "text": [
      "\r",
      " 42%|████▏     | 42.0/100 [01:52<02:45,  2.85s/it]"
     ]
    },
    {
     "name": "stdout",
     "output_type": "stream",
     "text": [
      "LABEL: T-shirt\n",
      "EPOCH 42: 2.32462 sec\n",
      "Critic loss: -0.29976\n",
      "Generator loss: -8.39052\n",
      "\n"
     ]
    },
    {
     "name": "stderr",
     "output_type": "stream",
     "text": [
      "\r",
      " 43%|████▎     | 43.0/100 [01:54<02:34,  2.72s/it]"
     ]
    },
    {
     "name": "stdout",
     "output_type": "stream",
     "text": [
      "LABEL: T-shirt\n",
      "EPOCH 43: 2.32048 sec\n",
      "Critic loss: -0.31805\n",
      "Generator loss: -7.70569\n",
      "\n"
     ]
    },
    {
     "name": "stderr",
     "output_type": "stream",
     "text": [
      "\r",
      " 44%|████▍     | 44.0/100 [01:56<02:26,  2.62s/it]"
     ]
    },
    {
     "name": "stdout",
     "output_type": "stream",
     "text": [
      "LABEL: T-shirt\n",
      "EPOCH 44: 2.31934 sec\n",
      "Critic loss: -0.33314\n",
      "Generator loss: -7.93063\n",
      "\n"
     ]
    },
    {
     "name": "stderr",
     "output_type": "stream",
     "text": [
      "\r",
      " 45%|████▌     | 45.0/100 [01:59<02:20,  2.56s/it]"
     ]
    },
    {
     "name": "stdout",
     "output_type": "stream",
     "text": [
      "LABEL: T-shirt\n",
      "EPOCH 45: 2.32097 sec\n",
      "Critic loss: -0.32304\n",
      "Generator loss: -7.75457\n",
      "\n"
     ]
    },
    {
     "name": "stderr",
     "output_type": "stream",
     "text": [
      "\r",
      " 46%|████▌     | 46.0/100 [02:01<02:15,  2.51s/it]"
     ]
    },
    {
     "name": "stdout",
     "output_type": "stream",
     "text": [
      "LABEL: T-shirt\n",
      "EPOCH 46: 2.32313 sec\n",
      "Critic loss: -0.23841\n",
      "Generator loss: -8.01541\n",
      "\n"
     ]
    },
    {
     "name": "stderr",
     "output_type": "stream",
     "text": [
      "\r",
      " 47%|████▋     | 47.0/100 [02:04<02:11,  2.48s/it]"
     ]
    },
    {
     "name": "stdout",
     "output_type": "stream",
     "text": [
      "LABEL: T-shirt\n",
      "EPOCH 47: 2.31952 sec\n",
      "Critic loss: -0.29476\n",
      "Generator loss: -7.74278\n",
      "\n"
     ]
    },
    {
     "name": "stderr",
     "output_type": "stream",
     "text": [
      "\r",
      " 48%|████▊     | 48.0/100 [02:06<02:07,  2.46s/it]"
     ]
    },
    {
     "name": "stdout",
     "output_type": "stream",
     "text": [
      "LABEL: T-shirt\n",
      "EPOCH 48: 2.32168 sec\n",
      "Critic loss: -0.22755\n",
      "Generator loss: -7.57409\n",
      "\n"
     ]
    },
    {
     "name": "stderr",
     "output_type": "stream",
     "text": [
      "\r",
      " 49%|████▉     | 49.0/100 [02:08<02:04,  2.44s/it]"
     ]
    },
    {
     "name": "stdout",
     "output_type": "stream",
     "text": [
      "LABEL: T-shirt\n",
      "EPOCH 49: 2.32289 sec\n",
      "Critic loss: -0.30599\n",
      "Generator loss: -7.67970\n",
      "\n"
     ]
    },
    {
     "name": "stderr",
     "output_type": "stream",
     "text": [
      "\r",
      " 50%|█████     | 50.0/100 [02:11<02:01,  2.43s/it]"
     ]
    },
    {
     "name": "stdout",
     "output_type": "stream",
     "text": [
      "LABEL: T-shirt\n",
      "EPOCH 50: 2.32708 sec\n",
      "Critic loss: -0.35073\n",
      "Generator loss: -7.72741\n",
      "\n"
     ]
    },
    {
     "name": "stderr",
     "output_type": "stream",
     "text": [
      "\r",
      " 51%|█████     | 51.0/100 [02:13<01:58,  2.42s/it]"
     ]
    },
    {
     "name": "stdout",
     "output_type": "stream",
     "text": [
      "LABEL: T-shirt\n",
      "EPOCH 51: 2.32379 sec\n",
      "Critic loss: -0.29804\n",
      "Generator loss: -6.97718\n",
      "\n"
     ]
    },
    {
     "name": "stderr",
     "output_type": "stream",
     "text": [
      "\r",
      " 52%|█████▏    | 52.0/100 [02:16<01:56,  2.42s/it]"
     ]
    },
    {
     "name": "stdout",
     "output_type": "stream",
     "text": [
      "LABEL: T-shirt\n",
      "EPOCH 52: 2.33345 sec\n",
      "Critic loss: -0.34193\n",
      "Generator loss: -7.07302\n",
      "\n"
     ]
    },
    {
     "name": "stderr",
     "output_type": "stream",
     "text": [
      "\r",
      " 53%|█████▎    | 53.0/100 [02:18<01:53,  2.42s/it]"
     ]
    },
    {
     "name": "stdout",
     "output_type": "stream",
     "text": [
      "LABEL: T-shirt\n",
      "EPOCH 53: 2.33207 sec\n",
      "Critic loss: -0.31404\n",
      "Generator loss: -6.73505\n",
      "\n"
     ]
    },
    {
     "name": "stderr",
     "output_type": "stream",
     "text": [
      "\r",
      " 54%|█████▍    | 54.0/100 [02:20<01:51,  2.42s/it]"
     ]
    },
    {
     "name": "stdout",
     "output_type": "stream",
     "text": [
      "LABEL: T-shirt\n",
      "EPOCH 54: 2.32598 sec\n",
      "Critic loss: -0.28624\n",
      "Generator loss: -6.66033\n",
      "\n"
     ]
    },
    {
     "name": "stderr",
     "output_type": "stream",
     "text": [
      "\r",
      " 55%|█████▌    | 55.0/100 [02:23<01:48,  2.41s/it]"
     ]
    },
    {
     "name": "stdout",
     "output_type": "stream",
     "text": [
      "LABEL: T-shirt\n",
      "EPOCH 55: 2.32016 sec\n",
      "Critic loss: -0.29515\n",
      "Generator loss: -6.39166\n",
      "\n"
     ]
    },
    {
     "name": "stderr",
     "output_type": "stream",
     "text": [
      "\r",
      " 56%|█████▌    | 56.0/100 [02:25<01:46,  2.41s/it]"
     ]
    },
    {
     "name": "stdout",
     "output_type": "stream",
     "text": [
      "LABEL: T-shirt\n",
      "EPOCH 56: 2.32015 sec\n",
      "Critic loss: -0.26430\n",
      "Generator loss: -5.90590\n",
      "\n"
     ]
    },
    {
     "name": "stderr",
     "output_type": "stream",
     "text": [
      "\r",
      " 57%|█████▋    | 57.0/100 [02:28<01:43,  2.41s/it]"
     ]
    },
    {
     "name": "stdout",
     "output_type": "stream",
     "text": [
      "LABEL: T-shirt\n",
      "EPOCH 57: 2.31957 sec\n",
      "Critic loss: -0.25567\n",
      "Generator loss: -5.84017\n",
      "\n"
     ]
    },
    {
     "name": "stderr",
     "output_type": "stream",
     "text": [
      "\r",
      " 58%|█████▊    | 58.0/100 [02:30<01:41,  2.41s/it]"
     ]
    },
    {
     "name": "stdout",
     "output_type": "stream",
     "text": [
      "LABEL: T-shirt\n",
      "EPOCH 58: 2.32353 sec\n",
      "Critic loss: -0.28451\n",
      "Generator loss: -5.00716\n",
      "\n"
     ]
    },
    {
     "name": "stderr",
     "output_type": "stream",
     "text": [
      "\r",
      " 59%|█████▉    | 59.0/100 [02:32<01:38,  2.41s/it]"
     ]
    },
    {
     "name": "stdout",
     "output_type": "stream",
     "text": [
      "LABEL: T-shirt\n",
      "EPOCH 59: 2.32244 sec\n",
      "Critic loss: -0.32320\n",
      "Generator loss: -5.29183\n",
      "\n"
     ]
    },
    {
     "name": "stderr",
     "output_type": "stream",
     "text": [
      "\r",
      " 60%|██████    | 60.0/100 [02:35<01:36,  2.41s/it]"
     ]
    },
    {
     "name": "stdout",
     "output_type": "stream",
     "text": [
      "LABEL: T-shirt\n",
      "EPOCH 60: 2.32453 sec\n",
      "Critic loss: -0.24870\n",
      "Generator loss: -4.92381\n",
      "\n"
     ]
    },
    {
     "name": "stderr",
     "output_type": "stream",
     "text": [
      "\r",
      " 61%|██████    | 61.0/100 [02:37<01:33,  2.41s/it]"
     ]
    },
    {
     "name": "stdout",
     "output_type": "stream",
     "text": [
      "LABEL: T-shirt\n",
      "EPOCH 61: 2.32541 sec\n",
      "Critic loss: -0.22156\n",
      "Generator loss: -4.96268\n",
      "\n",
      "INFO:tensorflow:Assets written to: models/05-05-21_11:26:10/T-shirt/generator/assets\n",
      "INFO:tensorflow:Assets written to: models/05-05-21_11:26:10/T-shirt/critic/assets\n"
     ]
    },
    {
     "name": "stderr",
     "output_type": "stream",
     "text": [
      "\r",
      " 62%|██████▏   | 62.0/100 [02:41<01:47,  2.84s/it]"
     ]
    },
    {
     "name": "stdout",
     "output_type": "stream",
     "text": [
      "LABEL: T-shirt\n",
      "EPOCH 62: 2.32085 sec\n",
      "Critic loss: -0.30892\n",
      "Generator loss: -5.30554\n",
      "\n"
     ]
    },
    {
     "name": "stderr",
     "output_type": "stream",
     "text": [
      "\r",
      " 63%|██████▎   | 63.0/100 [02:44<01:40,  2.71s/it]"
     ]
    },
    {
     "name": "stdout",
     "output_type": "stream",
     "text": [
      "LABEL: T-shirt\n",
      "EPOCH 63: 2.32808 sec\n",
      "Critic loss: -0.22449\n",
      "Generator loss: -4.86809\n",
      "\n"
     ]
    },
    {
     "name": "stderr",
     "output_type": "stream",
     "text": [
      "\r",
      " 64%|██████▍   | 64.0/100 [02:46<01:34,  2.62s/it]"
     ]
    },
    {
     "name": "stdout",
     "output_type": "stream",
     "text": [
      "LABEL: T-shirt\n",
      "EPOCH 64: 2.32068 sec\n",
      "Critic loss: -0.23737\n",
      "Generator loss: -4.54087\n",
      "\n"
     ]
    },
    {
     "name": "stderr",
     "output_type": "stream",
     "text": [
      "\r",
      " 65%|██████▌   | 65.0/100 [02:48<01:29,  2.55s/it]"
     ]
    },
    {
     "name": "stdout",
     "output_type": "stream",
     "text": [
      "LABEL: T-shirt\n",
      "EPOCH 65: 2.32212 sec\n",
      "Critic loss: -0.22940\n",
      "Generator loss: -4.53056\n",
      "\n"
     ]
    },
    {
     "name": "stderr",
     "output_type": "stream",
     "text": [
      "\r",
      " 66%|██████▌   | 66.0/100 [02:51<01:25,  2.51s/it]"
     ]
    },
    {
     "name": "stdout",
     "output_type": "stream",
     "text": [
      "LABEL: T-shirt\n",
      "EPOCH 66: 2.32063 sec\n",
      "Critic loss: -0.23094\n",
      "Generator loss: -4.68904\n",
      "\n"
     ]
    },
    {
     "name": "stderr",
     "output_type": "stream",
     "text": [
      "\r",
      " 67%|██████▋   | 67.0/100 [02:53<01:21,  2.48s/it]"
     ]
    },
    {
     "name": "stdout",
     "output_type": "stream",
     "text": [
      "LABEL: T-shirt\n",
      "EPOCH 67: 2.32294 sec\n",
      "Critic loss: -0.17811\n",
      "Generator loss: -4.11606\n",
      "\n"
     ]
    },
    {
     "name": "stderr",
     "output_type": "stream",
     "text": [
      "\r",
      " 68%|██████▊   | 68.0/100 [02:56<01:18,  2.46s/it]"
     ]
    },
    {
     "name": "stdout",
     "output_type": "stream",
     "text": [
      "LABEL: T-shirt\n",
      "EPOCH 68: 2.32079 sec\n",
      "Critic loss: -0.18804\n",
      "Generator loss: -4.29269\n",
      "\n"
     ]
    },
    {
     "name": "stderr",
     "output_type": "stream",
     "text": [
      "\r",
      " 69%|██████▉   | 69.0/100 [02:58<01:15,  2.44s/it]"
     ]
    },
    {
     "name": "stdout",
     "output_type": "stream",
     "text": [
      "LABEL: T-shirt\n",
      "EPOCH 69: 2.32331 sec\n",
      "Critic loss: -0.30346\n",
      "Generator loss: -3.88843\n",
      "\n"
     ]
    },
    {
     "name": "stderr",
     "output_type": "stream",
     "text": [
      "\r",
      " 70%|███████   | 70.0/100 [03:00<01:12,  2.43s/it]"
     ]
    },
    {
     "name": "stdout",
     "output_type": "stream",
     "text": [
      "LABEL: T-shirt\n",
      "EPOCH 70: 2.32520 sec\n",
      "Critic loss: -0.28088\n",
      "Generator loss: -4.19418\n",
      "\n"
     ]
    },
    {
     "name": "stderr",
     "output_type": "stream",
     "text": [
      "\r",
      " 71%|███████   | 71.0/100 [03:03<01:10,  2.42s/it]"
     ]
    },
    {
     "name": "stdout",
     "output_type": "stream",
     "text": [
      "LABEL: T-shirt\n",
      "EPOCH 71: 2.32206 sec\n",
      "Critic loss: -0.25591\n",
      "Generator loss: -4.06849\n",
      "\n"
     ]
    },
    {
     "name": "stderr",
     "output_type": "stream",
     "text": [
      "\r",
      " 72%|███████▏  | 72.0/100 [03:05<01:07,  2.42s/it]"
     ]
    },
    {
     "name": "stdout",
     "output_type": "stream",
     "text": [
      "LABEL: T-shirt\n",
      "EPOCH 72: 2.32175 sec\n",
      "Critic loss: -0.22639\n",
      "Generator loss: -3.78808\n",
      "\n"
     ]
    },
    {
     "name": "stderr",
     "output_type": "stream",
     "text": [
      "\r",
      " 73%|███████▎  | 73.0/100 [03:08<01:05,  2.41s/it]"
     ]
    },
    {
     "name": "stdout",
     "output_type": "stream",
     "text": [
      "LABEL: T-shirt\n",
      "EPOCH 73: 2.32371 sec\n",
      "Critic loss: -0.19269\n",
      "Generator loss: -3.57165\n",
      "\n"
     ]
    },
    {
     "name": "stderr",
     "output_type": "stream",
     "text": [
      "\r",
      " 74%|███████▍  | 74.0/100 [03:10<01:02,  2.42s/it]"
     ]
    },
    {
     "name": "stdout",
     "output_type": "stream",
     "text": [
      "LABEL: T-shirt\n",
      "EPOCH 74: 2.33251 sec\n",
      "Critic loss: -0.19513\n",
      "Generator loss: -3.57941\n",
      "\n"
     ]
    },
    {
     "name": "stderr",
     "output_type": "stream",
     "text": [
      "\r",
      " 75%|███████▌  | 75.0/100 [03:12<01:00,  2.41s/it]"
     ]
    },
    {
     "name": "stdout",
     "output_type": "stream",
     "text": [
      "LABEL: T-shirt\n",
      "EPOCH 75: 2.32492 sec\n",
      "Critic loss: -0.19483\n",
      "Generator loss: -3.21750\n",
      "\n"
     ]
    },
    {
     "name": "stderr",
     "output_type": "stream",
     "text": [
      "\r",
      " 76%|███████▌  | 76.0/100 [03:15<00:57,  2.41s/it]"
     ]
    },
    {
     "name": "stdout",
     "output_type": "stream",
     "text": [
      "LABEL: T-shirt\n",
      "EPOCH 76: 2.32405 sec\n",
      "Critic loss: -0.21669\n",
      "Generator loss: -2.98377\n",
      "\n"
     ]
    },
    {
     "name": "stderr",
     "output_type": "stream",
     "text": [
      "\r",
      " 77%|███████▋  | 77.0/100 [03:17<00:55,  2.41s/it]"
     ]
    },
    {
     "name": "stdout",
     "output_type": "stream",
     "text": [
      "LABEL: T-shirt\n",
      "EPOCH 77: 2.32263 sec\n",
      "Critic loss: -0.20502\n",
      "Generator loss: -3.14710\n",
      "\n"
     ]
    },
    {
     "name": "stderr",
     "output_type": "stream",
     "text": [
      "\r",
      " 78%|███████▊  | 78.0/100 [03:20<00:52,  2.41s/it]"
     ]
    },
    {
     "name": "stdout",
     "output_type": "stream",
     "text": [
      "LABEL: T-shirt\n",
      "EPOCH 78: 2.32325 sec\n",
      "Critic loss: -0.15296\n",
      "Generator loss: -3.25074\n",
      "\n"
     ]
    },
    {
     "name": "stderr",
     "output_type": "stream",
     "text": [
      "\r",
      " 79%|███████▉  | 79.0/100 [03:22<00:50,  2.41s/it]"
     ]
    },
    {
     "name": "stdout",
     "output_type": "stream",
     "text": [
      "LABEL: T-shirt\n",
      "EPOCH 79: 2.32249 sec\n",
      "Critic loss: -0.16011\n",
      "Generator loss: -2.63253\n",
      "\n"
     ]
    },
    {
     "name": "stderr",
     "output_type": "stream",
     "text": [
      "\r",
      " 80%|████████  | 80.0/100 [03:24<00:48,  2.41s/it]"
     ]
    },
    {
     "name": "stdout",
     "output_type": "stream",
     "text": [
      "LABEL: T-shirt\n",
      "EPOCH 80: 2.32282 sec\n",
      "Critic loss: -0.19762\n",
      "Generator loss: -2.31850\n",
      "\n"
     ]
    },
    {
     "name": "stderr",
     "output_type": "stream",
     "text": [
      "\r",
      " 81%|████████  | 81.0/100 [03:27<00:45,  2.41s/it]"
     ]
    },
    {
     "name": "stdout",
     "output_type": "stream",
     "text": [
      "LABEL: T-shirt\n",
      "EPOCH 81: 2.32084 sec\n",
      "Critic loss: -0.17938\n",
      "Generator loss: -2.42127\n",
      "\n",
      "INFO:tensorflow:Assets written to: models/05-05-21_11:26:10/T-shirt/generator/assets\n",
      "INFO:tensorflow:Assets written to: models/05-05-21_11:26:10/T-shirt/critic/assets\n"
     ]
    },
    {
     "name": "stderr",
     "output_type": "stream",
     "text": [
      "\r",
      " 82%|████████▏ | 82.0/100 [03:31<00:51,  2.86s/it]"
     ]
    },
    {
     "name": "stdout",
     "output_type": "stream",
     "text": [
      "LABEL: T-shirt\n",
      "EPOCH 82: 2.32215 sec\n",
      "Critic loss: -0.21831\n",
      "Generator loss: -2.44484\n",
      "\n"
     ]
    },
    {
     "name": "stderr",
     "output_type": "stream",
     "text": [
      "\r",
      " 83%|████████▎ | 83.0/100 [03:33<00:46,  2.73s/it]"
     ]
    },
    {
     "name": "stdout",
     "output_type": "stream",
     "text": [
      "LABEL: T-shirt\n",
      "EPOCH 83: 2.32197 sec\n",
      "Critic loss: -0.07647\n",
      "Generator loss: -2.44013\n",
      "\n"
     ]
    },
    {
     "name": "stderr",
     "output_type": "stream",
     "text": [
      "\r",
      " 84%|████████▍ | 84.0/100 [03:36<00:42,  2.63s/it]"
     ]
    },
    {
     "name": "stdout",
     "output_type": "stream",
     "text": [
      "LABEL: T-shirt\n",
      "EPOCH 84: 2.32096 sec\n",
      "Critic loss: -0.15193\n",
      "Generator loss: -2.17449\n",
      "\n"
     ]
    },
    {
     "name": "stderr",
     "output_type": "stream",
     "text": [
      "\r",
      " 85%|████████▌ | 85.0/100 [03:38<00:38,  2.56s/it]"
     ]
    },
    {
     "name": "stdout",
     "output_type": "stream",
     "text": [
      "LABEL: T-shirt\n",
      "EPOCH 85: 2.32369 sec\n",
      "Critic loss: -0.14174\n",
      "Generator loss: -2.09333\n",
      "\n"
     ]
    },
    {
     "name": "stderr",
     "output_type": "stream",
     "text": [
      "\r",
      " 86%|████████▌ | 86.0/100 [03:40<00:35,  2.52s/it]"
     ]
    },
    {
     "name": "stdout",
     "output_type": "stream",
     "text": [
      "LABEL: T-shirt\n",
      "EPOCH 86: 2.32481 sec\n",
      "Critic loss: -0.16749\n",
      "Generator loss: -1.99930\n",
      "\n"
     ]
    },
    {
     "name": "stderr",
     "output_type": "stream",
     "text": [
      "\r",
      " 87%|████████▋ | 87.0/100 [03:43<00:32,  2.48s/it]"
     ]
    },
    {
     "name": "stdout",
     "output_type": "stream",
     "text": [
      "LABEL: T-shirt\n",
      "EPOCH 87: 2.32204 sec\n",
      "Critic loss: -0.16696\n",
      "Generator loss: -2.17568\n",
      "\n"
     ]
    },
    {
     "name": "stderr",
     "output_type": "stream",
     "text": [
      "\r",
      " 88%|████████▊ | 88.0/100 [03:45<00:29,  2.46s/it]"
     ]
    },
    {
     "name": "stdout",
     "output_type": "stream",
     "text": [
      "LABEL: T-shirt\n",
      "EPOCH 88: 2.32213 sec\n",
      "Critic loss: -0.07249\n",
      "Generator loss: -1.56869\n",
      "\n"
     ]
    },
    {
     "name": "stderr",
     "output_type": "stream",
     "text": [
      "\r",
      " 89%|████████▉ | 89.0/100 [03:48<00:26,  2.44s/it]"
     ]
    },
    {
     "name": "stdout",
     "output_type": "stream",
     "text": [
      "LABEL: T-shirt\n",
      "EPOCH 89: 2.32358 sec\n",
      "Critic loss: -0.21109\n",
      "Generator loss: -1.83462\n",
      "\n"
     ]
    },
    {
     "name": "stderr",
     "output_type": "stream",
     "text": [
      "\r",
      " 90%|█████████ | 90.0/100 [03:50<00:24,  2.43s/it]"
     ]
    },
    {
     "name": "stdout",
     "output_type": "stream",
     "text": [
      "LABEL: T-shirt\n",
      "EPOCH 90: 2.32151 sec\n",
      "Critic loss: -0.11823\n",
      "Generator loss: -1.70412\n",
      "\n"
     ]
    },
    {
     "name": "stderr",
     "output_type": "stream",
     "text": [
      "\r",
      " 91%|█████████ | 91.0/100 [03:52<00:21,  2.42s/it]"
     ]
    },
    {
     "name": "stdout",
     "output_type": "stream",
     "text": [
      "LABEL: T-shirt\n",
      "EPOCH 91: 2.32217 sec\n",
      "Critic loss: -0.10185\n",
      "Generator loss: -1.42611\n",
      "\n"
     ]
    },
    {
     "name": "stderr",
     "output_type": "stream",
     "text": [
      "\r",
      " 92%|█████████▏| 92.0/100 [03:55<00:19,  2.42s/it]"
     ]
    },
    {
     "name": "stdout",
     "output_type": "stream",
     "text": [
      "LABEL: T-shirt\n",
      "EPOCH 92: 2.32345 sec\n",
      "Critic loss: -0.13603\n",
      "Generator loss: -1.37629\n",
      "\n"
     ]
    },
    {
     "name": "stderr",
     "output_type": "stream",
     "text": [
      "\r",
      " 93%|█████████▎| 93.0/100 [03:57<00:16,  2.42s/it]"
     ]
    },
    {
     "name": "stdout",
     "output_type": "stream",
     "text": [
      "LABEL: T-shirt\n",
      "EPOCH 93: 2.32449 sec\n",
      "Critic loss: -0.15527\n",
      "Generator loss: -1.56246\n",
      "\n"
     ]
    },
    {
     "name": "stderr",
     "output_type": "stream",
     "text": [
      "\r",
      " 94%|█████████▍| 94.0/100 [04:00<00:14,  2.41s/it]"
     ]
    },
    {
     "name": "stdout",
     "output_type": "stream",
     "text": [
      "LABEL: T-shirt\n",
      "EPOCH 94: 2.32263 sec\n",
      "Critic loss: -0.14629\n",
      "Generator loss: -1.18694\n",
      "\n"
     ]
    },
    {
     "name": "stderr",
     "output_type": "stream",
     "text": [
      "\r",
      " 95%|█████████▌| 95.0/100 [04:02<00:12,  2.41s/it]"
     ]
    },
    {
     "name": "stdout",
     "output_type": "stream",
     "text": [
      "LABEL: T-shirt\n",
      "EPOCH 95: 2.32114 sec\n",
      "Critic loss: -0.09129\n",
      "Generator loss: -1.12078\n",
      "\n"
     ]
    },
    {
     "name": "stderr",
     "output_type": "stream",
     "text": [
      "\r",
      " 96%|█████████▌| 96.0/100 [04:04<00:09,  2.41s/it]"
     ]
    },
    {
     "name": "stdout",
     "output_type": "stream",
     "text": [
      "LABEL: T-shirt\n",
      "EPOCH 96: 2.32390 sec\n",
      "Critic loss: -0.12228\n",
      "Generator loss: -0.99944\n",
      "\n"
     ]
    },
    {
     "name": "stderr",
     "output_type": "stream",
     "text": [
      "\r",
      " 97%|█████████▋| 97.0/100 [04:07<00:07,  2.41s/it]"
     ]
    },
    {
     "name": "stdout",
     "output_type": "stream",
     "text": [
      "LABEL: T-shirt\n",
      "EPOCH 97: 2.32191 sec\n",
      "Critic loss: -0.07953\n",
      "Generator loss: -1.12645\n",
      "\n"
     ]
    },
    {
     "name": "stderr",
     "output_type": "stream",
     "text": [
      "\r",
      " 98%|█████████▊| 98.0/100 [04:09<00:04,  2.41s/it]"
     ]
    },
    {
     "name": "stdout",
     "output_type": "stream",
     "text": [
      "LABEL: T-shirt\n",
      "EPOCH 98: 2.32511 sec\n",
      "Critic loss: -0.09623\n",
      "Generator loss: -0.56791\n",
      "\n"
     ]
    },
    {
     "name": "stderr",
     "output_type": "stream",
     "text": [
      "\r",
      " 99%|█████████▉| 99.0/100 [04:12<00:02,  2.41s/it]"
     ]
    },
    {
     "name": "stdout",
     "output_type": "stream",
     "text": [
      "LABEL: T-shirt\n",
      "EPOCH 99: 2.32106 sec\n",
      "Critic loss: -0.18888\n",
      "Generator loss: -0.45975\n",
      "\n"
     ]
    },
    {
     "name": "stderr",
     "output_type": "stream",
     "text": [
      "100%|██████████| 100.0/100 [04:14<00:00,  2.55s/it]\n",
      "  0%|          | 0/100 [00:00<?, ?it/s]"
     ]
    },
    {
     "name": "stdout",
     "output_type": "stream",
     "text": [
      "LABEL: T-shirt\n",
      "EPOCH 100: 2.32446 sec\n",
      "Critic loss: -0.13093\n",
      "Generator loss: -0.91196\n",
      "\n",
      "----------- TRAINING TO GENERATE **Trousers** -----------\n"
     ]
    },
    {
     "name": "stderr",
     "output_type": "stream",
     "text": [
      "\r",
      "  1%|          | 1.0/100 [00:05<09:08,  5.54s/it]"
     ]
    },
    {
     "name": "stdout",
     "output_type": "stream",
     "text": [
      "LABEL: Trousers\n",
      "EPOCH 1: 5.53999 sec\n",
      "Critic loss: -3.09185\n",
      "Generator loss: -2.05791\n",
      "\n",
      "INFO:tensorflow:Assets written to: models/05-05-21_11:26:10/Trousers/generator/assets\n",
      "INFO:tensorflow:Assets written to: models/05-05-21_11:26:10/Trousers/critic/assets\n"
     ]
    },
    {
     "name": "stderr",
     "output_type": "stream",
     "text": [
      "\r",
      "  2%|▏         | 2.0/100 [00:09<07:24,  4.54s/it]"
     ]
    },
    {
     "name": "stdout",
     "output_type": "stream",
     "text": [
      "LABEL: Trousers\n",
      "EPOCH 2: 2.32457 sec\n",
      "Critic loss: -2.93480\n",
      "Generator loss: -1.49045\n",
      "\n"
     ]
    },
    {
     "name": "stderr",
     "output_type": "stream",
     "text": [
      "\r",
      "  3%|▎         | 3.0/100 [00:11<05:45,  3.57s/it]"
     ]
    },
    {
     "name": "stdout",
     "output_type": "stream",
     "text": [
      "LABEL: Trousers\n",
      "EPOCH 3: 2.32495 sec\n",
      "Critic loss: -2.82771\n",
      "Generator loss: -0.83999\n",
      "\n"
     ]
    },
    {
     "name": "stderr",
     "output_type": "stream",
     "text": [
      "\r",
      "  4%|▍         | 4.0/100 [00:14<04:58,  3.11s/it]"
     ]
    },
    {
     "name": "stdout",
     "output_type": "stream",
     "text": [
      "LABEL: Trousers\n",
      "EPOCH 4: 2.32619 sec\n",
      "Critic loss: -2.69636\n",
      "Generator loss: -0.11657\n",
      "\n"
     ]
    },
    {
     "name": "stderr",
     "output_type": "stream",
     "text": [
      "\r",
      "  5%|▌         | 5.0/100 [00:16<04:31,  2.86s/it]"
     ]
    },
    {
     "name": "stdout",
     "output_type": "stream",
     "text": [
      "LABEL: Trousers\n",
      "EPOCH 5: 2.32398 sec\n",
      "Critic loss: -2.59583\n",
      "Generator loss: -0.21427\n",
      "\n"
     ]
    },
    {
     "name": "stderr",
     "output_type": "stream",
     "text": [
      "\r",
      "  6%|▌         | 6.0/100 [00:19<04:14,  2.70s/it]"
     ]
    },
    {
     "name": "stdout",
     "output_type": "stream",
     "text": [
      "LABEL: Trousers\n",
      "EPOCH 6: 2.32535 sec\n",
      "Critic loss: -2.90486\n",
      "Generator loss: -0.15191\n",
      "\n"
     ]
    },
    {
     "name": "stderr",
     "output_type": "stream",
     "text": [
      "\r",
      "  7%|▋         | 7.0/100 [00:21<04:02,  2.61s/it]"
     ]
    },
    {
     "name": "stdout",
     "output_type": "stream",
     "text": [
      "LABEL: Trousers\n",
      "EPOCH 7: 2.32328 sec\n",
      "Critic loss: -2.29475\n",
      "Generator loss: -1.21038\n",
      "\n"
     ]
    },
    {
     "name": "stderr",
     "output_type": "stream",
     "text": [
      "\r",
      "  8%|▊         | 8.0/100 [00:23<03:54,  2.54s/it]"
     ]
    },
    {
     "name": "stdout",
     "output_type": "stream",
     "text": [
      "LABEL: Trousers\n",
      "EPOCH 8: 2.32453 sec\n",
      "Critic loss: -2.10790\n",
      "Generator loss: -3.10240\n",
      "\n"
     ]
    },
    {
     "name": "stderr",
     "output_type": "stream",
     "text": [
      "\r",
      "  9%|▉         | 9.0/100 [00:26<03:47,  2.50s/it]"
     ]
    },
    {
     "name": "stdout",
     "output_type": "stream",
     "text": [
      "LABEL: Trousers\n",
      "EPOCH 9: 2.32350 sec\n",
      "Critic loss: -2.08385\n",
      "Generator loss: -3.86863\n",
      "\n"
     ]
    },
    {
     "name": "stderr",
     "output_type": "stream",
     "text": [
      "\r",
      " 10%|█         | 10.0/100 [00:28<03:42,  2.47s/it]"
     ]
    },
    {
     "name": "stdout",
     "output_type": "stream",
     "text": [
      "LABEL: Trousers\n",
      "EPOCH 10: 2.32163 sec\n",
      "Critic loss: -1.81244\n",
      "Generator loss: -2.96278\n",
      "\n"
     ]
    },
    {
     "name": "stderr",
     "output_type": "stream",
     "text": [
      "\r",
      " 11%|█         | 11.0/100 [00:31<03:38,  2.45s/it]"
     ]
    },
    {
     "name": "stdout",
     "output_type": "stream",
     "text": [
      "LABEL: Trousers\n",
      "EPOCH 11: 2.32300 sec\n",
      "Critic loss: -1.71082\n",
      "Generator loss: -2.74088\n",
      "\n"
     ]
    },
    {
     "name": "stderr",
     "output_type": "stream",
     "text": [
      "\r",
      " 12%|█▏        | 12.0/100 [00:33<03:34,  2.44s/it]"
     ]
    },
    {
     "name": "stdout",
     "output_type": "stream",
     "text": [
      "LABEL: Trousers\n",
      "EPOCH 12: 2.32617 sec\n",
      "Critic loss: -1.95285\n",
      "Generator loss: -2.32188\n",
      "\n"
     ]
    },
    {
     "name": "stderr",
     "output_type": "stream",
     "text": [
      "\r",
      " 13%|█▎        | 13.0/100 [00:35<03:31,  2.43s/it]"
     ]
    },
    {
     "name": "stdout",
     "output_type": "stream",
     "text": [
      "LABEL: Trousers\n",
      "EPOCH 13: 2.32459 sec\n",
      "Critic loss: -1.81964\n",
      "Generator loss: -2.22133\n",
      "\n"
     ]
    },
    {
     "name": "stderr",
     "output_type": "stream",
     "text": [
      "\r",
      " 14%|█▍        | 14.0/100 [00:38<03:28,  2.42s/it]"
     ]
    },
    {
     "name": "stdout",
     "output_type": "stream",
     "text": [
      "LABEL: Trousers\n",
      "EPOCH 14: 2.32429 sec\n",
      "Critic loss: -1.56954\n",
      "Generator loss: -1.12064\n",
      "\n"
     ]
    },
    {
     "name": "stderr",
     "output_type": "stream",
     "text": [
      "\r",
      " 15%|█▌        | 15.0/100 [00:40<03:25,  2.42s/it]"
     ]
    },
    {
     "name": "stdout",
     "output_type": "stream",
     "text": [
      "LABEL: Trousers\n",
      "EPOCH 15: 2.32121 sec\n",
      "Critic loss: -1.58225\n",
      "Generator loss: -0.44649\n",
      "\n"
     ]
    },
    {
     "name": "stderr",
     "output_type": "stream",
     "text": [
      "\r",
      " 16%|█▌        | 16.0/100 [00:43<03:22,  2.42s/it]"
     ]
    },
    {
     "name": "stdout",
     "output_type": "stream",
     "text": [
      "LABEL: Trousers\n",
      "EPOCH 16: 2.32668 sec\n",
      "Critic loss: -1.18318\n",
      "Generator loss: -0.37964\n",
      "\n"
     ]
    },
    {
     "name": "stderr",
     "output_type": "stream",
     "text": [
      "\r",
      " 17%|█▋        | 17.0/100 [00:45<03:20,  2.41s/it]"
     ]
    },
    {
     "name": "stdout",
     "output_type": "stream",
     "text": [
      "LABEL: Trousers\n",
      "EPOCH 17: 2.32314 sec\n",
      "Critic loss: -0.98532\n",
      "Generator loss: -0.15982\n",
      "\n"
     ]
    },
    {
     "name": "stderr",
     "output_type": "stream",
     "text": [
      "\r",
      " 18%|█▊        | 18.0/100 [00:47<03:17,  2.41s/it]"
     ]
    },
    {
     "name": "stdout",
     "output_type": "stream",
     "text": [
      "LABEL: Trousers\n",
      "EPOCH 18: 2.32471 sec\n",
      "Critic loss: -0.85409\n",
      "Generator loss: -0.46472\n",
      "\n"
     ]
    },
    {
     "name": "stderr",
     "output_type": "stream",
     "text": [
      "\r",
      " 19%|█▉        | 19.0/100 [00:50<03:15,  2.41s/it]"
     ]
    },
    {
     "name": "stdout",
     "output_type": "stream",
     "text": [
      "LABEL: Trousers\n",
      "EPOCH 19: 2.32241 sec\n",
      "Critic loss: -0.89288\n",
      "Generator loss: 0.07392\n",
      "\n"
     ]
    },
    {
     "name": "stderr",
     "output_type": "stream",
     "text": [
      "\r",
      " 20%|██        | 20.0/100 [00:52<03:12,  2.41s/it]"
     ]
    },
    {
     "name": "stdout",
     "output_type": "stream",
     "text": [
      "LABEL: Trousers\n",
      "EPOCH 20: 2.32640 sec\n",
      "Critic loss: -0.59657\n",
      "Generator loss: 0.81143\n",
      "\n"
     ]
    },
    {
     "name": "stderr",
     "output_type": "stream",
     "text": [
      "\r",
      " 21%|██        | 21.0/100 [00:55<03:10,  2.41s/it]"
     ]
    },
    {
     "name": "stdout",
     "output_type": "stream",
     "text": [
      "LABEL: Trousers\n",
      "EPOCH 21: 2.32621 sec\n",
      "Critic loss: -0.65814\n",
      "Generator loss: 1.19732\n",
      "\n",
      "INFO:tensorflow:Assets written to: models/05-05-21_11:26:10/Trousers/generator/assets\n",
      "INFO:tensorflow:Assets written to: models/05-05-21_11:26:10/Trousers/critic/assets\n"
     ]
    },
    {
     "name": "stderr",
     "output_type": "stream",
     "text": [
      "\r",
      " 22%|██▏       | 22.0/100 [00:58<03:41,  2.84s/it]"
     ]
    },
    {
     "name": "stdout",
     "output_type": "stream",
     "text": [
      "LABEL: Trousers\n",
      "EPOCH 22: 2.32359 sec\n",
      "Critic loss: -0.63496\n",
      "Generator loss: 1.22460\n",
      "\n"
     ]
    },
    {
     "name": "stderr",
     "output_type": "stream",
     "text": [
      "\r",
      " 23%|██▎       | 23.0/100 [01:01<03:28,  2.71s/it]"
     ]
    },
    {
     "name": "stdout",
     "output_type": "stream",
     "text": [
      "LABEL: Trousers\n",
      "EPOCH 23: 2.32376 sec\n",
      "Critic loss: -0.52751\n",
      "Generator loss: 0.66479\n",
      "\n"
     ]
    },
    {
     "name": "stderr",
     "output_type": "stream",
     "text": [
      "\r",
      " 24%|██▍       | 24.0/100 [01:03<03:19,  2.62s/it]"
     ]
    },
    {
     "name": "stdout",
     "output_type": "stream",
     "text": [
      "LABEL: Trousers\n",
      "EPOCH 24: 2.32413 sec\n",
      "Critic loss: -0.63610\n",
      "Generator loss: 0.34899\n",
      "\n"
     ]
    },
    {
     "name": "stderr",
     "output_type": "stream",
     "text": [
      "\r",
      " 25%|██▌       | 25.0/100 [01:06<03:11,  2.56s/it]"
     ]
    },
    {
     "name": "stdout",
     "output_type": "stream",
     "text": [
      "LABEL: Trousers\n",
      "EPOCH 25: 2.32416 sec\n",
      "Critic loss: -0.41012\n",
      "Generator loss: 0.53140\n",
      "\n"
     ]
    },
    {
     "name": "stderr",
     "output_type": "stream",
     "text": [
      "\r",
      " 26%|██▌       | 26.0/100 [01:08<03:06,  2.51s/it]"
     ]
    },
    {
     "name": "stdout",
     "output_type": "stream",
     "text": [
      "LABEL: Trousers\n",
      "EPOCH 26: 2.33525 sec\n",
      "Critic loss: -0.42694\n",
      "Generator loss: 0.63983\n",
      "\n"
     ]
    },
    {
     "name": "stderr",
     "output_type": "stream",
     "text": [
      "\r",
      " 27%|██▋       | 27.0/100 [01:11<03:01,  2.48s/it]"
     ]
    },
    {
     "name": "stdout",
     "output_type": "stream",
     "text": [
      "LABEL: Trousers\n",
      "EPOCH 27: 2.32345 sec\n",
      "Critic loss: -0.36525\n",
      "Generator loss: -0.56228\n",
      "\n"
     ]
    },
    {
     "name": "stderr",
     "output_type": "stream",
     "text": [
      "\r",
      " 28%|██▊       | 28.0/100 [01:13<02:57,  2.46s/it]"
     ]
    },
    {
     "name": "stdout",
     "output_type": "stream",
     "text": [
      "LABEL: Trousers\n",
      "EPOCH 28: 2.32348 sec\n",
      "Critic loss: -0.30372\n",
      "Generator loss: -1.53250\n",
      "\n"
     ]
    },
    {
     "name": "stderr",
     "output_type": "stream",
     "text": [
      "\r",
      " 29%|██▉       | 29.0/100 [01:15<02:53,  2.44s/it]"
     ]
    },
    {
     "name": "stdout",
     "output_type": "stream",
     "text": [
      "LABEL: Trousers\n",
      "EPOCH 29: 2.32262 sec\n",
      "Critic loss: -0.24512\n",
      "Generator loss: -1.89691\n",
      "\n"
     ]
    },
    {
     "name": "stderr",
     "output_type": "stream",
     "text": [
      "\r",
      " 30%|███       | 30.0/100 [01:18<02:50,  2.43s/it]"
     ]
    },
    {
     "name": "stdout",
     "output_type": "stream",
     "text": [
      "LABEL: Trousers\n",
      "EPOCH 30: 2.32416 sec\n",
      "Critic loss: -0.24153\n",
      "Generator loss: -2.01727\n",
      "\n"
     ]
    },
    {
     "name": "stderr",
     "output_type": "stream",
     "text": [
      "\r",
      " 31%|███       | 31.0/100 [01:20<02:47,  2.42s/it]"
     ]
    },
    {
     "name": "stdout",
     "output_type": "stream",
     "text": [
      "LABEL: Trousers\n",
      "EPOCH 31: 2.32382 sec\n",
      "Critic loss: -0.17952\n",
      "Generator loss: -2.22200\n",
      "\n"
     ]
    },
    {
     "name": "stderr",
     "output_type": "stream",
     "text": [
      "\r",
      " 32%|███▏      | 32.0/100 [01:23<02:44,  2.42s/it]"
     ]
    },
    {
     "name": "stdout",
     "output_type": "stream",
     "text": [
      "LABEL: Trousers\n",
      "EPOCH 32: 2.32423 sec\n",
      "Critic loss: -0.20573\n",
      "Generator loss: -2.53015\n",
      "\n"
     ]
    },
    {
     "name": "stderr",
     "output_type": "stream",
     "text": [
      "\r",
      " 33%|███▎      | 33.0/100 [01:25<02:41,  2.42s/it]"
     ]
    },
    {
     "name": "stdout",
     "output_type": "stream",
     "text": [
      "LABEL: Trousers\n",
      "EPOCH 33: 2.32323 sec\n",
      "Critic loss: -0.21246\n",
      "Generator loss: -2.42698\n",
      "\n"
     ]
    },
    {
     "name": "stderr",
     "output_type": "stream",
     "text": [
      "\r",
      " 34%|███▍      | 34.0/100 [01:27<02:39,  2.41s/it]"
     ]
    },
    {
     "name": "stdout",
     "output_type": "stream",
     "text": [
      "LABEL: Trousers\n",
      "EPOCH 34: 2.32524 sec\n",
      "Critic loss: -0.18999\n",
      "Generator loss: -2.63476\n",
      "\n"
     ]
    },
    {
     "name": "stderr",
     "output_type": "stream",
     "text": [
      "\r",
      " 35%|███▌      | 35.0/100 [01:30<02:36,  2.41s/it]"
     ]
    },
    {
     "name": "stdout",
     "output_type": "stream",
     "text": [
      "LABEL: Trousers\n",
      "EPOCH 35: 2.32399 sec\n",
      "Critic loss: -0.23700\n",
      "Generator loss: -2.61623\n",
      "\n"
     ]
    },
    {
     "name": "stderr",
     "output_type": "stream",
     "text": [
      "\r",
      " 36%|███▌      | 36.0/100 [01:32<02:34,  2.41s/it]"
     ]
    },
    {
     "name": "stdout",
     "output_type": "stream",
     "text": [
      "LABEL: Trousers\n",
      "EPOCH 36: 2.32143 sec\n",
      "Critic loss: -0.20801\n",
      "Generator loss: -3.09246\n",
      "\n"
     ]
    },
    {
     "name": "stderr",
     "output_type": "stream",
     "text": [
      "\r",
      " 37%|███▋      | 37.0/100 [01:35<02:31,  2.41s/it]"
     ]
    },
    {
     "name": "stdout",
     "output_type": "stream",
     "text": [
      "LABEL: Trousers\n",
      "EPOCH 37: 2.32586 sec\n",
      "Critic loss: -0.17469\n",
      "Generator loss: -3.95708\n",
      "\n"
     ]
    },
    {
     "name": "stderr",
     "output_type": "stream",
     "text": [
      "\r",
      " 38%|███▊      | 38.0/100 [01:37<02:29,  2.41s/it]"
     ]
    },
    {
     "name": "stdout",
     "output_type": "stream",
     "text": [
      "LABEL: Trousers\n",
      "EPOCH 38: 2.32271 sec\n",
      "Critic loss: -0.15344\n",
      "Generator loss: -3.74998\n",
      "\n"
     ]
    },
    {
     "name": "stderr",
     "output_type": "stream",
     "text": [
      "\r",
      " 39%|███▉      | 39.0/100 [01:39<02:26,  2.41s/it]"
     ]
    },
    {
     "name": "stdout",
     "output_type": "stream",
     "text": [
      "LABEL: Trousers\n",
      "EPOCH 39: 2.32804 sec\n",
      "Critic loss: -0.16646\n",
      "Generator loss: -4.44613\n",
      "\n"
     ]
    },
    {
     "name": "stderr",
     "output_type": "stream",
     "text": [
      "\r",
      " 40%|████      | 40.0/100 [01:42<02:24,  2.41s/it]"
     ]
    },
    {
     "name": "stdout",
     "output_type": "stream",
     "text": [
      "LABEL: Trousers\n",
      "EPOCH 40: 2.32583 sec\n",
      "Critic loss: -0.16719\n",
      "Generator loss: -4.76353\n",
      "\n"
     ]
    },
    {
     "name": "stderr",
     "output_type": "stream",
     "text": [
      "\r",
      " 41%|████      | 41.0/100 [01:44<02:22,  2.41s/it]"
     ]
    },
    {
     "name": "stdout",
     "output_type": "stream",
     "text": [
      "LABEL: Trousers\n",
      "EPOCH 41: 2.32407 sec\n",
      "Critic loss: -0.16291\n",
      "Generator loss: -4.72498\n",
      "\n",
      "INFO:tensorflow:Assets written to: models/05-05-21_11:26:10/Trousers/generator/assets\n",
      "INFO:tensorflow:Assets written to: models/05-05-21_11:26:10/Trousers/critic/assets\n"
     ]
    },
    {
     "name": "stderr",
     "output_type": "stream",
     "text": [
      "\r",
      " 42%|████▏     | 42.0/100 [01:48<02:45,  2.86s/it]"
     ]
    },
    {
     "name": "stdout",
     "output_type": "stream",
     "text": [
      "LABEL: Trousers\n",
      "EPOCH 42: 2.32239 sec\n",
      "Critic loss: -0.22992\n",
      "Generator loss: -4.15133\n",
      "\n"
     ]
    },
    {
     "name": "stderr",
     "output_type": "stream",
     "text": [
      "\r",
      " 43%|████▎     | 43.0/100 [01:51<02:35,  2.72s/it]"
     ]
    },
    {
     "name": "stdout",
     "output_type": "stream",
     "text": [
      "LABEL: Trousers\n",
      "EPOCH 43: 2.32325 sec\n",
      "Critic loss: -0.21193\n",
      "Generator loss: -5.30152\n",
      "\n"
     ]
    },
    {
     "name": "stderr",
     "output_type": "stream",
     "text": [
      "\r",
      " 44%|████▍     | 44.0/100 [01:53<02:27,  2.63s/it]"
     ]
    },
    {
     "name": "stdout",
     "output_type": "stream",
     "text": [
      "LABEL: Trousers\n",
      "EPOCH 44: 2.32663 sec\n",
      "Critic loss: -0.21714\n",
      "Generator loss: -5.97851\n",
      "\n"
     ]
    },
    {
     "name": "stderr",
     "output_type": "stream",
     "text": [
      "\r",
      " 45%|████▌     | 45.0/100 [01:55<02:20,  2.56s/it]"
     ]
    },
    {
     "name": "stdout",
     "output_type": "stream",
     "text": [
      "LABEL: Trousers\n",
      "EPOCH 45: 2.32597 sec\n",
      "Critic loss: -0.18750\n",
      "Generator loss: -5.76414\n",
      "\n"
     ]
    },
    {
     "name": "stderr",
     "output_type": "stream",
     "text": [
      "\r",
      " 46%|████▌     | 46.0/100 [01:58<02:15,  2.52s/it]"
     ]
    },
    {
     "name": "stdout",
     "output_type": "stream",
     "text": [
      "LABEL: Trousers\n",
      "EPOCH 46: 2.32493 sec\n",
      "Critic loss: -0.19650\n",
      "Generator loss: -5.83020\n",
      "\n"
     ]
    },
    {
     "name": "stderr",
     "output_type": "stream",
     "text": [
      "\r",
      " 47%|████▋     | 47.0/100 [02:00<02:11,  2.49s/it]"
     ]
    },
    {
     "name": "stdout",
     "output_type": "stream",
     "text": [
      "LABEL: Trousers\n",
      "EPOCH 47: 2.34283 sec\n",
      "Critic loss: -0.12565\n",
      "Generator loss: -6.39492\n",
      "\n"
     ]
    },
    {
     "name": "stderr",
     "output_type": "stream",
     "text": [
      "\r",
      " 48%|████▊     | 48.0/100 [02:03<02:08,  2.47s/it]"
     ]
    },
    {
     "name": "stdout",
     "output_type": "stream",
     "text": [
      "LABEL: Trousers\n",
      "EPOCH 48: 2.32871 sec\n",
      "Critic loss: -0.12400\n",
      "Generator loss: -6.01382\n",
      "\n"
     ]
    },
    {
     "name": "stderr",
     "output_type": "stream",
     "text": [
      "\r",
      " 49%|████▉     | 49.0/100 [02:05<02:04,  2.45s/it]"
     ]
    },
    {
     "name": "stdout",
     "output_type": "stream",
     "text": [
      "LABEL: Trousers\n",
      "EPOCH 49: 2.32519 sec\n",
      "Critic loss: -0.07647\n",
      "Generator loss: -6.33046\n",
      "\n"
     ]
    },
    {
     "name": "stderr",
     "output_type": "stream",
     "text": [
      "\r",
      " 50%|█████     | 50.0/100 [02:07<02:01,  2.44s/it]"
     ]
    },
    {
     "name": "stdout",
     "output_type": "stream",
     "text": [
      "LABEL: Trousers\n",
      "EPOCH 50: 2.32241 sec\n",
      "Critic loss: -0.18014\n",
      "Generator loss: -6.45379\n",
      "\n"
     ]
    },
    {
     "name": "stderr",
     "output_type": "stream",
     "text": [
      "\r",
      " 51%|█████     | 51.0/100 [02:10<01:58,  2.43s/it]"
     ]
    },
    {
     "name": "stdout",
     "output_type": "stream",
     "text": [
      "LABEL: Trousers\n",
      "EPOCH 51: 2.32195 sec\n",
      "Critic loss: -0.10995\n",
      "Generator loss: -6.17718\n",
      "\n"
     ]
    },
    {
     "name": "stderr",
     "output_type": "stream",
     "text": [
      "\r",
      " 52%|█████▏    | 52.0/100 [02:12<01:56,  2.42s/it]"
     ]
    },
    {
     "name": "stdout",
     "output_type": "stream",
     "text": [
      "LABEL: Trousers\n",
      "EPOCH 52: 2.32497 sec\n",
      "Critic loss: -0.19739\n",
      "Generator loss: -6.71366\n",
      "\n"
     ]
    },
    {
     "name": "stderr",
     "output_type": "stream",
     "text": [
      "\r",
      " 53%|█████▎    | 53.0/100 [02:15<01:53,  2.42s/it]"
     ]
    },
    {
     "name": "stdout",
     "output_type": "stream",
     "text": [
      "LABEL: Trousers\n",
      "EPOCH 53: 2.32316 sec\n",
      "Critic loss: -0.24771\n",
      "Generator loss: -6.59641\n",
      "\n"
     ]
    },
    {
     "name": "stderr",
     "output_type": "stream",
     "text": [
      "\r",
      " 54%|█████▍    | 54.0/100 [02:17<01:51,  2.41s/it]"
     ]
    },
    {
     "name": "stdout",
     "output_type": "stream",
     "text": [
      "LABEL: Trousers\n",
      "EPOCH 54: 2.32510 sec\n",
      "Critic loss: -0.20323\n",
      "Generator loss: -7.40373\n",
      "\n"
     ]
    },
    {
     "name": "stderr",
     "output_type": "stream",
     "text": [
      "\r",
      " 55%|█████▌    | 55.0/100 [02:19<01:48,  2.41s/it]"
     ]
    },
    {
     "name": "stdout",
     "output_type": "stream",
     "text": [
      "LABEL: Trousers\n",
      "EPOCH 55: 2.32344 sec\n",
      "Critic loss: -0.19314\n",
      "Generator loss: -6.79590\n",
      "\n"
     ]
    },
    {
     "name": "stderr",
     "output_type": "stream",
     "text": [
      "\r",
      " 56%|█████▌    | 56.0/100 [02:22<01:46,  2.41s/it]"
     ]
    },
    {
     "name": "stdout",
     "output_type": "stream",
     "text": [
      "LABEL: Trousers\n",
      "EPOCH 56: 2.32467 sec\n",
      "Critic loss: -0.19551\n",
      "Generator loss: -6.82724\n",
      "\n"
     ]
    },
    {
     "name": "stderr",
     "output_type": "stream",
     "text": [
      "\r",
      " 57%|█████▋    | 57.0/100 [02:24<01:43,  2.41s/it]"
     ]
    },
    {
     "name": "stdout",
     "output_type": "stream",
     "text": [
      "LABEL: Trousers\n",
      "EPOCH 57: 2.32458 sec\n",
      "Critic loss: -0.17027\n",
      "Generator loss: -6.71053\n",
      "\n"
     ]
    },
    {
     "name": "stderr",
     "output_type": "stream",
     "text": [
      "\r",
      " 58%|█████▊    | 58.0/100 [02:27<01:41,  2.41s/it]"
     ]
    },
    {
     "name": "stdout",
     "output_type": "stream",
     "text": [
      "LABEL: Trousers\n",
      "EPOCH 58: 2.32343 sec\n",
      "Critic loss: -0.19654\n",
      "Generator loss: -6.61793\n",
      "\n"
     ]
    },
    {
     "name": "stderr",
     "output_type": "stream",
     "text": [
      "\r",
      " 59%|█████▉    | 59.0/100 [02:29<01:38,  2.41s/it]"
     ]
    },
    {
     "name": "stdout",
     "output_type": "stream",
     "text": [
      "LABEL: Trousers\n",
      "EPOCH 59: 2.33019 sec\n",
      "Critic loss: -0.17389\n",
      "Generator loss: -7.47733\n",
      "\n"
     ]
    },
    {
     "name": "stderr",
     "output_type": "stream",
     "text": [
      "\r",
      " 60%|██████    | 60.0/100 [02:31<01:36,  2.41s/it]"
     ]
    },
    {
     "name": "stdout",
     "output_type": "stream",
     "text": [
      "LABEL: Trousers\n",
      "EPOCH 60: 2.32265 sec\n",
      "Critic loss: -0.17232\n",
      "Generator loss: -7.35773\n",
      "\n"
     ]
    },
    {
     "name": "stderr",
     "output_type": "stream",
     "text": [
      "\r",
      " 61%|██████    | 61.0/100 [02:34<01:33,  2.41s/it]"
     ]
    },
    {
     "name": "stdout",
     "output_type": "stream",
     "text": [
      "LABEL: Trousers\n",
      "EPOCH 61: 2.32488 sec\n",
      "Critic loss: -0.19196\n",
      "Generator loss: -7.47263\n",
      "\n",
      "INFO:tensorflow:Assets written to: models/05-05-21_11:26:10/Trousers/generator/assets\n",
      "INFO:tensorflow:Assets written to: models/05-05-21_11:26:10/Trousers/critic/assets\n"
     ]
    },
    {
     "name": "stderr",
     "output_type": "stream",
     "text": [
      "\r",
      " 62%|██████▏   | 62.0/100 [02:38<01:47,  2.84s/it]"
     ]
    },
    {
     "name": "stdout",
     "output_type": "stream",
     "text": [
      "LABEL: Trousers\n",
      "EPOCH 62: 2.32315 sec\n",
      "Critic loss: -0.15684\n",
      "Generator loss: -7.50692\n",
      "\n"
     ]
    },
    {
     "name": "stderr",
     "output_type": "stream",
     "text": [
      "\r",
      " 63%|██████▎   | 63.0/100 [02:40<01:40,  2.71s/it]"
     ]
    },
    {
     "name": "stdout",
     "output_type": "stream",
     "text": [
      "LABEL: Trousers\n",
      "EPOCH 63: 2.32323 sec\n",
      "Critic loss: -0.17106\n",
      "Generator loss: -7.00531\n",
      "\n"
     ]
    },
    {
     "name": "stderr",
     "output_type": "stream",
     "text": [
      "\r",
      " 64%|██████▍   | 64.0/100 [02:43<01:34,  2.62s/it]"
     ]
    },
    {
     "name": "stdout",
     "output_type": "stream",
     "text": [
      "LABEL: Trousers\n",
      "EPOCH 64: 2.32476 sec\n",
      "Critic loss: -0.14361\n",
      "Generator loss: -7.67965\n",
      "\n"
     ]
    },
    {
     "name": "stderr",
     "output_type": "stream",
     "text": [
      "\r",
      " 65%|██████▌   | 65.0/100 [02:45<01:29,  2.56s/it]"
     ]
    },
    {
     "name": "stdout",
     "output_type": "stream",
     "text": [
      "LABEL: Trousers\n",
      "EPOCH 65: 2.32591 sec\n",
      "Critic loss: -0.18329\n",
      "Generator loss: -7.34100\n",
      "\n"
     ]
    },
    {
     "name": "stderr",
     "output_type": "stream",
     "text": [
      "\r",
      " 66%|██████▌   | 66.0/100 [02:47<01:25,  2.52s/it]"
     ]
    },
    {
     "name": "stdout",
     "output_type": "stream",
     "text": [
      "LABEL: Trousers\n",
      "EPOCH 66: 2.33684 sec\n",
      "Critic loss: -0.18891\n",
      "Generator loss: -7.57870\n",
      "\n"
     ]
    },
    {
     "name": "stderr",
     "output_type": "stream",
     "text": [
      "\r",
      " 67%|██████▋   | 67.0/100 [02:50<01:21,  2.48s/it]"
     ]
    },
    {
     "name": "stdout",
     "output_type": "stream",
     "text": [
      "LABEL: Trousers\n",
      "EPOCH 67: 2.32363 sec\n",
      "Critic loss: -0.13254\n",
      "Generator loss: -7.33774\n",
      "\n"
     ]
    },
    {
     "name": "stderr",
     "output_type": "stream",
     "text": [
      "\r",
      " 68%|██████▊   | 68.0/100 [02:52<01:18,  2.46s/it]"
     ]
    },
    {
     "name": "stdout",
     "output_type": "stream",
     "text": [
      "LABEL: Trousers\n",
      "EPOCH 68: 2.32308 sec\n",
      "Critic loss: -0.12044\n",
      "Generator loss: -7.49683\n",
      "\n"
     ]
    },
    {
     "name": "stderr",
     "output_type": "stream",
     "text": [
      "\r",
      " 69%|██████▉   | 69.0/100 [02:55<01:15,  2.45s/it]"
     ]
    },
    {
     "name": "stdout",
     "output_type": "stream",
     "text": [
      "LABEL: Trousers\n",
      "EPOCH 69: 2.32670 sec\n",
      "Critic loss: -0.15990\n",
      "Generator loss: -7.87412\n",
      "\n"
     ]
    },
    {
     "name": "stderr",
     "output_type": "stream",
     "text": [
      "\r",
      " 70%|███████   | 70.0/100 [02:57<01:13,  2.43s/it]"
     ]
    },
    {
     "name": "stdout",
     "output_type": "stream",
     "text": [
      "LABEL: Trousers\n",
      "EPOCH 70: 2.32422 sec\n",
      "Critic loss: -0.11811\n",
      "Generator loss: -7.28514\n",
      "\n"
     ]
    },
    {
     "name": "stderr",
     "output_type": "stream",
     "text": [
      "\r",
      " 71%|███████   | 71.0/100 [02:59<01:10,  2.43s/it]"
     ]
    },
    {
     "name": "stdout",
     "output_type": "stream",
     "text": [
      "LABEL: Trousers\n",
      "EPOCH 71: 2.32868 sec\n",
      "Critic loss: -0.14900\n",
      "Generator loss: -7.04979\n",
      "\n"
     ]
    },
    {
     "name": "stderr",
     "output_type": "stream",
     "text": [
      "\r",
      " 72%|███████▏  | 72.0/100 [03:02<01:07,  2.42s/it]"
     ]
    },
    {
     "name": "stdout",
     "output_type": "stream",
     "text": [
      "LABEL: Trousers\n",
      "EPOCH 72: 2.32358 sec\n",
      "Critic loss: -0.12463\n",
      "Generator loss: -7.25294\n",
      "\n"
     ]
    },
    {
     "name": "stderr",
     "output_type": "stream",
     "text": [
      "\r",
      " 73%|███████▎  | 73.0/100 [03:04<01:05,  2.42s/it]"
     ]
    },
    {
     "name": "stdout",
     "output_type": "stream",
     "text": [
      "LABEL: Trousers\n",
      "EPOCH 73: 2.32822 sec\n",
      "Critic loss: -0.10305\n",
      "Generator loss: -7.32367\n",
      "\n"
     ]
    },
    {
     "name": "stderr",
     "output_type": "stream",
     "text": [
      "\r",
      " 74%|███████▍  | 74.0/100 [03:07<01:02,  2.42s/it]"
     ]
    },
    {
     "name": "stdout",
     "output_type": "stream",
     "text": [
      "LABEL: Trousers\n",
      "EPOCH 74: 2.32479 sec\n",
      "Critic loss: -0.14396\n",
      "Generator loss: -7.19044\n",
      "\n"
     ]
    },
    {
     "name": "stderr",
     "output_type": "stream",
     "text": [
      "\r",
      " 75%|███████▌  | 75.0/100 [03:09<01:00,  2.41s/it]"
     ]
    },
    {
     "name": "stdout",
     "output_type": "stream",
     "text": [
      "LABEL: Trousers\n",
      "EPOCH 75: 2.32620 sec\n",
      "Critic loss: -0.19808\n",
      "Generator loss: -7.08883\n",
      "\n"
     ]
    },
    {
     "name": "stderr",
     "output_type": "stream",
     "text": [
      "\r",
      " 76%|███████▌  | 76.0/100 [03:11<00:57,  2.41s/it]"
     ]
    },
    {
     "name": "stdout",
     "output_type": "stream",
     "text": [
      "LABEL: Trousers\n",
      "EPOCH 76: 2.32660 sec\n",
      "Critic loss: -0.08991\n",
      "Generator loss: -7.30436\n",
      "\n"
     ]
    },
    {
     "name": "stderr",
     "output_type": "stream",
     "text": [
      "\r",
      " 77%|███████▋  | 77.0/100 [03:14<00:55,  2.41s/it]"
     ]
    },
    {
     "name": "stdout",
     "output_type": "stream",
     "text": [
      "LABEL: Trousers\n",
      "EPOCH 77: 2.32491 sec\n",
      "Critic loss: -0.16191\n",
      "Generator loss: -6.62917\n",
      "\n"
     ]
    },
    {
     "name": "stderr",
     "output_type": "stream",
     "text": [
      "\r",
      " 78%|███████▊  | 78.0/100 [03:16<00:53,  2.41s/it]"
     ]
    },
    {
     "name": "stdout",
     "output_type": "stream",
     "text": [
      "LABEL: Trousers\n",
      "EPOCH 78: 2.32318 sec\n",
      "Critic loss: -0.10703\n",
      "Generator loss: -7.01186\n",
      "\n"
     ]
    },
    {
     "name": "stderr",
     "output_type": "stream",
     "text": [
      "\r",
      " 79%|███████▉  | 79.0/100 [03:19<00:50,  2.41s/it]"
     ]
    },
    {
     "name": "stdout",
     "output_type": "stream",
     "text": [
      "LABEL: Trousers\n",
      "EPOCH 79: 2.32517 sec\n",
      "Critic loss: -0.14916\n",
      "Generator loss: -6.68133\n",
      "\n"
     ]
    },
    {
     "name": "stderr",
     "output_type": "stream",
     "text": [
      "\r",
      " 80%|████████  | 80.0/100 [03:21<00:48,  2.42s/it]"
     ]
    },
    {
     "name": "stdout",
     "output_type": "stream",
     "text": [
      "LABEL: Trousers\n",
      "EPOCH 80: 2.37382 sec\n",
      "Critic loss: -0.12564\n",
      "Generator loss: -7.10871\n",
      "\n"
     ]
    },
    {
     "name": "stderr",
     "output_type": "stream",
     "text": [
      "\r",
      " 81%|████████  | 81.0/100 [03:24<00:46,  2.45s/it]"
     ]
    },
    {
     "name": "stdout",
     "output_type": "stream",
     "text": [
      "LABEL: Trousers\n",
      "EPOCH 81: 2.41516 sec\n",
      "Critic loss: -0.07195\n",
      "Generator loss: -6.80416\n",
      "\n",
      "INFO:tensorflow:Assets written to: models/05-05-21_11:26:10/Trousers/generator/assets\n",
      "INFO:tensorflow:Assets written to: models/05-05-21_11:26:10/Trousers/critic/assets\n"
     ]
    },
    {
     "name": "stderr",
     "output_type": "stream",
     "text": [
      "\r",
      " 82%|████████▏ | 82.0/100 [03:28<00:53,  2.96s/it]"
     ]
    },
    {
     "name": "stdout",
     "output_type": "stream",
     "text": [
      "LABEL: Trousers\n",
      "EPOCH 82: 2.44914 sec\n",
      "Critic loss: -0.12860\n",
      "Generator loss: -6.99340\n",
      "\n"
     ]
    },
    {
     "name": "stderr",
     "output_type": "stream",
     "text": [
      "\r",
      " 83%|████████▎ | 83.0/100 [03:30<00:48,  2.83s/it]"
     ]
    },
    {
     "name": "stdout",
     "output_type": "stream",
     "text": [
      "LABEL: Trousers\n",
      "EPOCH 83: 2.43141 sec\n",
      "Critic loss: -0.12921\n",
      "Generator loss: -6.30762\n",
      "\n"
     ]
    },
    {
     "name": "stderr",
     "output_type": "stream",
     "text": [
      "\r",
      " 84%|████████▍ | 84.0/100 [03:33<00:43,  2.73s/it]"
     ]
    },
    {
     "name": "stdout",
     "output_type": "stream",
     "text": [
      "LABEL: Trousers\n",
      "EPOCH 84: 2.41076 sec\n",
      "Critic loss: -0.10362\n",
      "Generator loss: -6.40439\n",
      "\n"
     ]
    },
    {
     "name": "stderr",
     "output_type": "stream",
     "text": [
      "\r",
      " 85%|████████▌ | 85.0/100 [03:35<00:39,  2.66s/it]"
     ]
    },
    {
     "name": "stdout",
     "output_type": "stream",
     "text": [
      "LABEL: Trousers\n",
      "EPOCH 85: 2.40931 sec\n",
      "Critic loss: -0.13274\n",
      "Generator loss: -6.56021\n",
      "\n"
     ]
    },
    {
     "name": "stderr",
     "output_type": "stream",
     "text": [
      "\r",
      " 86%|████████▌ | 86.0/100 [03:38<00:36,  2.59s/it]"
     ]
    },
    {
     "name": "stdout",
     "output_type": "stream",
     "text": [
      "LABEL: Trousers\n",
      "EPOCH 86: 2.36253 sec\n",
      "Critic loss: -0.12074\n",
      "Generator loss: -6.39829\n",
      "\n"
     ]
    },
    {
     "name": "stderr",
     "output_type": "stream",
     "text": [
      "\r",
      " 87%|████████▋ | 87.0/100 [03:40<00:33,  2.58s/it]"
     ]
    },
    {
     "name": "stdout",
     "output_type": "stream",
     "text": [
      "LABEL: Trousers\n",
      "EPOCH 87: 2.46161 sec\n",
      "Critic loss: -0.09016\n",
      "Generator loss: -6.48590\n",
      "\n"
     ]
    },
    {
     "name": "stderr",
     "output_type": "stream",
     "text": [
      "\r",
      " 88%|████████▊ | 88.0/100 [03:43<00:30,  2.56s/it]"
     ]
    },
    {
     "name": "stdout",
     "output_type": "stream",
     "text": [
      "LABEL: Trousers\n",
      "EPOCH 88: 2.41807 sec\n",
      "Critic loss: -0.10022\n",
      "Generator loss: -6.29893\n",
      "\n"
     ]
    },
    {
     "name": "stderr",
     "output_type": "stream",
     "text": [
      "\r",
      " 89%|████████▉ | 89.0/100 [03:45<00:27,  2.53s/it]"
     ]
    },
    {
     "name": "stdout",
     "output_type": "stream",
     "text": [
      "LABEL: Trousers\n",
      "EPOCH 89: 2.38708 sec\n",
      "Critic loss: -0.10970\n",
      "Generator loss: -5.81613\n",
      "\n"
     ]
    },
    {
     "name": "stderr",
     "output_type": "stream",
     "text": [
      "\r",
      " 90%|█████████ | 90.0/100 [03:48<00:25,  2.54s/it]"
     ]
    },
    {
     "name": "stdout",
     "output_type": "stream",
     "text": [
      "LABEL: Trousers\n",
      "EPOCH 90: 2.45589 sec\n",
      "Critic loss: -0.02359\n",
      "Generator loss: -5.97471\n",
      "\n"
     ]
    },
    {
     "name": "stderr",
     "output_type": "stream",
     "text": [
      "\r",
      " 91%|█████████ | 91.0/100 [03:50<00:23,  2.56s/it]"
     ]
    },
    {
     "name": "stdout",
     "output_type": "stream",
     "text": [
      "LABEL: Trousers\n",
      "EPOCH 91: 2.52921 sec\n",
      "Critic loss: -0.02799\n",
      "Generator loss: -5.56895\n",
      "\n"
     ]
    },
    {
     "name": "stderr",
     "output_type": "stream",
     "text": [
      "\r",
      " 92%|█████████▏| 92.0/100 [03:53<00:20,  2.55s/it]"
     ]
    },
    {
     "name": "stdout",
     "output_type": "stream",
     "text": [
      "LABEL: Trousers\n",
      "EPOCH 92: 2.43097 sec\n",
      "Critic loss: -0.10855\n",
      "Generator loss: -5.79664\n",
      "\n"
     ]
    },
    {
     "name": "stderr",
     "output_type": "stream",
     "text": [
      "\r",
      " 93%|█████████▎| 93.0/100 [03:55<00:17,  2.53s/it]"
     ]
    },
    {
     "name": "stdout",
     "output_type": "stream",
     "text": [
      "LABEL: Trousers\n",
      "EPOCH 93: 2.39344 sec\n",
      "Critic loss: -0.13172\n",
      "Generator loss: -5.64743\n",
      "\n"
     ]
    },
    {
     "name": "stderr",
     "output_type": "stream",
     "text": [
      "\r",
      " 94%|█████████▍| 94.0/100 [03:58<00:14,  2.49s/it]"
     ]
    },
    {
     "name": "stdout",
     "output_type": "stream",
     "text": [
      "LABEL: Trousers\n",
      "EPOCH 94: 2.32714 sec\n",
      "Critic loss: -0.07689\n",
      "Generator loss: -5.77898\n",
      "\n"
     ]
    },
    {
     "name": "stderr",
     "output_type": "stream",
     "text": [
      "\r",
      " 95%|█████████▌| 95.0/100 [04:00<00:12,  2.47s/it]"
     ]
    },
    {
     "name": "stdout",
     "output_type": "stream",
     "text": [
      "LABEL: Trousers\n",
      "EPOCH 95: 2.33360 sec\n",
      "Critic loss: -0.08963\n",
      "Generator loss: -5.69649\n",
      "\n"
     ]
    },
    {
     "name": "stderr",
     "output_type": "stream",
     "text": [
      "\r",
      " 96%|█████████▌| 96.0/100 [04:03<00:09,  2.45s/it]"
     ]
    },
    {
     "name": "stdout",
     "output_type": "stream",
     "text": [
      "LABEL: Trousers\n",
      "EPOCH 96: 2.33346 sec\n",
      "Critic loss: -0.10102\n",
      "Generator loss: -5.34469\n",
      "\n"
     ]
    },
    {
     "name": "stderr",
     "output_type": "stream",
     "text": [
      "\r",
      " 97%|█████████▋| 97.0/100 [04:05<00:07,  2.44s/it]"
     ]
    },
    {
     "name": "stdout",
     "output_type": "stream",
     "text": [
      "LABEL: Trousers\n",
      "EPOCH 97: 2.32313 sec\n",
      "Critic loss: -0.12034\n",
      "Generator loss: -5.18870\n",
      "\n"
     ]
    },
    {
     "name": "stderr",
     "output_type": "stream",
     "text": [
      "\r",
      " 98%|█████████▊| 98.0/100 [04:08<00:04,  2.43s/it]"
     ]
    },
    {
     "name": "stdout",
     "output_type": "stream",
     "text": [
      "LABEL: Trousers\n",
      "EPOCH 98: 2.32234 sec\n",
      "Critic loss: -0.06119\n",
      "Generator loss: -5.46003\n",
      "\n"
     ]
    },
    {
     "name": "stderr",
     "output_type": "stream",
     "text": [
      "\r",
      " 99%|█████████▉| 99.0/100 [04:10<00:02,  2.42s/it]"
     ]
    },
    {
     "name": "stdout",
     "output_type": "stream",
     "text": [
      "LABEL: Trousers\n",
      "EPOCH 99: 2.32228 sec\n",
      "Critic loss: -0.07938\n",
      "Generator loss: -5.57575\n",
      "\n"
     ]
    },
    {
     "name": "stderr",
     "output_type": "stream",
     "text": [
      "100%|██████████| 100.0/100 [04:12<00:00,  2.53s/it]\n",
      "  0%|          | 0/100 [00:00<?, ?it/s]"
     ]
    },
    {
     "name": "stdout",
     "output_type": "stream",
     "text": [
      "LABEL: Trousers\n",
      "EPOCH 100: 2.32227 sec\n",
      "Critic loss: -0.11431\n",
      "Generator loss: -5.22799\n",
      "\n",
      "----------- TRAINING TO GENERATE **Pullover** -----------\n"
     ]
    },
    {
     "name": "stderr",
     "output_type": "stream",
     "text": [
      "\r",
      "  1%|          | 1.0/100 [00:05<09:11,  5.57s/it]"
     ]
    },
    {
     "name": "stdout",
     "output_type": "stream",
     "text": [
      "LABEL: Pullover\n",
      "EPOCH 1: 5.57438 sec\n",
      "Critic loss: -2.51850\n",
      "Generator loss: -1.60528\n",
      "\n",
      "INFO:tensorflow:Assets written to: models/05-05-21_11:26:10/Pullover/generator/assets\n",
      "INFO:tensorflow:Assets written to: models/05-05-21_11:26:10/Pullover/critic/assets\n"
     ]
    },
    {
     "name": "stderr",
     "output_type": "stream",
     "text": [
      "\r",
      "  2%|▏         | 2.0/100 [00:09<07:23,  4.52s/it]"
     ]
    },
    {
     "name": "stdout",
     "output_type": "stream",
     "text": [
      "LABEL: Pullover\n",
      "EPOCH 2: 2.32583 sec\n",
      "Critic loss: -2.50525\n",
      "Generator loss: -1.54372\n",
      "\n"
     ]
    },
    {
     "name": "stderr",
     "output_type": "stream",
     "text": [
      "\r",
      "  3%|▎         | 3.0/100 [00:11<05:44,  3.56s/it]"
     ]
    },
    {
     "name": "stdout",
     "output_type": "stream",
     "text": [
      "LABEL: Pullover\n",
      "EPOCH 3: 2.32410 sec\n",
      "Critic loss: -2.19209\n",
      "Generator loss: -1.83839\n",
      "\n"
     ]
    },
    {
     "name": "stderr",
     "output_type": "stream",
     "text": [
      "\r",
      "  4%|▍         | 4.0/100 [00:14<04:57,  3.10s/it]"
     ]
    },
    {
     "name": "stdout",
     "output_type": "stream",
     "text": [
      "LABEL: Pullover\n",
      "EPOCH 4: 2.32546 sec\n",
      "Critic loss: -2.11558\n",
      "Generator loss: -3.20821\n",
      "\n"
     ]
    },
    {
     "name": "stderr",
     "output_type": "stream",
     "text": [
      "\r",
      "  5%|▌         | 5.0/100 [00:16<04:31,  2.85s/it]"
     ]
    },
    {
     "name": "stdout",
     "output_type": "stream",
     "text": [
      "LABEL: Pullover\n",
      "EPOCH 5: 2.32564 sec\n",
      "Critic loss: -2.22130\n",
      "Generator loss: -2.97153\n",
      "\n"
     ]
    },
    {
     "name": "stderr",
     "output_type": "stream",
     "text": [
      "\r",
      "  6%|▌         | 6.0/100 [00:18<04:14,  2.70s/it]"
     ]
    },
    {
     "name": "stdout",
     "output_type": "stream",
     "text": [
      "LABEL: Pullover\n",
      "EPOCH 6: 2.33122 sec\n",
      "Critic loss: -2.26762\n",
      "Generator loss: -2.88887\n",
      "\n"
     ]
    },
    {
     "name": "stderr",
     "output_type": "stream",
     "text": [
      "\r",
      "  7%|▋         | 7.0/100 [00:21<04:02,  2.61s/it]"
     ]
    },
    {
     "name": "stdout",
     "output_type": "stream",
     "text": [
      "LABEL: Pullover\n",
      "EPOCH 7: 2.32341 sec\n",
      "Critic loss: -2.44605\n",
      "Generator loss: -2.94798\n",
      "\n"
     ]
    },
    {
     "name": "stderr",
     "output_type": "stream",
     "text": [
      "\r",
      "  8%|▊         | 8.0/100 [00:23<03:53,  2.54s/it]"
     ]
    },
    {
     "name": "stdout",
     "output_type": "stream",
     "text": [
      "LABEL: Pullover\n",
      "EPOCH 8: 2.32470 sec\n",
      "Critic loss: -2.54362\n",
      "Generator loss: -2.42586\n",
      "\n"
     ]
    },
    {
     "name": "stderr",
     "output_type": "stream",
     "text": [
      "\r",
      "  9%|▉         | 9.0/100 [00:26<03:47,  2.50s/it]"
     ]
    },
    {
     "name": "stdout",
     "output_type": "stream",
     "text": [
      "LABEL: Pullover\n",
      "EPOCH 9: 2.32550 sec\n",
      "Critic loss: -2.35084\n",
      "Generator loss: -1.17840\n",
      "\n"
     ]
    },
    {
     "name": "stderr",
     "output_type": "stream",
     "text": [
      "\r",
      " 10%|█         | 10.0/100 [00:28<03:42,  2.47s/it]"
     ]
    },
    {
     "name": "stdout",
     "output_type": "stream",
     "text": [
      "LABEL: Pullover\n",
      "EPOCH 10: 2.33002 sec\n",
      "Critic loss: -2.14247\n",
      "Generator loss: -0.99344\n",
      "\n"
     ]
    },
    {
     "name": "stderr",
     "output_type": "stream",
     "text": [
      "\r",
      " 11%|█         | 11.0/100 [00:31<03:38,  2.45s/it]"
     ]
    },
    {
     "name": "stdout",
     "output_type": "stream",
     "text": [
      "LABEL: Pullover\n",
      "EPOCH 11: 2.32481 sec\n",
      "Critic loss: -2.22513\n",
      "Generator loss: -0.59255\n",
      "\n"
     ]
    },
    {
     "name": "stderr",
     "output_type": "stream",
     "text": [
      "\r",
      " 12%|█▏        | 12.0/100 [00:33<03:34,  2.44s/it]"
     ]
    },
    {
     "name": "stdout",
     "output_type": "stream",
     "text": [
      "LABEL: Pullover\n",
      "EPOCH 12: 2.32664 sec\n",
      "Critic loss: -1.60646\n",
      "Generator loss: -2.52832\n",
      "\n"
     ]
    },
    {
     "name": "stderr",
     "output_type": "stream",
     "text": [
      "\r",
      " 13%|█▎        | 13.0/100 [00:35<03:31,  2.43s/it]"
     ]
    },
    {
     "name": "stdout",
     "output_type": "stream",
     "text": [
      "LABEL: Pullover\n",
      "EPOCH 13: 2.33142 sec\n",
      "Critic loss: -1.61191\n",
      "Generator loss: -1.33099\n",
      "\n"
     ]
    },
    {
     "name": "stderr",
     "output_type": "stream",
     "text": [
      "\r",
      " 14%|█▍        | 14.0/100 [00:38<03:28,  2.43s/it]"
     ]
    },
    {
     "name": "stdout",
     "output_type": "stream",
     "text": [
      "LABEL: Pullover\n",
      "EPOCH 14: 2.32808 sec\n",
      "Critic loss: -1.39392\n",
      "Generator loss: -0.64941\n",
      "\n"
     ]
    },
    {
     "name": "stderr",
     "output_type": "stream",
     "text": [
      "\r",
      " 15%|█▌        | 15.0/100 [00:40<03:25,  2.42s/it]"
     ]
    },
    {
     "name": "stdout",
     "output_type": "stream",
     "text": [
      "LABEL: Pullover\n",
      "EPOCH 15: 2.32845 sec\n",
      "Critic loss: -1.43847\n",
      "Generator loss: 1.82932\n",
      "\n"
     ]
    },
    {
     "name": "stderr",
     "output_type": "stream",
     "text": [
      "\r",
      " 16%|█▌        | 16.0/100 [00:43<03:23,  2.42s/it]"
     ]
    },
    {
     "name": "stdout",
     "output_type": "stream",
     "text": [
      "LABEL: Pullover\n",
      "EPOCH 16: 2.32611 sec\n",
      "Critic loss: -0.64034\n",
      "Generator loss: 0.35437\n",
      "\n"
     ]
    },
    {
     "name": "stderr",
     "output_type": "stream",
     "text": [
      "\r",
      " 17%|█▋        | 17.0/100 [00:45<03:20,  2.42s/it]"
     ]
    },
    {
     "name": "stdout",
     "output_type": "stream",
     "text": [
      "LABEL: Pullover\n",
      "EPOCH 17: 2.32978 sec\n",
      "Critic loss: -0.97982\n",
      "Generator loss: 2.27148\n",
      "\n"
     ]
    },
    {
     "name": "stderr",
     "output_type": "stream",
     "text": [
      "\r",
      " 18%|█▊        | 18.0/100 [00:47<03:18,  2.41s/it]"
     ]
    },
    {
     "name": "stdout",
     "output_type": "stream",
     "text": [
      "LABEL: Pullover\n",
      "EPOCH 18: 2.32777 sec\n",
      "Critic loss: -0.99199\n",
      "Generator loss: 3.44278\n",
      "\n"
     ]
    },
    {
     "name": "stderr",
     "output_type": "stream",
     "text": [
      "\r",
      " 19%|█▉        | 19.0/100 [00:50<03:15,  2.41s/it]"
     ]
    },
    {
     "name": "stdout",
     "output_type": "stream",
     "text": [
      "LABEL: Pullover\n",
      "EPOCH 19: 2.32663 sec\n",
      "Critic loss: -0.72344\n",
      "Generator loss: 2.82510\n",
      "\n"
     ]
    },
    {
     "name": "stderr",
     "output_type": "stream",
     "text": [
      "\r",
      " 20%|██        | 20.0/100 [00:52<03:12,  2.41s/it]"
     ]
    },
    {
     "name": "stdout",
     "output_type": "stream",
     "text": [
      "LABEL: Pullover\n",
      "EPOCH 20: 2.32653 sec\n",
      "Critic loss: -0.64991\n",
      "Generator loss: 3.17299\n",
      "\n"
     ]
    },
    {
     "name": "stderr",
     "output_type": "stream",
     "text": [
      "\r",
      " 21%|██        | 21.0/100 [00:55<03:10,  2.41s/it]"
     ]
    },
    {
     "name": "stdout",
     "output_type": "stream",
     "text": [
      "LABEL: Pullover\n",
      "EPOCH 21: 2.32635 sec\n",
      "Critic loss: -0.56729\n",
      "Generator loss: 2.58516\n",
      "\n",
      "INFO:tensorflow:Assets written to: models/05-05-21_11:26:10/Pullover/generator/assets\n",
      "INFO:tensorflow:Assets written to: models/05-05-21_11:26:10/Pullover/critic/assets\n"
     ]
    },
    {
     "name": "stderr",
     "output_type": "stream",
     "text": [
      "\r",
      " 22%|██▏       | 22.0/100 [00:59<03:43,  2.87s/it]"
     ]
    },
    {
     "name": "stdout",
     "output_type": "stream",
     "text": [
      "LABEL: Pullover\n",
      "EPOCH 22: 2.33187 sec\n",
      "Critic loss: -0.67471\n",
      "Generator loss: 2.40220\n",
      "\n"
     ]
    },
    {
     "name": "stderr",
     "output_type": "stream",
     "text": [
      "\r",
      " 23%|██▎       | 23.0/100 [01:01<03:30,  2.73s/it]"
     ]
    },
    {
     "name": "stdout",
     "output_type": "stream",
     "text": [
      "LABEL: Pullover\n",
      "EPOCH 23: 2.32544 sec\n",
      "Critic loss: -0.61272\n",
      "Generator loss: 2.17291\n",
      "\n"
     ]
    },
    {
     "name": "stderr",
     "output_type": "stream",
     "text": [
      "\r",
      " 24%|██▍       | 24.0/100 [01:03<03:20,  2.63s/it]"
     ]
    },
    {
     "name": "stdout",
     "output_type": "stream",
     "text": [
      "LABEL: Pullover\n",
      "EPOCH 24: 2.32511 sec\n",
      "Critic loss: -0.51331\n",
      "Generator loss: 1.43835\n",
      "\n"
     ]
    },
    {
     "name": "stderr",
     "output_type": "stream",
     "text": [
      "\r",
      " 25%|██▌       | 25.0/100 [01:06<03:12,  2.57s/it]"
     ]
    },
    {
     "name": "stdout",
     "output_type": "stream",
     "text": [
      "LABEL: Pullover\n",
      "EPOCH 25: 2.33311 sec\n",
      "Critic loss: -0.45167\n",
      "Generator loss: 1.04979\n",
      "\n"
     ]
    },
    {
     "name": "stderr",
     "output_type": "stream",
     "text": [
      "\r",
      " 26%|██▌       | 26.0/100 [01:08<03:06,  2.52s/it]"
     ]
    },
    {
     "name": "stdout",
     "output_type": "stream",
     "text": [
      "LABEL: Pullover\n",
      "EPOCH 26: 2.32561 sec\n",
      "Critic loss: -0.48319\n",
      "Generator loss: 0.66680\n",
      "\n"
     ]
    },
    {
     "name": "stderr",
     "output_type": "stream",
     "text": [
      "\r",
      " 27%|██▋       | 27.0/100 [01:11<03:01,  2.49s/it]"
     ]
    },
    {
     "name": "stdout",
     "output_type": "stream",
     "text": [
      "LABEL: Pullover\n",
      "EPOCH 27: 2.32339 sec\n",
      "Critic loss: -0.31962\n",
      "Generator loss: 0.60360\n",
      "\n"
     ]
    },
    {
     "name": "stderr",
     "output_type": "stream",
     "text": [
      "\r",
      " 28%|██▊       | 28.0/100 [01:13<02:57,  2.46s/it]"
     ]
    },
    {
     "name": "stdout",
     "output_type": "stream",
     "text": [
      "LABEL: Pullover\n",
      "EPOCH 28: 2.32692 sec\n",
      "Critic loss: -0.29338\n",
      "Generator loss: -0.00200\n",
      "\n"
     ]
    },
    {
     "name": "stderr",
     "output_type": "stream",
     "text": [
      "\r",
      " 29%|██▉       | 29.0/100 [01:15<02:53,  2.45s/it]"
     ]
    },
    {
     "name": "stdout",
     "output_type": "stream",
     "text": [
      "LABEL: Pullover\n",
      "EPOCH 29: 2.32570 sec\n",
      "Critic loss: -0.26845\n",
      "Generator loss: 0.13736\n",
      "\n"
     ]
    },
    {
     "name": "stderr",
     "output_type": "stream",
     "text": [
      "\r",
      " 30%|███       | 30.0/100 [01:18<02:50,  2.44s/it]"
     ]
    },
    {
     "name": "stdout",
     "output_type": "stream",
     "text": [
      "LABEL: Pullover\n",
      "EPOCH 30: 2.32518 sec\n",
      "Critic loss: -0.34594\n",
      "Generator loss: -0.20510\n",
      "\n"
     ]
    },
    {
     "name": "stderr",
     "output_type": "stream",
     "text": [
      "\r",
      " 31%|███       | 31.0/100 [01:20<02:47,  2.43s/it]"
     ]
    },
    {
     "name": "stdout",
     "output_type": "stream",
     "text": [
      "LABEL: Pullover\n",
      "EPOCH 31: 2.32619 sec\n",
      "Critic loss: -0.33473\n",
      "Generator loss: -0.76725\n",
      "\n"
     ]
    },
    {
     "name": "stderr",
     "output_type": "stream",
     "text": [
      "\r",
      " 32%|███▏      | 32.0/100 [01:23<02:44,  2.42s/it]"
     ]
    },
    {
     "name": "stdout",
     "output_type": "stream",
     "text": [
      "LABEL: Pullover\n",
      "EPOCH 32: 2.32794 sec\n",
      "Critic loss: -0.37853\n",
      "Generator loss: -1.19010\n",
      "\n"
     ]
    },
    {
     "name": "stderr",
     "output_type": "stream",
     "text": [
      "\r",
      " 33%|███▎      | 33.0/100 [01:25<02:42,  2.42s/it]"
     ]
    },
    {
     "name": "stdout",
     "output_type": "stream",
     "text": [
      "LABEL: Pullover\n",
      "EPOCH 33: 2.32759 sec\n",
      "Critic loss: -0.25675\n",
      "Generator loss: -1.43704\n",
      "\n"
     ]
    },
    {
     "name": "stderr",
     "output_type": "stream",
     "text": [
      "\r",
      " 34%|███▍      | 34.0/100 [01:28<02:39,  2.42s/it]"
     ]
    },
    {
     "name": "stdout",
     "output_type": "stream",
     "text": [
      "LABEL: Pullover\n",
      "EPOCH 34: 2.32413 sec\n",
      "Critic loss: -0.35078\n",
      "Generator loss: -1.85606\n",
      "\n"
     ]
    },
    {
     "name": "stderr",
     "output_type": "stream",
     "text": [
      "\r",
      " 35%|███▌      | 35.0/100 [01:30<02:36,  2.41s/it]"
     ]
    },
    {
     "name": "stdout",
     "output_type": "stream",
     "text": [
      "LABEL: Pullover\n",
      "EPOCH 35: 2.32559 sec\n",
      "Critic loss: -0.29742\n",
      "Generator loss: -2.13094\n",
      "\n"
     ]
    },
    {
     "name": "stderr",
     "output_type": "stream",
     "text": [
      "\r",
      " 36%|███▌      | 36.0/100 [01:32<02:34,  2.41s/it]"
     ]
    },
    {
     "name": "stdout",
     "output_type": "stream",
     "text": [
      "LABEL: Pullover\n",
      "EPOCH 36: 2.32705 sec\n",
      "Critic loss: -0.38414\n",
      "Generator loss: -2.47123\n",
      "\n"
     ]
    },
    {
     "name": "stderr",
     "output_type": "stream",
     "text": [
      "\r",
      " 37%|███▋      | 37.0/100 [01:35<02:31,  2.41s/it]"
     ]
    },
    {
     "name": "stdout",
     "output_type": "stream",
     "text": [
      "LABEL: Pullover\n",
      "EPOCH 37: 2.32708 sec\n",
      "Critic loss: -0.30167\n",
      "Generator loss: -2.78049\n",
      "\n"
     ]
    },
    {
     "name": "stderr",
     "output_type": "stream",
     "text": [
      "\r",
      " 38%|███▊      | 38.0/100 [01:37<02:29,  2.41s/it]"
     ]
    },
    {
     "name": "stdout",
     "output_type": "stream",
     "text": [
      "LABEL: Pullover\n",
      "EPOCH 38: 2.32563 sec\n",
      "Critic loss: -0.25306\n",
      "Generator loss: -3.13274\n",
      "\n"
     ]
    },
    {
     "name": "stderr",
     "output_type": "stream",
     "text": [
      "\r",
      " 39%|███▉      | 39.0/100 [01:40<02:27,  2.41s/it]"
     ]
    },
    {
     "name": "stdout",
     "output_type": "stream",
     "text": [
      "LABEL: Pullover\n",
      "EPOCH 39: 2.32913 sec\n",
      "Critic loss: -0.29410\n",
      "Generator loss: -3.58714\n",
      "\n"
     ]
    },
    {
     "name": "stderr",
     "output_type": "stream",
     "text": [
      "\r",
      " 40%|████      | 40.0/100 [01:42<02:24,  2.41s/it]"
     ]
    },
    {
     "name": "stdout",
     "output_type": "stream",
     "text": [
      "LABEL: Pullover\n",
      "EPOCH 40: 2.32668 sec\n",
      "Critic loss: -0.32621\n",
      "Generator loss: -3.45727\n",
      "\n"
     ]
    },
    {
     "name": "stderr",
     "output_type": "stream",
     "text": [
      "\r",
      " 41%|████      | 41.0/100 [01:44<02:22,  2.41s/it]"
     ]
    },
    {
     "name": "stdout",
     "output_type": "stream",
     "text": [
      "LABEL: Pullover\n",
      "EPOCH 41: 2.33434 sec\n",
      "Critic loss: -0.32869\n",
      "Generator loss: -4.24712\n",
      "\n",
      "INFO:tensorflow:Assets written to: models/05-05-21_11:26:10/Pullover/generator/assets\n",
      "INFO:tensorflow:Assets written to: models/05-05-21_11:26:10/Pullover/critic/assets\n"
     ]
    },
    {
     "name": "stderr",
     "output_type": "stream",
     "text": [
      "\r",
      " 42%|████▏     | 42.0/100 [01:48<02:45,  2.85s/it]"
     ]
    },
    {
     "name": "stdout",
     "output_type": "stream",
     "text": [
      "LABEL: Pullover\n",
      "EPOCH 42: 2.34299 sec\n",
      "Critic loss: -0.29917\n",
      "Generator loss: -4.39541\n",
      "\n"
     ]
    },
    {
     "name": "stderr",
     "output_type": "stream",
     "text": [
      "\r",
      " 43%|████▎     | 43.0/100 [01:51<02:34,  2.72s/it]"
     ]
    },
    {
     "name": "stdout",
     "output_type": "stream",
     "text": [
      "LABEL: Pullover\n",
      "EPOCH 43: 2.33220 sec\n",
      "Critic loss: -0.29417\n",
      "Generator loss: -4.13009\n",
      "\n"
     ]
    },
    {
     "name": "stderr",
     "output_type": "stream",
     "text": [
      "\r",
      " 44%|████▍     | 44.0/100 [01:53<02:27,  2.63s/it]"
     ]
    },
    {
     "name": "stdout",
     "output_type": "stream",
     "text": [
      "LABEL: Pullover\n",
      "EPOCH 44: 2.32508 sec\n",
      "Critic loss: -0.20066\n",
      "Generator loss: -3.86408\n",
      "\n"
     ]
    },
    {
     "name": "stderr",
     "output_type": "stream",
     "text": [
      "\r",
      " 45%|████▌     | 45.0/100 [01:55<02:20,  2.56s/it]"
     ]
    },
    {
     "name": "stdout",
     "output_type": "stream",
     "text": [
      "LABEL: Pullover\n",
      "EPOCH 45: 2.32594 sec\n",
      "Critic loss: -0.35633\n",
      "Generator loss: -4.25774\n",
      "\n"
     ]
    },
    {
     "name": "stderr",
     "output_type": "stream",
     "text": [
      "\r",
      " 46%|████▌     | 46.0/100 [01:58<02:15,  2.52s/it]"
     ]
    },
    {
     "name": "stdout",
     "output_type": "stream",
     "text": [
      "LABEL: Pullover\n",
      "EPOCH 46: 2.32684 sec\n",
      "Critic loss: -0.28698\n",
      "Generator loss: -4.13903\n",
      "\n"
     ]
    },
    {
     "name": "stderr",
     "output_type": "stream",
     "text": [
      "\r",
      " 47%|████▋     | 47.0/100 [02:00<02:11,  2.48s/it]"
     ]
    },
    {
     "name": "stdout",
     "output_type": "stream",
     "text": [
      "LABEL: Pullover\n",
      "EPOCH 47: 2.32796 sec\n",
      "Critic loss: -0.19673\n",
      "Generator loss: -4.76378\n",
      "\n"
     ]
    },
    {
     "name": "stderr",
     "output_type": "stream",
     "text": [
      "\r",
      " 48%|████▊     | 48.0/100 [02:03<02:08,  2.46s/it]"
     ]
    },
    {
     "name": "stdout",
     "output_type": "stream",
     "text": [
      "LABEL: Pullover\n",
      "EPOCH 48: 2.32564 sec\n",
      "Critic loss: -0.33033\n",
      "Generator loss: -4.33094\n",
      "\n"
     ]
    },
    {
     "name": "stderr",
     "output_type": "stream",
     "text": [
      "\r",
      " 49%|████▉     | 49.0/100 [02:05<02:04,  2.45s/it]"
     ]
    },
    {
     "name": "stdout",
     "output_type": "stream",
     "text": [
      "LABEL: Pullover\n",
      "EPOCH 49: 2.32499 sec\n",
      "Critic loss: -0.29140\n",
      "Generator loss: -4.18176\n",
      "\n"
     ]
    },
    {
     "name": "stderr",
     "output_type": "stream",
     "text": [
      "\r",
      " 50%|█████     | 50.0/100 [02:08<02:01,  2.44s/it]"
     ]
    },
    {
     "name": "stdout",
     "output_type": "stream",
     "text": [
      "LABEL: Pullover\n",
      "EPOCH 50: 2.32713 sec\n",
      "Critic loss: -0.37315\n",
      "Generator loss: -3.94218\n",
      "\n"
     ]
    },
    {
     "name": "stderr",
     "output_type": "stream",
     "text": [
      "\r",
      " 51%|█████     | 51.0/100 [02:10<01:58,  2.43s/it]"
     ]
    },
    {
     "name": "stdout",
     "output_type": "stream",
     "text": [
      "LABEL: Pullover\n",
      "EPOCH 51: 2.32674 sec\n",
      "Critic loss: -0.29313\n",
      "Generator loss: -4.07055\n",
      "\n"
     ]
    },
    {
     "name": "stderr",
     "output_type": "stream",
     "text": [
      "\r",
      " 52%|█████▏    | 52.0/100 [02:12<01:56,  2.42s/it]"
     ]
    },
    {
     "name": "stdout",
     "output_type": "stream",
     "text": [
      "LABEL: Pullover\n",
      "EPOCH 52: 2.32637 sec\n",
      "Critic loss: -0.25195\n",
      "Generator loss: -3.94417\n",
      "\n"
     ]
    },
    {
     "name": "stderr",
     "output_type": "stream",
     "text": [
      "\r",
      " 53%|█████▎    | 53.0/100 [02:15<01:53,  2.42s/it]"
     ]
    },
    {
     "name": "stdout",
     "output_type": "stream",
     "text": [
      "LABEL: Pullover\n",
      "EPOCH 53: 2.32541 sec\n",
      "Critic loss: -0.28213\n",
      "Generator loss: -3.98146\n",
      "\n"
     ]
    },
    {
     "name": "stderr",
     "output_type": "stream",
     "text": [
      "\r",
      " 54%|█████▍    | 54.0/100 [02:17<01:51,  2.42s/it]"
     ]
    },
    {
     "name": "stdout",
     "output_type": "stream",
     "text": [
      "LABEL: Pullover\n",
      "EPOCH 54: 2.32811 sec\n",
      "Critic loss: -0.29491\n",
      "Generator loss: -4.02513\n",
      "\n"
     ]
    },
    {
     "name": "stderr",
     "output_type": "stream",
     "text": [
      "\r",
      " 55%|█████▌    | 55.0/100 [02:20<01:48,  2.41s/it]"
     ]
    },
    {
     "name": "stdout",
     "output_type": "stream",
     "text": [
      "LABEL: Pullover\n",
      "EPOCH 55: 2.32614 sec\n",
      "Critic loss: -0.27533\n",
      "Generator loss: -3.85082\n",
      "\n"
     ]
    },
    {
     "name": "stderr",
     "output_type": "stream",
     "text": [
      "\r",
      " 56%|█████▌    | 56.0/100 [02:22<01:46,  2.41s/it]"
     ]
    },
    {
     "name": "stdout",
     "output_type": "stream",
     "text": [
      "LABEL: Pullover\n",
      "EPOCH 56: 2.32672 sec\n",
      "Critic loss: -0.27592\n",
      "Generator loss: -3.68471\n",
      "\n"
     ]
    },
    {
     "name": "stderr",
     "output_type": "stream",
     "text": [
      "\r",
      " 57%|█████▋    | 57.0/100 [02:24<01:43,  2.41s/it]"
     ]
    },
    {
     "name": "stdout",
     "output_type": "stream",
     "text": [
      "LABEL: Pullover\n",
      "EPOCH 57: 2.32823 sec\n",
      "Critic loss: -0.28007\n",
      "Generator loss: -3.60998\n",
      "\n"
     ]
    },
    {
     "name": "stderr",
     "output_type": "stream",
     "text": [
      "\r",
      " 58%|█████▊    | 58.0/100 [02:27<01:41,  2.41s/it]"
     ]
    },
    {
     "name": "stdout",
     "output_type": "stream",
     "text": [
      "LABEL: Pullover\n",
      "EPOCH 58: 2.32457 sec\n",
      "Critic loss: -0.21591\n",
      "Generator loss: -3.42696\n",
      "\n"
     ]
    },
    {
     "name": "stderr",
     "output_type": "stream",
     "text": [
      "\r",
      " 59%|█████▉    | 59.0/100 [02:29<01:38,  2.41s/it]"
     ]
    },
    {
     "name": "stdout",
     "output_type": "stream",
     "text": [
      "LABEL: Pullover\n",
      "EPOCH 59: 2.32542 sec\n",
      "Critic loss: -0.35877\n",
      "Generator loss: -3.29095\n",
      "\n"
     ]
    },
    {
     "name": "stderr",
     "output_type": "stream",
     "text": [
      "\r",
      " 60%|██████    | 60.0/100 [02:32<01:36,  2.41s/it]"
     ]
    },
    {
     "name": "stdout",
     "output_type": "stream",
     "text": [
      "LABEL: Pullover\n",
      "EPOCH 60: 2.32528 sec\n",
      "Critic loss: -0.38962\n",
      "Generator loss: -3.24079\n",
      "\n"
     ]
    },
    {
     "name": "stderr",
     "output_type": "stream",
     "text": [
      "\r",
      " 61%|██████    | 61.0/100 [02:34<01:33,  2.41s/it]"
     ]
    },
    {
     "name": "stdout",
     "output_type": "stream",
     "text": [
      "LABEL: Pullover\n",
      "EPOCH 61: 2.32517 sec\n",
      "Critic loss: -0.08931\n",
      "Generator loss: -3.04703\n",
      "\n",
      "INFO:tensorflow:Assets written to: models/05-05-21_11:26:10/Pullover/generator/assets\n",
      "INFO:tensorflow:Assets written to: models/05-05-21_11:26:10/Pullover/critic/assets\n"
     ]
    },
    {
     "name": "stderr",
     "output_type": "stream",
     "text": [
      "\r",
      " 62%|██████▏   | 62.0/100 [02:38<01:49,  2.87s/it]"
     ]
    },
    {
     "name": "stdout",
     "output_type": "stream",
     "text": [
      "LABEL: Pullover\n",
      "EPOCH 62: 2.32628 sec\n",
      "Critic loss: -0.20358\n",
      "Generator loss: -3.16637\n",
      "\n"
     ]
    },
    {
     "name": "stderr",
     "output_type": "stream",
     "text": [
      "\r",
      " 63%|██████▎   | 63.0/100 [02:40<01:41,  2.73s/it]"
     ]
    },
    {
     "name": "stdout",
     "output_type": "stream",
     "text": [
      "LABEL: Pullover\n",
      "EPOCH 63: 2.32354 sec\n",
      "Critic loss: -0.24925\n",
      "Generator loss: -3.35372\n",
      "\n"
     ]
    },
    {
     "name": "stderr",
     "output_type": "stream",
     "text": [
      "\r",
      " 64%|██████▍   | 64.0/100 [02:43<01:34,  2.63s/it]"
     ]
    },
    {
     "name": "stdout",
     "output_type": "stream",
     "text": [
      "LABEL: Pullover\n",
      "EPOCH 64: 2.32610 sec\n",
      "Critic loss: -0.23399\n",
      "Generator loss: -3.02556\n",
      "\n"
     ]
    },
    {
     "name": "stderr",
     "output_type": "stream",
     "text": [
      "\r",
      " 65%|██████▌   | 65.0/100 [02:45<01:29,  2.57s/it]"
     ]
    },
    {
     "name": "stdout",
     "output_type": "stream",
     "text": [
      "LABEL: Pullover\n",
      "EPOCH 65: 2.32821 sec\n",
      "Critic loss: -0.27473\n",
      "Generator loss: -3.29332\n",
      "\n"
     ]
    },
    {
     "name": "stderr",
     "output_type": "stream",
     "text": [
      "\r",
      " 66%|██████▌   | 66.0/100 [02:48<01:25,  2.52s/it]"
     ]
    },
    {
     "name": "stdout",
     "output_type": "stream",
     "text": [
      "LABEL: Pullover\n",
      "EPOCH 66: 2.32634 sec\n",
      "Critic loss: -0.25397\n",
      "Generator loss: -3.08548\n",
      "\n"
     ]
    },
    {
     "name": "stderr",
     "output_type": "stream",
     "text": [
      "\r",
      " 67%|██████▋   | 67.0/100 [02:50<01:22,  2.49s/it]"
     ]
    },
    {
     "name": "stdout",
     "output_type": "stream",
     "text": [
      "LABEL: Pullover\n",
      "EPOCH 67: 2.32829 sec\n",
      "Critic loss: -0.32758\n",
      "Generator loss: -2.88894\n",
      "\n"
     ]
    },
    {
     "name": "stderr",
     "output_type": "stream",
     "text": [
      "\r",
      " 68%|██████▊   | 68.0/100 [02:52<01:18,  2.47s/it]"
     ]
    },
    {
     "name": "stdout",
     "output_type": "stream",
     "text": [
      "LABEL: Pullover\n",
      "EPOCH 68: 2.32940 sec\n",
      "Critic loss: -0.29720\n",
      "Generator loss: -3.04257\n",
      "\n"
     ]
    },
    {
     "name": "stderr",
     "output_type": "stream",
     "text": [
      "\r",
      " 69%|██████▉   | 69.0/100 [02:55<01:15,  2.45s/it]"
     ]
    },
    {
     "name": "stdout",
     "output_type": "stream",
     "text": [
      "LABEL: Pullover\n",
      "EPOCH 69: 2.32658 sec\n",
      "Critic loss: -0.23843\n",
      "Generator loss: -2.96203\n",
      "\n"
     ]
    },
    {
     "name": "stderr",
     "output_type": "stream",
     "text": [
      "\r",
      " 70%|███████   | 70.0/100 [02:57<01:13,  2.44s/it]"
     ]
    },
    {
     "name": "stdout",
     "output_type": "stream",
     "text": [
      "LABEL: Pullover\n",
      "EPOCH 70: 2.33156 sec\n",
      "Critic loss: -0.22859\n",
      "Generator loss: -2.60113\n",
      "\n"
     ]
    },
    {
     "name": "stderr",
     "output_type": "stream",
     "text": [
      "\r",
      " 71%|███████   | 71.0/100 [03:00<01:10,  2.43s/it]"
     ]
    },
    {
     "name": "stdout",
     "output_type": "stream",
     "text": [
      "LABEL: Pullover\n",
      "EPOCH 71: 2.32830 sec\n",
      "Critic loss: -0.24134\n",
      "Generator loss: -2.55982\n",
      "\n"
     ]
    },
    {
     "name": "stderr",
     "output_type": "stream",
     "text": [
      "\r",
      " 72%|███████▏  | 72.0/100 [03:02<01:07,  2.42s/it]"
     ]
    },
    {
     "name": "stdout",
     "output_type": "stream",
     "text": [
      "LABEL: Pullover\n",
      "EPOCH 72: 2.32394 sec\n",
      "Critic loss: -0.24707\n",
      "Generator loss: -2.89518\n",
      "\n"
     ]
    },
    {
     "name": "stderr",
     "output_type": "stream",
     "text": [
      "\r",
      " 73%|███████▎  | 73.0/100 [03:04<01:05,  2.42s/it]"
     ]
    },
    {
     "name": "stdout",
     "output_type": "stream",
     "text": [
      "LABEL: Pullover\n",
      "EPOCH 73: 2.32500 sec\n",
      "Critic loss: -0.28536\n",
      "Generator loss: -2.25459\n",
      "\n"
     ]
    },
    {
     "name": "stderr",
     "output_type": "stream",
     "text": [
      "\r",
      " 74%|███████▍  | 74.0/100 [03:07<01:02,  2.42s/it]"
     ]
    },
    {
     "name": "stdout",
     "output_type": "stream",
     "text": [
      "LABEL: Pullover\n",
      "EPOCH 74: 2.32651 sec\n",
      "Critic loss: -0.24265\n",
      "Generator loss: -2.31867\n",
      "\n"
     ]
    },
    {
     "name": "stderr",
     "output_type": "stream",
     "text": [
      "\r",
      " 75%|███████▌  | 75.0/100 [03:09<01:00,  2.42s/it]"
     ]
    },
    {
     "name": "stdout",
     "output_type": "stream",
     "text": [
      "LABEL: Pullover\n",
      "EPOCH 75: 2.32708 sec\n",
      "Critic loss: -0.21022\n",
      "Generator loss: -2.04408\n",
      "\n"
     ]
    },
    {
     "name": "stderr",
     "output_type": "stream",
     "text": [
      "\r",
      " 76%|███████▌  | 76.0/100 [03:12<00:57,  2.41s/it]"
     ]
    },
    {
     "name": "stdout",
     "output_type": "stream",
     "text": [
      "LABEL: Pullover\n",
      "EPOCH 76: 2.32502 sec\n",
      "Critic loss: -0.22663\n",
      "Generator loss: -2.13285\n",
      "\n"
     ]
    },
    {
     "name": "stderr",
     "output_type": "stream",
     "text": [
      "\r",
      " 77%|███████▋  | 77.0/100 [03:14<00:55,  2.41s/it]"
     ]
    },
    {
     "name": "stdout",
     "output_type": "stream",
     "text": [
      "LABEL: Pullover\n",
      "EPOCH 77: 2.32495 sec\n",
      "Critic loss: -0.24405\n",
      "Generator loss: -2.18255\n",
      "\n"
     ]
    },
    {
     "name": "stderr",
     "output_type": "stream",
     "text": [
      "\r",
      " 78%|███████▊  | 78.0/100 [03:17<00:53,  2.41s/it]"
     ]
    },
    {
     "name": "stdout",
     "output_type": "stream",
     "text": [
      "LABEL: Pullover\n",
      "EPOCH 78: 2.32549 sec\n",
      "Critic loss: -0.21080\n",
      "Generator loss: -2.01821\n",
      "\n"
     ]
    },
    {
     "name": "stderr",
     "output_type": "stream",
     "text": [
      "\r",
      " 79%|███████▉  | 79.0/100 [03:19<00:50,  2.41s/it]"
     ]
    },
    {
     "name": "stdout",
     "output_type": "stream",
     "text": [
      "LABEL: Pullover\n",
      "EPOCH 79: 2.32531 sec\n",
      "Critic loss: -0.25979\n",
      "Generator loss: -2.48743\n",
      "\n"
     ]
    },
    {
     "name": "stderr",
     "output_type": "stream",
     "text": [
      "\r",
      " 80%|████████  | 80.0/100 [03:21<00:48,  2.41s/it]"
     ]
    },
    {
     "name": "stdout",
     "output_type": "stream",
     "text": [
      "LABEL: Pullover\n",
      "EPOCH 80: 2.32725 sec\n",
      "Critic loss: -0.23280\n",
      "Generator loss: -1.76823\n",
      "\n"
     ]
    },
    {
     "name": "stderr",
     "output_type": "stream",
     "text": [
      "\r",
      " 81%|████████  | 81.0/100 [03:24<00:45,  2.41s/it]"
     ]
    },
    {
     "name": "stdout",
     "output_type": "stream",
     "text": [
      "LABEL: Pullover\n",
      "EPOCH 81: 2.32578 sec\n",
      "Critic loss: -0.19346\n",
      "Generator loss: -2.00011\n",
      "\n",
      "INFO:tensorflow:Assets written to: models/05-05-21_11:26:10/Pullover/generator/assets\n",
      "INFO:tensorflow:Assets written to: models/05-05-21_11:26:10/Pullover/critic/assets\n"
     ]
    },
    {
     "name": "stderr",
     "output_type": "stream",
     "text": [
      "\r",
      " 82%|████████▏ | 82.0/100 [03:28<00:51,  2.84s/it]"
     ]
    },
    {
     "name": "stdout",
     "output_type": "stream",
     "text": [
      "LABEL: Pullover\n",
      "EPOCH 82: 2.33307 sec\n",
      "Critic loss: -0.23042\n",
      "Generator loss: -2.15638\n",
      "\n"
     ]
    },
    {
     "name": "stderr",
     "output_type": "stream",
     "text": [
      "\r",
      " 83%|████████▎ | 83.0/100 [03:30<00:46,  2.71s/it]"
     ]
    },
    {
     "name": "stdout",
     "output_type": "stream",
     "text": [
      "LABEL: Pullover\n",
      "EPOCH 83: 2.32396 sec\n",
      "Critic loss: -0.18660\n",
      "Generator loss: -1.59493\n",
      "\n"
     ]
    },
    {
     "name": "stderr",
     "output_type": "stream",
     "text": [
      "\r",
      " 84%|████████▍ | 84.0/100 [03:32<00:41,  2.62s/it]"
     ]
    },
    {
     "name": "stdout",
     "output_type": "stream",
     "text": [
      "LABEL: Pullover\n",
      "EPOCH 84: 2.32569 sec\n",
      "Critic loss: -0.20659\n",
      "Generator loss: -1.73590\n",
      "\n"
     ]
    },
    {
     "name": "stderr",
     "output_type": "stream",
     "text": [
      "\r",
      " 85%|████████▌ | 85.0/100 [03:35<00:38,  2.56s/it]"
     ]
    },
    {
     "name": "stdout",
     "output_type": "stream",
     "text": [
      "LABEL: Pullover\n",
      "EPOCH 85: 2.32494 sec\n",
      "Critic loss: -0.22432\n",
      "Generator loss: -1.63065\n",
      "\n"
     ]
    },
    {
     "name": "stderr",
     "output_type": "stream",
     "text": [
      "\r",
      " 86%|████████▌ | 86.0/100 [03:37<00:35,  2.51s/it]"
     ]
    },
    {
     "name": "stdout",
     "output_type": "stream",
     "text": [
      "LABEL: Pullover\n",
      "EPOCH 86: 2.32558 sec\n",
      "Critic loss: -0.17536\n",
      "Generator loss: -1.47696\n",
      "\n"
     ]
    },
    {
     "name": "stderr",
     "output_type": "stream",
     "text": [
      "\r",
      " 87%|████████▋ | 87.0/100 [03:40<00:32,  2.48s/it]"
     ]
    },
    {
     "name": "stdout",
     "output_type": "stream",
     "text": [
      "LABEL: Pullover\n",
      "EPOCH 87: 2.32665 sec\n",
      "Critic loss: -0.15708\n",
      "Generator loss: -1.23305\n",
      "\n"
     ]
    },
    {
     "name": "stderr",
     "output_type": "stream",
     "text": [
      "\r",
      " 88%|████████▊ | 88.0/100 [03:42<00:29,  2.46s/it]"
     ]
    },
    {
     "name": "stdout",
     "output_type": "stream",
     "text": [
      "LABEL: Pullover\n",
      "EPOCH 88: 2.32810 sec\n",
      "Critic loss: -0.19170\n",
      "Generator loss: -1.22062\n",
      "\n"
     ]
    },
    {
     "name": "stderr",
     "output_type": "stream",
     "text": [
      "\r",
      " 89%|████████▉ | 89.0/100 [03:44<00:26,  2.45s/it]"
     ]
    },
    {
     "name": "stdout",
     "output_type": "stream",
     "text": [
      "LABEL: Pullover\n",
      "EPOCH 89: 2.32702 sec\n",
      "Critic loss: -0.10652\n",
      "Generator loss: -1.02200\n",
      "\n"
     ]
    },
    {
     "name": "stderr",
     "output_type": "stream",
     "text": [
      "\r",
      " 90%|█████████ | 90.0/100 [03:47<00:24,  2.44s/it]"
     ]
    },
    {
     "name": "stdout",
     "output_type": "stream",
     "text": [
      "LABEL: Pullover\n",
      "EPOCH 90: 2.32875 sec\n",
      "Critic loss: -0.15866\n",
      "Generator loss: -0.94342\n",
      "\n"
     ]
    },
    {
     "name": "stderr",
     "output_type": "stream",
     "text": [
      "\r",
      " 91%|█████████ | 91.0/100 [03:49<00:21,  2.43s/it]"
     ]
    },
    {
     "name": "stdout",
     "output_type": "stream",
     "text": [
      "LABEL: Pullover\n",
      "EPOCH 91: 2.34717 sec\n",
      "Critic loss: -0.21712\n",
      "Generator loss: -0.95830\n",
      "\n"
     ]
    },
    {
     "name": "stderr",
     "output_type": "stream",
     "text": [
      "\r",
      " 92%|█████████▏| 92.0/100 [03:52<00:19,  2.43s/it]"
     ]
    },
    {
     "name": "stdout",
     "output_type": "stream",
     "text": [
      "LABEL: Pullover\n",
      "EPOCH 92: 2.32525 sec\n",
      "Critic loss: -0.16298\n",
      "Generator loss: -0.45702\n",
      "\n"
     ]
    },
    {
     "name": "stderr",
     "output_type": "stream",
     "text": [
      "\r",
      " 93%|█████████▎| 93.0/100 [03:54<00:16,  2.42s/it]"
     ]
    },
    {
     "name": "stdout",
     "output_type": "stream",
     "text": [
      "LABEL: Pullover\n",
      "EPOCH 93: 2.32621 sec\n",
      "Critic loss: -0.16507\n",
      "Generator loss: -0.57633\n",
      "\n"
     ]
    },
    {
     "name": "stderr",
     "output_type": "stream",
     "text": [
      "\r",
      " 94%|█████████▍| 94.0/100 [03:57<00:14,  2.42s/it]"
     ]
    },
    {
     "name": "stdout",
     "output_type": "stream",
     "text": [
      "LABEL: Pullover\n",
      "EPOCH 94: 2.32581 sec\n",
      "Critic loss: -0.19070\n",
      "Generator loss: -0.17527\n",
      "\n"
     ]
    },
    {
     "name": "stderr",
     "output_type": "stream",
     "text": [
      "\r",
      " 95%|█████████▌| 95.0/100 [03:59<00:12,  2.42s/it]"
     ]
    },
    {
     "name": "stdout",
     "output_type": "stream",
     "text": [
      "LABEL: Pullover\n",
      "EPOCH 95: 2.32664 sec\n",
      "Critic loss: -0.15948\n",
      "Generator loss: -0.51419\n",
      "\n"
     ]
    },
    {
     "name": "stderr",
     "output_type": "stream",
     "text": [
      "\r",
      " 96%|█████████▌| 96.0/100 [04:01<00:09,  2.41s/it]"
     ]
    },
    {
     "name": "stdout",
     "output_type": "stream",
     "text": [
      "LABEL: Pullover\n",
      "EPOCH 96: 2.32977 sec\n",
      "Critic loss: -0.18783\n",
      "Generator loss: -0.30780\n",
      "\n"
     ]
    },
    {
     "name": "stderr",
     "output_type": "stream",
     "text": [
      "\r",
      " 97%|█████████▋| 97.0/100 [04:04<00:07,  2.41s/it]"
     ]
    },
    {
     "name": "stdout",
     "output_type": "stream",
     "text": [
      "LABEL: Pullover\n",
      "EPOCH 97: 2.32684 sec\n",
      "Critic loss: -0.18478\n",
      "Generator loss: -0.18524\n",
      "\n"
     ]
    },
    {
     "name": "stderr",
     "output_type": "stream",
     "text": [
      "\r",
      " 98%|█████████▊| 98.0/100 [04:06<00:04,  2.41s/it]"
     ]
    },
    {
     "name": "stdout",
     "output_type": "stream",
     "text": [
      "LABEL: Pullover\n",
      "EPOCH 98: 2.32601 sec\n",
      "Critic loss: -0.12902\n",
      "Generator loss: -0.39475\n",
      "\n"
     ]
    },
    {
     "name": "stderr",
     "output_type": "stream",
     "text": [
      "\r",
      " 99%|█████████▉| 99.0/100 [04:09<00:02,  2.41s/it]"
     ]
    },
    {
     "name": "stdout",
     "output_type": "stream",
     "text": [
      "LABEL: Pullover\n",
      "EPOCH 99: 2.32730 sec\n",
      "Critic loss: -0.15408\n",
      "Generator loss: -0.29332\n",
      "\n"
     ]
    },
    {
     "name": "stderr",
     "output_type": "stream",
     "text": [
      "100%|██████████| 100.0/100 [04:11<00:00,  2.52s/it]\n",
      "  0%|          | 0/100 [00:00<?, ?it/s]"
     ]
    },
    {
     "name": "stdout",
     "output_type": "stream",
     "text": [
      "LABEL: Pullover\n",
      "EPOCH 100: 2.32718 sec\n",
      "Critic loss: -0.15357\n",
      "Generator loss: -0.49237\n",
      "\n",
      "----------- TRAINING TO GENERATE **Dress** -----------\n"
     ]
    },
    {
     "name": "stderr",
     "output_type": "stream",
     "text": [
      "\r",
      "  1%|          | 1.0/100 [00:05<09:07,  5.53s/it]"
     ]
    },
    {
     "name": "stdout",
     "output_type": "stream",
     "text": [
      "LABEL: Dress\n",
      "EPOCH 1: 5.52776 sec\n",
      "Critic loss: -2.58105\n",
      "Generator loss: -1.72633\n",
      "\n",
      "INFO:tensorflow:Assets written to: models/05-05-21_11:26:10/Dress/generator/assets\n",
      "INFO:tensorflow:Assets written to: models/05-05-21_11:26:10/Dress/critic/assets\n"
     ]
    },
    {
     "name": "stderr",
     "output_type": "stream",
     "text": [
      "\r",
      "  2%|▏         | 2.0/100 [00:09<07:20,  4.50s/it]"
     ]
    },
    {
     "name": "stdout",
     "output_type": "stream",
     "text": [
      "LABEL: Dress\n",
      "EPOCH 2: 2.32213 sec\n",
      "Critic loss: -2.85579\n",
      "Generator loss: -1.66285\n",
      "\n"
     ]
    },
    {
     "name": "stderr",
     "output_type": "stream",
     "text": [
      "\r",
      "  3%|▎         | 3.0/100 [00:11<05:43,  3.54s/it]"
     ]
    },
    {
     "name": "stdout",
     "output_type": "stream",
     "text": [
      "LABEL: Dress\n",
      "EPOCH 3: 2.32385 sec\n",
      "Critic loss: -2.87079\n",
      "Generator loss: -1.17200\n",
      "\n"
     ]
    },
    {
     "name": "stderr",
     "output_type": "stream",
     "text": [
      "\r",
      "  4%|▍         | 4.0/100 [00:14<04:57,  3.09s/it]"
     ]
    },
    {
     "name": "stdout",
     "output_type": "stream",
     "text": [
      "LABEL: Dress\n",
      "EPOCH 4: 2.32325 sec\n",
      "Critic loss: -2.45765\n",
      "Generator loss: -0.34312\n",
      "\n"
     ]
    },
    {
     "name": "stderr",
     "output_type": "stream",
     "text": [
      "\r",
      "  5%|▌         | 5.0/100 [00:16<04:30,  2.85s/it]"
     ]
    },
    {
     "name": "stdout",
     "output_type": "stream",
     "text": [
      "LABEL: Dress\n",
      "EPOCH 5: 2.32234 sec\n",
      "Critic loss: -2.39185\n",
      "Generator loss: -1.09720\n",
      "\n"
     ]
    },
    {
     "name": "stderr",
     "output_type": "stream",
     "text": [
      "\r",
      "  6%|▌         | 6.0/100 [00:18<04:13,  2.70s/it]"
     ]
    },
    {
     "name": "stdout",
     "output_type": "stream",
     "text": [
      "LABEL: Dress\n",
      "EPOCH 6: 2.32219 sec\n",
      "Critic loss: -2.42534\n",
      "Generator loss: -2.90125\n",
      "\n"
     ]
    },
    {
     "name": "stderr",
     "output_type": "stream",
     "text": [
      "\r",
      "  7%|▋         | 7.0/100 [00:21<04:01,  2.60s/it]"
     ]
    },
    {
     "name": "stdout",
     "output_type": "stream",
     "text": [
      "LABEL: Dress\n",
      "EPOCH 7: 2.32308 sec\n",
      "Critic loss: -2.48287\n",
      "Generator loss: -4.34528\n",
      "\n"
     ]
    },
    {
     "name": "stderr",
     "output_type": "stream",
     "text": [
      "\r",
      "  8%|▊         | 8.0/100 [00:23<03:53,  2.54s/it]"
     ]
    },
    {
     "name": "stdout",
     "output_type": "stream",
     "text": [
      "LABEL: Dress\n",
      "EPOCH 8: 2.32277 sec\n",
      "Critic loss: -2.23378\n",
      "Generator loss: -4.26587\n",
      "\n"
     ]
    },
    {
     "name": "stderr",
     "output_type": "stream",
     "text": [
      "\r",
      "  9%|▉         | 9.0/100 [00:26<03:47,  2.50s/it]"
     ]
    },
    {
     "name": "stdout",
     "output_type": "stream",
     "text": [
      "LABEL: Dress\n",
      "EPOCH 9: 2.32273 sec\n",
      "Critic loss: -2.09887\n",
      "Generator loss: -3.81721\n",
      "\n"
     ]
    },
    {
     "name": "stderr",
     "output_type": "stream",
     "text": [
      "\r",
      " 10%|█         | 10.0/100 [00:28<03:42,  2.47s/it]"
     ]
    },
    {
     "name": "stdout",
     "output_type": "stream",
     "text": [
      "LABEL: Dress\n",
      "EPOCH 10: 2.32293 sec\n",
      "Critic loss: -1.77105\n",
      "Generator loss: -2.54081\n",
      "\n"
     ]
    },
    {
     "name": "stderr",
     "output_type": "stream",
     "text": [
      "\r",
      " 11%|█         | 11.0/100 [00:30<03:38,  2.45s/it]"
     ]
    },
    {
     "name": "stdout",
     "output_type": "stream",
     "text": [
      "LABEL: Dress\n",
      "EPOCH 11: 2.32217 sec\n",
      "Critic loss: -1.74292\n",
      "Generator loss: -1.45637\n",
      "\n"
     ]
    },
    {
     "name": "stderr",
     "output_type": "stream",
     "text": [
      "\r",
      " 12%|█▏        | 12.0/100 [00:33<03:34,  2.44s/it]"
     ]
    },
    {
     "name": "stdout",
     "output_type": "stream",
     "text": [
      "LABEL: Dress\n",
      "EPOCH 12: 2.32266 sec\n",
      "Critic loss: -2.14641\n",
      "Generator loss: -1.37442\n",
      "\n"
     ]
    },
    {
     "name": "stderr",
     "output_type": "stream",
     "text": [
      "\r",
      " 13%|█▎        | 13.0/100 [00:35<03:31,  2.43s/it]"
     ]
    },
    {
     "name": "stdout",
     "output_type": "stream",
     "text": [
      "LABEL: Dress\n",
      "EPOCH 13: 2.32310 sec\n",
      "Critic loss: -2.16710\n",
      "Generator loss: 0.43961\n",
      "\n"
     ]
    },
    {
     "name": "stderr",
     "output_type": "stream",
     "text": [
      "\r",
      " 14%|█▍        | 14.0/100 [00:38<03:28,  2.42s/it]"
     ]
    },
    {
     "name": "stdout",
     "output_type": "stream",
     "text": [
      "LABEL: Dress\n",
      "EPOCH 14: 2.32469 sec\n",
      "Critic loss: -1.63044\n",
      "Generator loss: 0.65994\n",
      "\n"
     ]
    },
    {
     "name": "stderr",
     "output_type": "stream",
     "text": [
      "\r",
      " 15%|█▌        | 15.0/100 [00:40<03:25,  2.42s/it]"
     ]
    },
    {
     "name": "stdout",
     "output_type": "stream",
     "text": [
      "LABEL: Dress\n",
      "EPOCH 15: 2.32386 sec\n",
      "Critic loss: -0.64969\n",
      "Generator loss: -1.94573\n",
      "\n"
     ]
    },
    {
     "name": "stderr",
     "output_type": "stream",
     "text": [
      "\r",
      " 16%|█▌        | 16.0/100 [00:42<03:22,  2.42s/it]"
     ]
    },
    {
     "name": "stdout",
     "output_type": "stream",
     "text": [
      "LABEL: Dress\n",
      "EPOCH 16: 2.32448 sec\n",
      "Critic loss: -0.48516\n",
      "Generator loss: -0.93403\n",
      "\n"
     ]
    },
    {
     "name": "stderr",
     "output_type": "stream",
     "text": [
      "\r",
      " 17%|█▋        | 17.0/100 [00:45<03:20,  2.41s/it]"
     ]
    },
    {
     "name": "stdout",
     "output_type": "stream",
     "text": [
      "LABEL: Dress\n",
      "EPOCH 17: 2.32334 sec\n",
      "Critic loss: -0.48117\n",
      "Generator loss: -0.44274\n",
      "\n"
     ]
    },
    {
     "name": "stderr",
     "output_type": "stream",
     "text": [
      "\r",
      " 18%|█▊        | 18.0/100 [00:47<03:17,  2.41s/it]"
     ]
    },
    {
     "name": "stdout",
     "output_type": "stream",
     "text": [
      "LABEL: Dress\n",
      "EPOCH 18: 2.32350 sec\n",
      "Critic loss: -0.43318\n",
      "Generator loss: 0.92136\n",
      "\n"
     ]
    },
    {
     "name": "stderr",
     "output_type": "stream",
     "text": [
      "\r",
      " 19%|█▉        | 19.0/100 [00:50<03:15,  2.41s/it]"
     ]
    },
    {
     "name": "stdout",
     "output_type": "stream",
     "text": [
      "LABEL: Dress\n",
      "EPOCH 19: 2.32366 sec\n",
      "Critic loss: -0.55381\n",
      "Generator loss: 2.09607\n",
      "\n"
     ]
    },
    {
     "name": "stderr",
     "output_type": "stream",
     "text": [
      "\r",
      " 20%|██        | 20.0/100 [00:52<03:12,  2.41s/it]"
     ]
    },
    {
     "name": "stdout",
     "output_type": "stream",
     "text": [
      "LABEL: Dress\n",
      "EPOCH 20: 2.32160 sec\n",
      "Critic loss: -0.59697\n",
      "Generator loss: 1.27385\n",
      "\n"
     ]
    },
    {
     "name": "stderr",
     "output_type": "stream",
     "text": [
      "\r",
      " 21%|██        | 21.0/100 [00:55<03:10,  2.41s/it]"
     ]
    },
    {
     "name": "stdout",
     "output_type": "stream",
     "text": [
      "LABEL: Dress\n",
      "EPOCH 21: 2.32094 sec\n",
      "Critic loss: -0.55515\n",
      "Generator loss: 1.31227\n",
      "\n",
      "INFO:tensorflow:Assets written to: models/05-05-21_11:26:10/Dress/generator/assets\n",
      "INFO:tensorflow:Assets written to: models/05-05-21_11:26:10/Dress/critic/assets\n"
     ]
    },
    {
     "name": "stderr",
     "output_type": "stream",
     "text": [
      "\r",
      " 22%|██▏       | 22.0/100 [00:59<03:44,  2.88s/it]"
     ]
    },
    {
     "name": "stdout",
     "output_type": "stream",
     "text": [
      "LABEL: Dress\n",
      "EPOCH 22: 2.32838 sec\n",
      "Critic loss: -0.51583\n",
      "Generator loss: 0.98395\n",
      "\n"
     ]
    },
    {
     "name": "stderr",
     "output_type": "stream",
     "text": [
      "\r",
      " 23%|██▎       | 23.0/100 [01:01<03:30,  2.74s/it]"
     ]
    },
    {
     "name": "stdout",
     "output_type": "stream",
     "text": [
      "LABEL: Dress\n",
      "EPOCH 23: 2.32470 sec\n",
      "Critic loss: -0.56236\n",
      "Generator loss: 0.41258\n",
      "\n"
     ]
    },
    {
     "name": "stderr",
     "output_type": "stream",
     "text": [
      "\r",
      " 24%|██▍       | 24.0/100 [01:03<03:20,  2.64s/it]"
     ]
    },
    {
     "name": "stdout",
     "output_type": "stream",
     "text": [
      "LABEL: Dress\n",
      "EPOCH 24: 2.32127 sec\n",
      "Critic loss: -0.43848\n",
      "Generator loss: 0.07035\n",
      "\n"
     ]
    },
    {
     "name": "stderr",
     "output_type": "stream",
     "text": [
      "\r",
      " 25%|██▌       | 25.0/100 [01:06<03:12,  2.57s/it]"
     ]
    },
    {
     "name": "stdout",
     "output_type": "stream",
     "text": [
      "LABEL: Dress\n",
      "EPOCH 25: 2.32266 sec\n",
      "Critic loss: -0.44327\n",
      "Generator loss: -0.31660\n",
      "\n"
     ]
    },
    {
     "name": "stderr",
     "output_type": "stream",
     "text": [
      "\r",
      " 26%|██▌       | 26.0/100 [01:08<03:06,  2.52s/it]"
     ]
    },
    {
     "name": "stdout",
     "output_type": "stream",
     "text": [
      "LABEL: Dress\n",
      "EPOCH 26: 2.32311 sec\n",
      "Critic loss: -0.11191\n",
      "Generator loss: -0.85676\n",
      "\n"
     ]
    },
    {
     "name": "stderr",
     "output_type": "stream",
     "text": [
      "\r",
      " 27%|██▋       | 27.0/100 [01:11<03:01,  2.48s/it]"
     ]
    },
    {
     "name": "stdout",
     "output_type": "stream",
     "text": [
      "LABEL: Dress\n",
      "EPOCH 27: 2.32207 sec\n",
      "Critic loss: -0.28380\n",
      "Generator loss: -1.87858\n",
      "\n"
     ]
    },
    {
     "name": "stderr",
     "output_type": "stream",
     "text": [
      "\r",
      " 28%|██▊       | 28.0/100 [01:13<02:57,  2.46s/it]"
     ]
    },
    {
     "name": "stdout",
     "output_type": "stream",
     "text": [
      "LABEL: Dress\n",
      "EPOCH 28: 2.32143 sec\n",
      "Critic loss: -0.25938\n",
      "Generator loss: -2.76930\n",
      "\n"
     ]
    },
    {
     "name": "stderr",
     "output_type": "stream",
     "text": [
      "\r",
      " 29%|██▉       | 29.0/100 [01:15<02:53,  2.44s/it]"
     ]
    },
    {
     "name": "stdout",
     "output_type": "stream",
     "text": [
      "LABEL: Dress\n",
      "EPOCH 29: 2.32301 sec\n",
      "Critic loss: -0.24067\n",
      "Generator loss: -3.21844\n",
      "\n"
     ]
    },
    {
     "name": "stderr",
     "output_type": "stream",
     "text": [
      "\r",
      " 30%|███       | 30.0/100 [01:18<02:50,  2.43s/it]"
     ]
    },
    {
     "name": "stdout",
     "output_type": "stream",
     "text": [
      "LABEL: Dress\n",
      "EPOCH 30: 2.32400 sec\n",
      "Critic loss: -0.25955\n",
      "Generator loss: -3.94519\n",
      "\n"
     ]
    },
    {
     "name": "stderr",
     "output_type": "stream",
     "text": [
      "\r",
      " 31%|███       | 31.0/100 [01:20<02:47,  2.43s/it]"
     ]
    },
    {
     "name": "stdout",
     "output_type": "stream",
     "text": [
      "LABEL: Dress\n",
      "EPOCH 31: 2.32384 sec\n",
      "Critic loss: -0.26707\n",
      "Generator loss: -4.85421\n",
      "\n"
     ]
    },
    {
     "name": "stderr",
     "output_type": "stream",
     "text": [
      "\r",
      " 32%|███▏      | 32.0/100 [01:23<02:44,  2.42s/it]"
     ]
    },
    {
     "name": "stdout",
     "output_type": "stream",
     "text": [
      "LABEL: Dress\n",
      "EPOCH 32: 2.32562 sec\n",
      "Critic loss: -0.28531\n",
      "Generator loss: -5.42298\n",
      "\n"
     ]
    },
    {
     "name": "stderr",
     "output_type": "stream",
     "text": [
      "\r",
      " 33%|███▎      | 33.0/100 [01:25<02:41,  2.42s/it]"
     ]
    },
    {
     "name": "stdout",
     "output_type": "stream",
     "text": [
      "LABEL: Dress\n",
      "EPOCH 33: 2.32453 sec\n",
      "Critic loss: -0.26483\n",
      "Generator loss: -5.98077\n",
      "\n"
     ]
    },
    {
     "name": "stderr",
     "output_type": "stream",
     "text": [
      "\r",
      " 34%|███▍      | 34.0/100 [01:27<02:39,  2.41s/it]"
     ]
    },
    {
     "name": "stdout",
     "output_type": "stream",
     "text": [
      "LABEL: Dress\n",
      "EPOCH 34: 2.32132 sec\n",
      "Critic loss: -0.27834\n",
      "Generator loss: -7.04173\n",
      "\n"
     ]
    },
    {
     "name": "stderr",
     "output_type": "stream",
     "text": [
      "\r",
      " 35%|███▌      | 35.0/100 [01:30<02:36,  2.41s/it]"
     ]
    },
    {
     "name": "stdout",
     "output_type": "stream",
     "text": [
      "LABEL: Dress\n",
      "EPOCH 35: 2.32212 sec\n",
      "Critic loss: -0.19203\n",
      "Generator loss: -7.89280\n",
      "\n"
     ]
    },
    {
     "name": "stderr",
     "output_type": "stream",
     "text": [
      "\r",
      " 36%|███▌      | 36.0/100 [01:32<02:34,  2.41s/it]"
     ]
    },
    {
     "name": "stdout",
     "output_type": "stream",
     "text": [
      "LABEL: Dress\n",
      "EPOCH 36: 2.32449 sec\n",
      "Critic loss: -0.24712\n",
      "Generator loss: -7.98810\n",
      "\n"
     ]
    },
    {
     "name": "stderr",
     "output_type": "stream",
     "text": [
      "\r",
      " 37%|███▋      | 37.0/100 [01:35<02:31,  2.41s/it]"
     ]
    },
    {
     "name": "stdout",
     "output_type": "stream",
     "text": [
      "LABEL: Dress\n",
      "EPOCH 37: 2.32213 sec\n",
      "Critic loss: -0.29183\n",
      "Generator loss: -8.71957\n",
      "\n"
     ]
    },
    {
     "name": "stderr",
     "output_type": "stream",
     "text": [
      "\r",
      " 38%|███▊      | 38.0/100 [01:37<02:29,  2.41s/it]"
     ]
    },
    {
     "name": "stdout",
     "output_type": "stream",
     "text": [
      "LABEL: Dress\n",
      "EPOCH 38: 2.33299 sec\n",
      "Critic loss: -0.24158\n",
      "Generator loss: -9.49499\n",
      "\n"
     ]
    },
    {
     "name": "stderr",
     "output_type": "stream",
     "text": [
      "\r",
      " 39%|███▉      | 39.0/100 [01:39<02:27,  2.41s/it]"
     ]
    },
    {
     "name": "stdout",
     "output_type": "stream",
     "text": [
      "LABEL: Dress\n",
      "EPOCH 39: 2.32717 sec\n",
      "Critic loss: -0.25236\n",
      "Generator loss: -9.86111\n",
      "\n"
     ]
    },
    {
     "name": "stderr",
     "output_type": "stream",
     "text": [
      "\r",
      " 40%|████      | 40.0/100 [01:42<02:24,  2.41s/it]"
     ]
    },
    {
     "name": "stdout",
     "output_type": "stream",
     "text": [
      "LABEL: Dress\n",
      "EPOCH 40: 2.32379 sec\n",
      "Critic loss: -0.24396\n",
      "Generator loss: -9.72930\n",
      "\n"
     ]
    },
    {
     "name": "stderr",
     "output_type": "stream",
     "text": [
      "\r",
      " 41%|████      | 41.0/100 [01:44<02:22,  2.41s/it]"
     ]
    },
    {
     "name": "stdout",
     "output_type": "stream",
     "text": [
      "LABEL: Dress\n",
      "EPOCH 41: 2.32623 sec\n",
      "Critic loss: -0.27876\n",
      "Generator loss: -10.59095\n",
      "\n",
      "INFO:tensorflow:Assets written to: models/05-05-21_11:26:10/Dress/generator/assets\n",
      "INFO:tensorflow:Assets written to: models/05-05-21_11:26:10/Dress/critic/assets\n"
     ]
    },
    {
     "name": "stderr",
     "output_type": "stream",
     "text": [
      "\r",
      " 42%|████▏     | 42.0/100 [01:48<02:46,  2.87s/it]"
     ]
    },
    {
     "name": "stdout",
     "output_type": "stream",
     "text": [
      "LABEL: Dress\n",
      "EPOCH 42: 2.32140 sec\n",
      "Critic loss: -0.25166\n",
      "Generator loss: -10.14721\n",
      "\n"
     ]
    },
    {
     "name": "stderr",
     "output_type": "stream",
     "text": [
      "\r",
      " 43%|████▎     | 43.0/100 [01:51<02:35,  2.73s/it]"
     ]
    },
    {
     "name": "stdout",
     "output_type": "stream",
     "text": [
      "LABEL: Dress\n",
      "EPOCH 43: 2.32276 sec\n",
      "Critic loss: -0.25632\n",
      "Generator loss: -11.02472\n",
      "\n"
     ]
    },
    {
     "name": "stderr",
     "output_type": "stream",
     "text": [
      "\r",
      " 44%|████▍     | 44.0/100 [01:53<02:27,  2.63s/it]"
     ]
    },
    {
     "name": "stdout",
     "output_type": "stream",
     "text": [
      "LABEL: Dress\n",
      "EPOCH 44: 2.32399 sec\n",
      "Critic loss: -0.27716\n",
      "Generator loss: -11.17002\n",
      "\n"
     ]
    },
    {
     "name": "stderr",
     "output_type": "stream",
     "text": [
      "\r",
      " 45%|████▌     | 45.0/100 [01:55<02:21,  2.57s/it]"
     ]
    },
    {
     "name": "stdout",
     "output_type": "stream",
     "text": [
      "LABEL: Dress\n",
      "EPOCH 45: 2.32328 sec\n",
      "Critic loss: -0.21135\n",
      "Generator loss: -10.87047\n",
      "\n"
     ]
    },
    {
     "name": "stderr",
     "output_type": "stream",
     "text": [
      "\r",
      " 46%|████▌     | 46.0/100 [01:58<02:16,  2.52s/it]"
     ]
    },
    {
     "name": "stdout",
     "output_type": "stream",
     "text": [
      "LABEL: Dress\n",
      "EPOCH 46: 2.32534 sec\n",
      "Critic loss: -0.34152\n",
      "Generator loss: -11.35940\n",
      "\n"
     ]
    },
    {
     "name": "stderr",
     "output_type": "stream",
     "text": [
      "\r",
      " 47%|████▋     | 47.0/100 [02:00<02:11,  2.48s/it]"
     ]
    },
    {
     "name": "stdout",
     "output_type": "stream",
     "text": [
      "LABEL: Dress\n",
      "EPOCH 47: 2.32160 sec\n",
      "Critic loss: -0.22030\n",
      "Generator loss: -11.47282\n",
      "\n"
     ]
    },
    {
     "name": "stderr",
     "output_type": "stream",
     "text": [
      "\r",
      " 48%|████▊     | 48.0/100 [02:03<02:07,  2.46s/it]"
     ]
    },
    {
     "name": "stdout",
     "output_type": "stream",
     "text": [
      "LABEL: Dress\n",
      "EPOCH 48: 2.32336 sec\n",
      "Critic loss: -0.16784\n",
      "Generator loss: -11.99556\n",
      "\n"
     ]
    },
    {
     "name": "stderr",
     "output_type": "stream",
     "text": [
      "\r",
      " 49%|████▉     | 49.0/100 [02:05<02:04,  2.44s/it]"
     ]
    },
    {
     "name": "stdout",
     "output_type": "stream",
     "text": [
      "LABEL: Dress\n",
      "EPOCH 49: 2.32108 sec\n",
      "Critic loss: -0.26340\n",
      "Generator loss: -12.12631\n",
      "\n"
     ]
    },
    {
     "name": "stderr",
     "output_type": "stream",
     "text": [
      "\r",
      " 50%|█████     | 50.0/100 [02:07<02:01,  2.43s/it]"
     ]
    },
    {
     "name": "stdout",
     "output_type": "stream",
     "text": [
      "LABEL: Dress\n",
      "EPOCH 50: 2.32200 sec\n",
      "Critic loss: -0.21364\n",
      "Generator loss: -11.62630\n",
      "\n"
     ]
    },
    {
     "name": "stderr",
     "output_type": "stream",
     "text": [
      "\r",
      " 51%|█████     | 51.0/100 [02:10<01:58,  2.43s/it]"
     ]
    },
    {
     "name": "stdout",
     "output_type": "stream",
     "text": [
      "LABEL: Dress\n",
      "EPOCH 51: 2.32473 sec\n",
      "Critic loss: -0.27067\n",
      "Generator loss: -11.58961\n",
      "\n"
     ]
    },
    {
     "name": "stderr",
     "output_type": "stream",
     "text": [
      "\r",
      " 52%|█████▏    | 52.0/100 [02:12<01:56,  2.42s/it]"
     ]
    },
    {
     "name": "stdout",
     "output_type": "stream",
     "text": [
      "LABEL: Dress\n",
      "EPOCH 52: 2.32199 sec\n",
      "Critic loss: -0.22522\n",
      "Generator loss: -11.82385\n",
      "\n"
     ]
    },
    {
     "name": "stderr",
     "output_type": "stream",
     "text": [
      "\r",
      " 53%|█████▎    | 53.0/100 [02:15<01:53,  2.41s/it]"
     ]
    },
    {
     "name": "stdout",
     "output_type": "stream",
     "text": [
      "LABEL: Dress\n",
      "EPOCH 53: 2.32113 sec\n",
      "Critic loss: -0.21455\n",
      "Generator loss: -11.22596\n",
      "\n"
     ]
    },
    {
     "name": "stderr",
     "output_type": "stream",
     "text": [
      "\r",
      " 54%|█████▍    | 54.0/100 [02:17<01:50,  2.41s/it]"
     ]
    },
    {
     "name": "stdout",
     "output_type": "stream",
     "text": [
      "LABEL: Dress\n",
      "EPOCH 54: 2.32263 sec\n",
      "Critic loss: -0.33683\n",
      "Generator loss: -10.92769\n",
      "\n"
     ]
    },
    {
     "name": "stderr",
     "output_type": "stream",
     "text": [
      "\r",
      " 55%|█████▌    | 55.0/100 [02:19<01:48,  2.41s/it]"
     ]
    },
    {
     "name": "stdout",
     "output_type": "stream",
     "text": [
      "LABEL: Dress\n",
      "EPOCH 55: 2.32401 sec\n",
      "Critic loss: -0.19897\n",
      "Generator loss: -10.68854\n",
      "\n"
     ]
    },
    {
     "name": "stderr",
     "output_type": "stream",
     "text": [
      "\r",
      " 56%|█████▌    | 56.0/100 [02:22<01:46,  2.41s/it]"
     ]
    },
    {
     "name": "stdout",
     "output_type": "stream",
     "text": [
      "LABEL: Dress\n",
      "EPOCH 56: 2.32460 sec\n",
      "Critic loss: -0.23011\n",
      "Generator loss: -11.06481\n",
      "\n"
     ]
    },
    {
     "name": "stderr",
     "output_type": "stream",
     "text": [
      "\r",
      " 57%|█████▋    | 57.0/100 [02:24<01:43,  2.41s/it]"
     ]
    },
    {
     "name": "stdout",
     "output_type": "stream",
     "text": [
      "LABEL: Dress\n",
      "EPOCH 57: 2.32181 sec\n",
      "Critic loss: -0.35635\n",
      "Generator loss: -9.82796\n",
      "\n"
     ]
    },
    {
     "name": "stderr",
     "output_type": "stream",
     "text": [
      "\r",
      " 58%|█████▊    | 58.0/100 [02:27<01:41,  2.41s/it]"
     ]
    },
    {
     "name": "stdout",
     "output_type": "stream",
     "text": [
      "LABEL: Dress\n",
      "EPOCH 58: 2.32203 sec\n",
      "Critic loss: -0.17270\n",
      "Generator loss: -10.55143\n",
      "\n"
     ]
    },
    {
     "name": "stderr",
     "output_type": "stream",
     "text": [
      "\r",
      " 59%|█████▉    | 59.0/100 [02:29<01:38,  2.41s/it]"
     ]
    },
    {
     "name": "stdout",
     "output_type": "stream",
     "text": [
      "LABEL: Dress\n",
      "EPOCH 59: 2.32428 sec\n",
      "Critic loss: -0.21666\n",
      "Generator loss: -9.81349\n",
      "\n"
     ]
    },
    {
     "name": "stderr",
     "output_type": "stream",
     "text": [
      "\r",
      " 60%|██████    | 60.0/100 [02:32<01:36,  2.41s/it]"
     ]
    },
    {
     "name": "stdout",
     "output_type": "stream",
     "text": [
      "LABEL: Dress\n",
      "EPOCH 60: 2.32367 sec\n",
      "Critic loss: -0.17932\n",
      "Generator loss: -9.40366\n",
      "\n"
     ]
    },
    {
     "name": "stderr",
     "output_type": "stream",
     "text": [
      "\r",
      " 61%|██████    | 61.0/100 [02:34<01:33,  2.41s/it]"
     ]
    },
    {
     "name": "stdout",
     "output_type": "stream",
     "text": [
      "LABEL: Dress\n",
      "EPOCH 61: 2.32676 sec\n",
      "Critic loss: -0.22450\n",
      "Generator loss: -10.30941\n",
      "\n",
      "INFO:tensorflow:Assets written to: models/05-05-21_11:26:10/Dress/generator/assets\n",
      "INFO:tensorflow:Assets written to: models/05-05-21_11:26:10/Dress/critic/assets\n"
     ]
    },
    {
     "name": "stderr",
     "output_type": "stream",
     "text": [
      "\r",
      " 62%|██████▏   | 62.0/100 [02:38<01:48,  2.84s/it]"
     ]
    },
    {
     "name": "stdout",
     "output_type": "stream",
     "text": [
      "LABEL: Dress\n",
      "EPOCH 62: 2.32168 sec\n",
      "Critic loss: -0.19296\n",
      "Generator loss: -9.19935\n",
      "\n"
     ]
    },
    {
     "name": "stderr",
     "output_type": "stream",
     "text": [
      "\r",
      " 63%|██████▎   | 63.0/100 [02:40<01:40,  2.71s/it]"
     ]
    },
    {
     "name": "stdout",
     "output_type": "stream",
     "text": [
      "LABEL: Dress\n",
      "EPOCH 63: 2.32419 sec\n",
      "Critic loss: -0.22550\n",
      "Generator loss: -9.10261\n",
      "\n"
     ]
    },
    {
     "name": "stderr",
     "output_type": "stream",
     "text": [
      "\r",
      " 64%|██████▍   | 64.0/100 [02:43<01:34,  2.62s/it]"
     ]
    },
    {
     "name": "stdout",
     "output_type": "stream",
     "text": [
      "LABEL: Dress\n",
      "EPOCH 64: 2.32300 sec\n",
      "Critic loss: -0.17664\n",
      "Generator loss: -8.82537\n",
      "\n"
     ]
    },
    {
     "name": "stderr",
     "output_type": "stream",
     "text": [
      "\r",
      " 65%|██████▌   | 65.0/100 [02:45<01:29,  2.56s/it]"
     ]
    },
    {
     "name": "stdout",
     "output_type": "stream",
     "text": [
      "LABEL: Dress\n",
      "EPOCH 65: 2.32377 sec\n",
      "Critic loss: -0.20009\n",
      "Generator loss: -8.37035\n",
      "\n"
     ]
    },
    {
     "name": "stderr",
     "output_type": "stream",
     "text": [
      "\r",
      " 66%|██████▌   | 66.0/100 [02:47<01:25,  2.51s/it]"
     ]
    },
    {
     "name": "stdout",
     "output_type": "stream",
     "text": [
      "LABEL: Dress\n",
      "EPOCH 66: 2.32175 sec\n",
      "Critic loss: -0.17498\n",
      "Generator loss: -8.06011\n",
      "\n"
     ]
    },
    {
     "name": "stderr",
     "output_type": "stream",
     "text": [
      "\r",
      " 67%|██████▋   | 67.0/100 [02:50<01:21,  2.48s/it]"
     ]
    },
    {
     "name": "stdout",
     "output_type": "stream",
     "text": [
      "LABEL: Dress\n",
      "EPOCH 67: 2.32427 sec\n",
      "Critic loss: -0.21208\n",
      "Generator loss: -8.23048\n",
      "\n"
     ]
    },
    {
     "name": "stderr",
     "output_type": "stream",
     "text": [
      "\r",
      " 68%|██████▊   | 68.0/100 [02:52<01:18,  2.46s/it]"
     ]
    },
    {
     "name": "stdout",
     "output_type": "stream",
     "text": [
      "LABEL: Dress\n",
      "EPOCH 68: 2.32291 sec\n",
      "Critic loss: -0.26498\n",
      "Generator loss: -7.97810\n",
      "\n"
     ]
    },
    {
     "name": "stderr",
     "output_type": "stream",
     "text": [
      "\r",
      " 69%|██████▉   | 69.0/100 [02:55<01:15,  2.44s/it]"
     ]
    },
    {
     "name": "stdout",
     "output_type": "stream",
     "text": [
      "LABEL: Dress\n",
      "EPOCH 69: 2.32978 sec\n",
      "Critic loss: -0.18666\n",
      "Generator loss: -7.49357\n",
      "\n"
     ]
    },
    {
     "name": "stderr",
     "output_type": "stream",
     "text": [
      "\r",
      " 70%|███████   | 70.0/100 [02:57<01:12,  2.43s/it]"
     ]
    },
    {
     "name": "stdout",
     "output_type": "stream",
     "text": [
      "LABEL: Dress\n",
      "EPOCH 70: 2.32358 sec\n",
      "Critic loss: -0.12410\n",
      "Generator loss: -7.78102\n",
      "\n"
     ]
    },
    {
     "name": "stderr",
     "output_type": "stream",
     "text": [
      "\r",
      " 71%|███████   | 71.0/100 [02:59<01:10,  2.43s/it]"
     ]
    },
    {
     "name": "stdout",
     "output_type": "stream",
     "text": [
      "LABEL: Dress\n",
      "EPOCH 71: 2.32380 sec\n",
      "Critic loss: -0.21373\n",
      "Generator loss: -7.57438\n",
      "\n"
     ]
    },
    {
     "name": "stderr",
     "output_type": "stream",
     "text": [
      "\r",
      " 72%|███████▏  | 72.0/100 [03:02<01:07,  2.42s/it]"
     ]
    },
    {
     "name": "stdout",
     "output_type": "stream",
     "text": [
      "LABEL: Dress\n",
      "EPOCH 72: 2.32464 sec\n",
      "Critic loss: -0.14485\n",
      "Generator loss: -7.35439\n",
      "\n"
     ]
    },
    {
     "name": "stderr",
     "output_type": "stream",
     "text": [
      "\r",
      " 73%|███████▎  | 73.0/100 [03:04<01:05,  2.42s/it]"
     ]
    },
    {
     "name": "stdout",
     "output_type": "stream",
     "text": [
      "LABEL: Dress\n",
      "EPOCH 73: 2.32384 sec\n",
      "Critic loss: -0.12343\n",
      "Generator loss: -6.49384\n",
      "\n"
     ]
    },
    {
     "name": "stderr",
     "output_type": "stream",
     "text": [
      "\r",
      " 74%|███████▍  | 74.0/100 [03:07<01:02,  2.42s/it]"
     ]
    },
    {
     "name": "stdout",
     "output_type": "stream",
     "text": [
      "LABEL: Dress\n",
      "EPOCH 74: 2.32662 sec\n",
      "Critic loss: -0.12116\n",
      "Generator loss: -6.56438\n",
      "\n"
     ]
    },
    {
     "name": "stderr",
     "output_type": "stream",
     "text": [
      "\r",
      " 75%|███████▌  | 75.0/100 [03:09<01:00,  2.41s/it]"
     ]
    },
    {
     "name": "stdout",
     "output_type": "stream",
     "text": [
      "LABEL: Dress\n",
      "EPOCH 75: 2.32156 sec\n",
      "Critic loss: -0.12251\n",
      "Generator loss: -6.32537\n",
      "\n"
     ]
    },
    {
     "name": "stderr",
     "output_type": "stream",
     "text": [
      "\r",
      " 76%|███████▌  | 76.0/100 [03:11<00:57,  2.41s/it]"
     ]
    },
    {
     "name": "stdout",
     "output_type": "stream",
     "text": [
      "LABEL: Dress\n",
      "EPOCH 76: 2.32526 sec\n",
      "Critic loss: -0.11639\n",
      "Generator loss: -6.38607\n",
      "\n"
     ]
    },
    {
     "name": "stderr",
     "output_type": "stream",
     "text": [
      "\r",
      " 77%|███████▋  | 77.0/100 [03:14<00:55,  2.41s/it]"
     ]
    },
    {
     "name": "stdout",
     "output_type": "stream",
     "text": [
      "LABEL: Dress\n",
      "EPOCH 77: 2.32151 sec\n",
      "Critic loss: -0.09960\n",
      "Generator loss: -6.38585\n",
      "\n"
     ]
    },
    {
     "name": "stderr",
     "output_type": "stream",
     "text": [
      "\r",
      " 78%|███████▊  | 78.0/100 [03:16<00:52,  2.41s/it]"
     ]
    },
    {
     "name": "stdout",
     "output_type": "stream",
     "text": [
      "LABEL: Dress\n",
      "EPOCH 78: 2.32247 sec\n",
      "Critic loss: -0.06774\n",
      "Generator loss: -6.13868\n",
      "\n"
     ]
    },
    {
     "name": "stderr",
     "output_type": "stream",
     "text": [
      "\r",
      " 79%|███████▉  | 79.0/100 [03:19<00:50,  2.41s/it]"
     ]
    },
    {
     "name": "stdout",
     "output_type": "stream",
     "text": [
      "LABEL: Dress\n",
      "EPOCH 79: 2.32176 sec\n",
      "Critic loss: -0.18523\n",
      "Generator loss: -6.12351\n",
      "\n"
     ]
    },
    {
     "name": "stderr",
     "output_type": "stream",
     "text": [
      "\r",
      " 80%|████████  | 80.0/100 [03:21<00:48,  2.41s/it]"
     ]
    },
    {
     "name": "stdout",
     "output_type": "stream",
     "text": [
      "LABEL: Dress\n",
      "EPOCH 80: 2.32507 sec\n",
      "Critic loss: -0.16660\n",
      "Generator loss: -5.75111\n",
      "\n"
     ]
    },
    {
     "name": "stderr",
     "output_type": "stream",
     "text": [
      "\r",
      " 81%|████████  | 81.0/100 [03:24<00:45,  2.41s/it]"
     ]
    },
    {
     "name": "stdout",
     "output_type": "stream",
     "text": [
      "LABEL: Dress\n",
      "EPOCH 81: 2.32328 sec\n",
      "Critic loss: -0.11432\n",
      "Generator loss: -5.85211\n",
      "\n",
      "INFO:tensorflow:Assets written to: models/05-05-21_11:26:10/Dress/generator/assets\n",
      "INFO:tensorflow:Assets written to: models/05-05-21_11:26:10/Dress/critic/assets\n"
     ]
    },
    {
     "name": "stderr",
     "output_type": "stream",
     "text": [
      "\r",
      " 82%|████████▏ | 82.0/100 [03:28<00:51,  2.88s/it]"
     ]
    },
    {
     "name": "stdout",
     "output_type": "stream",
     "text": [
      "LABEL: Dress\n",
      "EPOCH 82: 2.32831 sec\n",
      "Critic loss: -0.09727\n",
      "Generator loss: -5.54685\n",
      "\n"
     ]
    },
    {
     "name": "stderr",
     "output_type": "stream",
     "text": [
      "\r",
      " 83%|████████▎ | 83.0/100 [03:30<00:46,  2.74s/it]"
     ]
    },
    {
     "name": "stdout",
     "output_type": "stream",
     "text": [
      "LABEL: Dress\n",
      "EPOCH 83: 2.32413 sec\n",
      "Critic loss: -0.13894\n",
      "Generator loss: -5.18658\n",
      "\n"
     ]
    },
    {
     "name": "stderr",
     "output_type": "stream",
     "text": [
      "\r",
      " 84%|████████▍ | 84.0/100 [03:32<00:42,  2.64s/it]"
     ]
    },
    {
     "name": "stdout",
     "output_type": "stream",
     "text": [
      "LABEL: Dress\n",
      "EPOCH 84: 2.32349 sec\n",
      "Critic loss: -0.10245\n",
      "Generator loss: -5.28802\n",
      "\n"
     ]
    },
    {
     "name": "stderr",
     "output_type": "stream",
     "text": [
      "\r",
      " 85%|████████▌ | 85.0/100 [03:35<00:38,  2.57s/it]"
     ]
    },
    {
     "name": "stdout",
     "output_type": "stream",
     "text": [
      "LABEL: Dress\n",
      "EPOCH 85: 2.32399 sec\n",
      "Critic loss: -0.10496\n",
      "Generator loss: -5.38653\n",
      "\n"
     ]
    },
    {
     "name": "stderr",
     "output_type": "stream",
     "text": [
      "\r",
      " 86%|████████▌ | 86.0/100 [03:37<00:35,  2.52s/it]"
     ]
    },
    {
     "name": "stdout",
     "output_type": "stream",
     "text": [
      "LABEL: Dress\n",
      "EPOCH 86: 2.33274 sec\n",
      "Critic loss: -0.14133\n",
      "Generator loss: -4.69164\n",
      "\n"
     ]
    },
    {
     "name": "stderr",
     "output_type": "stream",
     "text": [
      "\r",
      " 87%|████████▋ | 87.0/100 [03:40<00:32,  2.49s/it]"
     ]
    },
    {
     "name": "stdout",
     "output_type": "stream",
     "text": [
      "LABEL: Dress\n",
      "EPOCH 87: 2.33090 sec\n",
      "Critic loss: -0.14195\n",
      "Generator loss: -5.22302\n",
      "\n"
     ]
    },
    {
     "name": "stderr",
     "output_type": "stream",
     "text": [
      "\r",
      " 88%|████████▊ | 88.0/100 [03:42<00:29,  2.47s/it]"
     ]
    },
    {
     "name": "stdout",
     "output_type": "stream",
     "text": [
      "LABEL: Dress\n",
      "EPOCH 88: 2.32293 sec\n",
      "Critic loss: -0.12884\n",
      "Generator loss: -5.25953\n",
      "\n"
     ]
    },
    {
     "name": "stderr",
     "output_type": "stream",
     "text": [
      "\r",
      " 89%|████████▉ | 89.0/100 [03:44<00:26,  2.45s/it]"
     ]
    },
    {
     "name": "stdout",
     "output_type": "stream",
     "text": [
      "LABEL: Dress\n",
      "EPOCH 89: 2.32411 sec\n",
      "Critic loss: -0.09283\n",
      "Generator loss: -4.45295\n",
      "\n"
     ]
    },
    {
     "name": "stderr",
     "output_type": "stream",
     "text": [
      "\r",
      " 90%|█████████ | 90.0/100 [03:47<00:24,  2.44s/it]"
     ]
    },
    {
     "name": "stdout",
     "output_type": "stream",
     "text": [
      "LABEL: Dress\n",
      "EPOCH 90: 2.32403 sec\n",
      "Critic loss: -0.09223\n",
      "Generator loss: -4.47391\n",
      "\n"
     ]
    },
    {
     "name": "stderr",
     "output_type": "stream",
     "text": [
      "\r",
      " 91%|█████████ | 91.0/100 [03:49<00:21,  2.43s/it]"
     ]
    },
    {
     "name": "stdout",
     "output_type": "stream",
     "text": [
      "LABEL: Dress\n",
      "EPOCH 91: 2.32542 sec\n",
      "Critic loss: -0.10178\n",
      "Generator loss: -4.49818\n",
      "\n"
     ]
    },
    {
     "name": "stderr",
     "output_type": "stream",
     "text": [
      "\r",
      " 92%|█████████▏| 92.0/100 [03:52<00:19,  2.42s/it]"
     ]
    },
    {
     "name": "stdout",
     "output_type": "stream",
     "text": [
      "LABEL: Dress\n",
      "EPOCH 92: 2.32385 sec\n",
      "Critic loss: -0.12810\n",
      "Generator loss: -4.25553\n",
      "\n"
     ]
    },
    {
     "name": "stderr",
     "output_type": "stream",
     "text": [
      "\r",
      " 93%|█████████▎| 93.0/100 [03:54<00:16,  2.42s/it]"
     ]
    },
    {
     "name": "stdout",
     "output_type": "stream",
     "text": [
      "LABEL: Dress\n",
      "EPOCH 93: 2.32455 sec\n",
      "Critic loss: -0.11659\n",
      "Generator loss: -4.34950\n",
      "\n"
     ]
    },
    {
     "name": "stderr",
     "output_type": "stream",
     "text": [
      "\r",
      " 94%|█████████▍| 94.0/100 [03:56<00:14,  2.41s/it]"
     ]
    },
    {
     "name": "stdout",
     "output_type": "stream",
     "text": [
      "LABEL: Dress\n",
      "EPOCH 94: 2.32338 sec\n",
      "Critic loss: -0.11552\n",
      "Generator loss: -4.32784\n",
      "\n"
     ]
    },
    {
     "name": "stderr",
     "output_type": "stream",
     "text": [
      "\r",
      " 95%|█████████▌| 95.0/100 [03:59<00:12,  2.41s/it]"
     ]
    },
    {
     "name": "stdout",
     "output_type": "stream",
     "text": [
      "LABEL: Dress\n",
      "EPOCH 95: 2.32537 sec\n",
      "Critic loss: -0.10256\n",
      "Generator loss: -4.04709\n",
      "\n"
     ]
    },
    {
     "name": "stderr",
     "output_type": "stream",
     "text": [
      "\r",
      " 96%|█████████▌| 96.0/100 [04:01<00:09,  2.41s/it]"
     ]
    },
    {
     "name": "stdout",
     "output_type": "stream",
     "text": [
      "LABEL: Dress\n",
      "EPOCH 96: 2.32128 sec\n",
      "Critic loss: -0.11830\n",
      "Generator loss: -4.08893\n",
      "\n"
     ]
    },
    {
     "name": "stderr",
     "output_type": "stream",
     "text": [
      "\r",
      " 97%|█████████▋| 97.0/100 [04:04<00:07,  2.41s/it]"
     ]
    },
    {
     "name": "stdout",
     "output_type": "stream",
     "text": [
      "LABEL: Dress\n",
      "EPOCH 97: 2.32895 sec\n",
      "Critic loss: -0.11240\n",
      "Generator loss: -3.76193\n",
      "\n"
     ]
    },
    {
     "name": "stderr",
     "output_type": "stream",
     "text": [
      "\r",
      " 98%|█████████▊| 98.0/100 [04:06<00:04,  2.41s/it]"
     ]
    },
    {
     "name": "stdout",
     "output_type": "stream",
     "text": [
      "LABEL: Dress\n",
      "EPOCH 98: 2.32478 sec\n",
      "Critic loss: -0.06049\n",
      "Generator loss: -3.87057\n",
      "\n"
     ]
    },
    {
     "name": "stderr",
     "output_type": "stream",
     "text": [
      "\r",
      " 99%|█████████▉| 99.0/100 [04:08<00:02,  2.42s/it]"
     ]
    },
    {
     "name": "stdout",
     "output_type": "stream",
     "text": [
      "LABEL: Dress\n",
      "EPOCH 99: 2.36928 sec\n",
      "Critic loss: -0.10163\n",
      "Generator loss: -3.98320\n",
      "\n"
     ]
    },
    {
     "name": "stderr",
     "output_type": "stream",
     "text": [
      "100%|██████████| 100.0/100 [04:11<00:00,  2.51s/it]\n",
      "  0%|          | 0/100 [00:00<?, ?it/s]"
     ]
    },
    {
     "name": "stdout",
     "output_type": "stream",
     "text": [
      "LABEL: Dress\n",
      "EPOCH 100: 2.32755 sec\n",
      "Critic loss: -0.09386\n",
      "Generator loss: -3.77681\n",
      "\n",
      "----------- TRAINING TO GENERATE **Coat** -----------\n"
     ]
    },
    {
     "name": "stderr",
     "output_type": "stream",
     "text": [
      "\r",
      "  1%|          | 1.0/100 [00:05<09:25,  5.72s/it]"
     ]
    },
    {
     "name": "stdout",
     "output_type": "stream",
     "text": [
      "LABEL: Coat\n",
      "EPOCH 1: 5.71731 sec\n",
      "Critic loss: -2.58672\n",
      "Generator loss: -3.05951\n",
      "\n",
      "INFO:tensorflow:Assets written to: models/05-05-21_11:26:10/Coat/generator/assets\n",
      "INFO:tensorflow:Assets written to: models/05-05-21_11:26:10/Coat/critic/assets\n"
     ]
    },
    {
     "name": "stderr",
     "output_type": "stream",
     "text": [
      "\r",
      "  2%|▏         | 2.0/100 [00:09<07:45,  4.75s/it]"
     ]
    },
    {
     "name": "stdout",
     "output_type": "stream",
     "text": [
      "LABEL: Coat\n",
      "EPOCH 2: 2.37949 sec\n",
      "Critic loss: -2.30809\n",
      "Generator loss: -2.15710\n",
      "\n"
     ]
    },
    {
     "name": "stderr",
     "output_type": "stream",
     "text": [
      "\r",
      "  3%|▎         | 3.0/100 [00:12<05:57,  3.68s/it]"
     ]
    },
    {
     "name": "stdout",
     "output_type": "stream",
     "text": [
      "LABEL: Coat\n",
      "EPOCH 3: 2.32657 sec\n",
      "Critic loss: -2.50047\n",
      "Generator loss: -1.28311\n",
      "\n"
     ]
    },
    {
     "name": "stderr",
     "output_type": "stream",
     "text": [
      "\r",
      "  4%|▍         | 4.0/100 [00:14<05:08,  3.21s/it]"
     ]
    },
    {
     "name": "stdout",
     "output_type": "stream",
     "text": [
      "LABEL: Coat\n",
      "EPOCH 4: 2.40902 sec\n",
      "Critic loss: -2.29349\n",
      "Generator loss: -0.65871\n",
      "\n"
     ]
    },
    {
     "name": "stderr",
     "output_type": "stream",
     "text": [
      "\r",
      "  5%|▌         | 5.0/100 [00:17<04:38,  2.93s/it]"
     ]
    },
    {
     "name": "stdout",
     "output_type": "stream",
     "text": [
      "LABEL: Coat\n",
      "EPOCH 5: 2.35066 sec\n",
      "Critic loss: -2.80248\n",
      "Generator loss: -0.12647\n",
      "\n"
     ]
    },
    {
     "name": "stderr",
     "output_type": "stream",
     "text": [
      "\r",
      "  6%|▌         | 6.0/100 [00:19<04:18,  2.75s/it]"
     ]
    },
    {
     "name": "stdout",
     "output_type": "stream",
     "text": [
      "LABEL: Coat\n",
      "EPOCH 6: 2.32341 sec\n",
      "Critic loss: -3.14541\n",
      "Generator loss: -0.16193\n",
      "\n"
     ]
    },
    {
     "name": "stderr",
     "output_type": "stream",
     "text": [
      "\r",
      "  7%|▋         | 7.0/100 [00:21<04:05,  2.64s/it]"
     ]
    },
    {
     "name": "stdout",
     "output_type": "stream",
     "text": [
      "LABEL: Coat\n",
      "EPOCH 7: 2.32554 sec\n",
      "Critic loss: -3.26247\n",
      "Generator loss: 0.08397\n",
      "\n"
     ]
    },
    {
     "name": "stderr",
     "output_type": "stream",
     "text": [
      "\r",
      "  8%|▊         | 8.0/100 [00:24<03:56,  2.57s/it]"
     ]
    },
    {
     "name": "stdout",
     "output_type": "stream",
     "text": [
      "LABEL: Coat\n",
      "EPOCH 8: 2.32118 sec\n",
      "Critic loss: -2.81628\n",
      "Generator loss: -0.78436\n",
      "\n"
     ]
    },
    {
     "name": "stderr",
     "output_type": "stream",
     "text": [
      "\r",
      "  9%|▉         | 9.0/100 [00:26<03:48,  2.52s/it]"
     ]
    },
    {
     "name": "stdout",
     "output_type": "stream",
     "text": [
      "LABEL: Coat\n",
      "EPOCH 9: 2.32054 sec\n",
      "Critic loss: -2.68592\n",
      "Generator loss: -1.26141\n",
      "\n"
     ]
    },
    {
     "name": "stderr",
     "output_type": "stream",
     "text": [
      "\r",
      " 10%|█         | 10.0/100 [00:29<03:43,  2.48s/it]"
     ]
    },
    {
     "name": "stdout",
     "output_type": "stream",
     "text": [
      "LABEL: Coat\n",
      "EPOCH 10: 2.32410 sec\n",
      "Critic loss: -2.11134\n",
      "Generator loss: -1.41045\n",
      "\n"
     ]
    },
    {
     "name": "stderr",
     "output_type": "stream",
     "text": [
      "\r",
      " 11%|█         | 11.0/100 [00:31<03:38,  2.46s/it]"
     ]
    },
    {
     "name": "stdout",
     "output_type": "stream",
     "text": [
      "LABEL: Coat\n",
      "EPOCH 11: 2.32272 sec\n",
      "Critic loss: -2.56849\n",
      "Generator loss: -0.47304\n",
      "\n"
     ]
    },
    {
     "name": "stderr",
     "output_type": "stream",
     "text": [
      "\r",
      " 12%|█▏        | 12.0/100 [00:33<03:34,  2.44s/it]"
     ]
    },
    {
     "name": "stdout",
     "output_type": "stream",
     "text": [
      "LABEL: Coat\n",
      "EPOCH 12: 2.32168 sec\n",
      "Critic loss: -2.46268\n",
      "Generator loss: -0.53292\n",
      "\n"
     ]
    },
    {
     "name": "stderr",
     "output_type": "stream",
     "text": [
      "\r",
      " 13%|█▎        | 13.0/100 [00:36<03:31,  2.43s/it]"
     ]
    },
    {
     "name": "stdout",
     "output_type": "stream",
     "text": [
      "LABEL: Coat\n",
      "EPOCH 13: 2.32325 sec\n",
      "Critic loss: -2.07889\n",
      "Generator loss: -0.24015\n",
      "\n"
     ]
    },
    {
     "name": "stderr",
     "output_type": "stream",
     "text": [
      "\r",
      " 14%|█▍        | 14.0/100 [00:38<03:28,  2.42s/it]"
     ]
    },
    {
     "name": "stdout",
     "output_type": "stream",
     "text": [
      "LABEL: Coat\n",
      "EPOCH 14: 2.32151 sec\n",
      "Critic loss: -2.00389\n",
      "Generator loss: -0.00482\n",
      "\n"
     ]
    },
    {
     "name": "stderr",
     "output_type": "stream",
     "text": [
      "\r",
      " 15%|█▌        | 15.0/100 [00:41<03:25,  2.42s/it]"
     ]
    },
    {
     "name": "stdout",
     "output_type": "stream",
     "text": [
      "LABEL: Coat\n",
      "EPOCH 15: 2.32322 sec\n",
      "Critic loss: -1.94829\n",
      "Generator loss: 0.01376\n",
      "\n"
     ]
    },
    {
     "name": "stderr",
     "output_type": "stream",
     "text": [
      "\r",
      " 16%|█▌        | 16.0/100 [00:43<03:22,  2.42s/it]"
     ]
    },
    {
     "name": "stdout",
     "output_type": "stream",
     "text": [
      "LABEL: Coat\n",
      "EPOCH 16: 2.32313 sec\n",
      "Critic loss: -1.60968\n",
      "Generator loss: 0.71201\n",
      "\n"
     ]
    },
    {
     "name": "stderr",
     "output_type": "stream",
     "text": [
      "\r",
      " 17%|█▋        | 17.0/100 [00:46<03:20,  2.41s/it]"
     ]
    },
    {
     "name": "stdout",
     "output_type": "stream",
     "text": [
      "LABEL: Coat\n",
      "EPOCH 17: 2.32425 sec\n",
      "Critic loss: -0.41005\n",
      "Generator loss: 0.45929\n",
      "\n"
     ]
    },
    {
     "name": "stderr",
     "output_type": "stream",
     "text": [
      "\r",
      " 18%|█▊        | 18.0/100 [00:48<03:17,  2.41s/it]"
     ]
    },
    {
     "name": "stdout",
     "output_type": "stream",
     "text": [
      "LABEL: Coat\n",
      "EPOCH 18: 2.32643 sec\n",
      "Critic loss: -0.37052\n",
      "Generator loss: 2.17863\n",
      "\n"
     ]
    },
    {
     "name": "stderr",
     "output_type": "stream",
     "text": [
      "\r",
      " 19%|█▉        | 19.0/100 [00:50<03:15,  2.41s/it]"
     ]
    },
    {
     "name": "stdout",
     "output_type": "stream",
     "text": [
      "LABEL: Coat\n",
      "EPOCH 19: 2.32235 sec\n",
      "Critic loss: -0.38849\n",
      "Generator loss: 1.09085\n",
      "\n"
     ]
    },
    {
     "name": "stderr",
     "output_type": "stream",
     "text": [
      "\r",
      " 20%|██        | 20.0/100 [00:53<03:12,  2.41s/it]"
     ]
    },
    {
     "name": "stdout",
     "output_type": "stream",
     "text": [
      "LABEL: Coat\n",
      "EPOCH 20: 2.32813 sec\n",
      "Critic loss: -0.34609\n",
      "Generator loss: 0.32253\n",
      "\n"
     ]
    },
    {
     "name": "stderr",
     "output_type": "stream",
     "text": [
      "\r",
      " 21%|██        | 21.0/100 [00:55<03:10,  2.41s/it]"
     ]
    },
    {
     "name": "stdout",
     "output_type": "stream",
     "text": [
      "LABEL: Coat\n",
      "EPOCH 21: 2.32669 sec\n",
      "Critic loss: -0.42807\n",
      "Generator loss: 0.22886\n",
      "\n",
      "INFO:tensorflow:Assets written to: models/05-05-21_11:26:10/Coat/generator/assets\n",
      "INFO:tensorflow:Assets written to: models/05-05-21_11:26:10/Coat/critic/assets\n"
     ]
    },
    {
     "name": "stderr",
     "output_type": "stream",
     "text": [
      "\r",
      " 22%|██▏       | 22.0/100 [00:59<03:41,  2.84s/it]"
     ]
    },
    {
     "name": "stdout",
     "output_type": "stream",
     "text": [
      "LABEL: Coat\n",
      "EPOCH 22: 2.32483 sec\n",
      "Critic loss: -0.38250\n",
      "Generator loss: 0.15641\n",
      "\n"
     ]
    },
    {
     "name": "stderr",
     "output_type": "stream",
     "text": [
      "\r",
      " 23%|██▎       | 23.0/100 [01:01<03:29,  2.72s/it]"
     ]
    },
    {
     "name": "stdout",
     "output_type": "stream",
     "text": [
      "LABEL: Coat\n",
      "EPOCH 23: 2.32918 sec\n",
      "Critic loss: -0.46648\n",
      "Generator loss: -0.39355\n",
      "\n"
     ]
    },
    {
     "name": "stderr",
     "output_type": "stream",
     "text": [
      "\r",
      " 24%|██▍       | 24.0/100 [01:04<03:19,  2.62s/it]"
     ]
    },
    {
     "name": "stdout",
     "output_type": "stream",
     "text": [
      "LABEL: Coat\n",
      "EPOCH 24: 2.32382 sec\n",
      "Critic loss: -0.38321\n",
      "Generator loss: -0.46663\n",
      "\n"
     ]
    },
    {
     "name": "stderr",
     "output_type": "stream",
     "text": [
      "\r",
      " 25%|██▌       | 25.0/100 [01:06<03:11,  2.56s/it]"
     ]
    },
    {
     "name": "stdout",
     "output_type": "stream",
     "text": [
      "LABEL: Coat\n",
      "EPOCH 25: 2.32223 sec\n",
      "Critic loss: -0.40937\n",
      "Generator loss: -0.50264\n",
      "\n"
     ]
    },
    {
     "name": "stderr",
     "output_type": "stream",
     "text": [
      "\r",
      " 26%|██▌       | 26.0/100 [01:09<03:05,  2.51s/it]"
     ]
    },
    {
     "name": "stdout",
     "output_type": "stream",
     "text": [
      "LABEL: Coat\n",
      "EPOCH 26: 2.32294 sec\n",
      "Critic loss: -0.26694\n",
      "Generator loss: -0.94915\n",
      "\n"
     ]
    },
    {
     "name": "stderr",
     "output_type": "stream",
     "text": [
      "\r",
      " 27%|██▋       | 27.0/100 [01:11<03:01,  2.48s/it]"
     ]
    },
    {
     "name": "stdout",
     "output_type": "stream",
     "text": [
      "LABEL: Coat\n",
      "EPOCH 27: 2.32242 sec\n",
      "Critic loss: -0.19531\n",
      "Generator loss: -0.44459\n",
      "\n"
     ]
    },
    {
     "name": "stderr",
     "output_type": "stream",
     "text": [
      "\r",
      " 28%|██▊       | 28.0/100 [01:13<02:56,  2.46s/it]"
     ]
    },
    {
     "name": "stdout",
     "output_type": "stream",
     "text": [
      "LABEL: Coat\n",
      "EPOCH 28: 2.32269 sec\n",
      "Critic loss: -0.25087\n",
      "Generator loss: -1.02644\n",
      "\n"
     ]
    },
    {
     "name": "stderr",
     "output_type": "stream",
     "text": [
      "\r",
      " 29%|██▉       | 29.0/100 [01:16<02:53,  2.44s/it]"
     ]
    },
    {
     "name": "stdout",
     "output_type": "stream",
     "text": [
      "LABEL: Coat\n",
      "EPOCH 29: 2.32270 sec\n",
      "Critic loss: -0.27982\n",
      "Generator loss: -1.02964\n",
      "\n"
     ]
    },
    {
     "name": "stderr",
     "output_type": "stream",
     "text": [
      "\r",
      " 30%|███       | 30.0/100 [01:18<02:50,  2.43s/it]"
     ]
    },
    {
     "name": "stdout",
     "output_type": "stream",
     "text": [
      "LABEL: Coat\n",
      "EPOCH 30: 2.32201 sec\n",
      "Critic loss: -0.24402\n",
      "Generator loss: -1.55311\n",
      "\n"
     ]
    },
    {
     "name": "stderr",
     "output_type": "stream",
     "text": [
      "\r",
      " 31%|███       | 31.0/100 [01:21<02:47,  2.42s/it]"
     ]
    },
    {
     "name": "stdout",
     "output_type": "stream",
     "text": [
      "LABEL: Coat\n",
      "EPOCH 31: 2.32133 sec\n",
      "Critic loss: -0.32137\n",
      "Generator loss: -2.26207\n",
      "\n"
     ]
    },
    {
     "name": "stderr",
     "output_type": "stream",
     "text": [
      "\r",
      " 32%|███▏      | 32.0/100 [01:23<02:44,  2.42s/it]"
     ]
    },
    {
     "name": "stdout",
     "output_type": "stream",
     "text": [
      "LABEL: Coat\n",
      "EPOCH 32: 2.32041 sec\n",
      "Critic loss: -0.27708\n",
      "Generator loss: -2.76887\n",
      "\n"
     ]
    },
    {
     "name": "stderr",
     "output_type": "stream",
     "text": [
      "\r",
      " 33%|███▎      | 33.0/100 [01:25<02:42,  2.42s/it]"
     ]
    },
    {
     "name": "stdout",
     "output_type": "stream",
     "text": [
      "LABEL: Coat\n",
      "EPOCH 33: 2.34262 sec\n",
      "Critic loss: -0.27187\n",
      "Generator loss: -3.12445\n",
      "\n"
     ]
    },
    {
     "name": "stderr",
     "output_type": "stream",
     "text": [
      "\r",
      " 34%|███▍      | 34.0/100 [01:28<02:39,  2.42s/it]"
     ]
    },
    {
     "name": "stdout",
     "output_type": "stream",
     "text": [
      "LABEL: Coat\n",
      "EPOCH 34: 2.33579 sec\n",
      "Critic loss: -0.27793\n",
      "Generator loss: -3.68191\n",
      "\n"
     ]
    },
    {
     "name": "stderr",
     "output_type": "stream",
     "text": [
      "\r",
      " 35%|███▌      | 35.0/100 [01:30<02:36,  2.42s/it]"
     ]
    },
    {
     "name": "stdout",
     "output_type": "stream",
     "text": [
      "LABEL: Coat\n",
      "EPOCH 35: 2.32366 sec\n",
      "Critic loss: -0.13403\n",
      "Generator loss: -3.73233\n",
      "\n"
     ]
    },
    {
     "name": "stderr",
     "output_type": "stream",
     "text": [
      "\r",
      " 36%|███▌      | 36.0/100 [01:33<02:34,  2.41s/it]"
     ]
    },
    {
     "name": "stdout",
     "output_type": "stream",
     "text": [
      "LABEL: Coat\n",
      "EPOCH 36: 2.32243 sec\n",
      "Critic loss: -0.21427\n",
      "Generator loss: -3.52850\n",
      "\n"
     ]
    },
    {
     "name": "stderr",
     "output_type": "stream",
     "text": [
      "\r",
      " 37%|███▋      | 37.0/100 [01:35<02:31,  2.41s/it]"
     ]
    },
    {
     "name": "stdout",
     "output_type": "stream",
     "text": [
      "LABEL: Coat\n",
      "EPOCH 37: 2.32305 sec\n",
      "Critic loss: -0.22107\n",
      "Generator loss: -4.36994\n",
      "\n"
     ]
    },
    {
     "name": "stderr",
     "output_type": "stream",
     "text": [
      "\r",
      " 38%|███▊      | 38.0/100 [01:38<02:29,  2.41s/it]"
     ]
    },
    {
     "name": "stdout",
     "output_type": "stream",
     "text": [
      "LABEL: Coat\n",
      "EPOCH 38: 2.32355 sec\n",
      "Critic loss: -0.27814\n",
      "Generator loss: -4.86412\n",
      "\n"
     ]
    },
    {
     "name": "stderr",
     "output_type": "stream",
     "text": [
      "\r",
      " 39%|███▉      | 39.0/100 [01:40<02:26,  2.41s/it]"
     ]
    },
    {
     "name": "stdout",
     "output_type": "stream",
     "text": [
      "LABEL: Coat\n",
      "EPOCH 39: 2.32396 sec\n",
      "Critic loss: -0.26406\n",
      "Generator loss: -4.81608\n",
      "\n"
     ]
    },
    {
     "name": "stderr",
     "output_type": "stream",
     "text": [
      "\r",
      " 40%|████      | 40.0/100 [01:42<02:24,  2.41s/it]"
     ]
    },
    {
     "name": "stdout",
     "output_type": "stream",
     "text": [
      "LABEL: Coat\n",
      "EPOCH 40: 2.32364 sec\n",
      "Critic loss: -0.24854\n",
      "Generator loss: -5.87994\n",
      "\n"
     ]
    },
    {
     "name": "stderr",
     "output_type": "stream",
     "text": [
      "\r",
      " 41%|████      | 41.0/100 [01:45<02:22,  2.41s/it]"
     ]
    },
    {
     "name": "stdout",
     "output_type": "stream",
     "text": [
      "LABEL: Coat\n",
      "EPOCH 41: 2.32535 sec\n",
      "Critic loss: -0.24792\n",
      "Generator loss: -5.86288\n",
      "\n",
      "INFO:tensorflow:Assets written to: models/05-05-21_11:26:10/Coat/generator/assets\n",
      "INFO:tensorflow:Assets written to: models/05-05-21_11:26:10/Coat/critic/assets\n"
     ]
    },
    {
     "name": "stderr",
     "output_type": "stream",
     "text": [
      "\r",
      " 42%|████▏     | 42.0/100 [01:49<02:45,  2.85s/it]"
     ]
    },
    {
     "name": "stdout",
     "output_type": "stream",
     "text": [
      "LABEL: Coat\n",
      "EPOCH 42: 2.32635 sec\n",
      "Critic loss: -0.27818\n",
      "Generator loss: -6.25748\n",
      "\n"
     ]
    },
    {
     "name": "stderr",
     "output_type": "stream",
     "text": [
      "\r",
      " 43%|████▎     | 43.0/100 [01:51<02:34,  2.71s/it]"
     ]
    },
    {
     "name": "stdout",
     "output_type": "stream",
     "text": [
      "LABEL: Coat\n",
      "EPOCH 43: 2.32014 sec\n",
      "Critic loss: -0.22180\n",
      "Generator loss: -6.35700\n",
      "\n"
     ]
    },
    {
     "name": "stderr",
     "output_type": "stream",
     "text": [
      "\r",
      " 44%|████▍     | 44.0/100 [01:53<02:26,  2.62s/it]"
     ]
    },
    {
     "name": "stdout",
     "output_type": "stream",
     "text": [
      "LABEL: Coat\n",
      "EPOCH 44: 2.32351 sec\n",
      "Critic loss: -0.19434\n",
      "Generator loss: -6.97761\n",
      "\n"
     ]
    },
    {
     "name": "stderr",
     "output_type": "stream",
     "text": [
      "\r",
      " 45%|████▌     | 45.0/100 [01:56<02:20,  2.56s/it]"
     ]
    },
    {
     "name": "stdout",
     "output_type": "stream",
     "text": [
      "LABEL: Coat\n",
      "EPOCH 45: 2.32353 sec\n",
      "Critic loss: -0.25922\n",
      "Generator loss: -6.87277\n",
      "\n"
     ]
    },
    {
     "name": "stderr",
     "output_type": "stream",
     "text": [
      "\r",
      " 46%|████▌     | 46.0/100 [01:58<02:15,  2.51s/it]"
     ]
    },
    {
     "name": "stdout",
     "output_type": "stream",
     "text": [
      "LABEL: Coat\n",
      "EPOCH 46: 2.32415 sec\n",
      "Critic loss: -0.22490\n",
      "Generator loss: -6.71821\n",
      "\n"
     ]
    },
    {
     "name": "stderr",
     "output_type": "stream",
     "text": [
      "\r",
      " 47%|████▋     | 47.0/100 [02:01<02:11,  2.48s/it]"
     ]
    },
    {
     "name": "stdout",
     "output_type": "stream",
     "text": [
      "LABEL: Coat\n",
      "EPOCH 47: 2.32261 sec\n",
      "Critic loss: -0.13559\n",
      "Generator loss: -6.87627\n",
      "\n"
     ]
    },
    {
     "name": "stderr",
     "output_type": "stream",
     "text": [
      "\r",
      " 48%|████▊     | 48.0/100 [02:03<02:07,  2.46s/it]"
     ]
    },
    {
     "name": "stdout",
     "output_type": "stream",
     "text": [
      "LABEL: Coat\n",
      "EPOCH 48: 2.32334 sec\n",
      "Critic loss: -0.20060\n",
      "Generator loss: -6.75174\n",
      "\n"
     ]
    },
    {
     "name": "stderr",
     "output_type": "stream",
     "text": [
      "\r",
      " 49%|████▉     | 49.0/100 [02:05<02:04,  2.44s/it]"
     ]
    },
    {
     "name": "stdout",
     "output_type": "stream",
     "text": [
      "LABEL: Coat\n",
      "EPOCH 49: 2.32384 sec\n",
      "Critic loss: -0.22748\n",
      "Generator loss: -7.14734\n",
      "\n"
     ]
    },
    {
     "name": "stderr",
     "output_type": "stream",
     "text": [
      "\r",
      " 50%|█████     | 50.0/100 [02:08<02:01,  2.43s/it]"
     ]
    },
    {
     "name": "stdout",
     "output_type": "stream",
     "text": [
      "LABEL: Coat\n",
      "EPOCH 50: 2.32110 sec\n",
      "Critic loss: -0.24823\n",
      "Generator loss: -7.32050\n",
      "\n"
     ]
    },
    {
     "name": "stderr",
     "output_type": "stream",
     "text": [
      "\r",
      " 51%|█████     | 51.0/100 [02:10<01:58,  2.42s/it]"
     ]
    },
    {
     "name": "stdout",
     "output_type": "stream",
     "text": [
      "LABEL: Coat\n",
      "EPOCH 51: 2.32340 sec\n",
      "Critic loss: -0.15403\n",
      "Generator loss: -7.26240\n",
      "\n"
     ]
    },
    {
     "name": "stderr",
     "output_type": "stream",
     "text": [
      "\r",
      " 52%|█████▏    | 52.0/100 [02:13<01:56,  2.42s/it]"
     ]
    },
    {
     "name": "stdout",
     "output_type": "stream",
     "text": [
      "LABEL: Coat\n",
      "EPOCH 52: 2.32192 sec\n",
      "Critic loss: -0.19061\n",
      "Generator loss: -7.55596\n",
      "\n"
     ]
    },
    {
     "name": "stderr",
     "output_type": "stream",
     "text": [
      "\r",
      " 53%|█████▎    | 53.0/100 [02:15<01:53,  2.42s/it]"
     ]
    },
    {
     "name": "stdout",
     "output_type": "stream",
     "text": [
      "LABEL: Coat\n",
      "EPOCH 53: 2.32413 sec\n",
      "Critic loss: -0.17516\n",
      "Generator loss: -7.25594\n",
      "\n"
     ]
    },
    {
     "name": "stderr",
     "output_type": "stream",
     "text": [
      "\r",
      " 54%|█████▍    | 54.0/100 [02:18<01:50,  2.41s/it]"
     ]
    },
    {
     "name": "stdout",
     "output_type": "stream",
     "text": [
      "LABEL: Coat\n",
      "EPOCH 54: 2.32230 sec\n",
      "Critic loss: -0.21023\n",
      "Generator loss: -7.64179\n",
      "\n"
     ]
    },
    {
     "name": "stderr",
     "output_type": "stream",
     "text": [
      "\r",
      " 55%|█████▌    | 55.0/100 [02:20<01:48,  2.41s/it]"
     ]
    },
    {
     "name": "stdout",
     "output_type": "stream",
     "text": [
      "LABEL: Coat\n",
      "EPOCH 55: 2.32215 sec\n",
      "Critic loss: -0.17719\n",
      "Generator loss: -7.12087\n",
      "\n"
     ]
    },
    {
     "name": "stderr",
     "output_type": "stream",
     "text": [
      "\r",
      " 56%|█████▌    | 56.0/100 [02:22<01:46,  2.41s/it]"
     ]
    },
    {
     "name": "stdout",
     "output_type": "stream",
     "text": [
      "LABEL: Coat\n",
      "EPOCH 56: 2.32414 sec\n",
      "Critic loss: -0.20104\n",
      "Generator loss: -7.25899\n",
      "\n"
     ]
    },
    {
     "name": "stderr",
     "output_type": "stream",
     "text": [
      "\r",
      " 57%|█████▋    | 57.0/100 [02:25<01:43,  2.41s/it]"
     ]
    },
    {
     "name": "stdout",
     "output_type": "stream",
     "text": [
      "LABEL: Coat\n",
      "EPOCH 57: 2.32524 sec\n",
      "Critic loss: -0.19345\n",
      "Generator loss: -7.09217\n",
      "\n"
     ]
    },
    {
     "name": "stderr",
     "output_type": "stream",
     "text": [
      "\r",
      " 58%|█████▊    | 58.0/100 [02:27<01:41,  2.41s/it]"
     ]
    },
    {
     "name": "stdout",
     "output_type": "stream",
     "text": [
      "LABEL: Coat\n",
      "EPOCH 58: 2.32126 sec\n",
      "Critic loss: -0.18801\n",
      "Generator loss: -6.96304\n",
      "\n"
     ]
    },
    {
     "name": "stderr",
     "output_type": "stream",
     "text": [
      "\r",
      " 59%|█████▉    | 59.0/100 [02:30<01:38,  2.41s/it]"
     ]
    },
    {
     "name": "stdout",
     "output_type": "stream",
     "text": [
      "LABEL: Coat\n",
      "EPOCH 59: 2.32791 sec\n",
      "Critic loss: -0.18550\n",
      "Generator loss: -7.58629\n",
      "\n"
     ]
    },
    {
     "name": "stderr",
     "output_type": "stream",
     "text": [
      "\r",
      " 60%|██████    | 60.0/100 [02:32<01:36,  2.41s/it]"
     ]
    },
    {
     "name": "stdout",
     "output_type": "stream",
     "text": [
      "LABEL: Coat\n",
      "EPOCH 60: 2.32436 sec\n",
      "Critic loss: -0.23246\n",
      "Generator loss: -7.71308\n",
      "\n"
     ]
    },
    {
     "name": "stderr",
     "output_type": "stream",
     "text": [
      "\r",
      " 61%|██████    | 61.0/100 [02:34<01:33,  2.41s/it]"
     ]
    },
    {
     "name": "stdout",
     "output_type": "stream",
     "text": [
      "LABEL: Coat\n",
      "EPOCH 61: 2.32485 sec\n",
      "Critic loss: -0.20663\n",
      "Generator loss: -7.15417\n",
      "\n",
      "INFO:tensorflow:Assets written to: models/05-05-21_11:26:10/Coat/generator/assets\n",
      "INFO:tensorflow:Assets written to: models/05-05-21_11:26:10/Coat/critic/assets\n"
     ]
    },
    {
     "name": "stderr",
     "output_type": "stream",
     "text": [
      "\r",
      " 62%|██████▏   | 62.0/100 [02:38<01:47,  2.83s/it]"
     ]
    },
    {
     "name": "stdout",
     "output_type": "stream",
     "text": [
      "LABEL: Coat\n",
      "EPOCH 62: 2.32183 sec\n",
      "Critic loss: -0.16934\n",
      "Generator loss: -7.03914\n",
      "\n"
     ]
    },
    {
     "name": "stderr",
     "output_type": "stream",
     "text": [
      "\r",
      " 63%|██████▎   | 63.0/100 [02:41<01:40,  2.70s/it]"
     ]
    },
    {
     "name": "stdout",
     "output_type": "stream",
     "text": [
      "LABEL: Coat\n",
      "EPOCH 63: 2.32302 sec\n",
      "Critic loss: -0.15903\n",
      "Generator loss: -6.10693\n",
      "\n"
     ]
    },
    {
     "name": "stderr",
     "output_type": "stream",
     "text": [
      "\r",
      " 64%|██████▍   | 64.0/100 [02:43<01:34,  2.61s/it]"
     ]
    },
    {
     "name": "stdout",
     "output_type": "stream",
     "text": [
      "LABEL: Coat\n",
      "EPOCH 64: 2.32258 sec\n",
      "Critic loss: -0.18627\n",
      "Generator loss: -7.24197\n",
      "\n"
     ]
    },
    {
     "name": "stderr",
     "output_type": "stream",
     "text": [
      "\r",
      " 65%|██████▌   | 65.0/100 [02:45<01:29,  2.55s/it]"
     ]
    },
    {
     "name": "stdout",
     "output_type": "stream",
     "text": [
      "LABEL: Coat\n",
      "EPOCH 65: 2.32324 sec\n",
      "Critic loss: -0.15996\n",
      "Generator loss: -7.39901\n",
      "\n"
     ]
    },
    {
     "name": "stderr",
     "output_type": "stream",
     "text": [
      "\r",
      " 66%|██████▌   | 66.0/100 [02:48<01:25,  2.51s/it]"
     ]
    },
    {
     "name": "stdout",
     "output_type": "stream",
     "text": [
      "LABEL: Coat\n",
      "EPOCH 66: 2.32160 sec\n",
      "Critic loss: -0.15263\n",
      "Generator loss: -6.63349\n",
      "\n"
     ]
    },
    {
     "name": "stderr",
     "output_type": "stream",
     "text": [
      "\r",
      " 67%|██████▋   | 67.0/100 [02:50<01:21,  2.48s/it]"
     ]
    },
    {
     "name": "stdout",
     "output_type": "stream",
     "text": [
      "LABEL: Coat\n",
      "EPOCH 67: 2.32593 sec\n",
      "Critic loss: -0.11706\n",
      "Generator loss: -6.71388\n",
      "\n"
     ]
    },
    {
     "name": "stderr",
     "output_type": "stream",
     "text": [
      "\r",
      " 68%|██████▊   | 68.0/100 [02:53<01:18,  2.46s/it]"
     ]
    },
    {
     "name": "stdout",
     "output_type": "stream",
     "text": [
      "LABEL: Coat\n",
      "EPOCH 68: 2.32775 sec\n",
      "Critic loss: -0.15718\n",
      "Generator loss: -5.86748\n",
      "\n"
     ]
    },
    {
     "name": "stderr",
     "output_type": "stream",
     "text": [
      "\r",
      " 69%|██████▉   | 69.0/100 [02:55<01:15,  2.44s/it]"
     ]
    },
    {
     "name": "stdout",
     "output_type": "stream",
     "text": [
      "LABEL: Coat\n",
      "EPOCH 69: 2.32263 sec\n",
      "Critic loss: -0.11756\n",
      "Generator loss: -6.28502\n",
      "\n"
     ]
    },
    {
     "name": "stderr",
     "output_type": "stream",
     "text": [
      "\r",
      " 70%|███████   | 70.0/100 [02:57<01:13,  2.43s/it]"
     ]
    },
    {
     "name": "stdout",
     "output_type": "stream",
     "text": [
      "LABEL: Coat\n",
      "EPOCH 70: 2.32895 sec\n",
      "Critic loss: -0.15761\n",
      "Generator loss: -6.32634\n",
      "\n"
     ]
    },
    {
     "name": "stderr",
     "output_type": "stream",
     "text": [
      "\r",
      " 71%|███████   | 71.0/100 [03:00<01:10,  2.43s/it]"
     ]
    },
    {
     "name": "stdout",
     "output_type": "stream",
     "text": [
      "LABEL: Coat\n",
      "EPOCH 71: 2.32377 sec\n",
      "Critic loss: -0.16797\n",
      "Generator loss: -6.22020\n",
      "\n"
     ]
    },
    {
     "name": "stderr",
     "output_type": "stream",
     "text": [
      "\r",
      " 72%|███████▏  | 72.0/100 [03:02<01:07,  2.42s/it]"
     ]
    },
    {
     "name": "stdout",
     "output_type": "stream",
     "text": [
      "LABEL: Coat\n",
      "EPOCH 72: 2.32422 sec\n",
      "Critic loss: -0.14335\n",
      "Generator loss: -5.77835\n",
      "\n"
     ]
    },
    {
     "name": "stderr",
     "output_type": "stream",
     "text": [
      "\r",
      " 73%|███████▎  | 73.0/100 [03:05<01:05,  2.42s/it]"
     ]
    },
    {
     "name": "stdout",
     "output_type": "stream",
     "text": [
      "LABEL: Coat\n",
      "EPOCH 73: 2.32433 sec\n",
      "Critic loss: -0.12133\n",
      "Generator loss: -5.45043\n",
      "\n"
     ]
    },
    {
     "name": "stderr",
     "output_type": "stream",
     "text": [
      "\r",
      " 74%|███████▍  | 74.0/100 [03:07<01:02,  2.41s/it]"
     ]
    },
    {
     "name": "stdout",
     "output_type": "stream",
     "text": [
      "LABEL: Coat\n",
      "EPOCH 74: 2.32356 sec\n",
      "Critic loss: -0.06733\n",
      "Generator loss: -5.23039\n",
      "\n"
     ]
    },
    {
     "name": "stderr",
     "output_type": "stream",
     "text": [
      "\r",
      " 75%|███████▌  | 75.0/100 [03:09<01:00,  2.41s/it]"
     ]
    },
    {
     "name": "stdout",
     "output_type": "stream",
     "text": [
      "LABEL: Coat\n",
      "EPOCH 75: 2.32211 sec\n",
      "Critic loss: -0.13800\n",
      "Generator loss: -5.22139\n",
      "\n"
     ]
    },
    {
     "name": "stderr",
     "output_type": "stream",
     "text": [
      "\r",
      " 76%|███████▌  | 76.0/100 [03:12<00:57,  2.41s/it]"
     ]
    },
    {
     "name": "stdout",
     "output_type": "stream",
     "text": [
      "LABEL: Coat\n",
      "EPOCH 76: 2.32525 sec\n",
      "Critic loss: -0.12422\n",
      "Generator loss: -4.83687\n",
      "\n"
     ]
    },
    {
     "name": "stderr",
     "output_type": "stream",
     "text": [
      "\r",
      " 77%|███████▋  | 77.0/100 [03:14<00:55,  2.41s/it]"
     ]
    },
    {
     "name": "stdout",
     "output_type": "stream",
     "text": [
      "LABEL: Coat\n",
      "EPOCH 77: 2.32578 sec\n",
      "Critic loss: -0.12481\n",
      "Generator loss: -4.78383\n",
      "\n"
     ]
    },
    {
     "name": "stderr",
     "output_type": "stream",
     "text": [
      "\r",
      " 78%|███████▊  | 78.0/100 [03:17<00:53,  2.41s/it]"
     ]
    },
    {
     "name": "stdout",
     "output_type": "stream",
     "text": [
      "LABEL: Coat\n",
      "EPOCH 78: 2.32516 sec\n",
      "Critic loss: -0.15492\n",
      "Generator loss: -4.79231\n",
      "\n"
     ]
    },
    {
     "name": "stderr",
     "output_type": "stream",
     "text": [
      "\r",
      " 79%|███████▉  | 79.0/100 [03:19<00:50,  2.41s/it]"
     ]
    },
    {
     "name": "stdout",
     "output_type": "stream",
     "text": [
      "LABEL: Coat\n",
      "EPOCH 79: 2.32587 sec\n",
      "Critic loss: -0.06278\n",
      "Generator loss: -4.49350\n",
      "\n"
     ]
    },
    {
     "name": "stderr",
     "output_type": "stream",
     "text": [
      "\r",
      " 80%|████████  | 80.0/100 [03:22<00:48,  2.41s/it]"
     ]
    },
    {
     "name": "stdout",
     "output_type": "stream",
     "text": [
      "LABEL: Coat\n",
      "EPOCH 80: 2.32607 sec\n",
      "Critic loss: -0.12726\n",
      "Generator loss: -4.67483\n",
      "\n"
     ]
    },
    {
     "name": "stderr",
     "output_type": "stream",
     "text": [
      "\r",
      " 81%|████████  | 81.0/100 [03:24<00:45,  2.41s/it]"
     ]
    },
    {
     "name": "stdout",
     "output_type": "stream",
     "text": [
      "LABEL: Coat\n",
      "EPOCH 81: 2.32719 sec\n",
      "Critic loss: -0.11451\n",
      "Generator loss: -4.18662\n",
      "\n",
      "INFO:tensorflow:Assets written to: models/05-05-21_11:26:10/Coat/generator/assets\n",
      "INFO:tensorflow:Assets written to: models/05-05-21_11:26:10/Coat/critic/assets\n"
     ]
    },
    {
     "name": "stderr",
     "output_type": "stream",
     "text": [
      "\r",
      " 82%|████████▏ | 82.0/100 [03:28<00:51,  2.86s/it]"
     ]
    },
    {
     "name": "stdout",
     "output_type": "stream",
     "text": [
      "LABEL: Coat\n",
      "EPOCH 82: 2.33482 sec\n",
      "Critic loss: -0.10232\n",
      "Generator loss: -4.16315\n",
      "\n"
     ]
    },
    {
     "name": "stderr",
     "output_type": "stream",
     "text": [
      "\r",
      " 83%|████████▎ | 83.0/100 [03:30<00:46,  2.72s/it]"
     ]
    },
    {
     "name": "stdout",
     "output_type": "stream",
     "text": [
      "LABEL: Coat\n",
      "EPOCH 83: 2.32611 sec\n",
      "Critic loss: -0.14976\n",
      "Generator loss: -3.96513\n",
      "\n"
     ]
    },
    {
     "name": "stderr",
     "output_type": "stream",
     "text": [
      "\r",
      " 84%|████████▍ | 84.0/100 [03:33<00:42,  2.63s/it]"
     ]
    },
    {
     "name": "stdout",
     "output_type": "stream",
     "text": [
      "LABEL: Coat\n",
      "EPOCH 84: 2.32442 sec\n",
      "Critic loss: -0.16676\n",
      "Generator loss: -3.48535\n",
      "\n"
     ]
    },
    {
     "name": "stderr",
     "output_type": "stream",
     "text": [
      "\r",
      " 85%|████████▌ | 85.0/100 [03:35<00:38,  2.56s/it]"
     ]
    },
    {
     "name": "stdout",
     "output_type": "stream",
     "text": [
      "LABEL: Coat\n",
      "EPOCH 85: 2.32299 sec\n",
      "Critic loss: -0.08225\n",
      "Generator loss: -3.91891\n",
      "\n"
     ]
    },
    {
     "name": "stderr",
     "output_type": "stream",
     "text": [
      "\r",
      " 86%|████████▌ | 86.0/100 [03:37<00:35,  2.52s/it]"
     ]
    },
    {
     "name": "stdout",
     "output_type": "stream",
     "text": [
      "LABEL: Coat\n",
      "EPOCH 86: 2.32048 sec\n",
      "Critic loss: -0.11572\n",
      "Generator loss: -3.69530\n",
      "\n"
     ]
    },
    {
     "name": "stderr",
     "output_type": "stream",
     "text": [
      "\r",
      " 87%|████████▋ | 87.0/100 [03:40<00:32,  2.48s/it]"
     ]
    },
    {
     "name": "stdout",
     "output_type": "stream",
     "text": [
      "LABEL: Coat\n",
      "EPOCH 87: 2.32271 sec\n",
      "Critic loss: -0.07504\n",
      "Generator loss: -4.01429\n",
      "\n"
     ]
    },
    {
     "name": "stderr",
     "output_type": "stream",
     "text": [
      "\r",
      " 88%|████████▊ | 88.0/100 [03:42<00:29,  2.46s/it]"
     ]
    },
    {
     "name": "stdout",
     "output_type": "stream",
     "text": [
      "LABEL: Coat\n",
      "EPOCH 88: 2.32367 sec\n",
      "Critic loss: -0.14562\n",
      "Generator loss: -3.52985\n",
      "\n"
     ]
    },
    {
     "name": "stderr",
     "output_type": "stream",
     "text": [
      "\r",
      " 89%|████████▉ | 89.0/100 [03:45<00:26,  2.45s/it]"
     ]
    },
    {
     "name": "stdout",
     "output_type": "stream",
     "text": [
      "LABEL: Coat\n",
      "EPOCH 89: 2.32300 sec\n",
      "Critic loss: -0.12223\n",
      "Generator loss: -3.25161\n",
      "\n"
     ]
    },
    {
     "name": "stderr",
     "output_type": "stream",
     "text": [
      "\r",
      " 90%|█████████ | 90.0/100 [03:47<00:24,  2.43s/it]"
     ]
    },
    {
     "name": "stdout",
     "output_type": "stream",
     "text": [
      "LABEL: Coat\n",
      "EPOCH 90: 2.32493 sec\n",
      "Critic loss: -0.16734\n",
      "Generator loss: -3.91371\n",
      "\n"
     ]
    },
    {
     "name": "stderr",
     "output_type": "stream",
     "text": [
      "\r",
      " 91%|█████████ | 91.0/100 [03:50<00:21,  2.43s/it]"
     ]
    },
    {
     "name": "stdout",
     "output_type": "stream",
     "text": [
      "LABEL: Coat\n",
      "EPOCH 91: 2.32423 sec\n",
      "Critic loss: -0.14205\n",
      "Generator loss: -3.59127\n",
      "\n"
     ]
    },
    {
     "name": "stderr",
     "output_type": "stream",
     "text": [
      "\r",
      " 92%|█████████▏| 92.0/100 [03:52<00:19,  2.42s/it]"
     ]
    },
    {
     "name": "stdout",
     "output_type": "stream",
     "text": [
      "LABEL: Coat\n",
      "EPOCH 92: 2.32333 sec\n",
      "Critic loss: -0.07711\n",
      "Generator loss: -3.33939\n",
      "\n"
     ]
    },
    {
     "name": "stderr",
     "output_type": "stream",
     "text": [
      "\r",
      " 93%|█████████▎| 93.0/100 [03:54<00:16,  2.42s/it]"
     ]
    },
    {
     "name": "stdout",
     "output_type": "stream",
     "text": [
      "LABEL: Coat\n",
      "EPOCH 93: 2.32308 sec\n",
      "Critic loss: -0.06830\n",
      "Generator loss: -3.68740\n",
      "\n"
     ]
    },
    {
     "name": "stderr",
     "output_type": "stream",
     "text": [
      "\r",
      " 94%|█████████▍| 94.0/100 [03:57<00:14,  2.41s/it]"
     ]
    },
    {
     "name": "stdout",
     "output_type": "stream",
     "text": [
      "LABEL: Coat\n",
      "EPOCH 94: 2.32265 sec\n",
      "Critic loss: -0.09000\n",
      "Generator loss: -3.24961\n",
      "\n"
     ]
    },
    {
     "name": "stderr",
     "output_type": "stream",
     "text": [
      "\r",
      " 95%|█████████▌| 95.0/100 [03:59<00:12,  2.41s/it]"
     ]
    },
    {
     "name": "stdout",
     "output_type": "stream",
     "text": [
      "LABEL: Coat\n",
      "EPOCH 95: 2.32866 sec\n",
      "Critic loss: -0.10992\n",
      "Generator loss: -3.14388\n",
      "\n"
     ]
    },
    {
     "name": "stderr",
     "output_type": "stream",
     "text": [
      "\r",
      " 96%|█████████▌| 96.0/100 [04:02<00:09,  2.41s/it]"
     ]
    },
    {
     "name": "stdout",
     "output_type": "stream",
     "text": [
      "LABEL: Coat\n",
      "EPOCH 96: 2.32332 sec\n",
      "Critic loss: -0.09559\n",
      "Generator loss: -2.96149\n",
      "\n"
     ]
    },
    {
     "name": "stderr",
     "output_type": "stream",
     "text": [
      "\r",
      " 97%|█████████▋| 97.0/100 [04:04<00:07,  2.41s/it]"
     ]
    },
    {
     "name": "stdout",
     "output_type": "stream",
     "text": [
      "LABEL: Coat\n",
      "EPOCH 97: 2.32396 sec\n",
      "Critic loss: -0.09546\n",
      "Generator loss: -2.87178\n",
      "\n"
     ]
    },
    {
     "name": "stderr",
     "output_type": "stream",
     "text": [
      "\r",
      " 98%|█████████▊| 98.0/100 [04:06<00:04,  2.41s/it]"
     ]
    },
    {
     "name": "stdout",
     "output_type": "stream",
     "text": [
      "LABEL: Coat\n",
      "EPOCH 98: 2.32827 sec\n",
      "Critic loss: -0.09852\n",
      "Generator loss: -2.81763\n",
      "\n"
     ]
    },
    {
     "name": "stderr",
     "output_type": "stream",
     "text": [
      "\r",
      " 99%|█████████▉| 99.0/100 [04:09<00:02,  2.41s/it]"
     ]
    },
    {
     "name": "stdout",
     "output_type": "stream",
     "text": [
      "LABEL: Coat\n",
      "EPOCH 99: 2.32422 sec\n",
      "Critic loss: -0.16811\n",
      "Generator loss: -3.22285\n",
      "\n"
     ]
    },
    {
     "name": "stderr",
     "output_type": "stream",
     "text": [
      "100%|██████████| 100.0/100 [04:11<00:00,  2.52s/it]\n",
      "  0%|          | 0/100 [00:00<?, ?it/s]"
     ]
    },
    {
     "name": "stdout",
     "output_type": "stream",
     "text": [
      "LABEL: Coat\n",
      "EPOCH 100: 2.32328 sec\n",
      "Critic loss: -0.14113\n",
      "Generator loss: -2.71005\n",
      "\n",
      "----------- TRAINING TO GENERATE **Sandal** -----------\n"
     ]
    },
    {
     "name": "stderr",
     "output_type": "stream",
     "text": [
      "\r",
      "  1%|          | 1.0/100 [00:05<09:12,  5.58s/it]"
     ]
    },
    {
     "name": "stdout",
     "output_type": "stream",
     "text": [
      "LABEL: Sandal\n",
      "EPOCH 1: 5.58351 sec\n",
      "Critic loss: -3.03771\n",
      "Generator loss: -2.07386\n",
      "\n",
      "INFO:tensorflow:Assets written to: models/05-05-21_11:26:10/Sandal/generator/assets\n",
      "INFO:tensorflow:Assets written to: models/05-05-21_11:26:10/Sandal/critic/assets\n"
     ]
    },
    {
     "name": "stderr",
     "output_type": "stream",
     "text": [
      "\r",
      "  2%|▏         | 2.0/100 [00:09<07:27,  4.57s/it]"
     ]
    },
    {
     "name": "stdout",
     "output_type": "stream",
     "text": [
      "LABEL: Sandal\n",
      "EPOCH 2: 2.32037 sec\n",
      "Critic loss: -2.96764\n",
      "Generator loss: -1.23222\n",
      "\n"
     ]
    },
    {
     "name": "stderr",
     "output_type": "stream",
     "text": [
      "\r",
      "  3%|▎         | 3.0/100 [00:11<05:47,  3.58s/it]"
     ]
    },
    {
     "name": "stdout",
     "output_type": "stream",
     "text": [
      "LABEL: Sandal\n",
      "EPOCH 3: 2.32405 sec\n",
      "Critic loss: -2.96257\n",
      "Generator loss: -1.02858\n",
      "\n"
     ]
    },
    {
     "name": "stderr",
     "output_type": "stream",
     "text": [
      "\r",
      "  4%|▍         | 4.0/100 [00:14<04:59,  3.12s/it]"
     ]
    },
    {
     "name": "stdout",
     "output_type": "stream",
     "text": [
      "LABEL: Sandal\n",
      "EPOCH 4: 2.32402 sec\n",
      "Critic loss: -2.58472\n",
      "Generator loss: -0.16744\n",
      "\n"
     ]
    },
    {
     "name": "stderr",
     "output_type": "stream",
     "text": [
      "\r",
      "  5%|▌         | 5.0/100 [00:16<04:31,  2.86s/it]"
     ]
    },
    {
     "name": "stdout",
     "output_type": "stream",
     "text": [
      "LABEL: Sandal\n",
      "EPOCH 5: 2.32276 sec\n",
      "Critic loss: -2.70504\n",
      "Generator loss: 0.26002\n",
      "\n"
     ]
    },
    {
     "name": "stderr",
     "output_type": "stream",
     "text": [
      "\r",
      "  6%|▌         | 6.0/100 [00:19<04:14,  2.71s/it]"
     ]
    },
    {
     "name": "stdout",
     "output_type": "stream",
     "text": [
      "LABEL: Sandal\n",
      "EPOCH 6: 2.32185 sec\n",
      "Critic loss: -1.99723\n",
      "Generator loss: -1.01025\n",
      "\n"
     ]
    },
    {
     "name": "stderr",
     "output_type": "stream",
     "text": [
      "\r",
      "  7%|▋         | 7.0/100 [00:21<04:02,  2.61s/it]"
     ]
    },
    {
     "name": "stdout",
     "output_type": "stream",
     "text": [
      "LABEL: Sandal\n",
      "EPOCH 7: 2.32254 sec\n",
      "Critic loss: -1.81417\n",
      "Generator loss: -2.03421\n",
      "\n"
     ]
    },
    {
     "name": "stderr",
     "output_type": "stream",
     "text": [
      "\r",
      "  8%|▊         | 8.0/100 [00:23<03:54,  2.54s/it]"
     ]
    },
    {
     "name": "stdout",
     "output_type": "stream",
     "text": [
      "LABEL: Sandal\n",
      "EPOCH 8: 2.32463 sec\n",
      "Critic loss: -1.25301\n",
      "Generator loss: -3.37910\n",
      "\n"
     ]
    },
    {
     "name": "stderr",
     "output_type": "stream",
     "text": [
      "\r",
      "  9%|▉         | 9.0/100 [00:26<03:47,  2.50s/it]"
     ]
    },
    {
     "name": "stdout",
     "output_type": "stream",
     "text": [
      "LABEL: Sandal\n",
      "EPOCH 9: 2.32307 sec\n",
      "Critic loss: -1.32088\n",
      "Generator loss: -3.78466\n",
      "\n"
     ]
    },
    {
     "name": "stderr",
     "output_type": "stream",
     "text": [
      "\r",
      " 10%|█         | 10.0/100 [00:28<03:42,  2.47s/it]"
     ]
    },
    {
     "name": "stdout",
     "output_type": "stream",
     "text": [
      "LABEL: Sandal\n",
      "EPOCH 10: 2.32255 sec\n",
      "Critic loss: -1.33920\n",
      "Generator loss: -3.71472\n",
      "\n"
     ]
    },
    {
     "name": "stderr",
     "output_type": "stream",
     "text": [
      "\r",
      " 11%|█         | 11.0/100 [00:31<03:38,  2.45s/it]"
     ]
    },
    {
     "name": "stdout",
     "output_type": "stream",
     "text": [
      "LABEL: Sandal\n",
      "EPOCH 11: 2.32062 sec\n",
      "Critic loss: -1.28383\n",
      "Generator loss: -3.50698\n",
      "\n"
     ]
    },
    {
     "name": "stderr",
     "output_type": "stream",
     "text": [
      "\r",
      " 12%|█▏        | 12.0/100 [00:33<03:34,  2.44s/it]"
     ]
    },
    {
     "name": "stdout",
     "output_type": "stream",
     "text": [
      "LABEL: Sandal\n",
      "EPOCH 12: 2.32169 sec\n",
      "Critic loss: -1.30864\n",
      "Generator loss: -3.01945\n",
      "\n"
     ]
    },
    {
     "name": "stderr",
     "output_type": "stream",
     "text": [
      "\r",
      " 13%|█▎        | 13.0/100 [00:35<03:31,  2.43s/it]"
     ]
    },
    {
     "name": "stdout",
     "output_type": "stream",
     "text": [
      "LABEL: Sandal\n",
      "EPOCH 13: 2.32218 sec\n",
      "Critic loss: -1.41362\n",
      "Generator loss: -2.13920\n",
      "\n"
     ]
    },
    {
     "name": "stderr",
     "output_type": "stream",
     "text": [
      "\r",
      " 14%|█▍        | 14.0/100 [00:38<03:28,  2.42s/it]"
     ]
    },
    {
     "name": "stdout",
     "output_type": "stream",
     "text": [
      "LABEL: Sandal\n",
      "EPOCH 14: 2.32158 sec\n",
      "Critic loss: -1.15951\n",
      "Generator loss: -2.17552\n",
      "\n"
     ]
    },
    {
     "name": "stderr",
     "output_type": "stream",
     "text": [
      "\r",
      " 15%|█▌        | 15.0/100 [00:40<03:25,  2.42s/it]"
     ]
    },
    {
     "name": "stdout",
     "output_type": "stream",
     "text": [
      "LABEL: Sandal\n",
      "EPOCH 15: 2.32206 sec\n",
      "Critic loss: -1.52333\n",
      "Generator loss: -1.30111\n",
      "\n"
     ]
    },
    {
     "name": "stderr",
     "output_type": "stream",
     "text": [
      "\r",
      " 16%|█▌        | 16.0/100 [00:43<03:22,  2.41s/it]"
     ]
    },
    {
     "name": "stdout",
     "output_type": "stream",
     "text": [
      "LABEL: Sandal\n",
      "EPOCH 16: 2.32243 sec\n",
      "Critic loss: -1.89621\n",
      "Generator loss: -0.03056\n",
      "\n"
     ]
    },
    {
     "name": "stderr",
     "output_type": "stream",
     "text": [
      "\r",
      " 17%|█▋        | 17.0/100 [00:45<03:20,  2.41s/it]"
     ]
    },
    {
     "name": "stdout",
     "output_type": "stream",
     "text": [
      "LABEL: Sandal\n",
      "EPOCH 17: 2.32459 sec\n",
      "Critic loss: -2.08519\n",
      "Generator loss: 0.27845\n",
      "\n"
     ]
    },
    {
     "name": "stderr",
     "output_type": "stream",
     "text": [
      "\r",
      " 18%|█▊        | 18.0/100 [00:47<03:17,  2.41s/it]"
     ]
    },
    {
     "name": "stdout",
     "output_type": "stream",
     "text": [
      "LABEL: Sandal\n",
      "EPOCH 18: 2.32380 sec\n",
      "Critic loss: -3.21862\n",
      "Generator loss: 1.60683\n",
      "\n"
     ]
    },
    {
     "name": "stderr",
     "output_type": "stream",
     "text": [
      "\r",
      " 19%|█▉        | 19.0/100 [00:50<03:15,  2.41s/it]"
     ]
    },
    {
     "name": "stdout",
     "output_type": "stream",
     "text": [
      "LABEL: Sandal\n",
      "EPOCH 19: 2.32529 sec\n",
      "Critic loss: -3.24909\n",
      "Generator loss: 2.17549\n",
      "\n"
     ]
    },
    {
     "name": "stderr",
     "output_type": "stream",
     "text": [
      "\r",
      " 20%|██        | 20.0/100 [00:52<03:12,  2.41s/it]"
     ]
    },
    {
     "name": "stdout",
     "output_type": "stream",
     "text": [
      "LABEL: Sandal\n",
      "EPOCH 20: 2.32131 sec\n",
      "Critic loss: -2.38634\n",
      "Generator loss: 2.04166\n",
      "\n"
     ]
    },
    {
     "name": "stderr",
     "output_type": "stream",
     "text": [
      "\r",
      " 21%|██        | 21.0/100 [00:55<03:10,  2.41s/it]"
     ]
    },
    {
     "name": "stdout",
     "output_type": "stream",
     "text": [
      "LABEL: Sandal\n",
      "EPOCH 21: 2.32319 sec\n",
      "Critic loss: -0.99356\n",
      "Generator loss: 0.83983\n",
      "\n",
      "INFO:tensorflow:Assets written to: models/05-05-21_11:26:10/Sandal/generator/assets\n",
      "INFO:tensorflow:Assets written to: models/05-05-21_11:26:10/Sandal/critic/assets\n"
     ]
    },
    {
     "name": "stderr",
     "output_type": "stream",
     "text": [
      "\r",
      " 22%|██▏       | 22.0/100 [00:58<03:41,  2.83s/it]"
     ]
    },
    {
     "name": "stdout",
     "output_type": "stream",
     "text": [
      "LABEL: Sandal\n",
      "EPOCH 22: 2.32436 sec\n",
      "Critic loss: -0.59046\n",
      "Generator loss: 0.38000\n",
      "\n"
     ]
    },
    {
     "name": "stderr",
     "output_type": "stream",
     "text": [
      "\r",
      " 23%|██▎       | 23.0/100 [01:01<03:28,  2.71s/it]"
     ]
    },
    {
     "name": "stdout",
     "output_type": "stream",
     "text": [
      "LABEL: Sandal\n",
      "EPOCH 23: 2.32860 sec\n",
      "Critic loss: -0.45938\n",
      "Generator loss: -0.81029\n",
      "\n"
     ]
    },
    {
     "name": "stderr",
     "output_type": "stream",
     "text": [
      "\r",
      " 24%|██▍       | 24.0/100 [01:03<03:18,  2.62s/it]"
     ]
    },
    {
     "name": "stdout",
     "output_type": "stream",
     "text": [
      "LABEL: Sandal\n",
      "EPOCH 24: 2.32324 sec\n",
      "Critic loss: -0.43039\n",
      "Generator loss: -0.91689\n",
      "\n"
     ]
    },
    {
     "name": "stderr",
     "output_type": "stream",
     "text": [
      "\r",
      " 25%|██▌       | 25.0/100 [01:06<03:11,  2.55s/it]"
     ]
    },
    {
     "name": "stdout",
     "output_type": "stream",
     "text": [
      "LABEL: Sandal\n",
      "EPOCH 25: 2.32205 sec\n",
      "Critic loss: -0.45053\n",
      "Generator loss: -0.17684\n",
      "\n"
     ]
    },
    {
     "name": "stderr",
     "output_type": "stream",
     "text": [
      "\r",
      " 26%|██▌       | 26.0/100 [01:08<03:05,  2.51s/it]"
     ]
    },
    {
     "name": "stdout",
     "output_type": "stream",
     "text": [
      "LABEL: Sandal\n",
      "EPOCH 26: 2.32446 sec\n",
      "Critic loss: -0.30420\n",
      "Generator loss: 0.37617\n",
      "\n"
     ]
    },
    {
     "name": "stderr",
     "output_type": "stream",
     "text": [
      "\r",
      " 27%|██▋       | 27.0/100 [01:11<03:01,  2.48s/it]"
     ]
    },
    {
     "name": "stdout",
     "output_type": "stream",
     "text": [
      "LABEL: Sandal\n",
      "EPOCH 27: 2.32449 sec\n",
      "Critic loss: -0.26107\n",
      "Generator loss: 0.10647\n",
      "\n"
     ]
    },
    {
     "name": "stderr",
     "output_type": "stream",
     "text": [
      "\r",
      " 28%|██▊       | 28.0/100 [01:13<02:57,  2.46s/it]"
     ]
    },
    {
     "name": "stdout",
     "output_type": "stream",
     "text": [
      "LABEL: Sandal\n",
      "EPOCH 28: 2.33343 sec\n",
      "Critic loss: -0.26181\n",
      "Generator loss: -0.02907\n",
      "\n"
     ]
    },
    {
     "name": "stderr",
     "output_type": "stream",
     "text": [
      "\r",
      " 29%|██▉       | 29.0/100 [01:15<02:53,  2.45s/it]"
     ]
    },
    {
     "name": "stdout",
     "output_type": "stream",
     "text": [
      "LABEL: Sandal\n",
      "EPOCH 29: 2.33401 sec\n",
      "Critic loss: -0.23252\n",
      "Generator loss: -0.03051\n",
      "\n"
     ]
    },
    {
     "name": "stderr",
     "output_type": "stream",
     "text": [
      "\r",
      " 30%|███       | 30.0/100 [01:18<02:50,  2.43s/it]"
     ]
    },
    {
     "name": "stdout",
     "output_type": "stream",
     "text": [
      "LABEL: Sandal\n",
      "EPOCH 30: 2.32116 sec\n",
      "Critic loss: -0.30683\n",
      "Generator loss: -0.80493\n",
      "\n"
     ]
    },
    {
     "name": "stderr",
     "output_type": "stream",
     "text": [
      "\r",
      " 31%|███       | 31.0/100 [01:20<02:47,  2.43s/it]"
     ]
    },
    {
     "name": "stdout",
     "output_type": "stream",
     "text": [
      "LABEL: Sandal\n",
      "EPOCH 31: 2.32222 sec\n",
      "Critic loss: -0.08069\n",
      "Generator loss: -1.88895\n",
      "\n"
     ]
    },
    {
     "name": "stderr",
     "output_type": "stream",
     "text": [
      "\r",
      " 32%|███▏      | 32.0/100 [01:23<02:44,  2.42s/it]"
     ]
    },
    {
     "name": "stdout",
     "output_type": "stream",
     "text": [
      "LABEL: Sandal\n",
      "EPOCH 32: 2.32280 sec\n",
      "Critic loss: -0.09828\n",
      "Generator loss: -1.89908\n",
      "\n"
     ]
    },
    {
     "name": "stderr",
     "output_type": "stream",
     "text": [
      "\r",
      " 33%|███▎      | 33.0/100 [01:25<02:41,  2.42s/it]"
     ]
    },
    {
     "name": "stdout",
     "output_type": "stream",
     "text": [
      "LABEL: Sandal\n",
      "EPOCH 33: 2.32409 sec\n",
      "Critic loss: -0.24728\n",
      "Generator loss: -3.06195\n",
      "\n"
     ]
    },
    {
     "name": "stderr",
     "output_type": "stream",
     "text": [
      "\r",
      " 34%|███▍      | 34.0/100 [01:27<02:39,  2.41s/it]"
     ]
    },
    {
     "name": "stdout",
     "output_type": "stream",
     "text": [
      "LABEL: Sandal\n",
      "EPOCH 34: 2.32163 sec\n",
      "Critic loss: -0.28141\n",
      "Generator loss: -3.51429\n",
      "\n"
     ]
    },
    {
     "name": "stderr",
     "output_type": "stream",
     "text": [
      "\r",
      " 35%|███▌      | 35.0/100 [01:30<02:36,  2.41s/it]"
     ]
    },
    {
     "name": "stdout",
     "output_type": "stream",
     "text": [
      "LABEL: Sandal\n",
      "EPOCH 35: 2.32535 sec\n",
      "Critic loss: -0.22046\n",
      "Generator loss: -3.54667\n",
      "\n"
     ]
    },
    {
     "name": "stderr",
     "output_type": "stream",
     "text": [
      "\r",
      " 36%|███▌      | 36.0/100 [01:32<02:34,  2.41s/it]"
     ]
    },
    {
     "name": "stdout",
     "output_type": "stream",
     "text": [
      "LABEL: Sandal\n",
      "EPOCH 36: 2.32080 sec\n",
      "Critic loss: -0.31468\n",
      "Generator loss: -4.26504\n",
      "\n"
     ]
    },
    {
     "name": "stderr",
     "output_type": "stream",
     "text": [
      "\r",
      " 37%|███▋      | 37.0/100 [01:35<02:31,  2.41s/it]"
     ]
    },
    {
     "name": "stdout",
     "output_type": "stream",
     "text": [
      "LABEL: Sandal\n",
      "EPOCH 37: 2.32398 sec\n",
      "Critic loss: -0.29854\n",
      "Generator loss: -4.86564\n",
      "\n"
     ]
    },
    {
     "name": "stderr",
     "output_type": "stream",
     "text": [
      "\r",
      " 38%|███▊      | 38.0/100 [01:37<02:29,  2.41s/it]"
     ]
    },
    {
     "name": "stdout",
     "output_type": "stream",
     "text": [
      "LABEL: Sandal\n",
      "EPOCH 38: 2.32613 sec\n",
      "Critic loss: -0.27190\n",
      "Generator loss: -4.21554\n",
      "\n"
     ]
    },
    {
     "name": "stderr",
     "output_type": "stream",
     "text": [
      "\r",
      " 39%|███▉      | 39.0/100 [01:39<02:26,  2.41s/it]"
     ]
    },
    {
     "name": "stdout",
     "output_type": "stream",
     "text": [
      "LABEL: Sandal\n",
      "EPOCH 39: 2.32438 sec\n",
      "Critic loss: -0.13223\n",
      "Generator loss: -4.80055\n",
      "\n"
     ]
    },
    {
     "name": "stderr",
     "output_type": "stream",
     "text": [
      "\r",
      " 40%|████      | 40.0/100 [01:42<02:24,  2.41s/it]"
     ]
    },
    {
     "name": "stdout",
     "output_type": "stream",
     "text": [
      "LABEL: Sandal\n",
      "EPOCH 40: 2.32285 sec\n",
      "Critic loss: -0.29049\n",
      "Generator loss: -4.59446\n",
      "\n"
     ]
    },
    {
     "name": "stderr",
     "output_type": "stream",
     "text": [
      "\r",
      " 41%|████      | 41.0/100 [01:44<02:21,  2.41s/it]"
     ]
    },
    {
     "name": "stdout",
     "output_type": "stream",
     "text": [
      "LABEL: Sandal\n",
      "EPOCH 41: 2.32060 sec\n",
      "Critic loss: -0.21823\n",
      "Generator loss: -5.28016\n",
      "\n",
      "INFO:tensorflow:Assets written to: models/05-05-21_11:26:10/Sandal/generator/assets\n",
      "INFO:tensorflow:Assets written to: models/05-05-21_11:26:10/Sandal/critic/assets\n"
     ]
    },
    {
     "name": "stderr",
     "output_type": "stream",
     "text": [
      "\r",
      " 42%|████▏     | 42.0/100 [01:48<02:45,  2.85s/it]"
     ]
    },
    {
     "name": "stdout",
     "output_type": "stream",
     "text": [
      "LABEL: Sandal\n",
      "EPOCH 42: 2.32511 sec\n",
      "Critic loss: -0.28789\n",
      "Generator loss: -5.22170\n",
      "\n"
     ]
    },
    {
     "name": "stderr",
     "output_type": "stream",
     "text": [
      "\r",
      " 43%|████▎     | 43.0/100 [01:51<02:34,  2.72s/it]"
     ]
    },
    {
     "name": "stdout",
     "output_type": "stream",
     "text": [
      "LABEL: Sandal\n",
      "EPOCH 43: 2.32064 sec\n",
      "Critic loss: -0.20831\n",
      "Generator loss: -5.15836\n",
      "\n"
     ]
    },
    {
     "name": "stderr",
     "output_type": "stream",
     "text": [
      "\r",
      " 44%|████▍     | 44.0/100 [01:53<02:26,  2.62s/it]"
     ]
    },
    {
     "name": "stdout",
     "output_type": "stream",
     "text": [
      "LABEL: Sandal\n",
      "EPOCH 44: 2.32346 sec\n",
      "Critic loss: -0.29427\n",
      "Generator loss: -5.48896\n",
      "\n"
     ]
    },
    {
     "name": "stderr",
     "output_type": "stream",
     "text": [
      "\r",
      " 45%|████▌     | 45.0/100 [01:55<02:20,  2.56s/it]"
     ]
    },
    {
     "name": "stdout",
     "output_type": "stream",
     "text": [
      "LABEL: Sandal\n",
      "EPOCH 45: 2.32334 sec\n",
      "Critic loss: -0.18014\n",
      "Generator loss: -6.13269\n",
      "\n"
     ]
    },
    {
     "name": "stderr",
     "output_type": "stream",
     "text": [
      "\r",
      " 46%|████▌     | 46.0/100 [01:58<02:15,  2.51s/it]"
     ]
    },
    {
     "name": "stdout",
     "output_type": "stream",
     "text": [
      "LABEL: Sandal\n",
      "EPOCH 46: 2.32261 sec\n",
      "Critic loss: -0.26795\n",
      "Generator loss: -6.58744\n",
      "\n"
     ]
    },
    {
     "name": "stderr",
     "output_type": "stream",
     "text": [
      "\r",
      " 47%|████▋     | 47.0/100 [02:00<02:11,  2.48s/it]"
     ]
    },
    {
     "name": "stdout",
     "output_type": "stream",
     "text": [
      "LABEL: Sandal\n",
      "EPOCH 47: 2.32106 sec\n",
      "Critic loss: -0.27937\n",
      "Generator loss: -5.65544\n",
      "\n"
     ]
    },
    {
     "name": "stderr",
     "output_type": "stream",
     "text": [
      "\r",
      " 48%|████▊     | 48.0/100 [02:03<02:07,  2.46s/it]"
     ]
    },
    {
     "name": "stdout",
     "output_type": "stream",
     "text": [
      "LABEL: Sandal\n",
      "EPOCH 48: 2.32700 sec\n",
      "Critic loss: -0.36873\n",
      "Generator loss: -7.36466\n",
      "\n"
     ]
    },
    {
     "name": "stderr",
     "output_type": "stream",
     "text": [
      "\r",
      " 49%|████▉     | 49.0/100 [02:05<02:04,  2.44s/it]"
     ]
    },
    {
     "name": "stdout",
     "output_type": "stream",
     "text": [
      "LABEL: Sandal\n",
      "EPOCH 49: 2.32231 sec\n",
      "Critic loss: -0.19422\n",
      "Generator loss: -6.66276\n",
      "\n"
     ]
    },
    {
     "name": "stderr",
     "output_type": "stream",
     "text": [
      "\r",
      " 50%|█████     | 50.0/100 [02:07<02:01,  2.43s/it]"
     ]
    },
    {
     "name": "stdout",
     "output_type": "stream",
     "text": [
      "LABEL: Sandal\n",
      "EPOCH 50: 2.32002 sec\n",
      "Critic loss: -0.28551\n",
      "Generator loss: -6.16179\n",
      "\n"
     ]
    },
    {
     "name": "stderr",
     "output_type": "stream",
     "text": [
      "\r",
      " 51%|█████     | 51.0/100 [02:10<01:58,  2.42s/it]"
     ]
    },
    {
     "name": "stdout",
     "output_type": "stream",
     "text": [
      "LABEL: Sandal\n",
      "EPOCH 51: 2.32470 sec\n",
      "Critic loss: -0.24617\n",
      "Generator loss: -6.59501\n",
      "\n"
     ]
    },
    {
     "name": "stderr",
     "output_type": "stream",
     "text": [
      "\r",
      " 52%|█████▏    | 52.0/100 [02:12<01:56,  2.42s/it]"
     ]
    },
    {
     "name": "stdout",
     "output_type": "stream",
     "text": [
      "LABEL: Sandal\n",
      "EPOCH 52: 2.32565 sec\n",
      "Critic loss: -0.25650\n",
      "Generator loss: -6.11411\n",
      "\n"
     ]
    },
    {
     "name": "stderr",
     "output_type": "stream",
     "text": [
      "\r",
      " 53%|█████▎    | 53.0/100 [02:15<01:53,  2.41s/it]"
     ]
    },
    {
     "name": "stdout",
     "output_type": "stream",
     "text": [
      "LABEL: Sandal\n",
      "EPOCH 53: 2.32026 sec\n",
      "Critic loss: -0.23487\n",
      "Generator loss: -6.20650\n",
      "\n"
     ]
    },
    {
     "name": "stderr",
     "output_type": "stream",
     "text": [
      "\r",
      " 54%|█████▍    | 54.0/100 [02:17<01:50,  2.41s/it]"
     ]
    },
    {
     "name": "stdout",
     "output_type": "stream",
     "text": [
      "LABEL: Sandal\n",
      "EPOCH 54: 2.32310 sec\n",
      "Critic loss: -0.26852\n",
      "Generator loss: -7.08886\n",
      "\n"
     ]
    },
    {
     "name": "stderr",
     "output_type": "stream",
     "text": [
      "\r",
      " 55%|█████▌    | 55.0/100 [02:19<01:48,  2.41s/it]"
     ]
    },
    {
     "name": "stdout",
     "output_type": "stream",
     "text": [
      "LABEL: Sandal\n",
      "EPOCH 55: 2.32359 sec\n",
      "Critic loss: -0.27700\n",
      "Generator loss: -6.54068\n",
      "\n"
     ]
    },
    {
     "name": "stderr",
     "output_type": "stream",
     "text": [
      "\r",
      " 56%|█████▌    | 56.0/100 [02:22<01:46,  2.41s/it]"
     ]
    },
    {
     "name": "stdout",
     "output_type": "stream",
     "text": [
      "LABEL: Sandal\n",
      "EPOCH 56: 2.32268 sec\n",
      "Critic loss: -0.23304\n",
      "Generator loss: -7.12321\n",
      "\n"
     ]
    },
    {
     "name": "stderr",
     "output_type": "stream",
     "text": [
      "\r",
      " 57%|█████▋    | 57.0/100 [02:24<01:43,  2.41s/it]"
     ]
    },
    {
     "name": "stdout",
     "output_type": "stream",
     "text": [
      "LABEL: Sandal\n",
      "EPOCH 57: 2.32123 sec\n",
      "Critic loss: -0.24852\n",
      "Generator loss: -7.22820\n",
      "\n"
     ]
    },
    {
     "name": "stderr",
     "output_type": "stream",
     "text": [
      "\r",
      " 58%|█████▊    | 58.0/100 [02:27<01:41,  2.41s/it]"
     ]
    },
    {
     "name": "stdout",
     "output_type": "stream",
     "text": [
      "LABEL: Sandal\n",
      "EPOCH 58: 2.32185 sec\n",
      "Critic loss: -0.22481\n",
      "Generator loss: -7.53703\n",
      "\n"
     ]
    },
    {
     "name": "stderr",
     "output_type": "stream",
     "text": [
      "\r",
      " 59%|█████▉    | 59.0/100 [02:29<01:38,  2.41s/it]"
     ]
    },
    {
     "name": "stdout",
     "output_type": "stream",
     "text": [
      "LABEL: Sandal\n",
      "EPOCH 59: 2.32778 sec\n",
      "Critic loss: -0.26511\n",
      "Generator loss: -8.06001\n",
      "\n"
     ]
    },
    {
     "name": "stderr",
     "output_type": "stream",
     "text": [
      "\r",
      " 60%|██████    | 60.0/100 [02:31<01:36,  2.41s/it]"
     ]
    },
    {
     "name": "stdout",
     "output_type": "stream",
     "text": [
      "LABEL: Sandal\n",
      "EPOCH 60: 2.32384 sec\n",
      "Critic loss: -0.24921\n",
      "Generator loss: -8.16151\n",
      "\n"
     ]
    },
    {
     "name": "stderr",
     "output_type": "stream",
     "text": [
      "\r",
      " 61%|██████    | 61.0/100 [02:34<01:33,  2.41s/it]"
     ]
    },
    {
     "name": "stdout",
     "output_type": "stream",
     "text": [
      "LABEL: Sandal\n",
      "EPOCH 61: 2.32288 sec\n",
      "Critic loss: -0.21646\n",
      "Generator loss: -7.60991\n",
      "\n",
      "INFO:tensorflow:Assets written to: models/05-05-21_11:26:10/Sandal/generator/assets\n",
      "INFO:tensorflow:Assets written to: models/05-05-21_11:26:10/Sandal/critic/assets\n"
     ]
    },
    {
     "name": "stderr",
     "output_type": "stream",
     "text": [
      "\r",
      " 62%|██████▏   | 62.0/100 [02:38<01:47,  2.83s/it]"
     ]
    },
    {
     "name": "stdout",
     "output_type": "stream",
     "text": [
      "LABEL: Sandal\n",
      "EPOCH 62: 2.32513 sec\n",
      "Critic loss: -0.26948\n",
      "Generator loss: -7.42520\n",
      "\n"
     ]
    },
    {
     "name": "stderr",
     "output_type": "stream",
     "text": [
      "\r",
      " 63%|██████▎   | 63.0/100 [02:40<01:39,  2.70s/it]"
     ]
    },
    {
     "name": "stdout",
     "output_type": "stream",
     "text": [
      "LABEL: Sandal\n",
      "EPOCH 63: 2.32123 sec\n",
      "Critic loss: -0.24670\n",
      "Generator loss: -7.19161\n",
      "\n"
     ]
    },
    {
     "name": "stderr",
     "output_type": "stream",
     "text": [
      "\r",
      " 64%|██████▍   | 64.0/100 [02:42<01:34,  2.61s/it]"
     ]
    },
    {
     "name": "stdout",
     "output_type": "stream",
     "text": [
      "LABEL: Sandal\n",
      "EPOCH 64: 2.32178 sec\n",
      "Critic loss: -0.26373\n",
      "Generator loss: -7.99453\n",
      "\n"
     ]
    },
    {
     "name": "stderr",
     "output_type": "stream",
     "text": [
      "\r",
      " 65%|██████▌   | 65.0/100 [02:45<01:29,  2.55s/it]"
     ]
    },
    {
     "name": "stdout",
     "output_type": "stream",
     "text": [
      "LABEL: Sandal\n",
      "EPOCH 65: 2.32825 sec\n",
      "Critic loss: -0.39166\n",
      "Generator loss: -6.27253\n",
      "\n"
     ]
    },
    {
     "name": "stderr",
     "output_type": "stream",
     "text": [
      "\r",
      " 66%|██████▌   | 66.0/100 [02:47<01:25,  2.51s/it]"
     ]
    },
    {
     "name": "stdout",
     "output_type": "stream",
     "text": [
      "LABEL: Sandal\n",
      "EPOCH 66: 2.32356 sec\n",
      "Critic loss: -0.24990\n",
      "Generator loss: -6.80314\n",
      "\n"
     ]
    },
    {
     "name": "stderr",
     "output_type": "stream",
     "text": [
      "\r",
      " 67%|██████▋   | 67.0/100 [02:50<01:21,  2.48s/it]"
     ]
    },
    {
     "name": "stdout",
     "output_type": "stream",
     "text": [
      "LABEL: Sandal\n",
      "EPOCH 67: 2.32071 sec\n",
      "Critic loss: -0.25987\n",
      "Generator loss: -6.51431\n",
      "\n"
     ]
    },
    {
     "name": "stderr",
     "output_type": "stream",
     "text": [
      "\r",
      " 68%|██████▊   | 68.0/100 [02:52<01:18,  2.46s/it]"
     ]
    },
    {
     "name": "stdout",
     "output_type": "stream",
     "text": [
      "LABEL: Sandal\n",
      "EPOCH 68: 2.32086 sec\n",
      "Critic loss: -0.18708\n",
      "Generator loss: -5.24689\n",
      "\n"
     ]
    },
    {
     "name": "stderr",
     "output_type": "stream",
     "text": [
      "\r",
      " 69%|██████▉   | 69.0/100 [02:55<01:16,  2.46s/it]"
     ]
    },
    {
     "name": "stdout",
     "output_type": "stream",
     "text": [
      "LABEL: Sandal\n",
      "EPOCH 69: 2.39751 sec\n",
      "Critic loss: -0.29256\n",
      "Generator loss: -4.72385\n",
      "\n"
     ]
    },
    {
     "name": "stderr",
     "output_type": "stream",
     "text": [
      "\r",
      " 70%|███████   | 70.0/100 [02:57<01:13,  2.46s/it]"
     ]
    },
    {
     "name": "stdout",
     "output_type": "stream",
     "text": [
      "LABEL: Sandal\n",
      "EPOCH 70: 2.36546 sec\n",
      "Critic loss: -0.38036\n",
      "Generator loss: -3.92415\n",
      "\n"
     ]
    },
    {
     "name": "stderr",
     "output_type": "stream",
     "text": [
      "\r",
      " 71%|███████   | 71.0/100 [02:59<01:10,  2.45s/it]"
     ]
    },
    {
     "name": "stdout",
     "output_type": "stream",
     "text": [
      "LABEL: Sandal\n",
      "EPOCH 71: 2.32806 sec\n",
      "Critic loss: -0.28291\n",
      "Generator loss: -4.20873\n",
      "\n"
     ]
    },
    {
     "name": "stderr",
     "output_type": "stream",
     "text": [
      "\r",
      " 72%|███████▏  | 72.0/100 [03:02<01:08,  2.43s/it]"
     ]
    },
    {
     "name": "stdout",
     "output_type": "stream",
     "text": [
      "LABEL: Sandal\n",
      "EPOCH 72: 2.32173 sec\n",
      "Critic loss: 0.05812\n",
      "Generator loss: -3.00799\n",
      "\n"
     ]
    },
    {
     "name": "stderr",
     "output_type": "stream",
     "text": [
      "\r",
      " 73%|███████▎  | 73.0/100 [03:04<01:05,  2.43s/it]"
     ]
    },
    {
     "name": "stdout",
     "output_type": "stream",
     "text": [
      "LABEL: Sandal\n",
      "EPOCH 73: 2.32313 sec\n",
      "Critic loss: 0.15752\n",
      "Generator loss: -3.11824\n",
      "\n"
     ]
    },
    {
     "name": "stderr",
     "output_type": "stream",
     "text": [
      "\r",
      " 74%|███████▍  | 74.0/100 [03:07<01:02,  2.42s/it]"
     ]
    },
    {
     "name": "stdout",
     "output_type": "stream",
     "text": [
      "LABEL: Sandal\n",
      "EPOCH 74: 2.32515 sec\n",
      "Critic loss: -0.19495\n",
      "Generator loss: -2.66589\n",
      "\n"
     ]
    },
    {
     "name": "stderr",
     "output_type": "stream",
     "text": [
      "\r",
      " 75%|███████▌  | 75.0/100 [03:09<01:00,  2.42s/it]"
     ]
    },
    {
     "name": "stdout",
     "output_type": "stream",
     "text": [
      "LABEL: Sandal\n",
      "EPOCH 75: 2.32295 sec\n",
      "Critic loss: -0.26170\n",
      "Generator loss: -2.47692\n",
      "\n"
     ]
    },
    {
     "name": "stderr",
     "output_type": "stream",
     "text": [
      "\r",
      " 76%|███████▌  | 76.0/100 [03:11<00:57,  2.42s/it]"
     ]
    },
    {
     "name": "stdout",
     "output_type": "stream",
     "text": [
      "LABEL: Sandal\n",
      "EPOCH 76: 2.33045 sec\n",
      "Critic loss: -0.25025\n",
      "Generator loss: -2.60316\n",
      "\n"
     ]
    },
    {
     "name": "stderr",
     "output_type": "stream",
     "text": [
      "\r",
      " 77%|███████▋  | 77.0/100 [03:14<00:55,  2.42s/it]"
     ]
    },
    {
     "name": "stdout",
     "output_type": "stream",
     "text": [
      "LABEL: Sandal\n",
      "EPOCH 77: 2.33453 sec\n",
      "Critic loss: -0.19181\n",
      "Generator loss: -2.58549\n",
      "\n"
     ]
    },
    {
     "name": "stderr",
     "output_type": "stream",
     "text": [
      "\r",
      " 78%|███████▊  | 78.0/100 [03:16<00:53,  2.42s/it]"
     ]
    },
    {
     "name": "stdout",
     "output_type": "stream",
     "text": [
      "LABEL: Sandal\n",
      "EPOCH 78: 2.33720 sec\n",
      "Critic loss: -0.16563\n",
      "Generator loss: -2.76393\n",
      "\n"
     ]
    },
    {
     "name": "stderr",
     "output_type": "stream",
     "text": [
      "\r",
      " 79%|███████▉  | 79.0/100 [03:19<00:50,  2.42s/it]"
     ]
    },
    {
     "name": "stdout",
     "output_type": "stream",
     "text": [
      "LABEL: Sandal\n",
      "EPOCH 79: 2.32681 sec\n",
      "Critic loss: -0.22654\n",
      "Generator loss: -2.61161\n",
      "\n"
     ]
    },
    {
     "name": "stderr",
     "output_type": "stream",
     "text": [
      "\r",
      " 80%|████████  | 80.0/100 [03:21<00:48,  2.41s/it]"
     ]
    },
    {
     "name": "stdout",
     "output_type": "stream",
     "text": [
      "LABEL: Sandal\n",
      "EPOCH 80: 2.32256 sec\n",
      "Critic loss: -0.23184\n",
      "Generator loss: -3.25843\n",
      "\n"
     ]
    },
    {
     "name": "stderr",
     "output_type": "stream",
     "text": [
      "\r",
      " 81%|████████  | 81.0/100 [03:24<00:45,  2.41s/it]"
     ]
    },
    {
     "name": "stdout",
     "output_type": "stream",
     "text": [
      "LABEL: Sandal\n",
      "EPOCH 81: 2.31956 sec\n",
      "Critic loss: -0.21112\n",
      "Generator loss: -2.68212\n",
      "\n",
      "INFO:tensorflow:Assets written to: models/05-05-21_11:26:10/Sandal/generator/assets\n",
      "INFO:tensorflow:Assets written to: models/05-05-21_11:26:10/Sandal/critic/assets\n"
     ]
    },
    {
     "name": "stderr",
     "output_type": "stream",
     "text": [
      "\r",
      " 82%|████████▏ | 82.0/100 [03:27<00:51,  2.86s/it]"
     ]
    },
    {
     "name": "stdout",
     "output_type": "stream",
     "text": [
      "LABEL: Sandal\n",
      "EPOCH 82: 2.32454 sec\n",
      "Critic loss: -0.21936\n",
      "Generator loss: -2.96471\n",
      "\n"
     ]
    },
    {
     "name": "stderr",
     "output_type": "stream",
     "text": [
      "\r",
      " 83%|████████▎ | 83.0/100 [03:30<00:46,  2.72s/it]"
     ]
    },
    {
     "name": "stdout",
     "output_type": "stream",
     "text": [
      "LABEL: Sandal\n",
      "EPOCH 83: 2.32191 sec\n",
      "Critic loss: -0.23447\n",
      "Generator loss: -2.59814\n",
      "\n"
     ]
    },
    {
     "name": "stderr",
     "output_type": "stream",
     "text": [
      "\r",
      " 84%|████████▍ | 84.0/100 [03:32<00:42,  2.63s/it]"
     ]
    },
    {
     "name": "stdout",
     "output_type": "stream",
     "text": [
      "LABEL: Sandal\n",
      "EPOCH 84: 2.32272 sec\n",
      "Critic loss: -0.20733\n",
      "Generator loss: -2.88635\n",
      "\n"
     ]
    },
    {
     "name": "stderr",
     "output_type": "stream",
     "text": [
      "\r",
      " 85%|████████▌ | 85.0/100 [03:35<00:38,  2.56s/it]"
     ]
    },
    {
     "name": "stdout",
     "output_type": "stream",
     "text": [
      "LABEL: Sandal\n",
      "EPOCH 85: 2.32390 sec\n",
      "Critic loss: -0.22818\n",
      "Generator loss: -2.99883\n",
      "\n"
     ]
    },
    {
     "name": "stderr",
     "output_type": "stream",
     "text": [
      "\r",
      " 86%|████████▌ | 86.0/100 [03:37<00:35,  2.51s/it]"
     ]
    },
    {
     "name": "stdout",
     "output_type": "stream",
     "text": [
      "LABEL: Sandal\n",
      "EPOCH 86: 2.32213 sec\n",
      "Critic loss: -0.24295\n",
      "Generator loss: -2.11463\n",
      "\n"
     ]
    },
    {
     "name": "stderr",
     "output_type": "stream",
     "text": [
      "\r",
      " 87%|████████▋ | 87.0/100 [03:39<00:32,  2.48s/it]"
     ]
    },
    {
     "name": "stdout",
     "output_type": "stream",
     "text": [
      "LABEL: Sandal\n",
      "EPOCH 87: 2.32216 sec\n",
      "Critic loss: -0.20017\n",
      "Generator loss: -2.20471\n",
      "\n"
     ]
    },
    {
     "name": "stderr",
     "output_type": "stream",
     "text": [
      "\r",
      " 88%|████████▊ | 88.0/100 [03:42<00:29,  2.46s/it]"
     ]
    },
    {
     "name": "stdout",
     "output_type": "stream",
     "text": [
      "LABEL: Sandal\n",
      "EPOCH 88: 2.32297 sec\n",
      "Critic loss: -0.11832\n",
      "Generator loss: -2.03738\n",
      "\n"
     ]
    },
    {
     "name": "stderr",
     "output_type": "stream",
     "text": [
      "\r",
      " 89%|████████▉ | 89.0/100 [03:44<00:26,  2.44s/it]"
     ]
    },
    {
     "name": "stdout",
     "output_type": "stream",
     "text": [
      "LABEL: Sandal\n",
      "EPOCH 89: 2.31916 sec\n",
      "Critic loss: -0.17196\n",
      "Generator loss: -2.45800\n",
      "\n"
     ]
    },
    {
     "name": "stderr",
     "output_type": "stream",
     "text": [
      "\r",
      " 90%|█████████ | 90.0/100 [03:47<00:24,  2.43s/it]"
     ]
    },
    {
     "name": "stdout",
     "output_type": "stream",
     "text": [
      "LABEL: Sandal\n",
      "EPOCH 90: 2.32354 sec\n",
      "Critic loss: -0.21425\n",
      "Generator loss: -1.36043\n",
      "\n"
     ]
    },
    {
     "name": "stderr",
     "output_type": "stream",
     "text": [
      "\r",
      " 91%|█████████ | 91.0/100 [03:49<00:21,  2.42s/it]"
     ]
    },
    {
     "name": "stdout",
     "output_type": "stream",
     "text": [
      "LABEL: Sandal\n",
      "EPOCH 91: 2.32108 sec\n",
      "Critic loss: -0.16429\n",
      "Generator loss: -1.56702\n",
      "\n"
     ]
    },
    {
     "name": "stderr",
     "output_type": "stream",
     "text": [
      "\r",
      " 92%|█████████▏| 92.0/100 [03:52<00:19,  2.42s/it]"
     ]
    },
    {
     "name": "stdout",
     "output_type": "stream",
     "text": [
      "LABEL: Sandal\n",
      "EPOCH 92: 2.32281 sec\n",
      "Critic loss: -0.16202\n",
      "Generator loss: -1.44863\n",
      "\n"
     ]
    },
    {
     "name": "stderr",
     "output_type": "stream",
     "text": [
      "\r",
      " 93%|█████████▎| 93.0/100 [03:54<00:16,  2.41s/it]"
     ]
    },
    {
     "name": "stdout",
     "output_type": "stream",
     "text": [
      "LABEL: Sandal\n",
      "EPOCH 93: 2.32203 sec\n",
      "Critic loss: -0.16723\n",
      "Generator loss: -1.54042\n",
      "\n"
     ]
    },
    {
     "name": "stderr",
     "output_type": "stream",
     "text": [
      "\r",
      " 94%|█████████▍| 94.0/100 [03:56<00:14,  2.41s/it]"
     ]
    },
    {
     "name": "stdout",
     "output_type": "stream",
     "text": [
      "LABEL: Sandal\n",
      "EPOCH 94: 2.32652 sec\n",
      "Critic loss: -0.23184\n",
      "Generator loss: -1.03447\n",
      "\n"
     ]
    },
    {
     "name": "stderr",
     "output_type": "stream",
     "text": [
      "\r",
      " 95%|█████████▌| 95.0/100 [03:59<00:12,  2.41s/it]"
     ]
    },
    {
     "name": "stdout",
     "output_type": "stream",
     "text": [
      "LABEL: Sandal\n",
      "EPOCH 95: 2.32252 sec\n",
      "Critic loss: -0.16457\n",
      "Generator loss: -1.63845\n",
      "\n"
     ]
    },
    {
     "name": "stderr",
     "output_type": "stream",
     "text": [
      "\r",
      " 96%|█████████▌| 96.0/100 [04:01<00:09,  2.41s/it]"
     ]
    },
    {
     "name": "stdout",
     "output_type": "stream",
     "text": [
      "LABEL: Sandal\n",
      "EPOCH 96: 2.31966 sec\n",
      "Critic loss: -0.15112\n",
      "Generator loss: -1.11827\n",
      "\n"
     ]
    },
    {
     "name": "stderr",
     "output_type": "stream",
     "text": [
      "\r",
      " 97%|█████████▋| 97.0/100 [04:04<00:07,  2.41s/it]"
     ]
    },
    {
     "name": "stdout",
     "output_type": "stream",
     "text": [
      "LABEL: Sandal\n",
      "EPOCH 97: 2.32465 sec\n",
      "Critic loss: -0.17820\n",
      "Generator loss: -0.93454\n",
      "\n"
     ]
    },
    {
     "name": "stderr",
     "output_type": "stream",
     "text": [
      "\r",
      " 98%|█████████▊| 98.0/100 [04:06<00:04,  2.41s/it]"
     ]
    },
    {
     "name": "stdout",
     "output_type": "stream",
     "text": [
      "LABEL: Sandal\n",
      "EPOCH 98: 2.32099 sec\n",
      "Critic loss: -0.20648\n",
      "Generator loss: -1.19976\n",
      "\n"
     ]
    },
    {
     "name": "stderr",
     "output_type": "stream",
     "text": [
      "\r",
      " 99%|█████████▉| 99.0/100 [04:08<00:02,  2.41s/it]"
     ]
    },
    {
     "name": "stdout",
     "output_type": "stream",
     "text": [
      "LABEL: Sandal\n",
      "EPOCH 99: 2.32255 sec\n",
      "Critic loss: -0.20328\n",
      "Generator loss: -1.17181\n",
      "\n"
     ]
    },
    {
     "name": "stderr",
     "output_type": "stream",
     "text": [
      "100%|██████████| 100.0/100 [04:11<00:00,  2.51s/it]\n",
      "  0%|          | 0/100 [00:00<?, ?it/s]"
     ]
    },
    {
     "name": "stdout",
     "output_type": "stream",
     "text": [
      "LABEL: Sandal\n",
      "EPOCH 100: 2.32389 sec\n",
      "Critic loss: -0.21784\n",
      "Generator loss: -0.97894\n",
      "\n",
      "----------- TRAINING TO GENERATE **Shirt** -----------\n"
     ]
    },
    {
     "name": "stderr",
     "output_type": "stream",
     "text": [
      "\r",
      "  1%|          | 1.0/100 [00:05<09:04,  5.50s/it]"
     ]
    },
    {
     "name": "stdout",
     "output_type": "stream",
     "text": [
      "LABEL: Shirt\n",
      "EPOCH 1: 5.49605 sec\n",
      "Critic loss: -2.38932\n",
      "Generator loss: -2.51211\n",
      "\n",
      "INFO:tensorflow:Assets written to: models/05-05-21_11:26:10/Shirt/generator/assets\n",
      "INFO:tensorflow:Assets written to: models/05-05-21_11:26:10/Shirt/critic/assets\n"
     ]
    },
    {
     "name": "stderr",
     "output_type": "stream",
     "text": [
      "\r",
      "  2%|▏         | 2.0/100 [00:09<07:24,  4.53s/it]"
     ]
    },
    {
     "name": "stdout",
     "output_type": "stream",
     "text": [
      "LABEL: Shirt\n",
      "EPOCH 2: 2.31990 sec\n",
      "Critic loss: -2.33036\n",
      "Generator loss: -1.68583\n",
      "\n"
     ]
    },
    {
     "name": "stderr",
     "output_type": "stream",
     "text": [
      "\r",
      "  3%|▎         | 3.0/100 [00:11<05:45,  3.56s/it]"
     ]
    },
    {
     "name": "stdout",
     "output_type": "stream",
     "text": [
      "LABEL: Shirt\n",
      "EPOCH 3: 2.32200 sec\n",
      "Critic loss: -2.44578\n",
      "Generator loss: -0.58848\n",
      "\n"
     ]
    },
    {
     "name": "stderr",
     "output_type": "stream",
     "text": [
      "\r",
      "  4%|▍         | 4.0/100 [00:14<04:58,  3.10s/it]"
     ]
    },
    {
     "name": "stdout",
     "output_type": "stream",
     "text": [
      "LABEL: Shirt\n",
      "EPOCH 4: 2.32074 sec\n",
      "Critic loss: -1.91958\n",
      "Generator loss: -1.20948\n",
      "\n"
     ]
    },
    {
     "name": "stderr",
     "output_type": "stream",
     "text": [
      "\r",
      "  5%|▌         | 5.0/100 [00:16<04:31,  2.85s/it]"
     ]
    },
    {
     "name": "stdout",
     "output_type": "stream",
     "text": [
      "LABEL: Shirt\n",
      "EPOCH 5: 2.32327 sec\n",
      "Critic loss: -1.97436\n",
      "Generator loss: -1.17786\n",
      "\n"
     ]
    },
    {
     "name": "stderr",
     "output_type": "stream",
     "text": [
      "\r",
      "  6%|▌         | 6.0/100 [00:18<04:13,  2.70s/it]"
     ]
    },
    {
     "name": "stdout",
     "output_type": "stream",
     "text": [
      "LABEL: Shirt\n",
      "EPOCH 6: 2.31961 sec\n",
      "Critic loss: -2.56629\n",
      "Generator loss: -1.03679\n",
      "\n"
     ]
    },
    {
     "name": "stderr",
     "output_type": "stream",
     "text": [
      "\r",
      "  7%|▋         | 7.0/100 [00:21<04:02,  2.60s/it]"
     ]
    },
    {
     "name": "stdout",
     "output_type": "stream",
     "text": [
      "LABEL: Shirt\n",
      "EPOCH 7: 2.32114 sec\n",
      "Critic loss: -2.21948\n",
      "Generator loss: -0.60125\n",
      "\n"
     ]
    },
    {
     "name": "stderr",
     "output_type": "stream",
     "text": [
      "\r",
      "  8%|▊         | 8.0/100 [00:23<03:53,  2.54s/it]"
     ]
    },
    {
     "name": "stdout",
     "output_type": "stream",
     "text": [
      "LABEL: Shirt\n",
      "EPOCH 8: 2.32085 sec\n",
      "Critic loss: -2.09665\n",
      "Generator loss: -1.48081\n",
      "\n"
     ]
    },
    {
     "name": "stderr",
     "output_type": "stream",
     "text": [
      "\r",
      "  9%|▉         | 9.0/100 [00:26<03:47,  2.50s/it]"
     ]
    },
    {
     "name": "stdout",
     "output_type": "stream",
     "text": [
      "LABEL: Shirt\n",
      "EPOCH 9: 2.32166 sec\n",
      "Critic loss: -1.84801\n",
      "Generator loss: -1.68913\n",
      "\n"
     ]
    },
    {
     "name": "stderr",
     "output_type": "stream",
     "text": [
      "\r",
      " 10%|█         | 10.0/100 [00:28<03:42,  2.47s/it]"
     ]
    },
    {
     "name": "stdout",
     "output_type": "stream",
     "text": [
      "LABEL: Shirt\n",
      "EPOCH 10: 2.32300 sec\n",
      "Critic loss: -2.12289\n",
      "Generator loss: -1.28286\n",
      "\n"
     ]
    },
    {
     "name": "stderr",
     "output_type": "stream",
     "text": [
      "\r",
      " 11%|█         | 11.0/100 [00:30<03:37,  2.45s/it]"
     ]
    },
    {
     "name": "stdout",
     "output_type": "stream",
     "text": [
      "LABEL: Shirt\n",
      "EPOCH 11: 2.32080 sec\n",
      "Critic loss: -2.21138\n",
      "Generator loss: -1.38676\n",
      "\n"
     ]
    },
    {
     "name": "stderr",
     "output_type": "stream",
     "text": [
      "\r",
      " 12%|█▏        | 12.0/100 [00:33<03:34,  2.44s/it]"
     ]
    },
    {
     "name": "stdout",
     "output_type": "stream",
     "text": [
      "LABEL: Shirt\n",
      "EPOCH 12: 2.32509 sec\n",
      "Critic loss: -2.02212\n",
      "Generator loss: -1.07392\n",
      "\n"
     ]
    },
    {
     "name": "stderr",
     "output_type": "stream",
     "text": [
      "\r",
      " 13%|█▎        | 13.0/100 [00:35<03:31,  2.43s/it]"
     ]
    },
    {
     "name": "stdout",
     "output_type": "stream",
     "text": [
      "LABEL: Shirt\n",
      "EPOCH 13: 2.32384 sec\n",
      "Critic loss: -2.49646\n",
      "Generator loss: 0.40738\n",
      "\n"
     ]
    },
    {
     "name": "stderr",
     "output_type": "stream",
     "text": [
      "\r",
      " 14%|█▍        | 14.0/100 [00:38<03:28,  2.42s/it]"
     ]
    },
    {
     "name": "stdout",
     "output_type": "stream",
     "text": [
      "LABEL: Shirt\n",
      "EPOCH 14: 2.32644 sec\n",
      "Critic loss: -2.08409\n",
      "Generator loss: 1.15311\n",
      "\n"
     ]
    },
    {
     "name": "stderr",
     "output_type": "stream",
     "text": [
      "\r",
      " 15%|█▌        | 15.0/100 [00:40<03:25,  2.42s/it]"
     ]
    },
    {
     "name": "stdout",
     "output_type": "stream",
     "text": [
      "LABEL: Shirt\n",
      "EPOCH 15: 2.32307 sec\n",
      "Critic loss: -1.92491\n",
      "Generator loss: -0.01761\n",
      "\n"
     ]
    },
    {
     "name": "stderr",
     "output_type": "stream",
     "text": [
      "\r",
      " 16%|█▌        | 16.0/100 [00:43<03:22,  2.41s/it]"
     ]
    },
    {
     "name": "stdout",
     "output_type": "stream",
     "text": [
      "LABEL: Shirt\n",
      "EPOCH 16: 2.32213 sec\n",
      "Critic loss: -1.77595\n",
      "Generator loss: 0.03934\n",
      "\n"
     ]
    },
    {
     "name": "stderr",
     "output_type": "stream",
     "text": [
      "\r",
      " 17%|█▋        | 17.0/100 [00:45<03:20,  2.41s/it]"
     ]
    },
    {
     "name": "stdout",
     "output_type": "stream",
     "text": [
      "LABEL: Shirt\n",
      "EPOCH 17: 2.32099 sec\n",
      "Critic loss: -1.45998\n",
      "Generator loss: 0.53034\n",
      "\n"
     ]
    },
    {
     "name": "stderr",
     "output_type": "stream",
     "text": [
      "\r",
      " 18%|█▊        | 18.0/100 [00:47<03:17,  2.41s/it]"
     ]
    },
    {
     "name": "stdout",
     "output_type": "stream",
     "text": [
      "LABEL: Shirt\n",
      "EPOCH 18: 2.32579 sec\n",
      "Critic loss: -1.82572\n",
      "Generator loss: 2.91475\n",
      "\n"
     ]
    },
    {
     "name": "stderr",
     "output_type": "stream",
     "text": [
      "\r",
      " 19%|█▉        | 19.0/100 [00:50<03:15,  2.41s/it]"
     ]
    },
    {
     "name": "stdout",
     "output_type": "stream",
     "text": [
      "LABEL: Shirt\n",
      "EPOCH 19: 2.32543 sec\n",
      "Critic loss: -0.54929\n",
      "Generator loss: 2.49750\n",
      "\n"
     ]
    },
    {
     "name": "stderr",
     "output_type": "stream",
     "text": [
      "\r",
      " 20%|██        | 20.0/100 [00:52<03:12,  2.41s/it]"
     ]
    },
    {
     "name": "stdout",
     "output_type": "stream",
     "text": [
      "LABEL: Shirt\n",
      "EPOCH 20: 2.32236 sec\n",
      "Critic loss: -0.56477\n",
      "Generator loss: 3.15237\n",
      "\n"
     ]
    },
    {
     "name": "stderr",
     "output_type": "stream",
     "text": [
      "\r",
      " 21%|██        | 21.0/100 [00:55<03:10,  2.41s/it]"
     ]
    },
    {
     "name": "stdout",
     "output_type": "stream",
     "text": [
      "LABEL: Shirt\n",
      "EPOCH 21: 2.32309 sec\n",
      "Critic loss: -0.48255\n",
      "Generator loss: 2.14948\n",
      "\n",
      "INFO:tensorflow:Assets written to: models/05-05-21_11:26:10/Shirt/generator/assets\n",
      "INFO:tensorflow:Assets written to: models/05-05-21_11:26:10/Shirt/critic/assets\n"
     ]
    },
    {
     "name": "stderr",
     "output_type": "stream",
     "text": [
      "\r",
      " 22%|██▏       | 22.0/100 [00:58<03:42,  2.85s/it]"
     ]
    },
    {
     "name": "stdout",
     "output_type": "stream",
     "text": [
      "LABEL: Shirt\n",
      "EPOCH 22: 2.32873 sec\n",
      "Critic loss: -0.46806\n",
      "Generator loss: 1.59585\n",
      "\n"
     ]
    },
    {
     "name": "stderr",
     "output_type": "stream",
     "text": [
      "\r",
      " 23%|██▎       | 23.0/100 [01:01<03:29,  2.72s/it]"
     ]
    },
    {
     "name": "stdout",
     "output_type": "stream",
     "text": [
      "LABEL: Shirt\n",
      "EPOCH 23: 2.32927 sec\n",
      "Critic loss: -0.46054\n",
      "Generator loss: 1.06582\n",
      "\n"
     ]
    },
    {
     "name": "stderr",
     "output_type": "stream",
     "text": [
      "\r",
      " 24%|██▍       | 24.0/100 [01:03<03:19,  2.63s/it]"
     ]
    },
    {
     "name": "stdout",
     "output_type": "stream",
     "text": [
      "LABEL: Shirt\n",
      "EPOCH 24: 2.32942 sec\n",
      "Critic loss: -0.41203\n",
      "Generator loss: 0.31325\n",
      "\n"
     ]
    },
    {
     "name": "stderr",
     "output_type": "stream",
     "text": [
      "\r",
      " 25%|██▌       | 25.0/100 [01:06<03:12,  2.56s/it]"
     ]
    },
    {
     "name": "stdout",
     "output_type": "stream",
     "text": [
      "LABEL: Shirt\n",
      "EPOCH 25: 2.32853 sec\n",
      "Critic loss: -0.45429\n",
      "Generator loss: -0.30430\n",
      "\n"
     ]
    },
    {
     "name": "stderr",
     "output_type": "stream",
     "text": [
      "\r",
      " 26%|██▌       | 26.0/100 [01:08<03:06,  2.52s/it]"
     ]
    },
    {
     "name": "stdout",
     "output_type": "stream",
     "text": [
      "LABEL: Shirt\n",
      "EPOCH 26: 2.32161 sec\n",
      "Critic loss: -0.48122\n",
      "Generator loss: -0.89233\n",
      "\n"
     ]
    },
    {
     "name": "stderr",
     "output_type": "stream",
     "text": [
      "\r",
      " 27%|██▋       | 27.0/100 [01:11<03:01,  2.48s/it]"
     ]
    },
    {
     "name": "stdout",
     "output_type": "stream",
     "text": [
      "LABEL: Shirt\n",
      "EPOCH 27: 2.32145 sec\n",
      "Critic loss: -0.34058\n",
      "Generator loss: -1.20537\n",
      "\n"
     ]
    },
    {
     "name": "stderr",
     "output_type": "stream",
     "text": [
      "\r",
      " 28%|██▊       | 28.0/100 [01:13<02:57,  2.46s/it]"
     ]
    },
    {
     "name": "stdout",
     "output_type": "stream",
     "text": [
      "LABEL: Shirt\n",
      "EPOCH 28: 2.32617 sec\n",
      "Critic loss: -0.30271\n",
      "Generator loss: -1.11985\n",
      "\n"
     ]
    },
    {
     "name": "stderr",
     "output_type": "stream",
     "text": [
      "\r",
      " 29%|██▉       | 29.0/100 [01:15<02:53,  2.44s/it]"
     ]
    },
    {
     "name": "stdout",
     "output_type": "stream",
     "text": [
      "LABEL: Shirt\n",
      "EPOCH 29: 2.32087 sec\n",
      "Critic loss: -0.26248\n",
      "Generator loss: -1.81165\n",
      "\n"
     ]
    },
    {
     "name": "stderr",
     "output_type": "stream",
     "text": [
      "\r",
      " 30%|███       | 30.0/100 [01:18<02:50,  2.43s/it]"
     ]
    },
    {
     "name": "stdout",
     "output_type": "stream",
     "text": [
      "LABEL: Shirt\n",
      "EPOCH 30: 2.32088 sec\n",
      "Critic loss: -0.32996\n",
      "Generator loss: -1.81186\n",
      "\n"
     ]
    },
    {
     "name": "stderr",
     "output_type": "stream",
     "text": [
      "\r",
      " 31%|███       | 31.0/100 [01:20<02:47,  2.42s/it]"
     ]
    },
    {
     "name": "stdout",
     "output_type": "stream",
     "text": [
      "LABEL: Shirt\n",
      "EPOCH 31: 2.32129 sec\n",
      "Critic loss: -0.22893\n",
      "Generator loss: -2.52409\n",
      "\n"
     ]
    },
    {
     "name": "stderr",
     "output_type": "stream",
     "text": [
      "\r",
      " 32%|███▏      | 32.0/100 [01:23<02:44,  2.42s/it]"
     ]
    },
    {
     "name": "stdout",
     "output_type": "stream",
     "text": [
      "LABEL: Shirt\n",
      "EPOCH 32: 2.32063 sec\n",
      "Critic loss: -0.24213\n",
      "Generator loss: -2.93719\n",
      "\n"
     ]
    },
    {
     "name": "stderr",
     "output_type": "stream",
     "text": [
      "\r",
      " 33%|███▎      | 33.0/100 [01:25<02:41,  2.41s/it]"
     ]
    },
    {
     "name": "stdout",
     "output_type": "stream",
     "text": [
      "LABEL: Shirt\n",
      "EPOCH 33: 2.32032 sec\n",
      "Critic loss: -0.21658\n",
      "Generator loss: -3.09326\n",
      "\n"
     ]
    },
    {
     "name": "stderr",
     "output_type": "stream",
     "text": [
      "\r",
      " 34%|███▍      | 34.0/100 [01:27<02:39,  2.41s/it]"
     ]
    },
    {
     "name": "stdout",
     "output_type": "stream",
     "text": [
      "LABEL: Shirt\n",
      "EPOCH 34: 2.32179 sec\n",
      "Critic loss: -0.30794\n",
      "Generator loss: -4.18060\n",
      "\n"
     ]
    },
    {
     "name": "stderr",
     "output_type": "stream",
     "text": [
      "\r",
      " 35%|███▌      | 35.0/100 [01:30<02:36,  2.41s/it]"
     ]
    },
    {
     "name": "stdout",
     "output_type": "stream",
     "text": [
      "LABEL: Shirt\n",
      "EPOCH 35: 2.32188 sec\n",
      "Critic loss: -0.26250\n",
      "Generator loss: -4.71650\n",
      "\n"
     ]
    },
    {
     "name": "stderr",
     "output_type": "stream",
     "text": [
      "\r",
      " 36%|███▌      | 36.0/100 [01:32<02:34,  2.41s/it]"
     ]
    },
    {
     "name": "stdout",
     "output_type": "stream",
     "text": [
      "LABEL: Shirt\n",
      "EPOCH 36: 2.32081 sec\n",
      "Critic loss: -0.31773\n",
      "Generator loss: -4.76013\n",
      "\n"
     ]
    },
    {
     "name": "stderr",
     "output_type": "stream",
     "text": [
      "\r",
      " 37%|███▋      | 37.0/100 [01:35<02:31,  2.41s/it]"
     ]
    },
    {
     "name": "stdout",
     "output_type": "stream",
     "text": [
      "LABEL: Shirt\n",
      "EPOCH 37: 2.31874 sec\n",
      "Critic loss: -0.29217\n",
      "Generator loss: -4.81682\n",
      "\n"
     ]
    },
    {
     "name": "stderr",
     "output_type": "stream",
     "text": [
      "\r",
      " 38%|███▊      | 38.0/100 [01:37<02:29,  2.41s/it]"
     ]
    },
    {
     "name": "stdout",
     "output_type": "stream",
     "text": [
      "LABEL: Shirt\n",
      "EPOCH 38: 2.32438 sec\n",
      "Critic loss: -0.24913\n",
      "Generator loss: -5.51292\n",
      "\n"
     ]
    },
    {
     "name": "stderr",
     "output_type": "stream",
     "text": [
      "\r",
      " 39%|███▉      | 39.0/100 [01:39<02:26,  2.41s/it]"
     ]
    },
    {
     "name": "stdout",
     "output_type": "stream",
     "text": [
      "LABEL: Shirt\n",
      "EPOCH 39: 2.32092 sec\n",
      "Critic loss: -0.28356\n",
      "Generator loss: -5.41438\n",
      "\n"
     ]
    },
    {
     "name": "stderr",
     "output_type": "stream",
     "text": [
      "\r",
      " 40%|████      | 40.0/100 [01:42<02:24,  2.41s/it]"
     ]
    },
    {
     "name": "stdout",
     "output_type": "stream",
     "text": [
      "LABEL: Shirt\n",
      "EPOCH 40: 2.32338 sec\n",
      "Critic loss: -0.28274\n",
      "Generator loss: -6.39392\n",
      "\n"
     ]
    },
    {
     "name": "stderr",
     "output_type": "stream",
     "text": [
      "\r",
      " 41%|████      | 41.0/100 [01:44<02:22,  2.41s/it]"
     ]
    },
    {
     "name": "stdout",
     "output_type": "stream",
     "text": [
      "LABEL: Shirt\n",
      "EPOCH 41: 2.32956 sec\n",
      "Critic loss: -0.32336\n",
      "Generator loss: -6.40971\n",
      "\n",
      "INFO:tensorflow:Assets written to: models/05-05-21_11:26:10/Shirt/generator/assets\n",
      "INFO:tensorflow:Assets written to: models/05-05-21_11:26:10/Shirt/critic/assets\n"
     ]
    },
    {
     "name": "stderr",
     "output_type": "stream",
     "text": [
      "\r",
      " 42%|████▏     | 42.0/100 [01:48<02:44,  2.84s/it]"
     ]
    },
    {
     "name": "stdout",
     "output_type": "stream",
     "text": [
      "LABEL: Shirt\n",
      "EPOCH 42: 2.32809 sec\n",
      "Critic loss: -0.21828\n",
      "Generator loss: -6.42203\n",
      "\n"
     ]
    },
    {
     "name": "stderr",
     "output_type": "stream",
     "text": [
      "\r",
      " 43%|████▎     | 43.0/100 [01:50<02:34,  2.71s/it]"
     ]
    },
    {
     "name": "stdout",
     "output_type": "stream",
     "text": [
      "LABEL: Shirt\n",
      "EPOCH 43: 2.32503 sec\n",
      "Critic loss: -0.30444\n",
      "Generator loss: -7.17158\n",
      "\n"
     ]
    },
    {
     "name": "stderr",
     "output_type": "stream",
     "text": [
      "\r",
      " 44%|████▍     | 44.0/100 [01:53<02:26,  2.62s/it]"
     ]
    },
    {
     "name": "stdout",
     "output_type": "stream",
     "text": [
      "LABEL: Shirt\n",
      "EPOCH 44: 2.32215 sec\n",
      "Critic loss: -0.26725\n",
      "Generator loss: -6.59610\n",
      "\n"
     ]
    },
    {
     "name": "stderr",
     "output_type": "stream",
     "text": [
      "\r",
      " 45%|████▌     | 45.0/100 [01:55<02:20,  2.55s/it]"
     ]
    },
    {
     "name": "stdout",
     "output_type": "stream",
     "text": [
      "LABEL: Shirt\n",
      "EPOCH 45: 2.31997 sec\n",
      "Critic loss: -0.34032\n",
      "Generator loss: -7.58543\n",
      "\n"
     ]
    },
    {
     "name": "stderr",
     "output_type": "stream",
     "text": [
      "\r",
      " 46%|████▌     | 46.0/100 [01:58<02:15,  2.51s/it]"
     ]
    },
    {
     "name": "stdout",
     "output_type": "stream",
     "text": [
      "LABEL: Shirt\n",
      "EPOCH 46: 2.32126 sec\n",
      "Critic loss: -0.27700\n",
      "Generator loss: -7.93839\n",
      "\n"
     ]
    },
    {
     "name": "stderr",
     "output_type": "stream",
     "text": [
      "\r",
      " 47%|████▋     | 47.0/100 [02:00<02:11,  2.48s/it]"
     ]
    },
    {
     "name": "stdout",
     "output_type": "stream",
     "text": [
      "LABEL: Shirt\n",
      "EPOCH 47: 2.32067 sec\n",
      "Critic loss: -0.31174\n",
      "Generator loss: -7.91943\n",
      "\n"
     ]
    },
    {
     "name": "stderr",
     "output_type": "stream",
     "text": [
      "\r",
      " 48%|████▊     | 48.0/100 [02:02<02:07,  2.45s/it]"
     ]
    },
    {
     "name": "stdout",
     "output_type": "stream",
     "text": [
      "LABEL: Shirt\n",
      "EPOCH 48: 2.31915 sec\n",
      "Critic loss: -0.29197\n",
      "Generator loss: -8.33444\n",
      "\n"
     ]
    },
    {
     "name": "stderr",
     "output_type": "stream",
     "text": [
      "\r",
      " 49%|████▉     | 49.0/100 [02:05<02:04,  2.44s/it]"
     ]
    },
    {
     "name": "stdout",
     "output_type": "stream",
     "text": [
      "LABEL: Shirt\n",
      "EPOCH 49: 2.31956 sec\n",
      "Critic loss: -0.28891\n",
      "Generator loss: -8.04038\n",
      "\n"
     ]
    },
    {
     "name": "stderr",
     "output_type": "stream",
     "text": [
      "\r",
      " 50%|█████     | 50.0/100 [02:07<02:01,  2.43s/it]"
     ]
    },
    {
     "name": "stdout",
     "output_type": "stream",
     "text": [
      "LABEL: Shirt\n",
      "EPOCH 50: 2.32002 sec\n",
      "Critic loss: -0.31211\n",
      "Generator loss: -7.88249\n",
      "\n"
     ]
    },
    {
     "name": "stderr",
     "output_type": "stream",
     "text": [
      "\r",
      " 51%|█████     | 51.0/100 [02:10<01:58,  2.42s/it]"
     ]
    },
    {
     "name": "stdout",
     "output_type": "stream",
     "text": [
      "LABEL: Shirt\n",
      "EPOCH 51: 2.32022 sec\n",
      "Critic loss: -0.23877\n",
      "Generator loss: -7.37635\n",
      "\n"
     ]
    },
    {
     "name": "stderr",
     "output_type": "stream",
     "text": [
      "\r",
      " 52%|█████▏    | 52.0/100 [02:12<01:55,  2.42s/it]"
     ]
    },
    {
     "name": "stdout",
     "output_type": "stream",
     "text": [
      "LABEL: Shirt\n",
      "EPOCH 52: 2.32219 sec\n",
      "Critic loss: -0.29860\n",
      "Generator loss: -7.25207\n",
      "\n"
     ]
    },
    {
     "name": "stderr",
     "output_type": "stream",
     "text": [
      "\r",
      " 53%|█████▎    | 53.0/100 [02:14<01:53,  2.41s/it]"
     ]
    },
    {
     "name": "stdout",
     "output_type": "stream",
     "text": [
      "LABEL: Shirt\n",
      "EPOCH 53: 2.32159 sec\n",
      "Critic loss: -0.29161\n",
      "Generator loss: -7.88523\n",
      "\n"
     ]
    },
    {
     "name": "stderr",
     "output_type": "stream",
     "text": [
      "\r",
      " 54%|█████▍    | 54.0/100 [02:17<01:50,  2.41s/it]"
     ]
    },
    {
     "name": "stdout",
     "output_type": "stream",
     "text": [
      "LABEL: Shirt\n",
      "EPOCH 54: 2.32211 sec\n",
      "Critic loss: -0.24559\n",
      "Generator loss: -6.99719\n",
      "\n"
     ]
    },
    {
     "name": "stderr",
     "output_type": "stream",
     "text": [
      "\r",
      " 55%|█████▌    | 55.0/100 [02:19<01:48,  2.41s/it]"
     ]
    },
    {
     "name": "stdout",
     "output_type": "stream",
     "text": [
      "LABEL: Shirt\n",
      "EPOCH 55: 2.32225 sec\n",
      "Critic loss: -0.32254\n",
      "Generator loss: -6.75715\n",
      "\n"
     ]
    },
    {
     "name": "stderr",
     "output_type": "stream",
     "text": [
      "\r",
      " 56%|█████▌    | 56.0/100 [02:22<01:45,  2.41s/it]"
     ]
    },
    {
     "name": "stdout",
     "output_type": "stream",
     "text": [
      "LABEL: Shirt\n",
      "EPOCH 56: 2.32166 sec\n",
      "Critic loss: -0.24677\n",
      "Generator loss: -6.82172\n",
      "\n"
     ]
    },
    {
     "name": "stderr",
     "output_type": "stream",
     "text": [
      "\r",
      " 57%|█████▋    | 57.0/100 [02:24<01:43,  2.41s/it]"
     ]
    },
    {
     "name": "stdout",
     "output_type": "stream",
     "text": [
      "LABEL: Shirt\n",
      "EPOCH 57: 2.32110 sec\n",
      "Critic loss: -0.34629\n",
      "Generator loss: -6.77360\n",
      "\n"
     ]
    },
    {
     "name": "stderr",
     "output_type": "stream",
     "text": [
      "\r",
      " 58%|█████▊    | 58.0/100 [02:26<01:41,  2.41s/it]"
     ]
    },
    {
     "name": "stdout",
     "output_type": "stream",
     "text": [
      "LABEL: Shirt\n",
      "EPOCH 58: 2.32692 sec\n",
      "Critic loss: -0.31474\n",
      "Generator loss: -6.70296\n",
      "\n"
     ]
    },
    {
     "name": "stderr",
     "output_type": "stream",
     "text": [
      "\r",
      " 59%|█████▉    | 59.0/100 [02:29<01:38,  2.41s/it]"
     ]
    },
    {
     "name": "stdout",
     "output_type": "stream",
     "text": [
      "LABEL: Shirt\n",
      "EPOCH 59: 2.32655 sec\n",
      "Critic loss: -0.24422\n",
      "Generator loss: -5.66913\n",
      "\n"
     ]
    },
    {
     "name": "stderr",
     "output_type": "stream",
     "text": [
      "\r",
      " 60%|██████    | 60.0/100 [02:31<01:37,  2.43s/it]"
     ]
    },
    {
     "name": "stdout",
     "output_type": "stream",
     "text": [
      "LABEL: Shirt\n",
      "EPOCH 60: 2.40943 sec\n",
      "Critic loss: -0.21874\n",
      "Generator loss: -6.22699\n",
      "\n"
     ]
    },
    {
     "name": "stderr",
     "output_type": "stream",
     "text": [
      "\r",
      " 61%|██████    | 61.0/100 [02:34<01:36,  2.47s/it]"
     ]
    },
    {
     "name": "stdout",
     "output_type": "stream",
     "text": [
      "LABEL: Shirt\n",
      "EPOCH 61: 2.45090 sec\n",
      "Critic loss: -0.18952\n",
      "Generator loss: -5.46947\n",
      "\n",
      "INFO:tensorflow:Assets written to: models/05-05-21_11:26:10/Shirt/generator/assets\n",
      "INFO:tensorflow:Assets written to: models/05-05-21_11:26:10/Shirt/critic/assets\n"
     ]
    },
    {
     "name": "stderr",
     "output_type": "stream",
     "text": [
      "\r",
      " 62%|██████▏   | 62.0/100 [02:38<01:52,  2.96s/it]"
     ]
    },
    {
     "name": "stdout",
     "output_type": "stream",
     "text": [
      "LABEL: Shirt\n",
      "EPOCH 62: 2.37948 sec\n",
      "Critic loss: -0.23296\n",
      "Generator loss: -5.92310\n",
      "\n"
     ]
    },
    {
     "name": "stderr",
     "output_type": "stream",
     "text": [
      "\r",
      " 63%|██████▎   | 63.0/100 [02:41<01:44,  2.81s/it]"
     ]
    },
    {
     "name": "stdout",
     "output_type": "stream",
     "text": [
      "LABEL: Shirt\n",
      "EPOCH 63: 2.39226 sec\n",
      "Critic loss: -0.25210\n",
      "Generator loss: -5.40967\n",
      "\n"
     ]
    },
    {
     "name": "stderr",
     "output_type": "stream",
     "text": [
      "\r",
      " 64%|██████▍   | 64.0/100 [02:43<01:38,  2.74s/it]"
     ]
    },
    {
     "name": "stdout",
     "output_type": "stream",
     "text": [
      "LABEL: Shirt\n",
      "EPOCH 64: 2.48316 sec\n",
      "Critic loss: -0.24405\n",
      "Generator loss: -5.58895\n",
      "\n"
     ]
    },
    {
     "name": "stderr",
     "output_type": "stream",
     "text": [
      "\r",
      " 65%|██████▌   | 65.0/100 [02:46<01:33,  2.66s/it]"
     ]
    },
    {
     "name": "stdout",
     "output_type": "stream",
     "text": [
      "LABEL: Shirt\n",
      "EPOCH 65: 2.36819 sec\n",
      "Critic loss: -0.24173\n",
      "Generator loss: -4.88573\n",
      "\n"
     ]
    },
    {
     "name": "stderr",
     "output_type": "stream",
     "text": [
      "\r",
      " 66%|██████▌   | 66.0/100 [02:48<01:27,  2.58s/it]"
     ]
    },
    {
     "name": "stdout",
     "output_type": "stream",
     "text": [
      "LABEL: Shirt\n",
      "EPOCH 66: 2.32331 sec\n",
      "Critic loss: -0.29025\n",
      "Generator loss: -4.88196\n",
      "\n"
     ]
    },
    {
     "name": "stderr",
     "output_type": "stream",
     "text": [
      "\r",
      " 67%|██████▋   | 67.0/100 [02:50<01:23,  2.53s/it]"
     ]
    },
    {
     "name": "stdout",
     "output_type": "stream",
     "text": [
      "LABEL: Shirt\n",
      "EPOCH 67: 2.32316 sec\n",
      "Critic loss: -0.22700\n",
      "Generator loss: -4.92893\n",
      "\n"
     ]
    },
    {
     "name": "stderr",
     "output_type": "stream",
     "text": [
      "\r",
      " 68%|██████▊   | 68.0/100 [02:53<01:19,  2.49s/it]"
     ]
    },
    {
     "name": "stdout",
     "output_type": "stream",
     "text": [
      "LABEL: Shirt\n",
      "EPOCH 68: 2.32446 sec\n",
      "Critic loss: -0.23864\n",
      "Generator loss: -4.34160\n",
      "\n"
     ]
    },
    {
     "name": "stderr",
     "output_type": "stream",
     "text": [
      "\r",
      " 69%|██████▉   | 69.0/100 [02:55<01:16,  2.47s/it]"
     ]
    },
    {
     "name": "stdout",
     "output_type": "stream",
     "text": [
      "LABEL: Shirt\n",
      "EPOCH 69: 2.32502 sec\n",
      "Critic loss: -0.15948\n",
      "Generator loss: -4.02618\n",
      "\n"
     ]
    },
    {
     "name": "stderr",
     "output_type": "stream",
     "text": [
      "\r",
      " 70%|███████   | 70.0/100 [02:58<01:13,  2.45s/it]"
     ]
    },
    {
     "name": "stdout",
     "output_type": "stream",
     "text": [
      "LABEL: Shirt\n",
      "EPOCH 70: 2.32169 sec\n",
      "Critic loss: -0.25166\n",
      "Generator loss: -4.02014\n",
      "\n"
     ]
    },
    {
     "name": "stderr",
     "output_type": "stream",
     "text": [
      "\r",
      " 71%|███████   | 71.0/100 [03:00<01:10,  2.44s/it]"
     ]
    },
    {
     "name": "stdout",
     "output_type": "stream",
     "text": [
      "LABEL: Shirt\n",
      "EPOCH 71: 2.33188 sec\n",
      "Critic loss: -0.19039\n",
      "Generator loss: -3.92395\n",
      "\n"
     ]
    },
    {
     "name": "stderr",
     "output_type": "stream",
     "text": [
      "\r",
      " 72%|███████▏  | 72.0/100 [03:02<01:08,  2.43s/it]"
     ]
    },
    {
     "name": "stdout",
     "output_type": "stream",
     "text": [
      "LABEL: Shirt\n",
      "EPOCH 72: 2.33246 sec\n",
      "Critic loss: -0.16022\n",
      "Generator loss: -3.93885\n",
      "\n"
     ]
    },
    {
     "name": "stderr",
     "output_type": "stream",
     "text": [
      "\r",
      " 73%|███████▎  | 73.0/100 [03:05<01:05,  2.43s/it]"
     ]
    },
    {
     "name": "stdout",
     "output_type": "stream",
     "text": [
      "LABEL: Shirt\n",
      "EPOCH 73: 2.33648 sec\n",
      "Critic loss: -0.17395\n",
      "Generator loss: -3.68939\n",
      "\n"
     ]
    },
    {
     "name": "stderr",
     "output_type": "stream",
     "text": [
      "\r",
      " 74%|███████▍  | 74.0/100 [03:07<01:02,  2.42s/it]"
     ]
    },
    {
     "name": "stdout",
     "output_type": "stream",
     "text": [
      "LABEL: Shirt\n",
      "EPOCH 74: 2.32269 sec\n",
      "Critic loss: -0.20290\n",
      "Generator loss: -3.35696\n",
      "\n"
     ]
    },
    {
     "name": "stderr",
     "output_type": "stream",
     "text": [
      "\r",
      " 75%|███████▌  | 75.0/100 [03:10<01:00,  2.42s/it]"
     ]
    },
    {
     "name": "stdout",
     "output_type": "stream",
     "text": [
      "LABEL: Shirt\n",
      "EPOCH 75: 2.32356 sec\n",
      "Critic loss: -0.14051\n",
      "Generator loss: -3.23097\n",
      "\n"
     ]
    },
    {
     "name": "stderr",
     "output_type": "stream",
     "text": [
      "\r",
      " 76%|███████▌  | 76.0/100 [03:12<00:57,  2.41s/it]"
     ]
    },
    {
     "name": "stdout",
     "output_type": "stream",
     "text": [
      "LABEL: Shirt\n",
      "EPOCH 76: 2.32354 sec\n",
      "Critic loss: -0.24357\n",
      "Generator loss: -2.95181\n",
      "\n"
     ]
    },
    {
     "name": "stderr",
     "output_type": "stream",
     "text": [
      "\r",
      " 77%|███████▋  | 77.0/100 [03:14<00:55,  2.41s/it]"
     ]
    },
    {
     "name": "stdout",
     "output_type": "stream",
     "text": [
      "LABEL: Shirt\n",
      "EPOCH 77: 2.32286 sec\n",
      "Critic loss: -0.18391\n",
      "Generator loss: -2.73676\n",
      "\n"
     ]
    },
    {
     "name": "stderr",
     "output_type": "stream",
     "text": [
      "\r",
      " 78%|███████▊  | 78.0/100 [03:17<00:53,  2.41s/it]"
     ]
    },
    {
     "name": "stdout",
     "output_type": "stream",
     "text": [
      "LABEL: Shirt\n",
      "EPOCH 78: 2.32291 sec\n",
      "Critic loss: -0.17136\n",
      "Generator loss: -2.77331\n",
      "\n"
     ]
    },
    {
     "name": "stderr",
     "output_type": "stream",
     "text": [
      "\r",
      " 79%|███████▉  | 79.0/100 [03:19<00:50,  2.41s/it]"
     ]
    },
    {
     "name": "stdout",
     "output_type": "stream",
     "text": [
      "LABEL: Shirt\n",
      "EPOCH 79: 2.32356 sec\n",
      "Critic loss: -0.24346\n",
      "Generator loss: -3.05805\n",
      "\n"
     ]
    },
    {
     "name": "stderr",
     "output_type": "stream",
     "text": [
      "\r",
      " 80%|████████  | 80.0/100 [03:22<00:48,  2.41s/it]"
     ]
    },
    {
     "name": "stdout",
     "output_type": "stream",
     "text": [
      "LABEL: Shirt\n",
      "EPOCH 80: 2.32179 sec\n",
      "Critic loss: -0.20604\n",
      "Generator loss: -1.98469\n",
      "\n"
     ]
    },
    {
     "name": "stderr",
     "output_type": "stream",
     "text": [
      "\r",
      " 81%|████████  | 81.0/100 [03:24<00:45,  2.41s/it]"
     ]
    },
    {
     "name": "stdout",
     "output_type": "stream",
     "text": [
      "LABEL: Shirt\n",
      "EPOCH 81: 2.32346 sec\n",
      "Critic loss: -0.17417\n",
      "Generator loss: -2.40579\n",
      "\n",
      "INFO:tensorflow:Assets written to: models/05-05-21_11:26:10/Shirt/generator/assets\n",
      "INFO:tensorflow:Assets written to: models/05-05-21_11:26:10/Shirt/critic/assets\n"
     ]
    },
    {
     "name": "stderr",
     "output_type": "stream",
     "text": [
      "\r",
      " 82%|████████▏ | 82.0/100 [03:28<00:50,  2.83s/it]"
     ]
    },
    {
     "name": "stdout",
     "output_type": "stream",
     "text": [
      "LABEL: Shirt\n",
      "EPOCH 82: 2.32137 sec\n",
      "Critic loss: -0.09521\n",
      "Generator loss: -2.26554\n",
      "\n"
     ]
    },
    {
     "name": "stderr",
     "output_type": "stream",
     "text": [
      "\r",
      " 83%|████████▎ | 83.0/100 [03:30<00:45,  2.70s/it]"
     ]
    },
    {
     "name": "stdout",
     "output_type": "stream",
     "text": [
      "LABEL: Shirt\n",
      "EPOCH 83: 2.32200 sec\n",
      "Critic loss: -0.18213\n",
      "Generator loss: -1.88442\n",
      "\n"
     ]
    },
    {
     "name": "stderr",
     "output_type": "stream",
     "text": [
      "\r",
      " 84%|████████▍ | 84.0/100 [03:33<00:41,  2.61s/it]"
     ]
    },
    {
     "name": "stdout",
     "output_type": "stream",
     "text": [
      "LABEL: Shirt\n",
      "EPOCH 84: 2.32110 sec\n",
      "Critic loss: -0.19423\n",
      "Generator loss: -1.61533\n",
      "\n"
     ]
    },
    {
     "name": "stderr",
     "output_type": "stream",
     "text": [
      "\r",
      " 85%|████████▌ | 85.0/100 [03:35<00:38,  2.55s/it]"
     ]
    },
    {
     "name": "stdout",
     "output_type": "stream",
     "text": [
      "LABEL: Shirt\n",
      "EPOCH 85: 2.32232 sec\n",
      "Critic loss: -0.10882\n",
      "Generator loss: -1.44758\n",
      "\n"
     ]
    },
    {
     "name": "stderr",
     "output_type": "stream",
     "text": [
      "\r",
      " 86%|████████▌ | 86.0/100 [03:38<00:35,  2.51s/it]"
     ]
    },
    {
     "name": "stdout",
     "output_type": "stream",
     "text": [
      "LABEL: Shirt\n",
      "EPOCH 86: 2.32258 sec\n",
      "Critic loss: -0.15316\n",
      "Generator loss: -1.50197\n",
      "\n"
     ]
    },
    {
     "name": "stderr",
     "output_type": "stream",
     "text": [
      "\r",
      " 87%|████████▋ | 87.0/100 [03:40<00:32,  2.48s/it]"
     ]
    },
    {
     "name": "stdout",
     "output_type": "stream",
     "text": [
      "LABEL: Shirt\n",
      "EPOCH 87: 2.32216 sec\n",
      "Critic loss: -0.13967\n",
      "Generator loss: -1.27031\n",
      "\n"
     ]
    },
    {
     "name": "stderr",
     "output_type": "stream",
     "text": [
      "\r",
      " 88%|████████▊ | 88.0/100 [03:42<00:29,  2.46s/it]"
     ]
    },
    {
     "name": "stdout",
     "output_type": "stream",
     "text": [
      "LABEL: Shirt\n",
      "EPOCH 88: 2.32423 sec\n",
      "Critic loss: -0.17564\n",
      "Generator loss: -1.03262\n",
      "\n"
     ]
    },
    {
     "name": "stderr",
     "output_type": "stream",
     "text": [
      "\r",
      " 89%|████████▉ | 89.0/100 [03:45<00:26,  2.44s/it]"
     ]
    },
    {
     "name": "stdout",
     "output_type": "stream",
     "text": [
      "LABEL: Shirt\n",
      "EPOCH 89: 2.32607 sec\n",
      "Critic loss: -0.17951\n",
      "Generator loss: -0.54224\n",
      "\n"
     ]
    },
    {
     "name": "stderr",
     "output_type": "stream",
     "text": [
      "\r",
      " 90%|█████████ | 90.0/100 [03:47<00:24,  2.43s/it]"
     ]
    },
    {
     "name": "stdout",
     "output_type": "stream",
     "text": [
      "LABEL: Shirt\n",
      "EPOCH 90: 2.32278 sec\n",
      "Critic loss: -0.11614\n",
      "Generator loss: -0.46445\n",
      "\n"
     ]
    },
    {
     "name": "stderr",
     "output_type": "stream",
     "text": [
      "\r",
      " 91%|█████████ | 91.0/100 [03:50<00:21,  2.42s/it]"
     ]
    },
    {
     "name": "stdout",
     "output_type": "stream",
     "text": [
      "LABEL: Shirt\n",
      "EPOCH 91: 2.32386 sec\n",
      "Critic loss: -0.16120\n",
      "Generator loss: -0.28246\n",
      "\n"
     ]
    },
    {
     "name": "stderr",
     "output_type": "stream",
     "text": [
      "\r",
      " 92%|█████████▏| 92.0/100 [03:52<00:19,  2.42s/it]"
     ]
    },
    {
     "name": "stdout",
     "output_type": "stream",
     "text": [
      "LABEL: Shirt\n",
      "EPOCH 92: 2.32375 sec\n",
      "Critic loss: -0.17233\n",
      "Generator loss: -0.27659\n",
      "\n"
     ]
    },
    {
     "name": "stderr",
     "output_type": "stream",
     "text": [
      "\r",
      " 93%|█████████▎| 93.0/100 [03:54<00:16,  2.42s/it]"
     ]
    },
    {
     "name": "stdout",
     "output_type": "stream",
     "text": [
      "LABEL: Shirt\n",
      "EPOCH 93: 2.32440 sec\n",
      "Critic loss: -0.17183\n",
      "Generator loss: 0.07284\n",
      "\n"
     ]
    },
    {
     "name": "stderr",
     "output_type": "stream",
     "text": [
      "\r",
      " 94%|█████████▍| 94.0/100 [03:57<00:14,  2.41s/it]"
     ]
    },
    {
     "name": "stdout",
     "output_type": "stream",
     "text": [
      "LABEL: Shirt\n",
      "EPOCH 94: 2.32355 sec\n",
      "Critic loss: -0.17050\n",
      "Generator loss: -0.19743\n",
      "\n"
     ]
    },
    {
     "name": "stderr",
     "output_type": "stream",
     "text": [
      "\r",
      " 95%|█████████▌| 95.0/100 [03:59<00:12,  2.41s/it]"
     ]
    },
    {
     "name": "stdout",
     "output_type": "stream",
     "text": [
      "LABEL: Shirt\n",
      "EPOCH 95: 2.32545 sec\n",
      "Critic loss: -0.15946\n",
      "Generator loss: -0.28086\n",
      "\n"
     ]
    },
    {
     "name": "stderr",
     "output_type": "stream",
     "text": [
      "\r",
      " 96%|█████████▌| 96.0/100 [04:02<00:09,  2.41s/it]"
     ]
    },
    {
     "name": "stdout",
     "output_type": "stream",
     "text": [
      "LABEL: Shirt\n",
      "EPOCH 96: 2.32186 sec\n",
      "Critic loss: -0.15076\n",
      "Generator loss: 0.53089\n",
      "\n"
     ]
    },
    {
     "name": "stderr",
     "output_type": "stream",
     "text": [
      "\r",
      " 97%|█████████▋| 97.0/100 [04:04<00:07,  2.41s/it]"
     ]
    },
    {
     "name": "stdout",
     "output_type": "stream",
     "text": [
      "LABEL: Shirt\n",
      "EPOCH 97: 2.32473 sec\n",
      "Critic loss: -0.19447\n",
      "Generator loss: 0.42208\n",
      "\n"
     ]
    },
    {
     "name": "stderr",
     "output_type": "stream",
     "text": [
      "\r",
      " 98%|█████████▊| 98.0/100 [04:06<00:04,  2.41s/it]"
     ]
    },
    {
     "name": "stdout",
     "output_type": "stream",
     "text": [
      "LABEL: Shirt\n",
      "EPOCH 98: 2.32211 sec\n",
      "Critic loss: -0.13901\n",
      "Generator loss: 0.57036\n",
      "\n"
     ]
    },
    {
     "name": "stderr",
     "output_type": "stream",
     "text": [
      "\r",
      " 99%|█████████▉| 99.0/100 [04:09<00:02,  2.41s/it]"
     ]
    },
    {
     "name": "stdout",
     "output_type": "stream",
     "text": [
      "LABEL: Shirt\n",
      "EPOCH 99: 2.32687 sec\n",
      "Critic loss: -0.09038\n",
      "Generator loss: 0.47919\n",
      "\n"
     ]
    },
    {
     "name": "stderr",
     "output_type": "stream",
     "text": [
      "100%|██████████| 100.0/100 [04:11<00:00,  2.52s/it]\n",
      "  0%|          | 0/100 [00:00<?, ?it/s]"
     ]
    },
    {
     "name": "stdout",
     "output_type": "stream",
     "text": [
      "LABEL: Shirt\n",
      "EPOCH 100: 2.32323 sec\n",
      "Critic loss: -0.11087\n",
      "Generator loss: 0.58706\n",
      "\n",
      "----------- TRAINING TO GENERATE **Sneaker** -----------\n"
     ]
    },
    {
     "name": "stderr",
     "output_type": "stream",
     "text": [
      "\r",
      "  1%|          | 1.0/100 [00:05<09:12,  5.58s/it]"
     ]
    },
    {
     "name": "stdout",
     "output_type": "stream",
     "text": [
      "LABEL: Sneaker\n",
      "EPOCH 1: 5.58283 sec\n",
      "Critic loss: -3.02663\n",
      "Generator loss: -1.64697\n",
      "\n",
      "INFO:tensorflow:Assets written to: models/05-05-21_11:26:10/Sneaker/generator/assets\n",
      "INFO:tensorflow:Assets written to: models/05-05-21_11:26:10/Sneaker/critic/assets\n"
     ]
    },
    {
     "name": "stderr",
     "output_type": "stream",
     "text": [
      "\r",
      "  2%|▏         | 2.0/100 [00:09<07:23,  4.52s/it]"
     ]
    },
    {
     "name": "stdout",
     "output_type": "stream",
     "text": [
      "LABEL: Sneaker\n",
      "EPOCH 2: 2.32604 sec\n",
      "Critic loss: -2.93952\n",
      "Generator loss: -1.33625\n",
      "\n"
     ]
    },
    {
     "name": "stderr",
     "output_type": "stream",
     "text": [
      "\r",
      "  3%|▎         | 3.0/100 [00:11<05:44,  3.56s/it]"
     ]
    },
    {
     "name": "stdout",
     "output_type": "stream",
     "text": [
      "LABEL: Sneaker\n",
      "EPOCH 3: 2.32385 sec\n",
      "Critic loss: -2.66983\n",
      "Generator loss: -1.05187\n",
      "\n"
     ]
    },
    {
     "name": "stderr",
     "output_type": "stream",
     "text": [
      "\r",
      "  4%|▍         | 4.0/100 [00:14<04:58,  3.11s/it]"
     ]
    },
    {
     "name": "stdout",
     "output_type": "stream",
     "text": [
      "LABEL: Sneaker\n",
      "EPOCH 4: 2.32664 sec\n",
      "Critic loss: -2.31687\n",
      "Generator loss: -0.75056\n",
      "\n"
     ]
    },
    {
     "name": "stderr",
     "output_type": "stream",
     "text": [
      "\r",
      "  5%|▌         | 5.0/100 [00:16<04:31,  2.85s/it]"
     ]
    },
    {
     "name": "stdout",
     "output_type": "stream",
     "text": [
      "LABEL: Sneaker\n",
      "EPOCH 5: 2.32794 sec\n",
      "Critic loss: -2.21318\n",
      "Generator loss: -0.01047\n",
      "\n"
     ]
    },
    {
     "name": "stderr",
     "output_type": "stream",
     "text": [
      "\r",
      "  6%|▌         | 6.0/100 [00:19<04:14,  2.70s/it]"
     ]
    },
    {
     "name": "stdout",
     "output_type": "stream",
     "text": [
      "LABEL: Sneaker\n",
      "EPOCH 6: 2.32364 sec\n",
      "Critic loss: -1.58264\n",
      "Generator loss: -1.60686\n",
      "\n"
     ]
    },
    {
     "name": "stderr",
     "output_type": "stream",
     "text": [
      "\r",
      "  7%|▋         | 7.0/100 [00:21<04:02,  2.61s/it]"
     ]
    },
    {
     "name": "stdout",
     "output_type": "stream",
     "text": [
      "LABEL: Sneaker\n",
      "EPOCH 7: 2.32483 sec\n",
      "Critic loss: -1.75490\n",
      "Generator loss: -2.91896\n",
      "\n"
     ]
    },
    {
     "name": "stderr",
     "output_type": "stream",
     "text": [
      "\r",
      "  8%|▊         | 8.0/100 [00:23<03:54,  2.54s/it]"
     ]
    },
    {
     "name": "stdout",
     "output_type": "stream",
     "text": [
      "LABEL: Sneaker\n",
      "EPOCH 8: 2.32917 sec\n",
      "Critic loss: -1.89770\n",
      "Generator loss: -3.07861\n",
      "\n"
     ]
    },
    {
     "name": "stderr",
     "output_type": "stream",
     "text": [
      "\r",
      "  9%|▉         | 9.0/100 [00:26<03:47,  2.50s/it]"
     ]
    },
    {
     "name": "stdout",
     "output_type": "stream",
     "text": [
      "LABEL: Sneaker\n",
      "EPOCH 9: 2.32647 sec\n",
      "Critic loss: -2.04258\n",
      "Generator loss: -3.19849\n",
      "\n"
     ]
    },
    {
     "name": "stderr",
     "output_type": "stream",
     "text": [
      "\r",
      " 10%|█         | 10.0/100 [00:28<03:42,  2.47s/it]"
     ]
    },
    {
     "name": "stdout",
     "output_type": "stream",
     "text": [
      "LABEL: Sneaker\n",
      "EPOCH 10: 2.32342 sec\n",
      "Critic loss: -1.79478\n",
      "Generator loss: -2.83240\n",
      "\n"
     ]
    },
    {
     "name": "stderr",
     "output_type": "stream",
     "text": [
      "\r",
      " 11%|█         | 11.0/100 [00:31<03:38,  2.45s/it]"
     ]
    },
    {
     "name": "stdout",
     "output_type": "stream",
     "text": [
      "LABEL: Sneaker\n",
      "EPOCH 11: 2.32489 sec\n",
      "Critic loss: -1.87712\n",
      "Generator loss: -2.90324\n",
      "\n"
     ]
    },
    {
     "name": "stderr",
     "output_type": "stream",
     "text": [
      "\r",
      " 12%|█▏        | 12.0/100 [00:33<03:34,  2.44s/it]"
     ]
    },
    {
     "name": "stdout",
     "output_type": "stream",
     "text": [
      "LABEL: Sneaker\n",
      "EPOCH 12: 2.33198 sec\n",
      "Critic loss: -1.66624\n",
      "Generator loss: -2.20526\n",
      "\n"
     ]
    },
    {
     "name": "stderr",
     "output_type": "stream",
     "text": [
      "\r",
      " 13%|█▎        | 13.0/100 [00:35<03:31,  2.43s/it]"
     ]
    },
    {
     "name": "stdout",
     "output_type": "stream",
     "text": [
      "LABEL: Sneaker\n",
      "EPOCH 13: 2.32532 sec\n",
      "Critic loss: -1.61921\n",
      "Generator loss: -1.17840\n",
      "\n"
     ]
    },
    {
     "name": "stderr",
     "output_type": "stream",
     "text": [
      "\r",
      " 14%|█▍        | 14.0/100 [00:38<03:28,  2.42s/it]"
     ]
    },
    {
     "name": "stdout",
     "output_type": "stream",
     "text": [
      "LABEL: Sneaker\n",
      "EPOCH 14: 2.32581 sec\n",
      "Critic loss: -1.74697\n",
      "Generator loss: -1.58860\n",
      "\n"
     ]
    },
    {
     "name": "stderr",
     "output_type": "stream",
     "text": [
      "\r",
      " 15%|█▌        | 15.0/100 [00:40<03:25,  2.42s/it]"
     ]
    },
    {
     "name": "stdout",
     "output_type": "stream",
     "text": [
      "LABEL: Sneaker\n",
      "EPOCH 15: 2.32560 sec\n",
      "Critic loss: -1.82454\n",
      "Generator loss: -1.17088\n",
      "\n"
     ]
    },
    {
     "name": "stderr",
     "output_type": "stream",
     "text": [
      "\r",
      " 16%|█▌        | 16.0/100 [00:43<03:23,  2.42s/it]"
     ]
    },
    {
     "name": "stdout",
     "output_type": "stream",
     "text": [
      "LABEL: Sneaker\n",
      "EPOCH 16: 2.32602 sec\n",
      "Critic loss: -1.60359\n",
      "Generator loss: -0.06686\n",
      "\n"
     ]
    },
    {
     "name": "stderr",
     "output_type": "stream",
     "text": [
      "\r",
      " 17%|█▋        | 17.0/100 [00:45<03:20,  2.41s/it]"
     ]
    },
    {
     "name": "stdout",
     "output_type": "stream",
     "text": [
      "LABEL: Sneaker\n",
      "EPOCH 17: 2.32615 sec\n",
      "Critic loss: -1.70322\n",
      "Generator loss: 0.74864\n",
      "\n"
     ]
    },
    {
     "name": "stderr",
     "output_type": "stream",
     "text": [
      "\r",
      " 18%|█▊        | 18.0/100 [00:47<03:17,  2.41s/it]"
     ]
    },
    {
     "name": "stdout",
     "output_type": "stream",
     "text": [
      "LABEL: Sneaker\n",
      "EPOCH 18: 2.32713 sec\n",
      "Critic loss: -1.44197\n",
      "Generator loss: 1.44090\n",
      "\n"
     ]
    },
    {
     "name": "stderr",
     "output_type": "stream",
     "text": [
      "\r",
      " 19%|█▉        | 19.0/100 [00:50<03:15,  2.42s/it]"
     ]
    },
    {
     "name": "stdout",
     "output_type": "stream",
     "text": [
      "LABEL: Sneaker\n",
      "EPOCH 19: 2.34159 sec\n",
      "Critic loss: -0.22367\n",
      "Generator loss: 1.37947\n",
      "\n"
     ]
    },
    {
     "name": "stderr",
     "output_type": "stream",
     "text": [
      "\r",
      " 20%|██        | 20.0/100 [00:52<03:13,  2.42s/it]"
     ]
    },
    {
     "name": "stdout",
     "output_type": "stream",
     "text": [
      "LABEL: Sneaker\n",
      "EPOCH 20: 2.33677 sec\n",
      "Critic loss: -0.45784\n",
      "Generator loss: 1.54920\n",
      "\n"
     ]
    },
    {
     "name": "stderr",
     "output_type": "stream",
     "text": [
      "\r",
      " 21%|██        | 21.0/100 [00:55<03:10,  2.42s/it]"
     ]
    },
    {
     "name": "stdout",
     "output_type": "stream",
     "text": [
      "LABEL: Sneaker\n",
      "EPOCH 21: 2.32850 sec\n",
      "Critic loss: -0.53175\n",
      "Generator loss: 0.64924\n",
      "\n",
      "INFO:tensorflow:Assets written to: models/05-05-21_11:26:10/Sneaker/generator/assets\n",
      "INFO:tensorflow:Assets written to: models/05-05-21_11:26:10/Sneaker/critic/assets\n"
     ]
    },
    {
     "name": "stderr",
     "output_type": "stream",
     "text": [
      "\r",
      " 22%|██▏       | 22.0/100 [00:59<03:42,  2.86s/it]"
     ]
    },
    {
     "name": "stdout",
     "output_type": "stream",
     "text": [
      "LABEL: Sneaker\n",
      "EPOCH 22: 2.33113 sec\n",
      "Critic loss: -0.69088\n",
      "Generator loss: 1.09308\n",
      "\n"
     ]
    },
    {
     "name": "stderr",
     "output_type": "stream",
     "text": [
      "\r",
      " 23%|██▎       | 23.0/100 [01:01<03:29,  2.72s/it]"
     ]
    },
    {
     "name": "stdout",
     "output_type": "stream",
     "text": [
      "LABEL: Sneaker\n",
      "EPOCH 23: 2.32347 sec\n",
      "Critic loss: -0.48129\n",
      "Generator loss: 0.96472\n",
      "\n"
     ]
    },
    {
     "name": "stderr",
     "output_type": "stream",
     "text": [
      "\r",
      " 24%|██▍       | 24.0/100 [01:03<03:19,  2.63s/it]"
     ]
    },
    {
     "name": "stdout",
     "output_type": "stream",
     "text": [
      "LABEL: Sneaker\n",
      "EPOCH 24: 2.32840 sec\n",
      "Critic loss: -0.70039\n",
      "Generator loss: 0.42803\n",
      "\n"
     ]
    },
    {
     "name": "stderr",
     "output_type": "stream",
     "text": [
      "\r",
      " 25%|██▌       | 25.0/100 [01:06<03:12,  2.56s/it]"
     ]
    },
    {
     "name": "stdout",
     "output_type": "stream",
     "text": [
      "LABEL: Sneaker\n",
      "EPOCH 25: 2.32609 sec\n",
      "Critic loss: -0.38923\n",
      "Generator loss: 0.86753\n",
      "\n"
     ]
    },
    {
     "name": "stderr",
     "output_type": "stream",
     "text": [
      "\r",
      " 26%|██▌       | 26.0/100 [01:08<03:06,  2.52s/it]"
     ]
    },
    {
     "name": "stdout",
     "output_type": "stream",
     "text": [
      "LABEL: Sneaker\n",
      "EPOCH 26: 2.32402 sec\n",
      "Critic loss: -0.34135\n",
      "Generator loss: 0.61927\n",
      "\n"
     ]
    },
    {
     "name": "stderr",
     "output_type": "stream",
     "text": [
      "\r",
      " 27%|██▋       | 27.0/100 [01:11<03:01,  2.49s/it]"
     ]
    },
    {
     "name": "stdout",
     "output_type": "stream",
     "text": [
      "LABEL: Sneaker\n",
      "EPOCH 27: 2.32841 sec\n",
      "Critic loss: -0.25025\n",
      "Generator loss: 0.09609\n",
      "\n"
     ]
    },
    {
     "name": "stderr",
     "output_type": "stream",
     "text": [
      "\r",
      " 28%|██▊       | 28.0/100 [01:13<02:57,  2.46s/it]"
     ]
    },
    {
     "name": "stdout",
     "output_type": "stream",
     "text": [
      "LABEL: Sneaker\n",
      "EPOCH 28: 2.32475 sec\n",
      "Critic loss: -0.22576\n",
      "Generator loss: 0.04532\n",
      "\n"
     ]
    },
    {
     "name": "stderr",
     "output_type": "stream",
     "text": [
      "\r",
      " 29%|██▉       | 29.0/100 [01:15<02:53,  2.45s/it]"
     ]
    },
    {
     "name": "stdout",
     "output_type": "stream",
     "text": [
      "LABEL: Sneaker\n",
      "EPOCH 29: 2.32488 sec\n",
      "Critic loss: -0.34523\n",
      "Generator loss: -0.45038\n",
      "\n"
     ]
    },
    {
     "name": "stderr",
     "output_type": "stream",
     "text": [
      "\r",
      " 30%|███       | 30.0/100 [01:18<02:50,  2.44s/it]"
     ]
    },
    {
     "name": "stdout",
     "output_type": "stream",
     "text": [
      "LABEL: Sneaker\n",
      "EPOCH 30: 2.33224 sec\n",
      "Critic loss: -0.15083\n",
      "Generator loss: -1.07920\n",
      "\n"
     ]
    },
    {
     "name": "stderr",
     "output_type": "stream",
     "text": [
      "\r",
      " 31%|███       | 31.0/100 [01:20<02:47,  2.43s/it]"
     ]
    },
    {
     "name": "stdout",
     "output_type": "stream",
     "text": [
      "LABEL: Sneaker\n",
      "EPOCH 31: 2.32601 sec\n",
      "Critic loss: -0.15203\n",
      "Generator loss: -1.33976\n",
      "\n"
     ]
    },
    {
     "name": "stderr",
     "output_type": "stream",
     "text": [
      "\r",
      " 32%|███▏      | 32.0/100 [01:23<02:44,  2.42s/it]"
     ]
    },
    {
     "name": "stdout",
     "output_type": "stream",
     "text": [
      "LABEL: Sneaker\n",
      "EPOCH 32: 2.32500 sec\n",
      "Critic loss: -0.25233\n",
      "Generator loss: -1.50559\n",
      "\n"
     ]
    },
    {
     "name": "stderr",
     "output_type": "stream",
     "text": [
      "\r",
      " 33%|███▎      | 33.0/100 [01:25<02:42,  2.42s/it]"
     ]
    },
    {
     "name": "stdout",
     "output_type": "stream",
     "text": [
      "LABEL: Sneaker\n",
      "EPOCH 33: 2.32661 sec\n",
      "Critic loss: -0.27901\n",
      "Generator loss: -1.95864\n",
      "\n"
     ]
    },
    {
     "name": "stderr",
     "output_type": "stream",
     "text": [
      "\r",
      " 34%|███▍      | 34.0/100 [01:27<02:39,  2.42s/it]"
     ]
    },
    {
     "name": "stdout",
     "output_type": "stream",
     "text": [
      "LABEL: Sneaker\n",
      "EPOCH 34: 2.32579 sec\n",
      "Critic loss: -0.17791\n",
      "Generator loss: -2.07193\n",
      "\n"
     ]
    },
    {
     "name": "stderr",
     "output_type": "stream",
     "text": [
      "\r",
      " 35%|███▌      | 35.0/100 [01:30<02:36,  2.41s/it]"
     ]
    },
    {
     "name": "stdout",
     "output_type": "stream",
     "text": [
      "LABEL: Sneaker\n",
      "EPOCH 35: 2.32447 sec\n",
      "Critic loss: -0.23496\n",
      "Generator loss: -2.60324\n",
      "\n"
     ]
    },
    {
     "name": "stderr",
     "output_type": "stream",
     "text": [
      "\r",
      " 36%|███▌      | 36.0/100 [01:32<02:34,  2.41s/it]"
     ]
    },
    {
     "name": "stdout",
     "output_type": "stream",
     "text": [
      "LABEL: Sneaker\n",
      "EPOCH 36: 2.32744 sec\n",
      "Critic loss: -0.26024\n",
      "Generator loss: -2.83899\n",
      "\n"
     ]
    },
    {
     "name": "stderr",
     "output_type": "stream",
     "text": [
      "\r",
      " 37%|███▋      | 37.0/100 [01:35<02:31,  2.41s/it]"
     ]
    },
    {
     "name": "stdout",
     "output_type": "stream",
     "text": [
      "LABEL: Sneaker\n",
      "EPOCH 37: 2.32572 sec\n",
      "Critic loss: -0.24032\n",
      "Generator loss: -3.08363\n",
      "\n"
     ]
    },
    {
     "name": "stderr",
     "output_type": "stream",
     "text": [
      "\r",
      " 38%|███▊      | 38.0/100 [01:37<02:29,  2.41s/it]"
     ]
    },
    {
     "name": "stdout",
     "output_type": "stream",
     "text": [
      "LABEL: Sneaker\n",
      "EPOCH 38: 2.32443 sec\n",
      "Critic loss: -0.21248\n",
      "Generator loss: -3.28005\n",
      "\n"
     ]
    },
    {
     "name": "stderr",
     "output_type": "stream",
     "text": [
      "\r",
      " 39%|███▉      | 39.0/100 [01:40<02:27,  2.41s/it]"
     ]
    },
    {
     "name": "stdout",
     "output_type": "stream",
     "text": [
      "LABEL: Sneaker\n",
      "EPOCH 39: 2.32760 sec\n",
      "Critic loss: -0.22351\n",
      "Generator loss: -3.31062\n",
      "\n"
     ]
    },
    {
     "name": "stderr",
     "output_type": "stream",
     "text": [
      "\r",
      " 40%|████      | 40.0/100 [01:42<02:24,  2.41s/it]"
     ]
    },
    {
     "name": "stdout",
     "output_type": "stream",
     "text": [
      "LABEL: Sneaker\n",
      "EPOCH 40: 2.32953 sec\n",
      "Critic loss: -0.16977\n",
      "Generator loss: -3.78857\n",
      "\n"
     ]
    },
    {
     "name": "stderr",
     "output_type": "stream",
     "text": [
      "\r",
      " 41%|████      | 41.0/100 [01:44<02:22,  2.41s/it]"
     ]
    },
    {
     "name": "stdout",
     "output_type": "stream",
     "text": [
      "LABEL: Sneaker\n",
      "EPOCH 41: 2.32794 sec\n",
      "Critic loss: -0.19332\n",
      "Generator loss: -3.99322\n",
      "\n",
      "INFO:tensorflow:Assets written to: models/05-05-21_11:26:10/Sneaker/generator/assets\n",
      "INFO:tensorflow:Assets written to: models/05-05-21_11:26:10/Sneaker/critic/assets\n"
     ]
    },
    {
     "name": "stderr",
     "output_type": "stream",
     "text": [
      "\r",
      " 42%|████▏     | 42.0/100 [01:48<02:44,  2.83s/it]"
     ]
    },
    {
     "name": "stdout",
     "output_type": "stream",
     "text": [
      "LABEL: Sneaker\n",
      "EPOCH 42: 2.33130 sec\n",
      "Critic loss: -0.19240\n",
      "Generator loss: -4.49950\n",
      "\n"
     ]
    },
    {
     "name": "stderr",
     "output_type": "stream",
     "text": [
      "\r",
      " 43%|████▎     | 43.0/100 [01:51<02:34,  2.71s/it]"
     ]
    },
    {
     "name": "stdout",
     "output_type": "stream",
     "text": [
      "LABEL: Sneaker\n",
      "EPOCH 43: 2.32775 sec\n",
      "Critic loss: -0.22286\n",
      "Generator loss: -4.73084\n",
      "\n"
     ]
    },
    {
     "name": "stderr",
     "output_type": "stream",
     "text": [
      "\r",
      " 44%|████▍     | 44.0/100 [01:53<02:26,  2.62s/it]"
     ]
    },
    {
     "name": "stdout",
     "output_type": "stream",
     "text": [
      "LABEL: Sneaker\n",
      "EPOCH 44: 2.32595 sec\n",
      "Critic loss: -0.23601\n",
      "Generator loss: -4.78360\n",
      "\n"
     ]
    },
    {
     "name": "stderr",
     "output_type": "stream",
     "text": [
      "\r",
      " 45%|████▌     | 45.0/100 [01:55<02:20,  2.56s/it]"
     ]
    },
    {
     "name": "stdout",
     "output_type": "stream",
     "text": [
      "LABEL: Sneaker\n",
      "EPOCH 45: 2.32637 sec\n",
      "Critic loss: -0.18745\n",
      "Generator loss: -4.86372\n",
      "\n"
     ]
    },
    {
     "name": "stderr",
     "output_type": "stream",
     "text": [
      "\r",
      " 46%|████▌     | 46.0/100 [01:58<02:15,  2.51s/it]"
     ]
    },
    {
     "name": "stdout",
     "output_type": "stream",
     "text": [
      "LABEL: Sneaker\n",
      "EPOCH 46: 2.32622 sec\n",
      "Critic loss: -0.24300\n",
      "Generator loss: -5.04000\n",
      "\n"
     ]
    },
    {
     "name": "stderr",
     "output_type": "stream",
     "text": [
      "\r",
      " 47%|████▋     | 47.0/100 [02:00<02:11,  2.48s/it]"
     ]
    },
    {
     "name": "stdout",
     "output_type": "stream",
     "text": [
      "LABEL: Sneaker\n",
      "EPOCH 47: 2.32762 sec\n",
      "Critic loss: -0.23459\n",
      "Generator loss: -5.09366\n",
      "\n"
     ]
    },
    {
     "name": "stderr",
     "output_type": "stream",
     "text": [
      "\r",
      " 48%|████▊     | 48.0/100 [02:03<02:07,  2.46s/it]"
     ]
    },
    {
     "name": "stdout",
     "output_type": "stream",
     "text": [
      "LABEL: Sneaker\n",
      "EPOCH 48: 2.32762 sec\n",
      "Critic loss: -0.21330\n",
      "Generator loss: -5.13441\n",
      "\n"
     ]
    },
    {
     "name": "stderr",
     "output_type": "stream",
     "text": [
      "\r",
      " 49%|████▉     | 49.0/100 [02:05<02:04,  2.44s/it]"
     ]
    },
    {
     "name": "stdout",
     "output_type": "stream",
     "text": [
      "LABEL: Sneaker\n",
      "EPOCH 49: 2.32571 sec\n",
      "Critic loss: -0.21058\n",
      "Generator loss: -5.22138\n",
      "\n"
     ]
    },
    {
     "name": "stderr",
     "output_type": "stream",
     "text": [
      "\r",
      " 50%|█████     | 50.0/100 [02:07<02:01,  2.43s/it]"
     ]
    },
    {
     "name": "stdout",
     "output_type": "stream",
     "text": [
      "LABEL: Sneaker\n",
      "EPOCH 50: 2.32826 sec\n",
      "Critic loss: -0.20407\n",
      "Generator loss: -4.94132\n",
      "\n"
     ]
    },
    {
     "name": "stderr",
     "output_type": "stream",
     "text": [
      "\r",
      " 51%|█████     | 51.0/100 [02:10<01:58,  2.43s/it]"
     ]
    },
    {
     "name": "stdout",
     "output_type": "stream",
     "text": [
      "LABEL: Sneaker\n",
      "EPOCH 51: 2.32681 sec\n",
      "Critic loss: -0.19813\n",
      "Generator loss: -5.18875\n",
      "\n"
     ]
    },
    {
     "name": "stderr",
     "output_type": "stream",
     "text": [
      "\r",
      " 52%|█████▏    | 52.0/100 [02:12<01:56,  2.42s/it]"
     ]
    },
    {
     "name": "stdout",
     "output_type": "stream",
     "text": [
      "LABEL: Sneaker\n",
      "EPOCH 52: 2.32713 sec\n",
      "Critic loss: -0.19090\n",
      "Generator loss: -5.05763\n",
      "\n"
     ]
    },
    {
     "name": "stderr",
     "output_type": "stream",
     "text": [
      "\r",
      " 53%|█████▎    | 53.0/100 [02:15<01:53,  2.42s/it]"
     ]
    },
    {
     "name": "stdout",
     "output_type": "stream",
     "text": [
      "LABEL: Sneaker\n",
      "EPOCH 53: 2.33156 sec\n",
      "Critic loss: -0.19192\n",
      "Generator loss: -5.41720\n",
      "\n"
     ]
    },
    {
     "name": "stderr",
     "output_type": "stream",
     "text": [
      "\r",
      " 54%|█████▍    | 54.0/100 [02:17<01:51,  2.42s/it]"
     ]
    },
    {
     "name": "stdout",
     "output_type": "stream",
     "text": [
      "LABEL: Sneaker\n",
      "EPOCH 54: 2.32564 sec\n",
      "Critic loss: -0.17869\n",
      "Generator loss: -5.52632\n",
      "\n"
     ]
    },
    {
     "name": "stderr",
     "output_type": "stream",
     "text": [
      "\r",
      " 55%|█████▌    | 55.0/100 [02:20<01:48,  2.41s/it]"
     ]
    },
    {
     "name": "stdout",
     "output_type": "stream",
     "text": [
      "LABEL: Sneaker\n",
      "EPOCH 55: 2.32651 sec\n",
      "Critic loss: -0.18315\n",
      "Generator loss: -5.72113\n",
      "\n"
     ]
    },
    {
     "name": "stderr",
     "output_type": "stream",
     "text": [
      "\r",
      " 56%|█████▌    | 56.0/100 [02:22<01:46,  2.42s/it]"
     ]
    },
    {
     "name": "stdout",
     "output_type": "stream",
     "text": [
      "LABEL: Sneaker\n",
      "EPOCH 56: 2.32791 sec\n",
      "Critic loss: -0.14901\n",
      "Generator loss: -5.71169\n",
      "\n"
     ]
    },
    {
     "name": "stderr",
     "output_type": "stream",
     "text": [
      "\r",
      " 57%|█████▋    | 57.0/100 [02:24<01:43,  2.41s/it]"
     ]
    },
    {
     "name": "stdout",
     "output_type": "stream",
     "text": [
      "LABEL: Sneaker\n",
      "EPOCH 57: 2.32673 sec\n",
      "Critic loss: -0.14232\n",
      "Generator loss: -5.23803\n",
      "\n"
     ]
    },
    {
     "name": "stderr",
     "output_type": "stream",
     "text": [
      "\r",
      " 58%|█████▊    | 58.0/100 [02:27<01:41,  2.41s/it]"
     ]
    },
    {
     "name": "stdout",
     "output_type": "stream",
     "text": [
      "LABEL: Sneaker\n",
      "EPOCH 58: 2.32598 sec\n",
      "Critic loss: -0.19097\n",
      "Generator loss: -5.24482\n",
      "\n"
     ]
    },
    {
     "name": "stderr",
     "output_type": "stream",
     "text": [
      "\r",
      " 59%|█████▉    | 59.0/100 [02:29<01:38,  2.41s/it]"
     ]
    },
    {
     "name": "stdout",
     "output_type": "stream",
     "text": [
      "LABEL: Sneaker\n",
      "EPOCH 59: 2.32696 sec\n",
      "Critic loss: -0.23571\n",
      "Generator loss: -5.43954\n",
      "\n"
     ]
    },
    {
     "name": "stderr",
     "output_type": "stream",
     "text": [
      "\r",
      " 60%|██████    | 60.0/100 [02:32<01:36,  2.41s/it]"
     ]
    },
    {
     "name": "stdout",
     "output_type": "stream",
     "text": [
      "LABEL: Sneaker\n",
      "EPOCH 60: 2.32559 sec\n",
      "Critic loss: -0.21359\n",
      "Generator loss: -5.19964\n",
      "\n"
     ]
    },
    {
     "name": "stderr",
     "output_type": "stream",
     "text": [
      "\r",
      " 61%|██████    | 61.0/100 [02:34<01:34,  2.41s/it]"
     ]
    },
    {
     "name": "stdout",
     "output_type": "stream",
     "text": [
      "LABEL: Sneaker\n",
      "EPOCH 61: 2.32624 sec\n",
      "Critic loss: -0.14851\n",
      "Generator loss: -5.17684\n",
      "\n",
      "INFO:tensorflow:Assets written to: models/05-05-21_11:26:10/Sneaker/generator/assets\n",
      "INFO:tensorflow:Assets written to: models/05-05-21_11:26:10/Sneaker/critic/assets\n"
     ]
    },
    {
     "name": "stderr",
     "output_type": "stream",
     "text": [
      "\r",
      " 62%|██████▏   | 62.0/100 [02:38<01:49,  2.87s/it]"
     ]
    },
    {
     "name": "stdout",
     "output_type": "stream",
     "text": [
      "LABEL: Sneaker\n",
      "EPOCH 62: 2.33052 sec\n",
      "Critic loss: -0.21153\n",
      "Generator loss: -5.33090\n",
      "\n"
     ]
    },
    {
     "name": "stderr",
     "output_type": "stream",
     "text": [
      "\r",
      " 63%|██████▎   | 63.0/100 [02:40<01:41,  2.73s/it]"
     ]
    },
    {
     "name": "stdout",
     "output_type": "stream",
     "text": [
      "LABEL: Sneaker\n",
      "EPOCH 63: 2.32981 sec\n",
      "Critic loss: -0.19056\n",
      "Generator loss: -5.69432\n",
      "\n"
     ]
    },
    {
     "name": "stderr",
     "output_type": "stream",
     "text": [
      "\r",
      " 64%|██████▍   | 64.0/100 [02:43<01:34,  2.64s/it]"
     ]
    },
    {
     "name": "stdout",
     "output_type": "stream",
     "text": [
      "LABEL: Sneaker\n",
      "EPOCH 64: 2.32779 sec\n",
      "Critic loss: -0.16153\n",
      "Generator loss: -5.62550\n",
      "\n"
     ]
    },
    {
     "name": "stderr",
     "output_type": "stream",
     "text": [
      "\r",
      " 65%|██████▌   | 65.0/100 [02:45<01:29,  2.57s/it]"
     ]
    },
    {
     "name": "stdout",
     "output_type": "stream",
     "text": [
      "LABEL: Sneaker\n",
      "EPOCH 65: 2.32688 sec\n",
      "Critic loss: -0.13267\n",
      "Generator loss: -5.58695\n",
      "\n"
     ]
    },
    {
     "name": "stderr",
     "output_type": "stream",
     "text": [
      "\r",
      " 66%|██████▌   | 66.0/100 [02:48<01:25,  2.52s/it]"
     ]
    },
    {
     "name": "stdout",
     "output_type": "stream",
     "text": [
      "LABEL: Sneaker\n",
      "EPOCH 66: 2.32743 sec\n",
      "Critic loss: -0.17754\n",
      "Generator loss: -5.37296\n",
      "\n"
     ]
    },
    {
     "name": "stderr",
     "output_type": "stream",
     "text": [
      "\r",
      " 67%|██████▋   | 67.0/100 [02:50<01:22,  2.49s/it]"
     ]
    },
    {
     "name": "stdout",
     "output_type": "stream",
     "text": [
      "LABEL: Sneaker\n",
      "EPOCH 67: 2.34349 sec\n",
      "Critic loss: -0.17789\n",
      "Generator loss: -5.81862\n",
      "\n"
     ]
    },
    {
     "name": "stderr",
     "output_type": "stream",
     "text": [
      "\r",
      " 68%|██████▊   | 68.0/100 [02:52<01:19,  2.47s/it]"
     ]
    },
    {
     "name": "stdout",
     "output_type": "stream",
     "text": [
      "LABEL: Sneaker\n",
      "EPOCH 68: 2.33658 sec\n",
      "Critic loss: -0.12952\n",
      "Generator loss: -6.12827\n",
      "\n"
     ]
    },
    {
     "name": "stderr",
     "output_type": "stream",
     "text": [
      "\r",
      " 69%|██████▉   | 69.0/100 [02:55<01:16,  2.45s/it]"
     ]
    },
    {
     "name": "stdout",
     "output_type": "stream",
     "text": [
      "LABEL: Sneaker\n",
      "EPOCH 69: 2.32579 sec\n",
      "Critic loss: -0.12515\n",
      "Generator loss: -5.79758\n",
      "\n"
     ]
    },
    {
     "name": "stderr",
     "output_type": "stream",
     "text": [
      "\r",
      " 70%|███████   | 70.0/100 [02:57<01:13,  2.44s/it]"
     ]
    },
    {
     "name": "stdout",
     "output_type": "stream",
     "text": [
      "LABEL: Sneaker\n",
      "EPOCH 70: 2.33153 sec\n",
      "Critic loss: -0.12361\n",
      "Generator loss: -5.84851\n",
      "\n"
     ]
    },
    {
     "name": "stderr",
     "output_type": "stream",
     "text": [
      "\r",
      " 71%|███████   | 71.0/100 [03:00<01:10,  2.43s/it]"
     ]
    },
    {
     "name": "stdout",
     "output_type": "stream",
     "text": [
      "LABEL: Sneaker\n",
      "EPOCH 71: 2.32516 sec\n",
      "Critic loss: -0.15957\n",
      "Generator loss: -5.71353\n",
      "\n"
     ]
    },
    {
     "name": "stderr",
     "output_type": "stream",
     "text": [
      "\r",
      " 72%|███████▏  | 72.0/100 [03:02<01:07,  2.43s/it]"
     ]
    },
    {
     "name": "stdout",
     "output_type": "stream",
     "text": [
      "LABEL: Sneaker\n",
      "EPOCH 72: 2.32702 sec\n",
      "Critic loss: -0.12003\n",
      "Generator loss: -5.50528\n",
      "\n"
     ]
    },
    {
     "name": "stderr",
     "output_type": "stream",
     "text": [
      "\r",
      " 73%|███████▎  | 73.0/100 [03:04<01:05,  2.42s/it]"
     ]
    },
    {
     "name": "stdout",
     "output_type": "stream",
     "text": [
      "LABEL: Sneaker\n",
      "EPOCH 73: 2.32792 sec\n",
      "Critic loss: -0.10202\n",
      "Generator loss: -5.84441\n",
      "\n"
     ]
    },
    {
     "name": "stderr",
     "output_type": "stream",
     "text": [
      "\r",
      " 74%|███████▍  | 74.0/100 [03:07<01:02,  2.42s/it]"
     ]
    },
    {
     "name": "stdout",
     "output_type": "stream",
     "text": [
      "LABEL: Sneaker\n",
      "EPOCH 74: 2.32722 sec\n",
      "Critic loss: -0.15454\n",
      "Generator loss: -5.52516\n",
      "\n"
     ]
    },
    {
     "name": "stderr",
     "output_type": "stream",
     "text": [
      "\r",
      " 75%|███████▌  | 75.0/100 [03:09<01:00,  2.42s/it]"
     ]
    },
    {
     "name": "stdout",
     "output_type": "stream",
     "text": [
      "LABEL: Sneaker\n",
      "EPOCH 75: 2.32736 sec\n",
      "Critic loss: -0.13421\n",
      "Generator loss: -5.27230\n",
      "\n"
     ]
    },
    {
     "name": "stderr",
     "output_type": "stream",
     "text": [
      "\r",
      " 76%|███████▌  | 76.0/100 [03:12<00:57,  2.41s/it]"
     ]
    },
    {
     "name": "stdout",
     "output_type": "stream",
     "text": [
      "LABEL: Sneaker\n",
      "EPOCH 76: 2.32650 sec\n",
      "Critic loss: -0.07766\n",
      "Generator loss: -4.99162\n",
      "\n"
     ]
    },
    {
     "name": "stderr",
     "output_type": "stream",
     "text": [
      "\r",
      " 77%|███████▋  | 77.0/100 [03:14<00:55,  2.41s/it]"
     ]
    },
    {
     "name": "stdout",
     "output_type": "stream",
     "text": [
      "LABEL: Sneaker\n",
      "EPOCH 77: 2.32623 sec\n",
      "Critic loss: -0.09892\n",
      "Generator loss: -5.03616\n",
      "\n"
     ]
    },
    {
     "name": "stderr",
     "output_type": "stream",
     "text": [
      "\r",
      " 78%|███████▊  | 78.0/100 [03:17<00:53,  2.41s/it]"
     ]
    },
    {
     "name": "stdout",
     "output_type": "stream",
     "text": [
      "LABEL: Sneaker\n",
      "EPOCH 78: 2.32637 sec\n",
      "Critic loss: -0.11963\n",
      "Generator loss: -4.75967\n",
      "\n"
     ]
    },
    {
     "name": "stderr",
     "output_type": "stream",
     "text": [
      "\r",
      " 79%|███████▉  | 79.0/100 [03:19<00:50,  2.41s/it]"
     ]
    },
    {
     "name": "stdout",
     "output_type": "stream",
     "text": [
      "LABEL: Sneaker\n",
      "EPOCH 79: 2.32548 sec\n",
      "Critic loss: -0.09756\n",
      "Generator loss: -4.54455\n",
      "\n"
     ]
    },
    {
     "name": "stderr",
     "output_type": "stream",
     "text": [
      "\r",
      " 80%|████████  | 80.0/100 [03:21<00:48,  2.41s/it]"
     ]
    },
    {
     "name": "stdout",
     "output_type": "stream",
     "text": [
      "LABEL: Sneaker\n",
      "EPOCH 80: 2.32718 sec\n",
      "Critic loss: -0.16672\n",
      "Generator loss: -4.56250\n",
      "\n"
     ]
    },
    {
     "name": "stderr",
     "output_type": "stream",
     "text": [
      "\r",
      " 81%|████████  | 81.0/100 [03:24<00:45,  2.41s/it]"
     ]
    },
    {
     "name": "stdout",
     "output_type": "stream",
     "text": [
      "LABEL: Sneaker\n",
      "EPOCH 81: 2.32832 sec\n",
      "Critic loss: -0.11063\n",
      "Generator loss: -4.40463\n",
      "\n",
      "INFO:tensorflow:Assets written to: models/05-05-21_11:26:10/Sneaker/generator/assets\n",
      "INFO:tensorflow:Assets written to: models/05-05-21_11:26:10/Sneaker/critic/assets\n"
     ]
    },
    {
     "name": "stderr",
     "output_type": "stream",
     "text": [
      "\r",
      " 82%|████████▏ | 82.0/100 [03:28<00:51,  2.84s/it]"
     ]
    },
    {
     "name": "stdout",
     "output_type": "stream",
     "text": [
      "LABEL: Sneaker\n",
      "EPOCH 82: 2.33195 sec\n",
      "Critic loss: -0.11558\n",
      "Generator loss: -4.45332\n",
      "\n"
     ]
    },
    {
     "name": "stderr",
     "output_type": "stream",
     "text": [
      "\r",
      " 83%|████████▎ | 83.0/100 [03:30<00:46,  2.72s/it]"
     ]
    },
    {
     "name": "stdout",
     "output_type": "stream",
     "text": [
      "LABEL: Sneaker\n",
      "EPOCH 83: 2.36337 sec\n",
      "Critic loss: -0.10765\n",
      "Generator loss: -4.12810\n",
      "\n"
     ]
    },
    {
     "name": "stderr",
     "output_type": "stream",
     "text": [
      "\r",
      " 84%|████████▍ | 84.0/100 [03:33<00:42,  2.65s/it]"
     ]
    },
    {
     "name": "stdout",
     "output_type": "stream",
     "text": [
      "LABEL: Sneaker\n",
      "EPOCH 84: 2.40522 sec\n",
      "Critic loss: -0.12197\n",
      "Generator loss: -4.05732\n",
      "\n"
     ]
    },
    {
     "name": "stderr",
     "output_type": "stream",
     "text": [
      "\r",
      " 85%|████████▌ | 85.0/100 [03:35<00:39,  2.63s/it]"
     ]
    },
    {
     "name": "stdout",
     "output_type": "stream",
     "text": [
      "LABEL: Sneaker\n",
      "EPOCH 85: 2.48727 sec\n",
      "Critic loss: -0.12275\n",
      "Generator loss: -4.04509\n",
      "\n"
     ]
    },
    {
     "name": "stderr",
     "output_type": "stream",
     "text": [
      "\r",
      " 86%|████████▌ | 86.0/100 [03:38<00:36,  2.59s/it]"
     ]
    },
    {
     "name": "stdout",
     "output_type": "stream",
     "text": [
      "LABEL: Sneaker\n",
      "EPOCH 86: 2.41091 sec\n",
      "Critic loss: -0.14127\n",
      "Generator loss: -4.28301\n",
      "\n"
     ]
    },
    {
     "name": "stderr",
     "output_type": "stream",
     "text": [
      "\r",
      " 87%|████████▋ | 87.0/100 [03:40<00:33,  2.56s/it]"
     ]
    },
    {
     "name": "stdout",
     "output_type": "stream",
     "text": [
      "LABEL: Sneaker\n",
      "EPOCH 87: 2.37113 sec\n",
      "Critic loss: -0.13832\n",
      "Generator loss: -3.66879\n",
      "\n"
     ]
    },
    {
     "name": "stderr",
     "output_type": "stream",
     "text": [
      "\r",
      " 88%|████████▊ | 88.0/100 [03:43<00:30,  2.51s/it]"
     ]
    },
    {
     "name": "stdout",
     "output_type": "stream",
     "text": [
      "LABEL: Sneaker\n",
      "EPOCH 88: 2.32600 sec\n",
      "Critic loss: -0.09671\n",
      "Generator loss: -3.73914\n",
      "\n"
     ]
    },
    {
     "name": "stderr",
     "output_type": "stream",
     "text": [
      "\r",
      " 89%|████████▉ | 89.0/100 [03:45<00:27,  2.48s/it]"
     ]
    },
    {
     "name": "stdout",
     "output_type": "stream",
     "text": [
      "LABEL: Sneaker\n",
      "EPOCH 89: 2.32747 sec\n",
      "Critic loss: -0.09350\n",
      "Generator loss: -3.67242\n",
      "\n"
     ]
    },
    {
     "name": "stderr",
     "output_type": "stream",
     "text": [
      "\r",
      " 90%|█████████ | 90.0/100 [03:47<00:24,  2.46s/it]"
     ]
    },
    {
     "name": "stdout",
     "output_type": "stream",
     "text": [
      "LABEL: Sneaker\n",
      "EPOCH 90: 2.32627 sec\n",
      "Critic loss: -0.12582\n",
      "Generator loss: -3.64142\n",
      "\n"
     ]
    },
    {
     "name": "stderr",
     "output_type": "stream",
     "text": [
      "\r",
      " 91%|█████████ | 91.0/100 [03:50<00:22,  2.45s/it]"
     ]
    },
    {
     "name": "stdout",
     "output_type": "stream",
     "text": [
      "LABEL: Sneaker\n",
      "EPOCH 91: 2.32659 sec\n",
      "Critic loss: -0.11650\n",
      "Generator loss: -3.11839\n",
      "\n"
     ]
    },
    {
     "name": "stderr",
     "output_type": "stream",
     "text": [
      "\r",
      " 92%|█████████▏| 92.0/100 [03:52<00:19,  2.43s/it]"
     ]
    },
    {
     "name": "stdout",
     "output_type": "stream",
     "text": [
      "LABEL: Sneaker\n",
      "EPOCH 92: 2.32489 sec\n",
      "Critic loss: -0.14216\n",
      "Generator loss: -3.40036\n",
      "\n"
     ]
    },
    {
     "name": "stderr",
     "output_type": "stream",
     "text": [
      "\r",
      " 93%|█████████▎| 93.0/100 [03:55<00:17,  2.43s/it]"
     ]
    },
    {
     "name": "stdout",
     "output_type": "stream",
     "text": [
      "LABEL: Sneaker\n",
      "EPOCH 93: 2.33323 sec\n",
      "Critic loss: -0.08756\n",
      "Generator loss: -3.23095\n",
      "\n"
     ]
    },
    {
     "name": "stderr",
     "output_type": "stream",
     "text": [
      "\r",
      " 94%|█████████▍| 94.0/100 [03:57<00:14,  2.43s/it]"
     ]
    },
    {
     "name": "stdout",
     "output_type": "stream",
     "text": [
      "LABEL: Sneaker\n",
      "EPOCH 94: 2.33005 sec\n",
      "Critic loss: -0.12545\n",
      "Generator loss: -3.61941\n",
      "\n"
     ]
    },
    {
     "name": "stderr",
     "output_type": "stream",
     "text": [
      "\r",
      " 95%|█████████▌| 95.0/100 [03:59<00:12,  2.42s/it]"
     ]
    },
    {
     "name": "stdout",
     "output_type": "stream",
     "text": [
      "LABEL: Sneaker\n",
      "EPOCH 95: 2.32549 sec\n",
      "Critic loss: -0.10183\n",
      "Generator loss: -3.02053\n",
      "\n"
     ]
    },
    {
     "name": "stderr",
     "output_type": "stream",
     "text": [
      "\r",
      " 96%|█████████▌| 96.0/100 [04:02<00:09,  2.42s/it]"
     ]
    },
    {
     "name": "stdout",
     "output_type": "stream",
     "text": [
      "LABEL: Sneaker\n",
      "EPOCH 96: 2.32756 sec\n",
      "Critic loss: -0.10226\n",
      "Generator loss: -3.30837\n",
      "\n"
     ]
    },
    {
     "name": "stderr",
     "output_type": "stream",
     "text": [
      "\r",
      " 97%|█████████▋| 97.0/100 [04:04<00:07,  2.41s/it]"
     ]
    },
    {
     "name": "stdout",
     "output_type": "stream",
     "text": [
      "LABEL: Sneaker\n",
      "EPOCH 97: 2.32488 sec\n",
      "Critic loss: -0.09251\n",
      "Generator loss: -3.09402\n",
      "\n"
     ]
    },
    {
     "name": "stderr",
     "output_type": "stream",
     "text": [
      "\r",
      " 98%|█████████▊| 98.0/100 [04:07<00:04,  2.41s/it]"
     ]
    },
    {
     "name": "stdout",
     "output_type": "stream",
     "text": [
      "LABEL: Sneaker\n",
      "EPOCH 98: 2.32493 sec\n",
      "Critic loss: -0.12430\n",
      "Generator loss: -2.69893\n",
      "\n"
     ]
    },
    {
     "name": "stderr",
     "output_type": "stream",
     "text": [
      "\r",
      " 99%|█████████▉| 99.0/100 [04:09<00:02,  2.41s/it]"
     ]
    },
    {
     "name": "stdout",
     "output_type": "stream",
     "text": [
      "LABEL: Sneaker\n",
      "EPOCH 99: 2.32587 sec\n",
      "Critic loss: -0.13055\n",
      "Generator loss: -2.74097\n",
      "\n"
     ]
    },
    {
     "name": "stderr",
     "output_type": "stream",
     "text": [
      "100%|██████████| 100.0/100 [04:12<00:00,  2.52s/it]\n",
      "  0%|          | 0/100 [00:00<?, ?it/s]"
     ]
    },
    {
     "name": "stdout",
     "output_type": "stream",
     "text": [
      "LABEL: Sneaker\n",
      "EPOCH 100: 2.33006 sec\n",
      "Critic loss: -0.09164\n",
      "Generator loss: -2.77943\n",
      "\n",
      "----------- TRAINING TO GENERATE **Bag** -----------\n"
     ]
    },
    {
     "name": "stderr",
     "output_type": "stream",
     "text": [
      "\r",
      "  1%|          | 1.0/100 [00:05<09:11,  5.57s/it]"
     ]
    },
    {
     "name": "stdout",
     "output_type": "stream",
     "text": [
      "LABEL: Bag\n",
      "EPOCH 1: 5.56819 sec\n",
      "Critic loss: -2.52728\n",
      "Generator loss: -2.24201\n",
      "\n",
      "INFO:tensorflow:Assets written to: models/05-05-21_11:26:10/Bag/generator/assets\n",
      "INFO:tensorflow:Assets written to: models/05-05-21_11:26:10/Bag/critic/assets\n"
     ]
    },
    {
     "name": "stderr",
     "output_type": "stream",
     "text": [
      "\r",
      "  2%|▏         | 2.0/100 [00:09<07:26,  4.56s/it]"
     ]
    },
    {
     "name": "stdout",
     "output_type": "stream",
     "text": [
      "LABEL: Bag\n",
      "EPOCH 2: 2.32090 sec\n",
      "Critic loss: -2.65451\n",
      "Generator loss: -1.28691\n",
      "\n"
     ]
    },
    {
     "name": "stderr",
     "output_type": "stream",
     "text": [
      "\r",
      "  3%|▎         | 3.0/100 [00:11<05:47,  3.58s/it]"
     ]
    },
    {
     "name": "stdout",
     "output_type": "stream",
     "text": [
      "LABEL: Bag\n",
      "EPOCH 3: 2.32632 sec\n",
      "Critic loss: -2.42344\n",
      "Generator loss: -0.13250\n",
      "\n"
     ]
    },
    {
     "name": "stderr",
     "output_type": "stream",
     "text": [
      "\r",
      "  4%|▍         | 4.0/100 [00:14<04:59,  3.11s/it]"
     ]
    },
    {
     "name": "stdout",
     "output_type": "stream",
     "text": [
      "LABEL: Bag\n",
      "EPOCH 4: 2.32282 sec\n",
      "Critic loss: -2.58976\n",
      "Generator loss: 0.40602\n",
      "\n"
     ]
    },
    {
     "name": "stderr",
     "output_type": "stream",
     "text": [
      "\r",
      "  5%|▌         | 5.0/100 [00:16<04:31,  2.86s/it]"
     ]
    },
    {
     "name": "stdout",
     "output_type": "stream",
     "text": [
      "LABEL: Bag\n",
      "EPOCH 5: 2.32465 sec\n",
      "Critic loss: -2.56202\n",
      "Generator loss: -0.86184\n",
      "\n"
     ]
    },
    {
     "name": "stderr",
     "output_type": "stream",
     "text": [
      "\r",
      "  6%|▌         | 6.0/100 [00:19<04:14,  2.71s/it]"
     ]
    },
    {
     "name": "stdout",
     "output_type": "stream",
     "text": [
      "LABEL: Bag\n",
      "EPOCH 6: 2.32686 sec\n",
      "Critic loss: -2.67012\n",
      "Generator loss: -1.21658\n",
      "\n"
     ]
    },
    {
     "name": "stderr",
     "output_type": "stream",
     "text": [
      "\r",
      "  7%|▋         | 7.0/100 [00:21<04:02,  2.61s/it]"
     ]
    },
    {
     "name": "stdout",
     "output_type": "stream",
     "text": [
      "LABEL: Bag\n",
      "EPOCH 7: 2.32529 sec\n",
      "Critic loss: -2.58910\n",
      "Generator loss: -1.48473\n",
      "\n"
     ]
    },
    {
     "name": "stderr",
     "output_type": "stream",
     "text": [
      "\r",
      "  8%|▊         | 8.0/100 [00:23<03:54,  2.54s/it]"
     ]
    },
    {
     "name": "stdout",
     "output_type": "stream",
     "text": [
      "LABEL: Bag\n",
      "EPOCH 8: 2.32452 sec\n",
      "Critic loss: -2.67896\n",
      "Generator loss: -0.97176\n",
      "\n"
     ]
    },
    {
     "name": "stderr",
     "output_type": "stream",
     "text": [
      "\r",
      "  9%|▉         | 9.0/100 [00:26<03:47,  2.50s/it]"
     ]
    },
    {
     "name": "stdout",
     "output_type": "stream",
     "text": [
      "LABEL: Bag\n",
      "EPOCH 9: 2.32466 sec\n",
      "Critic loss: -2.52263\n",
      "Generator loss: -0.97039\n",
      "\n"
     ]
    },
    {
     "name": "stderr",
     "output_type": "stream",
     "text": [
      "\r",
      " 10%|█         | 10.0/100 [00:28<03:42,  2.47s/it]"
     ]
    },
    {
     "name": "stdout",
     "output_type": "stream",
     "text": [
      "LABEL: Bag\n",
      "EPOCH 10: 2.32570 sec\n",
      "Critic loss: -2.48663\n",
      "Generator loss: -0.92995\n",
      "\n"
     ]
    },
    {
     "name": "stderr",
     "output_type": "stream",
     "text": [
      "\r",
      " 11%|█         | 11.0/100 [00:31<03:38,  2.45s/it]"
     ]
    },
    {
     "name": "stdout",
     "output_type": "stream",
     "text": [
      "LABEL: Bag\n",
      "EPOCH 11: 2.33089 sec\n",
      "Critic loss: -2.49809\n",
      "Generator loss: -0.36838\n",
      "\n"
     ]
    },
    {
     "name": "stderr",
     "output_type": "stream",
     "text": [
      "\r",
      " 12%|█▏        | 12.0/100 [00:33<03:34,  2.44s/it]"
     ]
    },
    {
     "name": "stdout",
     "output_type": "stream",
     "text": [
      "LABEL: Bag\n",
      "EPOCH 12: 2.32382 sec\n",
      "Critic loss: -2.03680\n",
      "Generator loss: -1.53271\n",
      "\n"
     ]
    },
    {
     "name": "stderr",
     "output_type": "stream",
     "text": [
      "\r",
      " 13%|█▎        | 13.0/100 [00:35<03:31,  2.43s/it]"
     ]
    },
    {
     "name": "stdout",
     "output_type": "stream",
     "text": [
      "LABEL: Bag\n",
      "EPOCH 13: 2.32454 sec\n",
      "Critic loss: -2.39930\n",
      "Generator loss: -0.04833\n",
      "\n"
     ]
    },
    {
     "name": "stderr",
     "output_type": "stream",
     "text": [
      "\r",
      " 14%|█▍        | 14.0/100 [00:38<03:28,  2.43s/it]"
     ]
    },
    {
     "name": "stdout",
     "output_type": "stream",
     "text": [
      "LABEL: Bag\n",
      "EPOCH 14: 2.33384 sec\n",
      "Critic loss: -2.21907\n",
      "Generator loss: -0.07402\n",
      "\n"
     ]
    },
    {
     "name": "stderr",
     "output_type": "stream",
     "text": [
      "\r",
      " 15%|█▌        | 15.0/100 [00:40<03:26,  2.42s/it]"
     ]
    },
    {
     "name": "stdout",
     "output_type": "stream",
     "text": [
      "LABEL: Bag\n",
      "EPOCH 15: 2.33505 sec\n",
      "Critic loss: -1.11751\n",
      "Generator loss: -0.39204\n",
      "\n"
     ]
    },
    {
     "name": "stderr",
     "output_type": "stream",
     "text": [
      "\r",
      " 16%|█▌        | 16.0/100 [00:43<03:23,  2.42s/it]"
     ]
    },
    {
     "name": "stdout",
     "output_type": "stream",
     "text": [
      "LABEL: Bag\n",
      "EPOCH 16: 2.32250 sec\n",
      "Critic loss: -0.67082\n",
      "Generator loss: -0.53568\n",
      "\n"
     ]
    },
    {
     "name": "stderr",
     "output_type": "stream",
     "text": [
      "\r",
      " 17%|█▋        | 17.0/100 [00:45<03:20,  2.42s/it]"
     ]
    },
    {
     "name": "stdout",
     "output_type": "stream",
     "text": [
      "LABEL: Bag\n",
      "EPOCH 17: 2.32529 sec\n",
      "Critic loss: -0.34755\n",
      "Generator loss: -0.91848\n",
      "\n"
     ]
    },
    {
     "name": "stderr",
     "output_type": "stream",
     "text": [
      "\r",
      " 18%|█▊        | 18.0/100 [00:47<03:17,  2.41s/it]"
     ]
    },
    {
     "name": "stdout",
     "output_type": "stream",
     "text": [
      "LABEL: Bag\n",
      "EPOCH 18: 2.32884 sec\n",
      "Critic loss: -0.32340\n",
      "Generator loss: -0.62231\n",
      "\n"
     ]
    },
    {
     "name": "stderr",
     "output_type": "stream",
     "text": [
      "\r",
      " 19%|█▉        | 19.0/100 [00:50<03:15,  2.41s/it]"
     ]
    },
    {
     "name": "stdout",
     "output_type": "stream",
     "text": [
      "LABEL: Bag\n",
      "EPOCH 19: 2.32348 sec\n",
      "Critic loss: -0.50856\n",
      "Generator loss: -1.52286\n",
      "\n"
     ]
    },
    {
     "name": "stderr",
     "output_type": "stream",
     "text": [
      "\r",
      " 20%|██        | 20.0/100 [00:52<03:12,  2.41s/it]"
     ]
    },
    {
     "name": "stdout",
     "output_type": "stream",
     "text": [
      "LABEL: Bag\n",
      "EPOCH 20: 2.32665 sec\n",
      "Critic loss: -0.69047\n",
      "Generator loss: 0.01521\n",
      "\n"
     ]
    },
    {
     "name": "stderr",
     "output_type": "stream",
     "text": [
      "\r",
      " 21%|██        | 21.0/100 [00:55<03:10,  2.41s/it]"
     ]
    },
    {
     "name": "stdout",
     "output_type": "stream",
     "text": [
      "LABEL: Bag\n",
      "EPOCH 21: 2.32366 sec\n",
      "Critic loss: -0.73656\n",
      "Generator loss: -1.25070\n",
      "\n",
      "INFO:tensorflow:Assets written to: models/05-05-21_11:26:10/Bag/generator/assets\n",
      "INFO:tensorflow:Assets written to: models/05-05-21_11:26:10/Bag/critic/assets\n"
     ]
    },
    {
     "name": "stderr",
     "output_type": "stream",
     "text": [
      "\r",
      " 22%|██▏       | 22.0/100 [00:59<03:41,  2.83s/it]"
     ]
    },
    {
     "name": "stdout",
     "output_type": "stream",
     "text": [
      "LABEL: Bag\n",
      "EPOCH 22: 2.32320 sec\n",
      "Critic loss: -0.62543\n",
      "Generator loss: -0.44555\n",
      "\n"
     ]
    },
    {
     "name": "stderr",
     "output_type": "stream",
     "text": [
      "\r",
      " 23%|██▎       | 23.0/100 [01:01<03:28,  2.71s/it]"
     ]
    },
    {
     "name": "stdout",
     "output_type": "stream",
     "text": [
      "LABEL: Bag\n",
      "EPOCH 23: 2.32358 sec\n",
      "Critic loss: -0.71129\n",
      "Generator loss: -2.32690\n",
      "\n"
     ]
    },
    {
     "name": "stderr",
     "output_type": "stream",
     "text": [
      "\r",
      " 24%|██▍       | 24.0/100 [01:03<03:18,  2.62s/it]"
     ]
    },
    {
     "name": "stdout",
     "output_type": "stream",
     "text": [
      "LABEL: Bag\n",
      "EPOCH 24: 2.32480 sec\n",
      "Critic loss: -0.58952\n",
      "Generator loss: -1.54617\n",
      "\n"
     ]
    },
    {
     "name": "stderr",
     "output_type": "stream",
     "text": [
      "\r",
      " 25%|██▌       | 25.0/100 [01:06<03:11,  2.55s/it]"
     ]
    },
    {
     "name": "stdout",
     "output_type": "stream",
     "text": [
      "LABEL: Bag\n",
      "EPOCH 25: 2.32500 sec\n",
      "Critic loss: -0.68210\n",
      "Generator loss: -2.60683\n",
      "\n"
     ]
    },
    {
     "name": "stderr",
     "output_type": "stream",
     "text": [
      "\r",
      " 26%|██▌       | 26.0/100 [01:08<03:05,  2.51s/it]"
     ]
    },
    {
     "name": "stdout",
     "output_type": "stream",
     "text": [
      "LABEL: Bag\n",
      "EPOCH 26: 2.32443 sec\n",
      "Critic loss: -0.59379\n",
      "Generator loss: -3.15878\n",
      "\n"
     ]
    },
    {
     "name": "stderr",
     "output_type": "stream",
     "text": [
      "\r",
      " 27%|██▋       | 27.0/100 [01:11<03:01,  2.48s/it]"
     ]
    },
    {
     "name": "stdout",
     "output_type": "stream",
     "text": [
      "LABEL: Bag\n",
      "EPOCH 27: 2.32453 sec\n",
      "Critic loss: -0.63119\n",
      "Generator loss: -4.28116\n",
      "\n"
     ]
    },
    {
     "name": "stderr",
     "output_type": "stream",
     "text": [
      "\r",
      " 28%|██▊       | 28.0/100 [01:13<02:57,  2.46s/it]"
     ]
    },
    {
     "name": "stdout",
     "output_type": "stream",
     "text": [
      "LABEL: Bag\n",
      "EPOCH 28: 2.32740 sec\n",
      "Critic loss: -0.57549\n",
      "Generator loss: -4.61004\n",
      "\n"
     ]
    },
    {
     "name": "stderr",
     "output_type": "stream",
     "text": [
      "\r",
      " 29%|██▉       | 29.0/100 [01:15<02:53,  2.44s/it]"
     ]
    },
    {
     "name": "stdout",
     "output_type": "stream",
     "text": [
      "LABEL: Bag\n",
      "EPOCH 29: 2.32423 sec\n",
      "Critic loss: -0.49932\n",
      "Generator loss: -5.24190\n",
      "\n"
     ]
    },
    {
     "name": "stderr",
     "output_type": "stream",
     "text": [
      "\r",
      " 30%|███       | 30.0/100 [01:18<02:50,  2.43s/it]"
     ]
    },
    {
     "name": "stdout",
     "output_type": "stream",
     "text": [
      "LABEL: Bag\n",
      "EPOCH 30: 2.32463 sec\n",
      "Critic loss: -0.51793\n",
      "Generator loss: -5.12798\n",
      "\n"
     ]
    },
    {
     "name": "stderr",
     "output_type": "stream",
     "text": [
      "\r",
      " 31%|███       | 31.0/100 [01:20<02:47,  2.43s/it]"
     ]
    },
    {
     "name": "stdout",
     "output_type": "stream",
     "text": [
      "LABEL: Bag\n",
      "EPOCH 31: 2.32488 sec\n",
      "Critic loss: -0.48295\n",
      "Generator loss: -5.41411\n",
      "\n"
     ]
    },
    {
     "name": "stderr",
     "output_type": "stream",
     "text": [
      "\r",
      " 32%|███▏      | 32.0/100 [01:23<02:44,  2.42s/it]"
     ]
    },
    {
     "name": "stdout",
     "output_type": "stream",
     "text": [
      "LABEL: Bag\n",
      "EPOCH 32: 2.32447 sec\n",
      "Critic loss: -0.56312\n",
      "Generator loss: -5.55011\n",
      "\n"
     ]
    },
    {
     "name": "stderr",
     "output_type": "stream",
     "text": [
      "\r",
      " 33%|███▎      | 33.0/100 [01:25<02:41,  2.42s/it]"
     ]
    },
    {
     "name": "stdout",
     "output_type": "stream",
     "text": [
      "LABEL: Bag\n",
      "EPOCH 33: 2.32296 sec\n",
      "Critic loss: -0.54180\n",
      "Generator loss: -6.20182\n",
      "\n"
     ]
    },
    {
     "name": "stderr",
     "output_type": "stream",
     "text": [
      "\r",
      " 34%|███▍      | 34.0/100 [01:27<02:39,  2.41s/it]"
     ]
    },
    {
     "name": "stdout",
     "output_type": "stream",
     "text": [
      "LABEL: Bag\n",
      "EPOCH 34: 2.32263 sec\n",
      "Critic loss: -0.55326\n",
      "Generator loss: -5.89138\n",
      "\n"
     ]
    },
    {
     "name": "stderr",
     "output_type": "stream",
     "text": [
      "\r",
      " 35%|███▌      | 35.0/100 [01:30<02:36,  2.41s/it]"
     ]
    },
    {
     "name": "stdout",
     "output_type": "stream",
     "text": [
      "LABEL: Bag\n",
      "EPOCH 35: 2.32304 sec\n",
      "Critic loss: -0.54984\n",
      "Generator loss: -6.47196\n",
      "\n"
     ]
    },
    {
     "name": "stderr",
     "output_type": "stream",
     "text": [
      "\r",
      " 36%|███▌      | 36.0/100 [01:32<02:34,  2.41s/it]"
     ]
    },
    {
     "name": "stdout",
     "output_type": "stream",
     "text": [
      "LABEL: Bag\n",
      "EPOCH 36: 2.32487 sec\n",
      "Critic loss: -0.51956\n",
      "Generator loss: -6.31647\n",
      "\n"
     ]
    },
    {
     "name": "stderr",
     "output_type": "stream",
     "text": [
      "\r",
      " 37%|███▋      | 37.0/100 [01:35<02:31,  2.41s/it]"
     ]
    },
    {
     "name": "stdout",
     "output_type": "stream",
     "text": [
      "LABEL: Bag\n",
      "EPOCH 37: 2.32295 sec\n",
      "Critic loss: -0.38634\n",
      "Generator loss: -6.31254\n",
      "\n"
     ]
    },
    {
     "name": "stderr",
     "output_type": "stream",
     "text": [
      "\r",
      " 38%|███▊      | 38.0/100 [01:37<02:29,  2.41s/it]"
     ]
    },
    {
     "name": "stdout",
     "output_type": "stream",
     "text": [
      "LABEL: Bag\n",
      "EPOCH 38: 2.32524 sec\n",
      "Critic loss: -0.43531\n",
      "Generator loss: -6.83430\n",
      "\n"
     ]
    },
    {
     "name": "stderr",
     "output_type": "stream",
     "text": [
      "\r",
      " 39%|███▉      | 39.0/100 [01:39<02:26,  2.41s/it]"
     ]
    },
    {
     "name": "stdout",
     "output_type": "stream",
     "text": [
      "LABEL: Bag\n",
      "EPOCH 39: 2.32453 sec\n",
      "Critic loss: -0.40303\n",
      "Generator loss: -6.43568\n",
      "\n"
     ]
    },
    {
     "name": "stderr",
     "output_type": "stream",
     "text": [
      "\r",
      " 40%|████      | 40.0/100 [01:42<02:24,  2.41s/it]"
     ]
    },
    {
     "name": "stdout",
     "output_type": "stream",
     "text": [
      "LABEL: Bag\n",
      "EPOCH 40: 2.32441 sec\n",
      "Critic loss: -0.50158\n",
      "Generator loss: -6.14391\n",
      "\n"
     ]
    },
    {
     "name": "stderr",
     "output_type": "stream",
     "text": [
      "\r",
      " 41%|████      | 41.0/100 [01:44<02:22,  2.41s/it]"
     ]
    },
    {
     "name": "stdout",
     "output_type": "stream",
     "text": [
      "LABEL: Bag\n",
      "EPOCH 41: 2.32507 sec\n",
      "Critic loss: -0.45436\n",
      "Generator loss: -6.38266\n",
      "\n",
      "INFO:tensorflow:Assets written to: models/05-05-21_11:26:10/Bag/generator/assets\n",
      "INFO:tensorflow:Assets written to: models/05-05-21_11:26:10/Bag/critic/assets\n"
     ]
    },
    {
     "name": "stderr",
     "output_type": "stream",
     "text": [
      "\r",
      " 42%|████▏     | 42.0/100 [01:48<02:45,  2.85s/it]"
     ]
    },
    {
     "name": "stdout",
     "output_type": "stream",
     "text": [
      "LABEL: Bag\n",
      "EPOCH 42: 2.32261 sec\n",
      "Critic loss: -0.47251\n",
      "Generator loss: -7.11936\n",
      "\n"
     ]
    },
    {
     "name": "stderr",
     "output_type": "stream",
     "text": [
      "\r",
      " 43%|████▎     | 43.0/100 [01:51<02:34,  2.72s/it]"
     ]
    },
    {
     "name": "stdout",
     "output_type": "stream",
     "text": [
      "LABEL: Bag\n",
      "EPOCH 43: 2.32463 sec\n",
      "Critic loss: -0.40771\n",
      "Generator loss: -7.14751\n",
      "\n"
     ]
    },
    {
     "name": "stderr",
     "output_type": "stream",
     "text": [
      "\r",
      " 44%|████▍     | 44.0/100 [01:53<02:27,  2.63s/it]"
     ]
    },
    {
     "name": "stdout",
     "output_type": "stream",
     "text": [
      "LABEL: Bag\n",
      "EPOCH 44: 2.32584 sec\n",
      "Critic loss: -0.41033\n",
      "Generator loss: -6.79368\n",
      "\n"
     ]
    },
    {
     "name": "stderr",
     "output_type": "stream",
     "text": [
      "\r",
      " 45%|████▌     | 45.0/100 [01:55<02:20,  2.56s/it]"
     ]
    },
    {
     "name": "stdout",
     "output_type": "stream",
     "text": [
      "LABEL: Bag\n",
      "EPOCH 45: 2.32071 sec\n",
      "Critic loss: -0.41662\n",
      "Generator loss: -6.98369\n",
      "\n"
     ]
    },
    {
     "name": "stderr",
     "output_type": "stream",
     "text": [
      "\r",
      " 46%|████▌     | 46.0/100 [01:58<02:15,  2.51s/it]"
     ]
    },
    {
     "name": "stdout",
     "output_type": "stream",
     "text": [
      "LABEL: Bag\n",
      "EPOCH 46: 2.32521 sec\n",
      "Critic loss: -0.43850\n",
      "Generator loss: -6.87129\n",
      "\n"
     ]
    },
    {
     "name": "stderr",
     "output_type": "stream",
     "text": [
      "\r",
      " 47%|████▋     | 47.0/100 [02:00<02:11,  2.48s/it]"
     ]
    },
    {
     "name": "stdout",
     "output_type": "stream",
     "text": [
      "LABEL: Bag\n",
      "EPOCH 47: 2.32496 sec\n",
      "Critic loss: -0.48267\n",
      "Generator loss: -7.41866\n",
      "\n"
     ]
    },
    {
     "name": "stderr",
     "output_type": "stream",
     "text": [
      "\r",
      " 48%|████▊     | 48.0/100 [02:03<02:07,  2.46s/it]"
     ]
    },
    {
     "name": "stdout",
     "output_type": "stream",
     "text": [
      "LABEL: Bag\n",
      "EPOCH 48: 2.32538 sec\n",
      "Critic loss: -0.37930\n",
      "Generator loss: -7.74737\n",
      "\n"
     ]
    },
    {
     "name": "stderr",
     "output_type": "stream",
     "text": [
      "\r",
      " 49%|████▉     | 49.0/100 [02:05<02:05,  2.46s/it]"
     ]
    },
    {
     "name": "stdout",
     "output_type": "stream",
     "text": [
      "LABEL: Bag\n",
      "EPOCH 49: 2.37579 sec\n",
      "Critic loss: -0.42787\n",
      "Generator loss: -7.63321\n",
      "\n"
     ]
    },
    {
     "name": "stderr",
     "output_type": "stream",
     "text": [
      "\r",
      " 50%|█████     | 50.0/100 [02:08<02:04,  2.49s/it]"
     ]
    },
    {
     "name": "stdout",
     "output_type": "stream",
     "text": [
      "LABEL: Bag\n",
      "EPOCH 50: 2.46842 sec\n",
      "Critic loss: -0.42479\n",
      "Generator loss: -7.94180\n",
      "\n"
     ]
    },
    {
     "name": "stderr",
     "output_type": "stream",
     "text": [
      "\r",
      " 51%|█████     | 51.0/100 [02:10<02:02,  2.50s/it]"
     ]
    },
    {
     "name": "stdout",
     "output_type": "stream",
     "text": [
      "LABEL: Bag\n",
      "EPOCH 51: 2.41972 sec\n",
      "Critic loss: -0.54924\n",
      "Generator loss: -8.16974\n",
      "\n"
     ]
    },
    {
     "name": "stderr",
     "output_type": "stream",
     "text": [
      "\r",
      " 52%|█████▏    | 52.0/100 [02:13<01:59,  2.48s/it]"
     ]
    },
    {
     "name": "stdout",
     "output_type": "stream",
     "text": [
      "LABEL: Bag\n",
      "EPOCH 52: 2.37599 sec\n",
      "Critic loss: -0.41054\n",
      "Generator loss: -7.80667\n",
      "\n"
     ]
    },
    {
     "name": "stderr",
     "output_type": "stream",
     "text": [
      "\r",
      " 53%|█████▎    | 53.0/100 [02:15<01:55,  2.47s/it]"
     ]
    },
    {
     "name": "stdout",
     "output_type": "stream",
     "text": [
      "LABEL: Bag\n",
      "EPOCH 53: 2.33931 sec\n",
      "Critic loss: -0.46127\n",
      "Generator loss: -8.13468\n",
      "\n"
     ]
    },
    {
     "name": "stderr",
     "output_type": "stream",
     "text": [
      "\r",
      " 54%|█████▍    | 54.0/100 [02:17<01:52,  2.45s/it]"
     ]
    },
    {
     "name": "stdout",
     "output_type": "stream",
     "text": [
      "LABEL: Bag\n",
      "EPOCH 54: 2.32951 sec\n",
      "Critic loss: -0.43086\n",
      "Generator loss: -7.63021\n",
      "\n"
     ]
    },
    {
     "name": "stderr",
     "output_type": "stream",
     "text": [
      "\r",
      " 55%|█████▌    | 55.0/100 [02:20<01:49,  2.44s/it]"
     ]
    },
    {
     "name": "stdout",
     "output_type": "stream",
     "text": [
      "LABEL: Bag\n",
      "EPOCH 55: 2.32416 sec\n",
      "Critic loss: -0.44007\n",
      "Generator loss: -6.47654\n",
      "\n"
     ]
    },
    {
     "name": "stderr",
     "output_type": "stream",
     "text": [
      "\r",
      " 56%|█████▌    | 56.0/100 [02:22<01:46,  2.43s/it]"
     ]
    },
    {
     "name": "stdout",
     "output_type": "stream",
     "text": [
      "LABEL: Bag\n",
      "EPOCH 56: 2.32334 sec\n",
      "Critic loss: -0.43941\n",
      "Generator loss: -5.97997\n",
      "\n"
     ]
    },
    {
     "name": "stderr",
     "output_type": "stream",
     "text": [
      "\r",
      " 57%|█████▋    | 57.0/100 [02:25<01:44,  2.42s/it]"
     ]
    },
    {
     "name": "stdout",
     "output_type": "stream",
     "text": [
      "LABEL: Bag\n",
      "EPOCH 57: 2.32309 sec\n",
      "Critic loss: -0.42215\n",
      "Generator loss: -5.33247\n",
      "\n"
     ]
    },
    {
     "name": "stderr",
     "output_type": "stream",
     "text": [
      "\r",
      " 58%|█████▊    | 58.0/100 [02:27<01:41,  2.42s/it]"
     ]
    },
    {
     "name": "stdout",
     "output_type": "stream",
     "text": [
      "LABEL: Bag\n",
      "EPOCH 58: 2.32367 sec\n",
      "Critic loss: -0.47313\n",
      "Generator loss: -4.90126\n",
      "\n"
     ]
    },
    {
     "name": "stderr",
     "output_type": "stream",
     "text": [
      "\r",
      " 59%|█████▉    | 59.0/100 [02:29<01:39,  2.42s/it]"
     ]
    },
    {
     "name": "stdout",
     "output_type": "stream",
     "text": [
      "LABEL: Bag\n",
      "EPOCH 59: 2.33092 sec\n",
      "Critic loss: -0.36465\n",
      "Generator loss: -5.05662\n",
      "\n"
     ]
    },
    {
     "name": "stderr",
     "output_type": "stream",
     "text": [
      "\r",
      " 60%|██████    | 60.0/100 [02:32<01:36,  2.41s/it]"
     ]
    },
    {
     "name": "stdout",
     "output_type": "stream",
     "text": [
      "LABEL: Bag\n",
      "EPOCH 60: 2.32749 sec\n",
      "Critic loss: -0.38878\n",
      "Generator loss: -4.82707\n",
      "\n"
     ]
    },
    {
     "name": "stderr",
     "output_type": "stream",
     "text": [
      "\r",
      " 61%|██████    | 61.0/100 [02:34<01:34,  2.41s/it]"
     ]
    },
    {
     "name": "stdout",
     "output_type": "stream",
     "text": [
      "LABEL: Bag\n",
      "EPOCH 61: 2.32506 sec\n",
      "Critic loss: -0.35313\n",
      "Generator loss: -4.45448\n",
      "\n",
      "INFO:tensorflow:Assets written to: models/05-05-21_11:26:10/Bag/generator/assets\n",
      "INFO:tensorflow:Assets written to: models/05-05-21_11:26:10/Bag/critic/assets\n"
     ]
    },
    {
     "name": "stderr",
     "output_type": "stream",
     "text": [
      "\r",
      " 62%|██████▏   | 62.0/100 [02:38<01:47,  2.84s/it]"
     ]
    },
    {
     "name": "stdout",
     "output_type": "stream",
     "text": [
      "LABEL: Bag\n",
      "EPOCH 62: 2.33518 sec\n",
      "Critic loss: -0.35781\n",
      "Generator loss: -5.10198\n",
      "\n"
     ]
    },
    {
     "name": "stderr",
     "output_type": "stream",
     "text": [
      "\r",
      " 63%|██████▎   | 63.0/100 [02:41<01:40,  2.71s/it]"
     ]
    },
    {
     "name": "stdout",
     "output_type": "stream",
     "text": [
      "LABEL: Bag\n",
      "EPOCH 63: 2.33243 sec\n",
      "Critic loss: -0.31851\n",
      "Generator loss: -4.78029\n",
      "\n"
     ]
    },
    {
     "name": "stderr",
     "output_type": "stream",
     "text": [
      "\r",
      " 64%|██████▍   | 64.0/100 [02:43<01:34,  2.62s/it]"
     ]
    },
    {
     "name": "stdout",
     "output_type": "stream",
     "text": [
      "LABEL: Bag\n",
      "EPOCH 64: 2.32473 sec\n",
      "Critic loss: -0.28637\n",
      "Generator loss: -4.14980\n",
      "\n"
     ]
    },
    {
     "name": "stderr",
     "output_type": "stream",
     "text": [
      "\r",
      " 65%|██████▌   | 65.0/100 [02:45<01:29,  2.56s/it]"
     ]
    },
    {
     "name": "stdout",
     "output_type": "stream",
     "text": [
      "LABEL: Bag\n",
      "EPOCH 65: 2.32375 sec\n",
      "Critic loss: -0.34901\n",
      "Generator loss: -4.50360\n",
      "\n"
     ]
    },
    {
     "name": "stderr",
     "output_type": "stream",
     "text": [
      "\r",
      " 66%|██████▌   | 66.0/100 [02:48<01:25,  2.51s/it]"
     ]
    },
    {
     "name": "stdout",
     "output_type": "stream",
     "text": [
      "LABEL: Bag\n",
      "EPOCH 66: 2.33188 sec\n",
      "Critic loss: -0.35228\n",
      "Generator loss: -4.04718\n",
      "\n"
     ]
    },
    {
     "name": "stderr",
     "output_type": "stream",
     "text": [
      "\r",
      " 67%|██████▋   | 67.0/100 [02:50<01:21,  2.48s/it]"
     ]
    },
    {
     "name": "stdout",
     "output_type": "stream",
     "text": [
      "LABEL: Bag\n",
      "EPOCH 67: 2.32435 sec\n",
      "Critic loss: -0.29748\n",
      "Generator loss: -3.64803\n",
      "\n"
     ]
    },
    {
     "name": "stderr",
     "output_type": "stream",
     "text": [
      "\r",
      " 68%|██████▊   | 68.0/100 [02:53<01:18,  2.46s/it]"
     ]
    },
    {
     "name": "stdout",
     "output_type": "stream",
     "text": [
      "LABEL: Bag\n",
      "EPOCH 68: 2.32263 sec\n",
      "Critic loss: -0.30695\n",
      "Generator loss: -3.71207\n",
      "\n"
     ]
    },
    {
     "name": "stderr",
     "output_type": "stream",
     "text": [
      "\r",
      " 69%|██████▉   | 69.0/100 [02:55<01:15,  2.44s/it]"
     ]
    },
    {
     "name": "stdout",
     "output_type": "stream",
     "text": [
      "LABEL: Bag\n",
      "EPOCH 69: 2.32484 sec\n",
      "Critic loss: -0.27480\n",
      "Generator loss: -3.55173\n",
      "\n"
     ]
    },
    {
     "name": "stderr",
     "output_type": "stream",
     "text": [
      "\r",
      " 70%|███████   | 70.0/100 [02:57<01:13,  2.43s/it]"
     ]
    },
    {
     "name": "stdout",
     "output_type": "stream",
     "text": [
      "LABEL: Bag\n",
      "EPOCH 70: 2.32514 sec\n",
      "Critic loss: -0.26597\n",
      "Generator loss: -3.03472\n",
      "\n"
     ]
    },
    {
     "name": "stderr",
     "output_type": "stream",
     "text": [
      "\r",
      " 71%|███████   | 71.0/100 [03:00<01:10,  2.43s/it]"
     ]
    },
    {
     "name": "stdout",
     "output_type": "stream",
     "text": [
      "LABEL: Bag\n",
      "EPOCH 71: 2.32359 sec\n",
      "Critic loss: -0.31242\n",
      "Generator loss: -2.63283\n",
      "\n"
     ]
    },
    {
     "name": "stderr",
     "output_type": "stream",
     "text": [
      "\r",
      " 72%|███████▏  | 72.0/100 [03:02<01:07,  2.42s/it]"
     ]
    },
    {
     "name": "stdout",
     "output_type": "stream",
     "text": [
      "LABEL: Bag\n",
      "EPOCH 72: 2.32455 sec\n",
      "Critic loss: -0.29107\n",
      "Generator loss: -2.47906\n",
      "\n"
     ]
    },
    {
     "name": "stderr",
     "output_type": "stream",
     "text": [
      "\r",
      " 73%|███████▎  | 73.0/100 [03:05<01:05,  2.42s/it]"
     ]
    },
    {
     "name": "stdout",
     "output_type": "stream",
     "text": [
      "LABEL: Bag\n",
      "EPOCH 73: 2.32331 sec\n",
      "Critic loss: -0.30117\n",
      "Generator loss: -2.34762\n",
      "\n"
     ]
    },
    {
     "name": "stderr",
     "output_type": "stream",
     "text": [
      "\r",
      " 74%|███████▍  | 74.0/100 [03:07<01:02,  2.41s/it]"
     ]
    },
    {
     "name": "stdout",
     "output_type": "stream",
     "text": [
      "LABEL: Bag\n",
      "EPOCH 74: 2.32265 sec\n",
      "Critic loss: -0.26121\n",
      "Generator loss: -2.07479\n",
      "\n"
     ]
    },
    {
     "name": "stderr",
     "output_type": "stream",
     "text": [
      "\r",
      " 75%|███████▌  | 75.0/100 [03:09<01:00,  2.41s/it]"
     ]
    },
    {
     "name": "stdout",
     "output_type": "stream",
     "text": [
      "LABEL: Bag\n",
      "EPOCH 75: 2.32624 sec\n",
      "Critic loss: -0.16778\n",
      "Generator loss: -1.71381\n",
      "\n"
     ]
    },
    {
     "name": "stderr",
     "output_type": "stream",
     "text": [
      "\r",
      " 76%|███████▌  | 76.0/100 [03:12<00:57,  2.41s/it]"
     ]
    },
    {
     "name": "stdout",
     "output_type": "stream",
     "text": [
      "LABEL: Bag\n",
      "EPOCH 76: 2.32433 sec\n",
      "Critic loss: -0.29307\n",
      "Generator loss: -1.54055\n",
      "\n"
     ]
    },
    {
     "name": "stderr",
     "output_type": "stream",
     "text": [
      "\r",
      " 77%|███████▋  | 77.0/100 [03:14<00:55,  2.41s/it]"
     ]
    },
    {
     "name": "stdout",
     "output_type": "stream",
     "text": [
      "LABEL: Bag\n",
      "EPOCH 77: 2.32409 sec\n",
      "Critic loss: -0.29247\n",
      "Generator loss: -1.80791\n",
      "\n"
     ]
    },
    {
     "name": "stderr",
     "output_type": "stream",
     "text": [
      "\r",
      " 78%|███████▊  | 78.0/100 [03:17<00:53,  2.41s/it]"
     ]
    },
    {
     "name": "stdout",
     "output_type": "stream",
     "text": [
      "LABEL: Bag\n",
      "EPOCH 78: 2.32670 sec\n",
      "Critic loss: -0.27061\n",
      "Generator loss: -1.56928\n",
      "\n"
     ]
    },
    {
     "name": "stderr",
     "output_type": "stream",
     "text": [
      "\r",
      " 79%|███████▉  | 79.0/100 [03:19<00:50,  2.41s/it]"
     ]
    },
    {
     "name": "stdout",
     "output_type": "stream",
     "text": [
      "LABEL: Bag\n",
      "EPOCH 79: 2.32393 sec\n",
      "Critic loss: -0.20403\n",
      "Generator loss: -1.26984\n",
      "\n"
     ]
    },
    {
     "name": "stderr",
     "output_type": "stream",
     "text": [
      "\r",
      " 80%|████████  | 80.0/100 [03:21<00:48,  2.41s/it]"
     ]
    },
    {
     "name": "stdout",
     "output_type": "stream",
     "text": [
      "LABEL: Bag\n",
      "EPOCH 80: 2.32291 sec\n",
      "Critic loss: -0.19779\n",
      "Generator loss: -0.89579\n",
      "\n"
     ]
    },
    {
     "name": "stderr",
     "output_type": "stream",
     "text": [
      "\r",
      " 81%|████████  | 81.0/100 [03:24<00:45,  2.41s/it]"
     ]
    },
    {
     "name": "stdout",
     "output_type": "stream",
     "text": [
      "LABEL: Bag\n",
      "EPOCH 81: 2.32535 sec\n",
      "Critic loss: -0.26243\n",
      "Generator loss: -0.56967\n",
      "\n",
      "INFO:tensorflow:Assets written to: models/05-05-21_11:26:10/Bag/generator/assets\n",
      "INFO:tensorflow:Assets written to: models/05-05-21_11:26:10/Bag/critic/assets\n"
     ]
    },
    {
     "name": "stderr",
     "output_type": "stream",
     "text": [
      "\r",
      " 82%|████████▏ | 82.0/100 [03:28<00:51,  2.85s/it]"
     ]
    },
    {
     "name": "stdout",
     "output_type": "stream",
     "text": [
      "LABEL: Bag\n",
      "EPOCH 82: 2.32481 sec\n",
      "Critic loss: -0.27051\n",
      "Generator loss: -0.35350\n",
      "\n"
     ]
    },
    {
     "name": "stderr",
     "output_type": "stream",
     "text": [
      "\r",
      " 83%|████████▎ | 83.0/100 [03:30<00:46,  2.72s/it]"
     ]
    },
    {
     "name": "stdout",
     "output_type": "stream",
     "text": [
      "LABEL: Bag\n",
      "EPOCH 83: 2.32329 sec\n",
      "Critic loss: -0.24164\n",
      "Generator loss: -1.00057\n",
      "\n"
     ]
    },
    {
     "name": "stderr",
     "output_type": "stream",
     "text": [
      "\r",
      " 84%|████████▍ | 84.0/100 [03:33<00:41,  2.62s/it]"
     ]
    },
    {
     "name": "stdout",
     "output_type": "stream",
     "text": [
      "LABEL: Bag\n",
      "EPOCH 84: 2.32457 sec\n",
      "Critic loss: -0.25506\n",
      "Generator loss: -0.11148\n",
      "\n"
     ]
    },
    {
     "name": "stderr",
     "output_type": "stream",
     "text": [
      "\r",
      " 85%|████████▌ | 85.0/100 [03:35<00:38,  2.56s/it]"
     ]
    },
    {
     "name": "stdout",
     "output_type": "stream",
     "text": [
      "LABEL: Bag\n",
      "EPOCH 85: 2.32434 sec\n",
      "Critic loss: -0.25590\n",
      "Generator loss: -0.25251\n",
      "\n"
     ]
    },
    {
     "name": "stderr",
     "output_type": "stream",
     "text": [
      "\r",
      " 86%|████████▌ | 86.0/100 [03:37<00:35,  2.51s/it]"
     ]
    },
    {
     "name": "stdout",
     "output_type": "stream",
     "text": [
      "LABEL: Bag\n",
      "EPOCH 86: 2.32426 sec\n",
      "Critic loss: -0.26274\n",
      "Generator loss: -0.05798\n",
      "\n"
     ]
    },
    {
     "name": "stderr",
     "output_type": "stream",
     "text": [
      "\r",
      " 87%|████████▋ | 87.0/100 [03:40<00:32,  2.48s/it]"
     ]
    },
    {
     "name": "stdout",
     "output_type": "stream",
     "text": [
      "LABEL: Bag\n",
      "EPOCH 87: 2.32187 sec\n",
      "Critic loss: -0.21166\n",
      "Generator loss: -0.02304\n",
      "\n"
     ]
    },
    {
     "name": "stderr",
     "output_type": "stream",
     "text": [
      "\r",
      " 88%|████████▊ | 88.0/100 [03:42<00:29,  2.46s/it]"
     ]
    },
    {
     "name": "stdout",
     "output_type": "stream",
     "text": [
      "LABEL: Bag\n",
      "EPOCH 88: 2.32419 sec\n",
      "Critic loss: -0.23389\n",
      "Generator loss: 0.43173\n",
      "\n"
     ]
    },
    {
     "name": "stderr",
     "output_type": "stream",
     "text": [
      "\r",
      " 89%|████████▉ | 89.0/100 [03:45<00:26,  2.44s/it]"
     ]
    },
    {
     "name": "stdout",
     "output_type": "stream",
     "text": [
      "LABEL: Bag\n",
      "EPOCH 89: 2.32361 sec\n",
      "Critic loss: -0.23704\n",
      "Generator loss: 0.30003\n",
      "\n"
     ]
    },
    {
     "name": "stderr",
     "output_type": "stream",
     "text": [
      "\r",
      " 90%|█████████ | 90.0/100 [03:47<00:24,  2.43s/it]"
     ]
    },
    {
     "name": "stdout",
     "output_type": "stream",
     "text": [
      "LABEL: Bag\n",
      "EPOCH 90: 2.32203 sec\n",
      "Critic loss: -0.21314\n",
      "Generator loss: 0.19678\n",
      "\n"
     ]
    },
    {
     "name": "stderr",
     "output_type": "stream",
     "text": [
      "\r",
      " 91%|█████████ | 91.0/100 [03:49<00:21,  2.43s/it]"
     ]
    },
    {
     "name": "stdout",
     "output_type": "stream",
     "text": [
      "LABEL: Bag\n",
      "EPOCH 91: 2.33124 sec\n",
      "Critic loss: -0.23441\n",
      "Generator loss: 0.51931\n",
      "\n"
     ]
    },
    {
     "name": "stderr",
     "output_type": "stream",
     "text": [
      "\r",
      " 92%|█████████▏| 92.0/100 [03:52<00:19,  2.42s/it]"
     ]
    },
    {
     "name": "stdout",
     "output_type": "stream",
     "text": [
      "LABEL: Bag\n",
      "EPOCH 92: 2.32333 sec\n",
      "Critic loss: -0.23100\n",
      "Generator loss: 0.62110\n",
      "\n"
     ]
    },
    {
     "name": "stderr",
     "output_type": "stream",
     "text": [
      "\r",
      " 93%|█████████▎| 93.0/100 [03:54<00:16,  2.42s/it]"
     ]
    },
    {
     "name": "stdout",
     "output_type": "stream",
     "text": [
      "LABEL: Bag\n",
      "EPOCH 93: 2.32427 sec\n",
      "Critic loss: -0.25957\n",
      "Generator loss: 0.65522\n",
      "\n"
     ]
    },
    {
     "name": "stderr",
     "output_type": "stream",
     "text": [
      "\r",
      " 94%|█████████▍| 94.0/100 [03:57<00:14,  2.41s/it]"
     ]
    },
    {
     "name": "stdout",
     "output_type": "stream",
     "text": [
      "LABEL: Bag\n",
      "EPOCH 94: 2.32343 sec\n",
      "Critic loss: -0.21823\n",
      "Generator loss: 0.70317\n",
      "\n"
     ]
    },
    {
     "name": "stderr",
     "output_type": "stream",
     "text": [
      "\r",
      " 95%|█████████▌| 95.0/100 [03:59<00:12,  2.41s/it]"
     ]
    },
    {
     "name": "stdout",
     "output_type": "stream",
     "text": [
      "LABEL: Bag\n",
      "EPOCH 95: 2.32592 sec\n",
      "Critic loss: -0.19237\n",
      "Generator loss: 1.21555\n",
      "\n"
     ]
    },
    {
     "name": "stderr",
     "output_type": "stream",
     "text": [
      "\r",
      " 96%|█████████▌| 96.0/100 [04:01<00:09,  2.41s/it]"
     ]
    },
    {
     "name": "stdout",
     "output_type": "stream",
     "text": [
      "LABEL: Bag\n",
      "EPOCH 96: 2.32488 sec\n",
      "Critic loss: -0.16521\n",
      "Generator loss: 1.12898\n",
      "\n"
     ]
    },
    {
     "name": "stderr",
     "output_type": "stream",
     "text": [
      "\r",
      " 97%|█████████▋| 97.0/100 [04:04<00:07,  2.41s/it]"
     ]
    },
    {
     "name": "stdout",
     "output_type": "stream",
     "text": [
      "LABEL: Bag\n",
      "EPOCH 97: 2.32409 sec\n",
      "Critic loss: -0.19446\n",
      "Generator loss: 0.51638\n",
      "\n"
     ]
    },
    {
     "name": "stderr",
     "output_type": "stream",
     "text": [
      "\r",
      " 98%|█████████▊| 98.0/100 [04:06<00:04,  2.41s/it]"
     ]
    },
    {
     "name": "stdout",
     "output_type": "stream",
     "text": [
      "LABEL: Bag\n",
      "EPOCH 98: 2.32718 sec\n",
      "Critic loss: -0.25303\n",
      "Generator loss: 0.68352\n",
      "\n"
     ]
    },
    {
     "name": "stderr",
     "output_type": "stream",
     "text": [
      "\r",
      " 99%|█████████▉| 99.0/100 [04:09<00:02,  2.41s/it]"
     ]
    },
    {
     "name": "stdout",
     "output_type": "stream",
     "text": [
      "LABEL: Bag\n",
      "EPOCH 99: 2.32643 sec\n",
      "Critic loss: -0.18997\n",
      "Generator loss: 0.62592\n",
      "\n"
     ]
    },
    {
     "name": "stderr",
     "output_type": "stream",
     "text": [
      "100%|██████████| 100.0/100 [04:11<00:00,  2.52s/it]\n",
      "  0%|          | 0/100 [00:00<?, ?it/s]"
     ]
    },
    {
     "name": "stdout",
     "output_type": "stream",
     "text": [
      "LABEL: Bag\n",
      "EPOCH 100: 2.32659 sec\n",
      "Critic loss: -0.21166\n",
      "Generator loss: 0.84435\n",
      "\n",
      "----------- TRAINING TO GENERATE **Ankle boot** -----------\n"
     ]
    },
    {
     "name": "stderr",
     "output_type": "stream",
     "text": [
      "\r",
      "  1%|          | 1.0/100 [00:05<09:06,  5.52s/it]"
     ]
    },
    {
     "name": "stdout",
     "output_type": "stream",
     "text": [
      "LABEL: Ankle boot\n",
      "EPOCH 1: 5.52401 sec\n",
      "Critic loss: -2.77978\n",
      "Generator loss: -2.48608\n",
      "\n",
      "INFO:tensorflow:Assets written to: models/05-05-21_11:26:10/Ankle boot/generator/assets\n",
      "INFO:tensorflow:Assets written to: models/05-05-21_11:26:10/Ankle boot/critic/assets\n"
     ]
    },
    {
     "name": "stderr",
     "output_type": "stream",
     "text": [
      "\r",
      "  2%|▏         | 2.0/100 [00:09<07:26,  4.56s/it]"
     ]
    },
    {
     "name": "stdout",
     "output_type": "stream",
     "text": [
      "LABEL: Ankle boot\n",
      "EPOCH 2: 2.32656 sec\n",
      "Critic loss: -2.56108\n",
      "Generator loss: -1.99109\n",
      "\n"
     ]
    },
    {
     "name": "stderr",
     "output_type": "stream",
     "text": [
      "\r",
      "  3%|▎         | 3.0/100 [00:11<05:46,  3.58s/it]"
     ]
    },
    {
     "name": "stdout",
     "output_type": "stream",
     "text": [
      "LABEL: Ankle boot\n",
      "EPOCH 3: 2.32222 sec\n",
      "Critic loss: -2.33571\n",
      "Generator loss: -0.91989\n",
      "\n"
     ]
    },
    {
     "name": "stderr",
     "output_type": "stream",
     "text": [
      "\r",
      "  4%|▍         | 4.0/100 [00:14<04:58,  3.11s/it]"
     ]
    },
    {
     "name": "stdout",
     "output_type": "stream",
     "text": [
      "LABEL: Ankle boot\n",
      "EPOCH 4: 2.32054 sec\n",
      "Critic loss: -2.51840\n",
      "Generator loss: -0.48172\n",
      "\n"
     ]
    },
    {
     "name": "stderr",
     "output_type": "stream",
     "text": [
      "\r",
      "  5%|▌         | 5.0/100 [00:16<04:31,  2.86s/it]"
     ]
    },
    {
     "name": "stdout",
     "output_type": "stream",
     "text": [
      "LABEL: Ankle boot\n",
      "EPOCH 5: 2.32389 sec\n",
      "Critic loss: -2.49933\n",
      "Generator loss: -0.61188\n",
      "\n"
     ]
    },
    {
     "name": "stderr",
     "output_type": "stream",
     "text": [
      "\r",
      "  6%|▌         | 6.0/100 [00:19<04:14,  2.70s/it]"
     ]
    },
    {
     "name": "stdout",
     "output_type": "stream",
     "text": [
      "LABEL: Ankle boot\n",
      "EPOCH 6: 2.32204 sec\n",
      "Critic loss: -2.43002\n",
      "Generator loss: -1.21803\n",
      "\n"
     ]
    },
    {
     "name": "stderr",
     "output_type": "stream",
     "text": [
      "\r",
      "  7%|▋         | 7.0/100 [00:21<04:02,  2.61s/it]"
     ]
    },
    {
     "name": "stdout",
     "output_type": "stream",
     "text": [
      "LABEL: Ankle boot\n",
      "EPOCH 7: 2.32048 sec\n",
      "Critic loss: -2.44040\n",
      "Generator loss: -2.23537\n",
      "\n"
     ]
    },
    {
     "name": "stderr",
     "output_type": "stream",
     "text": [
      "\r",
      "  8%|▊         | 8.0/100 [00:23<03:53,  2.54s/it]"
     ]
    },
    {
     "name": "stdout",
     "output_type": "stream",
     "text": [
      "LABEL: Ankle boot\n",
      "EPOCH 8: 2.32550 sec\n",
      "Critic loss: -2.48332\n",
      "Generator loss: -3.24850\n",
      "\n"
     ]
    },
    {
     "name": "stderr",
     "output_type": "stream",
     "text": [
      "\r",
      "  9%|▉         | 9.0/100 [00:26<03:47,  2.50s/it]"
     ]
    },
    {
     "name": "stdout",
     "output_type": "stream",
     "text": [
      "LABEL: Ankle boot\n",
      "EPOCH 9: 2.33424 sec\n",
      "Critic loss: -2.72480\n",
      "Generator loss: -4.13939\n",
      "\n"
     ]
    },
    {
     "name": "stderr",
     "output_type": "stream",
     "text": [
      "\r",
      " 10%|█         | 10.0/100 [00:28<03:42,  2.48s/it]"
     ]
    },
    {
     "name": "stdout",
     "output_type": "stream",
     "text": [
      "LABEL: Ankle boot\n",
      "EPOCH 10: 2.33352 sec\n",
      "Critic loss: -2.48244\n",
      "Generator loss: -4.41930\n",
      "\n"
     ]
    },
    {
     "name": "stderr",
     "output_type": "stream",
     "text": [
      "\r",
      " 11%|█         | 11.0/100 [00:31<03:38,  2.46s/it]"
     ]
    },
    {
     "name": "stdout",
     "output_type": "stream",
     "text": [
      "LABEL: Ankle boot\n",
      "EPOCH 11: 2.32358 sec\n",
      "Critic loss: -2.47489\n",
      "Generator loss: -3.76274\n",
      "\n"
     ]
    },
    {
     "name": "stderr",
     "output_type": "stream",
     "text": [
      "\r",
      " 12%|█▏        | 12.0/100 [00:33<03:34,  2.44s/it]"
     ]
    },
    {
     "name": "stdout",
     "output_type": "stream",
     "text": [
      "LABEL: Ankle boot\n",
      "EPOCH 12: 2.32776 sec\n",
      "Critic loss: -2.77468\n",
      "Generator loss: -4.24917\n",
      "\n"
     ]
    },
    {
     "name": "stderr",
     "output_type": "stream",
     "text": [
      "\r",
      " 13%|█▎        | 13.0/100 [00:35<03:31,  2.43s/it]"
     ]
    },
    {
     "name": "stdout",
     "output_type": "stream",
     "text": [
      "LABEL: Ankle boot\n",
      "EPOCH 13: 2.32380 sec\n",
      "Critic loss: -2.60941\n",
      "Generator loss: -4.03589\n",
      "\n"
     ]
    },
    {
     "name": "stderr",
     "output_type": "stream",
     "text": [
      "\r",
      " 14%|█▍        | 14.0/100 [00:38<03:28,  2.42s/it]"
     ]
    },
    {
     "name": "stdout",
     "output_type": "stream",
     "text": [
      "LABEL: Ankle boot\n",
      "EPOCH 14: 2.32128 sec\n",
      "Critic loss: -2.36388\n",
      "Generator loss: -1.82505\n",
      "\n"
     ]
    },
    {
     "name": "stderr",
     "output_type": "stream",
     "text": [
      "\r",
      " 15%|█▌        | 15.0/100 [00:40<03:25,  2.42s/it]"
     ]
    },
    {
     "name": "stdout",
     "output_type": "stream",
     "text": [
      "LABEL: Ankle boot\n",
      "EPOCH 15: 2.32016 sec\n",
      "Critic loss: -1.56303\n",
      "Generator loss: 0.24783\n",
      "\n"
     ]
    },
    {
     "name": "stderr",
     "output_type": "stream",
     "text": [
      "\r",
      " 16%|█▌        | 16.0/100 [00:43<03:22,  2.41s/it]"
     ]
    },
    {
     "name": "stdout",
     "output_type": "stream",
     "text": [
      "LABEL: Ankle boot\n",
      "EPOCH 16: 2.32295 sec\n",
      "Critic loss: -0.81108\n",
      "Generator loss: -1.42137\n",
      "\n"
     ]
    },
    {
     "name": "stderr",
     "output_type": "stream",
     "text": [
      "\r",
      " 17%|█▋        | 17.0/100 [00:45<03:20,  2.41s/it]"
     ]
    },
    {
     "name": "stdout",
     "output_type": "stream",
     "text": [
      "LABEL: Ankle boot\n",
      "EPOCH 17: 2.32262 sec\n",
      "Critic loss: -0.72383\n",
      "Generator loss: -1.41517\n",
      "\n"
     ]
    },
    {
     "name": "stderr",
     "output_type": "stream",
     "text": [
      "\r",
      " 18%|█▊        | 18.0/100 [00:47<03:17,  2.41s/it]"
     ]
    },
    {
     "name": "stdout",
     "output_type": "stream",
     "text": [
      "LABEL: Ankle boot\n",
      "EPOCH 18: 2.32508 sec\n",
      "Critic loss: -0.67869\n",
      "Generator loss: -1.69161\n",
      "\n"
     ]
    },
    {
     "name": "stderr",
     "output_type": "stream",
     "text": [
      "\r",
      " 19%|█▉        | 19.0/100 [00:50<03:15,  2.41s/it]"
     ]
    },
    {
     "name": "stdout",
     "output_type": "stream",
     "text": [
      "LABEL: Ankle boot\n",
      "EPOCH 19: 2.32389 sec\n",
      "Critic loss: -0.72994\n",
      "Generator loss: 0.08286\n",
      "\n"
     ]
    },
    {
     "name": "stderr",
     "output_type": "stream",
     "text": [
      "\r",
      " 20%|██        | 20.0/100 [00:52<03:12,  2.41s/it]"
     ]
    },
    {
     "name": "stdout",
     "output_type": "stream",
     "text": [
      "LABEL: Ankle boot\n",
      "EPOCH 20: 2.32148 sec\n",
      "Critic loss: -0.77110\n",
      "Generator loss: 0.42436\n",
      "\n"
     ]
    },
    {
     "name": "stderr",
     "output_type": "stream",
     "text": [
      "\r",
      " 21%|██        | 21.0/100 [00:55<03:10,  2.41s/it]"
     ]
    },
    {
     "name": "stdout",
     "output_type": "stream",
     "text": [
      "LABEL: Ankle boot\n",
      "EPOCH 21: 2.32248 sec\n",
      "Critic loss: -0.72379\n",
      "Generator loss: 0.22375\n",
      "\n",
      "INFO:tensorflow:Assets written to: models/05-05-21_11:26:10/Ankle boot/generator/assets\n",
      "INFO:tensorflow:Assets written to: models/05-05-21_11:26:10/Ankle boot/critic/assets\n"
     ]
    },
    {
     "name": "stderr",
     "output_type": "stream",
     "text": [
      "\r",
      " 22%|██▏       | 22.0/100 [00:58<03:40,  2.83s/it]"
     ]
    },
    {
     "name": "stdout",
     "output_type": "stream",
     "text": [
      "LABEL: Ankle boot\n",
      "EPOCH 22: 2.32741 sec\n",
      "Critic loss: -0.68581\n",
      "Generator loss: 0.57126\n",
      "\n"
     ]
    },
    {
     "name": "stderr",
     "output_type": "stream",
     "text": [
      "\r",
      " 23%|██▎       | 23.0/100 [01:01<03:28,  2.70s/it]"
     ]
    },
    {
     "name": "stdout",
     "output_type": "stream",
     "text": [
      "LABEL: Ankle boot\n",
      "EPOCH 23: 2.32321 sec\n",
      "Critic loss: -0.62290\n",
      "Generator loss: 0.44328\n",
      "\n"
     ]
    },
    {
     "name": "stderr",
     "output_type": "stream",
     "text": [
      "\r",
      " 24%|██▍       | 24.0/100 [01:03<03:18,  2.61s/it]"
     ]
    },
    {
     "name": "stdout",
     "output_type": "stream",
     "text": [
      "LABEL: Ankle boot\n",
      "EPOCH 24: 2.32203 sec\n",
      "Critic loss: -0.79815\n",
      "Generator loss: 0.24224\n",
      "\n"
     ]
    },
    {
     "name": "stderr",
     "output_type": "stream",
     "text": [
      "\r",
      " 25%|██▌       | 25.0/100 [01:06<03:11,  2.55s/it]"
     ]
    },
    {
     "name": "stdout",
     "output_type": "stream",
     "text": [
      "LABEL: Ankle boot\n",
      "EPOCH 25: 2.32489 sec\n",
      "Critic loss: -0.56243\n",
      "Generator loss: 0.79040\n",
      "\n"
     ]
    },
    {
     "name": "stderr",
     "output_type": "stream",
     "text": [
      "\r",
      " 26%|██▌       | 26.0/100 [01:08<03:05,  2.51s/it]"
     ]
    },
    {
     "name": "stdout",
     "output_type": "stream",
     "text": [
      "LABEL: Ankle boot\n",
      "EPOCH 26: 2.32399 sec\n",
      "Critic loss: -0.32133\n",
      "Generator loss: 0.45884\n",
      "\n"
     ]
    },
    {
     "name": "stderr",
     "output_type": "stream",
     "text": [
      "\r",
      " 27%|██▋       | 27.0/100 [01:10<03:00,  2.48s/it]"
     ]
    },
    {
     "name": "stdout",
     "output_type": "stream",
     "text": [
      "LABEL: Ankle boot\n",
      "EPOCH 27: 2.32255 sec\n",
      "Critic loss: -0.43747\n",
      "Generator loss: -0.26181\n",
      "\n"
     ]
    },
    {
     "name": "stderr",
     "output_type": "stream",
     "text": [
      "\r",
      " 28%|██▊       | 28.0/100 [01:13<02:56,  2.46s/it]"
     ]
    },
    {
     "name": "stdout",
     "output_type": "stream",
     "text": [
      "LABEL: Ankle boot\n",
      "EPOCH 28: 2.32438 sec\n",
      "Critic loss: -0.54946\n",
      "Generator loss: -0.66109\n",
      "\n"
     ]
    },
    {
     "name": "stderr",
     "output_type": "stream",
     "text": [
      "\r",
      " 29%|██▉       | 29.0/100 [01:15<02:53,  2.44s/it]"
     ]
    },
    {
     "name": "stdout",
     "output_type": "stream",
     "text": [
      "LABEL: Ankle boot\n",
      "EPOCH 29: 2.32392 sec\n",
      "Critic loss: -0.46579\n",
      "Generator loss: -1.39869\n",
      "\n"
     ]
    },
    {
     "name": "stderr",
     "output_type": "stream",
     "text": [
      "\r",
      " 30%|███       | 30.0/100 [01:18<02:50,  2.43s/it]"
     ]
    },
    {
     "name": "stdout",
     "output_type": "stream",
     "text": [
      "LABEL: Ankle boot\n",
      "EPOCH 30: 2.32308 sec\n",
      "Critic loss: -0.38998\n",
      "Generator loss: -1.78847\n",
      "\n"
     ]
    },
    {
     "name": "stderr",
     "output_type": "stream",
     "text": [
      "\r",
      " 31%|███       | 31.0/100 [01:20<02:47,  2.42s/it]"
     ]
    },
    {
     "name": "stdout",
     "output_type": "stream",
     "text": [
      "LABEL: Ankle boot\n",
      "EPOCH 31: 2.32399 sec\n",
      "Critic loss: -0.33352\n",
      "Generator loss: -2.27182\n",
      "\n"
     ]
    },
    {
     "name": "stderr",
     "output_type": "stream",
     "text": [
      "\r",
      " 32%|███▏      | 32.0/100 [01:23<02:44,  2.42s/it]"
     ]
    },
    {
     "name": "stdout",
     "output_type": "stream",
     "text": [
      "LABEL: Ankle boot\n",
      "EPOCH 32: 2.32776 sec\n",
      "Critic loss: -0.38201\n",
      "Generator loss: -2.94367\n",
      "\n"
     ]
    },
    {
     "name": "stderr",
     "output_type": "stream",
     "text": [
      "\r",
      " 33%|███▎      | 33.0/100 [01:25<02:42,  2.42s/it]"
     ]
    },
    {
     "name": "stdout",
     "output_type": "stream",
     "text": [
      "LABEL: Ankle boot\n",
      "EPOCH 33: 2.33038 sec\n",
      "Critic loss: -0.38092\n",
      "Generator loss: -3.22260\n",
      "\n"
     ]
    },
    {
     "name": "stderr",
     "output_type": "stream",
     "text": [
      "\r",
      " 34%|███▍      | 34.0/100 [01:27<02:39,  2.41s/it]"
     ]
    },
    {
     "name": "stdout",
     "output_type": "stream",
     "text": [
      "LABEL: Ankle boot\n",
      "EPOCH 34: 2.32392 sec\n",
      "Critic loss: -0.36529\n",
      "Generator loss: -3.46161\n",
      "\n"
     ]
    },
    {
     "name": "stderr",
     "output_type": "stream",
     "text": [
      "\r",
      " 35%|███▌      | 35.0/100 [01:30<02:36,  2.41s/it]"
     ]
    },
    {
     "name": "stdout",
     "output_type": "stream",
     "text": [
      "LABEL: Ankle boot\n",
      "EPOCH 35: 2.32199 sec\n",
      "Critic loss: -0.37390\n",
      "Generator loss: -3.90491\n",
      "\n"
     ]
    },
    {
     "name": "stderr",
     "output_type": "stream",
     "text": [
      "\r",
      " 36%|███▌      | 36.0/100 [01:32<02:34,  2.41s/it]"
     ]
    },
    {
     "name": "stdout",
     "output_type": "stream",
     "text": [
      "LABEL: Ankle boot\n",
      "EPOCH 36: 2.32455 sec\n",
      "Critic loss: -0.35296\n",
      "Generator loss: -4.28887\n",
      "\n"
     ]
    },
    {
     "name": "stderr",
     "output_type": "stream",
     "text": [
      "\r",
      " 37%|███▋      | 37.0/100 [01:35<02:31,  2.41s/it]"
     ]
    },
    {
     "name": "stdout",
     "output_type": "stream",
     "text": [
      "LABEL: Ankle boot\n",
      "EPOCH 37: 2.32208 sec\n",
      "Critic loss: -0.34444\n",
      "Generator loss: -4.45063\n",
      "\n"
     ]
    },
    {
     "name": "stderr",
     "output_type": "stream",
     "text": [
      "\r",
      " 38%|███▊      | 38.0/100 [01:37<02:29,  2.41s/it]"
     ]
    },
    {
     "name": "stdout",
     "output_type": "stream",
     "text": [
      "LABEL: Ankle boot\n",
      "EPOCH 38: 2.32349 sec\n",
      "Critic loss: -0.28290\n",
      "Generator loss: -4.56361\n",
      "\n"
     ]
    },
    {
     "name": "stderr",
     "output_type": "stream",
     "text": [
      "\r",
      " 39%|███▉      | 39.0/100 [01:39<02:26,  2.41s/it]"
     ]
    },
    {
     "name": "stdout",
     "output_type": "stream",
     "text": [
      "LABEL: Ankle boot\n",
      "EPOCH 39: 2.32551 sec\n",
      "Critic loss: -0.28724\n",
      "Generator loss: -4.80089\n",
      "\n"
     ]
    },
    {
     "name": "stderr",
     "output_type": "stream",
     "text": [
      "\r",
      " 40%|████      | 40.0/100 [01:42<02:24,  2.41s/it]"
     ]
    },
    {
     "name": "stdout",
     "output_type": "stream",
     "text": [
      "LABEL: Ankle boot\n",
      "EPOCH 40: 2.32388 sec\n",
      "Critic loss: -0.28583\n",
      "Generator loss: -5.40302\n",
      "\n"
     ]
    },
    {
     "name": "stderr",
     "output_type": "stream",
     "text": [
      "\r",
      " 41%|████      | 41.0/100 [01:44<02:22,  2.41s/it]"
     ]
    },
    {
     "name": "stdout",
     "output_type": "stream",
     "text": [
      "LABEL: Ankle boot\n",
      "EPOCH 41: 2.32380 sec\n",
      "Critic loss: -0.24588\n",
      "Generator loss: -5.51565\n",
      "\n",
      "INFO:tensorflow:Assets written to: models/05-05-21_11:26:10/Ankle boot/generator/assets\n",
      "INFO:tensorflow:Assets written to: models/05-05-21_11:26:10/Ankle boot/critic/assets\n"
     ]
    },
    {
     "name": "stderr",
     "output_type": "stream",
     "text": [
      "\r",
      " 42%|████▏     | 42.0/100 [01:48<02:45,  2.85s/it]"
     ]
    },
    {
     "name": "stdout",
     "output_type": "stream",
     "text": [
      "LABEL: Ankle boot\n",
      "EPOCH 42: 2.32795 sec\n",
      "Critic loss: -0.32297\n",
      "Generator loss: -5.57029\n",
      "\n"
     ]
    },
    {
     "name": "stderr",
     "output_type": "stream",
     "text": [
      "\r",
      " 43%|████▎     | 43.0/100 [01:50<02:34,  2.72s/it]"
     ]
    },
    {
     "name": "stdout",
     "output_type": "stream",
     "text": [
      "LABEL: Ankle boot\n",
      "EPOCH 43: 2.32300 sec\n",
      "Critic loss: -0.27918\n",
      "Generator loss: -5.85831\n",
      "\n"
     ]
    },
    {
     "name": "stderr",
     "output_type": "stream",
     "text": [
      "\r",
      " 44%|████▍     | 44.0/100 [01:53<02:26,  2.62s/it]"
     ]
    },
    {
     "name": "stdout",
     "output_type": "stream",
     "text": [
      "LABEL: Ankle boot\n",
      "EPOCH 44: 2.32338 sec\n",
      "Critic loss: -0.29804\n",
      "Generator loss: -5.92362\n",
      "\n"
     ]
    },
    {
     "name": "stderr",
     "output_type": "stream",
     "text": [
      "\r",
      " 45%|████▌     | 45.0/100 [01:55<02:20,  2.56s/it]"
     ]
    },
    {
     "name": "stdout",
     "output_type": "stream",
     "text": [
      "LABEL: Ankle boot\n",
      "EPOCH 45: 2.32472 sec\n",
      "Critic loss: -0.23207\n",
      "Generator loss: -5.85417\n",
      "\n"
     ]
    },
    {
     "name": "stderr",
     "output_type": "stream",
     "text": [
      "\r",
      " 46%|████▌     | 46.0/100 [01:58<02:15,  2.51s/it]"
     ]
    },
    {
     "name": "stdout",
     "output_type": "stream",
     "text": [
      "LABEL: Ankle boot\n",
      "EPOCH 46: 2.32476 sec\n",
      "Critic loss: -0.26772\n",
      "Generator loss: -6.54292\n",
      "\n"
     ]
    },
    {
     "name": "stderr",
     "output_type": "stream",
     "text": [
      "\r",
      " 47%|████▋     | 47.0/100 [02:00<02:11,  2.48s/it]"
     ]
    },
    {
     "name": "stdout",
     "output_type": "stream",
     "text": [
      "LABEL: Ankle boot\n",
      "EPOCH 47: 2.32414 sec\n",
      "Critic loss: -0.24759\n",
      "Generator loss: -6.64926\n",
      "\n"
     ]
    },
    {
     "name": "stderr",
     "output_type": "stream",
     "text": [
      "\r",
      " 48%|████▊     | 48.0/100 [02:03<02:08,  2.46s/it]"
     ]
    },
    {
     "name": "stdout",
     "output_type": "stream",
     "text": [
      "LABEL: Ankle boot\n",
      "EPOCH 48: 2.33238 sec\n",
      "Critic loss: -0.27448\n",
      "Generator loss: -6.59120\n",
      "\n"
     ]
    },
    {
     "name": "stderr",
     "output_type": "stream",
     "text": [
      "\r",
      " 49%|████▉     | 49.0/100 [02:05<02:04,  2.44s/it]"
     ]
    },
    {
     "name": "stdout",
     "output_type": "stream",
     "text": [
      "LABEL: Ankle boot\n",
      "EPOCH 49: 2.32326 sec\n",
      "Critic loss: -0.30046\n",
      "Generator loss: -6.88319\n",
      "\n"
     ]
    },
    {
     "name": "stderr",
     "output_type": "stream",
     "text": [
      "\r",
      " 50%|█████     | 50.0/100 [02:07<02:01,  2.43s/it]"
     ]
    },
    {
     "name": "stdout",
     "output_type": "stream",
     "text": [
      "LABEL: Ankle boot\n",
      "EPOCH 50: 2.32367 sec\n",
      "Critic loss: -0.25845\n",
      "Generator loss: -7.00063\n",
      "\n"
     ]
    },
    {
     "name": "stderr",
     "output_type": "stream",
     "text": [
      "\r",
      " 51%|█████     | 51.0/100 [02:10<01:58,  2.43s/it]"
     ]
    },
    {
     "name": "stdout",
     "output_type": "stream",
     "text": [
      "LABEL: Ankle boot\n",
      "EPOCH 51: 2.32343 sec\n",
      "Critic loss: -0.31067\n",
      "Generator loss: -6.99870\n",
      "\n"
     ]
    },
    {
     "name": "stderr",
     "output_type": "stream",
     "text": [
      "\r",
      " 52%|█████▏    | 52.0/100 [02:12<01:56,  2.42s/it]"
     ]
    },
    {
     "name": "stdout",
     "output_type": "stream",
     "text": [
      "LABEL: Ankle boot\n",
      "EPOCH 52: 2.32138 sec\n",
      "Critic loss: -0.25942\n",
      "Generator loss: -6.85980\n",
      "\n"
     ]
    },
    {
     "name": "stderr",
     "output_type": "stream",
     "text": [
      "\r",
      " 53%|█████▎    | 53.0/100 [02:15<01:53,  2.42s/it]"
     ]
    },
    {
     "name": "stdout",
     "output_type": "stream",
     "text": [
      "LABEL: Ankle boot\n",
      "EPOCH 53: 2.32116 sec\n",
      "Critic loss: -0.27218\n",
      "Generator loss: -7.38464\n",
      "\n"
     ]
    },
    {
     "name": "stderr",
     "output_type": "stream",
     "text": [
      "\r",
      " 54%|█████▍    | 54.0/100 [02:17<01:51,  2.41s/it]"
     ]
    },
    {
     "name": "stdout",
     "output_type": "stream",
     "text": [
      "LABEL: Ankle boot\n",
      "EPOCH 54: 2.32967 sec\n",
      "Critic loss: -0.28951\n",
      "Generator loss: -6.03845\n",
      "\n"
     ]
    },
    {
     "name": "stderr",
     "output_type": "stream",
     "text": [
      "\r",
      " 55%|█████▌    | 55.0/100 [02:19<01:48,  2.41s/it]"
     ]
    },
    {
     "name": "stdout",
     "output_type": "stream",
     "text": [
      "LABEL: Ankle boot\n",
      "EPOCH 55: 2.32171 sec\n",
      "Critic loss: -0.24605\n",
      "Generator loss: -6.30126\n",
      "\n"
     ]
    },
    {
     "name": "stderr",
     "output_type": "stream",
     "text": [
      "\r",
      " 56%|█████▌    | 56.0/100 [02:22<01:46,  2.41s/it]"
     ]
    },
    {
     "name": "stdout",
     "output_type": "stream",
     "text": [
      "LABEL: Ankle boot\n",
      "EPOCH 56: 2.32635 sec\n",
      "Critic loss: -0.22197\n",
      "Generator loss: -6.39676\n",
      "\n"
     ]
    },
    {
     "name": "stderr",
     "output_type": "stream",
     "text": [
      "\r",
      " 57%|█████▋    | 57.0/100 [02:24<01:43,  2.41s/it]"
     ]
    },
    {
     "name": "stdout",
     "output_type": "stream",
     "text": [
      "LABEL: Ankle boot\n",
      "EPOCH 57: 2.32822 sec\n",
      "Critic loss: -0.20314\n",
      "Generator loss: -6.08420\n",
      "\n"
     ]
    },
    {
     "name": "stderr",
     "output_type": "stream",
     "text": [
      "\r",
      " 58%|█████▊    | 58.0/100 [02:27<01:41,  2.41s/it]"
     ]
    },
    {
     "name": "stdout",
     "output_type": "stream",
     "text": [
      "LABEL: Ankle boot\n",
      "EPOCH 58: 2.33604 sec\n",
      "Critic loss: -0.14261\n",
      "Generator loss: -5.71019\n",
      "\n"
     ]
    },
    {
     "name": "stderr",
     "output_type": "stream",
     "text": [
      "\r",
      " 59%|█████▉    | 59.0/100 [02:29<01:39,  2.42s/it]"
     ]
    },
    {
     "name": "stdout",
     "output_type": "stream",
     "text": [
      "LABEL: Ankle boot\n",
      "EPOCH 59: 2.33549 sec\n",
      "Critic loss: -0.18866\n",
      "Generator loss: -5.80453\n",
      "\n"
     ]
    },
    {
     "name": "stderr",
     "output_type": "stream",
     "text": [
      "\r",
      " 60%|██████    | 60.0/100 [02:31<01:36,  2.41s/it]"
     ]
    },
    {
     "name": "stdout",
     "output_type": "stream",
     "text": [
      "LABEL: Ankle boot\n",
      "EPOCH 60: 2.32194 sec\n",
      "Critic loss: -0.23293\n",
      "Generator loss: -5.47342\n",
      "\n"
     ]
    },
    {
     "name": "stderr",
     "output_type": "stream",
     "text": [
      "\r",
      " 61%|██████    | 61.0/100 [02:34<01:34,  2.41s/it]"
     ]
    },
    {
     "name": "stdout",
     "output_type": "stream",
     "text": [
      "LABEL: Ankle boot\n",
      "EPOCH 61: 2.32387 sec\n",
      "Critic loss: -0.23435\n",
      "Generator loss: -5.41466\n",
      "\n",
      "INFO:tensorflow:Assets written to: models/05-05-21_11:26:10/Ankle boot/generator/assets\n",
      "INFO:tensorflow:Assets written to: models/05-05-21_11:26:10/Ankle boot/critic/assets\n"
     ]
    },
    {
     "name": "stderr",
     "output_type": "stream",
     "text": [
      "\r",
      " 62%|██████▏   | 62.0/100 [02:38<01:47,  2.84s/it]"
     ]
    },
    {
     "name": "stdout",
     "output_type": "stream",
     "text": [
      "LABEL: Ankle boot\n",
      "EPOCH 62: 2.33020 sec\n",
      "Critic loss: -0.16424\n",
      "Generator loss: -4.83161\n",
      "\n"
     ]
    },
    {
     "name": "stderr",
     "output_type": "stream",
     "text": [
      "\r",
      " 63%|██████▎   | 63.0/100 [02:40<01:40,  2.71s/it]"
     ]
    },
    {
     "name": "stdout",
     "output_type": "stream",
     "text": [
      "LABEL: Ankle boot\n",
      "EPOCH 63: 2.32466 sec\n",
      "Critic loss: -0.19690\n",
      "Generator loss: -4.56525\n",
      "\n"
     ]
    },
    {
     "name": "stderr",
     "output_type": "stream",
     "text": [
      "\r",
      " 64%|██████▍   | 64.0/100 [02:43<01:34,  2.62s/it]"
     ]
    },
    {
     "name": "stdout",
     "output_type": "stream",
     "text": [
      "LABEL: Ankle boot\n",
      "EPOCH 64: 2.32561 sec\n",
      "Critic loss: -0.20757\n",
      "Generator loss: -4.55613\n",
      "\n"
     ]
    },
    {
     "name": "stderr",
     "output_type": "stream",
     "text": [
      "\r",
      " 65%|██████▌   | 65.0/100 [02:45<01:29,  2.56s/it]"
     ]
    },
    {
     "name": "stdout",
     "output_type": "stream",
     "text": [
      "LABEL: Ankle boot\n",
      "EPOCH 65: 2.32049 sec\n",
      "Critic loss: -0.16176\n",
      "Generator loss: -4.00135\n",
      "\n"
     ]
    },
    {
     "name": "stderr",
     "output_type": "stream",
     "text": [
      "\r",
      " 66%|██████▌   | 66.0/100 [02:47<01:25,  2.51s/it]"
     ]
    },
    {
     "name": "stdout",
     "output_type": "stream",
     "text": [
      "LABEL: Ankle boot\n",
      "EPOCH 66: 2.32282 sec\n",
      "Critic loss: -0.21479\n",
      "Generator loss: -3.72185\n",
      "\n"
     ]
    },
    {
     "name": "stderr",
     "output_type": "stream",
     "text": [
      "\r",
      " 67%|██████▋   | 67.0/100 [02:50<01:21,  2.48s/it]"
     ]
    },
    {
     "name": "stdout",
     "output_type": "stream",
     "text": [
      "LABEL: Ankle boot\n",
      "EPOCH 67: 2.32520 sec\n",
      "Critic loss: -0.15300\n",
      "Generator loss: -3.43587\n",
      "\n"
     ]
    },
    {
     "name": "stderr",
     "output_type": "stream",
     "text": [
      "\r",
      " 68%|██████▊   | 68.0/100 [02:52<01:18,  2.46s/it]"
     ]
    },
    {
     "name": "stdout",
     "output_type": "stream",
     "text": [
      "LABEL: Ankle boot\n",
      "EPOCH 68: 2.32435 sec\n",
      "Critic loss: -0.23116\n",
      "Generator loss: -3.20277\n",
      "\n"
     ]
    },
    {
     "name": "stderr",
     "output_type": "stream",
     "text": [
      "\r",
      " 69%|██████▉   | 69.0/100 [02:55<01:15,  2.44s/it]"
     ]
    },
    {
     "name": "stdout",
     "output_type": "stream",
     "text": [
      "LABEL: Ankle boot\n",
      "EPOCH 69: 2.32342 sec\n",
      "Critic loss: -0.17278\n",
      "Generator loss: -3.36368\n",
      "\n"
     ]
    },
    {
     "name": "stderr",
     "output_type": "stream",
     "text": [
      "\r",
      " 70%|███████   | 70.0/100 [02:57<01:12,  2.43s/it]"
     ]
    },
    {
     "name": "stdout",
     "output_type": "stream",
     "text": [
      "LABEL: Ankle boot\n",
      "EPOCH 70: 2.32374 sec\n",
      "Critic loss: -0.23116\n",
      "Generator loss: -3.37231\n",
      "\n"
     ]
    },
    {
     "name": "stderr",
     "output_type": "stream",
     "text": [
      "\r",
      " 71%|███████   | 71.0/100 [02:59<01:10,  2.43s/it]"
     ]
    },
    {
     "name": "stdout",
     "output_type": "stream",
     "text": [
      "LABEL: Ankle boot\n",
      "EPOCH 71: 2.32981 sec\n",
      "Critic loss: -0.15230\n",
      "Generator loss: -2.77458\n",
      "\n"
     ]
    },
    {
     "name": "stderr",
     "output_type": "stream",
     "text": [
      "\r",
      " 72%|███████▏  | 72.0/100 [03:02<01:07,  2.42s/it]"
     ]
    },
    {
     "name": "stdout",
     "output_type": "stream",
     "text": [
      "LABEL: Ankle boot\n",
      "EPOCH 72: 2.32151 sec\n",
      "Critic loss: -0.16316\n",
      "Generator loss: -2.54771\n",
      "\n"
     ]
    },
    {
     "name": "stderr",
     "output_type": "stream",
     "text": [
      "\r",
      " 73%|███████▎  | 73.0/100 [03:04<01:05,  2.42s/it]"
     ]
    },
    {
     "name": "stdout",
     "output_type": "stream",
     "text": [
      "LABEL: Ankle boot\n",
      "EPOCH 73: 2.32147 sec\n",
      "Critic loss: -0.17235\n",
      "Generator loss: -2.81913\n",
      "\n"
     ]
    },
    {
     "name": "stderr",
     "output_type": "stream",
     "text": [
      "\r",
      " 74%|███████▍  | 74.0/100 [03:07<01:02,  2.41s/it]"
     ]
    },
    {
     "name": "stdout",
     "output_type": "stream",
     "text": [
      "LABEL: Ankle boot\n",
      "EPOCH 74: 2.32540 sec\n",
      "Critic loss: -0.15399\n",
      "Generator loss: -2.66045\n",
      "\n"
     ]
    },
    {
     "name": "stderr",
     "output_type": "stream",
     "text": [
      "\r",
      " 75%|███████▌  | 75.0/100 [03:09<01:00,  2.41s/it]"
     ]
    },
    {
     "name": "stdout",
     "output_type": "stream",
     "text": [
      "LABEL: Ankle boot\n",
      "EPOCH 75: 2.32310 sec\n",
      "Critic loss: -0.11113\n",
      "Generator loss: -2.37114\n",
      "\n"
     ]
    },
    {
     "name": "stderr",
     "output_type": "stream",
     "text": [
      "\r",
      " 76%|███████▌  | 76.0/100 [03:11<00:57,  2.41s/it]"
     ]
    },
    {
     "name": "stdout",
     "output_type": "stream",
     "text": [
      "LABEL: Ankle boot\n",
      "EPOCH 76: 2.32412 sec\n",
      "Critic loss: -0.21459\n",
      "Generator loss: -1.91555\n",
      "\n"
     ]
    },
    {
     "name": "stderr",
     "output_type": "stream",
     "text": [
      "\r",
      " 77%|███████▋  | 77.0/100 [03:14<00:55,  2.41s/it]"
     ]
    },
    {
     "name": "stdout",
     "output_type": "stream",
     "text": [
      "LABEL: Ankle boot\n",
      "EPOCH 77: 2.33432 sec\n",
      "Critic loss: -0.14106\n",
      "Generator loss: -2.07679\n",
      "\n"
     ]
    },
    {
     "name": "stderr",
     "output_type": "stream",
     "text": [
      "\r",
      " 78%|███████▊  | 78.0/100 [03:16<00:53,  2.41s/it]"
     ]
    },
    {
     "name": "stdout",
     "output_type": "stream",
     "text": [
      "LABEL: Ankle boot\n",
      "EPOCH 78: 2.32356 sec\n",
      "Critic loss: -0.15051\n",
      "Generator loss: -2.06061\n",
      "\n"
     ]
    },
    {
     "name": "stderr",
     "output_type": "stream",
     "text": [
      "\r",
      " 79%|███████▉  | 79.0/100 [03:19<00:50,  2.41s/it]"
     ]
    },
    {
     "name": "stdout",
     "output_type": "stream",
     "text": [
      "LABEL: Ankle boot\n",
      "EPOCH 79: 2.32312 sec\n",
      "Critic loss: -0.15181\n",
      "Generator loss: -1.73637\n",
      "\n"
     ]
    },
    {
     "name": "stderr",
     "output_type": "stream",
     "text": [
      "\r",
      " 80%|████████  | 80.0/100 [03:21<00:48,  2.41s/it]"
     ]
    },
    {
     "name": "stdout",
     "output_type": "stream",
     "text": [
      "LABEL: Ankle boot\n",
      "EPOCH 80: 2.32737 sec\n",
      "Critic loss: -0.16439\n",
      "Generator loss: -2.06642\n",
      "\n"
     ]
    },
    {
     "name": "stderr",
     "output_type": "stream",
     "text": [
      "\r",
      " 81%|████████  | 81.0/100 [03:23<00:45,  2.41s/it]"
     ]
    },
    {
     "name": "stdout",
     "output_type": "stream",
     "text": [
      "LABEL: Ankle boot\n",
      "EPOCH 81: 2.32320 sec\n",
      "Critic loss: -0.09450\n",
      "Generator loss: -1.54718\n",
      "\n",
      "INFO:tensorflow:Assets written to: models/05-05-21_11:26:10/Ankle boot/generator/assets\n",
      "INFO:tensorflow:Assets written to: models/05-05-21_11:26:10/Ankle boot/critic/assets\n"
     ]
    },
    {
     "name": "stderr",
     "output_type": "stream",
     "text": [
      "\r",
      " 82%|████████▏ | 82.0/100 [03:27<00:51,  2.86s/it]"
     ]
    },
    {
     "name": "stdout",
     "output_type": "stream",
     "text": [
      "LABEL: Ankle boot\n",
      "EPOCH 82: 2.32524 sec\n",
      "Critic loss: -0.11735\n",
      "Generator loss: -1.97811\n",
      "\n"
     ]
    },
    {
     "name": "stderr",
     "output_type": "stream",
     "text": [
      "\r",
      " 83%|████████▎ | 83.0/100 [03:30<00:46,  2.72s/it]"
     ]
    },
    {
     "name": "stdout",
     "output_type": "stream",
     "text": [
      "LABEL: Ankle boot\n",
      "EPOCH 83: 2.32636 sec\n",
      "Critic loss: -0.15120\n",
      "Generator loss: -1.59132\n",
      "\n"
     ]
    },
    {
     "name": "stderr",
     "output_type": "stream",
     "text": [
      "\r",
      " 84%|████████▍ | 84.0/100 [03:32<00:42,  2.63s/it]"
     ]
    },
    {
     "name": "stdout",
     "output_type": "stream",
     "text": [
      "LABEL: Ankle boot\n",
      "EPOCH 84: 2.32215 sec\n",
      "Critic loss: -0.11928\n",
      "Generator loss: -1.61294\n",
      "\n"
     ]
    },
    {
     "name": "stderr",
     "output_type": "stream",
     "text": [
      "\r",
      " 85%|████████▌ | 85.0/100 [03:35<00:38,  2.56s/it]"
     ]
    },
    {
     "name": "stdout",
     "output_type": "stream",
     "text": [
      "LABEL: Ankle boot\n",
      "EPOCH 85: 2.32459 sec\n",
      "Critic loss: -0.18039\n",
      "Generator loss: -1.59061\n",
      "\n"
     ]
    },
    {
     "name": "stderr",
     "output_type": "stream",
     "text": [
      "\r",
      " 86%|████████▌ | 86.0/100 [03:37<00:35,  2.51s/it]"
     ]
    },
    {
     "name": "stdout",
     "output_type": "stream",
     "text": [
      "LABEL: Ankle boot\n",
      "EPOCH 86: 2.32118 sec\n",
      "Critic loss: -0.10864\n",
      "Generator loss: -1.32381\n",
      "\n"
     ]
    },
    {
     "name": "stderr",
     "output_type": "stream",
     "text": [
      "\r",
      " 87%|████████▋ | 87.0/100 [03:39<00:32,  2.48s/it]"
     ]
    },
    {
     "name": "stdout",
     "output_type": "stream",
     "text": [
      "LABEL: Ankle boot\n",
      "EPOCH 87: 2.32331 sec\n",
      "Critic loss: -0.20470\n",
      "Generator loss: -1.16367\n",
      "\n"
     ]
    },
    {
     "name": "stderr",
     "output_type": "stream",
     "text": [
      "\r",
      " 88%|████████▊ | 88.0/100 [03:42<00:29,  2.46s/it]"
     ]
    },
    {
     "name": "stdout",
     "output_type": "stream",
     "text": [
      "LABEL: Ankle boot\n",
      "EPOCH 88: 2.32612 sec\n",
      "Critic loss: -0.10639\n",
      "Generator loss: -1.54215\n",
      "\n"
     ]
    },
    {
     "name": "stderr",
     "output_type": "stream",
     "text": [
      "\r",
      " 89%|████████▉ | 89.0/100 [03:44<00:26,  2.44s/it]"
     ]
    },
    {
     "name": "stdout",
     "output_type": "stream",
     "text": [
      "LABEL: Ankle boot\n",
      "EPOCH 89: 2.32745 sec\n",
      "Critic loss: -0.11042\n",
      "Generator loss: -1.14884\n",
      "\n"
     ]
    },
    {
     "name": "stderr",
     "output_type": "stream",
     "text": [
      "\r",
      " 90%|█████████ | 90.0/100 [03:47<00:24,  2.43s/it]"
     ]
    },
    {
     "name": "stdout",
     "output_type": "stream",
     "text": [
      "LABEL: Ankle boot\n",
      "EPOCH 90: 2.32527 sec\n",
      "Critic loss: -0.14491\n",
      "Generator loss: -0.57632\n",
      "\n"
     ]
    },
    {
     "name": "stderr",
     "output_type": "stream",
     "text": [
      "\r",
      " 91%|█████████ | 91.0/100 [03:49<00:21,  2.43s/it]"
     ]
    },
    {
     "name": "stdout",
     "output_type": "stream",
     "text": [
      "LABEL: Ankle boot\n",
      "EPOCH 91: 2.33132 sec\n",
      "Critic loss: -0.13066\n",
      "Generator loss: -0.99623\n",
      "\n"
     ]
    },
    {
     "name": "stderr",
     "output_type": "stream",
     "text": [
      "\r",
      " 92%|█████████▏| 92.0/100 [03:51<00:19,  2.42s/it]"
     ]
    },
    {
     "name": "stdout",
     "output_type": "stream",
     "text": [
      "LABEL: Ankle boot\n",
      "EPOCH 92: 2.32332 sec\n",
      "Critic loss: -0.10881\n",
      "Generator loss: -1.05092\n",
      "\n"
     ]
    },
    {
     "name": "stderr",
     "output_type": "stream",
     "text": [
      "\r",
      " 93%|█████████▎| 93.0/100 [03:54<00:16,  2.42s/it]"
     ]
    },
    {
     "name": "stdout",
     "output_type": "stream",
     "text": [
      "LABEL: Ankle boot\n",
      "EPOCH 93: 2.32505 sec\n",
      "Critic loss: -0.13952\n",
      "Generator loss: -1.18535\n",
      "\n"
     ]
    },
    {
     "name": "stderr",
     "output_type": "stream",
     "text": [
      "\r",
      " 94%|█████████▍| 94.0/100 [03:56<00:14,  2.41s/it]"
     ]
    },
    {
     "name": "stdout",
     "output_type": "stream",
     "text": [
      "LABEL: Ankle boot\n",
      "EPOCH 94: 2.32413 sec\n",
      "Critic loss: -0.13132\n",
      "Generator loss: -0.98269\n",
      "\n"
     ]
    },
    {
     "name": "stderr",
     "output_type": "stream",
     "text": [
      "\r",
      " 95%|█████████▌| 95.0/100 [03:59<00:12,  2.41s/it]"
     ]
    },
    {
     "name": "stdout",
     "output_type": "stream",
     "text": [
      "LABEL: Ankle boot\n",
      "EPOCH 95: 2.32464 sec\n",
      "Critic loss: -0.12234\n",
      "Generator loss: -1.06667\n",
      "\n"
     ]
    },
    {
     "name": "stderr",
     "output_type": "stream",
     "text": [
      "\r",
      " 96%|█████████▌| 96.0/100 [04:01<00:09,  2.41s/it]"
     ]
    },
    {
     "name": "stdout",
     "output_type": "stream",
     "text": [
      "LABEL: Ankle boot\n",
      "EPOCH 96: 2.32326 sec\n",
      "Critic loss: -0.13742\n",
      "Generator loss: -1.31424\n",
      "\n"
     ]
    },
    {
     "name": "stderr",
     "output_type": "stream",
     "text": [
      "\r",
      " 97%|█████████▋| 97.0/100 [04:03<00:07,  2.41s/it]"
     ]
    },
    {
     "name": "stdout",
     "output_type": "stream",
     "text": [
      "LABEL: Ankle boot\n",
      "EPOCH 97: 2.32609 sec\n",
      "Critic loss: -0.12531\n",
      "Generator loss: -0.85141\n",
      "\n"
     ]
    },
    {
     "name": "stderr",
     "output_type": "stream",
     "text": [
      "\r",
      " 98%|█████████▊| 98.0/100 [04:06<00:04,  2.41s/it]"
     ]
    },
    {
     "name": "stdout",
     "output_type": "stream",
     "text": [
      "LABEL: Ankle boot\n",
      "EPOCH 98: 2.32358 sec\n",
      "Critic loss: -0.14843\n",
      "Generator loss: -1.02451\n",
      "\n"
     ]
    },
    {
     "name": "stderr",
     "output_type": "stream",
     "text": [
      "\r",
      " 99%|█████████▉| 99.0/100 [04:08<00:02,  2.41s/it]"
     ]
    },
    {
     "name": "stdout",
     "output_type": "stream",
     "text": [
      "LABEL: Ankle boot\n",
      "EPOCH 99: 2.32423 sec\n",
      "Critic loss: -0.14568\n",
      "Generator loss: -1.06682\n",
      "\n"
     ]
    },
    {
     "name": "stderr",
     "output_type": "stream",
     "text": [
      "100%|██████████| 100.0/100 [04:11<00:00,  2.51s/it]"
     ]
    },
    {
     "name": "stdout",
     "output_type": "stream",
     "text": [
      "LABEL: Ankle boot\n",
      "EPOCH 100: 2.32520 sec\n",
      "Critic loss: -0.11990\n",
      "Generator loss: -0.85194\n",
      "\n"
     ]
    },
    {
     "name": "stderr",
     "output_type": "stream",
     "text": [
      "\n"
     ]
    }
   ],
   "source": [
    "lm = False\n",
    "si = True\n",
    "sm = True\n",
    "C_losses, G_losses, critic, generator, basename = train(100, load_models=lm, save_images=si, save_models=sm)"
   ]
  },
  {
   "cell_type": "code",
   "execution_count": null,
   "metadata": {},
   "outputs": [],
   "source": []
  }
 ],
 "metadata": {
  "kernelspec": {
   "display_name": "Python 3",
   "language": "python",
   "name": "python3"
  },
  "language_info": {
   "codemirror_mode": {
    "name": "ipython",
    "version": 3
   },
   "file_extension": ".py",
   "mimetype": "text/x-python",
   "name": "python",
   "nbconvert_exporter": "python",
   "pygments_lexer": "ipython3",
   "version": "3.6.9"
  }
 },
 "nbformat": 4,
 "nbformat_minor": 4
}
