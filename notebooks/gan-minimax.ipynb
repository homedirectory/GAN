{
 "cells": [
  {
   "cell_type": "code",
   "execution_count": 1,
   "metadata": {},
   "outputs": [],
   "source": [
    "import os\n",
    "import random\n",
    "import math\n",
    "import time\n",
    "import uuid\n",
    "\n",
    "from tqdm.notebook import tqdm\n",
    "import numpy as np\n",
    "from matplotlib.image import imread\n",
    "import matplotlib.pyplot as plt\n",
    "from PIL import Image\n",
    "import tensorflow as tf\n",
    "from tensorflow.keras import datasets, layers, models, optimizers, losses, initializers\n",
    "\n",
    "from tensorflow.keras.preprocessing.image import save_img"
   ]
  },
  {
   "cell_type": "code",
   "execution_count": 2,
   "metadata": {},
   "outputs": [
    {
     "name": "stdout",
     "output_type": "stream",
     "text": [
      "[PhysicalDevice(name='/physical_device:GPU:0', device_type='GPU')]\n"
     ]
    }
   ],
   "source": [
    "gpus = tf.config.list_physical_devices('GPU')\n",
    "print(gpus)\n"
   ]
  },
  {
   "cell_type": "code",
   "execution_count": 3,
   "metadata": {},
   "outputs": [],
   "source": [
    "IMG_SIDE_LENGTH = 224\n",
    "\n",
    "init_norm = initializers.RandomNormal(mean=0., stddev=1.)"
   ]
  },
  {
   "cell_type": "markdown",
   "metadata": {},
   "source": [
    "### Building the Discriminator"
   ]
  },
  {
   "cell_type": "code",
   "execution_count": 4,
   "metadata": {},
   "outputs": [],
   "source": [
    "def build_discriminator(w_init=None):\n",
    "    D = models.Sequential(name=\"Discriminator\")\n",
    "    \n",
    "    # 1st convolutional layer\n",
    "    D.add(layers.Conv2D(32, (5, 5), strides=(2, 2), activation='relu',\n",
    "                        input_shape=(IMG_SIDE_LENGTH, IMG_SIDE_LENGTH, 3),\n",
    "                        kernel_initializer=w_init, bias_initializer=w_init))\n",
    "    \n",
    "    D.add(layers.Dropout(0.3))\n",
    "    D.add(layers.MaxPooling2D((2, 2)))\n",
    "    \n",
    "    # 2nd convolutional layer\n",
    "    D.add(layers.Conv2D(64, (3, 3), activation='relu', \n",
    "                       kernel_initializer=w_init, bias_initializer=w_init))\n",
    "    \n",
    "    D.add(layers.Dropout(0.3))\n",
    "    D.add(layers.MaxPooling2D((2, 2)))\n",
    "    \n",
    "    D.add(layers.Flatten())\n",
    "    \n",
    "    D.add(layers.Dense(64, activation='sigmoid', \n",
    "                      kernel_initializer=w_init, bias_initializer=w_init))\n",
    "    \n",
    "    D.add(layers.Dropout(0.5))\n",
    "    \n",
    "    D.add(layers.Dense(1, activation='sigmoid',\n",
    "                      kernel_initializer=w_init, bias_initializer=w_init))\n",
    "    \n",
    "    return D"
   ]
  },
  {
   "cell_type": "code",
   "execution_count": 5,
   "metadata": {},
   "outputs": [
    {
     "name": "stdout",
     "output_type": "stream",
     "text": [
      "Model: \"Discriminator\"\n",
      "_________________________________________________________________\n",
      "Layer (type)                 Output Shape              Param #   \n",
      "=================================================================\n",
      "conv2d (Conv2D)              (None, 110, 110, 32)      2432      \n",
      "_________________________________________________________________\n",
      "dropout (Dropout)            (None, 110, 110, 32)      0         \n",
      "_________________________________________________________________\n",
      "max_pooling2d (MaxPooling2D) (None, 55, 55, 32)        0         \n",
      "_________________________________________________________________\n",
      "conv2d_1 (Conv2D)            (None, 53, 53, 64)        18496     \n",
      "_________________________________________________________________\n",
      "dropout_1 (Dropout)          (None, 53, 53, 64)        0         \n",
      "_________________________________________________________________\n",
      "max_pooling2d_1 (MaxPooling2 (None, 26, 26, 64)        0         \n",
      "_________________________________________________________________\n",
      "flatten (Flatten)            (None, 43264)             0         \n",
      "_________________________________________________________________\n",
      "dense (Dense)                (None, 64)                2768960   \n",
      "_________________________________________________________________\n",
      "dropout_2 (Dropout)          (None, 64)                0         \n",
      "_________________________________________________________________\n",
      "dense_1 (Dense)              (None, 1)                 65        \n",
      "=================================================================\n",
      "Total params: 2,789,953\n",
      "Trainable params: 2,789,953\n",
      "Non-trainable params: 0\n",
      "_________________________________________________________________\n"
     ]
    }
   ],
   "source": [
    "#D = build_discriminator()\n",
    "D = build_discriminator(init_norm)\n",
    "D.summary()"
   ]
  },
  {
   "cell_type": "markdown",
   "metadata": {},
   "source": [
    "### Building the Generator"
   ]
  },
  {
   "cell_type": "code",
   "execution_count": 6,
   "metadata": {},
   "outputs": [],
   "source": [
    "def build_generator(w_init=None):\n",
    "    G = models.Sequential(name=\"Generator\")\n",
    "    \n",
    "    G.add(layers.Dense(7*7*256, activation='relu', input_shape=(100,),\n",
    "                      kernel_initializer=w_init, bias_initializer=w_init))\n",
    "    G.add(layers.BatchNormalization())\n",
    "\n",
    "    G.add(layers.Reshape((7, 7, 256)))\n",
    "\n",
    "    G.add(layers.Conv2DTranspose(64, (3, 3), strides=(2, 2), padding='same', activation='relu',\n",
    "                                kernel_initializer=w_init, bias_initializer=w_init))\n",
    "    G.add(layers.BatchNormalization())\n",
    "\n",
    "    G.add(layers.Conv2DTranspose(128, (3, 3), strides=(2, 2), padding='same', activation='relu',\n",
    "                                kernel_initializer=w_init, bias_initializer=w_init))\n",
    "    G.add(layers.BatchNormalization())\n",
    "    \n",
    "    G.add(layers.Conv2DTranspose(128, (3, 3), strides=(4, 4), padding='same', activation='relu',\n",
    "                                kernel_initializer=w_init, bias_initializer=w_init))\n",
    "    G.add(layers.BatchNormalization())\n",
    "    \n",
    "    G.add(layers.Conv2DTranspose(3, (3, 3), strides=(2, 2), padding='same', activation='sigmoid',\n",
    "                                kernel_initializer=w_init, bias_initializer=w_init))\n",
    "     \n",
    "    return G"
   ]
  },
  {
   "cell_type": "code",
   "execution_count": 7,
   "metadata": {
    "scrolled": true
   },
   "outputs": [
    {
     "name": "stdout",
     "output_type": "stream",
     "text": [
      "Model: \"Generator\"\n",
      "_________________________________________________________________\n",
      "Layer (type)                 Output Shape              Param #   \n",
      "=================================================================\n",
      "dense_2 (Dense)              (None, 12544)             1266944   \n",
      "_________________________________________________________________\n",
      "batch_normalization (BatchNo (None, 12544)             50176     \n",
      "_________________________________________________________________\n",
      "reshape (Reshape)            (None, 7, 7, 256)         0         \n",
      "_________________________________________________________________\n",
      "conv2d_transpose (Conv2DTran (None, 14, 14, 64)        147520    \n",
      "_________________________________________________________________\n",
      "batch_normalization_1 (Batch (None, 14, 14, 64)        256       \n",
      "_________________________________________________________________\n",
      "conv2d_transpose_1 (Conv2DTr (None, 28, 28, 128)       73856     \n",
      "_________________________________________________________________\n",
      "batch_normalization_2 (Batch (None, 28, 28, 128)       512       \n",
      "_________________________________________________________________\n",
      "conv2d_transpose_2 (Conv2DTr (None, 112, 112, 128)     147584    \n",
      "_________________________________________________________________\n",
      "batch_normalization_3 (Batch (None, 112, 112, 128)     512       \n",
      "_________________________________________________________________\n",
      "conv2d_transpose_3 (Conv2DTr (None, 224, 224, 3)       3459      \n",
      "=================================================================\n",
      "Total params: 1,690,819\n",
      "Trainable params: 1,665,091\n",
      "Non-trainable params: 25,728\n",
      "_________________________________________________________________\n"
     ]
    }
   ],
   "source": [
    "G = build_generator(init_norm)\n",
    "G.summary()"
   ]
  },
  {
   "cell_type": "markdown",
   "metadata": {},
   "source": [
    "### Example of a generated image"
   ]
  },
  {
   "cell_type": "code",
   "execution_count": null,
   "metadata": {},
   "outputs": [],
   "source": [
    "noise = np.random.normal(size=(1, 100))\n",
    "print(noise.shape)\n",
    "\n",
    "generated_image = np.array(G(noise, training=False))\n",
    "print(generated_image.shape)\n",
    "\n",
    "#gen_re = generated_image.reshape((224, 224, 3))\n",
    "#print(gen_re.mean(), gen_re.max(), gen_re.min())\n",
    "\n",
    "plt.imshow(generated_image[0, :, :, :])"
   ]
  },
  {
   "cell_type": "markdown",
   "metadata": {},
   "source": [
    "### Example of a prediction by the Discriminator"
   ]
  },
  {
   "cell_type": "code",
   "execution_count": null,
   "metadata": {
    "scrolled": true
   },
   "outputs": [],
   "source": [
    "prediction = D(generated_image)\n",
    "print(prediction)"
   ]
  },
  {
   "cell_type": "markdown",
   "metadata": {},
   "source": [
    "### Defining parameters for training"
   ]
  },
  {
   "cell_type": "code",
   "execution_count": null,
   "metadata": {},
   "outputs": [],
   "source": [
    "EPOCHS = 50\n",
    "NOISE_DIM = 100\n",
    "D_TRAIN_STEPS = 3\n",
    "BATCH_SIZE = 96\n",
    "MINIBATCH_SIZE = int(BATCH_SIZE / D_TRAIN_STEPS)\n",
    "\n",
    "disc_loss_func = losses.BinaryCrossentropy(from_logits=False)\n",
    "gen_loss_func = losses.BinaryCrossentropy(from_logits=False)\n",
    "\n",
    "disc_optimizer = optimizers.SGD(learning_rate=0.001)\n",
    "gen_optimizer = optimizers.SGD(learning_rate=0.001)"
   ]
  },
  {
   "cell_type": "markdown",
   "metadata": {},
   "source": [
    "### Generator Loss Function"
   ]
  },
  {
   "cell_type": "code",
   "execution_count": null,
   "metadata": {},
   "outputs": [],
   "source": [
    "def generator_loss(predictions):\n",
    "    return gen_loss_func(tf.ones_like(predictions), predictions)"
   ]
  },
  {
   "cell_type": "markdown",
   "metadata": {},
   "source": [
    "### Discriminator Loss Function"
   ]
  },
  {
   "cell_type": "code",
   "execution_count": null,
   "metadata": {},
   "outputs": [],
   "source": [
    "def discriminator_loss(real_pred, gen_pred):\n",
    "    real_loss = disc_loss_func(tf.ones_like(real_pred), real_pred)\n",
    "    fake_loss = disc_loss_func(tf.zeros_like(gen_pred), gen_pred)\n",
    "    total_loss = real_loss + fake_loss\n",
    "    return 1 / total_loss"
   ]
  },
  {
   "cell_type": "markdown",
   "metadata": {},
   "source": [
    "### Discriminator training for k steps"
   ]
  },
  {
   "cell_type": "code",
   "execution_count": 3,
   "metadata": {},
   "outputs": [],
   "source": [
    "@tf.function\n",
    "def train_step_D_k(generator, discriminator, images):\n",
    "    \n",
    "    G, D = generator, discriminator\n",
    "\n",
    "    with tf.GradientTape() as gen_tape, tf.GradientTape() as disc_tape:\n",
    "        \n",
    "        D_loss = 0\n",
    "        \n",
    "        ## train only D for k steps\n",
    "        for k in range(D_TRAIN_STEPS):\n",
    "            # sample noise\n",
    "            noise = np.random.normal(size=(MINIBATCH_SIZE, NOISE_DIM))\n",
    "            # turn noise into generated images\n",
    "            gen_images = G(noise, training=False)\n",
    "            # sample real images\n",
    "            real_images = images[ MINIBATCH_SIZE*k : MINIBATCH_SIZE*(k+1)]\n",
    "            \n",
    "            # predict\n",
    "            real_pred = D(real_images, training=True)\n",
    "            gen_pred = D(gen_images, training=True)\n",
    "            \n",
    "            # calculate Discriminator loss\n",
    "            D_loss += discriminator_loss(real_pred, gen_pred)\n",
    "        \n",
    "        D_loss = D_loss / D_TRAIN_STEPS\n",
    "        \n",
    "        ## train only G for 1 step\n",
    "        # sample noise\n",
    "        noise = np.random.normal(size=(MINIBATCH_SIZE, NOISE_DIM))\n",
    "        # turn noise into generated images\n",
    "        gen_images = G(noise, training=True)\n",
    "        # predict generated images being real\n",
    "        gen_pred = D(gen_images, training=False)\n",
    "        # compute generator loss\n",
    "        G_loss = generator_loss(gen_pred)\n",
    "\n",
    "    G_gradients = gen_tape.gradient(G_loss, G.trainable_variables)\n",
    "    D_gradients = disc_tape.gradient(D_loss, D.trainable_variables)\n",
    "\n",
    "    gen_optimizer.apply_gradients(zip(G_gradients, G.trainable_variables))\n",
    "    disc_optimizer.apply_gradients(zip(D_gradients, D.trainable_variables))\n",
    "\n",
    "    return D_loss, G_loss"
   ]
  },
  {
   "cell_type": "markdown",
   "metadata": {},
   "source": [
    "### Discriminator and Generator train for 1 step"
   ]
  },
  {
   "cell_type": "code",
   "execution_count": 5,
   "metadata": {},
   "outputs": [],
   "source": [
    "# Notice the use of `tf.function`\n",
    "# This annotation causes the function to be \"compiled\".\n",
    "@tf.function\n",
    "def train_step(generator, discriminator, images):\n",
    "    \n",
    "    G, D = generator, discriminator\n",
    "\n",
    "    with tf.GradientTape() as gen_tape, tf.GradientTape() as disc_tape:\n",
    "        \n",
    "        disc_tape.watch(D.trainable_variables)\n",
    "        \n",
    "        ## train only D for 1 step\n",
    "        # sample noise\n",
    "        noise = np.random.normal(size=(BATCH_SIZE, NOISE_DIM))\n",
    "        # turn noise into generated images\n",
    "        gen_images = G(noise, training=False)\n",
    "        # predict\n",
    "        real_pred = D(images, training=True)\n",
    "        gen_pred = D(gen_images, training=True)\n",
    "        # calculate Discriminator loss\n",
    "        D_loss = discriminator_loss(real_pred, gen_pred)\n",
    "        \n",
    "        ## train only G for 1 step\n",
    "        # sample noise\n",
    "        noise = np.random.normal(size=(BATCH_SIZE, NOISE_DIM))\n",
    "        # turn noise into generated images\n",
    "        gen_images = G(noise, training=True)\n",
    "        # predict generated images being real\n",
    "        gen_pred = D(gen_images, training=False)\n",
    "        # compute generator loss\n",
    "        G_loss = generator_loss(gen_pred)\n",
    "\n",
    "    G_gradients = gen_tape.gradient(G_loss, G.trainable_variables)\n",
    "    D_gradients = disc_tape.gradient(D_loss, D.trainable_variables)\n",
    "\n",
    "    gen_optimizer.apply_gradients(zip(G_gradients, G.trainable_variables))\n",
    "    disc_optimizer.apply_gradients(zip(D_gradients, D.trainable_variables))\n",
    "\n",
    "    return D_loss, G_loss"
   ]
  },
  {
   "cell_type": "markdown",
   "metadata": {},
   "source": [
    "# Training"
   ]
  },
  {
   "cell_type": "code",
   "execution_count": 6,
   "metadata": {},
   "outputs": [],
   "source": [
    "def train(generator, discriminator, filename, epochs):\n",
    "    \"\"\"\n",
    "    generator - model object\n",
    "    discriminator - model object\n",
    "    filename - name of the .npy file with REAL images\n",
    "    epochs - number of epochs\n",
    "    \"\"\"\n",
    "    \n",
    "    SKIP_ERROR = \"Cannot load file containing pickled data when allow_pickle=False\"\n",
    "    \n",
    "    for ep in tqdm(range(epochs)):\n",
    "        total_images_used = 0\n",
    "        \n",
    "        D_ep_losses, G_ep_losses = [], []\n",
    "        \n",
    "        start = time.time()\n",
    "        \n",
    "        pbar = tqdm(total=100)\n",
    "        \n",
    "        with open(filename, 'rb') as f:\n",
    "            while True:\n",
    "                try:\n",
    "                    batch_a = np.load(f)\n",
    "                    batch_b = np.load(f)\n",
    "                    real_images_batch = np.concatenate((batch_a, batch_b))\n",
    "                    total_images_used += real_images_batch.shape[0]\n",
    "                    \n",
    "                    #D_step_loss, G_step_loss = train_step(images_batch)\n",
    "                    D_step_loss, G_step_loss = train_step(generator, discriminator, real_images_batch)\n",
    "                    \n",
    "                    D_ep_losses.append(D_step_loss)\n",
    "                    G_ep_losses.append(G_step_loss)\n",
    "                    \n",
    "                    pbar.update(round(BATCH_SIZE/15000 * 100, 2))\n",
    "                except Exception as e:\n",
    "                    if \"allow_pickle=False\" not in str(e):\n",
    "                        print(e)\n",
    "                    break\n",
    "        \n",
    "        pbar.close()\n",
    "        \n",
    "        print('Time for epoch {} is {} sec'.format(ep + 1, time.time()-start))\n",
    "        print(f\"Discriminator loss: {np.average(D_ep_losses)}\")\n",
    "        print(f\"Generator loss: {np.average(G_ep_losses)}\")\n",
    "        print(f\"Trained on {total_images_used} images\")\n",
    "        \n",
    "        ## save generated image\n",
    "        noise = np.random.normal(size=(1, NOISE_DIM))\n",
    "        gen_img_to_save = G(noise, training=False).numpy().reshape(IMG_SIDE_LENGTH, IMG_SIDE_LENGTH, 3)\n",
    "        save_img(f\"../data/generated/{uuid.uuid4()}.jpg\", gen_img_to_save)"
   ]
  },
  {
   "cell_type": "code",
   "execution_count": 7,
   "metadata": {},
   "outputs": [
    {
     "ename": "InternalError",
     "evalue": "CUDA runtime implicit initialization on GPU:0 failed. Status: out of memory",
     "output_type": "error",
     "traceback": [
      "\u001b[0;31m---------------------------------------------------------------------------\u001b[0m",
      "\u001b[0;31mInternalError\u001b[0m                             Traceback (most recent call last)",
      "\u001b[0;32m<ipython-input-7-dbcd2d948491>\u001b[0m in \u001b[0;36m<module>\u001b[0;34m\u001b[0m\n\u001b[0;32m----> 1\u001b[0;31m \u001b[0;32mwith\u001b[0m \u001b[0mtf\u001b[0m\u001b[0;34m.\u001b[0m\u001b[0mdevice\u001b[0m\u001b[0;34m(\u001b[0m\u001b[0;34m'/CPU:0'\u001b[0m\u001b[0;34m)\u001b[0m\u001b[0;34m:\u001b[0m\u001b[0;34m\u001b[0m\u001b[0;34m\u001b[0m\u001b[0m\n\u001b[0m\u001b[1;32m      2\u001b[0m \u001b[0;34m\u001b[0m\u001b[0m\n\u001b[1;32m      3\u001b[0m     \u001b[0mG\u001b[0m \u001b[0;34m=\u001b[0m \u001b[0mbuild_generator\u001b[0m\u001b[0;34m(\u001b[0m\u001b[0minit_norm\u001b[0m\u001b[0;34m)\u001b[0m\u001b[0;34m\u001b[0m\u001b[0;34m\u001b[0m\u001b[0m\n\u001b[1;32m      4\u001b[0m     \u001b[0mD\u001b[0m \u001b[0;34m=\u001b[0m \u001b[0mbuild_discriminator\u001b[0m\u001b[0;34m(\u001b[0m\u001b[0minit_norm\u001b[0m\u001b[0;34m)\u001b[0m\u001b[0;34m\u001b[0m\u001b[0;34m\u001b[0m\u001b[0m\n\u001b[1;32m      5\u001b[0m \u001b[0;34m\u001b[0m\u001b[0m\n",
      "\u001b[0;32m/usr/local/lib/python3.6/dist-packages/tensorflow_core/python/framework/ops.py\u001b[0m in \u001b[0;36mdevice_v2\u001b[0;34m(device_name)\u001b[0m\n\u001b[1;32m   5077\u001b[0m   \u001b[0;32mif\u001b[0m \u001b[0mcallable\u001b[0m\u001b[0;34m(\u001b[0m\u001b[0mdevice_name\u001b[0m\u001b[0;34m)\u001b[0m\u001b[0;34m:\u001b[0m\u001b[0;34m\u001b[0m\u001b[0;34m\u001b[0m\u001b[0m\n\u001b[1;32m   5078\u001b[0m     \u001b[0;32mraise\u001b[0m \u001b[0mRuntimeError\u001b[0m\u001b[0;34m(\u001b[0m\u001b[0;34m\"tf.device does not support functions.\"\u001b[0m\u001b[0;34m)\u001b[0m\u001b[0;34m\u001b[0m\u001b[0;34m\u001b[0m\u001b[0m\n\u001b[0;32m-> 5079\u001b[0;31m   \u001b[0;32mreturn\u001b[0m \u001b[0mdevice\u001b[0m\u001b[0;34m(\u001b[0m\u001b[0mdevice_name\u001b[0m\u001b[0;34m)\u001b[0m\u001b[0;34m\u001b[0m\u001b[0;34m\u001b[0m\u001b[0m\n\u001b[0m\u001b[1;32m   5080\u001b[0m \u001b[0;34m\u001b[0m\u001b[0m\n\u001b[1;32m   5081\u001b[0m \u001b[0;34m\u001b[0m\u001b[0m\n",
      "\u001b[0;32m/usr/local/lib/python3.6/dist-packages/tensorflow_core/python/framework/ops.py\u001b[0m in \u001b[0;36mdevice\u001b[0;34m(device_name_or_function)\u001b[0m\n\u001b[1;32m   5032\u001b[0m           \u001b[0;34m\"tf.device does not support functions when eager execution \"\u001b[0m\u001b[0;34m\u001b[0m\u001b[0;34m\u001b[0m\u001b[0m\n\u001b[1;32m   5033\u001b[0m           \"is enabled.\")\n\u001b[0;32m-> 5034\u001b[0;31m     \u001b[0;32mreturn\u001b[0m \u001b[0mcontext\u001b[0m\u001b[0;34m.\u001b[0m\u001b[0mdevice\u001b[0m\u001b[0;34m(\u001b[0m\u001b[0mdevice_name_or_function\u001b[0m\u001b[0;34m)\u001b[0m\u001b[0;34m\u001b[0m\u001b[0;34m\u001b[0m\u001b[0m\n\u001b[0m\u001b[1;32m   5035\u001b[0m   \u001b[0;32melif\u001b[0m \u001b[0mexecuting_eagerly_outside_functions\u001b[0m\u001b[0;34m(\u001b[0m\u001b[0;34m)\u001b[0m\u001b[0;34m:\u001b[0m\u001b[0;34m\u001b[0m\u001b[0;34m\u001b[0m\u001b[0m\n\u001b[1;32m   5036\u001b[0m     \u001b[0;34m@\u001b[0m\u001b[0mtf_contextlib\u001b[0m\u001b[0;34m.\u001b[0m\u001b[0mcontextmanager\u001b[0m\u001b[0;34m\u001b[0m\u001b[0;34m\u001b[0m\u001b[0m\n",
      "\u001b[0;32m/usr/local/lib/python3.6/dist-packages/tensorflow_core/python/eager/context.py\u001b[0m in \u001b[0;36mdevice\u001b[0;34m(name)\u001b[0m\n\u001b[1;32m   1832\u001b[0m     \u001b[0mContext\u001b[0m \u001b[0mmanager\u001b[0m \u001b[0;32mfor\u001b[0m \u001b[0msetting\u001b[0m \u001b[0mthe\u001b[0m \u001b[0mdevice\u001b[0m\u001b[0;34m.\u001b[0m\u001b[0;34m\u001b[0m\u001b[0;34m\u001b[0m\u001b[0m\n\u001b[1;32m   1833\u001b[0m   \"\"\"\n\u001b[0;32m-> 1834\u001b[0;31m   \u001b[0mensure_initialized\u001b[0m\u001b[0;34m(\u001b[0m\u001b[0;34m)\u001b[0m\u001b[0;34m\u001b[0m\u001b[0;34m\u001b[0m\u001b[0m\n\u001b[0m\u001b[1;32m   1835\u001b[0m   \u001b[0;32mreturn\u001b[0m \u001b[0mcontext\u001b[0m\u001b[0;34m(\u001b[0m\u001b[0;34m)\u001b[0m\u001b[0;34m.\u001b[0m\u001b[0mdevice\u001b[0m\u001b[0;34m(\u001b[0m\u001b[0mname\u001b[0m\u001b[0;34m)\u001b[0m\u001b[0;34m\u001b[0m\u001b[0;34m\u001b[0m\u001b[0m\n\u001b[1;32m   1836\u001b[0m \u001b[0;34m\u001b[0m\u001b[0m\n",
      "\u001b[0;32m/usr/local/lib/python3.6/dist-packages/tensorflow_core/python/eager/context.py\u001b[0m in \u001b[0;36mensure_initialized\u001b[0;34m()\u001b[0m\n\u001b[1;32m   1628\u001b[0m \u001b[0;32mdef\u001b[0m \u001b[0mensure_initialized\u001b[0m\u001b[0;34m(\u001b[0m\u001b[0;34m)\u001b[0m\u001b[0;34m:\u001b[0m\u001b[0;34m\u001b[0m\u001b[0;34m\u001b[0m\u001b[0m\n\u001b[1;32m   1629\u001b[0m   \u001b[0;34m\"\"\"Initialize the context.\"\"\"\u001b[0m\u001b[0;34m\u001b[0m\u001b[0;34m\u001b[0m\u001b[0m\n\u001b[0;32m-> 1630\u001b[0;31m   \u001b[0mcontext\u001b[0m\u001b[0;34m(\u001b[0m\u001b[0;34m)\u001b[0m\u001b[0;34m.\u001b[0m\u001b[0mensure_initialized\u001b[0m\u001b[0;34m(\u001b[0m\u001b[0;34m)\u001b[0m\u001b[0;34m\u001b[0m\u001b[0;34m\u001b[0m\u001b[0m\n\u001b[0m\u001b[1;32m   1631\u001b[0m \u001b[0;34m\u001b[0m\u001b[0m\n\u001b[1;32m   1632\u001b[0m \u001b[0;34m\u001b[0m\u001b[0m\n",
      "\u001b[0;32m/usr/local/lib/python3.6/dist-packages/tensorflow_core/python/eager/context.py\u001b[0m in \u001b[0;36mensure_initialized\u001b[0;34m(self)\u001b[0m\n\u001b[1;32m    507\u001b[0m           pywrap_tensorflow.TFE_ContextOptionsSetLazyRemoteInputsCopy(\n\u001b[1;32m    508\u001b[0m               opts, True)\n\u001b[0;32m--> 509\u001b[0;31m         \u001b[0mcontext_handle\u001b[0m \u001b[0;34m=\u001b[0m \u001b[0mpywrap_tensorflow\u001b[0m\u001b[0;34m.\u001b[0m\u001b[0mTFE_NewContext\u001b[0m\u001b[0;34m(\u001b[0m\u001b[0mopts\u001b[0m\u001b[0;34m)\u001b[0m\u001b[0;34m\u001b[0m\u001b[0;34m\u001b[0m\u001b[0m\n\u001b[0m\u001b[1;32m    510\u001b[0m       \u001b[0;32mfinally\u001b[0m\u001b[0;34m:\u001b[0m\u001b[0;34m\u001b[0m\u001b[0;34m\u001b[0m\u001b[0m\n\u001b[1;32m    511\u001b[0m         \u001b[0mpywrap_tensorflow\u001b[0m\u001b[0;34m.\u001b[0m\u001b[0mTFE_DeleteContextOptions\u001b[0m\u001b[0;34m(\u001b[0m\u001b[0mopts\u001b[0m\u001b[0;34m)\u001b[0m\u001b[0;34m\u001b[0m\u001b[0;34m\u001b[0m\u001b[0m\n",
      "\u001b[0;31mInternalError\u001b[0m: CUDA runtime implicit initialization on GPU:0 failed. Status: out of memory"
     ]
    }
   ],
   "source": [
    "with tf.device('/CPU:0'):\n",
    "    \n",
    "    G = build_generator(init_norm)\n",
    "    D = build_discriminator(init_norm)\n",
    "    \n",
    "    train(G, D, \"../data/ports-all.npy\", epochs=10)"
   ]
  },
  {
   "cell_type": "code",
   "execution_count": null,
   "metadata": {},
   "outputs": [],
   "source": []
  },
  {
   "cell_type": "code",
   "execution_count": null,
   "metadata": {},
   "outputs": [],
   "source": []
  },
  {
   "cell_type": "code",
   "execution_count": null,
   "metadata": {},
   "outputs": [],
   "source": []
  },
  {
   "cell_type": "code",
   "execution_count": null,
   "metadata": {},
   "outputs": [],
   "source": []
  },
  {
   "cell_type": "code",
   "execution_count": null,
   "metadata": {},
   "outputs": [],
   "source": []
  },
  {
   "cell_type": "code",
   "execution_count": null,
   "metadata": {},
   "outputs": [],
   "source": []
  },
  {
   "cell_type": "code",
   "execution_count": null,
   "metadata": {},
   "outputs": [],
   "source": []
  },
  {
   "cell_type": "code",
   "execution_count": null,
   "metadata": {},
   "outputs": [],
   "source": []
  },
  {
   "cell_type": "code",
   "execution_count": null,
   "metadata": {},
   "outputs": [],
   "source": []
  },
  {
   "cell_type": "code",
   "execution_count": null,
   "metadata": {},
   "outputs": [],
   "source": []
  },
  {
   "cell_type": "code",
   "execution_count": null,
   "metadata": {},
   "outputs": [],
   "source": []
  }
 ],
 "metadata": {
  "kernelspec": {
   "display_name": "Python 3",
   "language": "python",
   "name": "python3"
  },
  "language_info": {
   "codemirror_mode": {
    "name": "ipython",
    "version": 3
   },
   "file_extension": ".py",
   "mimetype": "text/x-python",
   "name": "python",
   "nbconvert_exporter": "python",
   "pygments_lexer": "ipython3",
   "version": "3.6.9"
  }
 },
 "nbformat": 4,
 "nbformat_minor": 5
}
