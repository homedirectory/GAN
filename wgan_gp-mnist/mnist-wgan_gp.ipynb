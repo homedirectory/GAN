{
 "cells": [
  {
   "cell_type": "code",
   "execution_count": 1,
   "metadata": {},
   "outputs": [
    {
     "name": "stdout",
     "output_type": "stream",
     "text": [
      "Downloading data from https://storage.googleapis.com/tensorflow/tf-keras-datasets/mnist.npz\n",
      "11493376/11490434 [==============================] - 1s 0us/step\n"
     ]
    }
   ],
   "source": [
    "from wgan_gp_mnist import train, usage, WGAN_GP"
   ]
  },
  {
   "cell_type": "code",
   "execution_count": 2,
   "metadata": {
    "scrolled": true
   },
   "outputs": [
    {
     "name": "stdout",
     "output_type": "stream",
     "text": [
      "Model: \"Generator\"\n",
      "_________________________________________________________________\n",
      "Layer (type)                 Output Shape              Param #   \n",
      "=================================================================\n",
      "dense_1 (Dense)              (None, 12544)             1618176   \n",
      "_________________________________________________________________\n",
      "reshape (Reshape)            (None, 7, 7, 256)         0         \n",
      "_________________________________________________________________\n",
      "batch_normalization (BatchNo (None, 7, 7, 256)         1024      \n",
      "_________________________________________________________________\n",
      "re_lu (ReLU)                 (None, 7, 7, 256)         0         \n",
      "_________________________________________________________________\n",
      "conv2d_transpose (Conv2DTran (None, 14, 14, 256)       590080    \n",
      "_________________________________________________________________\n",
      "batch_normalization_1 (Batch (None, 14, 14, 256)       1024      \n",
      "_________________________________________________________________\n",
      "re_lu_1 (ReLU)               (None, 14, 14, 256)       0         \n",
      "_________________________________________________________________\n",
      "conv2d_transpose_1 (Conv2DTr (None, 28, 28, 128)       295040    \n",
      "_________________________________________________________________\n",
      "batch_normalization_2 (Batch (None, 28, 28, 128)       512       \n",
      "_________________________________________________________________\n",
      "re_lu_2 (ReLU)               (None, 28, 28, 128)       0         \n",
      "_________________________________________________________________\n",
      "conv2d_transpose_2 (Conv2DTr (None, 28, 28, 1)         1153      \n",
      "=================================================================\n",
      "Total params: 2,507,009\n",
      "Trainable params: 2,505,729\n",
      "Non-trainable params: 1,280\n",
      "_________________________________________________________________\n"
     ]
    }
   ],
   "source": [
    "critic, generator = WGAN_GP().models\n",
    "generator.summary()"
   ]
  },
  {
   "cell_type": "code",
   "execution_count": 3,
   "metadata": {},
   "outputs": [
    {
     "name": "stdout",
     "output_type": "stream",
     "text": [
      "Model: \"Critic\"\n",
      "_________________________________________________________________\n",
      "Layer (type)                 Output Shape              Param #   \n",
      "=================================================================\n",
      "conv2d (Conv2D)              (None, 28, 28, 64)        640       \n",
      "_________________________________________________________________\n",
      "leaky_re_lu (LeakyReLU)      (None, 28, 28, 64)        0         \n",
      "_________________________________________________________________\n",
      "conv2d_1 (Conv2D)            (None, 14, 14, 64)        36928     \n",
      "_________________________________________________________________\n",
      "leaky_re_lu_1 (LeakyReLU)    (None, 14, 14, 64)        0         \n",
      "_________________________________________________________________\n",
      "conv2d_2 (Conv2D)            (None, 7, 7, 128)         73856     \n",
      "_________________________________________________________________\n",
      "flatten (Flatten)            (None, 6272)              0         \n",
      "_________________________________________________________________\n",
      "dense (Dense)                (None, 1)                 6273      \n",
      "=================================================================\n",
      "Total params: 117,697\n",
      "Trainable params: 117,697\n",
      "Non-trainable params: 0\n",
      "_________________________________________________________________\n"
     ]
    }
   ],
   "source": [
    "critic.summary()"
   ]
  },
  {
   "cell_type": "code",
   "execution_count": 4,
   "metadata": {},
   "outputs": [
    {
     "name": "stdout",
     "output_type": "stream",
     "text": [
      "train(epochs, load_models, save_images, save_models)\n",
      "returns: C_losses, G_losses, critic, generator, basename\n"
     ]
    }
   ],
   "source": [
    "usage()"
   ]
  },
  {
   "cell_type": "code",
   "execution_count": 5,
   "metadata": {
    "scrolled": true
   },
   "outputs": [
    {
     "name": "stderr",
     "output_type": "stream",
     "text": [
      "\r",
      "  0%|          | 0/100 [00:00<?, ?it/s]"
     ]
    },
    {
     "name": "stdout",
     "output_type": "stream",
     "text": [
      "----------- TRAINING TO GENERATE **0** -----------\n"
     ]
    },
    {
     "name": "stderr",
     "output_type": "stream",
     "text": [
      "\r",
      "  1%|          | 1.0/100 [00:06<11:28,  6.95s/it]"
     ]
    },
    {
     "name": "stdout",
     "output_type": "stream",
     "text": [
      "DIGIT: 0\n",
      "EPOCH 1: 6.95223 sec\n",
      "Critic loss: -3.22474\n",
      "Generator loss: -2.77036\n",
      "\n",
      "WARNING:tensorflow:From /usr/local/lib/python3.6/dist-packages/tensorflow_core/python/ops/resource_variable_ops.py:1786: calling BaseResourceVariable.__init__ (from tensorflow.python.ops.resource_variable_ops) with constraint is deprecated and will be removed in a future version.\n",
      "Instructions for updating:\n",
      "If using Keras pass *_constraint arguments to layers.\n",
      "INFO:tensorflow:Assets written to: models/05-05-21_10:15:28/0/generator/assets\n",
      "INFO:tensorflow:Assets written to: models/05-05-21_10:15:28/0/critic/assets\n"
     ]
    },
    {
     "name": "stderr",
     "output_type": "stream",
     "text": [
      "\r",
      "  2%|▏         | 2.0/100 [00:10<08:30,  5.20s/it]"
     ]
    },
    {
     "name": "stdout",
     "output_type": "stream",
     "text": [
      "DIGIT: 0\n",
      "EPOCH 2: 2.34169 sec\n",
      "Critic loss: -2.92839\n",
      "Generator loss: -2.36067\n",
      "\n"
     ]
    },
    {
     "name": "stderr",
     "output_type": "stream",
     "text": [
      "\r",
      "  3%|▎         | 3.0/100 [00:13<06:23,  3.96s/it]"
     ]
    },
    {
     "name": "stdout",
     "output_type": "stream",
     "text": [
      "DIGIT: 0\n",
      "EPOCH 3: 2.38787 sec\n",
      "Critic loss: -2.66485\n",
      "Generator loss: -1.21810\n",
      "\n"
     ]
    },
    {
     "name": "stderr",
     "output_type": "stream",
     "text": [
      "\r",
      "  4%|▍         | 4.0/100 [00:15<05:25,  3.39s/it]"
     ]
    },
    {
     "name": "stdout",
     "output_type": "stream",
     "text": [
      "DIGIT: 0\n",
      "EPOCH 4: 2.44255 sec\n",
      "Critic loss: -2.76493\n",
      "Generator loss: -0.12369\n",
      "\n"
     ]
    },
    {
     "name": "stderr",
     "output_type": "stream",
     "text": [
      "\r",
      "  5%|▌         | 5.0/100 [00:18<04:49,  3.05s/it]"
     ]
    },
    {
     "name": "stdout",
     "output_type": "stream",
     "text": [
      "DIGIT: 0\n",
      "EPOCH 5: 2.34830 sec\n",
      "Critic loss: -2.71723\n",
      "Generator loss: 0.33548\n",
      "\n"
     ]
    },
    {
     "name": "stderr",
     "output_type": "stream",
     "text": [
      "\r",
      "  6%|▌         | 6.0/100 [00:20<04:26,  2.83s/it]"
     ]
    },
    {
     "name": "stdout",
     "output_type": "stream",
     "text": [
      "DIGIT: 0\n",
      "EPOCH 6: 2.33544 sec\n",
      "Critic loss: -2.47128\n",
      "Generator loss: 0.08998\n",
      "\n"
     ]
    },
    {
     "name": "stderr",
     "output_type": "stream",
     "text": [
      "\r",
      "  7%|▋         | 7.0/100 [00:23<04:11,  2.70s/it]"
     ]
    },
    {
     "name": "stdout",
     "output_type": "stream",
     "text": [
      "DIGIT: 0\n",
      "EPOCH 7: 2.34195 sec\n",
      "Critic loss: -2.63316\n",
      "Generator loss: 0.06448\n",
      "\n"
     ]
    },
    {
     "name": "stderr",
     "output_type": "stream",
     "text": [
      "\r",
      "  8%|▊         | 8.0/100 [00:25<03:59,  2.60s/it]"
     ]
    },
    {
     "name": "stdout",
     "output_type": "stream",
     "text": [
      "DIGIT: 0\n",
      "EPOCH 8: 2.30584 sec\n",
      "Critic loss: -2.58562\n",
      "Generator loss: -0.81857\n",
      "\n"
     ]
    },
    {
     "name": "stderr",
     "output_type": "stream",
     "text": [
      "\r",
      "  9%|▉         | 9.0/100 [00:28<03:53,  2.57s/it]"
     ]
    },
    {
     "name": "stdout",
     "output_type": "stream",
     "text": [
      "DIGIT: 0\n",
      "EPOCH 9: 2.41109 sec\n",
      "Critic loss: -2.12088\n",
      "Generator loss: -2.20131\n",
      "\n"
     ]
    },
    {
     "name": "stderr",
     "output_type": "stream",
     "text": [
      "\r",
      " 10%|█         | 10.0/100 [00:30<03:48,  2.53s/it]"
     ]
    },
    {
     "name": "stdout",
     "output_type": "stream",
     "text": [
      "DIGIT: 0\n",
      "EPOCH 10: 2.37516 sec\n",
      "Critic loss: -2.26892\n",
      "Generator loss: -2.85443\n",
      "\n"
     ]
    },
    {
     "name": "stderr",
     "output_type": "stream",
     "text": [
      "\r",
      " 11%|█         | 11.0/100 [00:32<03:41,  2.49s/it]"
     ]
    },
    {
     "name": "stdout",
     "output_type": "stream",
     "text": [
      "DIGIT: 0\n",
      "EPOCH 11: 2.29696 sec\n",
      "Critic loss: -2.16542\n",
      "Generator loss: -3.18890\n",
      "\n"
     ]
    },
    {
     "name": "stderr",
     "output_type": "stream",
     "text": [
      "\r",
      " 12%|█▏        | 12.0/100 [00:35<03:35,  2.45s/it]"
     ]
    },
    {
     "name": "stdout",
     "output_type": "stream",
     "text": [
      "DIGIT: 0\n",
      "EPOCH 12: 2.29863 sec\n",
      "Critic loss: -2.03063\n",
      "Generator loss: -3.52562\n",
      "\n"
     ]
    },
    {
     "name": "stderr",
     "output_type": "stream",
     "text": [
      "\r",
      " 13%|█▎        | 13.0/100 [00:37<03:31,  2.43s/it]"
     ]
    },
    {
     "name": "stdout",
     "output_type": "stream",
     "text": [
      "DIGIT: 0\n",
      "EPOCH 13: 2.29982 sec\n",
      "Critic loss: -2.02025\n",
      "Generator loss: -3.45034\n",
      "\n"
     ]
    },
    {
     "name": "stderr",
     "output_type": "stream",
     "text": [
      "\r",
      " 14%|█▍        | 14.0/100 [00:40<03:27,  2.42s/it]"
     ]
    },
    {
     "name": "stdout",
     "output_type": "stream",
     "text": [
      "DIGIT: 0\n",
      "EPOCH 14: 2.29796 sec\n",
      "Critic loss: -1.66372\n",
      "Generator loss: -2.56077\n",
      "\n"
     ]
    },
    {
     "name": "stderr",
     "output_type": "stream",
     "text": [
      "\r",
      " 15%|█▌        | 15.0/100 [00:42<03:24,  2.40s/it]"
     ]
    },
    {
     "name": "stdout",
     "output_type": "stream",
     "text": [
      "DIGIT: 0\n",
      "EPOCH 15: 2.29525 sec\n",
      "Critic loss: -1.61114\n",
      "Generator loss: -1.51514\n",
      "\n"
     ]
    },
    {
     "name": "stderr",
     "output_type": "stream",
     "text": [
      "\r",
      " 16%|█▌        | 16.0/100 [00:44<03:21,  2.40s/it]"
     ]
    },
    {
     "name": "stdout",
     "output_type": "stream",
     "text": [
      "DIGIT: 0\n",
      "EPOCH 16: 2.29762 sec\n",
      "Critic loss: -1.63643\n",
      "Generator loss: -1.55667\n",
      "\n"
     ]
    },
    {
     "name": "stderr",
     "output_type": "stream",
     "text": [
      "\r",
      " 17%|█▋        | 17.0/100 [00:47<03:18,  2.39s/it]"
     ]
    },
    {
     "name": "stdout",
     "output_type": "stream",
     "text": [
      "DIGIT: 0\n",
      "EPOCH 17: 2.30195 sec\n",
      "Critic loss: -1.79414\n",
      "Generator loss: -1.17794\n",
      "\n"
     ]
    },
    {
     "name": "stderr",
     "output_type": "stream",
     "text": [
      "\r",
      " 18%|█▊        | 18.0/100 [00:49<03:15,  2.39s/it]"
     ]
    },
    {
     "name": "stdout",
     "output_type": "stream",
     "text": [
      "DIGIT: 0\n",
      "EPOCH 18: 2.29897 sec\n",
      "Critic loss: -1.74295\n",
      "Generator loss: 0.34931\n",
      "\n"
     ]
    },
    {
     "name": "stderr",
     "output_type": "stream",
     "text": [
      "\r",
      " 19%|█▉        | 19.0/100 [00:51<03:13,  2.39s/it]"
     ]
    },
    {
     "name": "stdout",
     "output_type": "stream",
     "text": [
      "DIGIT: 0\n",
      "EPOCH 19: 2.29766 sec\n",
      "Critic loss: -1.59982\n",
      "Generator loss: -0.67269\n",
      "\n"
     ]
    },
    {
     "name": "stderr",
     "output_type": "stream",
     "text": [
      "\r",
      " 20%|██        | 20.0/100 [00:54<03:10,  2.38s/it]"
     ]
    },
    {
     "name": "stdout",
     "output_type": "stream",
     "text": [
      "DIGIT: 0\n",
      "EPOCH 20: 2.29826 sec\n",
      "Critic loss: -1.38727\n",
      "Generator loss: 1.23201\n",
      "\n"
     ]
    },
    {
     "name": "stderr",
     "output_type": "stream",
     "text": [
      "\r",
      " 21%|██        | 21.0/100 [00:56<03:08,  2.38s/it]"
     ]
    },
    {
     "name": "stdout",
     "output_type": "stream",
     "text": [
      "DIGIT: 0\n",
      "EPOCH 21: 2.29941 sec\n",
      "Critic loss: -0.78620\n",
      "Generator loss: -0.07405\n",
      "\n",
      "INFO:tensorflow:Assets written to: models/05-05-21_10:15:28/0/generator/assets\n",
      "INFO:tensorflow:Assets written to: models/05-05-21_10:15:28/0/critic/assets\n"
     ]
    },
    {
     "name": "stderr",
     "output_type": "stream",
     "text": [
      "\r",
      " 22%|██▏       | 22.0/100 [01:00<03:41,  2.83s/it]"
     ]
    },
    {
     "name": "stdout",
     "output_type": "stream",
     "text": [
      "DIGIT: 0\n",
      "EPOCH 22: 2.29564 sec\n",
      "Critic loss: -0.65663\n",
      "Generator loss: -0.46416\n",
      "\n"
     ]
    },
    {
     "name": "stderr",
     "output_type": "stream",
     "text": [
      "\r",
      " 23%|██▎       | 23.0/100 [01:03<03:27,  2.70s/it]"
     ]
    },
    {
     "name": "stdout",
     "output_type": "stream",
     "text": [
      "DIGIT: 0\n",
      "EPOCH 23: 2.30053 sec\n",
      "Critic loss: -0.53470\n",
      "Generator loss: -0.47066\n",
      "\n"
     ]
    },
    {
     "name": "stderr",
     "output_type": "stream",
     "text": [
      "\r",
      " 24%|██▍       | 24.0/100 [01:05<03:17,  2.60s/it]"
     ]
    },
    {
     "name": "stdout",
     "output_type": "stream",
     "text": [
      "DIGIT: 0\n",
      "EPOCH 24: 2.29664 sec\n",
      "Critic loss: -0.34628\n",
      "Generator loss: -0.72544\n",
      "\n"
     ]
    },
    {
     "name": "stderr",
     "output_type": "stream",
     "text": [
      "\r",
      " 25%|██▌       | 25.0/100 [01:07<03:10,  2.54s/it]"
     ]
    },
    {
     "name": "stdout",
     "output_type": "stream",
     "text": [
      "DIGIT: 0\n",
      "EPOCH 25: 2.30122 sec\n",
      "Critic loss: -0.38886\n",
      "Generator loss: -0.32702\n",
      "\n"
     ]
    },
    {
     "name": "stderr",
     "output_type": "stream",
     "text": [
      "\r",
      " 26%|██▌       | 26.0/100 [01:10<03:04,  2.49s/it]"
     ]
    },
    {
     "name": "stdout",
     "output_type": "stream",
     "text": [
      "DIGIT: 0\n",
      "EPOCH 26: 2.29622 sec\n",
      "Critic loss: -0.35138\n",
      "Generator loss: -0.01249\n",
      "\n"
     ]
    },
    {
     "name": "stderr",
     "output_type": "stream",
     "text": [
      "\r",
      " 27%|██▋       | 27.0/100 [01:12<02:59,  2.46s/it]"
     ]
    },
    {
     "name": "stdout",
     "output_type": "stream",
     "text": [
      "DIGIT: 0\n",
      "EPOCH 27: 2.29944 sec\n",
      "Critic loss: -0.35936\n",
      "Generator loss: 0.25740\n",
      "\n"
     ]
    },
    {
     "name": "stderr",
     "output_type": "stream",
     "text": [
      "\r",
      " 28%|██▊       | 28.0/100 [01:14<02:55,  2.43s/it]"
     ]
    },
    {
     "name": "stdout",
     "output_type": "stream",
     "text": [
      "DIGIT: 0\n",
      "EPOCH 28: 2.29709 sec\n",
      "Critic loss: -0.30645\n",
      "Generator loss: 0.85640\n",
      "\n"
     ]
    },
    {
     "name": "stderr",
     "output_type": "stream",
     "text": [
      "\r",
      " 29%|██▉       | 29.0/100 [01:17<02:51,  2.42s/it]"
     ]
    },
    {
     "name": "stdout",
     "output_type": "stream",
     "text": [
      "DIGIT: 0\n",
      "EPOCH 29: 2.30105 sec\n",
      "Critic loss: -0.16893\n",
      "Generator loss: 0.55202\n",
      "\n"
     ]
    },
    {
     "name": "stderr",
     "output_type": "stream",
     "text": [
      "\r",
      " 30%|███       | 30.0/100 [01:19<02:48,  2.41s/it]"
     ]
    },
    {
     "name": "stdout",
     "output_type": "stream",
     "text": [
      "DIGIT: 0\n",
      "EPOCH 30: 2.29893 sec\n",
      "Critic loss: -0.16196\n",
      "Generator loss: 0.75589\n",
      "\n"
     ]
    },
    {
     "name": "stderr",
     "output_type": "stream",
     "text": [
      "\r",
      " 31%|███       | 31.0/100 [01:22<02:45,  2.40s/it]"
     ]
    },
    {
     "name": "stdout",
     "output_type": "stream",
     "text": [
      "DIGIT: 0\n",
      "EPOCH 31: 2.29850 sec\n",
      "Critic loss: -0.21166\n",
      "Generator loss: 1.51603\n",
      "\n"
     ]
    },
    {
     "name": "stderr",
     "output_type": "stream",
     "text": [
      "\r",
      " 32%|███▏      | 32.0/100 [01:24<02:42,  2.39s/it]"
     ]
    },
    {
     "name": "stdout",
     "output_type": "stream",
     "text": [
      "DIGIT: 0\n",
      "EPOCH 32: 2.29874 sec\n",
      "Critic loss: -0.18945\n",
      "Generator loss: 2.00017\n",
      "\n"
     ]
    },
    {
     "name": "stderr",
     "output_type": "stream",
     "text": [
      "\r",
      " 33%|███▎      | 33.0/100 [01:26<02:40,  2.39s/it]"
     ]
    },
    {
     "name": "stdout",
     "output_type": "stream",
     "text": [
      "DIGIT: 0\n",
      "EPOCH 33: 2.29587 sec\n",
      "Critic loss: -0.25103\n",
      "Generator loss: 2.73216\n",
      "\n"
     ]
    },
    {
     "name": "stderr",
     "output_type": "stream",
     "text": [
      "\r",
      " 34%|███▍      | 34.0/100 [01:29<02:37,  2.39s/it]"
     ]
    },
    {
     "name": "stdout",
     "output_type": "stream",
     "text": [
      "DIGIT: 0\n",
      "EPOCH 34: 2.31123 sec\n",
      "Critic loss: -0.14687\n",
      "Generator loss: 2.48814\n",
      "\n"
     ]
    },
    {
     "name": "stderr",
     "output_type": "stream",
     "text": [
      "\r",
      " 35%|███▌      | 35.0/100 [01:31<02:35,  2.39s/it]"
     ]
    },
    {
     "name": "stdout",
     "output_type": "stream",
     "text": [
      "DIGIT: 0\n",
      "EPOCH 35: 2.30446 sec\n",
      "Critic loss: -0.25529\n",
      "Generator loss: 1.91024\n",
      "\n"
     ]
    },
    {
     "name": "stderr",
     "output_type": "stream",
     "text": [
      "\r",
      " 36%|███▌      | 36.0/100 [01:33<02:32,  2.39s/it]"
     ]
    },
    {
     "name": "stdout",
     "output_type": "stream",
     "text": [
      "DIGIT: 0\n",
      "EPOCH 36: 2.29662 sec\n",
      "Critic loss: -0.18845\n",
      "Generator loss: 2.67044\n",
      "\n"
     ]
    },
    {
     "name": "stderr",
     "output_type": "stream",
     "text": [
      "\r",
      " 37%|███▋      | 37.0/100 [01:36<02:30,  2.38s/it]"
     ]
    },
    {
     "name": "stdout",
     "output_type": "stream",
     "text": [
      "DIGIT: 0\n",
      "EPOCH 37: 2.29931 sec\n",
      "Critic loss: -0.27506\n",
      "Generator loss: 2.35362\n",
      "\n"
     ]
    },
    {
     "name": "stderr",
     "output_type": "stream",
     "text": [
      "\r",
      " 38%|███▊      | 38.0/100 [01:38<02:27,  2.38s/it]"
     ]
    },
    {
     "name": "stdout",
     "output_type": "stream",
     "text": [
      "DIGIT: 0\n",
      "EPOCH 38: 2.29827 sec\n",
      "Critic loss: -0.17321\n",
      "Generator loss: 2.29748\n",
      "\n"
     ]
    },
    {
     "name": "stderr",
     "output_type": "stream",
     "text": [
      "\r",
      " 39%|███▉      | 39.0/100 [01:41<02:25,  2.38s/it]"
     ]
    },
    {
     "name": "stdout",
     "output_type": "stream",
     "text": [
      "DIGIT: 0\n",
      "EPOCH 39: 2.30021 sec\n",
      "Critic loss: -0.21254\n",
      "Generator loss: 2.66744\n",
      "\n"
     ]
    },
    {
     "name": "stderr",
     "output_type": "stream",
     "text": [
      "\r",
      " 40%|████      | 40.0/100 [01:43<02:22,  2.38s/it]"
     ]
    },
    {
     "name": "stdout",
     "output_type": "stream",
     "text": [
      "DIGIT: 0\n",
      "EPOCH 40: 2.29902 sec\n",
      "Critic loss: 0.02497\n",
      "Generator loss: 2.98455\n",
      "\n"
     ]
    },
    {
     "name": "stderr",
     "output_type": "stream",
     "text": [
      "\r",
      " 41%|████      | 41.0/100 [01:45<02:20,  2.38s/it]"
     ]
    },
    {
     "name": "stdout",
     "output_type": "stream",
     "text": [
      "DIGIT: 0\n",
      "EPOCH 41: 2.30105 sec\n",
      "Critic loss: -0.12189\n",
      "Generator loss: 2.82440\n",
      "\n",
      "INFO:tensorflow:Assets written to: models/05-05-21_10:15:28/0/generator/assets\n",
      "INFO:tensorflow:Assets written to: models/05-05-21_10:15:28/0/critic/assets\n"
     ]
    },
    {
     "name": "stderr",
     "output_type": "stream",
     "text": [
      "\r",
      " 42%|████▏     | 42.0/100 [01:49<02:43,  2.82s/it]"
     ]
    },
    {
     "name": "stdout",
     "output_type": "stream",
     "text": [
      "DIGIT: 0\n",
      "EPOCH 42: 2.29763 sec\n",
      "Critic loss: -0.14215\n",
      "Generator loss: 3.03727\n",
      "\n"
     ]
    },
    {
     "name": "stderr",
     "output_type": "stream",
     "text": [
      "\r",
      " 43%|████▎     | 43.0/100 [01:52<02:33,  2.69s/it]"
     ]
    },
    {
     "name": "stdout",
     "output_type": "stream",
     "text": [
      "DIGIT: 0\n",
      "EPOCH 43: 2.29765 sec\n",
      "Critic loss: -0.24699\n",
      "Generator loss: 2.86678\n",
      "\n"
     ]
    },
    {
     "name": "stderr",
     "output_type": "stream",
     "text": [
      "\r",
      " 44%|████▍     | 44.0/100 [01:54<02:25,  2.60s/it]"
     ]
    },
    {
     "name": "stdout",
     "output_type": "stream",
     "text": [
      "DIGIT: 0\n",
      "EPOCH 44: 2.30406 sec\n",
      "Critic loss: -0.21538\n",
      "Generator loss: 2.47452\n",
      "\n"
     ]
    },
    {
     "name": "stderr",
     "output_type": "stream",
     "text": [
      "\r",
      " 45%|████▌     | 45.0/100 [01:56<02:19,  2.53s/it]"
     ]
    },
    {
     "name": "stdout",
     "output_type": "stream",
     "text": [
      "DIGIT: 0\n",
      "EPOCH 45: 2.29825 sec\n",
      "Critic loss: -0.25574\n",
      "Generator loss: 2.47024\n",
      "\n"
     ]
    },
    {
     "name": "stderr",
     "output_type": "stream",
     "text": [
      "\r",
      " 46%|████▌     | 46.0/100 [01:59<02:14,  2.49s/it]"
     ]
    },
    {
     "name": "stdout",
     "output_type": "stream",
     "text": [
      "DIGIT: 0\n",
      "EPOCH 46: 2.29687 sec\n",
      "Critic loss: -0.29075\n",
      "Generator loss: 3.60989\n",
      "\n"
     ]
    },
    {
     "name": "stderr",
     "output_type": "stream",
     "text": [
      "\r",
      " 47%|████▋     | 47.0/100 [02:01<02:10,  2.45s/it]"
     ]
    },
    {
     "name": "stdout",
     "output_type": "stream",
     "text": [
      "DIGIT: 0\n",
      "EPOCH 47: 2.29817 sec\n",
      "Critic loss: -0.10147\n",
      "Generator loss: 3.11890\n",
      "\n"
     ]
    },
    {
     "name": "stderr",
     "output_type": "stream",
     "text": [
      "\r",
      " 48%|████▊     | 48.0/100 [02:04<02:06,  2.43s/it]"
     ]
    },
    {
     "name": "stdout",
     "output_type": "stream",
     "text": [
      "DIGIT: 0\n",
      "EPOCH 48: 2.29724 sec\n",
      "Critic loss: -0.21666\n",
      "Generator loss: 2.75094\n",
      "\n"
     ]
    },
    {
     "name": "stderr",
     "output_type": "stream",
     "text": [
      "\r",
      " 49%|████▉     | 49.0/100 [02:06<02:03,  2.42s/it]"
     ]
    },
    {
     "name": "stdout",
     "output_type": "stream",
     "text": [
      "DIGIT: 0\n",
      "EPOCH 49: 2.29897 sec\n",
      "Critic loss: -0.19631\n",
      "Generator loss: 2.05322\n",
      "\n"
     ]
    },
    {
     "name": "stderr",
     "output_type": "stream",
     "text": [
      "\r",
      " 50%|█████     | 50.0/100 [02:08<02:00,  2.41s/it]"
     ]
    },
    {
     "name": "stdout",
     "output_type": "stream",
     "text": [
      "DIGIT: 0\n",
      "EPOCH 50: 2.29935 sec\n",
      "Critic loss: -0.17531\n",
      "Generator loss: 2.66627\n",
      "\n"
     ]
    },
    {
     "name": "stderr",
     "output_type": "stream",
     "text": [
      "\r",
      " 51%|█████     | 51.0/100 [02:11<01:57,  2.40s/it]"
     ]
    },
    {
     "name": "stdout",
     "output_type": "stream",
     "text": [
      "DIGIT: 0\n",
      "EPOCH 51: 2.29748 sec\n",
      "Critic loss: -0.23157\n",
      "Generator loss: 3.39210\n",
      "\n"
     ]
    },
    {
     "name": "stderr",
     "output_type": "stream",
     "text": [
      "\r",
      " 52%|█████▏    | 52.0/100 [02:13<01:54,  2.39s/it]"
     ]
    },
    {
     "name": "stdout",
     "output_type": "stream",
     "text": [
      "DIGIT: 0\n",
      "EPOCH 52: 2.29989 sec\n",
      "Critic loss: -0.21019\n",
      "Generator loss: 2.03359\n",
      "\n"
     ]
    },
    {
     "name": "stderr",
     "output_type": "stream",
     "text": [
      "\r",
      " 53%|█████▎    | 53.0/100 [02:15<01:52,  2.39s/it]"
     ]
    },
    {
     "name": "stdout",
     "output_type": "stream",
     "text": [
      "DIGIT: 0\n",
      "EPOCH 53: 2.29849 sec\n",
      "Critic loss: -0.20455\n",
      "Generator loss: 3.01951\n",
      "\n"
     ]
    },
    {
     "name": "stderr",
     "output_type": "stream",
     "text": [
      "\r",
      " 54%|█████▍    | 54.0/100 [02:18<01:49,  2.39s/it]"
     ]
    },
    {
     "name": "stdout",
     "output_type": "stream",
     "text": [
      "DIGIT: 0\n",
      "EPOCH 54: 2.29784 sec\n",
      "Critic loss: -0.13950\n",
      "Generator loss: 2.54321\n",
      "\n"
     ]
    },
    {
     "name": "stderr",
     "output_type": "stream",
     "text": [
      "\r",
      " 55%|█████▌    | 55.0/100 [02:20<01:47,  2.39s/it]"
     ]
    },
    {
     "name": "stdout",
     "output_type": "stream",
     "text": [
      "DIGIT: 0\n",
      "EPOCH 55: 2.30353 sec\n",
      "Critic loss: -0.18745\n",
      "Generator loss: 2.53924\n",
      "\n"
     ]
    },
    {
     "name": "stderr",
     "output_type": "stream",
     "text": [
      "\r",
      " 56%|█████▌    | 56.0/100 [02:23<01:44,  2.38s/it]"
     ]
    },
    {
     "name": "stdout",
     "output_type": "stream",
     "text": [
      "DIGIT: 0\n",
      "EPOCH 56: 2.29788 sec\n",
      "Critic loss: -0.12762\n",
      "Generator loss: 2.28622\n",
      "\n"
     ]
    },
    {
     "name": "stderr",
     "output_type": "stream",
     "text": [
      "\r",
      " 57%|█████▋    | 57.0/100 [02:25<01:42,  2.38s/it]"
     ]
    },
    {
     "name": "stdout",
     "output_type": "stream",
     "text": [
      "DIGIT: 0\n",
      "EPOCH 57: 2.29961 sec\n",
      "Critic loss: -0.16557\n",
      "Generator loss: 2.36997\n",
      "\n"
     ]
    },
    {
     "name": "stderr",
     "output_type": "stream",
     "text": [
      "\r",
      " 58%|█████▊    | 58.0/100 [02:27<01:40,  2.38s/it]"
     ]
    },
    {
     "name": "stdout",
     "output_type": "stream",
     "text": [
      "DIGIT: 0\n",
      "EPOCH 58: 2.29962 sec\n",
      "Critic loss: -0.10153\n",
      "Generator loss: 1.54293\n",
      "\n"
     ]
    },
    {
     "name": "stderr",
     "output_type": "stream",
     "text": [
      "\r",
      " 59%|█████▉    | 59.0/100 [02:30<01:37,  2.38s/it]"
     ]
    },
    {
     "name": "stdout",
     "output_type": "stream",
     "text": [
      "DIGIT: 0\n",
      "EPOCH 59: 2.29814 sec\n",
      "Critic loss: -0.13636\n",
      "Generator loss: 2.13138\n",
      "\n"
     ]
    },
    {
     "name": "stderr",
     "output_type": "stream",
     "text": [
      "\r",
      " 60%|██████    | 60.0/100 [02:32<01:35,  2.38s/it]"
     ]
    },
    {
     "name": "stdout",
     "output_type": "stream",
     "text": [
      "DIGIT: 0\n",
      "EPOCH 60: 2.30114 sec\n",
      "Critic loss: -0.09410\n",
      "Generator loss: 1.50219\n",
      "\n"
     ]
    },
    {
     "name": "stderr",
     "output_type": "stream",
     "text": [
      "\r",
      " 61%|██████    | 61.0/100 [02:34<01:32,  2.38s/it]"
     ]
    },
    {
     "name": "stdout",
     "output_type": "stream",
     "text": [
      "DIGIT: 0\n",
      "EPOCH 61: 2.30200 sec\n",
      "Critic loss: -0.16311\n",
      "Generator loss: 2.02170\n",
      "\n",
      "INFO:tensorflow:Assets written to: models/05-05-21_10:15:28/0/generator/assets\n",
      "INFO:tensorflow:Assets written to: models/05-05-21_10:15:28/0/critic/assets\n"
     ]
    },
    {
     "name": "stderr",
     "output_type": "stream",
     "text": [
      "\r",
      " 62%|██████▏   | 62.0/100 [02:38<01:46,  2.80s/it]"
     ]
    },
    {
     "name": "stdout",
     "output_type": "stream",
     "text": [
      "DIGIT: 0\n",
      "EPOCH 62: 2.29412 sec\n",
      "Critic loss: -0.13552\n",
      "Generator loss: 1.09104\n",
      "\n"
     ]
    },
    {
     "name": "stderr",
     "output_type": "stream",
     "text": [
      "\r",
      " 63%|██████▎   | 63.0/100 [02:41<01:39,  2.68s/it]"
     ]
    },
    {
     "name": "stdout",
     "output_type": "stream",
     "text": [
      "DIGIT: 0\n",
      "EPOCH 63: 2.29597 sec\n",
      "Critic loss: -0.11721\n",
      "Generator loss: 1.35922\n",
      "\n"
     ]
    },
    {
     "name": "stderr",
     "output_type": "stream",
     "text": [
      "\r",
      " 64%|██████▍   | 64.0/100 [02:43<01:33,  2.59s/it]"
     ]
    },
    {
     "name": "stdout",
     "output_type": "stream",
     "text": [
      "DIGIT: 0\n",
      "EPOCH 64: 2.29226 sec\n",
      "Critic loss: -0.10325\n",
      "Generator loss: 0.93648\n",
      "\n"
     ]
    },
    {
     "name": "stderr",
     "output_type": "stream",
     "text": [
      "\r",
      " 65%|██████▌   | 65.0/100 [02:45<01:28,  2.52s/it]"
     ]
    },
    {
     "name": "stdout",
     "output_type": "stream",
     "text": [
      "DIGIT: 0\n",
      "EPOCH 65: 2.29472 sec\n",
      "Critic loss: -0.13440\n",
      "Generator loss: 1.69772\n",
      "\n"
     ]
    },
    {
     "name": "stderr",
     "output_type": "stream",
     "text": [
      "\r",
      " 66%|██████▌   | 66.0/100 [02:48<01:24,  2.48s/it]"
     ]
    },
    {
     "name": "stdout",
     "output_type": "stream",
     "text": [
      "DIGIT: 0\n",
      "EPOCH 66: 2.29332 sec\n",
      "Critic loss: -0.10630\n",
      "Generator loss: 1.04215\n",
      "\n"
     ]
    },
    {
     "name": "stderr",
     "output_type": "stream",
     "text": [
      "\r",
      " 67%|██████▋   | 67.0/100 [02:50<01:20,  2.45s/it]"
     ]
    },
    {
     "name": "stdout",
     "output_type": "stream",
     "text": [
      "DIGIT: 0\n",
      "EPOCH 67: 2.29795 sec\n",
      "Critic loss: 0.01637\n",
      "Generator loss: 1.22488\n",
      "\n"
     ]
    },
    {
     "name": "stderr",
     "output_type": "stream",
     "text": [
      "\r",
      " 68%|██████▊   | 68.0/100 [02:53<01:17,  2.43s/it]"
     ]
    },
    {
     "name": "stdout",
     "output_type": "stream",
     "text": [
      "DIGIT: 0\n",
      "EPOCH 68: 2.29640 sec\n",
      "Critic loss: -0.10626\n",
      "Generator loss: 0.79256\n",
      "\n"
     ]
    },
    {
     "name": "stderr",
     "output_type": "stream",
     "text": [
      "\r",
      " 69%|██████▉   | 69.0/100 [02:55<01:14,  2.41s/it]"
     ]
    },
    {
     "name": "stdout",
     "output_type": "stream",
     "text": [
      "DIGIT: 0\n",
      "EPOCH 69: 2.30022 sec\n",
      "Critic loss: -0.08351\n",
      "Generator loss: 0.86941\n",
      "\n"
     ]
    },
    {
     "name": "stderr",
     "output_type": "stream",
     "text": [
      "\r",
      " 70%|███████   | 70.0/100 [02:57<01:12,  2.40s/it]"
     ]
    },
    {
     "name": "stdout",
     "output_type": "stream",
     "text": [
      "DIGIT: 0\n",
      "EPOCH 70: 2.30058 sec\n",
      "Critic loss: -0.11619\n",
      "Generator loss: 0.63926\n",
      "\n"
     ]
    },
    {
     "name": "stderr",
     "output_type": "stream",
     "text": [
      "\r",
      " 71%|███████   | 71.0/100 [03:00<01:09,  2.40s/it]"
     ]
    },
    {
     "name": "stdout",
     "output_type": "stream",
     "text": [
      "DIGIT: 0\n",
      "EPOCH 71: 2.30196 sec\n",
      "Critic loss: -0.13344\n",
      "Generator loss: 0.66008\n",
      "\n"
     ]
    },
    {
     "name": "stderr",
     "output_type": "stream",
     "text": [
      "\r",
      " 72%|███████▏  | 72.0/100 [03:02<01:06,  2.39s/it]"
     ]
    },
    {
     "name": "stdout",
     "output_type": "stream",
     "text": [
      "DIGIT: 0\n",
      "EPOCH 72: 2.29679 sec\n",
      "Critic loss: -0.09334\n",
      "Generator loss: 1.02670\n",
      "\n"
     ]
    },
    {
     "name": "stderr",
     "output_type": "stream",
     "text": [
      "\r",
      " 73%|███████▎  | 73.0/100 [03:04<01:04,  2.39s/it]"
     ]
    },
    {
     "name": "stdout",
     "output_type": "stream",
     "text": [
      "DIGIT: 0\n",
      "EPOCH 73: 2.29651 sec\n",
      "Critic loss: -0.12552\n",
      "Generator loss: 0.46551\n",
      "\n"
     ]
    },
    {
     "name": "stderr",
     "output_type": "stream",
     "text": [
      "\r",
      " 74%|███████▍  | 74.0/100 [03:07<01:01,  2.38s/it]"
     ]
    },
    {
     "name": "stdout",
     "output_type": "stream",
     "text": [
      "DIGIT: 0\n",
      "EPOCH 74: 2.29456 sec\n",
      "Critic loss: -0.11138\n",
      "Generator loss: 1.17471\n",
      "\n"
     ]
    },
    {
     "name": "stderr",
     "output_type": "stream",
     "text": [
      "\r",
      " 75%|███████▌  | 75.0/100 [03:09<00:59,  2.38s/it]"
     ]
    },
    {
     "name": "stdout",
     "output_type": "stream",
     "text": [
      "DIGIT: 0\n",
      "EPOCH 75: 2.29626 sec\n",
      "Critic loss: -0.14043\n",
      "Generator loss: 0.13080\n",
      "\n"
     ]
    },
    {
     "name": "stderr",
     "output_type": "stream",
     "text": [
      "\r",
      " 76%|███████▌  | 76.0/100 [03:12<00:57,  2.38s/it]"
     ]
    },
    {
     "name": "stdout",
     "output_type": "stream",
     "text": [
      "DIGIT: 0\n",
      "EPOCH 76: 2.29405 sec\n",
      "Critic loss: -0.13955\n",
      "Generator loss: 0.90361\n",
      "\n"
     ]
    },
    {
     "name": "stderr",
     "output_type": "stream",
     "text": [
      "\r",
      " 77%|███████▋  | 77.0/100 [03:14<00:54,  2.38s/it]"
     ]
    },
    {
     "name": "stdout",
     "output_type": "stream",
     "text": [
      "DIGIT: 0\n",
      "EPOCH 77: 2.29570 sec\n",
      "Critic loss: -0.07796\n",
      "Generator loss: 0.81778\n",
      "\n"
     ]
    },
    {
     "name": "stderr",
     "output_type": "stream",
     "text": [
      "\r",
      " 78%|███████▊  | 78.0/100 [03:16<00:52,  2.38s/it]"
     ]
    },
    {
     "name": "stdout",
     "output_type": "stream",
     "text": [
      "DIGIT: 0\n",
      "EPOCH 78: 2.29333 sec\n",
      "Critic loss: -0.08505\n",
      "Generator loss: 0.06620\n",
      "\n"
     ]
    },
    {
     "name": "stderr",
     "output_type": "stream",
     "text": [
      "\r",
      " 79%|███████▉  | 79.0/100 [03:19<00:49,  2.38s/it]"
     ]
    },
    {
     "name": "stdout",
     "output_type": "stream",
     "text": [
      "DIGIT: 0\n",
      "EPOCH 79: 2.29709 sec\n",
      "Critic loss: -0.08528\n",
      "Generator loss: 0.16091\n",
      "\n"
     ]
    },
    {
     "name": "stderr",
     "output_type": "stream",
     "text": [
      "\r",
      " 80%|████████  | 80.0/100 [03:21<00:47,  2.38s/it]"
     ]
    },
    {
     "name": "stdout",
     "output_type": "stream",
     "text": [
      "DIGIT: 0\n",
      "EPOCH 80: 2.29598 sec\n",
      "Critic loss: -0.12662\n",
      "Generator loss: 1.34117\n",
      "\n"
     ]
    },
    {
     "name": "stderr",
     "output_type": "stream",
     "text": [
      "\r",
      " 81%|████████  | 81.0/100 [03:23<00:45,  2.38s/it]"
     ]
    },
    {
     "name": "stdout",
     "output_type": "stream",
     "text": [
      "DIGIT: 0\n",
      "EPOCH 81: 2.29523 sec\n",
      "Critic loss: -0.10910\n",
      "Generator loss: 0.50261\n",
      "\n",
      "INFO:tensorflow:Assets written to: models/05-05-21_10:15:28/0/generator/assets\n",
      "INFO:tensorflow:Assets written to: models/05-05-21_10:15:28/0/critic/assets\n"
     ]
    },
    {
     "name": "stderr",
     "output_type": "stream",
     "text": [
      "\r",
      " 82%|████████▏ | 82.0/100 [03:27<00:50,  2.82s/it]"
     ]
    },
    {
     "name": "stdout",
     "output_type": "stream",
     "text": [
      "DIGIT: 0\n",
      "EPOCH 82: 2.29391 sec\n",
      "Critic loss: -0.04767\n",
      "Generator loss: 1.00401\n",
      "\n"
     ]
    },
    {
     "name": "stderr",
     "output_type": "stream",
     "text": [
      "\r",
      " 83%|████████▎ | 83.0/100 [03:30<00:45,  2.69s/it]"
     ]
    },
    {
     "name": "stdout",
     "output_type": "stream",
     "text": [
      "DIGIT: 0\n",
      "EPOCH 83: 2.30998 sec\n",
      "Critic loss: -0.09785\n",
      "Generator loss: 0.96009\n",
      "\n"
     ]
    },
    {
     "name": "stderr",
     "output_type": "stream",
     "text": [
      "\r",
      " 84%|████████▍ | 84.0/100 [03:32<00:41,  2.60s/it]"
     ]
    },
    {
     "name": "stdout",
     "output_type": "stream",
     "text": [
      "DIGIT: 0\n",
      "EPOCH 84: 2.30124 sec\n",
      "Critic loss: -0.12800\n",
      "Generator loss: 1.37054\n",
      "\n"
     ]
    },
    {
     "name": "stderr",
     "output_type": "stream",
     "text": [
      "\r",
      " 85%|████████▌ | 85.0/100 [03:34<00:37,  2.53s/it]"
     ]
    },
    {
     "name": "stdout",
     "output_type": "stream",
     "text": [
      "DIGIT: 0\n",
      "EPOCH 85: 2.29382 sec\n",
      "Critic loss: -0.10801\n",
      "Generator loss: 1.16918\n",
      "\n"
     ]
    },
    {
     "name": "stderr",
     "output_type": "stream",
     "text": [
      "\r",
      " 86%|████████▌ | 86.0/100 [03:37<00:34,  2.49s/it]"
     ]
    },
    {
     "name": "stdout",
     "output_type": "stream",
     "text": [
      "DIGIT: 0\n",
      "EPOCH 86: 2.29833 sec\n",
      "Critic loss: -0.08838\n",
      "Generator loss: 0.73133\n",
      "\n"
     ]
    },
    {
     "name": "stderr",
     "output_type": "stream",
     "text": [
      "\r",
      " 87%|████████▋ | 87.0/100 [03:39<00:31,  2.45s/it]"
     ]
    },
    {
     "name": "stdout",
     "output_type": "stream",
     "text": [
      "DIGIT: 0\n",
      "EPOCH 87: 2.29473 sec\n",
      "Critic loss: -0.08257\n",
      "Generator loss: 0.87313\n",
      "\n"
     ]
    },
    {
     "name": "stderr",
     "output_type": "stream",
     "text": [
      "\r",
      " 88%|████████▊ | 88.0/100 [03:42<00:29,  2.43s/it]"
     ]
    },
    {
     "name": "stdout",
     "output_type": "stream",
     "text": [
      "DIGIT: 0\n",
      "EPOCH 88: 2.29976 sec\n",
      "Critic loss: -0.05155\n",
      "Generator loss: 1.18985\n",
      "\n"
     ]
    },
    {
     "name": "stderr",
     "output_type": "stream",
     "text": [
      "\r",
      " 89%|████████▉ | 89.0/100 [03:44<00:26,  2.41s/it]"
     ]
    },
    {
     "name": "stdout",
     "output_type": "stream",
     "text": [
      "DIGIT: 0\n",
      "EPOCH 89: 2.29364 sec\n",
      "Critic loss: -0.09863\n",
      "Generator loss: 1.19652\n",
      "\n"
     ]
    },
    {
     "name": "stderr",
     "output_type": "stream",
     "text": [
      "\r",
      " 90%|█████████ | 90.0/100 [03:46<00:24,  2.40s/it]"
     ]
    },
    {
     "name": "stdout",
     "output_type": "stream",
     "text": [
      "DIGIT: 0\n",
      "EPOCH 90: 2.29374 sec\n",
      "Critic loss: -0.11140\n",
      "Generator loss: 1.18012\n",
      "\n"
     ]
    },
    {
     "name": "stderr",
     "output_type": "stream",
     "text": [
      "\r",
      " 91%|█████████ | 91.0/100 [03:49<00:21,  2.40s/it]"
     ]
    },
    {
     "name": "stdout",
     "output_type": "stream",
     "text": [
      "DIGIT: 0\n",
      "EPOCH 91: 2.29531 sec\n",
      "Critic loss: -0.05192\n",
      "Generator loss: 1.07369\n",
      "\n"
     ]
    },
    {
     "name": "stderr",
     "output_type": "stream",
     "text": [
      "\r",
      " 92%|█████████▏| 92.0/100 [03:51<00:19,  2.39s/it]"
     ]
    },
    {
     "name": "stdout",
     "output_type": "stream",
     "text": [
      "DIGIT: 0\n",
      "EPOCH 92: 2.29754 sec\n",
      "Critic loss: -0.07367\n",
      "Generator loss: 1.26643\n",
      "\n"
     ]
    },
    {
     "name": "stderr",
     "output_type": "stream",
     "text": [
      "\r",
      " 93%|█████████▎| 93.0/100 [03:53<00:16,  2.39s/it]"
     ]
    },
    {
     "name": "stdout",
     "output_type": "stream",
     "text": [
      "DIGIT: 0\n",
      "EPOCH 93: 2.29429 sec\n",
      "Critic loss: -0.11918\n",
      "Generator loss: 0.73566\n",
      "\n"
     ]
    },
    {
     "name": "stderr",
     "output_type": "stream",
     "text": [
      "\r",
      " 94%|█████████▍| 94.0/100 [03:56<00:14,  2.38s/it]"
     ]
    },
    {
     "name": "stdout",
     "output_type": "stream",
     "text": [
      "DIGIT: 0\n",
      "EPOCH 94: 2.29246 sec\n",
      "Critic loss: -0.10007\n",
      "Generator loss: 1.11992\n",
      "\n"
     ]
    },
    {
     "name": "stderr",
     "output_type": "stream",
     "text": [
      "\r",
      " 95%|█████████▌| 95.0/100 [03:58<00:11,  2.38s/it]"
     ]
    },
    {
     "name": "stdout",
     "output_type": "stream",
     "text": [
      "DIGIT: 0\n",
      "EPOCH 95: 2.29513 sec\n",
      "Critic loss: -0.10530\n",
      "Generator loss: 1.29813\n",
      "\n"
     ]
    },
    {
     "name": "stderr",
     "output_type": "stream",
     "text": [
      "\r",
      " 96%|█████████▌| 96.0/100 [04:01<00:09,  2.38s/it]"
     ]
    },
    {
     "name": "stdout",
     "output_type": "stream",
     "text": [
      "DIGIT: 0\n",
      "EPOCH 96: 2.29562 sec\n",
      "Critic loss: -0.10271\n",
      "Generator loss: 0.82609\n",
      "\n"
     ]
    },
    {
     "name": "stderr",
     "output_type": "stream",
     "text": [
      "\r",
      " 97%|█████████▋| 97.0/100 [04:03<00:07,  2.38s/it]"
     ]
    },
    {
     "name": "stdout",
     "output_type": "stream",
     "text": [
      "DIGIT: 0\n",
      "EPOCH 97: 2.29535 sec\n",
      "Critic loss: -0.11514\n",
      "Generator loss: 1.08686\n",
      "\n"
     ]
    },
    {
     "name": "stderr",
     "output_type": "stream",
     "text": [
      "\r",
      " 98%|█████████▊| 98.0/100 [04:05<00:04,  2.38s/it]"
     ]
    },
    {
     "name": "stdout",
     "output_type": "stream",
     "text": [
      "DIGIT: 0\n",
      "EPOCH 98: 2.29708 sec\n",
      "Critic loss: -0.06011\n",
      "Generator loss: 1.35846\n",
      "\n"
     ]
    },
    {
     "name": "stderr",
     "output_type": "stream",
     "text": [
      "\r",
      " 99%|█████████▉| 99.0/100 [04:08<00:02,  2.38s/it]"
     ]
    },
    {
     "name": "stdout",
     "output_type": "stream",
     "text": [
      "DIGIT: 0\n",
      "EPOCH 99: 2.29841 sec\n",
      "Critic loss: -0.11930\n",
      "Generator loss: 1.01980\n",
      "\n"
     ]
    },
    {
     "name": "stderr",
     "output_type": "stream",
     "text": [
      "100%|██████████| 100.0/100 [04:10<00:00,  2.51s/it]\n",
      "  0%|          | 0/100 [00:00<?, ?it/s]"
     ]
    },
    {
     "name": "stdout",
     "output_type": "stream",
     "text": [
      "DIGIT: 0\n",
      "EPOCH 100: 2.29850 sec\n",
      "Critic loss: -0.09591\n",
      "Generator loss: 1.38790\n",
      "\n",
      "----------- TRAINING TO GENERATE **1** -----------\n"
     ]
    },
    {
     "name": "stderr",
     "output_type": "stream",
     "text": [
      "\r",
      "  1%|          | 1.0/100 [00:05<09:47,  5.94s/it]"
     ]
    },
    {
     "name": "stdout",
     "output_type": "stream",
     "text": [
      "DIGIT: 1\n",
      "EPOCH 1: 5.93795 sec\n",
      "Critic loss: -3.23537\n",
      "Generator loss: -2.93999\n",
      "\n",
      "INFO:tensorflow:Assets written to: models/05-05-21_10:15:28/1/generator/assets\n",
      "INFO:tensorflow:Assets written to: models/05-05-21_10:15:28/1/critic/assets\n"
     ]
    },
    {
     "name": "stderr",
     "output_type": "stream",
     "text": [
      "\r",
      "  2%|▏         | 2.0/100 [00:10<08:02,  4.92s/it]"
     ]
    },
    {
     "name": "stdout",
     "output_type": "stream",
     "text": [
      "DIGIT: 1\n",
      "EPOCH 2: 2.69593 sec\n",
      "Critic loss: -3.05347\n",
      "Generator loss: -2.48303\n",
      "\n"
     ]
    },
    {
     "name": "stderr",
     "output_type": "stream",
     "text": [
      "\r",
      "  3%|▎         | 3.0/100 [00:12<06:22,  3.94s/it]"
     ]
    },
    {
     "name": "stdout",
     "output_type": "stream",
     "text": [
      "DIGIT: 1\n",
      "EPOCH 3: 2.69313 sec\n",
      "Critic loss: -2.64823\n",
      "Generator loss: -1.60265\n",
      "\n"
     ]
    },
    {
     "name": "stderr",
     "output_type": "stream",
     "text": [
      "\r",
      "  4%|▍         | 4.0/100 [00:15<05:34,  3.48s/it]"
     ]
    },
    {
     "name": "stdout",
     "output_type": "stream",
     "text": [
      "DIGIT: 1\n",
      "EPOCH 4: 2.69363 sec\n",
      "Critic loss: -2.43881\n",
      "Generator loss: -0.92419\n",
      "\n"
     ]
    },
    {
     "name": "stderr",
     "output_type": "stream",
     "text": [
      "\r",
      "  5%|▌         | 5.0/100 [00:18<05:06,  3.23s/it]"
     ]
    },
    {
     "name": "stdout",
     "output_type": "stream",
     "text": [
      "DIGIT: 1\n",
      "EPOCH 5: 2.69724 sec\n",
      "Critic loss: -2.23530\n",
      "Generator loss: -0.19031\n",
      "\n"
     ]
    },
    {
     "name": "stderr",
     "output_type": "stream",
     "text": [
      "\r",
      "  6%|▌         | 6.0/100 [00:21<04:49,  3.08s/it]"
     ]
    },
    {
     "name": "stdout",
     "output_type": "stream",
     "text": [
      "DIGIT: 1\n",
      "EPOCH 6: 2.69623 sec\n",
      "Critic loss: -2.37998\n",
      "Generator loss: 0.66600\n",
      "\n"
     ]
    },
    {
     "name": "stderr",
     "output_type": "stream",
     "text": [
      "\r",
      "  7%|▋         | 7.0/100 [00:24<04:36,  2.98s/it]"
     ]
    },
    {
     "name": "stdout",
     "output_type": "stream",
     "text": [
      "DIGIT: 1\n",
      "EPOCH 7: 2.69250 sec\n",
      "Critic loss: -2.14796\n",
      "Generator loss: 0.18665\n",
      "\n"
     ]
    },
    {
     "name": "stderr",
     "output_type": "stream",
     "text": [
      "\r",
      "  8%|▊         | 8.0/100 [00:26<04:28,  2.91s/it]"
     ]
    },
    {
     "name": "stdout",
     "output_type": "stream",
     "text": [
      "DIGIT: 1\n",
      "EPOCH 8: 2.69540 sec\n",
      "Critic loss: -2.21397\n",
      "Generator loss: -0.70219\n",
      "\n"
     ]
    },
    {
     "name": "stderr",
     "output_type": "stream",
     "text": [
      "\r",
      "  9%|▉         | 9.0/100 [00:29<04:21,  2.88s/it]"
     ]
    },
    {
     "name": "stdout",
     "output_type": "stream",
     "text": [
      "DIGIT: 1\n",
      "EPOCH 9: 2.71179 sec\n",
      "Critic loss: -2.02166\n",
      "Generator loss: -0.52693\n",
      "\n"
     ]
    },
    {
     "name": "stderr",
     "output_type": "stream",
     "text": [
      "\r",
      " 10%|█         | 10.0/100 [00:32<04:17,  2.86s/it]"
     ]
    },
    {
     "name": "stdout",
     "output_type": "stream",
     "text": [
      "DIGIT: 1\n",
      "EPOCH 10: 2.73606 sec\n",
      "Critic loss: -2.04849\n",
      "Generator loss: -0.40216\n",
      "\n"
     ]
    },
    {
     "name": "stderr",
     "output_type": "stream",
     "text": [
      "\r",
      " 11%|█         | 11.0/100 [00:35<04:12,  2.84s/it]"
     ]
    },
    {
     "name": "stdout",
     "output_type": "stream",
     "text": [
      "DIGIT: 1\n",
      "EPOCH 11: 2.70339 sec\n",
      "Critic loss: -1.23696\n",
      "Generator loss: -1.42056\n",
      "\n"
     ]
    },
    {
     "name": "stderr",
     "output_type": "stream",
     "text": [
      "\r",
      " 12%|█▏        | 12.0/100 [00:37<04:08,  2.82s/it]"
     ]
    },
    {
     "name": "stdout",
     "output_type": "stream",
     "text": [
      "DIGIT: 1\n",
      "EPOCH 12: 2.69872 sec\n",
      "Critic loss: -0.85511\n",
      "Generator loss: -1.49450\n",
      "\n"
     ]
    },
    {
     "name": "stderr",
     "output_type": "stream",
     "text": [
      "\r",
      " 13%|█▎        | 13.0/100 [00:40<04:04,  2.81s/it]"
     ]
    },
    {
     "name": "stdout",
     "output_type": "stream",
     "text": [
      "DIGIT: 1\n",
      "EPOCH 13: 2.69763 sec\n",
      "Critic loss: -0.85935\n",
      "Generator loss: -0.95940\n",
      "\n"
     ]
    },
    {
     "name": "stderr",
     "output_type": "stream",
     "text": [
      "\r",
      " 14%|█▍        | 14.0/100 [00:43<04:00,  2.80s/it]"
     ]
    },
    {
     "name": "stdout",
     "output_type": "stream",
     "text": [
      "DIGIT: 1\n",
      "EPOCH 14: 2.69705 sec\n",
      "Critic loss: -0.66605\n",
      "Generator loss: -1.24667\n",
      "\n"
     ]
    },
    {
     "name": "stderr",
     "output_type": "stream",
     "text": [
      "\r",
      " 15%|█▌        | 15.0/100 [00:46<03:57,  2.79s/it]"
     ]
    },
    {
     "name": "stdout",
     "output_type": "stream",
     "text": [
      "DIGIT: 1\n",
      "EPOCH 15: 2.69605 sec\n",
      "Critic loss: -0.34271\n",
      "Generator loss: -1.51876\n",
      "\n"
     ]
    },
    {
     "name": "stderr",
     "output_type": "stream",
     "text": [
      "\r",
      " 16%|█▌        | 16.0/100 [00:49<03:54,  2.79s/it]"
     ]
    },
    {
     "name": "stdout",
     "output_type": "stream",
     "text": [
      "DIGIT: 1\n",
      "EPOCH 16: 2.70071 sec\n",
      "Critic loss: -0.30492\n",
      "Generator loss: -1.32466\n",
      "\n"
     ]
    },
    {
     "name": "stderr",
     "output_type": "stream",
     "text": [
      "\r",
      " 17%|█▋        | 17.0/100 [00:51<03:51,  2.79s/it]"
     ]
    },
    {
     "name": "stdout",
     "output_type": "stream",
     "text": [
      "DIGIT: 1\n",
      "EPOCH 17: 2.69496 sec\n",
      "Critic loss: -0.16518\n",
      "Generator loss: -1.32065\n",
      "\n"
     ]
    },
    {
     "name": "stderr",
     "output_type": "stream",
     "text": [
      "\r",
      " 18%|█▊        | 18.0/100 [00:54<03:48,  2.78s/it]"
     ]
    },
    {
     "name": "stdout",
     "output_type": "stream",
     "text": [
      "DIGIT: 1\n",
      "EPOCH 18: 2.69601 sec\n",
      "Critic loss: -0.09080\n",
      "Generator loss: -1.40890\n",
      "\n"
     ]
    },
    {
     "name": "stderr",
     "output_type": "stream",
     "text": [
      "\r",
      " 19%|█▉        | 19.0/100 [00:57<03:45,  2.78s/it]"
     ]
    },
    {
     "name": "stdout",
     "output_type": "stream",
     "text": [
      "DIGIT: 1\n",
      "EPOCH 19: 2.69818 sec\n",
      "Critic loss: -0.11499\n",
      "Generator loss: -1.32653\n",
      "\n"
     ]
    },
    {
     "name": "stderr",
     "output_type": "stream",
     "text": [
      "\r",
      " 20%|██        | 20.0/100 [01:00<03:42,  2.78s/it]"
     ]
    },
    {
     "name": "stdout",
     "output_type": "stream",
     "text": [
      "DIGIT: 1\n",
      "EPOCH 20: 2.69875 sec\n",
      "Critic loss: -0.03383\n",
      "Generator loss: -1.06389\n",
      "\n"
     ]
    },
    {
     "name": "stderr",
     "output_type": "stream",
     "text": [
      "\r",
      " 21%|██        | 21.0/100 [01:03<03:39,  2.78s/it]"
     ]
    },
    {
     "name": "stdout",
     "output_type": "stream",
     "text": [
      "DIGIT: 1\n",
      "EPOCH 21: 2.69522 sec\n",
      "Critic loss: -0.04762\n",
      "Generator loss: -1.05771\n",
      "\n",
      "INFO:tensorflow:Assets written to: models/05-05-21_10:15:28/1/generator/assets\n",
      "INFO:tensorflow:Assets written to: models/05-05-21_10:15:28/1/critic/assets\n"
     ]
    },
    {
     "name": "stderr",
     "output_type": "stream",
     "text": [
      "\r",
      " 22%|██▏       | 22.0/100 [01:07<04:09,  3.20s/it]"
     ]
    },
    {
     "name": "stdout",
     "output_type": "stream",
     "text": [
      "DIGIT: 1\n",
      "EPOCH 22: 2.69785 sec\n",
      "Critic loss: -0.05811\n",
      "Generator loss: -0.20849\n",
      "\n"
     ]
    },
    {
     "name": "stderr",
     "output_type": "stream",
     "text": [
      "\r",
      " 23%|██▎       | 23.0/100 [01:09<03:56,  3.07s/it]"
     ]
    },
    {
     "name": "stdout",
     "output_type": "stream",
     "text": [
      "DIGIT: 1\n",
      "EPOCH 23: 2.69563 sec\n",
      "Critic loss: -0.05664\n",
      "Generator loss: 0.98151\n",
      "\n"
     ]
    },
    {
     "name": "stderr",
     "output_type": "stream",
     "text": [
      "\r",
      " 24%|██▍       | 24.0/100 [01:12<03:46,  2.98s/it]"
     ]
    },
    {
     "name": "stdout",
     "output_type": "stream",
     "text": [
      "DIGIT: 1\n",
      "EPOCH 24: 2.69833 sec\n",
      "Critic loss: -0.11275\n",
      "Generator loss: 1.04190\n",
      "\n"
     ]
    },
    {
     "name": "stderr",
     "output_type": "stream",
     "text": [
      "\r",
      " 25%|██▌       | 25.0/100 [01:15<03:39,  2.92s/it]"
     ]
    },
    {
     "name": "stdout",
     "output_type": "stream",
     "text": [
      "DIGIT: 1\n",
      "EPOCH 25: 2.69707 sec\n",
      "Critic loss: -0.10423\n",
      "Generator loss: 1.09430\n",
      "\n"
     ]
    },
    {
     "name": "stderr",
     "output_type": "stream",
     "text": [
      "\r",
      " 26%|██▌       | 26.0/100 [01:18<03:33,  2.88s/it]"
     ]
    },
    {
     "name": "stdout",
     "output_type": "stream",
     "text": [
      "DIGIT: 1\n",
      "EPOCH 26: 2.71022 sec\n",
      "Critic loss: -0.11020\n",
      "Generator loss: 0.92199\n",
      "\n"
     ]
    },
    {
     "name": "stderr",
     "output_type": "stream",
     "text": [
      "\r",
      " 27%|██▋       | 27.0/100 [01:21<03:28,  2.86s/it]"
     ]
    },
    {
     "name": "stdout",
     "output_type": "stream",
     "text": [
      "DIGIT: 1\n",
      "EPOCH 27: 2.71281 sec\n",
      "Critic loss: -0.13855\n",
      "Generator loss: 1.32938\n",
      "\n"
     ]
    },
    {
     "name": "stderr",
     "output_type": "stream",
     "text": [
      "\r",
      " 28%|██▊       | 28.0/100 [01:23<03:24,  2.83s/it]"
     ]
    },
    {
     "name": "stdout",
     "output_type": "stream",
     "text": [
      "DIGIT: 1\n",
      "EPOCH 28: 2.69605 sec\n",
      "Critic loss: -0.14468\n",
      "Generator loss: 1.21158\n",
      "\n"
     ]
    },
    {
     "name": "stderr",
     "output_type": "stream",
     "text": [
      "\r",
      " 29%|██▉       | 29.0/100 [01:26<03:20,  2.82s/it]"
     ]
    },
    {
     "name": "stdout",
     "output_type": "stream",
     "text": [
      "DIGIT: 1\n",
      "EPOCH 29: 2.69807 sec\n",
      "Critic loss: -0.12398\n",
      "Generator loss: 1.27013\n",
      "\n"
     ]
    },
    {
     "name": "stderr",
     "output_type": "stream",
     "text": [
      "\r",
      " 30%|███       | 30.0/100 [01:29<03:16,  2.81s/it]"
     ]
    },
    {
     "name": "stdout",
     "output_type": "stream",
     "text": [
      "DIGIT: 1\n",
      "EPOCH 30: 2.69639 sec\n",
      "Critic loss: -0.07435\n",
      "Generator loss: 1.07415\n",
      "\n"
     ]
    },
    {
     "name": "stderr",
     "output_type": "stream",
     "text": [
      "\r",
      " 31%|███       | 31.0/100 [01:32<03:13,  2.80s/it]"
     ]
    },
    {
     "name": "stdout",
     "output_type": "stream",
     "text": [
      "DIGIT: 1\n",
      "EPOCH 31: 2.69646 sec\n",
      "Critic loss: -0.11001\n",
      "Generator loss: 1.01022\n",
      "\n"
     ]
    },
    {
     "name": "stderr",
     "output_type": "stream",
     "text": [
      "\r",
      " 32%|███▏      | 32.0/100 [01:35<03:09,  2.79s/it]"
     ]
    },
    {
     "name": "stdout",
     "output_type": "stream",
     "text": [
      "DIGIT: 1\n",
      "EPOCH 32: 2.69936 sec\n",
      "Critic loss: -0.05696\n",
      "Generator loss: 0.89052\n",
      "\n"
     ]
    },
    {
     "name": "stderr",
     "output_type": "stream",
     "text": [
      "\r",
      " 33%|███▎      | 33.0/100 [01:37<03:06,  2.79s/it]"
     ]
    },
    {
     "name": "stdout",
     "output_type": "stream",
     "text": [
      "DIGIT: 1\n",
      "EPOCH 33: 2.69622 sec\n",
      "Critic loss: -0.10403\n",
      "Generator loss: 1.18482\n",
      "\n"
     ]
    },
    {
     "name": "stderr",
     "output_type": "stream",
     "text": [
      "\r",
      " 34%|███▍      | 34.0/100 [01:40<03:03,  2.79s/it]"
     ]
    },
    {
     "name": "stdout",
     "output_type": "stream",
     "text": [
      "DIGIT: 1\n",
      "EPOCH 34: 2.70277 sec\n",
      "Critic loss: -0.08058\n",
      "Generator loss: 0.92391\n",
      "\n"
     ]
    },
    {
     "name": "stderr",
     "output_type": "stream",
     "text": [
      "\r",
      " 35%|███▌      | 35.0/100 [01:43<03:01,  2.78s/it]"
     ]
    },
    {
     "name": "stdout",
     "output_type": "stream",
     "text": [
      "DIGIT: 1\n",
      "EPOCH 35: 2.69817 sec\n",
      "Critic loss: -0.08982\n",
      "Generator loss: 0.80163\n",
      "\n"
     ]
    },
    {
     "name": "stderr",
     "output_type": "stream",
     "text": [
      "\r",
      " 36%|███▌      | 36.0/100 [01:46<02:58,  2.78s/it]"
     ]
    },
    {
     "name": "stdout",
     "output_type": "stream",
     "text": [
      "DIGIT: 1\n",
      "EPOCH 36: 2.69591 sec\n",
      "Critic loss: -0.07436\n",
      "Generator loss: 0.83965\n",
      "\n"
     ]
    },
    {
     "name": "stderr",
     "output_type": "stream",
     "text": [
      "\r",
      " 37%|███▋      | 37.0/100 [01:48<02:55,  2.78s/it]"
     ]
    },
    {
     "name": "stdout",
     "output_type": "stream",
     "text": [
      "DIGIT: 1\n",
      "EPOCH 37: 2.69630 sec\n",
      "Critic loss: -0.08451\n",
      "Generator loss: 1.27496\n",
      "\n"
     ]
    },
    {
     "name": "stderr",
     "output_type": "stream",
     "text": [
      "\r",
      " 38%|███▊      | 38.0/100 [01:51<02:52,  2.78s/it]"
     ]
    },
    {
     "name": "stdout",
     "output_type": "stream",
     "text": [
      "DIGIT: 1\n",
      "EPOCH 38: 2.69410 sec\n",
      "Critic loss: -0.11290\n",
      "Generator loss: 0.91255\n",
      "\n"
     ]
    },
    {
     "name": "stderr",
     "output_type": "stream",
     "text": [
      "\r",
      " 39%|███▉      | 39.0/100 [01:54<02:49,  2.78s/it]"
     ]
    },
    {
     "name": "stdout",
     "output_type": "stream",
     "text": [
      "DIGIT: 1\n",
      "EPOCH 39: 2.69978 sec\n",
      "Critic loss: -0.04994\n",
      "Generator loss: 0.88740\n",
      "\n"
     ]
    },
    {
     "name": "stderr",
     "output_type": "stream",
     "text": [
      "\r",
      " 40%|████      | 40.0/100 [01:57<02:46,  2.78s/it]"
     ]
    },
    {
     "name": "stdout",
     "output_type": "stream",
     "text": [
      "DIGIT: 1\n",
      "EPOCH 40: 2.69592 sec\n",
      "Critic loss: -0.05413\n",
      "Generator loss: 1.06378\n",
      "\n"
     ]
    },
    {
     "name": "stderr",
     "output_type": "stream",
     "text": [
      "\r",
      " 41%|████      | 41.0/100 [02:00<02:43,  2.78s/it]"
     ]
    },
    {
     "name": "stdout",
     "output_type": "stream",
     "text": [
      "DIGIT: 1\n",
      "EPOCH 41: 2.69778 sec\n",
      "Critic loss: -0.04337\n",
      "Generator loss: 0.96186\n",
      "\n",
      "INFO:tensorflow:Assets written to: models/05-05-21_10:15:28/1/generator/assets\n",
      "INFO:tensorflow:Assets written to: models/05-05-21_10:15:28/1/critic/assets\n"
     ]
    },
    {
     "name": "stderr",
     "output_type": "stream",
     "text": [
      "\r",
      " 42%|████▏     | 42.0/100 [02:04<03:07,  3.23s/it]"
     ]
    },
    {
     "name": "stdout",
     "output_type": "stream",
     "text": [
      "DIGIT: 1\n",
      "EPOCH 42: 2.69626 sec\n",
      "Critic loss: -0.09529\n",
      "Generator loss: 0.94855\n",
      "\n"
     ]
    },
    {
     "name": "stderr",
     "output_type": "stream",
     "text": [
      "\r",
      " 43%|████▎     | 43.0/100 [02:07<02:56,  3.09s/it]"
     ]
    },
    {
     "name": "stdout",
     "output_type": "stream",
     "text": [
      "DIGIT: 1\n",
      "EPOCH 43: 2.69416 sec\n",
      "Critic loss: -0.06520\n",
      "Generator loss: 1.03407\n",
      "\n"
     ]
    },
    {
     "name": "stderr",
     "output_type": "stream",
     "text": [
      "\r",
      " 44%|████▍     | 44.0/100 [02:09<02:47,  3.00s/it]"
     ]
    },
    {
     "name": "stdout",
     "output_type": "stream",
     "text": [
      "DIGIT: 1\n",
      "EPOCH 44: 2.69833 sec\n",
      "Critic loss: -0.04302\n",
      "Generator loss: 1.08945\n",
      "\n"
     ]
    },
    {
     "name": "stderr",
     "output_type": "stream",
     "text": [
      "\r",
      " 45%|████▌     | 45.0/100 [02:12<02:41,  2.93s/it]"
     ]
    },
    {
     "name": "stdout",
     "output_type": "stream",
     "text": [
      "DIGIT: 1\n",
      "EPOCH 45: 2.69613 sec\n",
      "Critic loss: -0.06511\n",
      "Generator loss: 0.99075\n",
      "\n"
     ]
    },
    {
     "name": "stderr",
     "output_type": "stream",
     "text": [
      "\r",
      " 46%|████▌     | 46.0/100 [02:15<02:35,  2.89s/it]"
     ]
    },
    {
     "name": "stdout",
     "output_type": "stream",
     "text": [
      "DIGIT: 1\n",
      "EPOCH 46: 2.69593 sec\n",
      "Critic loss: -0.09196\n",
      "Generator loss: 0.85074\n",
      "\n"
     ]
    },
    {
     "name": "stderr",
     "output_type": "stream",
     "text": [
      "\r",
      " 47%|████▋     | 47.0/100 [02:18<02:31,  2.85s/it]"
     ]
    },
    {
     "name": "stdout",
     "output_type": "stream",
     "text": [
      "DIGIT: 1\n",
      "EPOCH 47: 2.69874 sec\n",
      "Critic loss: -0.07888\n",
      "Generator loss: 0.62481\n",
      "\n"
     ]
    },
    {
     "name": "stderr",
     "output_type": "stream",
     "text": [
      "\r",
      " 48%|████▊     | 48.0/100 [02:20<02:27,  2.83s/it]"
     ]
    },
    {
     "name": "stdout",
     "output_type": "stream",
     "text": [
      "DIGIT: 1\n",
      "EPOCH 48: 2.69893 sec\n",
      "Critic loss: -0.06597\n",
      "Generator loss: 0.95038\n",
      "\n"
     ]
    },
    {
     "name": "stderr",
     "output_type": "stream",
     "text": [
      "\r",
      " 49%|████▉     | 49.0/100 [02:23<02:23,  2.82s/it]"
     ]
    },
    {
     "name": "stdout",
     "output_type": "stream",
     "text": [
      "DIGIT: 1\n",
      "EPOCH 49: 2.69895 sec\n",
      "Critic loss: -0.04332\n",
      "Generator loss: 0.96858\n",
      "\n"
     ]
    },
    {
     "name": "stderr",
     "output_type": "stream",
     "text": [
      "\r",
      " 50%|█████     | 50.0/100 [02:26<02:20,  2.81s/it]"
     ]
    },
    {
     "name": "stdout",
     "output_type": "stream",
     "text": [
      "DIGIT: 1\n",
      "EPOCH 50: 2.69686 sec\n",
      "Critic loss: -0.08058\n",
      "Generator loss: 1.19721\n",
      "\n"
     ]
    },
    {
     "name": "stderr",
     "output_type": "stream",
     "text": [
      "\r",
      " 51%|█████     | 51.0/100 [02:29<02:17,  2.80s/it]"
     ]
    },
    {
     "name": "stdout",
     "output_type": "stream",
     "text": [
      "DIGIT: 1\n",
      "EPOCH 51: 2.69422 sec\n",
      "Critic loss: -0.10400\n",
      "Generator loss: 1.32967\n",
      "\n"
     ]
    },
    {
     "name": "stderr",
     "output_type": "stream",
     "text": [
      "\r",
      " 52%|█████▏    | 52.0/100 [02:32<02:13,  2.79s/it]"
     ]
    },
    {
     "name": "stdout",
     "output_type": "stream",
     "text": [
      "DIGIT: 1\n",
      "EPOCH 52: 2.69693 sec\n",
      "Critic loss: -0.06781\n",
      "Generator loss: 1.29824\n",
      "\n"
     ]
    },
    {
     "name": "stderr",
     "output_type": "stream",
     "text": [
      "\r",
      " 53%|█████▎    | 53.0/100 [02:34<02:10,  2.79s/it]"
     ]
    },
    {
     "name": "stdout",
     "output_type": "stream",
     "text": [
      "DIGIT: 1\n",
      "EPOCH 53: 2.69503 sec\n",
      "Critic loss: -0.07585\n",
      "Generator loss: 1.03247\n",
      "\n"
     ]
    },
    {
     "name": "stderr",
     "output_type": "stream",
     "text": [
      "\r",
      " 54%|█████▍    | 54.0/100 [02:37<02:08,  2.78s/it]"
     ]
    },
    {
     "name": "stdout",
     "output_type": "stream",
     "text": [
      "DIGIT: 1\n",
      "EPOCH 54: 2.69410 sec\n",
      "Critic loss: -0.07657\n",
      "Generator loss: 1.23806\n",
      "\n"
     ]
    },
    {
     "name": "stderr",
     "output_type": "stream",
     "text": [
      "\r",
      " 55%|█████▌    | 55.0/100 [02:40<02:05,  2.78s/it]"
     ]
    },
    {
     "name": "stdout",
     "output_type": "stream",
     "text": [
      "DIGIT: 1\n",
      "EPOCH 55: 2.69579 sec\n",
      "Critic loss: -0.07423\n",
      "Generator loss: 1.22204\n",
      "\n"
     ]
    },
    {
     "name": "stderr",
     "output_type": "stream",
     "text": [
      "\r",
      " 56%|█████▌    | 56.0/100 [02:43<02:02,  2.78s/it]"
     ]
    },
    {
     "name": "stdout",
     "output_type": "stream",
     "text": [
      "DIGIT: 1\n",
      "EPOCH 56: 2.69740 sec\n",
      "Critic loss: -0.07666\n",
      "Generator loss: 1.62030\n",
      "\n"
     ]
    },
    {
     "name": "stderr",
     "output_type": "stream",
     "text": [
      "\r",
      " 57%|█████▋    | 57.0/100 [02:45<01:59,  2.78s/it]"
     ]
    },
    {
     "name": "stdout",
     "output_type": "stream",
     "text": [
      "DIGIT: 1\n",
      "EPOCH 57: 2.69439 sec\n",
      "Critic loss: -0.06624\n",
      "Generator loss: 0.98591\n",
      "\n"
     ]
    },
    {
     "name": "stderr",
     "output_type": "stream",
     "text": [
      "\r",
      " 58%|█████▊    | 58.0/100 [02:48<01:56,  2.78s/it]"
     ]
    },
    {
     "name": "stdout",
     "output_type": "stream",
     "text": [
      "DIGIT: 1\n",
      "EPOCH 58: 2.69764 sec\n",
      "Critic loss: -0.05721\n",
      "Generator loss: 1.24296\n",
      "\n"
     ]
    },
    {
     "name": "stderr",
     "output_type": "stream",
     "text": [
      "\r",
      " 59%|█████▉    | 59.0/100 [02:51<01:53,  2.78s/it]"
     ]
    },
    {
     "name": "stdout",
     "output_type": "stream",
     "text": [
      "DIGIT: 1\n",
      "EPOCH 59: 2.69391 sec\n",
      "Critic loss: -0.05819\n",
      "Generator loss: 1.23550\n",
      "\n"
     ]
    },
    {
     "name": "stderr",
     "output_type": "stream",
     "text": [
      "\r",
      " 60%|██████    | 60.0/100 [02:54<01:51,  2.78s/it]"
     ]
    },
    {
     "name": "stdout",
     "output_type": "stream",
     "text": [
      "DIGIT: 1\n",
      "EPOCH 60: 2.69804 sec\n",
      "Critic loss: -0.07837\n",
      "Generator loss: 1.53206\n",
      "\n"
     ]
    },
    {
     "name": "stderr",
     "output_type": "stream",
     "text": [
      "\r",
      " 61%|██████    | 61.0/100 [02:57<01:48,  2.78s/it]"
     ]
    },
    {
     "name": "stdout",
     "output_type": "stream",
     "text": [
      "DIGIT: 1\n",
      "EPOCH 61: 2.71011 sec\n",
      "Critic loss: -0.04987\n",
      "Generator loss: 1.51922\n",
      "\n",
      "INFO:tensorflow:Assets written to: models/05-05-21_10:15:28/1/generator/assets\n",
      "INFO:tensorflow:Assets written to: models/05-05-21_10:15:28/1/critic/assets\n"
     ]
    },
    {
     "name": "stderr",
     "output_type": "stream",
     "text": [
      "\r",
      " 62%|██████▏   | 62.0/100 [03:01<02:05,  3.30s/it]"
     ]
    },
    {
     "name": "stdout",
     "output_type": "stream",
     "text": [
      "DIGIT: 1\n",
      "EPOCH 62: 2.81115 sec\n",
      "Critic loss: -0.03041\n",
      "Generator loss: 1.64460\n",
      "\n"
     ]
    },
    {
     "name": "stderr",
     "output_type": "stream",
     "text": [
      "\r",
      " 63%|██████▎   | 63.0/100 [03:04<01:56,  3.16s/it]"
     ]
    },
    {
     "name": "stdout",
     "output_type": "stream",
     "text": [
      "DIGIT: 1\n",
      "EPOCH 63: 2.75120 sec\n",
      "Critic loss: -0.03170\n",
      "Generator loss: 1.35483\n",
      "\n"
     ]
    },
    {
     "name": "stderr",
     "output_type": "stream",
     "text": [
      "\r",
      " 64%|██████▍   | 64.0/100 [03:07<01:51,  3.10s/it]"
     ]
    },
    {
     "name": "stdout",
     "output_type": "stream",
     "text": [
      "DIGIT: 1\n",
      "EPOCH 64: 2.88730 sec\n",
      "Critic loss: -0.03685\n",
      "Generator loss: 1.67165\n",
      "\n"
     ]
    },
    {
     "name": "stderr",
     "output_type": "stream",
     "text": [
      "\r",
      " 65%|██████▌   | 65.0/100 [03:10<01:46,  3.04s/it]"
     ]
    },
    {
     "name": "stdout",
     "output_type": "stream",
     "text": [
      "DIGIT: 1\n",
      "EPOCH 65: 2.80660 sec\n",
      "Critic loss: -0.02298\n",
      "Generator loss: 2.03381\n",
      "\n"
     ]
    },
    {
     "name": "stderr",
     "output_type": "stream",
     "text": [
      "\r",
      " 66%|██████▌   | 66.0/100 [03:13<01:42,  3.00s/it]"
     ]
    },
    {
     "name": "stdout",
     "output_type": "stream",
     "text": [
      "DIGIT: 1\n",
      "EPOCH 66: 2.83081 sec\n",
      "Critic loss: -0.07037\n",
      "Generator loss: 1.60490\n",
      "\n"
     ]
    },
    {
     "name": "stderr",
     "output_type": "stream",
     "text": [
      "\r",
      " 67%|██████▋   | 67.0/100 [03:16<01:37,  2.97s/it]"
     ]
    },
    {
     "name": "stdout",
     "output_type": "stream",
     "text": [
      "DIGIT: 1\n",
      "EPOCH 67: 2.79257 sec\n",
      "Critic loss: -0.06321\n",
      "Generator loss: 2.24775\n",
      "\n"
     ]
    },
    {
     "name": "stderr",
     "output_type": "stream",
     "text": [
      "\r",
      " 68%|██████▊   | 68.0/100 [03:18<01:33,  2.92s/it]"
     ]
    },
    {
     "name": "stdout",
     "output_type": "stream",
     "text": [
      "DIGIT: 1\n",
      "EPOCH 68: 2.70938 sec\n",
      "Critic loss: -0.03249\n",
      "Generator loss: 1.71134\n",
      "\n"
     ]
    },
    {
     "name": "stderr",
     "output_type": "stream",
     "text": [
      "\r",
      " 69%|██████▉   | 69.0/100 [03:21<01:29,  2.88s/it]"
     ]
    },
    {
     "name": "stdout",
     "output_type": "stream",
     "text": [
      "DIGIT: 1\n",
      "EPOCH 69: 2.70200 sec\n",
      "Critic loss: -0.04681\n",
      "Generator loss: 1.64166\n",
      "\n"
     ]
    },
    {
     "name": "stderr",
     "output_type": "stream",
     "text": [
      "\r",
      " 70%|███████   | 70.0/100 [03:24<01:25,  2.85s/it]"
     ]
    },
    {
     "name": "stdout",
     "output_type": "stream",
     "text": [
      "DIGIT: 1\n",
      "EPOCH 70: 2.69310 sec\n",
      "Critic loss: -0.05376\n",
      "Generator loss: 1.85340\n",
      "\n"
     ]
    },
    {
     "name": "stderr",
     "output_type": "stream",
     "text": [
      "\r",
      " 71%|███████   | 71.0/100 [03:27<01:21,  2.83s/it]"
     ]
    },
    {
     "name": "stdout",
     "output_type": "stream",
     "text": [
      "DIGIT: 1\n",
      "EPOCH 71: 2.69877 sec\n",
      "Critic loss: -0.04574\n",
      "Generator loss: 1.51275\n",
      "\n"
     ]
    },
    {
     "name": "stderr",
     "output_type": "stream",
     "text": [
      "\r",
      " 72%|███████▏  | 72.0/100 [03:29<01:18,  2.81s/it]"
     ]
    },
    {
     "name": "stdout",
     "output_type": "stream",
     "text": [
      "DIGIT: 1\n",
      "EPOCH 72: 2.69713 sec\n",
      "Critic loss: -0.03966\n",
      "Generator loss: 1.97767\n",
      "\n"
     ]
    },
    {
     "name": "stderr",
     "output_type": "stream",
     "text": [
      "\r",
      " 73%|███████▎  | 73.0/100 [03:32<01:15,  2.80s/it]"
     ]
    },
    {
     "name": "stdout",
     "output_type": "stream",
     "text": [
      "DIGIT: 1\n",
      "EPOCH 73: 2.69949 sec\n",
      "Critic loss: -0.06104\n",
      "Generator loss: 1.20204\n",
      "\n"
     ]
    },
    {
     "name": "stderr",
     "output_type": "stream",
     "text": [
      "\r",
      " 74%|███████▍  | 74.0/100 [03:35<01:12,  2.80s/it]"
     ]
    },
    {
     "name": "stdout",
     "output_type": "stream",
     "text": [
      "DIGIT: 1\n",
      "EPOCH 74: 2.69656 sec\n",
      "Critic loss: -0.06132\n",
      "Generator loss: 2.00400\n",
      "\n"
     ]
    },
    {
     "name": "stderr",
     "output_type": "stream",
     "text": [
      "\r",
      " 75%|███████▌  | 75.0/100 [03:38<01:09,  2.79s/it]"
     ]
    },
    {
     "name": "stdout",
     "output_type": "stream",
     "text": [
      "DIGIT: 1\n",
      "EPOCH 75: 2.69782 sec\n",
      "Critic loss: -0.06136\n",
      "Generator loss: 1.90602\n",
      "\n"
     ]
    },
    {
     "name": "stderr",
     "output_type": "stream",
     "text": [
      "\r",
      " 76%|███████▌  | 76.0/100 [03:41<01:06,  2.79s/it]"
     ]
    },
    {
     "name": "stdout",
     "output_type": "stream",
     "text": [
      "DIGIT: 1\n",
      "EPOCH 76: 2.69814 sec\n",
      "Critic loss: -0.07501\n",
      "Generator loss: 2.58675\n",
      "\n"
     ]
    },
    {
     "name": "stderr",
     "output_type": "stream",
     "text": [
      "\r",
      " 77%|███████▋  | 77.0/100 [03:43<01:04,  2.79s/it]"
     ]
    },
    {
     "name": "stdout",
     "output_type": "stream",
     "text": [
      "DIGIT: 1\n",
      "EPOCH 77: 2.70352 sec\n",
      "Critic loss: -0.04207\n",
      "Generator loss: 2.06691\n",
      "\n"
     ]
    },
    {
     "name": "stderr",
     "output_type": "stream",
     "text": [
      "\r",
      " 78%|███████▊  | 78.0/100 [03:46<01:01,  2.78s/it]"
     ]
    },
    {
     "name": "stdout",
     "output_type": "stream",
     "text": [
      "DIGIT: 1\n",
      "EPOCH 78: 2.69501 sec\n",
      "Critic loss: -0.04304\n",
      "Generator loss: 2.30475\n",
      "\n"
     ]
    },
    {
     "name": "stderr",
     "output_type": "stream",
     "text": [
      "\r",
      " 79%|███████▉  | 79.0/100 [03:49<00:58,  2.78s/it]"
     ]
    },
    {
     "name": "stdout",
     "output_type": "stream",
     "text": [
      "DIGIT: 1\n",
      "EPOCH 79: 2.69939 sec\n",
      "Critic loss: -0.04614\n",
      "Generator loss: 2.11617\n",
      "\n"
     ]
    },
    {
     "name": "stderr",
     "output_type": "stream",
     "text": [
      "\r",
      " 80%|████████  | 80.0/100 [03:52<00:55,  2.78s/it]"
     ]
    },
    {
     "name": "stdout",
     "output_type": "stream",
     "text": [
      "DIGIT: 1\n",
      "EPOCH 80: 2.69552 sec\n",
      "Critic loss: -0.07176\n",
      "Generator loss: 1.98809\n",
      "\n"
     ]
    },
    {
     "name": "stderr",
     "output_type": "stream",
     "text": [
      "\r",
      " 81%|████████  | 81.0/100 [03:55<00:52,  2.78s/it]"
     ]
    },
    {
     "name": "stdout",
     "output_type": "stream",
     "text": [
      "DIGIT: 1\n",
      "EPOCH 81: 2.70527 sec\n",
      "Critic loss: -0.02558\n",
      "Generator loss: 2.13173\n",
      "\n",
      "INFO:tensorflow:Assets written to: models/05-05-21_10:15:28/1/generator/assets\n",
      "INFO:tensorflow:Assets written to: models/05-05-21_10:15:28/1/critic/assets\n"
     ]
    },
    {
     "name": "stderr",
     "output_type": "stream",
     "text": [
      "\r",
      " 82%|████████▏ | 82.0/100 [03:59<00:58,  3.23s/it]"
     ]
    },
    {
     "name": "stdout",
     "output_type": "stream",
     "text": [
      "DIGIT: 1\n",
      "EPOCH 82: 2.69966 sec\n",
      "Critic loss: -0.05374\n",
      "Generator loss: 2.03730\n",
      "\n"
     ]
    },
    {
     "name": "stderr",
     "output_type": "stream",
     "text": [
      "\r",
      " 83%|████████▎ | 83.0/100 [04:02<00:52,  3.10s/it]"
     ]
    },
    {
     "name": "stdout",
     "output_type": "stream",
     "text": [
      "DIGIT: 1\n",
      "EPOCH 83: 2.70212 sec\n",
      "Critic loss: -0.05902\n",
      "Generator loss: 2.11345\n",
      "\n"
     ]
    },
    {
     "name": "stderr",
     "output_type": "stream",
     "text": [
      "\r",
      " 84%|████████▍ | 84.0/100 [04:04<00:48,  3.00s/it]"
     ]
    },
    {
     "name": "stdout",
     "output_type": "stream",
     "text": [
      "DIGIT: 1\n",
      "EPOCH 84: 2.70033 sec\n",
      "Critic loss: -0.05287\n",
      "Generator loss: 2.76350\n",
      "\n"
     ]
    },
    {
     "name": "stderr",
     "output_type": "stream",
     "text": [
      "\r",
      " 85%|████████▌ | 85.0/100 [04:07<00:44,  2.94s/it]"
     ]
    },
    {
     "name": "stdout",
     "output_type": "stream",
     "text": [
      "DIGIT: 1\n",
      "EPOCH 85: 2.70098 sec\n",
      "Critic loss: -0.01988\n",
      "Generator loss: 2.83952\n",
      "\n"
     ]
    },
    {
     "name": "stderr",
     "output_type": "stream",
     "text": [
      "\r",
      " 86%|████████▌ | 86.0/100 [04:10<00:40,  2.89s/it]"
     ]
    },
    {
     "name": "stdout",
     "output_type": "stream",
     "text": [
      "DIGIT: 1\n",
      "EPOCH 86: 2.70006 sec\n",
      "Critic loss: -0.01532\n",
      "Generator loss: 1.92089\n",
      "\n"
     ]
    },
    {
     "name": "stderr",
     "output_type": "stream",
     "text": [
      "\r",
      " 87%|████████▋ | 87.0/100 [04:13<00:37,  2.86s/it]"
     ]
    },
    {
     "name": "stdout",
     "output_type": "stream",
     "text": [
      "DIGIT: 1\n",
      "EPOCH 87: 2.70158 sec\n",
      "Critic loss: -0.02268\n",
      "Generator loss: 2.41483\n",
      "\n"
     ]
    },
    {
     "name": "stderr",
     "output_type": "stream",
     "text": [
      "\r",
      " 88%|████████▊ | 88.0/100 [04:15<00:34,  2.84s/it]"
     ]
    },
    {
     "name": "stdout",
     "output_type": "stream",
     "text": [
      "DIGIT: 1\n",
      "EPOCH 88: 2.70261 sec\n",
      "Critic loss: -0.03419\n",
      "Generator loss: 2.57133\n",
      "\n"
     ]
    },
    {
     "name": "stderr",
     "output_type": "stream",
     "text": [
      "\r",
      " 89%|████████▉ | 89.0/100 [04:18<00:31,  2.82s/it]"
     ]
    },
    {
     "name": "stdout",
     "output_type": "stream",
     "text": [
      "DIGIT: 1\n",
      "EPOCH 89: 2.70961 sec\n",
      "Critic loss: -0.05394\n",
      "Generator loss: 2.02402\n",
      "\n"
     ]
    },
    {
     "name": "stderr",
     "output_type": "stream",
     "text": [
      "\r",
      " 90%|█████████ | 90.0/100 [04:21<00:28,  2.81s/it]"
     ]
    },
    {
     "name": "stdout",
     "output_type": "stream",
     "text": [
      "DIGIT: 1\n",
      "EPOCH 90: 2.70179 sec\n",
      "Critic loss: -0.06266\n",
      "Generator loss: 2.44819\n",
      "\n"
     ]
    },
    {
     "name": "stderr",
     "output_type": "stream",
     "text": [
      "\r",
      " 91%|█████████ | 91.0/100 [04:24<00:25,  2.80s/it]"
     ]
    },
    {
     "name": "stdout",
     "output_type": "stream",
     "text": [
      "DIGIT: 1\n",
      "EPOCH 91: 2.70386 sec\n",
      "Critic loss: -0.04606\n",
      "Generator loss: 2.51055\n",
      "\n"
     ]
    },
    {
     "name": "stderr",
     "output_type": "stream",
     "text": [
      "\r",
      " 92%|█████████▏| 92.0/100 [04:27<00:22,  2.80s/it]"
     ]
    },
    {
     "name": "stdout",
     "output_type": "stream",
     "text": [
      "DIGIT: 1\n",
      "EPOCH 92: 2.70634 sec\n",
      "Critic loss: -0.03877\n",
      "Generator loss: 2.51425\n",
      "\n"
     ]
    },
    {
     "name": "stderr",
     "output_type": "stream",
     "text": [
      "\r",
      " 93%|█████████▎| 93.0/100 [04:29<00:19,  2.79s/it]"
     ]
    },
    {
     "name": "stdout",
     "output_type": "stream",
     "text": [
      "DIGIT: 1\n",
      "EPOCH 93: 2.70197 sec\n",
      "Critic loss: -0.00533\n",
      "Generator loss: 2.42241\n",
      "\n"
     ]
    },
    {
     "name": "stderr",
     "output_type": "stream",
     "text": [
      "\r",
      " 94%|█████████▍| 94.0/100 [04:32<00:16,  2.79s/it]"
     ]
    },
    {
     "name": "stdout",
     "output_type": "stream",
     "text": [
      "DIGIT: 1\n",
      "EPOCH 94: 2.70221 sec\n",
      "Critic loss: -0.06532\n",
      "Generator loss: 2.47624\n",
      "\n"
     ]
    },
    {
     "name": "stderr",
     "output_type": "stream",
     "text": [
      "\r",
      " 95%|█████████▌| 95.0/100 [04:35<00:13,  2.79s/it]"
     ]
    },
    {
     "name": "stdout",
     "output_type": "stream",
     "text": [
      "DIGIT: 1\n",
      "EPOCH 95: 2.70163 sec\n",
      "Critic loss: -0.07383\n",
      "Generator loss: 2.29759\n",
      "\n"
     ]
    },
    {
     "name": "stderr",
     "output_type": "stream",
     "text": [
      "\r",
      " 96%|█████████▌| 96.0/100 [04:38<00:11,  2.79s/it]"
     ]
    },
    {
     "name": "stdout",
     "output_type": "stream",
     "text": [
      "DIGIT: 1\n",
      "EPOCH 96: 2.69794 sec\n",
      "Critic loss: -0.06394\n",
      "Generator loss: 2.30039\n",
      "\n"
     ]
    },
    {
     "name": "stderr",
     "output_type": "stream",
     "text": [
      "\r",
      " 97%|█████████▋| 97.0/100 [04:41<00:08,  2.79s/it]"
     ]
    },
    {
     "name": "stdout",
     "output_type": "stream",
     "text": [
      "DIGIT: 1\n",
      "EPOCH 97: 2.70081 sec\n",
      "Critic loss: -0.06208\n",
      "Generator loss: 2.49573\n",
      "\n"
     ]
    },
    {
     "name": "stderr",
     "output_type": "stream",
     "text": [
      "\r",
      " 98%|█████████▊| 98.0/100 [04:43<00:05,  2.78s/it]"
     ]
    },
    {
     "name": "stdout",
     "output_type": "stream",
     "text": [
      "DIGIT: 1\n",
      "EPOCH 98: 2.70074 sec\n",
      "Critic loss: -0.03686\n",
      "Generator loss: 2.28437\n",
      "\n"
     ]
    },
    {
     "name": "stderr",
     "output_type": "stream",
     "text": [
      "\r",
      " 99%|█████████▉| 99.0/100 [04:46<00:02,  2.78s/it]"
     ]
    },
    {
     "name": "stdout",
     "output_type": "stream",
     "text": [
      "DIGIT: 1\n",
      "EPOCH 99: 2.70032 sec\n",
      "Critic loss: -0.05690\n",
      "Generator loss: 2.72727\n",
      "\n"
     ]
    },
    {
     "name": "stderr",
     "output_type": "stream",
     "text": [
      "100%|██████████| 100.0/100 [04:49<00:00,  2.89s/it]\n",
      "  0%|          | 0/100 [00:00<?, ?it/s]"
     ]
    },
    {
     "name": "stdout",
     "output_type": "stream",
     "text": [
      "DIGIT: 1\n",
      "EPOCH 100: 2.70392 sec\n",
      "Critic loss: -0.03608\n",
      "Generator loss: 2.54370\n",
      "\n",
      "----------- TRAINING TO GENERATE **2** -----------\n"
     ]
    },
    {
     "name": "stderr",
     "output_type": "stream",
     "text": [
      "\r",
      "  1%|          | 1.0/100 [00:05<09:04,  5.50s/it]"
     ]
    },
    {
     "name": "stdout",
     "output_type": "stream",
     "text": [
      "DIGIT: 2\n",
      "EPOCH 1: 5.50069 sec\n",
      "Critic loss: -3.33061\n",
      "Generator loss: -2.15042\n",
      "\n",
      "INFO:tensorflow:Assets written to: models/05-05-21_10:15:28/2/generator/assets\n",
      "INFO:tensorflow:Assets written to: models/05-05-21_10:15:28/2/critic/assets\n"
     ]
    },
    {
     "name": "stderr",
     "output_type": "stream",
     "text": [
      "\r",
      "  2%|▏         | 2.0/100 [00:09<07:17,  4.46s/it]"
     ]
    },
    {
     "name": "stdout",
     "output_type": "stream",
     "text": [
      "DIGIT: 2\n",
      "EPOCH 2: 2.29822 sec\n",
      "Critic loss: -3.22013\n",
      "Generator loss: -2.13845\n",
      "\n"
     ]
    },
    {
     "name": "stderr",
     "output_type": "stream",
     "text": [
      "\r",
      "  3%|▎         | 3.0/100 [00:11<05:40,  3.51s/it]"
     ]
    },
    {
     "name": "stdout",
     "output_type": "stream",
     "text": [
      "DIGIT: 2\n",
      "EPOCH 3: 2.29889 sec\n",
      "Critic loss: -2.92347\n",
      "Generator loss: -1.00122\n",
      "\n"
     ]
    },
    {
     "name": "stderr",
     "output_type": "stream",
     "text": [
      "\r",
      "  4%|▍         | 4.0/100 [00:14<04:54,  3.07s/it]"
     ]
    },
    {
     "name": "stdout",
     "output_type": "stream",
     "text": [
      "DIGIT: 2\n",
      "EPOCH 4: 2.30162 sec\n",
      "Critic loss: -2.85787\n",
      "Generator loss: -0.31526\n",
      "\n"
     ]
    },
    {
     "name": "stderr",
     "output_type": "stream",
     "text": [
      "\r",
      "  5%|▌         | 5.0/100 [00:16<04:27,  2.82s/it]"
     ]
    },
    {
     "name": "stdout",
     "output_type": "stream",
     "text": [
      "DIGIT: 2\n",
      "EPOCH 5: 2.30004 sec\n",
      "Critic loss: -2.99190\n",
      "Generator loss: -0.03172\n",
      "\n"
     ]
    },
    {
     "name": "stderr",
     "output_type": "stream",
     "text": [
      "\r",
      "  6%|▌         | 6.0/100 [00:18<04:11,  2.67s/it]"
     ]
    },
    {
     "name": "stdout",
     "output_type": "stream",
     "text": [
      "DIGIT: 2\n",
      "EPOCH 6: 2.29783 sec\n",
      "Critic loss: -2.80870\n",
      "Generator loss: 0.75442\n",
      "\n"
     ]
    },
    {
     "name": "stderr",
     "output_type": "stream",
     "text": [
      "\r",
      "  7%|▋         | 7.0/100 [00:21<03:59,  2.58s/it]"
     ]
    },
    {
     "name": "stdout",
     "output_type": "stream",
     "text": [
      "DIGIT: 2\n",
      "EPOCH 7: 2.29762 sec\n",
      "Critic loss: -2.78822\n",
      "Generator loss: 0.58435\n",
      "\n"
     ]
    },
    {
     "name": "stderr",
     "output_type": "stream",
     "text": [
      "\r",
      "  8%|▊         | 8.0/100 [00:23<03:51,  2.51s/it]"
     ]
    },
    {
     "name": "stdout",
     "output_type": "stream",
     "text": [
      "DIGIT: 2\n",
      "EPOCH 8: 2.29586 sec\n",
      "Critic loss: -2.04965\n",
      "Generator loss: -1.49860\n",
      "\n"
     ]
    },
    {
     "name": "stderr",
     "output_type": "stream",
     "text": [
      "\r",
      "  9%|▉         | 9.0/100 [00:25<03:44,  2.47s/it]"
     ]
    },
    {
     "name": "stdout",
     "output_type": "stream",
     "text": [
      "DIGIT: 2\n",
      "EPOCH 9: 2.29831 sec\n",
      "Critic loss: -2.08243\n",
      "Generator loss: -3.01817\n",
      "\n"
     ]
    },
    {
     "name": "stderr",
     "output_type": "stream",
     "text": [
      "\r",
      " 10%|█         | 10.0/100 [00:28<03:39,  2.44s/it]"
     ]
    },
    {
     "name": "stdout",
     "output_type": "stream",
     "text": [
      "DIGIT: 2\n",
      "EPOCH 10: 2.30258 sec\n",
      "Critic loss: -1.62691\n",
      "Generator loss: -3.54368\n",
      "\n"
     ]
    },
    {
     "name": "stderr",
     "output_type": "stream",
     "text": [
      "\r",
      " 11%|█         | 11.0/100 [00:30<03:36,  2.43s/it]"
     ]
    },
    {
     "name": "stdout",
     "output_type": "stream",
     "text": [
      "DIGIT: 2\n",
      "EPOCH 11: 2.31588 sec\n",
      "Critic loss: -1.65148\n",
      "Generator loss: -3.72026\n",
      "\n"
     ]
    },
    {
     "name": "stderr",
     "output_type": "stream",
     "text": [
      "\r",
      " 12%|█▏        | 12.0/100 [00:33<03:32,  2.42s/it]"
     ]
    },
    {
     "name": "stdout",
     "output_type": "stream",
     "text": [
      "DIGIT: 2\n",
      "EPOCH 12: 2.29892 sec\n",
      "Critic loss: -1.69302\n",
      "Generator loss: -4.34406\n",
      "\n"
     ]
    },
    {
     "name": "stderr",
     "output_type": "stream",
     "text": [
      "\r",
      " 13%|█▎        | 13.0/100 [00:35<03:29,  2.40s/it]"
     ]
    },
    {
     "name": "stdout",
     "output_type": "stream",
     "text": [
      "DIGIT: 2\n",
      "EPOCH 13: 2.29606 sec\n",
      "Critic loss: -1.77194\n",
      "Generator loss: -4.50107\n",
      "\n"
     ]
    },
    {
     "name": "stderr",
     "output_type": "stream",
     "text": [
      "\r",
      " 14%|█▍        | 14.0/100 [00:37<03:26,  2.40s/it]"
     ]
    },
    {
     "name": "stdout",
     "output_type": "stream",
     "text": [
      "DIGIT: 2\n",
      "EPOCH 14: 2.29831 sec\n",
      "Critic loss: -1.58718\n",
      "Generator loss: -4.10569\n",
      "\n"
     ]
    },
    {
     "name": "stderr",
     "output_type": "stream",
     "text": [
      "\r",
      " 15%|█▌        | 15.0/100 [00:40<03:23,  2.39s/it]"
     ]
    },
    {
     "name": "stdout",
     "output_type": "stream",
     "text": [
      "DIGIT: 2\n",
      "EPOCH 15: 2.29812 sec\n",
      "Critic loss: -1.65865\n",
      "Generator loss: -3.17107\n",
      "\n"
     ]
    },
    {
     "name": "stderr",
     "output_type": "stream",
     "text": [
      "\r",
      " 16%|█▌        | 16.0/100 [00:42<03:20,  2.39s/it]"
     ]
    },
    {
     "name": "stdout",
     "output_type": "stream",
     "text": [
      "DIGIT: 2\n",
      "EPOCH 16: 2.29749 sec\n",
      "Critic loss: -1.42074\n",
      "Generator loss: -2.55725\n",
      "\n"
     ]
    },
    {
     "name": "stderr",
     "output_type": "stream",
     "text": [
      "\r",
      " 17%|█▋        | 17.0/100 [00:44<03:17,  2.39s/it]"
     ]
    },
    {
     "name": "stdout",
     "output_type": "stream",
     "text": [
      "DIGIT: 2\n",
      "EPOCH 17: 2.29724 sec\n",
      "Critic loss: -1.69820\n",
      "Generator loss: -2.91517\n",
      "\n"
     ]
    },
    {
     "name": "stderr",
     "output_type": "stream",
     "text": [
      "\r",
      " 18%|█▊        | 18.0/100 [00:47<03:15,  2.38s/it]"
     ]
    },
    {
     "name": "stdout",
     "output_type": "stream",
     "text": [
      "DIGIT: 2\n",
      "EPOCH 18: 2.29714 sec\n",
      "Critic loss: -1.84443\n",
      "Generator loss: -1.88318\n",
      "\n"
     ]
    },
    {
     "name": "stderr",
     "output_type": "stream",
     "text": [
      "\r",
      " 19%|█▉        | 19.0/100 [00:49<03:12,  2.38s/it]"
     ]
    },
    {
     "name": "stdout",
     "output_type": "stream",
     "text": [
      "DIGIT: 2\n",
      "EPOCH 19: 2.29786 sec\n",
      "Critic loss: -1.89818\n",
      "Generator loss: -0.12053\n",
      "\n"
     ]
    },
    {
     "name": "stderr",
     "output_type": "stream",
     "text": [
      "\r",
      " 20%|██        | 20.0/100 [00:52<03:10,  2.38s/it]"
     ]
    },
    {
     "name": "stdout",
     "output_type": "stream",
     "text": [
      "DIGIT: 2\n",
      "EPOCH 20: 2.29807 sec\n",
      "Critic loss: -2.03040\n",
      "Generator loss: 0.81024\n",
      "\n"
     ]
    },
    {
     "name": "stderr",
     "output_type": "stream",
     "text": [
      "\r",
      " 21%|██        | 21.0/100 [00:54<03:08,  2.38s/it]"
     ]
    },
    {
     "name": "stdout",
     "output_type": "stream",
     "text": [
      "DIGIT: 2\n",
      "EPOCH 21: 2.30242 sec\n",
      "Critic loss: -2.23829\n",
      "Generator loss: 1.59247\n",
      "\n",
      "INFO:tensorflow:Assets written to: models/05-05-21_10:15:28/2/generator/assets\n",
      "INFO:tensorflow:Assets written to: models/05-05-21_10:15:28/2/critic/assets\n"
     ]
    },
    {
     "name": "stderr",
     "output_type": "stream",
     "text": [
      "\r",
      " 22%|██▏       | 22.0/100 [00:58<03:41,  2.83s/it]"
     ]
    },
    {
     "name": "stdout",
     "output_type": "stream",
     "text": [
      "DIGIT: 2\n",
      "EPOCH 22: 2.29954 sec\n",
      "Critic loss: -0.76188\n",
      "Generator loss: -0.85690\n",
      "\n"
     ]
    },
    {
     "name": "stderr",
     "output_type": "stream",
     "text": [
      "\r",
      " 23%|██▎       | 23.0/100 [01:00<03:27,  2.70s/it]"
     ]
    },
    {
     "name": "stdout",
     "output_type": "stream",
     "text": [
      "DIGIT: 2\n",
      "EPOCH 23: 2.29812 sec\n",
      "Critic loss: -0.77370\n",
      "Generator loss: -0.97741\n",
      "\n"
     ]
    },
    {
     "name": "stderr",
     "output_type": "stream",
     "text": [
      "\r",
      " 24%|██▍       | 24.0/100 [01:03<03:17,  2.60s/it]"
     ]
    },
    {
     "name": "stdout",
     "output_type": "stream",
     "text": [
      "DIGIT: 2\n",
      "EPOCH 24: 2.29869 sec\n",
      "Critic loss: -0.69762\n",
      "Generator loss: -0.87413\n",
      "\n"
     ]
    },
    {
     "name": "stderr",
     "output_type": "stream",
     "text": [
      "\r",
      " 25%|██▌       | 25.0/100 [01:05<03:10,  2.54s/it]"
     ]
    },
    {
     "name": "stdout",
     "output_type": "stream",
     "text": [
      "DIGIT: 2\n",
      "EPOCH 25: 2.29684 sec\n",
      "Critic loss: -0.65383\n",
      "Generator loss: -0.97405\n",
      "\n"
     ]
    },
    {
     "name": "stderr",
     "output_type": "stream",
     "text": [
      "\r",
      " 26%|██▌       | 26.0/100 [01:07<03:04,  2.49s/it]"
     ]
    },
    {
     "name": "stdout",
     "output_type": "stream",
     "text": [
      "DIGIT: 2\n",
      "EPOCH 26: 2.29900 sec\n",
      "Critic loss: -0.56825\n",
      "Generator loss: -0.70588\n",
      "\n"
     ]
    },
    {
     "name": "stderr",
     "output_type": "stream",
     "text": [
      "\r",
      " 27%|██▋       | 27.0/100 [01:10<02:59,  2.46s/it]"
     ]
    },
    {
     "name": "stdout",
     "output_type": "stream",
     "text": [
      "DIGIT: 2\n",
      "EPOCH 27: 2.29989 sec\n",
      "Critic loss: -0.49103\n",
      "Generator loss: -0.41138\n",
      "\n"
     ]
    },
    {
     "name": "stderr",
     "output_type": "stream",
     "text": [
      "\r",
      " 28%|██▊       | 28.0/100 [01:12<02:55,  2.43s/it]"
     ]
    },
    {
     "name": "stdout",
     "output_type": "stream",
     "text": [
      "DIGIT: 2\n",
      "EPOCH 28: 2.29811 sec\n",
      "Critic loss: -0.24786\n",
      "Generator loss: -0.09646\n",
      "\n"
     ]
    },
    {
     "name": "stderr",
     "output_type": "stream",
     "text": [
      "\r",
      " 29%|██▉       | 29.0/100 [01:15<02:51,  2.42s/it]"
     ]
    },
    {
     "name": "stdout",
     "output_type": "stream",
     "text": [
      "DIGIT: 2\n",
      "EPOCH 29: 2.29990 sec\n",
      "Critic loss: -0.26847\n",
      "Generator loss: 0.38299\n",
      "\n"
     ]
    },
    {
     "name": "stderr",
     "output_type": "stream",
     "text": [
      "\r",
      " 30%|███       | 30.0/100 [01:17<02:48,  2.41s/it]"
     ]
    },
    {
     "name": "stdout",
     "output_type": "stream",
     "text": [
      "DIGIT: 2\n",
      "EPOCH 30: 2.29992 sec\n",
      "Critic loss: -0.31379\n",
      "Generator loss: 1.19596\n",
      "\n"
     ]
    },
    {
     "name": "stderr",
     "output_type": "stream",
     "text": [
      "\r",
      " 31%|███       | 31.0/100 [01:19<02:45,  2.40s/it]"
     ]
    },
    {
     "name": "stdout",
     "output_type": "stream",
     "text": [
      "DIGIT: 2\n",
      "EPOCH 31: 2.30059 sec\n",
      "Critic loss: -0.30718\n",
      "Generator loss: 1.88442\n",
      "\n"
     ]
    },
    {
     "name": "stderr",
     "output_type": "stream",
     "text": [
      "\r",
      " 32%|███▏      | 32.0/100 [01:22<02:42,  2.39s/it]"
     ]
    },
    {
     "name": "stdout",
     "output_type": "stream",
     "text": [
      "DIGIT: 2\n",
      "EPOCH 32: 2.29836 sec\n",
      "Critic loss: -0.26582\n",
      "Generator loss: 2.37024\n",
      "\n"
     ]
    },
    {
     "name": "stderr",
     "output_type": "stream",
     "text": [
      "\r",
      " 33%|███▎      | 33.0/100 [01:24<02:40,  2.39s/it]"
     ]
    },
    {
     "name": "stdout",
     "output_type": "stream",
     "text": [
      "DIGIT: 2\n",
      "EPOCH 33: 2.29933 sec\n",
      "Critic loss: -0.17927\n",
      "Generator loss: 2.86553\n",
      "\n"
     ]
    },
    {
     "name": "stderr",
     "output_type": "stream",
     "text": [
      "\r",
      " 34%|███▍      | 34.0/100 [01:26<02:37,  2.39s/it]"
     ]
    },
    {
     "name": "stdout",
     "output_type": "stream",
     "text": [
      "DIGIT: 2\n",
      "EPOCH 34: 2.30031 sec\n",
      "Critic loss: -0.24172\n",
      "Generator loss: 2.92270\n",
      "\n"
     ]
    },
    {
     "name": "stderr",
     "output_type": "stream",
     "text": [
      "\r",
      " 35%|███▌      | 35.0/100 [01:29<02:35,  2.39s/it]"
     ]
    },
    {
     "name": "stdout",
     "output_type": "stream",
     "text": [
      "DIGIT: 2\n",
      "EPOCH 35: 2.29882 sec\n",
      "Critic loss: -0.26476\n",
      "Generator loss: 2.71977\n",
      "\n"
     ]
    },
    {
     "name": "stderr",
     "output_type": "stream",
     "text": [
      "\r",
      " 36%|███▌      | 36.0/100 [01:31<02:32,  2.38s/it]"
     ]
    },
    {
     "name": "stdout",
     "output_type": "stream",
     "text": [
      "DIGIT: 2\n",
      "EPOCH 36: 2.29673 sec\n",
      "Critic loss: -0.30127\n",
      "Generator loss: 3.04015\n",
      "\n"
     ]
    },
    {
     "name": "stderr",
     "output_type": "stream",
     "text": [
      "\r",
      " 37%|███▋      | 37.0/100 [01:34<02:30,  2.38s/it]"
     ]
    },
    {
     "name": "stdout",
     "output_type": "stream",
     "text": [
      "DIGIT: 2\n",
      "EPOCH 37: 2.29840 sec\n",
      "Critic loss: -0.28296\n",
      "Generator loss: 2.35107\n",
      "\n"
     ]
    },
    {
     "name": "stderr",
     "output_type": "stream",
     "text": [
      "\r",
      " 38%|███▊      | 38.0/100 [01:36<02:27,  2.38s/it]"
     ]
    },
    {
     "name": "stdout",
     "output_type": "stream",
     "text": [
      "DIGIT: 2\n",
      "EPOCH 38: 2.29558 sec\n",
      "Critic loss: -0.26610\n",
      "Generator loss: 2.21984\n",
      "\n"
     ]
    },
    {
     "name": "stderr",
     "output_type": "stream",
     "text": [
      "\r",
      " 39%|███▉      | 39.0/100 [01:38<02:25,  2.38s/it]"
     ]
    },
    {
     "name": "stdout",
     "output_type": "stream",
     "text": [
      "DIGIT: 2\n",
      "EPOCH 39: 2.29893 sec\n",
      "Critic loss: -0.25416\n",
      "Generator loss: 2.76864\n",
      "\n"
     ]
    },
    {
     "name": "stderr",
     "output_type": "stream",
     "text": [
      "\r",
      " 40%|████      | 40.0/100 [01:41<02:22,  2.38s/it]"
     ]
    },
    {
     "name": "stdout",
     "output_type": "stream",
     "text": [
      "DIGIT: 2\n",
      "EPOCH 40: 2.30188 sec\n",
      "Critic loss: -0.29967\n",
      "Generator loss: 2.46876\n",
      "\n"
     ]
    },
    {
     "name": "stderr",
     "output_type": "stream",
     "text": [
      "\r",
      " 41%|████      | 41.0/100 [01:43<02:20,  2.38s/it]"
     ]
    },
    {
     "name": "stdout",
     "output_type": "stream",
     "text": [
      "DIGIT: 2\n",
      "EPOCH 41: 2.29937 sec\n",
      "Critic loss: -0.30603\n",
      "Generator loss: 2.61137\n",
      "\n",
      "INFO:tensorflow:Assets written to: models/05-05-21_10:15:28/2/generator/assets\n",
      "INFO:tensorflow:Assets written to: models/05-05-21_10:15:28/2/critic/assets\n"
     ]
    },
    {
     "name": "stderr",
     "output_type": "stream",
     "text": [
      "\r",
      " 42%|████▏     | 42.0/100 [01:47<02:41,  2.79s/it]"
     ]
    },
    {
     "name": "stdout",
     "output_type": "stream",
     "text": [
      "DIGIT: 2\n",
      "EPOCH 42: 2.29750 sec\n",
      "Critic loss: -0.33721\n",
      "Generator loss: 1.83319\n",
      "\n"
     ]
    },
    {
     "name": "stderr",
     "output_type": "stream",
     "text": [
      "\r",
      " 43%|████▎     | 43.0/100 [01:49<02:32,  2.67s/it]"
     ]
    },
    {
     "name": "stdout",
     "output_type": "stream",
     "text": [
      "DIGIT: 2\n",
      "EPOCH 43: 2.29921 sec\n",
      "Critic loss: -0.25212\n",
      "Generator loss: 2.49491\n",
      "\n"
     ]
    },
    {
     "name": "stderr",
     "output_type": "stream",
     "text": [
      "\r",
      " 44%|████▍     | 44.0/100 [01:52<02:24,  2.58s/it]"
     ]
    },
    {
     "name": "stdout",
     "output_type": "stream",
     "text": [
      "DIGIT: 2\n",
      "EPOCH 44: 2.29829 sec\n",
      "Critic loss: -0.30142\n",
      "Generator loss: 2.26291\n",
      "\n"
     ]
    },
    {
     "name": "stderr",
     "output_type": "stream",
     "text": [
      "\r",
      " 45%|████▌     | 45.0/100 [01:54<02:18,  2.52s/it]"
     ]
    },
    {
     "name": "stdout",
     "output_type": "stream",
     "text": [
      "DIGIT: 2\n",
      "EPOCH 45: 2.29836 sec\n",
      "Critic loss: -0.24885\n",
      "Generator loss: 2.37836\n",
      "\n"
     ]
    },
    {
     "name": "stderr",
     "output_type": "stream",
     "text": [
      "\r",
      " 46%|████▌     | 46.0/100 [01:56<02:13,  2.48s/it]"
     ]
    },
    {
     "name": "stdout",
     "output_type": "stream",
     "text": [
      "DIGIT: 2\n",
      "EPOCH 46: 2.30058 sec\n",
      "Critic loss: -0.33513\n",
      "Generator loss: 2.15682\n",
      "\n"
     ]
    },
    {
     "name": "stderr",
     "output_type": "stream",
     "text": [
      "\r",
      " 47%|████▋     | 47.0/100 [01:59<02:09,  2.45s/it]"
     ]
    },
    {
     "name": "stdout",
     "output_type": "stream",
     "text": [
      "DIGIT: 2\n",
      "EPOCH 47: 2.29914 sec\n",
      "Critic loss: -0.31003\n",
      "Generator loss: 1.77420\n",
      "\n"
     ]
    },
    {
     "name": "stderr",
     "output_type": "stream",
     "text": [
      "\r",
      " 48%|████▊     | 48.0/100 [02:01<02:06,  2.43s/it]"
     ]
    },
    {
     "name": "stdout",
     "output_type": "stream",
     "text": [
      "DIGIT: 2\n",
      "EPOCH 48: 2.29904 sec\n",
      "Critic loss: -0.33799\n",
      "Generator loss: 2.30644\n",
      "\n"
     ]
    },
    {
     "name": "stderr",
     "output_type": "stream",
     "text": [
      "\r",
      " 49%|████▉     | 49.0/100 [02:04<02:03,  2.41s/it]"
     ]
    },
    {
     "name": "stdout",
     "output_type": "stream",
     "text": [
      "DIGIT: 2\n",
      "EPOCH 49: 2.30019 sec\n",
      "Critic loss: -0.26639\n",
      "Generator loss: 2.42883\n",
      "\n"
     ]
    },
    {
     "name": "stderr",
     "output_type": "stream",
     "text": [
      "\r",
      " 50%|█████     | 50.0/100 [02:06<02:00,  2.40s/it]"
     ]
    },
    {
     "name": "stdout",
     "output_type": "stream",
     "text": [
      "DIGIT: 2\n",
      "EPOCH 50: 2.29867 sec\n",
      "Critic loss: -0.29954\n",
      "Generator loss: 2.11646\n",
      "\n"
     ]
    },
    {
     "name": "stderr",
     "output_type": "stream",
     "text": [
      "\r",
      " 51%|█████     | 51.0/100 [02:08<01:57,  2.40s/it]"
     ]
    },
    {
     "name": "stdout",
     "output_type": "stream",
     "text": [
      "DIGIT: 2\n",
      "EPOCH 51: 2.30089 sec\n",
      "Critic loss: -0.37687\n",
      "Generator loss: 2.39748\n",
      "\n"
     ]
    },
    {
     "name": "stderr",
     "output_type": "stream",
     "text": [
      "\r",
      " 52%|█████▏    | 52.0/100 [02:11<01:54,  2.39s/it]"
     ]
    },
    {
     "name": "stdout",
     "output_type": "stream",
     "text": [
      "DIGIT: 2\n",
      "EPOCH 52: 2.29984 sec\n",
      "Critic loss: -0.34270\n",
      "Generator loss: 1.40625\n",
      "\n"
     ]
    },
    {
     "name": "stderr",
     "output_type": "stream",
     "text": [
      "\r",
      " 53%|█████▎    | 53.0/100 [02:13<01:52,  2.39s/it]"
     ]
    },
    {
     "name": "stdout",
     "output_type": "stream",
     "text": [
      "DIGIT: 2\n",
      "EPOCH 53: 2.29754 sec\n",
      "Critic loss: -0.30412\n",
      "Generator loss: 2.07541\n",
      "\n"
     ]
    },
    {
     "name": "stderr",
     "output_type": "stream",
     "text": [
      "\r",
      " 54%|█████▍    | 54.0/100 [02:15<01:49,  2.39s/it]"
     ]
    },
    {
     "name": "stdout",
     "output_type": "stream",
     "text": [
      "DIGIT: 2\n",
      "EPOCH 54: 2.30018 sec\n",
      "Critic loss: -0.29421\n",
      "Generator loss: 2.00780\n",
      "\n"
     ]
    },
    {
     "name": "stderr",
     "output_type": "stream",
     "text": [
      "\r",
      " 55%|█████▌    | 55.0/100 [02:18<01:47,  2.39s/it]"
     ]
    },
    {
     "name": "stdout",
     "output_type": "stream",
     "text": [
      "DIGIT: 2\n",
      "EPOCH 55: 2.30041 sec\n",
      "Critic loss: -0.28972\n",
      "Generator loss: 2.28050\n",
      "\n"
     ]
    },
    {
     "name": "stderr",
     "output_type": "stream",
     "text": [
      "\r",
      " 56%|█████▌    | 56.0/100 [02:20<01:44,  2.38s/it]"
     ]
    },
    {
     "name": "stdout",
     "output_type": "stream",
     "text": [
      "DIGIT: 2\n",
      "EPOCH 56: 2.30024 sec\n",
      "Critic loss: -0.31791\n",
      "Generator loss: 1.63845\n",
      "\n"
     ]
    },
    {
     "name": "stderr",
     "output_type": "stream",
     "text": [
      "\r",
      " 57%|█████▋    | 57.0/100 [02:23<01:42,  2.38s/it]"
     ]
    },
    {
     "name": "stdout",
     "output_type": "stream",
     "text": [
      "DIGIT: 2\n",
      "EPOCH 57: 2.30227 sec\n",
      "Critic loss: -0.28437\n",
      "Generator loss: 1.46014\n",
      "\n"
     ]
    },
    {
     "name": "stderr",
     "output_type": "stream",
     "text": [
      "\r",
      " 58%|█████▊    | 58.0/100 [02:25<01:40,  2.38s/it]"
     ]
    },
    {
     "name": "stdout",
     "output_type": "stream",
     "text": [
      "DIGIT: 2\n",
      "EPOCH 58: 2.30480 sec\n",
      "Critic loss: -0.35617\n",
      "Generator loss: 2.25083\n",
      "\n"
     ]
    },
    {
     "name": "stderr",
     "output_type": "stream",
     "text": [
      "\r",
      " 59%|█████▉    | 59.0/100 [02:27<01:37,  2.38s/it]"
     ]
    },
    {
     "name": "stdout",
     "output_type": "stream",
     "text": [
      "DIGIT: 2\n",
      "EPOCH 59: 2.30301 sec\n",
      "Critic loss: -0.33609\n",
      "Generator loss: 1.13382\n",
      "\n"
     ]
    },
    {
     "name": "stderr",
     "output_type": "stream",
     "text": [
      "\r",
      " 60%|██████    | 60.0/100 [02:30<01:35,  2.39s/it]"
     ]
    },
    {
     "name": "stdout",
     "output_type": "stream",
     "text": [
      "DIGIT: 2\n",
      "EPOCH 60: 2.31480 sec\n",
      "Critic loss: -0.32476\n",
      "Generator loss: 1.08248\n",
      "\n"
     ]
    },
    {
     "name": "stderr",
     "output_type": "stream",
     "text": [
      "\r",
      " 61%|██████    | 61.0/100 [02:32<01:33,  2.39s/it]"
     ]
    },
    {
     "name": "stdout",
     "output_type": "stream",
     "text": [
      "DIGIT: 2\n",
      "EPOCH 61: 2.31234 sec\n",
      "Critic loss: -0.24801\n",
      "Generator loss: 1.88027\n",
      "\n",
      "INFO:tensorflow:Assets written to: models/05-05-21_10:15:28/2/generator/assets\n",
      "INFO:tensorflow:Assets written to: models/05-05-21_10:15:28/2/critic/assets\n"
     ]
    },
    {
     "name": "stderr",
     "output_type": "stream",
     "text": [
      "\r",
      " 62%|██████▏   | 62.0/100 [02:36<01:47,  2.82s/it]"
     ]
    },
    {
     "name": "stdout",
     "output_type": "stream",
     "text": [
      "DIGIT: 2\n",
      "EPOCH 62: 2.30096 sec\n",
      "Critic loss: -0.23936\n",
      "Generator loss: 1.49049\n",
      "\n"
     ]
    },
    {
     "name": "stderr",
     "output_type": "stream",
     "text": [
      "\r",
      " 63%|██████▎   | 63.0/100 [02:38<01:39,  2.69s/it]"
     ]
    },
    {
     "name": "stdout",
     "output_type": "stream",
     "text": [
      "DIGIT: 2\n",
      "EPOCH 63: 2.30288 sec\n",
      "Critic loss: -0.25049\n",
      "Generator loss: 1.60155\n",
      "\n"
     ]
    },
    {
     "name": "stderr",
     "output_type": "stream",
     "text": [
      "\r",
      " 64%|██████▍   | 64.0/100 [02:41<01:33,  2.60s/it]"
     ]
    },
    {
     "name": "stdout",
     "output_type": "stream",
     "text": [
      "DIGIT: 2\n",
      "EPOCH 64: 2.30169 sec\n",
      "Critic loss: -0.15240\n",
      "Generator loss: 1.80815\n",
      "\n"
     ]
    },
    {
     "name": "stderr",
     "output_type": "stream",
     "text": [
      "\r",
      " 65%|██████▌   | 65.0/100 [02:43<01:28,  2.53s/it]"
     ]
    },
    {
     "name": "stdout",
     "output_type": "stream",
     "text": [
      "DIGIT: 2\n",
      "EPOCH 65: 2.30309 sec\n",
      "Critic loss: -0.23251\n",
      "Generator loss: 1.07840\n",
      "\n"
     ]
    },
    {
     "name": "stderr",
     "output_type": "stream",
     "text": [
      "\r",
      " 66%|██████▌   | 66.0/100 [02:45<01:24,  2.49s/it]"
     ]
    },
    {
     "name": "stdout",
     "output_type": "stream",
     "text": [
      "DIGIT: 2\n",
      "EPOCH 66: 2.30151 sec\n",
      "Critic loss: -0.25180\n",
      "Generator loss: 0.81392\n",
      "\n"
     ]
    },
    {
     "name": "stderr",
     "output_type": "stream",
     "text": [
      "\r",
      " 67%|██████▋   | 67.0/100 [02:48<01:21,  2.46s/it]"
     ]
    },
    {
     "name": "stdout",
     "output_type": "stream",
     "text": [
      "DIGIT: 2\n",
      "EPOCH 67: 2.30478 sec\n",
      "Critic loss: -0.29048\n",
      "Generator loss: 1.77263\n",
      "\n"
     ]
    },
    {
     "name": "stderr",
     "output_type": "stream",
     "text": [
      "\r",
      " 68%|██████▊   | 68.0/100 [02:50<01:17,  2.44s/it]"
     ]
    },
    {
     "name": "stdout",
     "output_type": "stream",
     "text": [
      "DIGIT: 2\n",
      "EPOCH 68: 2.30405 sec\n",
      "Critic loss: -0.25870\n",
      "Generator loss: 0.73647\n",
      "\n"
     ]
    },
    {
     "name": "stderr",
     "output_type": "stream",
     "text": [
      "\r",
      " 69%|██████▉   | 69.0/100 [02:53<01:15,  2.42s/it]"
     ]
    },
    {
     "name": "stdout",
     "output_type": "stream",
     "text": [
      "DIGIT: 2\n",
      "EPOCH 69: 2.30230 sec\n",
      "Critic loss: -0.21039\n",
      "Generator loss: 1.44022\n",
      "\n"
     ]
    },
    {
     "name": "stderr",
     "output_type": "stream",
     "text": [
      "\r",
      " 70%|███████   | 70.0/100 [02:55<01:12,  2.41s/it]"
     ]
    },
    {
     "name": "stdout",
     "output_type": "stream",
     "text": [
      "DIGIT: 2\n",
      "EPOCH 70: 2.30321 sec\n",
      "Critic loss: -0.22344\n",
      "Generator loss: 0.88968\n",
      "\n"
     ]
    },
    {
     "name": "stderr",
     "output_type": "stream",
     "text": [
      "\r",
      " 71%|███████   | 71.0/100 [02:57<01:09,  2.40s/it]"
     ]
    },
    {
     "name": "stdout",
     "output_type": "stream",
     "text": [
      "DIGIT: 2\n",
      "EPOCH 71: 2.30295 sec\n",
      "Critic loss: -0.20317\n",
      "Generator loss: 1.01610\n",
      "\n"
     ]
    },
    {
     "name": "stderr",
     "output_type": "stream",
     "text": [
      "\r",
      " 72%|███████▏  | 72.0/100 [03:00<01:07,  2.40s/it]"
     ]
    },
    {
     "name": "stdout",
     "output_type": "stream",
     "text": [
      "DIGIT: 2\n",
      "EPOCH 72: 2.30275 sec\n",
      "Critic loss: -0.16017\n",
      "Generator loss: 1.05647\n",
      "\n"
     ]
    },
    {
     "name": "stderr",
     "output_type": "stream",
     "text": [
      "\r",
      " 73%|███████▎  | 73.0/100 [03:02<01:04,  2.39s/it]"
     ]
    },
    {
     "name": "stdout",
     "output_type": "stream",
     "text": [
      "DIGIT: 2\n",
      "EPOCH 73: 2.30319 sec\n",
      "Critic loss: -0.21393\n",
      "Generator loss: 0.78060\n",
      "\n"
     ]
    },
    {
     "name": "stderr",
     "output_type": "stream",
     "text": [
      "\r",
      " 74%|███████▍  | 74.0/100 [03:05<01:02,  2.39s/it]"
     ]
    },
    {
     "name": "stdout",
     "output_type": "stream",
     "text": [
      "DIGIT: 2\n",
      "EPOCH 74: 2.30472 sec\n",
      "Critic loss: -0.18679\n",
      "Generator loss: 0.99357\n",
      "\n"
     ]
    },
    {
     "name": "stderr",
     "output_type": "stream",
     "text": [
      "\r",
      " 75%|███████▌  | 75.0/100 [03:07<00:59,  2.39s/it]"
     ]
    },
    {
     "name": "stdout",
     "output_type": "stream",
     "text": [
      "DIGIT: 2\n",
      "EPOCH 75: 2.30197 sec\n",
      "Critic loss: -0.22509\n",
      "Generator loss: 0.72913\n",
      "\n"
     ]
    },
    {
     "name": "stderr",
     "output_type": "stream",
     "text": [
      "\r",
      " 76%|███████▌  | 76.0/100 [03:09<00:57,  2.39s/it]"
     ]
    },
    {
     "name": "stdout",
     "output_type": "stream",
     "text": [
      "DIGIT: 2\n",
      "EPOCH 76: 2.30298 sec\n",
      "Critic loss: -0.20439\n",
      "Generator loss: 1.38307\n",
      "\n"
     ]
    },
    {
     "name": "stderr",
     "output_type": "stream",
     "text": [
      "\r",
      " 77%|███████▋  | 77.0/100 [03:12<00:54,  2.39s/it]"
     ]
    },
    {
     "name": "stdout",
     "output_type": "stream",
     "text": [
      "DIGIT: 2\n",
      "EPOCH 77: 2.30265 sec\n",
      "Critic loss: -0.23237\n",
      "Generator loss: 0.45811\n",
      "\n"
     ]
    },
    {
     "name": "stderr",
     "output_type": "stream",
     "text": [
      "\r",
      " 78%|███████▊  | 78.0/100 [03:14<00:52,  2.39s/it]"
     ]
    },
    {
     "name": "stdout",
     "output_type": "stream",
     "text": [
      "DIGIT: 2\n",
      "EPOCH 78: 2.30261 sec\n",
      "Critic loss: -0.19783\n",
      "Generator loss: 0.79052\n",
      "\n"
     ]
    },
    {
     "name": "stderr",
     "output_type": "stream",
     "text": [
      "\r",
      " 79%|███████▉  | 79.0/100 [03:17<00:50,  2.39s/it]"
     ]
    },
    {
     "name": "stdout",
     "output_type": "stream",
     "text": [
      "DIGIT: 2\n",
      "EPOCH 79: 2.30321 sec\n",
      "Critic loss: -0.19919\n",
      "Generator loss: 0.73761\n",
      "\n"
     ]
    },
    {
     "name": "stderr",
     "output_type": "stream",
     "text": [
      "\r",
      " 80%|████████  | 80.0/100 [03:19<00:47,  2.39s/it]"
     ]
    },
    {
     "name": "stdout",
     "output_type": "stream",
     "text": [
      "DIGIT: 2\n",
      "EPOCH 80: 2.30286 sec\n",
      "Critic loss: -0.18842\n",
      "Generator loss: 0.53147\n",
      "\n"
     ]
    },
    {
     "name": "stderr",
     "output_type": "stream",
     "text": [
      "\r",
      " 81%|████████  | 81.0/100 [03:21<00:45,  2.39s/it]"
     ]
    },
    {
     "name": "stdout",
     "output_type": "stream",
     "text": [
      "DIGIT: 2\n",
      "EPOCH 81: 2.30490 sec\n",
      "Critic loss: -0.16740\n",
      "Generator loss: 1.19850\n",
      "\n",
      "INFO:tensorflow:Assets written to: models/05-05-21_10:15:28/2/generator/assets\n",
      "INFO:tensorflow:Assets written to: models/05-05-21_10:15:28/2/critic/assets\n"
     ]
    },
    {
     "name": "stderr",
     "output_type": "stream",
     "text": [
      "\r",
      " 82%|████████▏ | 82.0/100 [03:25<00:50,  2.82s/it]"
     ]
    },
    {
     "name": "stdout",
     "output_type": "stream",
     "text": [
      "DIGIT: 2\n",
      "EPOCH 82: 2.30265 sec\n",
      "Critic loss: -0.20031\n",
      "Generator loss: 0.59762\n",
      "\n"
     ]
    },
    {
     "name": "stderr",
     "output_type": "stream",
     "text": [
      "\r",
      " 83%|████████▎ | 83.0/100 [03:28<00:45,  2.69s/it]"
     ]
    },
    {
     "name": "stdout",
     "output_type": "stream",
     "text": [
      "DIGIT: 2\n",
      "EPOCH 83: 2.29948 sec\n",
      "Critic loss: -0.17899\n",
      "Generator loss: 0.72276\n",
      "\n"
     ]
    },
    {
     "name": "stderr",
     "output_type": "stream",
     "text": [
      "\r",
      " 84%|████████▍ | 84.0/100 [03:30<00:41,  2.60s/it]"
     ]
    },
    {
     "name": "stdout",
     "output_type": "stream",
     "text": [
      "DIGIT: 2\n",
      "EPOCH 84: 2.30271 sec\n",
      "Critic loss: -0.16836\n",
      "Generator loss: 0.74842\n",
      "\n"
     ]
    },
    {
     "name": "stderr",
     "output_type": "stream",
     "text": [
      "\r",
      " 85%|████████▌ | 85.0/100 [03:32<00:38,  2.54s/it]"
     ]
    },
    {
     "name": "stdout",
     "output_type": "stream",
     "text": [
      "DIGIT: 2\n",
      "EPOCH 85: 2.30348 sec\n",
      "Critic loss: -0.17263\n",
      "Generator loss: 0.75163\n",
      "\n"
     ]
    },
    {
     "name": "stderr",
     "output_type": "stream",
     "text": [
      "\r",
      " 86%|████████▌ | 86.0/100 [03:35<00:34,  2.49s/it]"
     ]
    },
    {
     "name": "stdout",
     "output_type": "stream",
     "text": [
      "DIGIT: 2\n",
      "EPOCH 86: 2.30550 sec\n",
      "Critic loss: -0.19259\n",
      "Generator loss: 0.81217\n",
      "\n"
     ]
    },
    {
     "name": "stderr",
     "output_type": "stream",
     "text": [
      "\r",
      " 87%|████████▋ | 87.0/100 [03:37<00:31,  2.46s/it]"
     ]
    },
    {
     "name": "stdout",
     "output_type": "stream",
     "text": [
      "DIGIT: 2\n",
      "EPOCH 87: 2.30571 sec\n",
      "Critic loss: -0.16076\n",
      "Generator loss: 1.10320\n",
      "\n"
     ]
    },
    {
     "name": "stderr",
     "output_type": "stream",
     "text": [
      "\r",
      " 88%|████████▊ | 88.0/100 [03:39<00:29,  2.44s/it]"
     ]
    },
    {
     "name": "stdout",
     "output_type": "stream",
     "text": [
      "DIGIT: 2\n",
      "EPOCH 88: 2.30219 sec\n",
      "Critic loss: -0.13133\n",
      "Generator loss: 1.18157\n",
      "\n"
     ]
    },
    {
     "name": "stderr",
     "output_type": "stream",
     "text": [
      "\r",
      " 89%|████████▉ | 89.0/100 [03:42<00:26,  2.42s/it]"
     ]
    },
    {
     "name": "stdout",
     "output_type": "stream",
     "text": [
      "DIGIT: 2\n",
      "EPOCH 89: 2.30633 sec\n",
      "Critic loss: -0.11232\n",
      "Generator loss: 1.17620\n",
      "\n"
     ]
    },
    {
     "name": "stderr",
     "output_type": "stream",
     "text": [
      "\r",
      " 90%|█████████ | 90.0/100 [03:44<00:24,  2.41s/it]"
     ]
    },
    {
     "name": "stdout",
     "output_type": "stream",
     "text": [
      "DIGIT: 2\n",
      "EPOCH 90: 2.30541 sec\n",
      "Critic loss: -0.18553\n",
      "Generator loss: 1.04366\n",
      "\n"
     ]
    },
    {
     "name": "stderr",
     "output_type": "stream",
     "text": [
      "\r",
      " 91%|█████████ | 91.0/100 [03:47<00:21,  2.40s/it]"
     ]
    },
    {
     "name": "stdout",
     "output_type": "stream",
     "text": [
      "DIGIT: 2\n",
      "EPOCH 91: 2.30299 sec\n",
      "Critic loss: -0.21402\n",
      "Generator loss: 1.37262\n",
      "\n"
     ]
    },
    {
     "name": "stderr",
     "output_type": "stream",
     "text": [
      "\r",
      " 92%|█████████▏| 92.0/100 [03:49<00:19,  2.40s/it]"
     ]
    },
    {
     "name": "stdout",
     "output_type": "stream",
     "text": [
      "DIGIT: 2\n",
      "EPOCH 92: 2.30488 sec\n",
      "Critic loss: -0.16796\n",
      "Generator loss: 1.04199\n",
      "\n"
     ]
    },
    {
     "name": "stderr",
     "output_type": "stream",
     "text": [
      "\r",
      " 93%|█████████▎| 93.0/100 [03:51<00:16,  2.39s/it]"
     ]
    },
    {
     "name": "stdout",
     "output_type": "stream",
     "text": [
      "DIGIT: 2\n",
      "EPOCH 93: 2.30350 sec\n",
      "Critic loss: -0.15629\n",
      "Generator loss: 0.70935\n",
      "\n"
     ]
    },
    {
     "name": "stderr",
     "output_type": "stream",
     "text": [
      "\r",
      " 94%|█████████▍| 94.0/100 [03:54<00:14,  2.39s/it]"
     ]
    },
    {
     "name": "stdout",
     "output_type": "stream",
     "text": [
      "DIGIT: 2\n",
      "EPOCH 94: 2.30344 sec\n",
      "Critic loss: -0.18114\n",
      "Generator loss: 1.29611\n",
      "\n"
     ]
    },
    {
     "name": "stderr",
     "output_type": "stream",
     "text": [
      "\r",
      " 95%|█████████▌| 95.0/100 [03:56<00:11,  2.39s/it]"
     ]
    },
    {
     "name": "stdout",
     "output_type": "stream",
     "text": [
      "DIGIT: 2\n",
      "EPOCH 95: 2.30815 sec\n",
      "Critic loss: -0.14648\n",
      "Generator loss: 1.05312\n",
      "\n"
     ]
    },
    {
     "name": "stderr",
     "output_type": "stream",
     "text": [
      "\r",
      " 96%|█████████▌| 96.0/100 [03:59<00:09,  2.39s/it]"
     ]
    },
    {
     "name": "stdout",
     "output_type": "stream",
     "text": [
      "DIGIT: 2\n",
      "EPOCH 96: 2.30448 sec\n",
      "Critic loss: -0.14640\n",
      "Generator loss: 1.00325\n",
      "\n"
     ]
    },
    {
     "name": "stderr",
     "output_type": "stream",
     "text": [
      "\r",
      " 97%|█████████▋| 97.0/100 [04:01<00:07,  2.39s/it]"
     ]
    },
    {
     "name": "stdout",
     "output_type": "stream",
     "text": [
      "DIGIT: 2\n",
      "EPOCH 97: 2.30557 sec\n",
      "Critic loss: -0.14748\n",
      "Generator loss: 1.33998\n",
      "\n"
     ]
    },
    {
     "name": "stderr",
     "output_type": "stream",
     "text": [
      "\r",
      " 98%|█████████▊| 98.0/100 [04:03<00:04,  2.39s/it]"
     ]
    },
    {
     "name": "stdout",
     "output_type": "stream",
     "text": [
      "DIGIT: 2\n",
      "EPOCH 98: 2.30245 sec\n",
      "Critic loss: -0.16452\n",
      "Generator loss: 1.54818\n",
      "\n"
     ]
    },
    {
     "name": "stderr",
     "output_type": "stream",
     "text": [
      "\r",
      " 99%|█████████▉| 99.0/100 [04:06<00:02,  2.39s/it]"
     ]
    },
    {
     "name": "stdout",
     "output_type": "stream",
     "text": [
      "DIGIT: 2\n",
      "EPOCH 99: 2.30004 sec\n",
      "Critic loss: -0.13074\n",
      "Generator loss: 1.16860\n",
      "\n"
     ]
    },
    {
     "name": "stderr",
     "output_type": "stream",
     "text": [
      "100%|██████████| 100.0/100 [04:08<00:00,  2.49s/it]\n",
      "  0%|          | 0/100 [00:00<?, ?it/s]"
     ]
    },
    {
     "name": "stdout",
     "output_type": "stream",
     "text": [
      "DIGIT: 2\n",
      "EPOCH 100: 2.30169 sec\n",
      "Critic loss: -0.18921\n",
      "Generator loss: 1.24793\n",
      "\n",
      "----------- TRAINING TO GENERATE **3** -----------\n"
     ]
    },
    {
     "name": "stderr",
     "output_type": "stream",
     "text": [
      "\r",
      "  1%|          | 1.0/100 [00:05<09:16,  5.62s/it]"
     ]
    },
    {
     "name": "stdout",
     "output_type": "stream",
     "text": [
      "DIGIT: 3\n",
      "EPOCH 1: 5.62271 sec\n",
      "Critic loss: -3.32583\n",
      "Generator loss: -2.46194\n",
      "\n",
      "INFO:tensorflow:Assets written to: models/05-05-21_10:15:28/3/generator/assets\n",
      "INFO:tensorflow:Assets written to: models/05-05-21_10:15:28/3/critic/assets\n"
     ]
    },
    {
     "name": "stderr",
     "output_type": "stream",
     "text": [
      "\r",
      "  2%|▏         | 2.0/100 [00:09<07:34,  4.64s/it]"
     ]
    },
    {
     "name": "stdout",
     "output_type": "stream",
     "text": [
      "DIGIT: 3\n",
      "EPOCH 2: 2.42774 sec\n",
      "Critic loss: -2.79604\n",
      "Generator loss: -1.76046\n",
      "\n"
     ]
    },
    {
     "name": "stderr",
     "output_type": "stream",
     "text": [
      "\r",
      "  3%|▎         | 3.0/100 [00:12<05:55,  3.67s/it]"
     ]
    },
    {
     "name": "stdout",
     "output_type": "stream",
     "text": [
      "DIGIT: 3\n",
      "EPOCH 3: 2.42813 sec\n",
      "Critic loss: -2.68188\n",
      "Generator loss: -0.82811\n",
      "\n"
     ]
    },
    {
     "name": "stderr",
     "output_type": "stream",
     "text": [
      "\r",
      "  4%|▍         | 4.0/100 [00:14<05:07,  3.21s/it]"
     ]
    },
    {
     "name": "stdout",
     "output_type": "stream",
     "text": [
      "DIGIT: 3\n",
      "EPOCH 4: 2.42429 sec\n",
      "Critic loss: -2.43873\n",
      "Generator loss: -0.45762\n",
      "\n"
     ]
    },
    {
     "name": "stderr",
     "output_type": "stream",
     "text": [
      "\r",
      "  5%|▌         | 5.0/100 [00:17<04:40,  2.96s/it]"
     ]
    },
    {
     "name": "stdout",
     "output_type": "stream",
     "text": [
      "DIGIT: 3\n",
      "EPOCH 5: 2.42746 sec\n",
      "Critic loss: -2.25766\n",
      "Generator loss: -0.43916\n",
      "\n"
     ]
    },
    {
     "name": "stderr",
     "output_type": "stream",
     "text": [
      "\r",
      "  6%|▌         | 6.0/100 [00:19<04:23,  2.80s/it]"
     ]
    },
    {
     "name": "stdout",
     "output_type": "stream",
     "text": [
      "DIGIT: 3\n",
      "EPOCH 6: 2.42903 sec\n",
      "Critic loss: -2.00389\n",
      "Generator loss: -1.41997\n",
      "\n"
     ]
    },
    {
     "name": "stderr",
     "output_type": "stream",
     "text": [
      "\r",
      "  7%|▋         | 7.0/100 [00:22<04:12,  2.71s/it]"
     ]
    },
    {
     "name": "stdout",
     "output_type": "stream",
     "text": [
      "DIGIT: 3\n",
      "EPOCH 7: 2.44425 sec\n",
      "Critic loss: -1.97200\n",
      "Generator loss: -2.62682\n",
      "\n"
     ]
    },
    {
     "name": "stderr",
     "output_type": "stream",
     "text": [
      "\r",
      "  8%|▊         | 8.0/100 [00:24<04:03,  2.65s/it]"
     ]
    },
    {
     "name": "stdout",
     "output_type": "stream",
     "text": [
      "DIGIT: 3\n",
      "EPOCH 8: 2.43263 sec\n",
      "Critic loss: -1.98033\n",
      "Generator loss: -3.54387\n",
      "\n"
     ]
    },
    {
     "name": "stderr",
     "output_type": "stream",
     "text": [
      "\r",
      "  9%|▉         | 9.0/100 [00:27<03:57,  2.61s/it]"
     ]
    },
    {
     "name": "stdout",
     "output_type": "stream",
     "text": [
      "DIGIT: 3\n",
      "EPOCH 9: 2.42905 sec\n",
      "Critic loss: -1.65701\n",
      "Generator loss: -3.99946\n",
      "\n"
     ]
    },
    {
     "name": "stderr",
     "output_type": "stream",
     "text": [
      "\r",
      " 10%|█         | 10.0/100 [00:29<03:51,  2.58s/it]"
     ]
    },
    {
     "name": "stdout",
     "output_type": "stream",
     "text": [
      "DIGIT: 3\n",
      "EPOCH 10: 2.42920 sec\n",
      "Critic loss: -2.13095\n",
      "Generator loss: -3.85658\n",
      "\n"
     ]
    },
    {
     "name": "stderr",
     "output_type": "stream",
     "text": [
      "\r",
      " 11%|█         | 11.0/100 [00:32<03:47,  2.56s/it]"
     ]
    },
    {
     "name": "stdout",
     "output_type": "stream",
     "text": [
      "DIGIT: 3\n",
      "EPOCH 11: 2.42928 sec\n",
      "Critic loss: -2.26464\n",
      "Generator loss: -4.02357\n",
      "\n"
     ]
    },
    {
     "name": "stderr",
     "output_type": "stream",
     "text": [
      "\r",
      " 12%|█▏        | 12.0/100 [00:34<03:43,  2.54s/it]"
     ]
    },
    {
     "name": "stdout",
     "output_type": "stream",
     "text": [
      "DIGIT: 3\n",
      "EPOCH 12: 2.42760 sec\n",
      "Critic loss: -2.14702\n",
      "Generator loss: -3.80510\n",
      "\n"
     ]
    },
    {
     "name": "stderr",
     "output_type": "stream",
     "text": [
      "\r",
      " 13%|█▎        | 13.0/100 [00:37<03:40,  2.53s/it]"
     ]
    },
    {
     "name": "stdout",
     "output_type": "stream",
     "text": [
      "DIGIT: 3\n",
      "EPOCH 13: 2.42878 sec\n",
      "Critic loss: -2.14061\n",
      "Generator loss: -3.65324\n",
      "\n"
     ]
    },
    {
     "name": "stderr",
     "output_type": "stream",
     "text": [
      "\r",
      " 14%|█▍        | 14.0/100 [00:39<03:37,  2.53s/it]"
     ]
    },
    {
     "name": "stdout",
     "output_type": "stream",
     "text": [
      "DIGIT: 3\n",
      "EPOCH 14: 2.42840 sec\n",
      "Critic loss: -1.82048\n",
      "Generator loss: -3.55390\n",
      "\n"
     ]
    },
    {
     "name": "stderr",
     "output_type": "stream",
     "text": [
      "\r",
      " 15%|█▌        | 15.0/100 [00:42<03:34,  2.52s/it]"
     ]
    },
    {
     "name": "stdout",
     "output_type": "stream",
     "text": [
      "DIGIT: 3\n",
      "EPOCH 15: 2.42697 sec\n",
      "Critic loss: -2.06176\n",
      "Generator loss: -0.88571\n",
      "\n"
     ]
    },
    {
     "name": "stderr",
     "output_type": "stream",
     "text": [
      "\r",
      " 16%|█▌        | 16.0/100 [00:44<03:31,  2.52s/it]"
     ]
    },
    {
     "name": "stdout",
     "output_type": "stream",
     "text": [
      "DIGIT: 3\n",
      "EPOCH 16: 2.42914 sec\n",
      "Critic loss: -2.19514\n",
      "Generator loss: 0.10004\n",
      "\n"
     ]
    },
    {
     "name": "stderr",
     "output_type": "stream",
     "text": [
      "\r",
      " 17%|█▋        | 17.0/100 [00:47<03:28,  2.52s/it]"
     ]
    },
    {
     "name": "stdout",
     "output_type": "stream",
     "text": [
      "DIGIT: 3\n",
      "EPOCH 17: 2.42803 sec\n",
      "Critic loss: -2.24172\n",
      "Generator loss: 0.61340\n",
      "\n"
     ]
    },
    {
     "name": "stderr",
     "output_type": "stream",
     "text": [
      "\r",
      " 18%|█▊        | 18.0/100 [00:49<03:26,  2.51s/it]"
     ]
    },
    {
     "name": "stdout",
     "output_type": "stream",
     "text": [
      "DIGIT: 3\n",
      "EPOCH 18: 2.43106 sec\n",
      "Critic loss: -2.02257\n",
      "Generator loss: 1.90442\n",
      "\n"
     ]
    },
    {
     "name": "stderr",
     "output_type": "stream",
     "text": [
      "\r",
      " 19%|█▉        | 19.0/100 [00:52<03:23,  2.52s/it]"
     ]
    },
    {
     "name": "stdout",
     "output_type": "stream",
     "text": [
      "DIGIT: 3\n",
      "EPOCH 19: 2.43595 sec\n",
      "Critic loss: -0.71730\n",
      "Generator loss: -1.29277\n",
      "\n"
     ]
    },
    {
     "name": "stderr",
     "output_type": "stream",
     "text": [
      "\r",
      " 20%|██        | 20.0/100 [00:54<03:21,  2.52s/it]"
     ]
    },
    {
     "name": "stdout",
     "output_type": "stream",
     "text": [
      "DIGIT: 3\n",
      "EPOCH 20: 2.43228 sec\n",
      "Critic loss: -0.81827\n",
      "Generator loss: -1.04845\n",
      "\n"
     ]
    },
    {
     "name": "stderr",
     "output_type": "stream",
     "text": [
      "\r",
      " 21%|██        | 21.0/100 [00:57<03:18,  2.52s/it]"
     ]
    },
    {
     "name": "stdout",
     "output_type": "stream",
     "text": [
      "DIGIT: 3\n",
      "EPOCH 21: 2.43194 sec\n",
      "Critic loss: -0.91595\n",
      "Generator loss: -0.54448\n",
      "\n",
      "INFO:tensorflow:Assets written to: models/05-05-21_10:15:28/3/generator/assets\n",
      "INFO:tensorflow:Assets written to: models/05-05-21_10:15:28/3/critic/assets\n"
     ]
    },
    {
     "name": "stderr",
     "output_type": "stream",
     "text": [
      "\r",
      " 22%|██▏       | 22.0/100 [01:01<03:49,  2.94s/it]"
     ]
    },
    {
     "name": "stdout",
     "output_type": "stream",
     "text": [
      "DIGIT: 3\n",
      "EPOCH 22: 2.42667 sec\n",
      "Critic loss: -0.72762\n",
      "Generator loss: -0.39869\n",
      "\n"
     ]
    },
    {
     "name": "stderr",
     "output_type": "stream",
     "text": [
      "\r",
      " 23%|██▎       | 23.0/100 [01:03<03:36,  2.81s/it]"
     ]
    },
    {
     "name": "stdout",
     "output_type": "stream",
     "text": [
      "DIGIT: 3\n",
      "EPOCH 23: 2.42801 sec\n",
      "Critic loss: -0.33557\n",
      "Generator loss: -0.56491\n",
      "\n"
     ]
    },
    {
     "name": "stderr",
     "output_type": "stream",
     "text": [
      "\r",
      " 24%|██▍       | 24.0/100 [01:06<03:26,  2.72s/it]"
     ]
    },
    {
     "name": "stdout",
     "output_type": "stream",
     "text": [
      "DIGIT: 3\n",
      "EPOCH 24: 2.42809 sec\n",
      "Critic loss: -0.32599\n",
      "Generator loss: -0.28612\n",
      "\n"
     ]
    },
    {
     "name": "stderr",
     "output_type": "stream",
     "text": [
      "\r",
      " 25%|██▌       | 25.0/100 [01:08<03:19,  2.66s/it]"
     ]
    },
    {
     "name": "stdout",
     "output_type": "stream",
     "text": [
      "DIGIT: 3\n",
      "EPOCH 25: 2.42870 sec\n",
      "Critic loss: -0.34018\n",
      "Generator loss: 0.21892\n",
      "\n"
     ]
    },
    {
     "name": "stderr",
     "output_type": "stream",
     "text": [
      "\r",
      " 26%|██▌       | 26.0/100 [01:11<03:13,  2.61s/it]"
     ]
    },
    {
     "name": "stdout",
     "output_type": "stream",
     "text": [
      "DIGIT: 3\n",
      "EPOCH 26: 2.42816 sec\n",
      "Critic loss: -0.22491\n",
      "Generator loss: 0.33502\n",
      "\n"
     ]
    },
    {
     "name": "stderr",
     "output_type": "stream",
     "text": [
      "\r",
      " 27%|██▋       | 27.0/100 [01:13<03:08,  2.58s/it]"
     ]
    },
    {
     "name": "stdout",
     "output_type": "stream",
     "text": [
      "DIGIT: 3\n",
      "EPOCH 27: 2.42997 sec\n",
      "Critic loss: -0.24290\n",
      "Generator loss: 0.91258\n",
      "\n"
     ]
    },
    {
     "name": "stderr",
     "output_type": "stream",
     "text": [
      "\r",
      " 28%|██▊       | 28.0/100 [01:16<03:04,  2.56s/it]"
     ]
    },
    {
     "name": "stdout",
     "output_type": "stream",
     "text": [
      "DIGIT: 3\n",
      "EPOCH 28: 2.42603 sec\n",
      "Critic loss: -0.12914\n",
      "Generator loss: 1.16287\n",
      "\n"
     ]
    },
    {
     "name": "stderr",
     "output_type": "stream",
     "text": [
      "\r",
      " 29%|██▉       | 29.0/100 [01:18<03:00,  2.55s/it]"
     ]
    },
    {
     "name": "stdout",
     "output_type": "stream",
     "text": [
      "DIGIT: 3\n",
      "EPOCH 29: 2.42987 sec\n",
      "Critic loss: -0.13569\n",
      "Generator loss: 1.54361\n",
      "\n"
     ]
    },
    {
     "name": "stderr",
     "output_type": "stream",
     "text": [
      "\r",
      " 30%|███       | 30.0/100 [01:21<02:57,  2.54s/it]"
     ]
    },
    {
     "name": "stdout",
     "output_type": "stream",
     "text": [
      "DIGIT: 3\n",
      "EPOCH 30: 2.43075 sec\n",
      "Critic loss: -0.12022\n",
      "Generator loss: 2.01857\n",
      "\n"
     ]
    },
    {
     "name": "stderr",
     "output_type": "stream",
     "text": [
      "\r",
      " 31%|███       | 31.0/100 [01:23<02:54,  2.53s/it]"
     ]
    },
    {
     "name": "stdout",
     "output_type": "stream",
     "text": [
      "DIGIT: 3\n",
      "EPOCH 31: 2.43471 sec\n",
      "Critic loss: -0.04418\n",
      "Generator loss: 1.68853\n",
      "\n"
     ]
    },
    {
     "name": "stderr",
     "output_type": "stream",
     "text": [
      "\r",
      " 32%|███▏      | 32.0/100 [01:26<02:51,  2.52s/it]"
     ]
    },
    {
     "name": "stdout",
     "output_type": "stream",
     "text": [
      "DIGIT: 3\n",
      "EPOCH 32: 2.42983 sec\n",
      "Critic loss: -0.11383\n",
      "Generator loss: 1.47059\n",
      "\n"
     ]
    },
    {
     "name": "stderr",
     "output_type": "stream",
     "text": [
      "\r",
      " 33%|███▎      | 33.0/100 [01:28<02:48,  2.52s/it]"
     ]
    },
    {
     "name": "stdout",
     "output_type": "stream",
     "text": [
      "DIGIT: 3\n",
      "EPOCH 33: 2.43323 sec\n",
      "Critic loss: -0.15445\n",
      "Generator loss: 1.85993\n",
      "\n"
     ]
    },
    {
     "name": "stderr",
     "output_type": "stream",
     "text": [
      "\r",
      " 34%|███▍      | 34.0/100 [01:31<02:46,  2.52s/it]"
     ]
    },
    {
     "name": "stdout",
     "output_type": "stream",
     "text": [
      "DIGIT: 3\n",
      "EPOCH 34: 2.43351 sec\n",
      "Critic loss: -0.12264\n",
      "Generator loss: 1.25022\n",
      "\n"
     ]
    },
    {
     "name": "stderr",
     "output_type": "stream",
     "text": [
      "\r",
      " 35%|███▌      | 35.0/100 [01:33<02:43,  2.52s/it]"
     ]
    },
    {
     "name": "stdout",
     "output_type": "stream",
     "text": [
      "DIGIT: 3\n",
      "EPOCH 35: 2.43159 sec\n",
      "Critic loss: -0.12357\n",
      "Generator loss: 1.06082\n",
      "\n"
     ]
    },
    {
     "name": "stderr",
     "output_type": "stream",
     "text": [
      "\r",
      " 36%|███▌      | 36.0/100 [01:36<02:41,  2.52s/it]"
     ]
    },
    {
     "name": "stdout",
     "output_type": "stream",
     "text": [
      "DIGIT: 3\n",
      "EPOCH 36: 2.43212 sec\n",
      "Critic loss: -0.20004\n",
      "Generator loss: 0.85679\n",
      "\n"
     ]
    },
    {
     "name": "stderr",
     "output_type": "stream",
     "text": [
      "\r",
      " 37%|███▋      | 37.0/100 [01:38<02:38,  2.52s/it]"
     ]
    },
    {
     "name": "stdout",
     "output_type": "stream",
     "text": [
      "DIGIT: 3\n",
      "EPOCH 37: 2.43038 sec\n",
      "Critic loss: -0.14584\n",
      "Generator loss: 1.11027\n",
      "\n"
     ]
    },
    {
     "name": "stderr",
     "output_type": "stream",
     "text": [
      "\r",
      " 38%|███▊      | 38.0/100 [01:41<02:35,  2.52s/it]"
     ]
    },
    {
     "name": "stdout",
     "output_type": "stream",
     "text": [
      "DIGIT: 3\n",
      "EPOCH 38: 2.43110 sec\n",
      "Critic loss: -0.21836\n",
      "Generator loss: 1.13572\n",
      "\n"
     ]
    },
    {
     "name": "stderr",
     "output_type": "stream",
     "text": [
      "\r",
      " 39%|███▉      | 39.0/100 [01:43<02:33,  2.52s/it]"
     ]
    },
    {
     "name": "stdout",
     "output_type": "stream",
     "text": [
      "DIGIT: 3\n",
      "EPOCH 39: 2.43295 sec\n",
      "Critic loss: -0.20164\n",
      "Generator loss: 1.16009\n",
      "\n"
     ]
    },
    {
     "name": "stderr",
     "output_type": "stream",
     "text": [
      "\r",
      " 40%|████      | 40.0/100 [01:46<02:30,  2.51s/it]"
     ]
    },
    {
     "name": "stdout",
     "output_type": "stream",
     "text": [
      "DIGIT: 3\n",
      "EPOCH 40: 2.43288 sec\n",
      "Critic loss: -0.23682\n",
      "Generator loss: 1.40894\n",
      "\n"
     ]
    },
    {
     "name": "stderr",
     "output_type": "stream",
     "text": [
      "\r",
      " 41%|████      | 41.0/100 [01:48<02:28,  2.51s/it]"
     ]
    },
    {
     "name": "stdout",
     "output_type": "stream",
     "text": [
      "DIGIT: 3\n",
      "EPOCH 41: 2.43179 sec\n",
      "Critic loss: -0.26011\n",
      "Generator loss: 0.83841\n",
      "\n",
      "INFO:tensorflow:Assets written to: models/05-05-21_10:15:28/3/generator/assets\n",
      "INFO:tensorflow:Assets written to: models/05-05-21_10:15:28/3/critic/assets\n"
     ]
    },
    {
     "name": "stderr",
     "output_type": "stream",
     "text": [
      "\r",
      " 42%|████▏     | 42.0/100 [01:53<02:52,  2.97s/it]"
     ]
    },
    {
     "name": "stdout",
     "output_type": "stream",
     "text": [
      "DIGIT: 3\n",
      "EPOCH 42: 2.42990 sec\n",
      "Critic loss: -0.17767\n",
      "Generator loss: 0.51730\n",
      "\n"
     ]
    },
    {
     "name": "stderr",
     "output_type": "stream",
     "text": [
      "\r",
      " 43%|████▎     | 43.0/100 [01:55<02:41,  2.83s/it]"
     ]
    },
    {
     "name": "stdout",
     "output_type": "stream",
     "text": [
      "DIGIT: 3\n",
      "EPOCH 43: 2.43376 sec\n",
      "Critic loss: -0.19661\n",
      "Generator loss: 0.92397\n",
      "\n"
     ]
    },
    {
     "name": "stderr",
     "output_type": "stream",
     "text": [
      "\r",
      " 44%|████▍     | 44.0/100 [01:58<02:33,  2.74s/it]"
     ]
    },
    {
     "name": "stdout",
     "output_type": "stream",
     "text": [
      "DIGIT: 3\n",
      "EPOCH 44: 2.43088 sec\n",
      "Critic loss: -0.20943\n",
      "Generator loss: 1.18763\n",
      "\n"
     ]
    },
    {
     "name": "stderr",
     "output_type": "stream",
     "text": [
      "\r",
      " 45%|████▌     | 45.0/100 [02:00<02:26,  2.67s/it]"
     ]
    },
    {
     "name": "stdout",
     "output_type": "stream",
     "text": [
      "DIGIT: 3\n",
      "EPOCH 45: 2.43200 sec\n",
      "Critic loss: -0.23007\n",
      "Generator loss: 0.73819\n",
      "\n"
     ]
    },
    {
     "name": "stderr",
     "output_type": "stream",
     "text": [
      "\r",
      " 46%|████▌     | 46.0/100 [02:03<02:21,  2.62s/it]"
     ]
    },
    {
     "name": "stdout",
     "output_type": "stream",
     "text": [
      "DIGIT: 3\n",
      "EPOCH 46: 2.43329 sec\n",
      "Critic loss: -0.17041\n",
      "Generator loss: 1.30909\n",
      "\n"
     ]
    },
    {
     "name": "stderr",
     "output_type": "stream",
     "text": [
      "\r",
      " 47%|████▋     | 47.0/100 [02:05<02:17,  2.59s/it]"
     ]
    },
    {
     "name": "stdout",
     "output_type": "stream",
     "text": [
      "DIGIT: 3\n",
      "EPOCH 47: 2.43445 sec\n",
      "Critic loss: -0.21107\n",
      "Generator loss: 1.29998\n",
      "\n"
     ]
    },
    {
     "name": "stderr",
     "output_type": "stream",
     "text": [
      "\r",
      " 48%|████▊     | 48.0/100 [02:08<02:13,  2.57s/it]"
     ]
    },
    {
     "name": "stdout",
     "output_type": "stream",
     "text": [
      "DIGIT: 3\n",
      "EPOCH 48: 2.43146 sec\n",
      "Critic loss: -0.20522\n",
      "Generator loss: 0.86361\n",
      "\n"
     ]
    },
    {
     "name": "stderr",
     "output_type": "stream",
     "text": [
      "\r",
      " 49%|████▉     | 49.0/100 [02:10<02:10,  2.55s/it]"
     ]
    },
    {
     "name": "stdout",
     "output_type": "stream",
     "text": [
      "DIGIT: 3\n",
      "EPOCH 49: 2.43172 sec\n",
      "Critic loss: -0.20008\n",
      "Generator loss: 0.73839\n",
      "\n"
     ]
    },
    {
     "name": "stderr",
     "output_type": "stream",
     "text": [
      "\r",
      " 50%|█████     | 50.0/100 [02:13<02:07,  2.54s/it]"
     ]
    },
    {
     "name": "stdout",
     "output_type": "stream",
     "text": [
      "DIGIT: 3\n",
      "EPOCH 50: 2.43183 sec\n",
      "Critic loss: -0.20763\n",
      "Generator loss: 0.90627\n",
      "\n"
     ]
    },
    {
     "name": "stderr",
     "output_type": "stream",
     "text": [
      "\r",
      " 51%|█████     | 51.0/100 [02:15<02:04,  2.53s/it]"
     ]
    },
    {
     "name": "stdout",
     "output_type": "stream",
     "text": [
      "DIGIT: 3\n",
      "EPOCH 51: 2.43414 sec\n",
      "Critic loss: -0.23393\n",
      "Generator loss: 1.40289\n",
      "\n"
     ]
    },
    {
     "name": "stderr",
     "output_type": "stream",
     "text": [
      "\r",
      " 52%|█████▏    | 52.0/100 [02:18<02:01,  2.53s/it]"
     ]
    },
    {
     "name": "stdout",
     "output_type": "stream",
     "text": [
      "DIGIT: 3\n",
      "EPOCH 52: 2.43192 sec\n",
      "Critic loss: 0.03778\n",
      "Generator loss: 1.31825\n",
      "\n"
     ]
    },
    {
     "name": "stderr",
     "output_type": "stream",
     "text": [
      "\r",
      " 53%|█████▎    | 53.0/100 [02:20<01:58,  2.53s/it]"
     ]
    },
    {
     "name": "stdout",
     "output_type": "stream",
     "text": [
      "DIGIT: 3\n",
      "EPOCH 53: 2.44434 sec\n",
      "Critic loss: -0.18103\n",
      "Generator loss: 1.06957\n",
      "\n"
     ]
    },
    {
     "name": "stderr",
     "output_type": "stream",
     "text": [
      "\r",
      " 54%|█████▍    | 54.0/100 [02:23<01:56,  2.52s/it]"
     ]
    },
    {
     "name": "stdout",
     "output_type": "stream",
     "text": [
      "DIGIT: 3\n",
      "EPOCH 54: 2.43808 sec\n",
      "Critic loss: -0.23920\n",
      "Generator loss: 1.34456\n",
      "\n"
     ]
    },
    {
     "name": "stderr",
     "output_type": "stream",
     "text": [
      "\r",
      " 55%|█████▌    | 55.0/100 [02:25<01:53,  2.52s/it]"
     ]
    },
    {
     "name": "stdout",
     "output_type": "stream",
     "text": [
      "DIGIT: 3\n",
      "EPOCH 55: 2.43074 sec\n",
      "Critic loss: -0.20440\n",
      "Generator loss: 1.28629\n",
      "\n"
     ]
    },
    {
     "name": "stderr",
     "output_type": "stream",
     "text": [
      "\r",
      " 56%|█████▌    | 56.0/100 [02:28<01:50,  2.52s/it]"
     ]
    },
    {
     "name": "stdout",
     "output_type": "stream",
     "text": [
      "DIGIT: 3\n",
      "EPOCH 56: 2.43175 sec\n",
      "Critic loss: -0.22995\n",
      "Generator loss: 1.67907\n",
      "\n"
     ]
    },
    {
     "name": "stderr",
     "output_type": "stream",
     "text": [
      "\r",
      " 57%|█████▋    | 57.0/100 [02:30<01:48,  2.52s/it]"
     ]
    },
    {
     "name": "stdout",
     "output_type": "stream",
     "text": [
      "DIGIT: 3\n",
      "EPOCH 57: 2.43233 sec\n",
      "Critic loss: -0.14852\n",
      "Generator loss: 1.18898\n",
      "\n"
     ]
    },
    {
     "name": "stderr",
     "output_type": "stream",
     "text": [
      "\r",
      " 58%|█████▊    | 58.0/100 [02:33<01:45,  2.52s/it]"
     ]
    },
    {
     "name": "stdout",
     "output_type": "stream",
     "text": [
      "DIGIT: 3\n",
      "EPOCH 58: 2.43438 sec\n",
      "Critic loss: -0.17424\n",
      "Generator loss: 1.47230\n",
      "\n"
     ]
    },
    {
     "name": "stderr",
     "output_type": "stream",
     "text": [
      "\r",
      " 59%|█████▉    | 59.0/100 [02:35<01:43,  2.52s/it]"
     ]
    },
    {
     "name": "stdout",
     "output_type": "stream",
     "text": [
      "DIGIT: 3\n",
      "EPOCH 59: 2.43118 sec\n",
      "Critic loss: -0.17111\n",
      "Generator loss: 1.10739\n",
      "\n"
     ]
    },
    {
     "name": "stderr",
     "output_type": "stream",
     "text": [
      "\r",
      " 60%|██████    | 60.0/100 [02:38<01:40,  2.52s/it]"
     ]
    },
    {
     "name": "stdout",
     "output_type": "stream",
     "text": [
      "DIGIT: 3\n",
      "EPOCH 60: 2.43252 sec\n",
      "Critic loss: -0.14205\n",
      "Generator loss: 0.89497\n",
      "\n"
     ]
    },
    {
     "name": "stderr",
     "output_type": "stream",
     "text": [
      "\r",
      " 61%|██████    | 61.0/100 [02:40<01:38,  2.52s/it]"
     ]
    },
    {
     "name": "stdout",
     "output_type": "stream",
     "text": [
      "DIGIT: 3\n",
      "EPOCH 61: 2.43338 sec\n",
      "Critic loss: -0.17912\n",
      "Generator loss: 0.71459\n",
      "\n",
      "INFO:tensorflow:Assets written to: models/05-05-21_10:15:28/3/generator/assets\n",
      "INFO:tensorflow:Assets written to: models/05-05-21_10:15:28/3/critic/assets\n"
     ]
    },
    {
     "name": "stderr",
     "output_type": "stream",
     "text": [
      "\r",
      " 62%|██████▏   | 62.0/100 [02:44<01:51,  2.94s/it]"
     ]
    },
    {
     "name": "stdout",
     "output_type": "stream",
     "text": [
      "DIGIT: 3\n",
      "EPOCH 62: 2.43235 sec\n",
      "Critic loss: -0.18963\n",
      "Generator loss: 0.99415\n",
      "\n"
     ]
    },
    {
     "name": "stderr",
     "output_type": "stream",
     "text": [
      "\r",
      " 63%|██████▎   | 63.0/100 [02:47<01:44,  2.81s/it]"
     ]
    },
    {
     "name": "stdout",
     "output_type": "stream",
     "text": [
      "DIGIT: 3\n",
      "EPOCH 63: 2.43219 sec\n",
      "Critic loss: -0.18811\n",
      "Generator loss: 1.59664\n",
      "\n"
     ]
    },
    {
     "name": "stderr",
     "output_type": "stream",
     "text": [
      "\r",
      " 64%|██████▍   | 64.0/100 [02:49<01:38,  2.72s/it]"
     ]
    },
    {
     "name": "stdout",
     "output_type": "stream",
     "text": [
      "DIGIT: 3\n",
      "EPOCH 64: 2.43125 sec\n",
      "Critic loss: -0.15611\n",
      "Generator loss: 1.53267\n",
      "\n"
     ]
    },
    {
     "name": "stderr",
     "output_type": "stream",
     "text": [
      "\r",
      " 65%|██████▌   | 65.0/100 [02:52<01:33,  2.66s/it]"
     ]
    },
    {
     "name": "stdout",
     "output_type": "stream",
     "text": [
      "DIGIT: 3\n",
      "EPOCH 65: 2.43541 sec\n",
      "Critic loss: -0.16440\n",
      "Generator loss: 1.81999\n",
      "\n"
     ]
    },
    {
     "name": "stderr",
     "output_type": "stream",
     "text": [
      "\r",
      " 66%|██████▌   | 66.0/100 [02:54<01:29,  2.62s/it]"
     ]
    },
    {
     "name": "stdout",
     "output_type": "stream",
     "text": [
      "DIGIT: 3\n",
      "EPOCH 66: 2.43282 sec\n",
      "Critic loss: -0.17741\n",
      "Generator loss: 1.39278\n",
      "\n"
     ]
    },
    {
     "name": "stderr",
     "output_type": "stream",
     "text": [
      "\r",
      " 67%|██████▋   | 67.0/100 [02:57<01:25,  2.59s/it]"
     ]
    },
    {
     "name": "stdout",
     "output_type": "stream",
     "text": [
      "DIGIT: 3\n",
      "EPOCH 67: 2.43286 sec\n",
      "Critic loss: -0.17009\n",
      "Generator loss: 1.21147\n",
      "\n"
     ]
    },
    {
     "name": "stderr",
     "output_type": "stream",
     "text": [
      "\r",
      " 68%|██████▊   | 68.0/100 [02:59<01:22,  2.57s/it]"
     ]
    },
    {
     "name": "stdout",
     "output_type": "stream",
     "text": [
      "DIGIT: 3\n",
      "EPOCH 68: 2.44090 sec\n",
      "Critic loss: -0.14385\n",
      "Generator loss: 1.40631\n",
      "\n"
     ]
    },
    {
     "name": "stderr",
     "output_type": "stream",
     "text": [
      "\r",
      " 69%|██████▉   | 69.0/100 [03:02<01:19,  2.55s/it]"
     ]
    },
    {
     "name": "stdout",
     "output_type": "stream",
     "text": [
      "DIGIT: 3\n",
      "EPOCH 69: 2.43306 sec\n",
      "Critic loss: -0.13592\n",
      "Generator loss: 1.42824\n",
      "\n"
     ]
    },
    {
     "name": "stderr",
     "output_type": "stream",
     "text": [
      "\r",
      " 70%|███████   | 70.0/100 [03:04<01:16,  2.54s/it]"
     ]
    },
    {
     "name": "stdout",
     "output_type": "stream",
     "text": [
      "DIGIT: 3\n",
      "EPOCH 70: 2.43203 sec\n",
      "Critic loss: -0.16165\n",
      "Generator loss: 1.55589\n",
      "\n"
     ]
    },
    {
     "name": "stderr",
     "output_type": "stream",
     "text": [
      "\r",
      " 71%|███████   | 71.0/100 [03:07<01:13,  2.53s/it]"
     ]
    },
    {
     "name": "stdout",
     "output_type": "stream",
     "text": [
      "DIGIT: 3\n",
      "EPOCH 71: 2.43324 sec\n",
      "Critic loss: -0.14506\n",
      "Generator loss: 1.31892\n",
      "\n"
     ]
    },
    {
     "name": "stderr",
     "output_type": "stream",
     "text": [
      "\r",
      " 72%|███████▏  | 72.0/100 [03:09<01:10,  2.53s/it]"
     ]
    },
    {
     "name": "stdout",
     "output_type": "stream",
     "text": [
      "DIGIT: 3\n",
      "EPOCH 72: 2.43253 sec\n",
      "Critic loss: -0.14940\n",
      "Generator loss: 1.65520\n",
      "\n"
     ]
    },
    {
     "name": "stderr",
     "output_type": "stream",
     "text": [
      "\r",
      " 73%|███████▎  | 73.0/100 [03:12<01:08,  2.52s/it]"
     ]
    },
    {
     "name": "stdout",
     "output_type": "stream",
     "text": [
      "DIGIT: 3\n",
      "EPOCH 73: 2.43041 sec\n",
      "Critic loss: -0.13441\n",
      "Generator loss: 1.32720\n",
      "\n"
     ]
    },
    {
     "name": "stderr",
     "output_type": "stream",
     "text": [
      "\r",
      " 74%|███████▍  | 74.0/100 [03:14<01:05,  2.52s/it]"
     ]
    },
    {
     "name": "stdout",
     "output_type": "stream",
     "text": [
      "DIGIT: 3\n",
      "EPOCH 74: 2.43508 sec\n",
      "Critic loss: -0.12873\n",
      "Generator loss: 1.71369\n",
      "\n"
     ]
    },
    {
     "name": "stderr",
     "output_type": "stream",
     "text": [
      "\r",
      " 75%|███████▌  | 75.0/100 [03:17<01:02,  2.52s/it]"
     ]
    },
    {
     "name": "stdout",
     "output_type": "stream",
     "text": [
      "DIGIT: 3\n",
      "EPOCH 75: 2.43249 sec\n",
      "Critic loss: -0.13329\n",
      "Generator loss: 1.54495\n",
      "\n"
     ]
    },
    {
     "name": "stderr",
     "output_type": "stream",
     "text": [
      "\r",
      " 76%|███████▌  | 76.0/100 [03:19<01:00,  2.52s/it]"
     ]
    },
    {
     "name": "stdout",
     "output_type": "stream",
     "text": [
      "DIGIT: 3\n",
      "EPOCH 76: 2.43489 sec\n",
      "Critic loss: -0.11125\n",
      "Generator loss: 1.88404\n",
      "\n"
     ]
    },
    {
     "name": "stderr",
     "output_type": "stream",
     "text": [
      "\r",
      " 77%|███████▋  | 77.0/100 [03:22<00:57,  2.52s/it]"
     ]
    },
    {
     "name": "stdout",
     "output_type": "stream",
     "text": [
      "DIGIT: 3\n",
      "EPOCH 77: 2.43270 sec\n",
      "Critic loss: -0.13622\n",
      "Generator loss: 1.87216\n",
      "\n"
     ]
    },
    {
     "name": "stderr",
     "output_type": "stream",
     "text": [
      "\r",
      " 78%|███████▊  | 78.0/100 [03:24<00:55,  2.52s/it]"
     ]
    },
    {
     "name": "stdout",
     "output_type": "stream",
     "text": [
      "DIGIT: 3\n",
      "EPOCH 78: 2.43196 sec\n",
      "Critic loss: -0.12159\n",
      "Generator loss: 2.20259\n",
      "\n"
     ]
    },
    {
     "name": "stderr",
     "output_type": "stream",
     "text": [
      "\r",
      " 79%|███████▉  | 79.0/100 [03:27<00:52,  2.52s/it]"
     ]
    },
    {
     "name": "stdout",
     "output_type": "stream",
     "text": [
      "DIGIT: 3\n",
      "EPOCH 79: 2.43120 sec\n",
      "Critic loss: -0.22299\n",
      "Generator loss: 1.96951\n",
      "\n"
     ]
    },
    {
     "name": "stderr",
     "output_type": "stream",
     "text": [
      "\r",
      " 80%|████████  | 80.0/100 [03:30<00:50,  2.52s/it]"
     ]
    },
    {
     "name": "stdout",
     "output_type": "stream",
     "text": [
      "DIGIT: 3\n",
      "EPOCH 80: 2.43244 sec\n",
      "Critic loss: -0.14121\n",
      "Generator loss: 1.87482\n",
      "\n"
     ]
    },
    {
     "name": "stderr",
     "output_type": "stream",
     "text": [
      "\r",
      " 81%|████████  | 81.0/100 [03:32<00:47,  2.51s/it]"
     ]
    },
    {
     "name": "stdout",
     "output_type": "stream",
     "text": [
      "DIGIT: 3\n",
      "EPOCH 81: 2.43166 sec\n",
      "Critic loss: -0.12708\n",
      "Generator loss: 2.13965\n",
      "\n",
      "INFO:tensorflow:Assets written to: models/05-05-21_10:15:28/3/generator/assets\n",
      "INFO:tensorflow:Assets written to: models/05-05-21_10:15:28/3/critic/assets\n"
     ]
    },
    {
     "name": "stderr",
     "output_type": "stream",
     "text": [
      "\r",
      " 82%|████████▏ | 82.0/100 [03:36<00:53,  2.97s/it]"
     ]
    },
    {
     "name": "stdout",
     "output_type": "stream",
     "text": [
      "DIGIT: 3\n",
      "EPOCH 82: 2.42983 sec\n",
      "Critic loss: -0.14436\n",
      "Generator loss: 1.96204\n",
      "\n"
     ]
    },
    {
     "name": "stderr",
     "output_type": "stream",
     "text": [
      "\r",
      " 83%|████████▎ | 83.0/100 [03:39<00:48,  2.83s/it]"
     ]
    },
    {
     "name": "stdout",
     "output_type": "stream",
     "text": [
      "DIGIT: 3\n",
      "EPOCH 83: 2.43205 sec\n",
      "Critic loss: -0.09109\n",
      "Generator loss: 1.95374\n",
      "\n"
     ]
    },
    {
     "name": "stderr",
     "output_type": "stream",
     "text": [
      "\r",
      " 84%|████████▍ | 84.0/100 [03:41<00:43,  2.74s/it]"
     ]
    },
    {
     "name": "stdout",
     "output_type": "stream",
     "text": [
      "DIGIT: 3\n",
      "EPOCH 84: 2.43308 sec\n",
      "Critic loss: -0.10920\n",
      "Generator loss: 1.97306\n",
      "\n"
     ]
    },
    {
     "name": "stderr",
     "output_type": "stream",
     "text": [
      "\r",
      " 85%|████████▌ | 85.0/100 [03:44<00:40,  2.67s/it]"
     ]
    },
    {
     "name": "stdout",
     "output_type": "stream",
     "text": [
      "DIGIT: 3\n",
      "EPOCH 85: 2.43450 sec\n",
      "Critic loss: -0.14054\n",
      "Generator loss: 2.77588\n",
      "\n"
     ]
    },
    {
     "name": "stderr",
     "output_type": "stream",
     "text": [
      "\r",
      " 86%|████████▌ | 86.0/100 [03:46<00:36,  2.63s/it]"
     ]
    },
    {
     "name": "stdout",
     "output_type": "stream",
     "text": [
      "DIGIT: 3\n",
      "EPOCH 86: 2.43426 sec\n",
      "Critic loss: -0.15741\n",
      "Generator loss: 2.21477\n",
      "\n"
     ]
    },
    {
     "name": "stderr",
     "output_type": "stream",
     "text": [
      "\r",
      " 87%|████████▋ | 87.0/100 [03:49<00:33,  2.59s/it]"
     ]
    },
    {
     "name": "stdout",
     "output_type": "stream",
     "text": [
      "DIGIT: 3\n",
      "EPOCH 87: 2.43356 sec\n",
      "Critic loss: -0.13390\n",
      "Generator loss: 2.48730\n",
      "\n"
     ]
    },
    {
     "name": "stderr",
     "output_type": "stream",
     "text": [
      "\r",
      " 88%|████████▊ | 88.0/100 [03:51<00:30,  2.57s/it]"
     ]
    },
    {
     "name": "stdout",
     "output_type": "stream",
     "text": [
      "DIGIT: 3\n",
      "EPOCH 88: 2.43517 sec\n",
      "Critic loss: -0.08611\n",
      "Generator loss: 2.47200\n",
      "\n"
     ]
    },
    {
     "name": "stderr",
     "output_type": "stream",
     "text": [
      "\r",
      " 89%|████████▉ | 89.0/100 [03:54<00:28,  2.55s/it]"
     ]
    },
    {
     "name": "stdout",
     "output_type": "stream",
     "text": [
      "DIGIT: 3\n",
      "EPOCH 89: 2.43290 sec\n",
      "Critic loss: -0.12548\n",
      "Generator loss: 2.84612\n",
      "\n"
     ]
    },
    {
     "name": "stderr",
     "output_type": "stream",
     "text": [
      "\r",
      " 90%|█████████ | 90.0/100 [03:56<00:25,  2.54s/it]"
     ]
    },
    {
     "name": "stdout",
     "output_type": "stream",
     "text": [
      "DIGIT: 3\n",
      "EPOCH 90: 2.43266 sec\n",
      "Critic loss: -0.12844\n",
      "Generator loss: 3.29368\n",
      "\n"
     ]
    },
    {
     "name": "stderr",
     "output_type": "stream",
     "text": [
      "\r",
      " 91%|█████████ | 91.0/100 [03:59<00:22,  2.53s/it]"
     ]
    },
    {
     "name": "stdout",
     "output_type": "stream",
     "text": [
      "DIGIT: 3\n",
      "EPOCH 91: 2.43463 sec\n",
      "Critic loss: -0.19411\n",
      "Generator loss: 3.33082\n",
      "\n"
     ]
    },
    {
     "name": "stderr",
     "output_type": "stream",
     "text": [
      "\r",
      " 92%|█████████▏| 92.0/100 [04:01<00:20,  2.53s/it]"
     ]
    },
    {
     "name": "stdout",
     "output_type": "stream",
     "text": [
      "DIGIT: 3\n",
      "EPOCH 92: 2.43362 sec\n",
      "Critic loss: -0.12822\n",
      "Generator loss: 3.52925\n",
      "\n"
     ]
    },
    {
     "name": "stderr",
     "output_type": "stream",
     "text": [
      "\r",
      " 93%|█████████▎| 93.0/100 [04:04<00:17,  2.52s/it]"
     ]
    },
    {
     "name": "stdout",
     "output_type": "stream",
     "text": [
      "DIGIT: 3\n",
      "EPOCH 93: 2.43321 sec\n",
      "Critic loss: -0.10852\n",
      "Generator loss: 3.24640\n",
      "\n"
     ]
    },
    {
     "name": "stderr",
     "output_type": "stream",
     "text": [
      "\r",
      " 94%|█████████▍| 94.0/100 [04:06<00:15,  2.52s/it]"
     ]
    },
    {
     "name": "stdout",
     "output_type": "stream",
     "text": [
      "DIGIT: 3\n",
      "EPOCH 94: 2.43368 sec\n",
      "Critic loss: -0.08703\n",
      "Generator loss: 3.24277\n",
      "\n"
     ]
    },
    {
     "name": "stderr",
     "output_type": "stream",
     "text": [
      "\r",
      " 95%|█████████▌| 95.0/100 [04:09<00:12,  2.52s/it]"
     ]
    },
    {
     "name": "stdout",
     "output_type": "stream",
     "text": [
      "DIGIT: 3\n",
      "EPOCH 95: 2.43175 sec\n",
      "Critic loss: -0.12419\n",
      "Generator loss: 3.27375\n",
      "\n"
     ]
    },
    {
     "name": "stderr",
     "output_type": "stream",
     "text": [
      "\r",
      " 96%|█████████▌| 96.0/100 [04:11<00:10,  2.52s/it]"
     ]
    },
    {
     "name": "stdout",
     "output_type": "stream",
     "text": [
      "DIGIT: 3\n",
      "EPOCH 96: 2.43344 sec\n",
      "Critic loss: -0.10334\n",
      "Generator loss: 3.28297\n",
      "\n"
     ]
    },
    {
     "name": "stderr",
     "output_type": "stream",
     "text": [
      "\r",
      " 97%|█████████▋| 97.0/100 [04:14<00:07,  2.52s/it]"
     ]
    },
    {
     "name": "stdout",
     "output_type": "stream",
     "text": [
      "DIGIT: 3\n",
      "EPOCH 97: 2.43371 sec\n",
      "Critic loss: -0.10344\n",
      "Generator loss: 3.23208\n",
      "\n"
     ]
    },
    {
     "name": "stderr",
     "output_type": "stream",
     "text": [
      "\r",
      " 98%|█████████▊| 98.0/100 [04:16<00:05,  2.52s/it]"
     ]
    },
    {
     "name": "stdout",
     "output_type": "stream",
     "text": [
      "DIGIT: 3\n",
      "EPOCH 98: 2.43571 sec\n",
      "Critic loss: -0.10474\n",
      "Generator loss: 3.12976\n",
      "\n"
     ]
    },
    {
     "name": "stderr",
     "output_type": "stream",
     "text": [
      "\r",
      " 99%|█████████▉| 99.0/100 [04:19<00:02,  2.52s/it]"
     ]
    },
    {
     "name": "stdout",
     "output_type": "stream",
     "text": [
      "DIGIT: 3\n",
      "EPOCH 99: 2.43202 sec\n",
      "Critic loss: -0.11999\n",
      "Generator loss: 3.06222\n",
      "\n"
     ]
    },
    {
     "name": "stderr",
     "output_type": "stream",
     "text": [
      "100%|██████████| 100.0/100 [04:21<00:00,  2.62s/it]\n",
      "  0%|          | 0/100 [00:00<?, ?it/s]"
     ]
    },
    {
     "name": "stdout",
     "output_type": "stream",
     "text": [
      "DIGIT: 3\n",
      "EPOCH 100: 2.44569 sec\n",
      "Critic loss: -0.11285\n",
      "Generator loss: 3.44961\n",
      "\n",
      "----------- TRAINING TO GENERATE **4** -----------\n"
     ]
    },
    {
     "name": "stderr",
     "output_type": "stream",
     "text": [
      "\r",
      "  1%|          | 1.0/100 [00:05<08:58,  5.44s/it]"
     ]
    },
    {
     "name": "stdout",
     "output_type": "stream",
     "text": [
      "DIGIT: 4\n",
      "EPOCH 1: 5.44187 sec\n",
      "Critic loss: -3.33929\n",
      "Generator loss: -2.04470\n",
      "\n",
      "INFO:tensorflow:Assets written to: models/05-05-21_10:15:28/4/generator/assets\n",
      "INFO:tensorflow:Assets written to: models/05-05-21_10:15:28/4/critic/assets\n"
     ]
    },
    {
     "name": "stderr",
     "output_type": "stream",
     "text": [
      "\r",
      "  2%|▏         | 2.0/100 [00:09<07:19,  4.49s/it]"
     ]
    },
    {
     "name": "stdout",
     "output_type": "stream",
     "text": [
      "DIGIT: 4\n",
      "EPOCH 2: 2.29743 sec\n",
      "Critic loss: -3.01282\n",
      "Generator loss: -1.92830\n",
      "\n"
     ]
    },
    {
     "name": "stderr",
     "output_type": "stream",
     "text": [
      "\r",
      "  3%|▎         | 3.0/100 [00:11<05:42,  3.53s/it]"
     ]
    },
    {
     "name": "stdout",
     "output_type": "stream",
     "text": [
      "DIGIT: 4\n",
      "EPOCH 3: 2.30016 sec\n",
      "Critic loss: -2.70766\n",
      "Generator loss: -1.15612\n",
      "\n"
     ]
    },
    {
     "name": "stderr",
     "output_type": "stream",
     "text": [
      "\r",
      "  4%|▍         | 4.0/100 [00:14<04:55,  3.07s/it]"
     ]
    },
    {
     "name": "stdout",
     "output_type": "stream",
     "text": [
      "DIGIT: 4\n",
      "EPOCH 4: 2.29460 sec\n",
      "Critic loss: -2.68212\n",
      "Generator loss: -0.31827\n",
      "\n"
     ]
    },
    {
     "name": "stderr",
     "output_type": "stream",
     "text": [
      "\r",
      "  5%|▌         | 5.0/100 [00:16<04:28,  2.82s/it]"
     ]
    },
    {
     "name": "stdout",
     "output_type": "stream",
     "text": [
      "DIGIT: 4\n",
      "EPOCH 5: 2.29790 sec\n",
      "Critic loss: -2.61056\n",
      "Generator loss: 0.33311\n",
      "\n"
     ]
    },
    {
     "name": "stderr",
     "output_type": "stream",
     "text": [
      "\r",
      "  6%|▌         | 6.0/100 [00:18<04:11,  2.67s/it]"
     ]
    },
    {
     "name": "stdout",
     "output_type": "stream",
     "text": [
      "DIGIT: 4\n",
      "EPOCH 6: 2.29722 sec\n",
      "Critic loss: -2.47761\n",
      "Generator loss: -0.00107\n",
      "\n"
     ]
    },
    {
     "name": "stderr",
     "output_type": "stream",
     "text": [
      "\r",
      "  7%|▋         | 7.0/100 [00:21<03:59,  2.58s/it]"
     ]
    },
    {
     "name": "stdout",
     "output_type": "stream",
     "text": [
      "DIGIT: 4\n",
      "EPOCH 7: 2.29651 sec\n",
      "Critic loss: -2.67432\n",
      "Generator loss: -0.55683\n",
      "\n"
     ]
    },
    {
     "name": "stderr",
     "output_type": "stream",
     "text": [
      "\r",
      "  8%|▊         | 8.0/100 [00:23<03:51,  2.52s/it]"
     ]
    },
    {
     "name": "stdout",
     "output_type": "stream",
     "text": [
      "DIGIT: 4\n",
      "EPOCH 8: 2.30120 sec\n",
      "Critic loss: -1.85978\n",
      "Generator loss: -1.94059\n",
      "\n"
     ]
    },
    {
     "name": "stderr",
     "output_type": "stream",
     "text": [
      "\r",
      "  9%|▉         | 9.0/100 [00:25<03:44,  2.47s/it]"
     ]
    },
    {
     "name": "stdout",
     "output_type": "stream",
     "text": [
      "DIGIT: 4\n",
      "EPOCH 9: 2.29507 sec\n",
      "Critic loss: -1.63028\n",
      "Generator loss: -2.96602\n",
      "\n"
     ]
    },
    {
     "name": "stderr",
     "output_type": "stream",
     "text": [
      "\r",
      " 10%|█         | 10.0/100 [00:28<03:39,  2.44s/it]"
     ]
    },
    {
     "name": "stdout",
     "output_type": "stream",
     "text": [
      "DIGIT: 4\n",
      "EPOCH 10: 2.29831 sec\n",
      "Critic loss: -1.69960\n",
      "Generator loss: -3.74438\n",
      "\n"
     ]
    },
    {
     "name": "stderr",
     "output_type": "stream",
     "text": [
      "\r",
      " 11%|█         | 11.0/100 [00:30<03:35,  2.42s/it]"
     ]
    },
    {
     "name": "stdout",
     "output_type": "stream",
     "text": [
      "DIGIT: 4\n",
      "EPOCH 11: 2.29551 sec\n",
      "Critic loss: -1.70740\n",
      "Generator loss: -3.94434\n",
      "\n"
     ]
    },
    {
     "name": "stderr",
     "output_type": "stream",
     "text": [
      "\r",
      " 12%|█▏        | 12.0/100 [00:33<03:32,  2.41s/it]"
     ]
    },
    {
     "name": "stdout",
     "output_type": "stream",
     "text": [
      "DIGIT: 4\n",
      "EPOCH 12: 2.29666 sec\n",
      "Critic loss: -1.80601\n",
      "Generator loss: -3.67892\n",
      "\n"
     ]
    },
    {
     "name": "stderr",
     "output_type": "stream",
     "text": [
      "\r",
      " 13%|█▎        | 13.0/100 [00:35<03:28,  2.40s/it]"
     ]
    },
    {
     "name": "stdout",
     "output_type": "stream",
     "text": [
      "DIGIT: 4\n",
      "EPOCH 13: 2.29720 sec\n",
      "Critic loss: -1.65625\n",
      "Generator loss: -2.71633\n",
      "\n"
     ]
    },
    {
     "name": "stderr",
     "output_type": "stream",
     "text": [
      "\r",
      " 14%|█▍        | 14.0/100 [00:37<03:25,  2.40s/it]"
     ]
    },
    {
     "name": "stdout",
     "output_type": "stream",
     "text": [
      "DIGIT: 4\n",
      "EPOCH 14: 2.29969 sec\n",
      "Critic loss: -1.56649\n",
      "Generator loss: -2.36297\n",
      "\n"
     ]
    },
    {
     "name": "stderr",
     "output_type": "stream",
     "text": [
      "\r",
      " 15%|█▌        | 15.0/100 [00:40<03:23,  2.39s/it]"
     ]
    },
    {
     "name": "stdout",
     "output_type": "stream",
     "text": [
      "DIGIT: 4\n",
      "EPOCH 15: 2.29735 sec\n",
      "Critic loss: -1.64865\n",
      "Generator loss: -1.21315\n",
      "\n"
     ]
    },
    {
     "name": "stderr",
     "output_type": "stream",
     "text": [
      "\r",
      " 16%|█▌        | 16.0/100 [00:42<03:20,  2.39s/it]"
     ]
    },
    {
     "name": "stdout",
     "output_type": "stream",
     "text": [
      "DIGIT: 4\n",
      "EPOCH 16: 2.29983 sec\n",
      "Critic loss: -1.76392\n",
      "Generator loss: -0.67284\n",
      "\n"
     ]
    },
    {
     "name": "stderr",
     "output_type": "stream",
     "text": [
      "\r",
      " 17%|█▋        | 17.0/100 [00:44<03:18,  2.39s/it]"
     ]
    },
    {
     "name": "stdout",
     "output_type": "stream",
     "text": [
      "DIGIT: 4\n",
      "EPOCH 17: 2.30024 sec\n",
      "Critic loss: -1.62721\n",
      "Generator loss: 0.23658\n",
      "\n"
     ]
    },
    {
     "name": "stderr",
     "output_type": "stream",
     "text": [
      "\r",
      " 18%|█▊        | 18.0/100 [00:47<03:15,  2.38s/it]"
     ]
    },
    {
     "name": "stdout",
     "output_type": "stream",
     "text": [
      "DIGIT: 4\n",
      "EPOCH 18: 2.29637 sec\n",
      "Critic loss: -1.46362\n",
      "Generator loss: 0.24509\n",
      "\n"
     ]
    },
    {
     "name": "stderr",
     "output_type": "stream",
     "text": [
      "\r",
      " 19%|█▉        | 19.0/100 [00:49<03:12,  2.38s/it]"
     ]
    },
    {
     "name": "stdout",
     "output_type": "stream",
     "text": [
      "DIGIT: 4\n",
      "EPOCH 19: 2.29821 sec\n",
      "Critic loss: -0.81217\n",
      "Generator loss: -0.11744\n",
      "\n"
     ]
    },
    {
     "name": "stderr",
     "output_type": "stream",
     "text": [
      "\r",
      " 20%|██        | 20.0/100 [00:52<03:10,  2.38s/it]"
     ]
    },
    {
     "name": "stdout",
     "output_type": "stream",
     "text": [
      "DIGIT: 4\n",
      "EPOCH 20: 2.30211 sec\n",
      "Critic loss: -0.79736\n",
      "Generator loss: -0.50282\n",
      "\n"
     ]
    },
    {
     "name": "stderr",
     "output_type": "stream",
     "text": [
      "\r",
      " 21%|██        | 21.0/100 [00:54<03:08,  2.38s/it]"
     ]
    },
    {
     "name": "stdout",
     "output_type": "stream",
     "text": [
      "DIGIT: 4\n",
      "EPOCH 21: 2.30134 sec\n",
      "Critic loss: -0.86495\n",
      "Generator loss: -0.43086\n",
      "\n",
      "INFO:tensorflow:Assets written to: models/05-05-21_10:15:28/4/generator/assets\n",
      "INFO:tensorflow:Assets written to: models/05-05-21_10:15:28/4/critic/assets\n"
     ]
    },
    {
     "name": "stderr",
     "output_type": "stream",
     "text": [
      "\r",
      " 22%|██▏       | 22.0/100 [00:58<03:39,  2.81s/it]"
     ]
    },
    {
     "name": "stdout",
     "output_type": "stream",
     "text": [
      "DIGIT: 4\n",
      "EPOCH 22: 2.30015 sec\n",
      "Critic loss: -0.72107\n",
      "Generator loss: -0.28912\n",
      "\n"
     ]
    },
    {
     "name": "stderr",
     "output_type": "stream",
     "text": [
      "\r",
      " 23%|██▎       | 23.0/100 [01:00<03:26,  2.69s/it]"
     ]
    },
    {
     "name": "stdout",
     "output_type": "stream",
     "text": [
      "DIGIT: 4\n",
      "EPOCH 23: 2.30517 sec\n",
      "Critic loss: -0.69257\n",
      "Generator loss: -0.10409\n",
      "\n"
     ]
    },
    {
     "name": "stderr",
     "output_type": "stream",
     "text": [
      "\r",
      " 24%|██▍       | 24.0/100 [01:03<03:17,  2.60s/it]"
     ]
    },
    {
     "name": "stdout",
     "output_type": "stream",
     "text": [
      "DIGIT: 4\n",
      "EPOCH 24: 2.30353 sec\n",
      "Critic loss: -0.74948\n",
      "Generator loss: -0.18256\n",
      "\n"
     ]
    },
    {
     "name": "stderr",
     "output_type": "stream",
     "text": [
      "\r",
      " 25%|██▌       | 25.0/100 [01:05<03:09,  2.53s/it]"
     ]
    },
    {
     "name": "stdout",
     "output_type": "stream",
     "text": [
      "DIGIT: 4\n",
      "EPOCH 25: 2.30270 sec\n",
      "Critic loss: -0.63107\n",
      "Generator loss: 0.02044\n",
      "\n"
     ]
    },
    {
     "name": "stderr",
     "output_type": "stream",
     "text": [
      "\r",
      " 26%|██▌       | 26.0/100 [01:07<03:04,  2.49s/it]"
     ]
    },
    {
     "name": "stdout",
     "output_type": "stream",
     "text": [
      "DIGIT: 4\n",
      "EPOCH 26: 2.30096 sec\n",
      "Critic loss: -0.63850\n",
      "Generator loss: 0.19685\n",
      "\n"
     ]
    },
    {
     "name": "stderr",
     "output_type": "stream",
     "text": [
      "\r",
      " 27%|██▋       | 27.0/100 [01:10<02:59,  2.46s/it]"
     ]
    },
    {
     "name": "stdout",
     "output_type": "stream",
     "text": [
      "DIGIT: 4\n",
      "EPOCH 27: 2.30056 sec\n",
      "Critic loss: -0.34365\n",
      "Generator loss: 0.16246\n",
      "\n"
     ]
    },
    {
     "name": "stderr",
     "output_type": "stream",
     "text": [
      "\r",
      " 28%|██▊       | 28.0/100 [01:12<02:55,  2.44s/it]"
     ]
    },
    {
     "name": "stdout",
     "output_type": "stream",
     "text": [
      "DIGIT: 4\n",
      "EPOCH 28: 2.30341 sec\n",
      "Critic loss: -0.31621\n",
      "Generator loss: 0.23736\n",
      "\n"
     ]
    },
    {
     "name": "stderr",
     "output_type": "stream",
     "text": [
      "\r",
      " 29%|██▉       | 29.0/100 [01:15<02:51,  2.42s/it]"
     ]
    },
    {
     "name": "stdout",
     "output_type": "stream",
     "text": [
      "DIGIT: 4\n",
      "EPOCH 29: 2.30181 sec\n",
      "Critic loss: -0.28426\n",
      "Generator loss: 0.38802\n",
      "\n"
     ]
    },
    {
     "name": "stderr",
     "output_type": "stream",
     "text": [
      "\r",
      " 30%|███       | 30.0/100 [01:17<02:48,  2.41s/it]"
     ]
    },
    {
     "name": "stdout",
     "output_type": "stream",
     "text": [
      "DIGIT: 4\n",
      "EPOCH 30: 2.30049 sec\n",
      "Critic loss: -0.26035\n",
      "Generator loss: 0.39023\n",
      "\n"
     ]
    },
    {
     "name": "stderr",
     "output_type": "stream",
     "text": [
      "\r",
      " 31%|███       | 31.0/100 [01:19<02:45,  2.40s/it]"
     ]
    },
    {
     "name": "stdout",
     "output_type": "stream",
     "text": [
      "DIGIT: 4\n",
      "EPOCH 31: 2.30140 sec\n",
      "Critic loss: -0.18426\n",
      "Generator loss: 0.56787\n",
      "\n"
     ]
    },
    {
     "name": "stderr",
     "output_type": "stream",
     "text": [
      "\r",
      " 32%|███▏      | 32.0/100 [01:22<02:42,  2.40s/it]"
     ]
    },
    {
     "name": "stdout",
     "output_type": "stream",
     "text": [
      "DIGIT: 4\n",
      "EPOCH 32: 2.30243 sec\n",
      "Critic loss: -0.19002\n",
      "Generator loss: 0.74504\n",
      "\n"
     ]
    },
    {
     "name": "stderr",
     "output_type": "stream",
     "text": [
      "\r",
      " 33%|███▎      | 33.0/100 [01:24<02:40,  2.39s/it]"
     ]
    },
    {
     "name": "stdout",
     "output_type": "stream",
     "text": [
      "DIGIT: 4\n",
      "EPOCH 33: 2.30593 sec\n",
      "Critic loss: -0.16605\n",
      "Generator loss: 0.89026\n",
      "\n"
     ]
    },
    {
     "name": "stderr",
     "output_type": "stream",
     "text": [
      "\r",
      " 34%|███▍      | 34.0/100 [01:26<02:37,  2.39s/it]"
     ]
    },
    {
     "name": "stdout",
     "output_type": "stream",
     "text": [
      "DIGIT: 4\n",
      "EPOCH 34: 2.30474 sec\n",
      "Critic loss: -0.18489\n",
      "Generator loss: 1.07683\n",
      "\n"
     ]
    },
    {
     "name": "stderr",
     "output_type": "stream",
     "text": [
      "\r",
      " 35%|███▌      | 35.0/100 [01:29<02:35,  2.39s/it]"
     ]
    },
    {
     "name": "stdout",
     "output_type": "stream",
     "text": [
      "DIGIT: 4\n",
      "EPOCH 35: 2.30008 sec\n",
      "Critic loss: -0.14743\n",
      "Generator loss: 1.23566\n",
      "\n"
     ]
    },
    {
     "name": "stderr",
     "output_type": "stream",
     "text": [
      "\r",
      " 36%|███▌      | 36.0/100 [01:31<02:32,  2.39s/it]"
     ]
    },
    {
     "name": "stdout",
     "output_type": "stream",
     "text": [
      "DIGIT: 4\n",
      "EPOCH 36: 2.30256 sec\n",
      "Critic loss: -0.12965\n",
      "Generator loss: 1.22020\n",
      "\n"
     ]
    },
    {
     "name": "stderr",
     "output_type": "stream",
     "text": [
      "\r",
      " 37%|███▋      | 37.0/100 [01:34<02:30,  2.39s/it]"
     ]
    },
    {
     "name": "stdout",
     "output_type": "stream",
     "text": [
      "DIGIT: 4\n",
      "EPOCH 37: 2.30038 sec\n",
      "Critic loss: -0.13346\n",
      "Generator loss: 1.48481\n",
      "\n"
     ]
    },
    {
     "name": "stderr",
     "output_type": "stream",
     "text": [
      "\r",
      " 38%|███▊      | 38.0/100 [01:36<02:27,  2.39s/it]"
     ]
    },
    {
     "name": "stdout",
     "output_type": "stream",
     "text": [
      "DIGIT: 4\n",
      "EPOCH 38: 2.30104 sec\n",
      "Critic loss: -0.17130\n",
      "Generator loss: 1.26830\n",
      "\n"
     ]
    },
    {
     "name": "stderr",
     "output_type": "stream",
     "text": [
      "\r",
      " 39%|███▉      | 39.0/100 [01:38<02:25,  2.39s/it]"
     ]
    },
    {
     "name": "stdout",
     "output_type": "stream",
     "text": [
      "DIGIT: 4\n",
      "EPOCH 39: 2.30442 sec\n",
      "Critic loss: -0.18105\n",
      "Generator loss: 1.82040\n",
      "\n"
     ]
    },
    {
     "name": "stderr",
     "output_type": "stream",
     "text": [
      "\r",
      " 40%|████      | 40.0/100 [01:41<02:24,  2.41s/it]"
     ]
    },
    {
     "name": "stdout",
     "output_type": "stream",
     "text": [
      "DIGIT: 4\n",
      "EPOCH 40: 2.39759 sec\n",
      "Critic loss: -0.07875\n",
      "Generator loss: 2.09301\n",
      "\n"
     ]
    },
    {
     "name": "stderr",
     "output_type": "stream",
     "text": [
      "\r",
      " 41%|████      | 41.0/100 [01:43<02:22,  2.42s/it]"
     ]
    },
    {
     "name": "stdout",
     "output_type": "stream",
     "text": [
      "DIGIT: 4\n",
      "EPOCH 41: 2.35121 sec\n",
      "Critic loss: -0.18141\n",
      "Generator loss: 1.76368\n",
      "\n",
      "INFO:tensorflow:Assets written to: models/05-05-21_10:15:28/4/generator/assets\n",
      "INFO:tensorflow:Assets written to: models/05-05-21_10:15:28/4/critic/assets\n"
     ]
    },
    {
     "name": "stderr",
     "output_type": "stream",
     "text": [
      "\r",
      " 42%|████▏     | 42.0/100 [01:47<02:46,  2.86s/it]"
     ]
    },
    {
     "name": "stdout",
     "output_type": "stream",
     "text": [
      "DIGIT: 4\n",
      "EPOCH 42: 2.29960 sec\n",
      "Critic loss: -0.17857\n",
      "Generator loss: 1.88004\n",
      "\n"
     ]
    },
    {
     "name": "stderr",
     "output_type": "stream",
     "text": [
      "\r",
      " 43%|████▎     | 43.0/100 [01:50<02:34,  2.72s/it]"
     ]
    },
    {
     "name": "stdout",
     "output_type": "stream",
     "text": [
      "DIGIT: 4\n",
      "EPOCH 43: 2.29809 sec\n",
      "Critic loss: -0.18172\n",
      "Generator loss: 2.16500\n",
      "\n"
     ]
    },
    {
     "name": "stderr",
     "output_type": "stream",
     "text": [
      "\r",
      " 44%|████▍     | 44.0/100 [01:52<02:27,  2.64s/it]"
     ]
    },
    {
     "name": "stdout",
     "output_type": "stream",
     "text": [
      "DIGIT: 4\n",
      "EPOCH 44: 2.36590 sec\n",
      "Critic loss: -0.21831\n",
      "Generator loss: 2.07835\n",
      "\n"
     ]
    },
    {
     "name": "stderr",
     "output_type": "stream",
     "text": [
      "\r",
      " 45%|████▌     | 45.0/100 [01:54<02:20,  2.56s/it]"
     ]
    },
    {
     "name": "stdout",
     "output_type": "stream",
     "text": [
      "DIGIT: 4\n",
      "EPOCH 45: 2.30052 sec\n",
      "Critic loss: -0.17082\n",
      "Generator loss: 1.90910\n",
      "\n"
     ]
    },
    {
     "name": "stderr",
     "output_type": "stream",
     "text": [
      "\r",
      " 46%|████▌     | 46.0/100 [01:57<02:15,  2.51s/it]"
     ]
    },
    {
     "name": "stdout",
     "output_type": "stream",
     "text": [
      "DIGIT: 4\n",
      "EPOCH 46: 2.30119 sec\n",
      "Critic loss: -0.18893\n",
      "Generator loss: 2.13961\n",
      "\n"
     ]
    },
    {
     "name": "stderr",
     "output_type": "stream",
     "text": [
      "\r",
      " 47%|████▋     | 47.0/100 [01:59<02:11,  2.47s/it]"
     ]
    },
    {
     "name": "stdout",
     "output_type": "stream",
     "text": [
      "DIGIT: 4\n",
      "EPOCH 47: 2.31081 sec\n",
      "Critic loss: -0.20718\n",
      "Generator loss: 1.77384\n",
      "\n"
     ]
    },
    {
     "name": "stderr",
     "output_type": "stream",
     "text": [
      "\r",
      " 48%|████▊     | 48.0/100 [02:02<02:07,  2.45s/it]"
     ]
    },
    {
     "name": "stdout",
     "output_type": "stream",
     "text": [
      "DIGIT: 4\n",
      "EPOCH 48: 2.31621 sec\n",
      "Critic loss: -0.18116\n",
      "Generator loss: 2.25033\n",
      "\n"
     ]
    },
    {
     "name": "stderr",
     "output_type": "stream",
     "text": [
      "\r",
      " 49%|████▉     | 49.0/100 [02:04<02:04,  2.43s/it]"
     ]
    },
    {
     "name": "stdout",
     "output_type": "stream",
     "text": [
      "DIGIT: 4\n",
      "EPOCH 49: 2.30340 sec\n",
      "Critic loss: -0.21057\n",
      "Generator loss: 2.08304\n",
      "\n"
     ]
    },
    {
     "name": "stderr",
     "output_type": "stream",
     "text": [
      "\r",
      " 50%|█████     | 50.0/100 [02:06<02:01,  2.42s/it]"
     ]
    },
    {
     "name": "stdout",
     "output_type": "stream",
     "text": [
      "DIGIT: 4\n",
      "EPOCH 50: 2.32081 sec\n",
      "Critic loss: -0.21249\n",
      "Generator loss: 2.15932\n",
      "\n"
     ]
    },
    {
     "name": "stderr",
     "output_type": "stream",
     "text": [
      "\r",
      " 51%|█████     | 51.0/100 [02:09<01:58,  2.41s/it]"
     ]
    },
    {
     "name": "stdout",
     "output_type": "stream",
     "text": [
      "DIGIT: 4\n",
      "EPOCH 51: 2.31033 sec\n",
      "Critic loss: -0.21273\n",
      "Generator loss: 1.61826\n",
      "\n"
     ]
    },
    {
     "name": "stderr",
     "output_type": "stream",
     "text": [
      "\r",
      " 52%|█████▏    | 52.0/100 [02:11<01:55,  2.40s/it]"
     ]
    },
    {
     "name": "stdout",
     "output_type": "stream",
     "text": [
      "DIGIT: 4\n",
      "EPOCH 52: 2.29932 sec\n",
      "Critic loss: -0.15911\n",
      "Generator loss: 2.35815\n",
      "\n"
     ]
    },
    {
     "name": "stderr",
     "output_type": "stream",
     "text": [
      "\r",
      " 53%|█████▎    | 53.0/100 [02:13<01:52,  2.40s/it]"
     ]
    },
    {
     "name": "stdout",
     "output_type": "stream",
     "text": [
      "DIGIT: 4\n",
      "EPOCH 53: 2.30178 sec\n",
      "Critic loss: -0.18290\n",
      "Generator loss: 2.39087\n",
      "\n"
     ]
    },
    {
     "name": "stderr",
     "output_type": "stream",
     "text": [
      "\r",
      " 54%|█████▍    | 54.0/100 [02:16<01:50,  2.39s/it]"
     ]
    },
    {
     "name": "stdout",
     "output_type": "stream",
     "text": [
      "DIGIT: 4\n",
      "EPOCH 54: 2.30330 sec\n",
      "Critic loss: -0.20856\n",
      "Generator loss: 1.82670\n",
      "\n"
     ]
    },
    {
     "name": "stderr",
     "output_type": "stream",
     "text": [
      "\r",
      " 55%|█████▌    | 55.0/100 [02:18<01:47,  2.39s/it]"
     ]
    },
    {
     "name": "stdout",
     "output_type": "stream",
     "text": [
      "DIGIT: 4\n",
      "EPOCH 55: 2.30106 sec\n",
      "Critic loss: -0.20350\n",
      "Generator loss: 2.21058\n",
      "\n"
     ]
    },
    {
     "name": "stderr",
     "output_type": "stream",
     "text": [
      "\r",
      " 56%|█████▌    | 56.0/100 [02:21<01:45,  2.39s/it]"
     ]
    },
    {
     "name": "stdout",
     "output_type": "stream",
     "text": [
      "DIGIT: 4\n",
      "EPOCH 56: 2.29931 sec\n",
      "Critic loss: -0.14782\n",
      "Generator loss: 2.51903\n",
      "\n"
     ]
    },
    {
     "name": "stderr",
     "output_type": "stream",
     "text": [
      "\r",
      " 57%|█████▋    | 57.0/100 [02:23<01:42,  2.39s/it]"
     ]
    },
    {
     "name": "stdout",
     "output_type": "stream",
     "text": [
      "DIGIT: 4\n",
      "EPOCH 57: 2.29934 sec\n",
      "Critic loss: -0.19181\n",
      "Generator loss: 1.89184\n",
      "\n"
     ]
    },
    {
     "name": "stderr",
     "output_type": "stream",
     "text": [
      "\r",
      " 58%|█████▊    | 58.0/100 [02:25<01:40,  2.39s/it]"
     ]
    },
    {
     "name": "stdout",
     "output_type": "stream",
     "text": [
      "DIGIT: 4\n",
      "EPOCH 58: 2.30221 sec\n",
      "Critic loss: -0.19936\n",
      "Generator loss: 1.46885\n",
      "\n"
     ]
    },
    {
     "name": "stderr",
     "output_type": "stream",
     "text": [
      "\r",
      " 59%|█████▉    | 59.0/100 [02:28<01:37,  2.38s/it]"
     ]
    },
    {
     "name": "stdout",
     "output_type": "stream",
     "text": [
      "DIGIT: 4\n",
      "EPOCH 59: 2.29899 sec\n",
      "Critic loss: -0.11395\n",
      "Generator loss: 2.35843\n",
      "\n"
     ]
    },
    {
     "name": "stderr",
     "output_type": "stream",
     "text": [
      "\r",
      " 60%|██████    | 60.0/100 [02:30<01:35,  2.38s/it]"
     ]
    },
    {
     "name": "stdout",
     "output_type": "stream",
     "text": [
      "DIGIT: 4\n",
      "EPOCH 60: 2.30190 sec\n",
      "Critic loss: -0.18408\n",
      "Generator loss: 1.98969\n",
      "\n"
     ]
    },
    {
     "name": "stderr",
     "output_type": "stream",
     "text": [
      "\r",
      " 61%|██████    | 61.0/100 [02:33<01:32,  2.38s/it]"
     ]
    },
    {
     "name": "stdout",
     "output_type": "stream",
     "text": [
      "DIGIT: 4\n",
      "EPOCH 61: 2.30279 sec\n",
      "Critic loss: -0.18074\n",
      "Generator loss: 2.10279\n",
      "\n",
      "INFO:tensorflow:Assets written to: models/05-05-21_10:15:28/4/generator/assets\n",
      "INFO:tensorflow:Assets written to: models/05-05-21_10:15:28/4/critic/assets\n"
     ]
    },
    {
     "name": "stderr",
     "output_type": "stream",
     "text": [
      "\r",
      " 62%|██████▏   | 62.0/100 [02:36<01:46,  2.81s/it]"
     ]
    },
    {
     "name": "stdout",
     "output_type": "stream",
     "text": [
      "DIGIT: 4\n",
      "EPOCH 62: 2.30159 sec\n",
      "Critic loss: -0.18060\n",
      "Generator loss: 2.51289\n",
      "\n"
     ]
    },
    {
     "name": "stderr",
     "output_type": "stream",
     "text": [
      "\r",
      " 63%|██████▎   | 63.0/100 [02:39<01:39,  2.68s/it]"
     ]
    },
    {
     "name": "stdout",
     "output_type": "stream",
     "text": [
      "DIGIT: 4\n",
      "EPOCH 63: 2.30344 sec\n",
      "Critic loss: -0.15622\n",
      "Generator loss: 2.25674\n",
      "\n"
     ]
    },
    {
     "name": "stderr",
     "output_type": "stream",
     "text": [
      "\r",
      " 64%|██████▍   | 64.0/100 [02:41<01:33,  2.59s/it]"
     ]
    },
    {
     "name": "stdout",
     "output_type": "stream",
     "text": [
      "DIGIT: 4\n",
      "EPOCH 64: 2.30103 sec\n",
      "Critic loss: -0.15755\n",
      "Generator loss: 2.40207\n",
      "\n"
     ]
    },
    {
     "name": "stderr",
     "output_type": "stream",
     "text": [
      "\r",
      " 65%|██████▌   | 65.0/100 [02:43<01:28,  2.53s/it]"
     ]
    },
    {
     "name": "stdout",
     "output_type": "stream",
     "text": [
      "DIGIT: 4\n",
      "EPOCH 65: 2.29852 sec\n",
      "Critic loss: -0.18556\n",
      "Generator loss: 1.83252\n",
      "\n"
     ]
    },
    {
     "name": "stderr",
     "output_type": "stream",
     "text": [
      "\r",
      " 66%|██████▌   | 66.0/100 [02:46<01:24,  2.48s/it]"
     ]
    },
    {
     "name": "stdout",
     "output_type": "stream",
     "text": [
      "DIGIT: 4\n",
      "EPOCH 66: 2.30258 sec\n",
      "Critic loss: -0.17100\n",
      "Generator loss: 2.06784\n",
      "\n"
     ]
    },
    {
     "name": "stderr",
     "output_type": "stream",
     "text": [
      "\r",
      " 67%|██████▋   | 67.0/100 [02:48<01:21,  2.45s/it]"
     ]
    },
    {
     "name": "stdout",
     "output_type": "stream",
     "text": [
      "DIGIT: 4\n",
      "EPOCH 67: 2.30136 sec\n",
      "Critic loss: -0.15185\n",
      "Generator loss: 2.00903\n",
      "\n"
     ]
    },
    {
     "name": "stderr",
     "output_type": "stream",
     "text": [
      "\r",
      " 68%|██████▊   | 68.0/100 [02:51<01:17,  2.44s/it]"
     ]
    },
    {
     "name": "stdout",
     "output_type": "stream",
     "text": [
      "DIGIT: 4\n",
      "EPOCH 68: 2.30050 sec\n",
      "Critic loss: -0.14700\n",
      "Generator loss: 2.02115\n",
      "\n"
     ]
    },
    {
     "name": "stderr",
     "output_type": "stream",
     "text": [
      "\r",
      " 69%|██████▉   | 69.0/100 [02:53<01:15,  2.42s/it]"
     ]
    },
    {
     "name": "stdout",
     "output_type": "stream",
     "text": [
      "DIGIT: 4\n",
      "EPOCH 69: 2.30612 sec\n",
      "Critic loss: -0.15088\n",
      "Generator loss: 2.06743\n",
      "\n"
     ]
    },
    {
     "name": "stderr",
     "output_type": "stream",
     "text": [
      "\r",
      " 70%|███████   | 70.0/100 [02:55<01:12,  2.41s/it]"
     ]
    },
    {
     "name": "stdout",
     "output_type": "stream",
     "text": [
      "DIGIT: 4\n",
      "EPOCH 70: 2.30019 sec\n",
      "Critic loss: -0.13611\n",
      "Generator loss: 2.57132\n",
      "\n"
     ]
    },
    {
     "name": "stderr",
     "output_type": "stream",
     "text": [
      "\r",
      " 71%|███████   | 71.0/100 [02:58<01:09,  2.40s/it]"
     ]
    },
    {
     "name": "stdout",
     "output_type": "stream",
     "text": [
      "DIGIT: 4\n",
      "EPOCH 71: 2.30391 sec\n",
      "Critic loss: -0.18898\n",
      "Generator loss: 2.17211\n",
      "\n"
     ]
    },
    {
     "name": "stderr",
     "output_type": "stream",
     "text": [
      "\r",
      " 72%|███████▏  | 72.0/100 [03:00<01:07,  2.40s/it]"
     ]
    },
    {
     "name": "stdout",
     "output_type": "stream",
     "text": [
      "DIGIT: 4\n",
      "EPOCH 72: 2.30804 sec\n",
      "Critic loss: -0.13855\n",
      "Generator loss: 2.44861\n",
      "\n"
     ]
    },
    {
     "name": "stderr",
     "output_type": "stream",
     "text": [
      "\r",
      " 73%|███████▎  | 73.0/100 [03:03<01:04,  2.39s/it]"
     ]
    },
    {
     "name": "stdout",
     "output_type": "stream",
     "text": [
      "DIGIT: 4\n",
      "EPOCH 73: 2.30286 sec\n",
      "Critic loss: -0.15142\n",
      "Generator loss: 2.66662\n",
      "\n"
     ]
    },
    {
     "name": "stderr",
     "output_type": "stream",
     "text": [
      "\r",
      " 74%|███████▍  | 74.0/100 [03:05<01:02,  2.39s/it]"
     ]
    },
    {
     "name": "stdout",
     "output_type": "stream",
     "text": [
      "DIGIT: 4\n",
      "EPOCH 74: 2.30054 sec\n",
      "Critic loss: -0.12117\n",
      "Generator loss: 2.67257\n",
      "\n"
     ]
    },
    {
     "name": "stderr",
     "output_type": "stream",
     "text": [
      "\r",
      " 75%|███████▌  | 75.0/100 [03:07<00:59,  2.39s/it]"
     ]
    },
    {
     "name": "stdout",
     "output_type": "stream",
     "text": [
      "DIGIT: 4\n",
      "EPOCH 75: 2.30035 sec\n",
      "Critic loss: -0.19463\n",
      "Generator loss: 3.14466\n",
      "\n"
     ]
    },
    {
     "name": "stderr",
     "output_type": "stream",
     "text": [
      "\r",
      " 76%|███████▌  | 76.0/100 [03:10<00:57,  2.39s/it]"
     ]
    },
    {
     "name": "stdout",
     "output_type": "stream",
     "text": [
      "DIGIT: 4\n",
      "EPOCH 76: 2.30138 sec\n",
      "Critic loss: -0.15398\n",
      "Generator loss: 2.14319\n",
      "\n"
     ]
    },
    {
     "name": "stderr",
     "output_type": "stream",
     "text": [
      "\r",
      " 77%|███████▋  | 77.0/100 [03:12<00:54,  2.39s/it]"
     ]
    },
    {
     "name": "stdout",
     "output_type": "stream",
     "text": [
      "DIGIT: 4\n",
      "EPOCH 77: 2.30425 sec\n",
      "Critic loss: -0.16498\n",
      "Generator loss: 2.77324\n",
      "\n"
     ]
    },
    {
     "name": "stderr",
     "output_type": "stream",
     "text": [
      "\r",
      " 78%|███████▊  | 78.0/100 [03:15<00:52,  2.39s/it]"
     ]
    },
    {
     "name": "stdout",
     "output_type": "stream",
     "text": [
      "DIGIT: 4\n",
      "EPOCH 78: 2.30077 sec\n",
      "Critic loss: -0.13632\n",
      "Generator loss: 2.56213\n",
      "\n"
     ]
    },
    {
     "name": "stderr",
     "output_type": "stream",
     "text": [
      "\r",
      " 79%|███████▉  | 79.0/100 [03:17<00:50,  2.38s/it]"
     ]
    },
    {
     "name": "stdout",
     "output_type": "stream",
     "text": [
      "DIGIT: 4\n",
      "EPOCH 79: 2.30166 sec\n",
      "Critic loss: -0.13404\n",
      "Generator loss: 2.51625\n",
      "\n"
     ]
    },
    {
     "name": "stderr",
     "output_type": "stream",
     "text": [
      "\r",
      " 80%|████████  | 80.0/100 [03:19<00:47,  2.38s/it]"
     ]
    },
    {
     "name": "stdout",
     "output_type": "stream",
     "text": [
      "DIGIT: 4\n",
      "EPOCH 80: 2.30069 sec\n",
      "Critic loss: -0.13310\n",
      "Generator loss: 2.86784\n",
      "\n"
     ]
    },
    {
     "name": "stderr",
     "output_type": "stream",
     "text": [
      "\r",
      " 81%|████████  | 81.0/100 [03:22<00:45,  2.38s/it]"
     ]
    },
    {
     "name": "stdout",
     "output_type": "stream",
     "text": [
      "DIGIT: 4\n",
      "EPOCH 81: 2.30053 sec\n",
      "Critic loss: -0.11668\n",
      "Generator loss: 2.95969\n",
      "\n",
      "INFO:tensorflow:Assets written to: models/05-05-21_10:15:28/4/generator/assets\n",
      "INFO:tensorflow:Assets written to: models/05-05-21_10:15:28/4/critic/assets\n"
     ]
    },
    {
     "name": "stderr",
     "output_type": "stream",
     "text": [
      "\r",
      " 82%|████████▏ | 82.0/100 [03:26<00:50,  2.83s/it]"
     ]
    },
    {
     "name": "stdout",
     "output_type": "stream",
     "text": [
      "DIGIT: 4\n",
      "EPOCH 82: 2.30242 sec\n",
      "Critic loss: -0.11220\n",
      "Generator loss: 3.06311\n",
      "\n"
     ]
    },
    {
     "name": "stderr",
     "output_type": "stream",
     "text": [
      "\r",
      " 83%|████████▎ | 83.0/100 [03:28<00:45,  2.70s/it]"
     ]
    },
    {
     "name": "stdout",
     "output_type": "stream",
     "text": [
      "DIGIT: 4\n",
      "EPOCH 83: 2.30061 sec\n",
      "Critic loss: -0.14536\n",
      "Generator loss: 3.35582\n",
      "\n"
     ]
    },
    {
     "name": "stderr",
     "output_type": "stream",
     "text": [
      "\r",
      " 84%|████████▍ | 84.0/100 [03:30<00:41,  2.60s/it]"
     ]
    },
    {
     "name": "stdout",
     "output_type": "stream",
     "text": [
      "DIGIT: 4\n",
      "EPOCH 84: 2.30173 sec\n",
      "Critic loss: -0.13787\n",
      "Generator loss: 3.12309\n",
      "\n"
     ]
    },
    {
     "name": "stderr",
     "output_type": "stream",
     "text": [
      "\r",
      " 85%|████████▌ | 85.0/100 [03:33<00:38,  2.54s/it]"
     ]
    },
    {
     "name": "stdout",
     "output_type": "stream",
     "text": [
      "DIGIT: 4\n",
      "EPOCH 85: 2.30448 sec\n",
      "Critic loss: -0.11976\n",
      "Generator loss: 3.25122\n",
      "\n"
     ]
    },
    {
     "name": "stderr",
     "output_type": "stream",
     "text": [
      "\r",
      " 86%|████████▌ | 86.0/100 [03:35<00:34,  2.49s/it]"
     ]
    },
    {
     "name": "stdout",
     "output_type": "stream",
     "text": [
      "DIGIT: 4\n",
      "EPOCH 86: 2.30291 sec\n",
      "Critic loss: -0.12770\n",
      "Generator loss: 3.56101\n",
      "\n"
     ]
    },
    {
     "name": "stderr",
     "output_type": "stream",
     "text": [
      "\r",
      " 87%|████████▋ | 87.0/100 [03:37<00:31,  2.46s/it]"
     ]
    },
    {
     "name": "stdout",
     "output_type": "stream",
     "text": [
      "DIGIT: 4\n",
      "EPOCH 87: 2.30113 sec\n",
      "Critic loss: -0.12376\n",
      "Generator loss: 3.35729\n",
      "\n"
     ]
    },
    {
     "name": "stderr",
     "output_type": "stream",
     "text": [
      "\r",
      " 88%|████████▊ | 88.0/100 [03:40<00:29,  2.44s/it]"
     ]
    },
    {
     "name": "stdout",
     "output_type": "stream",
     "text": [
      "DIGIT: 4\n",
      "EPOCH 88: 2.30333 sec\n",
      "Critic loss: -0.12689\n",
      "Generator loss: 3.61680\n",
      "\n"
     ]
    },
    {
     "name": "stderr",
     "output_type": "stream",
     "text": [
      "\r",
      " 89%|████████▉ | 89.0/100 [03:42<00:26,  2.42s/it]"
     ]
    },
    {
     "name": "stdout",
     "output_type": "stream",
     "text": [
      "DIGIT: 4\n",
      "EPOCH 89: 2.30489 sec\n",
      "Critic loss: -0.13401\n",
      "Generator loss: 2.90430\n",
      "\n"
     ]
    },
    {
     "name": "stderr",
     "output_type": "stream",
     "text": [
      "\r",
      " 90%|█████████ | 90.0/100 [03:45<00:24,  2.41s/it]"
     ]
    },
    {
     "name": "stdout",
     "output_type": "stream",
     "text": [
      "DIGIT: 4\n",
      "EPOCH 90: 2.30313 sec\n",
      "Critic loss: -0.12520\n",
      "Generator loss: 3.56456\n",
      "\n"
     ]
    },
    {
     "name": "stderr",
     "output_type": "stream",
     "text": [
      "\r",
      " 91%|█████████ | 91.0/100 [03:47<00:21,  2.40s/it]"
     ]
    },
    {
     "name": "stdout",
     "output_type": "stream",
     "text": [
      "DIGIT: 4\n",
      "EPOCH 91: 2.29980 sec\n",
      "Critic loss: -0.13210\n",
      "Generator loss: 3.56661\n",
      "\n"
     ]
    },
    {
     "name": "stderr",
     "output_type": "stream",
     "text": [
      "\r",
      " 92%|█████████▏| 92.0/100 [03:49<00:19,  2.40s/it]"
     ]
    },
    {
     "name": "stdout",
     "output_type": "stream",
     "text": [
      "DIGIT: 4\n",
      "EPOCH 92: 2.30097 sec\n",
      "Critic loss: -0.14723\n",
      "Generator loss: 3.38623\n",
      "\n"
     ]
    },
    {
     "name": "stderr",
     "output_type": "stream",
     "text": [
      "\r",
      " 93%|█████████▎| 93.0/100 [03:52<00:16,  2.39s/it]"
     ]
    },
    {
     "name": "stdout",
     "output_type": "stream",
     "text": [
      "DIGIT: 4\n",
      "EPOCH 93: 2.30189 sec\n",
      "Critic loss: -0.11171\n",
      "Generator loss: 3.93501\n",
      "\n"
     ]
    },
    {
     "name": "stderr",
     "output_type": "stream",
     "text": [
      "\r",
      " 94%|█████████▍| 94.0/100 [03:54<00:14,  2.39s/it]"
     ]
    },
    {
     "name": "stdout",
     "output_type": "stream",
     "text": [
      "DIGIT: 4\n",
      "EPOCH 94: 2.30341 sec\n",
      "Critic loss: -0.14163\n",
      "Generator loss: 3.63033\n",
      "\n"
     ]
    },
    {
     "name": "stderr",
     "output_type": "stream",
     "text": [
      "\r",
      " 95%|█████████▌| 95.0/100 [03:57<00:11,  2.39s/it]"
     ]
    },
    {
     "name": "stdout",
     "output_type": "stream",
     "text": [
      "DIGIT: 4\n",
      "EPOCH 95: 2.30126 sec\n",
      "Critic loss: -0.09121\n",
      "Generator loss: 4.04538\n",
      "\n"
     ]
    },
    {
     "name": "stderr",
     "output_type": "stream",
     "text": [
      "\r",
      " 96%|█████████▌| 96.0/100 [03:59<00:09,  2.39s/it]"
     ]
    },
    {
     "name": "stdout",
     "output_type": "stream",
     "text": [
      "DIGIT: 4\n",
      "EPOCH 96: 2.31168 sec\n",
      "Critic loss: -0.09544\n",
      "Generator loss: 3.82415\n",
      "\n"
     ]
    },
    {
     "name": "stderr",
     "output_type": "stream",
     "text": [
      "\r",
      " 97%|█████████▋| 97.0/100 [04:01<00:07,  2.39s/it]"
     ]
    },
    {
     "name": "stdout",
     "output_type": "stream",
     "text": [
      "DIGIT: 4\n",
      "EPOCH 97: 2.31483 sec\n",
      "Critic loss: -0.13667\n",
      "Generator loss: 4.58692\n",
      "\n"
     ]
    },
    {
     "name": "stderr",
     "output_type": "stream",
     "text": [
      "\r",
      " 98%|█████████▊| 98.0/100 [04:04<00:04,  2.39s/it]"
     ]
    },
    {
     "name": "stdout",
     "output_type": "stream",
     "text": [
      "DIGIT: 4\n",
      "EPOCH 98: 2.30472 sec\n",
      "Critic loss: -0.13849\n",
      "Generator loss: 3.98046\n",
      "\n"
     ]
    },
    {
     "name": "stderr",
     "output_type": "stream",
     "text": [
      "\r",
      " 99%|█████████▉| 99.0/100 [04:06<00:02,  2.39s/it]"
     ]
    },
    {
     "name": "stdout",
     "output_type": "stream",
     "text": [
      "DIGIT: 4\n",
      "EPOCH 99: 2.30151 sec\n",
      "Critic loss: -0.11203\n",
      "Generator loss: 4.05451\n",
      "\n"
     ]
    },
    {
     "name": "stderr",
     "output_type": "stream",
     "text": [
      "100%|██████████| 100.0/100 [04:09<00:00,  2.49s/it]\n",
      "  0%|          | 0/100 [00:00<?, ?it/s]"
     ]
    },
    {
     "name": "stdout",
     "output_type": "stream",
     "text": [
      "DIGIT: 4\n",
      "EPOCH 100: 2.30177 sec\n",
      "Critic loss: -0.08977\n",
      "Generator loss: 4.56888\n",
      "\n",
      "----------- TRAINING TO GENERATE **5** -----------\n"
     ]
    },
    {
     "name": "stderr",
     "output_type": "stream",
     "text": [
      "\r",
      "  1%|          | 1.0/100 [00:05<08:38,  5.24s/it]"
     ]
    },
    {
     "name": "stdout",
     "output_type": "stream",
     "text": [
      "DIGIT: 5\n",
      "EPOCH 1: 5.23958 sec\n",
      "Critic loss: -3.39596\n",
      "Generator loss: -2.09494\n",
      "\n",
      "INFO:tensorflow:Assets written to: models/05-05-21_10:15:28/5/generator/assets\n",
      "INFO:tensorflow:Assets written to: models/05-05-21_10:15:28/5/critic/assets\n"
     ]
    },
    {
     "name": "stderr",
     "output_type": "stream",
     "text": [
      "\r",
      "  2%|▏         | 2.0/100 [00:08<06:52,  4.21s/it]"
     ]
    },
    {
     "name": "stdout",
     "output_type": "stream",
     "text": [
      "DIGIT: 5\n",
      "EPOCH 2: 2.03744 sec\n",
      "Critic loss: -3.15335\n",
      "Generator loss: -1.92758\n",
      "\n"
     ]
    },
    {
     "name": "stderr",
     "output_type": "stream",
     "text": [
      "\r",
      "  3%|▎         | 3.0/100 [00:10<05:15,  3.25s/it]"
     ]
    },
    {
     "name": "stdout",
     "output_type": "stream",
     "text": [
      "DIGIT: 5\n",
      "EPOCH 3: 2.03782 sec\n",
      "Critic loss: -2.67074\n",
      "Generator loss: -2.02705\n",
      "\n"
     ]
    },
    {
     "name": "stderr",
     "output_type": "stream",
     "text": [
      "\r",
      "  4%|▍         | 4.0/100 [00:12<04:29,  2.81s/it]"
     ]
    },
    {
     "name": "stdout",
     "output_type": "stream",
     "text": [
      "DIGIT: 5\n",
      "EPOCH 4: 2.03539 sec\n",
      "Critic loss: -2.34836\n",
      "Generator loss: -1.47939\n",
      "\n"
     ]
    },
    {
     "name": "stderr",
     "output_type": "stream",
     "text": [
      "\r",
      "  5%|▌         | 5.0/100 [00:15<04:03,  2.56s/it]"
     ]
    },
    {
     "name": "stdout",
     "output_type": "stream",
     "text": [
      "DIGIT: 5\n",
      "EPOCH 5: 2.04072 sec\n",
      "Critic loss: -2.17633\n",
      "Generator loss: -0.78601\n",
      "\n"
     ]
    },
    {
     "name": "stderr",
     "output_type": "stream",
     "text": [
      "\r",
      "  6%|▌         | 6.0/100 [00:17<03:46,  2.41s/it]"
     ]
    },
    {
     "name": "stdout",
     "output_type": "stream",
     "text": [
      "DIGIT: 5\n",
      "EPOCH 6: 2.03805 sec\n",
      "Critic loss: -1.88356\n",
      "Generator loss: -1.73189\n",
      "\n"
     ]
    },
    {
     "name": "stderr",
     "output_type": "stream",
     "text": [
      "\r",
      "  7%|▋         | 7.0/100 [00:19<03:35,  2.31s/it]"
     ]
    },
    {
     "name": "stdout",
     "output_type": "stream",
     "text": [
      "DIGIT: 5\n",
      "EPOCH 7: 2.03790 sec\n",
      "Critic loss: -1.67753\n",
      "Generator loss: -2.44514\n",
      "\n"
     ]
    },
    {
     "name": "stderr",
     "output_type": "stream",
     "text": [
      "\r",
      "  8%|▊         | 8.0/100 [00:21<03:27,  2.25s/it]"
     ]
    },
    {
     "name": "stdout",
     "output_type": "stream",
     "text": [
      "DIGIT: 5\n",
      "EPOCH 8: 2.03778 sec\n",
      "Critic loss: -1.35285\n",
      "Generator loss: -3.35267\n",
      "\n"
     ]
    },
    {
     "name": "stderr",
     "output_type": "stream",
     "text": [
      "\r",
      "  9%|▉         | 9.0/100 [00:23<03:21,  2.21s/it]"
     ]
    },
    {
     "name": "stdout",
     "output_type": "stream",
     "text": [
      "DIGIT: 5\n",
      "EPOCH 9: 2.03907 sec\n",
      "Critic loss: -1.69510\n",
      "Generator loss: -3.69850\n",
      "\n"
     ]
    },
    {
     "name": "stderr",
     "output_type": "stream",
     "text": [
      "\r",
      " 10%|█         | 10.0/100 [00:25<03:16,  2.18s/it]"
     ]
    },
    {
     "name": "stdout",
     "output_type": "stream",
     "text": [
      "DIGIT: 5\n",
      "EPOCH 10: 2.03914 sec\n",
      "Critic loss: -2.00918\n",
      "Generator loss: -3.72033\n",
      "\n"
     ]
    },
    {
     "name": "stderr",
     "output_type": "stream",
     "text": [
      "\r",
      " 11%|█         | 11.0/100 [00:27<03:12,  2.16s/it]"
     ]
    },
    {
     "name": "stdout",
     "output_type": "stream",
     "text": [
      "DIGIT: 5\n",
      "EPOCH 11: 2.03641 sec\n",
      "Critic loss: -2.05298\n",
      "Generator loss: -3.67307\n",
      "\n"
     ]
    },
    {
     "name": "stderr",
     "output_type": "stream",
     "text": [
      "\r",
      " 12%|█▏        | 12.0/100 [00:29<03:09,  2.15s/it]"
     ]
    },
    {
     "name": "stdout",
     "output_type": "stream",
     "text": [
      "DIGIT: 5\n",
      "EPOCH 12: 2.03943 sec\n",
      "Critic loss: -2.00233\n",
      "Generator loss: -3.56669\n",
      "\n"
     ]
    },
    {
     "name": "stderr",
     "output_type": "stream",
     "text": [
      "\r",
      " 13%|█▎        | 13.0/100 [00:32<03:06,  2.14s/it]"
     ]
    },
    {
     "name": "stdout",
     "output_type": "stream",
     "text": [
      "DIGIT: 5\n",
      "EPOCH 13: 2.03906 sec\n",
      "Critic loss: -1.87810\n",
      "Generator loss: -3.31378\n",
      "\n"
     ]
    },
    {
     "name": "stderr",
     "output_type": "stream",
     "text": [
      "\r",
      " 14%|█▍        | 14.0/100 [00:34<03:03,  2.14s/it]"
     ]
    },
    {
     "name": "stdout",
     "output_type": "stream",
     "text": [
      "DIGIT: 5\n",
      "EPOCH 14: 2.03939 sec\n",
      "Critic loss: -1.64620\n",
      "Generator loss: -2.57286\n",
      "\n"
     ]
    },
    {
     "name": "stderr",
     "output_type": "stream",
     "text": [
      "\r",
      " 15%|█▌        | 15.0/100 [00:36<03:01,  2.13s/it]"
     ]
    },
    {
     "name": "stdout",
     "output_type": "stream",
     "text": [
      "DIGIT: 5\n",
      "EPOCH 15: 2.03932 sec\n",
      "Critic loss: -1.70868\n",
      "Generator loss: -2.06579\n",
      "\n"
     ]
    },
    {
     "name": "stderr",
     "output_type": "stream",
     "text": [
      "\r",
      " 16%|█▌        | 16.0/100 [00:38<02:58,  2.13s/it]"
     ]
    },
    {
     "name": "stdout",
     "output_type": "stream",
     "text": [
      "DIGIT: 5\n",
      "EPOCH 16: 2.03881 sec\n",
      "Critic loss: -1.66833\n",
      "Generator loss: -1.35118\n",
      "\n"
     ]
    },
    {
     "name": "stderr",
     "output_type": "stream",
     "text": [
      "\r",
      " 17%|█▋        | 17.0/100 [00:40<02:56,  2.13s/it]"
     ]
    },
    {
     "name": "stdout",
     "output_type": "stream",
     "text": [
      "DIGIT: 5\n",
      "EPOCH 17: 2.03986 sec\n",
      "Critic loss: -1.32754\n",
      "Generator loss: -0.82578\n",
      "\n"
     ]
    },
    {
     "name": "stderr",
     "output_type": "stream",
     "text": [
      "\r",
      " 18%|█▊        | 18.0/100 [00:42<02:54,  2.12s/it]"
     ]
    },
    {
     "name": "stdout",
     "output_type": "stream",
     "text": [
      "DIGIT: 5\n",
      "EPOCH 18: 2.03939 sec\n",
      "Critic loss: -1.65309\n",
      "Generator loss: -0.29095\n",
      "\n"
     ]
    },
    {
     "name": "stderr",
     "output_type": "stream",
     "text": [
      "\r",
      " 19%|█▉        | 19.0/100 [00:44<02:51,  2.12s/it]"
     ]
    },
    {
     "name": "stdout",
     "output_type": "stream",
     "text": [
      "DIGIT: 5\n",
      "EPOCH 19: 2.03904 sec\n",
      "Critic loss: -1.04670\n",
      "Generator loss: -1.05863\n",
      "\n"
     ]
    },
    {
     "name": "stderr",
     "output_type": "stream",
     "text": [
      "\r",
      " 20%|██        | 20.0/100 [00:46<02:50,  2.13s/it]"
     ]
    },
    {
     "name": "stdout",
     "output_type": "stream",
     "text": [
      "DIGIT: 5\n",
      "EPOCH 20: 2.04737 sec\n",
      "Critic loss: -1.15276\n",
      "Generator loss: -0.52345\n",
      "\n"
     ]
    },
    {
     "name": "stderr",
     "output_type": "stream",
     "text": [
      "\r",
      " 21%|██        | 21.0/100 [00:49<02:47,  2.12s/it]"
     ]
    },
    {
     "name": "stdout",
     "output_type": "stream",
     "text": [
      "DIGIT: 5\n",
      "EPOCH 21: 2.04306 sec\n",
      "Critic loss: -0.91743\n",
      "Generator loss: -1.04038\n",
      "\n",
      "INFO:tensorflow:Assets written to: models/05-05-21_10:15:28/5/generator/assets\n",
      "INFO:tensorflow:Assets written to: models/05-05-21_10:15:28/5/critic/assets\n"
     ]
    },
    {
     "name": "stderr",
     "output_type": "stream",
     "text": [
      "\r",
      " 22%|██▏       | 22.0/100 [00:52<03:20,  2.57s/it]"
     ]
    },
    {
     "name": "stdout",
     "output_type": "stream",
     "text": [
      "DIGIT: 5\n",
      "EPOCH 22: 2.04019 sec\n",
      "Critic loss: -0.78971\n",
      "Generator loss: -0.57541\n",
      "\n"
     ]
    },
    {
     "name": "stderr",
     "output_type": "stream",
     "text": [
      "\r",
      " 23%|██▎       | 23.0/100 [00:54<03:07,  2.44s/it]"
     ]
    },
    {
     "name": "stdout",
     "output_type": "stream",
     "text": [
      "DIGIT: 5\n",
      "EPOCH 23: 2.04017 sec\n",
      "Critic loss: -1.04041\n",
      "Generator loss: 0.27214\n",
      "\n"
     ]
    },
    {
     "name": "stderr",
     "output_type": "stream",
     "text": [
      "\r",
      " 24%|██▍       | 24.0/100 [00:56<02:58,  2.34s/it]"
     ]
    },
    {
     "name": "stdout",
     "output_type": "stream",
     "text": [
      "DIGIT: 5\n",
      "EPOCH 24: 2.03918 sec\n",
      "Critic loss: -0.79793\n",
      "Generator loss: 0.42355\n",
      "\n"
     ]
    },
    {
     "name": "stderr",
     "output_type": "stream",
     "text": [
      "\r",
      " 25%|██▌       | 25.0/100 [00:59<02:50,  2.28s/it]"
     ]
    },
    {
     "name": "stdout",
     "output_type": "stream",
     "text": [
      "DIGIT: 5\n",
      "EPOCH 25: 2.04146 sec\n",
      "Critic loss: -0.63703\n",
      "Generator loss: -0.54400\n",
      "\n"
     ]
    },
    {
     "name": "stderr",
     "output_type": "stream",
     "text": [
      "\r",
      " 26%|██▌       | 26.0/100 [01:01<02:45,  2.23s/it]"
     ]
    },
    {
     "name": "stdout",
     "output_type": "stream",
     "text": [
      "DIGIT: 5\n",
      "EPOCH 26: 2.04053 sec\n",
      "Critic loss: -0.55432\n",
      "Generator loss: -0.38888\n",
      "\n"
     ]
    },
    {
     "name": "stderr",
     "output_type": "stream",
     "text": [
      "\r",
      " 27%|██▋       | 27.0/100 [01:03<02:40,  2.20s/it]"
     ]
    },
    {
     "name": "stdout",
     "output_type": "stream",
     "text": [
      "DIGIT: 5\n",
      "EPOCH 27: 2.03973 sec\n",
      "Critic loss: -0.55670\n",
      "Generator loss: -0.48500\n",
      "\n"
     ]
    },
    {
     "name": "stderr",
     "output_type": "stream",
     "text": [
      "\r",
      " 28%|██▊       | 28.0/100 [01:05<02:36,  2.18s/it]"
     ]
    },
    {
     "name": "stdout",
     "output_type": "stream",
     "text": [
      "DIGIT: 5\n",
      "EPOCH 28: 2.04105 sec\n",
      "Critic loss: -0.50010\n",
      "Generator loss: -0.37031\n",
      "\n"
     ]
    },
    {
     "name": "stderr",
     "output_type": "stream",
     "text": [
      "\r",
      " 29%|██▉       | 29.0/100 [01:07<02:33,  2.16s/it]"
     ]
    },
    {
     "name": "stdout",
     "output_type": "stream",
     "text": [
      "DIGIT: 5\n",
      "EPOCH 29: 2.04156 sec\n",
      "Critic loss: -0.43600\n",
      "Generator loss: -0.22623\n",
      "\n"
     ]
    },
    {
     "name": "stderr",
     "output_type": "stream",
     "text": [
      "\r",
      " 30%|███       | 30.0/100 [01:09<02:30,  2.15s/it]"
     ]
    },
    {
     "name": "stdout",
     "output_type": "stream",
     "text": [
      "DIGIT: 5\n",
      "EPOCH 30: 2.04209 sec\n",
      "Critic loss: -0.30740\n",
      "Generator loss: -0.14637\n",
      "\n"
     ]
    },
    {
     "name": "stderr",
     "output_type": "stream",
     "text": [
      "\r",
      " 31%|███       | 31.0/100 [01:11<02:27,  2.14s/it]"
     ]
    },
    {
     "name": "stdout",
     "output_type": "stream",
     "text": [
      "DIGIT: 5\n",
      "EPOCH 31: 2.04054 sec\n",
      "Critic loss: -0.21667\n",
      "Generator loss: 0.00052\n",
      "\n"
     ]
    },
    {
     "name": "stderr",
     "output_type": "stream",
     "text": [
      "\r",
      " 32%|███▏      | 32.0/100 [01:13<02:25,  2.14s/it]"
     ]
    },
    {
     "name": "stdout",
     "output_type": "stream",
     "text": [
      "DIGIT: 5\n",
      "EPOCH 32: 2.04017 sec\n",
      "Critic loss: -0.21773\n",
      "Generator loss: 0.43739\n",
      "\n"
     ]
    },
    {
     "name": "stderr",
     "output_type": "stream",
     "text": [
      "\r",
      " 33%|███▎      | 33.0/100 [01:15<02:22,  2.13s/it]"
     ]
    },
    {
     "name": "stdout",
     "output_type": "stream",
     "text": [
      "DIGIT: 5\n",
      "EPOCH 33: 2.04059 sec\n",
      "Critic loss: -0.13361\n",
      "Generator loss: 0.76210\n",
      "\n"
     ]
    },
    {
     "name": "stderr",
     "output_type": "stream",
     "text": [
      "\r",
      " 34%|███▍      | 34.0/100 [01:18<02:20,  2.13s/it]"
     ]
    },
    {
     "name": "stdout",
     "output_type": "stream",
     "text": [
      "DIGIT: 5\n",
      "EPOCH 34: 2.04327 sec\n",
      "Critic loss: -0.13363\n",
      "Generator loss: 1.01834\n",
      "\n"
     ]
    },
    {
     "name": "stderr",
     "output_type": "stream",
     "text": [
      "\r",
      " 35%|███▌      | 35.0/100 [01:20<02:18,  2.13s/it]"
     ]
    },
    {
     "name": "stdout",
     "output_type": "stream",
     "text": [
      "DIGIT: 5\n",
      "EPOCH 35: 2.04092 sec\n",
      "Critic loss: -0.19442\n",
      "Generator loss: 0.90541\n",
      "\n"
     ]
    },
    {
     "name": "stderr",
     "output_type": "stream",
     "text": [
      "\r",
      " 36%|███▌      | 36.0/100 [01:22<02:16,  2.13s/it]"
     ]
    },
    {
     "name": "stdout",
     "output_type": "stream",
     "text": [
      "DIGIT: 5\n",
      "EPOCH 36: 2.04426 sec\n",
      "Critic loss: -0.16307\n",
      "Generator loss: 0.70882\n",
      "\n"
     ]
    },
    {
     "name": "stderr",
     "output_type": "stream",
     "text": [
      "\r",
      " 37%|███▋      | 37.0/100 [01:24<02:13,  2.13s/it]"
     ]
    },
    {
     "name": "stdout",
     "output_type": "stream",
     "text": [
      "DIGIT: 5\n",
      "EPOCH 37: 2.04027 sec\n",
      "Critic loss: -0.36029\n",
      "Generator loss: 0.58738\n",
      "\n"
     ]
    },
    {
     "name": "stderr",
     "output_type": "stream",
     "text": [
      "\r",
      " 38%|███▊      | 38.0/100 [01:26<02:11,  2.12s/it]"
     ]
    },
    {
     "name": "stdout",
     "output_type": "stream",
     "text": [
      "DIGIT: 5\n",
      "EPOCH 38: 2.03766 sec\n",
      "Critic loss: -0.22396\n",
      "Generator loss: 0.66945\n",
      "\n"
     ]
    },
    {
     "name": "stderr",
     "output_type": "stream",
     "text": [
      "\r",
      " 39%|███▉      | 39.0/100 [01:28<02:09,  2.12s/it]"
     ]
    },
    {
     "name": "stdout",
     "output_type": "stream",
     "text": [
      "DIGIT: 5\n",
      "EPOCH 39: 2.04174 sec\n",
      "Critic loss: -0.21519\n",
      "Generator loss: 0.48447\n",
      "\n"
     ]
    },
    {
     "name": "stderr",
     "output_type": "stream",
     "text": [
      "\r",
      " 40%|████      | 40.0/100 [01:30<02:07,  2.12s/it]"
     ]
    },
    {
     "name": "stdout",
     "output_type": "stream",
     "text": [
      "DIGIT: 5\n",
      "EPOCH 40: 2.04128 sec\n",
      "Critic loss: -0.23217\n",
      "Generator loss: 0.24521\n",
      "\n"
     ]
    },
    {
     "name": "stderr",
     "output_type": "stream",
     "text": [
      "\r",
      " 41%|████      | 41.0/100 [01:32<02:05,  2.12s/it]"
     ]
    },
    {
     "name": "stdout",
     "output_type": "stream",
     "text": [
      "DIGIT: 5\n",
      "EPOCH 41: 2.03948 sec\n",
      "Critic loss: -0.26724\n",
      "Generator loss: 0.27158\n",
      "\n",
      "INFO:tensorflow:Assets written to: models/05-05-21_10:15:28/5/generator/assets\n",
      "INFO:tensorflow:Assets written to: models/05-05-21_10:15:28/5/critic/assets\n"
     ]
    },
    {
     "name": "stderr",
     "output_type": "stream",
     "text": [
      "\r",
      " 42%|████▏     | 42.0/100 [01:36<02:28,  2.56s/it]"
     ]
    },
    {
     "name": "stdout",
     "output_type": "stream",
     "text": [
      "DIGIT: 5\n",
      "EPOCH 42: 2.03794 sec\n",
      "Critic loss: -0.27839\n",
      "Generator loss: 0.10741\n",
      "\n"
     ]
    },
    {
     "name": "stderr",
     "output_type": "stream",
     "text": [
      "\r",
      " 43%|████▎     | 43.0/100 [01:38<02:18,  2.43s/it]"
     ]
    },
    {
     "name": "stdout",
     "output_type": "stream",
     "text": [
      "DIGIT: 5\n",
      "EPOCH 43: 2.04666 sec\n",
      "Critic loss: -0.29863\n",
      "Generator loss: 0.46005\n",
      "\n"
     ]
    },
    {
     "name": "stderr",
     "output_type": "stream",
     "text": [
      "\r",
      " 44%|████▍     | 44.0/100 [01:40<02:10,  2.34s/it]"
     ]
    },
    {
     "name": "stdout",
     "output_type": "stream",
     "text": [
      "DIGIT: 5\n",
      "EPOCH 44: 2.04157 sec\n",
      "Critic loss: -0.24395\n",
      "Generator loss: 0.24672\n",
      "\n"
     ]
    },
    {
     "name": "stderr",
     "output_type": "stream",
     "text": [
      "\r",
      " 45%|████▌     | 45.0/100 [01:42<02:04,  2.27s/it]"
     ]
    },
    {
     "name": "stdout",
     "output_type": "stream",
     "text": [
      "DIGIT: 5\n",
      "EPOCH 45: 2.03833 sec\n",
      "Critic loss: -0.26689\n",
      "Generator loss: 0.64693\n",
      "\n"
     ]
    },
    {
     "name": "stderr",
     "output_type": "stream",
     "text": [
      "\r",
      " 46%|████▌     | 46.0/100 [01:45<02:00,  2.23s/it]"
     ]
    },
    {
     "name": "stdout",
     "output_type": "stream",
     "text": [
      "DIGIT: 5\n",
      "EPOCH 46: 2.04323 sec\n",
      "Critic loss: -0.25805\n",
      "Generator loss: 0.15161\n",
      "\n"
     ]
    },
    {
     "name": "stderr",
     "output_type": "stream",
     "text": [
      "\r",
      " 47%|████▋     | 47.0/100 [01:47<01:56,  2.20s/it]"
     ]
    },
    {
     "name": "stdout",
     "output_type": "stream",
     "text": [
      "DIGIT: 5\n",
      "EPOCH 47: 2.04191 sec\n",
      "Critic loss: -0.24797\n",
      "Generator loss: 0.41751\n",
      "\n"
     ]
    },
    {
     "name": "stderr",
     "output_type": "stream",
     "text": [
      "\r",
      " 48%|████▊     | 48.0/100 [01:49<01:53,  2.18s/it]"
     ]
    },
    {
     "name": "stdout",
     "output_type": "stream",
     "text": [
      "DIGIT: 5\n",
      "EPOCH 48: 2.05463 sec\n",
      "Critic loss: -0.19712\n",
      "Generator loss: 0.35788\n",
      "\n"
     ]
    },
    {
     "name": "stderr",
     "output_type": "stream",
     "text": [
      "\r",
      " 49%|████▉     | 49.0/100 [01:51<01:50,  2.17s/it]"
     ]
    },
    {
     "name": "stdout",
     "output_type": "stream",
     "text": [
      "DIGIT: 5\n",
      "EPOCH 49: 2.06480 sec\n",
      "Critic loss: -0.27337\n",
      "Generator loss: 0.38206\n",
      "\n"
     ]
    },
    {
     "name": "stderr",
     "output_type": "stream",
     "text": [
      "\r",
      " 50%|█████     | 50.0/100 [01:53<01:47,  2.15s/it]"
     ]
    },
    {
     "name": "stdout",
     "output_type": "stream",
     "text": [
      "DIGIT: 5\n",
      "EPOCH 50: 2.04124 sec\n",
      "Critic loss: -0.25099\n",
      "Generator loss: 0.24345\n",
      "\n"
     ]
    },
    {
     "name": "stderr",
     "output_type": "stream",
     "text": [
      "\r",
      " 51%|█████     | 51.0/100 [01:55<01:45,  2.14s/it]"
     ]
    },
    {
     "name": "stdout",
     "output_type": "stream",
     "text": [
      "DIGIT: 5\n",
      "EPOCH 51: 2.04074 sec\n",
      "Critic loss: -0.30994\n",
      "Generator loss: 0.18255\n",
      "\n"
     ]
    },
    {
     "name": "stderr",
     "output_type": "stream",
     "text": [
      "\r",
      " 52%|█████▏    | 52.0/100 [01:57<01:42,  2.14s/it]"
     ]
    },
    {
     "name": "stdout",
     "output_type": "stream",
     "text": [
      "DIGIT: 5\n",
      "EPOCH 52: 2.04059 sec\n",
      "Critic loss: -0.29696\n",
      "Generator loss: 0.15977\n",
      "\n"
     ]
    },
    {
     "name": "stderr",
     "output_type": "stream",
     "text": [
      "\r",
      " 53%|█████▎    | 53.0/100 [01:59<01:40,  2.13s/it]"
     ]
    },
    {
     "name": "stdout",
     "output_type": "stream",
     "text": [
      "DIGIT: 5\n",
      "EPOCH 53: 2.04122 sec\n",
      "Critic loss: -0.26186\n",
      "Generator loss: 0.58223\n",
      "\n"
     ]
    },
    {
     "name": "stderr",
     "output_type": "stream",
     "text": [
      "\r",
      " 54%|█████▍    | 54.0/100 [02:02<01:38,  2.13s/it]"
     ]
    },
    {
     "name": "stdout",
     "output_type": "stream",
     "text": [
      "DIGIT: 5\n",
      "EPOCH 54: 2.04278 sec\n",
      "Critic loss: -0.28894\n",
      "Generator loss: 0.04309\n",
      "\n"
     ]
    },
    {
     "name": "stderr",
     "output_type": "stream",
     "text": [
      "\r",
      " 55%|█████▌    | 55.0/100 [02:04<01:35,  2.13s/it]"
     ]
    },
    {
     "name": "stdout",
     "output_type": "stream",
     "text": [
      "DIGIT: 5\n",
      "EPOCH 55: 2.04079 sec\n",
      "Critic loss: -0.26182\n",
      "Generator loss: -0.11279\n",
      "\n"
     ]
    },
    {
     "name": "stderr",
     "output_type": "stream",
     "text": [
      "\r",
      " 56%|█████▌    | 56.0/100 [02:06<01:33,  2.13s/it]"
     ]
    },
    {
     "name": "stdout",
     "output_type": "stream",
     "text": [
      "DIGIT: 5\n",
      "EPOCH 56: 2.03919 sec\n",
      "Critic loss: -0.24863\n",
      "Generator loss: 0.09416\n",
      "\n"
     ]
    },
    {
     "name": "stderr",
     "output_type": "stream",
     "text": [
      "\r",
      " 57%|█████▋    | 57.0/100 [02:08<01:31,  2.13s/it]"
     ]
    },
    {
     "name": "stdout",
     "output_type": "stream",
     "text": [
      "DIGIT: 5\n",
      "EPOCH 57: 2.04956 sec\n",
      "Critic loss: -0.22021\n",
      "Generator loss: -0.03444\n",
      "\n"
     ]
    },
    {
     "name": "stderr",
     "output_type": "stream",
     "text": [
      "\r",
      " 58%|█████▊    | 58.0/100 [02:10<01:29,  2.13s/it]"
     ]
    },
    {
     "name": "stdout",
     "output_type": "stream",
     "text": [
      "DIGIT: 5\n",
      "EPOCH 58: 2.03904 sec\n",
      "Critic loss: -0.30426\n",
      "Generator loss: 0.50435\n",
      "\n"
     ]
    },
    {
     "name": "stderr",
     "output_type": "stream",
     "text": [
      "\r",
      " 59%|█████▉    | 59.0/100 [02:12<01:27,  2.12s/it]"
     ]
    },
    {
     "name": "stdout",
     "output_type": "stream",
     "text": [
      "DIGIT: 5\n",
      "EPOCH 59: 2.04155 sec\n",
      "Critic loss: -0.31558\n",
      "Generator loss: -0.25383\n",
      "\n"
     ]
    },
    {
     "name": "stderr",
     "output_type": "stream",
     "text": [
      "\r",
      " 60%|██████    | 60.0/100 [02:14<01:24,  2.12s/it]"
     ]
    },
    {
     "name": "stdout",
     "output_type": "stream",
     "text": [
      "DIGIT: 5\n",
      "EPOCH 60: 2.03974 sec\n",
      "Critic loss: -0.27191\n",
      "Generator loss: 0.05822\n",
      "\n"
     ]
    },
    {
     "name": "stderr",
     "output_type": "stream",
     "text": [
      "\r",
      " 61%|██████    | 61.0/100 [02:16<01:22,  2.12s/it]"
     ]
    },
    {
     "name": "stdout",
     "output_type": "stream",
     "text": [
      "DIGIT: 5\n",
      "EPOCH 61: 2.04375 sec\n",
      "Critic loss: -0.25208\n",
      "Generator loss: -0.31752\n",
      "\n",
      "INFO:tensorflow:Assets written to: models/05-05-21_10:15:28/5/generator/assets\n",
      "INFO:tensorflow:Assets written to: models/05-05-21_10:15:28/5/critic/assets\n"
     ]
    },
    {
     "name": "stderr",
     "output_type": "stream",
     "text": [
      "\r",
      " 62%|██████▏   | 62.0/100 [02:20<01:37,  2.58s/it]"
     ]
    },
    {
     "name": "stdout",
     "output_type": "stream",
     "text": [
      "DIGIT: 5\n",
      "EPOCH 62: 2.03961 sec\n",
      "Critic loss: -0.26831\n",
      "Generator loss: -0.16541\n",
      "\n"
     ]
    },
    {
     "name": "stderr",
     "output_type": "stream",
     "text": [
      "\r",
      " 63%|██████▎   | 63.0/100 [02:22<01:30,  2.44s/it]"
     ]
    },
    {
     "name": "stdout",
     "output_type": "stream",
     "text": [
      "DIGIT: 5\n",
      "EPOCH 63: 2.04139 sec\n",
      "Critic loss: -0.26936\n",
      "Generator loss: -0.11021\n",
      "\n"
     ]
    },
    {
     "name": "stderr",
     "output_type": "stream",
     "text": [
      "\r",
      " 64%|██████▍   | 64.0/100 [02:24<01:24,  2.35s/it]"
     ]
    },
    {
     "name": "stdout",
     "output_type": "stream",
     "text": [
      "DIGIT: 5\n",
      "EPOCH 64: 2.04171 sec\n",
      "Critic loss: -0.24314\n",
      "Generator loss: -0.48918\n",
      "\n"
     ]
    },
    {
     "name": "stderr",
     "output_type": "stream",
     "text": [
      "\r",
      " 65%|██████▌   | 65.0/100 [02:26<01:19,  2.28s/it]"
     ]
    },
    {
     "name": "stdout",
     "output_type": "stream",
     "text": [
      "DIGIT: 5\n",
      "EPOCH 65: 2.04068 sec\n",
      "Critic loss: -0.24495\n",
      "Generator loss: -0.15751\n",
      "\n"
     ]
    },
    {
     "name": "stderr",
     "output_type": "stream",
     "text": [
      "\r",
      " 66%|██████▌   | 66.0/100 [02:29<01:15,  2.23s/it]"
     ]
    },
    {
     "name": "stdout",
     "output_type": "stream",
     "text": [
      "DIGIT: 5\n",
      "EPOCH 66: 2.04242 sec\n",
      "Critic loss: -0.21611\n",
      "Generator loss: -0.34729\n",
      "\n"
     ]
    },
    {
     "name": "stderr",
     "output_type": "stream",
     "text": [
      "\r",
      " 67%|██████▋   | 67.0/100 [02:31<01:12,  2.20s/it]"
     ]
    },
    {
     "name": "stdout",
     "output_type": "stream",
     "text": [
      "DIGIT: 5\n",
      "EPOCH 67: 2.04097 sec\n",
      "Critic loss: -0.20578\n",
      "Generator loss: -0.27030\n",
      "\n"
     ]
    },
    {
     "name": "stderr",
     "output_type": "stream",
     "text": [
      "\r",
      " 68%|██████▊   | 68.0/100 [02:33<01:09,  2.18s/it]"
     ]
    },
    {
     "name": "stdout",
     "output_type": "stream",
     "text": [
      "DIGIT: 5\n",
      "EPOCH 68: 2.04627 sec\n",
      "Critic loss: -0.21758\n",
      "Generator loss: -0.15109\n",
      "\n"
     ]
    },
    {
     "name": "stderr",
     "output_type": "stream",
     "text": [
      "\r",
      " 69%|██████▉   | 69.0/100 [02:35<01:07,  2.16s/it]"
     ]
    },
    {
     "name": "stdout",
     "output_type": "stream",
     "text": [
      "DIGIT: 5\n",
      "EPOCH 69: 2.04270 sec\n",
      "Critic loss: -0.24165\n",
      "Generator loss: -0.46253\n",
      "\n"
     ]
    },
    {
     "name": "stderr",
     "output_type": "stream",
     "text": [
      "\r",
      " 70%|███████   | 70.0/100 [02:37<01:04,  2.15s/it]"
     ]
    },
    {
     "name": "stdout",
     "output_type": "stream",
     "text": [
      "DIGIT: 5\n",
      "EPOCH 70: 2.04092 sec\n",
      "Critic loss: -0.23607\n",
      "Generator loss: -1.38524\n",
      "\n"
     ]
    },
    {
     "name": "stderr",
     "output_type": "stream",
     "text": [
      "\r",
      " 71%|███████   | 71.0/100 [02:39<01:02,  2.14s/it]"
     ]
    },
    {
     "name": "stdout",
     "output_type": "stream",
     "text": [
      "DIGIT: 5\n",
      "EPOCH 71: 2.04211 sec\n",
      "Critic loss: -0.18211\n",
      "Generator loss: -0.44198\n",
      "\n"
     ]
    },
    {
     "name": "stderr",
     "output_type": "stream",
     "text": [
      "\r",
      " 72%|███████▏  | 72.0/100 [02:41<00:59,  2.14s/it]"
     ]
    },
    {
     "name": "stdout",
     "output_type": "stream",
     "text": [
      "DIGIT: 5\n",
      "EPOCH 72: 2.04305 sec\n",
      "Critic loss: -0.22030\n",
      "Generator loss: -0.54479\n",
      "\n"
     ]
    },
    {
     "name": "stderr",
     "output_type": "stream",
     "text": [
      "\r",
      " 73%|███████▎  | 73.0/100 [02:43<00:57,  2.13s/it]"
     ]
    },
    {
     "name": "stdout",
     "output_type": "stream",
     "text": [
      "DIGIT: 5\n",
      "EPOCH 73: 2.04350 sec\n",
      "Critic loss: -0.21897\n",
      "Generator loss: -0.31793\n",
      "\n"
     ]
    },
    {
     "name": "stderr",
     "output_type": "stream",
     "text": [
      "\r",
      " 74%|███████▍  | 74.0/100 [02:46<00:55,  2.13s/it]"
     ]
    },
    {
     "name": "stdout",
     "output_type": "stream",
     "text": [
      "DIGIT: 5\n",
      "EPOCH 74: 2.04149 sec\n",
      "Critic loss: -0.20640\n",
      "Generator loss: -1.12376\n",
      "\n"
     ]
    },
    {
     "name": "stderr",
     "output_type": "stream",
     "text": [
      "\r",
      " 75%|███████▌  | 75.0/100 [02:48<00:53,  2.13s/it]"
     ]
    },
    {
     "name": "stdout",
     "output_type": "stream",
     "text": [
      "DIGIT: 5\n",
      "EPOCH 75: 2.04135 sec\n",
      "Critic loss: -0.21354\n",
      "Generator loss: -0.97690\n",
      "\n"
     ]
    },
    {
     "name": "stderr",
     "output_type": "stream",
     "text": [
      "\r",
      " 76%|███████▌  | 76.0/100 [02:50<00:51,  2.13s/it]"
     ]
    },
    {
     "name": "stdout",
     "output_type": "stream",
     "text": [
      "DIGIT: 5\n",
      "EPOCH 76: 2.04396 sec\n",
      "Critic loss: -0.18220\n",
      "Generator loss: -0.68639\n",
      "\n"
     ]
    },
    {
     "name": "stderr",
     "output_type": "stream",
     "text": [
      "\r",
      " 77%|███████▋  | 77.0/100 [02:52<00:48,  2.13s/it]"
     ]
    },
    {
     "name": "stdout",
     "output_type": "stream",
     "text": [
      "DIGIT: 5\n",
      "EPOCH 77: 2.04035 sec\n",
      "Critic loss: -0.22502\n",
      "Generator loss: -0.62444\n",
      "\n"
     ]
    },
    {
     "name": "stderr",
     "output_type": "stream",
     "text": [
      "\r",
      " 78%|███████▊  | 78.0/100 [02:54<00:46,  2.12s/it]"
     ]
    },
    {
     "name": "stdout",
     "output_type": "stream",
     "text": [
      "DIGIT: 5\n",
      "EPOCH 78: 2.04073 sec\n",
      "Critic loss: -0.24197\n",
      "Generator loss: -0.20154\n",
      "\n"
     ]
    },
    {
     "name": "stderr",
     "output_type": "stream",
     "text": [
      "\r",
      " 79%|███████▉  | 79.0/100 [02:56<00:44,  2.12s/it]"
     ]
    },
    {
     "name": "stdout",
     "output_type": "stream",
     "text": [
      "DIGIT: 5\n",
      "EPOCH 79: 2.03943 sec\n",
      "Critic loss: -0.18837\n",
      "Generator loss: -0.80857\n",
      "\n"
     ]
    },
    {
     "name": "stderr",
     "output_type": "stream",
     "text": [
      "\r",
      " 80%|████████  | 80.0/100 [02:58<00:42,  2.12s/it]"
     ]
    },
    {
     "name": "stdout",
     "output_type": "stream",
     "text": [
      "DIGIT: 5\n",
      "EPOCH 80: 2.03986 sec\n",
      "Critic loss: -0.20520\n",
      "Generator loss: -0.41195\n",
      "\n"
     ]
    },
    {
     "name": "stderr",
     "output_type": "stream",
     "text": [
      "\r",
      " 81%|████████  | 81.0/100 [03:00<00:40,  2.12s/it]"
     ]
    },
    {
     "name": "stdout",
     "output_type": "stream",
     "text": [
      "DIGIT: 5\n",
      "EPOCH 81: 2.04076 sec\n",
      "Critic loss: -0.16994\n",
      "Generator loss: -1.23382\n",
      "\n",
      "INFO:tensorflow:Assets written to: models/05-05-21_10:15:28/5/generator/assets\n",
      "INFO:tensorflow:Assets written to: models/05-05-21_10:15:28/5/critic/assets\n"
     ]
    },
    {
     "name": "stderr",
     "output_type": "stream",
     "text": [
      "\r",
      " 82%|████████▏ | 82.0/100 [03:04<00:45,  2.55s/it]"
     ]
    },
    {
     "name": "stdout",
     "output_type": "stream",
     "text": [
      "DIGIT: 5\n",
      "EPOCH 82: 2.03889 sec\n",
      "Critic loss: -0.16188\n",
      "Generator loss: -1.21158\n",
      "\n"
     ]
    },
    {
     "name": "stderr",
     "output_type": "stream",
     "text": [
      "\r",
      " 83%|████████▎ | 83.0/100 [03:06<00:41,  2.42s/it]"
     ]
    },
    {
     "name": "stdout",
     "output_type": "stream",
     "text": [
      "DIGIT: 5\n",
      "EPOCH 83: 2.04033 sec\n",
      "Critic loss: -0.17708\n",
      "Generator loss: -1.00541\n",
      "\n"
     ]
    },
    {
     "name": "stderr",
     "output_type": "stream",
     "text": [
      "\r",
      " 84%|████████▍ | 84.0/100 [03:08<00:37,  2.33s/it]"
     ]
    },
    {
     "name": "stdout",
     "output_type": "stream",
     "text": [
      "DIGIT: 5\n",
      "EPOCH 84: 2.04259 sec\n",
      "Critic loss: -0.13503\n",
      "Generator loss: -1.62495\n",
      "\n"
     ]
    },
    {
     "name": "stderr",
     "output_type": "stream",
     "text": [
      "\r",
      " 85%|████████▌ | 85.0/100 [03:10<00:34,  2.27s/it]"
     ]
    },
    {
     "name": "stdout",
     "output_type": "stream",
     "text": [
      "DIGIT: 5\n",
      "EPOCH 85: 2.04123 sec\n",
      "Critic loss: -0.14031\n",
      "Generator loss: -1.38016\n",
      "\n"
     ]
    },
    {
     "name": "stderr",
     "output_type": "stream",
     "text": [
      "\r",
      " 86%|████████▌ | 86.0/100 [03:12<00:31,  2.22s/it]"
     ]
    },
    {
     "name": "stdout",
     "output_type": "stream",
     "text": [
      "DIGIT: 5\n",
      "EPOCH 86: 2.04269 sec\n",
      "Critic loss: -0.15570\n",
      "Generator loss: -0.82058\n",
      "\n"
     ]
    },
    {
     "name": "stderr",
     "output_type": "stream",
     "text": [
      "\r",
      " 87%|████████▋ | 87.0/100 [03:15<00:28,  2.20s/it]"
     ]
    },
    {
     "name": "stdout",
     "output_type": "stream",
     "text": [
      "DIGIT: 5\n",
      "EPOCH 87: 2.04293 sec\n",
      "Critic loss: -0.16440\n",
      "Generator loss: -1.41096\n",
      "\n"
     ]
    },
    {
     "name": "stderr",
     "output_type": "stream",
     "text": [
      "\r",
      " 88%|████████▊ | 88.0/100 [03:17<00:26,  2.17s/it]"
     ]
    },
    {
     "name": "stdout",
     "output_type": "stream",
     "text": [
      "DIGIT: 5\n",
      "EPOCH 88: 2.04059 sec\n",
      "Critic loss: -0.16435\n",
      "Generator loss: -1.37589\n",
      "\n"
     ]
    },
    {
     "name": "stderr",
     "output_type": "stream",
     "text": [
      "\r",
      " 89%|████████▉ | 89.0/100 [03:19<00:23,  2.16s/it]"
     ]
    },
    {
     "name": "stdout",
     "output_type": "stream",
     "text": [
      "DIGIT: 5\n",
      "EPOCH 89: 2.04306 sec\n",
      "Critic loss: -0.23074\n",
      "Generator loss: -0.94854\n",
      "\n"
     ]
    },
    {
     "name": "stderr",
     "output_type": "stream",
     "text": [
      "\r",
      " 90%|█████████ | 90.0/100 [03:21<00:21,  2.15s/it]"
     ]
    },
    {
     "name": "stdout",
     "output_type": "stream",
     "text": [
      "DIGIT: 5\n",
      "EPOCH 90: 2.04058 sec\n",
      "Critic loss: -0.14853\n",
      "Generator loss: -0.86122\n",
      "\n"
     ]
    },
    {
     "name": "stderr",
     "output_type": "stream",
     "text": [
      "\r",
      " 91%|█████████ | 91.0/100 [03:23<00:19,  2.14s/it]"
     ]
    },
    {
     "name": "stdout",
     "output_type": "stream",
     "text": [
      "DIGIT: 5\n",
      "EPOCH 91: 2.04036 sec\n",
      "Critic loss: -0.15797\n",
      "Generator loss: -0.87869\n",
      "\n"
     ]
    },
    {
     "name": "stderr",
     "output_type": "stream",
     "text": [
      "\r",
      " 92%|█████████▏| 92.0/100 [03:25<00:17,  2.13s/it]"
     ]
    },
    {
     "name": "stdout",
     "output_type": "stream",
     "text": [
      "DIGIT: 5\n",
      "EPOCH 92: 2.04050 sec\n",
      "Critic loss: -0.15483\n",
      "Generator loss: -1.25181\n",
      "\n"
     ]
    },
    {
     "name": "stderr",
     "output_type": "stream",
     "text": [
      "\r",
      " 93%|█████████▎| 93.0/100 [03:27<00:14,  2.13s/it]"
     ]
    },
    {
     "name": "stdout",
     "output_type": "stream",
     "text": [
      "DIGIT: 5\n",
      "EPOCH 93: 2.04046 sec\n",
      "Critic loss: -0.15600\n",
      "Generator loss: -1.02623\n",
      "\n"
     ]
    },
    {
     "name": "stderr",
     "output_type": "stream",
     "text": [
      "\r",
      " 94%|█████████▍| 94.0/100 [03:29<00:12,  2.13s/it]"
     ]
    },
    {
     "name": "stdout",
     "output_type": "stream",
     "text": [
      "DIGIT: 5\n",
      "EPOCH 94: 2.04138 sec\n",
      "Critic loss: -0.12673\n",
      "Generator loss: -1.10767\n",
      "\n"
     ]
    },
    {
     "name": "stderr",
     "output_type": "stream",
     "text": [
      "\r",
      " 95%|█████████▌| 95.0/100 [03:32<00:10,  2.13s/it]"
     ]
    },
    {
     "name": "stdout",
     "output_type": "stream",
     "text": [
      "DIGIT: 5\n",
      "EPOCH 95: 2.04136 sec\n",
      "Critic loss: -0.15054\n",
      "Generator loss: -0.63876\n",
      "\n"
     ]
    },
    {
     "name": "stderr",
     "output_type": "stream",
     "text": [
      "\r",
      " 96%|█████████▌| 96.0/100 [03:34<00:08,  2.13s/it]"
     ]
    },
    {
     "name": "stdout",
     "output_type": "stream",
     "text": [
      "DIGIT: 5\n",
      "EPOCH 96: 2.04845 sec\n",
      "Critic loss: -0.17647\n",
      "Generator loss: -1.67712\n",
      "\n"
     ]
    },
    {
     "name": "stderr",
     "output_type": "stream",
     "text": [
      "\r",
      " 97%|█████████▋| 97.0/100 [03:36<00:06,  2.13s/it]"
     ]
    },
    {
     "name": "stdout",
     "output_type": "stream",
     "text": [
      "DIGIT: 5\n",
      "EPOCH 97: 2.04113 sec\n",
      "Critic loss: -0.20823\n",
      "Generator loss: -1.50303\n",
      "\n"
     ]
    },
    {
     "name": "stderr",
     "output_type": "stream",
     "text": [
      "\r",
      " 98%|█████████▊| 98.0/100 [03:38<00:04,  2.13s/it]"
     ]
    },
    {
     "name": "stdout",
     "output_type": "stream",
     "text": [
      "DIGIT: 5\n",
      "EPOCH 98: 2.04283 sec\n",
      "Critic loss: -0.15079\n",
      "Generator loss: -0.93962\n",
      "\n"
     ]
    },
    {
     "name": "stderr",
     "output_type": "stream",
     "text": [
      "\r",
      " 99%|█████████▉| 99.0/100 [03:40<00:02,  2.12s/it]"
     ]
    },
    {
     "name": "stdout",
     "output_type": "stream",
     "text": [
      "DIGIT: 5\n",
      "EPOCH 99: 2.04078 sec\n",
      "Critic loss: -0.18082\n",
      "Generator loss: -1.21944\n",
      "\n"
     ]
    },
    {
     "name": "stderr",
     "output_type": "stream",
     "text": [
      "100%|██████████| 100.0/100 [03:42<00:00,  2.23s/it]\n",
      "  0%|          | 0/100 [00:00<?, ?it/s]"
     ]
    },
    {
     "name": "stdout",
     "output_type": "stream",
     "text": [
      "DIGIT: 5\n",
      "EPOCH 100: 2.04052 sec\n",
      "Critic loss: -0.15691\n",
      "Generator loss: -0.75643\n",
      "\n",
      "----------- TRAINING TO GENERATE **6** -----------\n"
     ]
    },
    {
     "name": "stderr",
     "output_type": "stream",
     "text": [
      "\r",
      "  1%|          | 1.0/100 [00:05<09:05,  5.51s/it]"
     ]
    },
    {
     "name": "stdout",
     "output_type": "stream",
     "text": [
      "DIGIT: 6\n",
      "EPOCH 1: 5.51097 sec\n",
      "Critic loss: -3.49158\n",
      "Generator loss: -1.80869\n",
      "\n",
      "INFO:tensorflow:Assets written to: models/05-05-21_10:15:28/6/generator/assets\n",
      "INFO:tensorflow:Assets written to: models/05-05-21_10:15:28/6/critic/assets\n"
     ]
    },
    {
     "name": "stderr",
     "output_type": "stream",
     "text": [
      "\r",
      "  2%|▏         | 2.0/100 [00:09<07:25,  4.55s/it]"
     ]
    },
    {
     "name": "stdout",
     "output_type": "stream",
     "text": [
      "DIGIT: 6\n",
      "EPOCH 2: 2.30299 sec\n",
      "Critic loss: -3.43067\n",
      "Generator loss: -1.83904\n",
      "\n"
     ]
    },
    {
     "name": "stderr",
     "output_type": "stream",
     "text": [
      "\r",
      "  3%|▎         | 3.0/100 [00:11<05:45,  3.56s/it]"
     ]
    },
    {
     "name": "stdout",
     "output_type": "stream",
     "text": [
      "DIGIT: 6\n",
      "EPOCH 3: 2.30413 sec\n",
      "Critic loss: -3.05209\n",
      "Generator loss: -1.47083\n",
      "\n"
     ]
    },
    {
     "name": "stderr",
     "output_type": "stream",
     "text": [
      "\r",
      "  4%|▍         | 4.0/100 [00:14<04:57,  3.10s/it]"
     ]
    },
    {
     "name": "stdout",
     "output_type": "stream",
     "text": [
      "DIGIT: 6\n",
      "EPOCH 4: 2.29995 sec\n",
      "Critic loss: -2.54647\n",
      "Generator loss: -1.19656\n",
      "\n"
     ]
    },
    {
     "name": "stderr",
     "output_type": "stream",
     "text": [
      "\r",
      "  5%|▌         | 5.0/100 [00:16<04:29,  2.84s/it]"
     ]
    },
    {
     "name": "stdout",
     "output_type": "stream",
     "text": [
      "DIGIT: 6\n",
      "EPOCH 5: 2.30180 sec\n",
      "Critic loss: -1.96221\n",
      "Generator loss: -2.04190\n",
      "\n"
     ]
    },
    {
     "name": "stderr",
     "output_type": "stream",
     "text": [
      "\r",
      "  6%|▌         | 6.0/100 [00:18<04:12,  2.68s/it]"
     ]
    },
    {
     "name": "stdout",
     "output_type": "stream",
     "text": [
      "DIGIT: 6\n",
      "EPOCH 6: 2.30080 sec\n",
      "Critic loss: -1.84811\n",
      "Generator loss: -3.54665\n",
      "\n"
     ]
    },
    {
     "name": "stderr",
     "output_type": "stream",
     "text": [
      "\r",
      "  7%|▋         | 7.0/100 [00:21<04:00,  2.58s/it]"
     ]
    },
    {
     "name": "stdout",
     "output_type": "stream",
     "text": [
      "DIGIT: 6\n",
      "EPOCH 7: 2.29887 sec\n",
      "Critic loss: -2.11441\n",
      "Generator loss: -3.43474\n",
      "\n"
     ]
    },
    {
     "name": "stderr",
     "output_type": "stream",
     "text": [
      "\r",
      "  8%|▊         | 8.0/100 [00:23<03:51,  2.52s/it]"
     ]
    },
    {
     "name": "stdout",
     "output_type": "stream",
     "text": [
      "DIGIT: 6\n",
      "EPOCH 8: 2.30035 sec\n",
      "Critic loss: -2.29631\n",
      "Generator loss: -3.53796\n",
      "\n"
     ]
    },
    {
     "name": "stderr",
     "output_type": "stream",
     "text": [
      "\r",
      "  9%|▉         | 9.0/100 [00:26<03:45,  2.48s/it]"
     ]
    },
    {
     "name": "stdout",
     "output_type": "stream",
     "text": [
      "DIGIT: 6\n",
      "EPOCH 9: 2.29888 sec\n",
      "Critic loss: -2.33805\n",
      "Generator loss: -3.75421\n",
      "\n"
     ]
    },
    {
     "name": "stderr",
     "output_type": "stream",
     "text": [
      "\r",
      " 10%|█         | 10.0/100 [00:28<03:40,  2.45s/it]"
     ]
    },
    {
     "name": "stdout",
     "output_type": "stream",
     "text": [
      "DIGIT: 6\n",
      "EPOCH 10: 2.30248 sec\n",
      "Critic loss: -2.15296\n",
      "Generator loss: -3.95503\n",
      "\n"
     ]
    },
    {
     "name": "stderr",
     "output_type": "stream",
     "text": [
      "\r",
      " 11%|█         | 11.0/100 [00:30<03:36,  2.43s/it]"
     ]
    },
    {
     "name": "stdout",
     "output_type": "stream",
     "text": [
      "DIGIT: 6\n",
      "EPOCH 11: 2.29882 sec\n",
      "Critic loss: -2.19989\n",
      "Generator loss: -4.02635\n",
      "\n"
     ]
    },
    {
     "name": "stderr",
     "output_type": "stream",
     "text": [
      "\r",
      " 12%|█▏        | 12.0/100 [00:33<03:32,  2.41s/it]"
     ]
    },
    {
     "name": "stdout",
     "output_type": "stream",
     "text": [
      "DIGIT: 6\n",
      "EPOCH 12: 2.29953 sec\n",
      "Critic loss: -2.20110\n",
      "Generator loss: -3.98175\n",
      "\n"
     ]
    },
    {
     "name": "stderr",
     "output_type": "stream",
     "text": [
      "\r",
      " 13%|█▎        | 13.0/100 [00:35<03:29,  2.41s/it]"
     ]
    },
    {
     "name": "stdout",
     "output_type": "stream",
     "text": [
      "DIGIT: 6\n",
      "EPOCH 13: 2.30473 sec\n",
      "Critic loss: -2.06974\n",
      "Generator loss: -4.10496\n",
      "\n"
     ]
    },
    {
     "name": "stderr",
     "output_type": "stream",
     "text": [
      "\r",
      " 14%|█▍        | 14.0/100 [00:37<03:26,  2.40s/it]"
     ]
    },
    {
     "name": "stdout",
     "output_type": "stream",
     "text": [
      "DIGIT: 6\n",
      "EPOCH 14: 2.30071 sec\n",
      "Critic loss: -1.90854\n",
      "Generator loss: -1.38153\n",
      "\n"
     ]
    },
    {
     "name": "stderr",
     "output_type": "stream",
     "text": [
      "\r",
      " 15%|█▌        | 15.0/100 [00:40<03:23,  2.39s/it]"
     ]
    },
    {
     "name": "stdout",
     "output_type": "stream",
     "text": [
      "DIGIT: 6\n",
      "EPOCH 15: 2.29776 sec\n",
      "Critic loss: -2.42758\n",
      "Generator loss: 1.45484\n",
      "\n"
     ]
    },
    {
     "name": "stderr",
     "output_type": "stream",
     "text": [
      "\r",
      " 16%|█▌        | 16.0/100 [00:42<03:20,  2.39s/it]"
     ]
    },
    {
     "name": "stdout",
     "output_type": "stream",
     "text": [
      "DIGIT: 6\n",
      "EPOCH 16: 2.30439 sec\n",
      "Critic loss: -2.90311\n",
      "Generator loss: 2.49159\n",
      "\n"
     ]
    },
    {
     "name": "stderr",
     "output_type": "stream",
     "text": [
      "\r",
      " 17%|█▋        | 17.0/100 [00:45<03:18,  2.39s/it]"
     ]
    },
    {
     "name": "stdout",
     "output_type": "stream",
     "text": [
      "DIGIT: 6\n",
      "EPOCH 17: 2.29989 sec\n",
      "Critic loss: -1.58392\n",
      "Generator loss: 1.22306\n",
      "\n"
     ]
    },
    {
     "name": "stderr",
     "output_type": "stream",
     "text": [
      "\r",
      " 18%|█▊        | 18.0/100 [00:47<03:15,  2.39s/it]"
     ]
    },
    {
     "name": "stdout",
     "output_type": "stream",
     "text": [
      "DIGIT: 6\n",
      "EPOCH 18: 2.29939 sec\n",
      "Critic loss: -0.88683\n",
      "Generator loss: -1.80504\n",
      "\n"
     ]
    },
    {
     "name": "stderr",
     "output_type": "stream",
     "text": [
      "\r",
      " 19%|█▉        | 19.0/100 [00:49<03:13,  2.38s/it]"
     ]
    },
    {
     "name": "stdout",
     "output_type": "stream",
     "text": [
      "DIGIT: 6\n",
      "EPOCH 19: 2.29938 sec\n",
      "Critic loss: -0.84251\n",
      "Generator loss: -0.81433\n",
      "\n"
     ]
    },
    {
     "name": "stderr",
     "output_type": "stream",
     "text": [
      "\r",
      " 20%|██        | 20.0/100 [00:52<03:10,  2.38s/it]"
     ]
    },
    {
     "name": "stdout",
     "output_type": "stream",
     "text": [
      "DIGIT: 6\n",
      "EPOCH 20: 2.30294 sec\n",
      "Critic loss: -1.01174\n",
      "Generator loss: -0.64594\n",
      "\n"
     ]
    },
    {
     "name": "stderr",
     "output_type": "stream",
     "text": [
      "\r",
      " 21%|██        | 21.0/100 [00:54<03:08,  2.38s/it]"
     ]
    },
    {
     "name": "stdout",
     "output_type": "stream",
     "text": [
      "DIGIT: 6\n",
      "EPOCH 21: 2.30078 sec\n",
      "Critic loss: -1.24981\n",
      "Generator loss: -0.66289\n",
      "\n",
      "INFO:tensorflow:Assets written to: models/05-05-21_10:15:28/6/generator/assets\n",
      "INFO:tensorflow:Assets written to: models/05-05-21_10:15:28/6/critic/assets\n"
     ]
    },
    {
     "name": "stderr",
     "output_type": "stream",
     "text": [
      "\r",
      " 22%|██▏       | 22.0/100 [00:58<03:39,  2.81s/it]"
     ]
    },
    {
     "name": "stdout",
     "output_type": "stream",
     "text": [
      "DIGIT: 6\n",
      "EPOCH 22: 2.29797 sec\n",
      "Critic loss: -1.26067\n",
      "Generator loss: 0.56220\n",
      "\n"
     ]
    },
    {
     "name": "stderr",
     "output_type": "stream",
     "text": [
      "\r",
      " 23%|██▎       | 23.0/100 [01:00<03:26,  2.68s/it]"
     ]
    },
    {
     "name": "stdout",
     "output_type": "stream",
     "text": [
      "DIGIT: 6\n",
      "EPOCH 23: 2.30056 sec\n",
      "Critic loss: -1.19041\n",
      "Generator loss: 0.80549\n",
      "\n"
     ]
    },
    {
     "name": "stderr",
     "output_type": "stream",
     "text": [
      "\r",
      " 24%|██▍       | 24.0/100 [01:03<03:17,  2.59s/it]"
     ]
    },
    {
     "name": "stdout",
     "output_type": "stream",
     "text": [
      "DIGIT: 6\n",
      "EPOCH 24: 2.30147 sec\n",
      "Critic loss: -0.85224\n",
      "Generator loss: 0.88181\n",
      "\n"
     ]
    },
    {
     "name": "stderr",
     "output_type": "stream",
     "text": [
      "\r",
      " 25%|██▌       | 25.0/100 [01:05<03:09,  2.53s/it]"
     ]
    },
    {
     "name": "stdout",
     "output_type": "stream",
     "text": [
      "DIGIT: 6\n",
      "EPOCH 25: 2.30385 sec\n",
      "Critic loss: -0.67068\n",
      "Generator loss: 0.68924\n",
      "\n"
     ]
    },
    {
     "name": "stderr",
     "output_type": "stream",
     "text": [
      "\r",
      " 26%|██▌       | 26.0/100 [01:08<03:03,  2.49s/it]"
     ]
    },
    {
     "name": "stdout",
     "output_type": "stream",
     "text": [
      "DIGIT: 6\n",
      "EPOCH 26: 2.29819 sec\n",
      "Critic loss: -0.51618\n",
      "Generator loss: 0.62274\n",
      "\n"
     ]
    },
    {
     "name": "stderr",
     "output_type": "stream",
     "text": [
      "\r",
      " 27%|██▋       | 27.0/100 [01:10<02:59,  2.46s/it]"
     ]
    },
    {
     "name": "stdout",
     "output_type": "stream",
     "text": [
      "DIGIT: 6\n",
      "EPOCH 27: 2.30744 sec\n",
      "Critic loss: -0.41826\n",
      "Generator loss: 0.81352\n",
      "\n"
     ]
    },
    {
     "name": "stderr",
     "output_type": "stream",
     "text": [
      "\r",
      " 28%|██▊       | 28.0/100 [01:12<02:55,  2.44s/it]"
     ]
    },
    {
     "name": "stdout",
     "output_type": "stream",
     "text": [
      "DIGIT: 6\n",
      "EPOCH 28: 2.30967 sec\n",
      "Critic loss: -0.40510\n",
      "Generator loss: 0.84732\n",
      "\n"
     ]
    },
    {
     "name": "stderr",
     "output_type": "stream",
     "text": [
      "\r",
      " 29%|██▉       | 29.0/100 [01:15<02:51,  2.42s/it]"
     ]
    },
    {
     "name": "stdout",
     "output_type": "stream",
     "text": [
      "DIGIT: 6\n",
      "EPOCH 29: 2.29856 sec\n",
      "Critic loss: -0.29388\n",
      "Generator loss: 1.17111\n",
      "\n"
     ]
    },
    {
     "name": "stderr",
     "output_type": "stream",
     "text": [
      "\r",
      " 30%|███       | 30.0/100 [01:17<02:48,  2.41s/it]"
     ]
    },
    {
     "name": "stdout",
     "output_type": "stream",
     "text": [
      "DIGIT: 6\n",
      "EPOCH 30: 2.30241 sec\n",
      "Critic loss: -0.21198\n",
      "Generator loss: 1.17348\n",
      "\n"
     ]
    },
    {
     "name": "stderr",
     "output_type": "stream",
     "text": [
      "\r",
      " 31%|███       | 31.0/100 [01:19<02:45,  2.40s/it]"
     ]
    },
    {
     "name": "stdout",
     "output_type": "stream",
     "text": [
      "DIGIT: 6\n",
      "EPOCH 31: 2.30128 sec\n",
      "Critic loss: -0.21759\n",
      "Generator loss: 1.12430\n",
      "\n"
     ]
    },
    {
     "name": "stderr",
     "output_type": "stream",
     "text": [
      "\r",
      " 32%|███▏      | 32.0/100 [01:22<02:42,  2.40s/it]"
     ]
    },
    {
     "name": "stdout",
     "output_type": "stream",
     "text": [
      "DIGIT: 6\n",
      "EPOCH 32: 2.30149 sec\n",
      "Critic loss: -0.08187\n",
      "Generator loss: 1.01158\n",
      "\n"
     ]
    },
    {
     "name": "stderr",
     "output_type": "stream",
     "text": [
      "\r",
      " 33%|███▎      | 33.0/100 [01:24<02:40,  2.39s/it]"
     ]
    },
    {
     "name": "stdout",
     "output_type": "stream",
     "text": [
      "DIGIT: 6\n",
      "EPOCH 33: 2.29834 sec\n",
      "Critic loss: -0.22338\n",
      "Generator loss: 1.50756\n",
      "\n"
     ]
    },
    {
     "name": "stderr",
     "output_type": "stream",
     "text": [
      "\r",
      " 34%|███▍      | 34.0/100 [01:27<02:37,  2.39s/it]"
     ]
    },
    {
     "name": "stdout",
     "output_type": "stream",
     "text": [
      "DIGIT: 6\n",
      "EPOCH 34: 2.30206 sec\n",
      "Critic loss: -0.18915\n",
      "Generator loss: 1.15338\n",
      "\n"
     ]
    },
    {
     "name": "stderr",
     "output_type": "stream",
     "text": [
      "\r",
      " 35%|███▌      | 35.0/100 [01:29<02:35,  2.39s/it]"
     ]
    },
    {
     "name": "stdout",
     "output_type": "stream",
     "text": [
      "DIGIT: 6\n",
      "EPOCH 35: 2.30229 sec\n",
      "Critic loss: -0.19816\n",
      "Generator loss: 1.45214\n",
      "\n"
     ]
    },
    {
     "name": "stderr",
     "output_type": "stream",
     "text": [
      "\r",
      " 36%|███▌      | 36.0/100 [01:31<02:32,  2.39s/it]"
     ]
    },
    {
     "name": "stdout",
     "output_type": "stream",
     "text": [
      "DIGIT: 6\n",
      "EPOCH 36: 2.30261 sec\n",
      "Critic loss: -0.14976\n",
      "Generator loss: 1.10574\n",
      "\n"
     ]
    },
    {
     "name": "stderr",
     "output_type": "stream",
     "text": [
      "\r",
      " 37%|███▋      | 37.0/100 [01:34<02:30,  2.39s/it]"
     ]
    },
    {
     "name": "stdout",
     "output_type": "stream",
     "text": [
      "DIGIT: 6\n",
      "EPOCH 37: 2.30107 sec\n",
      "Critic loss: -0.18367\n",
      "Generator loss: 1.39577\n",
      "\n"
     ]
    },
    {
     "name": "stderr",
     "output_type": "stream",
     "text": [
      "\r",
      " 38%|███▊      | 38.0/100 [01:36<02:27,  2.39s/it]"
     ]
    },
    {
     "name": "stdout",
     "output_type": "stream",
     "text": [
      "DIGIT: 6\n",
      "EPOCH 38: 2.30671 sec\n",
      "Critic loss: -0.22157\n",
      "Generator loss: 1.25164\n",
      "\n"
     ]
    },
    {
     "name": "stderr",
     "output_type": "stream",
     "text": [
      "\r",
      " 39%|███▉      | 39.0/100 [01:39<02:25,  2.39s/it]"
     ]
    },
    {
     "name": "stdout",
     "output_type": "stream",
     "text": [
      "DIGIT: 6\n",
      "EPOCH 39: 2.29977 sec\n",
      "Critic loss: -0.18062\n",
      "Generator loss: 1.11214\n",
      "\n"
     ]
    },
    {
     "name": "stderr",
     "output_type": "stream",
     "text": [
      "\r",
      " 40%|████      | 40.0/100 [01:41<02:23,  2.39s/it]"
     ]
    },
    {
     "name": "stdout",
     "output_type": "stream",
     "text": [
      "DIGIT: 6\n",
      "EPOCH 40: 2.30249 sec\n",
      "Critic loss: -0.23622\n",
      "Generator loss: 1.74799\n",
      "\n"
     ]
    },
    {
     "name": "stderr",
     "output_type": "stream",
     "text": [
      "\r",
      " 41%|████      | 41.0/100 [01:43<02:20,  2.38s/it]"
     ]
    },
    {
     "name": "stdout",
     "output_type": "stream",
     "text": [
      "DIGIT: 6\n",
      "EPOCH 41: 2.30280 sec\n",
      "Critic loss: -0.24340\n",
      "Generator loss: 1.40118\n",
      "\n",
      "INFO:tensorflow:Assets written to: models/05-05-21_10:15:28/6/generator/assets\n",
      "INFO:tensorflow:Assets written to: models/05-05-21_10:15:28/6/critic/assets\n"
     ]
    },
    {
     "name": "stderr",
     "output_type": "stream",
     "text": [
      "\r",
      " 42%|████▏     | 42.0/100 [01:47<02:44,  2.83s/it]"
     ]
    },
    {
     "name": "stdout",
     "output_type": "stream",
     "text": [
      "DIGIT: 6\n",
      "EPOCH 42: 2.29934 sec\n",
      "Critic loss: -0.20840\n",
      "Generator loss: 1.44910\n",
      "\n"
     ]
    },
    {
     "name": "stderr",
     "output_type": "stream",
     "text": [
      "\r",
      " 43%|████▎     | 43.0/100 [01:50<02:33,  2.70s/it]"
     ]
    },
    {
     "name": "stdout",
     "output_type": "stream",
     "text": [
      "DIGIT: 6\n",
      "EPOCH 43: 2.30403 sec\n",
      "Critic loss: -0.21306\n",
      "Generator loss: 1.26231\n",
      "\n"
     ]
    },
    {
     "name": "stderr",
     "output_type": "stream",
     "text": [
      "\r",
      " 44%|████▍     | 44.0/100 [01:52<02:25,  2.60s/it]"
     ]
    },
    {
     "name": "stdout",
     "output_type": "stream",
     "text": [
      "DIGIT: 6\n",
      "EPOCH 44: 2.29983 sec\n",
      "Critic loss: -0.22598\n",
      "Generator loss: 1.68802\n",
      "\n"
     ]
    },
    {
     "name": "stderr",
     "output_type": "stream",
     "text": [
      "\r",
      " 45%|████▌     | 45.0/100 [01:54<02:19,  2.54s/it]"
     ]
    },
    {
     "name": "stdout",
     "output_type": "stream",
     "text": [
      "DIGIT: 6\n",
      "EPOCH 45: 2.30246 sec\n",
      "Critic loss: -0.21423\n",
      "Generator loss: 1.46567\n",
      "\n"
     ]
    },
    {
     "name": "stderr",
     "output_type": "stream",
     "text": [
      "\r",
      " 46%|████▌     | 46.0/100 [01:57<02:14,  2.49s/it]"
     ]
    },
    {
     "name": "stdout",
     "output_type": "stream",
     "text": [
      "DIGIT: 6\n",
      "EPOCH 46: 2.30233 sec\n",
      "Critic loss: -0.20286\n",
      "Generator loss: 1.58560\n",
      "\n"
     ]
    },
    {
     "name": "stderr",
     "output_type": "stream",
     "text": [
      "\r",
      " 47%|████▋     | 47.0/100 [01:59<02:10,  2.46s/it]"
     ]
    },
    {
     "name": "stdout",
     "output_type": "stream",
     "text": [
      "DIGIT: 6\n",
      "EPOCH 47: 2.29962 sec\n",
      "Critic loss: -0.17724\n",
      "Generator loss: 1.81527\n",
      "\n"
     ]
    },
    {
     "name": "stderr",
     "output_type": "stream",
     "text": [
      "\r",
      " 48%|████▊     | 48.0/100 [02:01<02:06,  2.44s/it]"
     ]
    },
    {
     "name": "stdout",
     "output_type": "stream",
     "text": [
      "DIGIT: 6\n",
      "EPOCH 48: 2.30284 sec\n",
      "Critic loss: -0.09505\n",
      "Generator loss: 1.26432\n",
      "\n"
     ]
    },
    {
     "name": "stderr",
     "output_type": "stream",
     "text": [
      "\r",
      " 49%|████▉     | 49.0/100 [02:04<02:03,  2.42s/it]"
     ]
    },
    {
     "name": "stdout",
     "output_type": "stream",
     "text": [
      "DIGIT: 6\n",
      "EPOCH 49: 2.30439 sec\n",
      "Critic loss: -0.17402\n",
      "Generator loss: 2.04072\n",
      "\n"
     ]
    },
    {
     "name": "stderr",
     "output_type": "stream",
     "text": [
      "\r",
      " 50%|█████     | 50.0/100 [02:06<02:00,  2.41s/it]"
     ]
    },
    {
     "name": "stdout",
     "output_type": "stream",
     "text": [
      "DIGIT: 6\n",
      "EPOCH 50: 2.31540 sec\n",
      "Critic loss: -0.26874\n",
      "Generator loss: 1.36275\n",
      "\n"
     ]
    },
    {
     "name": "stderr",
     "output_type": "stream",
     "text": [
      "\r",
      " 51%|█████     | 51.0/100 [02:09<01:57,  2.41s/it]"
     ]
    },
    {
     "name": "stdout",
     "output_type": "stream",
     "text": [
      "DIGIT: 6\n",
      "EPOCH 51: 2.30838 sec\n",
      "Critic loss: -0.23088\n",
      "Generator loss: 2.50339\n",
      "\n"
     ]
    },
    {
     "name": "stderr",
     "output_type": "stream",
     "text": [
      "\r",
      " 52%|█████▏    | 52.0/100 [02:11<01:55,  2.40s/it]"
     ]
    },
    {
     "name": "stdout",
     "output_type": "stream",
     "text": [
      "DIGIT: 6\n",
      "EPOCH 52: 2.30185 sec\n",
      "Critic loss: -0.24400\n",
      "Generator loss: 2.33422\n",
      "\n"
     ]
    },
    {
     "name": "stderr",
     "output_type": "stream",
     "text": [
      "\r",
      " 53%|█████▎    | 53.0/100 [02:13<01:52,  2.39s/it]"
     ]
    },
    {
     "name": "stdout",
     "output_type": "stream",
     "text": [
      "DIGIT: 6\n",
      "EPOCH 53: 2.30028 sec\n",
      "Critic loss: -0.19460\n",
      "Generator loss: 2.11598\n",
      "\n"
     ]
    },
    {
     "name": "stderr",
     "output_type": "stream",
     "text": [
      "\r",
      " 54%|█████▍    | 54.0/100 [02:16<01:49,  2.39s/it]"
     ]
    },
    {
     "name": "stdout",
     "output_type": "stream",
     "text": [
      "DIGIT: 6\n",
      "EPOCH 54: 2.30249 sec\n",
      "Critic loss: -0.19888\n",
      "Generator loss: 1.86687\n",
      "\n"
     ]
    },
    {
     "name": "stderr",
     "output_type": "stream",
     "text": [
      "\r",
      " 55%|█████▌    | 55.0/100 [02:18<01:47,  2.39s/it]"
     ]
    },
    {
     "name": "stdout",
     "output_type": "stream",
     "text": [
      "DIGIT: 6\n",
      "EPOCH 55: 2.30758 sec\n",
      "Critic loss: -0.18779\n",
      "Generator loss: 2.10572\n",
      "\n"
     ]
    },
    {
     "name": "stderr",
     "output_type": "stream",
     "text": [
      "\r",
      " 56%|█████▌    | 56.0/100 [02:21<01:45,  2.39s/it]"
     ]
    },
    {
     "name": "stdout",
     "output_type": "stream",
     "text": [
      "DIGIT: 6\n",
      "EPOCH 56: 2.30130 sec\n",
      "Critic loss: -0.15144\n",
      "Generator loss: 1.76323\n",
      "\n"
     ]
    },
    {
     "name": "stderr",
     "output_type": "stream",
     "text": [
      "\r",
      " 57%|█████▋    | 57.0/100 [02:23<01:42,  2.39s/it]"
     ]
    },
    {
     "name": "stdout",
     "output_type": "stream",
     "text": [
      "DIGIT: 6\n",
      "EPOCH 57: 2.30256 sec\n",
      "Critic loss: -0.19454\n",
      "Generator loss: 2.51283\n",
      "\n"
     ]
    },
    {
     "name": "stderr",
     "output_type": "stream",
     "text": [
      "\r",
      " 58%|█████▊    | 58.0/100 [02:25<01:40,  2.39s/it]"
     ]
    },
    {
     "name": "stdout",
     "output_type": "stream",
     "text": [
      "DIGIT: 6\n",
      "EPOCH 58: 2.30195 sec\n",
      "Critic loss: -0.22459\n",
      "Generator loss: 1.30740\n",
      "\n"
     ]
    },
    {
     "name": "stderr",
     "output_type": "stream",
     "text": [
      "\r",
      " 59%|█████▉    | 59.0/100 [02:28<01:37,  2.38s/it]"
     ]
    },
    {
     "name": "stdout",
     "output_type": "stream",
     "text": [
      "DIGIT: 6\n",
      "EPOCH 59: 2.29987 sec\n",
      "Critic loss: -0.22513\n",
      "Generator loss: 1.94288\n",
      "\n"
     ]
    },
    {
     "name": "stderr",
     "output_type": "stream",
     "text": [
      "\r",
      " 60%|██████    | 60.0/100 [02:30<01:35,  2.38s/it]"
     ]
    },
    {
     "name": "stdout",
     "output_type": "stream",
     "text": [
      "DIGIT: 6\n",
      "EPOCH 60: 2.30347 sec\n",
      "Critic loss: -0.20770\n",
      "Generator loss: 2.48188\n",
      "\n"
     ]
    },
    {
     "name": "stderr",
     "output_type": "stream",
     "text": [
      "\r",
      " 61%|██████    | 61.0/100 [02:32<01:32,  2.38s/it]"
     ]
    },
    {
     "name": "stdout",
     "output_type": "stream",
     "text": [
      "DIGIT: 6\n",
      "EPOCH 61: 2.29958 sec\n",
      "Critic loss: -0.22446\n",
      "Generator loss: 2.21908\n",
      "\n",
      "INFO:tensorflow:Assets written to: models/05-05-21_10:15:28/6/generator/assets\n",
      "INFO:tensorflow:Assets written to: models/05-05-21_10:15:28/6/critic/assets\n"
     ]
    },
    {
     "name": "stderr",
     "output_type": "stream",
     "text": [
      "\r",
      " 62%|██████▏   | 62.0/100 [02:36<01:46,  2.81s/it]"
     ]
    },
    {
     "name": "stdout",
     "output_type": "stream",
     "text": [
      "DIGIT: 6\n",
      "EPOCH 62: 2.29916 sec\n",
      "Critic loss: -0.23116\n",
      "Generator loss: 2.57628\n",
      "\n"
     ]
    },
    {
     "name": "stderr",
     "output_type": "stream",
     "text": [
      "\r",
      " 63%|██████▎   | 63.0/100 [02:39<01:39,  2.68s/it]"
     ]
    },
    {
     "name": "stdout",
     "output_type": "stream",
     "text": [
      "DIGIT: 6\n",
      "EPOCH 63: 2.29994 sec\n",
      "Critic loss: -0.19510\n",
      "Generator loss: 1.88283\n",
      "\n"
     ]
    },
    {
     "name": "stderr",
     "output_type": "stream",
     "text": [
      "\r",
      " 64%|██████▍   | 64.0/100 [02:41<01:33,  2.59s/it]"
     ]
    },
    {
     "name": "stdout",
     "output_type": "stream",
     "text": [
      "DIGIT: 6\n",
      "EPOCH 64: 2.30228 sec\n",
      "Critic loss: -0.15849\n",
      "Generator loss: 2.34797\n",
      "\n"
     ]
    },
    {
     "name": "stderr",
     "output_type": "stream",
     "text": [
      "\r",
      " 65%|██████▌   | 65.0/100 [02:43<01:28,  2.53s/it]"
     ]
    },
    {
     "name": "stdout",
     "output_type": "stream",
     "text": [
      "DIGIT: 6\n",
      "EPOCH 65: 2.30155 sec\n",
      "Critic loss: -0.19525\n",
      "Generator loss: 2.05164\n",
      "\n"
     ]
    },
    {
     "name": "stderr",
     "output_type": "stream",
     "text": [
      "\r",
      " 66%|██████▌   | 66.0/100 [02:46<01:24,  2.49s/it]"
     ]
    },
    {
     "name": "stdout",
     "output_type": "stream",
     "text": [
      "DIGIT: 6\n",
      "EPOCH 66: 2.29985 sec\n",
      "Critic loss: -0.19086\n",
      "Generator loss: 2.19948\n",
      "\n"
     ]
    },
    {
     "name": "stderr",
     "output_type": "stream",
     "text": [
      "\r",
      " 67%|██████▋   | 67.0/100 [02:48<01:21,  2.45s/it]"
     ]
    },
    {
     "name": "stdout",
     "output_type": "stream",
     "text": [
      "DIGIT: 6\n",
      "EPOCH 67: 2.29954 sec\n",
      "Critic loss: -0.18779\n",
      "Generator loss: 1.88851\n",
      "\n"
     ]
    },
    {
     "name": "stderr",
     "output_type": "stream",
     "text": [
      "\r",
      " 68%|██████▊   | 68.0/100 [02:51<01:17,  2.43s/it]"
     ]
    },
    {
     "name": "stdout",
     "output_type": "stream",
     "text": [
      "DIGIT: 6\n",
      "EPOCH 68: 2.30202 sec\n",
      "Critic loss: -0.20576\n",
      "Generator loss: 2.13957\n",
      "\n"
     ]
    },
    {
     "name": "stderr",
     "output_type": "stream",
     "text": [
      "\r",
      " 69%|██████▉   | 69.0/100 [02:53<01:14,  2.42s/it]"
     ]
    },
    {
     "name": "stdout",
     "output_type": "stream",
     "text": [
      "DIGIT: 6\n",
      "EPOCH 69: 2.30239 sec\n",
      "Critic loss: -0.16374\n",
      "Generator loss: 1.78577\n",
      "\n"
     ]
    },
    {
     "name": "stderr",
     "output_type": "stream",
     "text": [
      "\r",
      " 70%|███████   | 70.0/100 [02:55<01:12,  2.41s/it]"
     ]
    },
    {
     "name": "stdout",
     "output_type": "stream",
     "text": [
      "DIGIT: 6\n",
      "EPOCH 70: 2.30155 sec\n",
      "Critic loss: -0.19764\n",
      "Generator loss: 2.20558\n",
      "\n"
     ]
    },
    {
     "name": "stderr",
     "output_type": "stream",
     "text": [
      "\r",
      " 71%|███████   | 71.0/100 [02:58<01:09,  2.40s/it]"
     ]
    },
    {
     "name": "stdout",
     "output_type": "stream",
     "text": [
      "DIGIT: 6\n",
      "EPOCH 71: 2.30354 sec\n",
      "Critic loss: -0.16125\n",
      "Generator loss: 2.35627\n",
      "\n"
     ]
    },
    {
     "name": "stderr",
     "output_type": "stream",
     "text": [
      "\r",
      " 72%|███████▏  | 72.0/100 [03:00<01:07,  2.40s/it]"
     ]
    },
    {
     "name": "stdout",
     "output_type": "stream",
     "text": [
      "DIGIT: 6\n",
      "EPOCH 72: 2.30045 sec\n",
      "Critic loss: -0.11972\n",
      "Generator loss: 2.21873\n",
      "\n"
     ]
    },
    {
     "name": "stderr",
     "output_type": "stream",
     "text": [
      "\r",
      " 73%|███████▎  | 73.0/100 [03:03<01:04,  2.39s/it]"
     ]
    },
    {
     "name": "stdout",
     "output_type": "stream",
     "text": [
      "DIGIT: 6\n",
      "EPOCH 73: 2.30294 sec\n",
      "Critic loss: -0.12293\n",
      "Generator loss: 2.28999\n",
      "\n"
     ]
    },
    {
     "name": "stderr",
     "output_type": "stream",
     "text": [
      "\r",
      " 74%|███████▍  | 74.0/100 [03:05<01:02,  2.39s/it]"
     ]
    },
    {
     "name": "stdout",
     "output_type": "stream",
     "text": [
      "DIGIT: 6\n",
      "EPOCH 74: 2.30279 sec\n",
      "Critic loss: -0.15870\n",
      "Generator loss: 2.47098\n",
      "\n"
     ]
    },
    {
     "name": "stderr",
     "output_type": "stream",
     "text": [
      "\r",
      " 75%|███████▌  | 75.0/100 [03:07<00:59,  2.39s/it]"
     ]
    },
    {
     "name": "stdout",
     "output_type": "stream",
     "text": [
      "DIGIT: 6\n",
      "EPOCH 75: 2.30205 sec\n",
      "Critic loss: -0.14481\n",
      "Generator loss: 2.16517\n",
      "\n"
     ]
    },
    {
     "name": "stderr",
     "output_type": "stream",
     "text": [
      "\r",
      " 76%|███████▌  | 76.0/100 [03:10<00:57,  2.39s/it]"
     ]
    },
    {
     "name": "stdout",
     "output_type": "stream",
     "text": [
      "DIGIT: 6\n",
      "EPOCH 76: 2.30188 sec\n",
      "Critic loss: -0.16389\n",
      "Generator loss: 2.78857\n",
      "\n"
     ]
    },
    {
     "name": "stderr",
     "output_type": "stream",
     "text": [
      "\r",
      " 77%|███████▋  | 77.0/100 [03:12<00:54,  2.39s/it]"
     ]
    },
    {
     "name": "stdout",
     "output_type": "stream",
     "text": [
      "DIGIT: 6\n",
      "EPOCH 77: 2.30259 sec\n",
      "Critic loss: -0.16500\n",
      "Generator loss: 1.89558\n",
      "\n"
     ]
    },
    {
     "name": "stderr",
     "output_type": "stream",
     "text": [
      "\r",
      " 78%|███████▊  | 78.0/100 [03:14<00:52,  2.39s/it]"
     ]
    },
    {
     "name": "stdout",
     "output_type": "stream",
     "text": [
      "DIGIT: 6\n",
      "EPOCH 78: 2.30292 sec\n",
      "Critic loss: -0.14520\n",
      "Generator loss: 3.31366\n",
      "\n"
     ]
    },
    {
     "name": "stderr",
     "output_type": "stream",
     "text": [
      "\r",
      " 79%|███████▉  | 79.0/100 [03:17<00:50,  2.39s/it]"
     ]
    },
    {
     "name": "stdout",
     "output_type": "stream",
     "text": [
      "DIGIT: 6\n",
      "EPOCH 79: 2.30784 sec\n",
      "Critic loss: -0.17396\n",
      "Generator loss: 2.51863\n",
      "\n"
     ]
    },
    {
     "name": "stderr",
     "output_type": "stream",
     "text": [
      "\r",
      " 80%|████████  | 80.0/100 [03:19<00:47,  2.39s/it]"
     ]
    },
    {
     "name": "stdout",
     "output_type": "stream",
     "text": [
      "DIGIT: 6\n",
      "EPOCH 80: 2.30158 sec\n",
      "Critic loss: -0.19248\n",
      "Generator loss: 1.55825\n",
      "\n"
     ]
    },
    {
     "name": "stderr",
     "output_type": "stream",
     "text": [
      "\r",
      " 81%|████████  | 81.0/100 [03:22<00:45,  2.39s/it]"
     ]
    },
    {
     "name": "stdout",
     "output_type": "stream",
     "text": [
      "DIGIT: 6\n",
      "EPOCH 81: 2.30220 sec\n",
      "Critic loss: -0.16247\n",
      "Generator loss: 2.08154\n",
      "\n",
      "INFO:tensorflow:Assets written to: models/05-05-21_10:15:28/6/generator/assets\n",
      "INFO:tensorflow:Assets written to: models/05-05-21_10:15:28/6/critic/assets\n"
     ]
    },
    {
     "name": "stderr",
     "output_type": "stream",
     "text": [
      "\r",
      " 82%|████████▏ | 82.0/100 [03:25<00:50,  2.81s/it]"
     ]
    },
    {
     "name": "stdout",
     "output_type": "stream",
     "text": [
      "DIGIT: 6\n",
      "EPOCH 82: 2.30112 sec\n",
      "Critic loss: -0.11223\n",
      "Generator loss: 2.16024\n",
      "\n"
     ]
    },
    {
     "name": "stderr",
     "output_type": "stream",
     "text": [
      "\r",
      " 83%|████████▎ | 83.0/100 [03:28<00:45,  2.68s/it]"
     ]
    },
    {
     "name": "stdout",
     "output_type": "stream",
     "text": [
      "DIGIT: 6\n",
      "EPOCH 83: 2.30109 sec\n",
      "Critic loss: -0.19955\n",
      "Generator loss: 1.30453\n",
      "\n"
     ]
    },
    {
     "name": "stderr",
     "output_type": "stream",
     "text": [
      "\r",
      " 84%|████████▍ | 84.0/100 [03:30<00:41,  2.59s/it]"
     ]
    },
    {
     "name": "stdout",
     "output_type": "stream",
     "text": [
      "DIGIT: 6\n",
      "EPOCH 84: 2.30201 sec\n",
      "Critic loss: -0.14937\n",
      "Generator loss: 1.29283\n",
      "\n"
     ]
    },
    {
     "name": "stderr",
     "output_type": "stream",
     "text": [
      "\r",
      " 85%|████████▌ | 85.0/100 [03:33<00:37,  2.53s/it]"
     ]
    },
    {
     "name": "stdout",
     "output_type": "stream",
     "text": [
      "DIGIT: 6\n",
      "EPOCH 85: 2.30308 sec\n",
      "Critic loss: -0.18225\n",
      "Generator loss: 1.86559\n",
      "\n"
     ]
    },
    {
     "name": "stderr",
     "output_type": "stream",
     "text": [
      "\r",
      " 86%|████████▌ | 86.0/100 [03:35<00:34,  2.49s/it]"
     ]
    },
    {
     "name": "stdout",
     "output_type": "stream",
     "text": [
      "DIGIT: 6\n",
      "EPOCH 86: 2.30134 sec\n",
      "Critic loss: -0.13569\n",
      "Generator loss: 1.94122\n",
      "\n"
     ]
    },
    {
     "name": "stderr",
     "output_type": "stream",
     "text": [
      "\r",
      " 87%|████████▋ | 87.0/100 [03:37<00:31,  2.46s/it]"
     ]
    },
    {
     "name": "stdout",
     "output_type": "stream",
     "text": [
      "DIGIT: 6\n",
      "EPOCH 87: 2.30205 sec\n",
      "Critic loss: -0.11165\n",
      "Generator loss: 2.17105\n",
      "\n"
     ]
    },
    {
     "name": "stderr",
     "output_type": "stream",
     "text": [
      "\r",
      " 88%|████████▊ | 88.0/100 [03:40<00:29,  2.43s/it]"
     ]
    },
    {
     "name": "stdout",
     "output_type": "stream",
     "text": [
      "DIGIT: 6\n",
      "EPOCH 88: 2.30379 sec\n",
      "Critic loss: -0.15667\n",
      "Generator loss: 1.75923\n",
      "\n"
     ]
    },
    {
     "name": "stderr",
     "output_type": "stream",
     "text": [
      "\r",
      " 89%|████████▉ | 89.0/100 [03:42<00:26,  2.42s/it]"
     ]
    },
    {
     "name": "stdout",
     "output_type": "stream",
     "text": [
      "DIGIT: 6\n",
      "EPOCH 89: 2.30116 sec\n",
      "Critic loss: -0.12515\n",
      "Generator loss: 2.19155\n",
      "\n"
     ]
    },
    {
     "name": "stderr",
     "output_type": "stream",
     "text": [
      "\r",
      " 90%|█████████ | 90.0/100 [03:44<00:24,  2.41s/it]"
     ]
    },
    {
     "name": "stdout",
     "output_type": "stream",
     "text": [
      "DIGIT: 6\n",
      "EPOCH 90: 2.30221 sec\n",
      "Critic loss: -0.13428\n",
      "Generator loss: 1.83859\n",
      "\n"
     ]
    },
    {
     "name": "stderr",
     "output_type": "stream",
     "text": [
      "\r",
      " 91%|█████████ | 91.0/100 [03:47<00:21,  2.40s/it]"
     ]
    },
    {
     "name": "stdout",
     "output_type": "stream",
     "text": [
      "DIGIT: 6\n",
      "EPOCH 91: 2.30122 sec\n",
      "Critic loss: -0.14588\n",
      "Generator loss: 1.35573\n",
      "\n"
     ]
    },
    {
     "name": "stderr",
     "output_type": "stream",
     "text": [
      "\r",
      " 92%|█████████▏| 92.0/100 [03:49<00:19,  2.40s/it]"
     ]
    },
    {
     "name": "stdout",
     "output_type": "stream",
     "text": [
      "DIGIT: 6\n",
      "EPOCH 92: 2.30148 sec\n",
      "Critic loss: -0.13791\n",
      "Generator loss: 2.44560\n",
      "\n"
     ]
    },
    {
     "name": "stderr",
     "output_type": "stream",
     "text": [
      "\r",
      " 93%|█████████▎| 93.0/100 [03:52<00:16,  2.39s/it]"
     ]
    },
    {
     "name": "stdout",
     "output_type": "stream",
     "text": [
      "DIGIT: 6\n",
      "EPOCH 93: 2.30129 sec\n",
      "Critic loss: -0.14177\n",
      "Generator loss: 1.64867\n",
      "\n"
     ]
    },
    {
     "name": "stderr",
     "output_type": "stream",
     "text": [
      "\r",
      " 94%|█████████▍| 94.0/100 [03:54<00:14,  2.39s/it]"
     ]
    },
    {
     "name": "stdout",
     "output_type": "stream",
     "text": [
      "DIGIT: 6\n",
      "EPOCH 94: 2.30395 sec\n",
      "Critic loss: -0.14257\n",
      "Generator loss: 2.16492\n",
      "\n"
     ]
    },
    {
     "name": "stderr",
     "output_type": "stream",
     "text": [
      "\r",
      " 95%|█████████▌| 95.0/100 [03:56<00:12,  2.40s/it]"
     ]
    },
    {
     "name": "stdout",
     "output_type": "stream",
     "text": [
      "DIGIT: 6\n",
      "EPOCH 95: 2.34651 sec\n",
      "Critic loss: -0.13511\n",
      "Generator loss: 1.87454\n",
      "\n"
     ]
    },
    {
     "name": "stderr",
     "output_type": "stream",
     "text": [
      "\r",
      " 96%|█████████▌| 96.0/100 [03:59<00:09,  2.40s/it]"
     ]
    },
    {
     "name": "stdout",
     "output_type": "stream",
     "text": [
      "DIGIT: 6\n",
      "EPOCH 96: 2.31040 sec\n",
      "Critic loss: -0.14282\n",
      "Generator loss: 2.70064\n",
      "\n"
     ]
    },
    {
     "name": "stderr",
     "output_type": "stream",
     "text": [
      "\r",
      " 97%|█████████▋| 97.0/100 [04:01<00:07,  2.40s/it]"
     ]
    },
    {
     "name": "stdout",
     "output_type": "stream",
     "text": [
      "DIGIT: 6\n",
      "EPOCH 97: 2.31785 sec\n",
      "Critic loss: -0.15964\n",
      "Generator loss: 1.47551\n",
      "\n"
     ]
    },
    {
     "name": "stderr",
     "output_type": "stream",
     "text": [
      "\r",
      " 98%|█████████▊| 98.0/100 [04:04<00:04,  2.40s/it]"
     ]
    },
    {
     "name": "stdout",
     "output_type": "stream",
     "text": [
      "DIGIT: 6\n",
      "EPOCH 98: 2.30271 sec\n",
      "Critic loss: -0.14856\n",
      "Generator loss: 1.59212\n",
      "\n"
     ]
    },
    {
     "name": "stderr",
     "output_type": "stream",
     "text": [
      "\r",
      " 99%|█████████▉| 99.0/100 [04:06<00:02,  2.39s/it]"
     ]
    },
    {
     "name": "stdout",
     "output_type": "stream",
     "text": [
      "DIGIT: 6\n",
      "EPOCH 99: 2.31001 sec\n",
      "Critic loss: -0.14143\n",
      "Generator loss: 2.41609\n",
      "\n"
     ]
    },
    {
     "name": "stderr",
     "output_type": "stream",
     "text": [
      "100%|██████████| 100.0/100 [04:08<00:00,  2.49s/it]\n",
      "  0%|          | 0/100 [00:00<?, ?it/s]"
     ]
    },
    {
     "name": "stdout",
     "output_type": "stream",
     "text": [
      "DIGIT: 6\n",
      "EPOCH 100: 2.31155 sec\n",
      "Critic loss: -0.18965\n",
      "Generator loss: 1.61179\n",
      "\n",
      "----------- TRAINING TO GENERATE **7** -----------\n"
     ]
    },
    {
     "name": "stderr",
     "output_type": "stream",
     "text": [
      "\r",
      "  1%|          | 1.0/100 [00:05<09:19,  5.65s/it]"
     ]
    },
    {
     "name": "stdout",
     "output_type": "stream",
     "text": [
      "DIGIT: 7\n",
      "EPOCH 1: 5.65258 sec\n",
      "Critic loss: -3.38761\n",
      "Generator loss: -2.09579\n",
      "\n",
      "INFO:tensorflow:Assets written to: models/05-05-21_10:15:28/7/generator/assets\n",
      "INFO:tensorflow:Assets written to: models/05-05-21_10:15:28/7/critic/assets\n"
     ]
    },
    {
     "name": "stderr",
     "output_type": "stream",
     "text": [
      "\r",
      "  2%|▏         | 2.0/100 [00:09<07:36,  4.66s/it]"
     ]
    },
    {
     "name": "stdout",
     "output_type": "stream",
     "text": [
      "DIGIT: 7\n",
      "EPOCH 2: 2.43580 sec\n",
      "Critic loss: -2.84960\n",
      "Generator loss: -1.20548\n",
      "\n"
     ]
    },
    {
     "name": "stderr",
     "output_type": "stream",
     "text": [
      "\r",
      "  3%|▎         | 3.0/100 [00:12<05:56,  3.68s/it]"
     ]
    },
    {
     "name": "stdout",
     "output_type": "stream",
     "text": [
      "DIGIT: 7\n",
      "EPOCH 3: 2.42689 sec\n",
      "Critic loss: -2.87396\n",
      "Generator loss: -1.03851\n",
      "\n"
     ]
    },
    {
     "name": "stderr",
     "output_type": "stream",
     "text": [
      "\r",
      "  4%|▍         | 4.0/100 [00:14<05:08,  3.22s/it]"
     ]
    },
    {
     "name": "stdout",
     "output_type": "stream",
     "text": [
      "DIGIT: 7\n",
      "EPOCH 4: 2.42991 sec\n",
      "Critic loss: -2.54193\n",
      "Generator loss: -0.24102\n",
      "\n"
     ]
    },
    {
     "name": "stderr",
     "output_type": "stream",
     "text": [
      "\r",
      "  5%|▌         | 5.0/100 [00:17<04:41,  2.96s/it]"
     ]
    },
    {
     "name": "stdout",
     "output_type": "stream",
     "text": [
      "DIGIT: 7\n",
      "EPOCH 5: 2.42947 sec\n",
      "Critic loss: -2.50915\n",
      "Generator loss: 0.34199\n",
      "\n"
     ]
    },
    {
     "name": "stderr",
     "output_type": "stream",
     "text": [
      "\r",
      "  6%|▌         | 6.0/100 [00:19<04:24,  2.81s/it]"
     ]
    },
    {
     "name": "stdout",
     "output_type": "stream",
     "text": [
      "DIGIT: 7\n",
      "EPOCH 6: 2.42885 sec\n",
      "Critic loss: -2.02654\n",
      "Generator loss: -0.92449\n",
      "\n"
     ]
    },
    {
     "name": "stderr",
     "output_type": "stream",
     "text": [
      "\r",
      "  7%|▋         | 7.0/100 [00:22<04:12,  2.71s/it]"
     ]
    },
    {
     "name": "stdout",
     "output_type": "stream",
     "text": [
      "DIGIT: 7\n",
      "EPOCH 7: 2.42941 sec\n",
      "Critic loss: -1.53029\n",
      "Generator loss: -2.61704\n",
      "\n"
     ]
    },
    {
     "name": "stderr",
     "output_type": "stream",
     "text": [
      "\r",
      "  8%|▊         | 8.0/100 [00:24<04:03,  2.65s/it]"
     ]
    },
    {
     "name": "stdout",
     "output_type": "stream",
     "text": [
      "DIGIT: 7\n",
      "EPOCH 8: 2.43310 sec\n",
      "Critic loss: -1.60292\n",
      "Generator loss: -3.11657\n",
      "\n"
     ]
    },
    {
     "name": "stderr",
     "output_type": "stream",
     "text": [
      "\r",
      "  9%|▉         | 9.0/100 [00:27<03:57,  2.61s/it]"
     ]
    },
    {
     "name": "stdout",
     "output_type": "stream",
     "text": [
      "DIGIT: 7\n",
      "EPOCH 9: 2.43077 sec\n",
      "Critic loss: -1.74765\n",
      "Generator loss: -4.22587\n",
      "\n"
     ]
    },
    {
     "name": "stderr",
     "output_type": "stream",
     "text": [
      "\r",
      " 10%|█         | 10.0/100 [00:29<03:51,  2.58s/it]"
     ]
    },
    {
     "name": "stdout",
     "output_type": "stream",
     "text": [
      "DIGIT: 7\n",
      "EPOCH 10: 2.42793 sec\n",
      "Critic loss: -1.77792\n",
      "Generator loss: -3.96483\n",
      "\n"
     ]
    },
    {
     "name": "stderr",
     "output_type": "stream",
     "text": [
      "\r",
      " 11%|█         | 11.0/100 [00:32<03:47,  2.56s/it]"
     ]
    },
    {
     "name": "stdout",
     "output_type": "stream",
     "text": [
      "DIGIT: 7\n",
      "EPOCH 11: 2.43172 sec\n",
      "Critic loss: -1.76471\n",
      "Generator loss: -3.89593\n",
      "\n"
     ]
    },
    {
     "name": "stderr",
     "output_type": "stream",
     "text": [
      "\r",
      " 12%|█▏        | 12.0/100 [00:34<03:43,  2.54s/it]"
     ]
    },
    {
     "name": "stdout",
     "output_type": "stream",
     "text": [
      "DIGIT: 7\n",
      "EPOCH 12: 2.43140 sec\n",
      "Critic loss: -1.77921\n",
      "Generator loss: -3.92888\n",
      "\n"
     ]
    },
    {
     "name": "stderr",
     "output_type": "stream",
     "text": [
      "\r",
      " 13%|█▎        | 13.0/100 [00:37<03:40,  2.53s/it]"
     ]
    },
    {
     "name": "stdout",
     "output_type": "stream",
     "text": [
      "DIGIT: 7\n",
      "EPOCH 13: 2.43201 sec\n",
      "Critic loss: -1.78087\n",
      "Generator loss: -3.13350\n",
      "\n"
     ]
    },
    {
     "name": "stderr",
     "output_type": "stream",
     "text": [
      "\r",
      " 14%|█▍        | 14.0/100 [00:39<03:37,  2.53s/it]"
     ]
    },
    {
     "name": "stdout",
     "output_type": "stream",
     "text": [
      "DIGIT: 7\n",
      "EPOCH 14: 2.43212 sec\n",
      "Critic loss: -1.62033\n",
      "Generator loss: -2.54446\n",
      "\n"
     ]
    },
    {
     "name": "stderr",
     "output_type": "stream",
     "text": [
      "\r",
      " 15%|█▌        | 15.0/100 [00:42<03:34,  2.52s/it]"
     ]
    },
    {
     "name": "stdout",
     "output_type": "stream",
     "text": [
      "DIGIT: 7\n",
      "EPOCH 15: 2.43537 sec\n",
      "Critic loss: -1.57600\n",
      "Generator loss: -1.72317\n",
      "\n"
     ]
    },
    {
     "name": "stderr",
     "output_type": "stream",
     "text": [
      "\r",
      " 16%|█▌        | 16.0/100 [00:44<03:31,  2.52s/it]"
     ]
    },
    {
     "name": "stdout",
     "output_type": "stream",
     "text": [
      "DIGIT: 7\n",
      "EPOCH 16: 2.43484 sec\n",
      "Critic loss: -1.78224\n",
      "Generator loss: -0.15327\n",
      "\n"
     ]
    },
    {
     "name": "stderr",
     "output_type": "stream",
     "text": [
      "\r",
      " 17%|█▋        | 17.0/100 [00:47<03:29,  2.52s/it]"
     ]
    },
    {
     "name": "stdout",
     "output_type": "stream",
     "text": [
      "DIGIT: 7\n",
      "EPOCH 17: 2.43440 sec\n",
      "Critic loss: -1.07471\n",
      "Generator loss: -0.64913\n",
      "\n"
     ]
    },
    {
     "name": "stderr",
     "output_type": "stream",
     "text": [
      "\r",
      " 18%|█▊        | 18.0/100 [00:49<03:26,  2.52s/it]"
     ]
    },
    {
     "name": "stdout",
     "output_type": "stream",
     "text": [
      "DIGIT: 7\n",
      "EPOCH 18: 2.43647 sec\n",
      "Critic loss: -1.04865\n",
      "Generator loss: -2.13803\n",
      "\n"
     ]
    },
    {
     "name": "stderr",
     "output_type": "stream",
     "text": [
      "\r",
      " 19%|█▉        | 19.0/100 [00:52<03:24,  2.52s/it]"
     ]
    },
    {
     "name": "stdout",
     "output_type": "stream",
     "text": [
      "DIGIT: 7\n",
      "EPOCH 19: 2.43497 sec\n",
      "Critic loss: -1.03534\n",
      "Generator loss: -1.32304\n",
      "\n"
     ]
    },
    {
     "name": "stderr",
     "output_type": "stream",
     "text": [
      "\r",
      " 20%|██        | 20.0/100 [00:54<03:21,  2.52s/it]"
     ]
    },
    {
     "name": "stdout",
     "output_type": "stream",
     "text": [
      "DIGIT: 7\n",
      "EPOCH 20: 2.43563 sec\n",
      "Critic loss: -1.08419\n",
      "Generator loss: -0.45136\n",
      "\n"
     ]
    },
    {
     "name": "stderr",
     "output_type": "stream",
     "text": [
      "\r",
      " 21%|██        | 21.0/100 [00:57<03:18,  2.52s/it]"
     ]
    },
    {
     "name": "stdout",
     "output_type": "stream",
     "text": [
      "DIGIT: 7\n",
      "EPOCH 21: 2.43620 sec\n",
      "Critic loss: -1.18248\n",
      "Generator loss: 0.65692\n",
      "\n",
      "INFO:tensorflow:Assets written to: models/05-05-21_10:15:28/7/generator/assets\n",
      "INFO:tensorflow:Assets written to: models/05-05-21_10:15:28/7/critic/assets\n"
     ]
    },
    {
     "name": "stderr",
     "output_type": "stream",
     "text": [
      "\r",
      " 22%|██▏       | 22.0/100 [01:01<03:48,  2.93s/it]"
     ]
    },
    {
     "name": "stdout",
     "output_type": "stream",
     "text": [
      "DIGIT: 7\n",
      "EPOCH 22: 2.43593 sec\n",
      "Critic loss: -0.66404\n",
      "Generator loss: -0.14936\n",
      "\n"
     ]
    },
    {
     "name": "stderr",
     "output_type": "stream",
     "text": [
      "\r",
      " 23%|██▎       | 23.0/100 [01:03<03:36,  2.81s/it]"
     ]
    },
    {
     "name": "stdout",
     "output_type": "stream",
     "text": [
      "DIGIT: 7\n",
      "EPOCH 23: 2.43239 sec\n",
      "Critic loss: -0.58107\n",
      "Generator loss: -0.02766\n",
      "\n"
     ]
    },
    {
     "name": "stderr",
     "output_type": "stream",
     "text": [
      "\r",
      " 24%|██▍       | 24.0/100 [01:06<03:26,  2.72s/it]"
     ]
    },
    {
     "name": "stdout",
     "output_type": "stream",
     "text": [
      "DIGIT: 7\n",
      "EPOCH 24: 2.43200 sec\n",
      "Critic loss: -0.36792\n",
      "Generator loss: -0.30694\n",
      "\n"
     ]
    },
    {
     "name": "stderr",
     "output_type": "stream",
     "text": [
      "\r",
      " 25%|██▌       | 25.0/100 [01:08<03:19,  2.66s/it]"
     ]
    },
    {
     "name": "stdout",
     "output_type": "stream",
     "text": [
      "DIGIT: 7\n",
      "EPOCH 25: 2.43274 sec\n",
      "Critic loss: -0.53348\n",
      "Generator loss: -0.28708\n",
      "\n"
     ]
    },
    {
     "name": "stderr",
     "output_type": "stream",
     "text": [
      "\r",
      " 26%|██▌       | 26.0/100 [01:11<03:13,  2.61s/it]"
     ]
    },
    {
     "name": "stdout",
     "output_type": "stream",
     "text": [
      "DIGIT: 7\n",
      "EPOCH 26: 2.43269 sec\n",
      "Critic loss: -0.16104\n",
      "Generator loss: -0.28127\n",
      "\n"
     ]
    },
    {
     "name": "stderr",
     "output_type": "stream",
     "text": [
      "\r",
      " 27%|██▋       | 27.0/100 [01:13<03:08,  2.59s/it]"
     ]
    },
    {
     "name": "stdout",
     "output_type": "stream",
     "text": [
      "DIGIT: 7\n",
      "EPOCH 27: 2.43378 sec\n",
      "Critic loss: -0.21920\n",
      "Generator loss: -0.22785\n",
      "\n"
     ]
    },
    {
     "name": "stderr",
     "output_type": "stream",
     "text": [
      "\r",
      " 28%|██▊       | 28.0/100 [01:16<03:04,  2.57s/it]"
     ]
    },
    {
     "name": "stdout",
     "output_type": "stream",
     "text": [
      "DIGIT: 7\n",
      "EPOCH 28: 2.43610 sec\n",
      "Critic loss: -0.17222\n",
      "Generator loss: 0.18964\n",
      "\n"
     ]
    },
    {
     "name": "stderr",
     "output_type": "stream",
     "text": [
      "\r",
      " 29%|██▉       | 29.0/100 [01:18<03:01,  2.55s/it]"
     ]
    },
    {
     "name": "stdout",
     "output_type": "stream",
     "text": [
      "DIGIT: 7\n",
      "EPOCH 29: 2.43446 sec\n",
      "Critic loss: -0.17165\n",
      "Generator loss: 0.58327\n",
      "\n"
     ]
    },
    {
     "name": "stderr",
     "output_type": "stream",
     "text": [
      "\r",
      " 30%|███       | 30.0/100 [01:21<02:57,  2.54s/it]"
     ]
    },
    {
     "name": "stdout",
     "output_type": "stream",
     "text": [
      "DIGIT: 7\n",
      "EPOCH 30: 2.42977 sec\n",
      "Critic loss: -0.20482\n",
      "Generator loss: 0.79471\n",
      "\n"
     ]
    },
    {
     "name": "stderr",
     "output_type": "stream",
     "text": [
      "\r",
      " 31%|███       | 31.0/100 [01:23<02:54,  2.53s/it]"
     ]
    },
    {
     "name": "stdout",
     "output_type": "stream",
     "text": [
      "DIGIT: 7\n",
      "EPOCH 31: 2.43564 sec\n",
      "Critic loss: -0.17248\n",
      "Generator loss: 0.80678\n",
      "\n"
     ]
    },
    {
     "name": "stderr",
     "output_type": "stream",
     "text": [
      "\r",
      " 32%|███▏      | 32.0/100 [01:26<02:51,  2.53s/it]"
     ]
    },
    {
     "name": "stdout",
     "output_type": "stream",
     "text": [
      "DIGIT: 7\n",
      "EPOCH 32: 2.43266 sec\n",
      "Critic loss: -0.14758\n",
      "Generator loss: 0.07473\n",
      "\n"
     ]
    },
    {
     "name": "stderr",
     "output_type": "stream",
     "text": [
      "\r",
      " 33%|███▎      | 33.0/100 [01:28<02:49,  2.52s/it]"
     ]
    },
    {
     "name": "stdout",
     "output_type": "stream",
     "text": [
      "DIGIT: 7\n",
      "EPOCH 33: 2.43282 sec\n",
      "Critic loss: -0.12003\n",
      "Generator loss: 0.31519\n",
      "\n"
     ]
    },
    {
     "name": "stderr",
     "output_type": "stream",
     "text": [
      "\r",
      " 34%|███▍      | 34.0/100 [01:31<02:46,  2.52s/it]"
     ]
    },
    {
     "name": "stdout",
     "output_type": "stream",
     "text": [
      "DIGIT: 7\n",
      "EPOCH 34: 2.43370 sec\n",
      "Critic loss: -0.12712\n",
      "Generator loss: -0.07695\n",
      "\n"
     ]
    },
    {
     "name": "stderr",
     "output_type": "stream",
     "text": [
      "\r",
      " 35%|███▌      | 35.0/100 [01:33<02:43,  2.52s/it]"
     ]
    },
    {
     "name": "stdout",
     "output_type": "stream",
     "text": [
      "DIGIT: 7\n",
      "EPOCH 35: 2.43480 sec\n",
      "Critic loss: -0.13382\n",
      "Generator loss: 0.00506\n",
      "\n"
     ]
    },
    {
     "name": "stderr",
     "output_type": "stream",
     "text": [
      "\r",
      " 36%|███▌      | 36.0/100 [01:36<02:41,  2.52s/it]"
     ]
    },
    {
     "name": "stdout",
     "output_type": "stream",
     "text": [
      "DIGIT: 7\n",
      "EPOCH 36: 2.43808 sec\n",
      "Critic loss: -0.15040\n",
      "Generator loss: 0.41484\n",
      "\n"
     ]
    },
    {
     "name": "stderr",
     "output_type": "stream",
     "text": [
      "\r",
      " 37%|███▋      | 37.0/100 [01:39<02:38,  2.52s/it]"
     ]
    },
    {
     "name": "stdout",
     "output_type": "stream",
     "text": [
      "DIGIT: 7\n",
      "EPOCH 37: 2.43239 sec\n",
      "Critic loss: -0.18346\n",
      "Generator loss: 0.08536\n",
      "\n"
     ]
    },
    {
     "name": "stderr",
     "output_type": "stream",
     "text": [
      "\r",
      " 38%|███▊      | 38.0/100 [01:41<02:36,  2.52s/it]"
     ]
    },
    {
     "name": "stdout",
     "output_type": "stream",
     "text": [
      "DIGIT: 7\n",
      "EPOCH 38: 2.43144 sec\n",
      "Critic loss: -0.14357\n",
      "Generator loss: 0.68836\n",
      "\n"
     ]
    },
    {
     "name": "stderr",
     "output_type": "stream",
     "text": [
      "\r",
      " 39%|███▉      | 39.0/100 [01:44<02:33,  2.52s/it]"
     ]
    },
    {
     "name": "stdout",
     "output_type": "stream",
     "text": [
      "DIGIT: 7\n",
      "EPOCH 39: 2.43468 sec\n",
      "Critic loss: -0.19582\n",
      "Generator loss: 1.27748\n",
      "\n"
     ]
    },
    {
     "name": "stderr",
     "output_type": "stream",
     "text": [
      "\r",
      " 40%|████      | 40.0/100 [01:46<02:30,  2.52s/it]"
     ]
    },
    {
     "name": "stdout",
     "output_type": "stream",
     "text": [
      "DIGIT: 7\n",
      "EPOCH 40: 2.43331 sec\n",
      "Critic loss: -0.21848\n",
      "Generator loss: 0.81392\n",
      "\n"
     ]
    },
    {
     "name": "stderr",
     "output_type": "stream",
     "text": [
      "\r",
      " 41%|████      | 41.0/100 [01:49<02:28,  2.52s/it]"
     ]
    },
    {
     "name": "stdout",
     "output_type": "stream",
     "text": [
      "DIGIT: 7\n",
      "EPOCH 41: 2.43596 sec\n",
      "Critic loss: -0.17824\n",
      "Generator loss: 0.86376\n",
      "\n",
      "INFO:tensorflow:Assets written to: models/05-05-21_10:15:28/7/generator/assets\n",
      "INFO:tensorflow:Assets written to: models/05-05-21_10:15:28/7/critic/assets\n"
     ]
    },
    {
     "name": "stderr",
     "output_type": "stream",
     "text": [
      "\r",
      " 42%|████▏     | 42.0/100 [01:53<02:51,  2.96s/it]"
     ]
    },
    {
     "name": "stdout",
     "output_type": "stream",
     "text": [
      "DIGIT: 7\n",
      "EPOCH 42: 2.43582 sec\n",
      "Critic loss: -0.18940\n",
      "Generator loss: 1.30362\n",
      "\n"
     ]
    },
    {
     "name": "stderr",
     "output_type": "stream",
     "text": [
      "\r",
      " 43%|████▎     | 43.0/100 [01:55<02:41,  2.83s/it]"
     ]
    },
    {
     "name": "stdout",
     "output_type": "stream",
     "text": [
      "DIGIT: 7\n",
      "EPOCH 43: 2.43511 sec\n",
      "Critic loss: -0.24904\n",
      "Generator loss: 0.53041\n",
      "\n"
     ]
    },
    {
     "name": "stderr",
     "output_type": "stream",
     "text": [
      "\r",
      " 44%|████▍     | 44.0/100 [01:58<02:33,  2.74s/it]"
     ]
    },
    {
     "name": "stdout",
     "output_type": "stream",
     "text": [
      "DIGIT: 7\n",
      "EPOCH 44: 2.44347 sec\n",
      "Critic loss: -0.18748\n",
      "Generator loss: 0.81827\n",
      "\n"
     ]
    },
    {
     "name": "stderr",
     "output_type": "stream",
     "text": [
      "\r",
      " 45%|████▌     | 45.0/100 [02:00<02:27,  2.68s/it]"
     ]
    },
    {
     "name": "stdout",
     "output_type": "stream",
     "text": [
      "DIGIT: 7\n",
      "EPOCH 45: 2.45137 sec\n",
      "Critic loss: -0.15926\n",
      "Generator loss: 0.73195\n",
      "\n"
     ]
    },
    {
     "name": "stderr",
     "output_type": "stream",
     "text": [
      "\r",
      " 46%|████▌     | 46.0/100 [02:03<02:21,  2.63s/it]"
     ]
    },
    {
     "name": "stdout",
     "output_type": "stream",
     "text": [
      "DIGIT: 7\n",
      "EPOCH 46: 2.43219 sec\n",
      "Critic loss: -0.26087\n",
      "Generator loss: 0.53253\n",
      "\n"
     ]
    },
    {
     "name": "stderr",
     "output_type": "stream",
     "text": [
      "\r",
      " 47%|████▋     | 47.0/100 [02:05<02:17,  2.59s/it]"
     ]
    },
    {
     "name": "stdout",
     "output_type": "stream",
     "text": [
      "DIGIT: 7\n",
      "EPOCH 47: 2.43513 sec\n",
      "Critic loss: -0.21802\n",
      "Generator loss: 0.35589\n",
      "\n"
     ]
    },
    {
     "name": "stderr",
     "output_type": "stream",
     "text": [
      "\r",
      " 48%|████▊     | 48.0/100 [02:08<02:13,  2.57s/it]"
     ]
    },
    {
     "name": "stdout",
     "output_type": "stream",
     "text": [
      "DIGIT: 7\n",
      "EPOCH 48: 2.43228 sec\n",
      "Critic loss: -0.19725\n",
      "Generator loss: 0.70608\n",
      "\n"
     ]
    },
    {
     "name": "stderr",
     "output_type": "stream",
     "text": [
      "\r",
      " 49%|████▉     | 49.0/100 [02:10<02:10,  2.55s/it]"
     ]
    },
    {
     "name": "stdout",
     "output_type": "stream",
     "text": [
      "DIGIT: 7\n",
      "EPOCH 49: 2.43600 sec\n",
      "Critic loss: -0.04454\n",
      "Generator loss: 0.56307\n",
      "\n"
     ]
    },
    {
     "name": "stderr",
     "output_type": "stream",
     "text": [
      "\r",
      " 50%|█████     | 50.0/100 [02:13<02:07,  2.54s/it]"
     ]
    },
    {
     "name": "stdout",
     "output_type": "stream",
     "text": [
      "DIGIT: 7\n",
      "EPOCH 50: 2.43719 sec\n",
      "Critic loss: -0.17508\n",
      "Generator loss: 0.78667\n",
      "\n"
     ]
    },
    {
     "name": "stderr",
     "output_type": "stream",
     "text": [
      "\r",
      " 51%|█████     | 51.0/100 [02:15<02:04,  2.54s/it]"
     ]
    },
    {
     "name": "stdout",
     "output_type": "stream",
     "text": [
      "DIGIT: 7\n",
      "EPOCH 51: 2.43517 sec\n",
      "Critic loss: -0.20193\n",
      "Generator loss: 1.03531\n",
      "\n"
     ]
    },
    {
     "name": "stderr",
     "output_type": "stream",
     "text": [
      "\r",
      " 52%|█████▏    | 52.0/100 [02:18<02:01,  2.53s/it]"
     ]
    },
    {
     "name": "stdout",
     "output_type": "stream",
     "text": [
      "DIGIT: 7\n",
      "EPOCH 52: 2.43143 sec\n",
      "Critic loss: -0.16958\n",
      "Generator loss: 0.90965\n",
      "\n"
     ]
    },
    {
     "name": "stderr",
     "output_type": "stream",
     "text": [
      "\r",
      " 53%|█████▎    | 53.0/100 [02:20<01:58,  2.53s/it]"
     ]
    },
    {
     "name": "stdout",
     "output_type": "stream",
     "text": [
      "DIGIT: 7\n",
      "EPOCH 53: 2.43504 sec\n",
      "Critic loss: -0.12412\n",
      "Generator loss: 0.40036\n",
      "\n"
     ]
    },
    {
     "name": "stderr",
     "output_type": "stream",
     "text": [
      "\r",
      " 54%|█████▍    | 54.0/100 [02:23<01:56,  2.52s/it]"
     ]
    },
    {
     "name": "stdout",
     "output_type": "stream",
     "text": [
      "DIGIT: 7\n",
      "EPOCH 54: 2.43639 sec\n",
      "Critic loss: -0.17077\n",
      "Generator loss: 0.10003\n",
      "\n"
     ]
    },
    {
     "name": "stderr",
     "output_type": "stream",
     "text": [
      "\r",
      " 55%|█████▌    | 55.0/100 [02:25<01:53,  2.52s/it]"
     ]
    },
    {
     "name": "stdout",
     "output_type": "stream",
     "text": [
      "DIGIT: 7\n",
      "EPOCH 55: 2.43638 sec\n",
      "Critic loss: -0.22235\n",
      "Generator loss: 0.67544\n",
      "\n"
     ]
    },
    {
     "name": "stderr",
     "output_type": "stream",
     "text": [
      "\r",
      " 56%|█████▌    | 56.0/100 [02:28<01:50,  2.52s/it]"
     ]
    },
    {
     "name": "stdout",
     "output_type": "stream",
     "text": [
      "DIGIT: 7\n",
      "EPOCH 56: 2.43228 sec\n",
      "Critic loss: -0.16082\n",
      "Generator loss: 0.10720\n",
      "\n"
     ]
    },
    {
     "name": "stderr",
     "output_type": "stream",
     "text": [
      "\r",
      " 57%|█████▋    | 57.0/100 [02:30<01:48,  2.52s/it]"
     ]
    },
    {
     "name": "stdout",
     "output_type": "stream",
     "text": [
      "DIGIT: 7\n",
      "EPOCH 57: 2.43585 sec\n",
      "Critic loss: -0.20489\n",
      "Generator loss: 0.88091\n",
      "\n"
     ]
    },
    {
     "name": "stderr",
     "output_type": "stream",
     "text": [
      "\r",
      " 58%|█████▊    | 58.0/100 [02:33<01:45,  2.52s/it]"
     ]
    },
    {
     "name": "stdout",
     "output_type": "stream",
     "text": [
      "DIGIT: 7\n",
      "EPOCH 58: 2.43393 sec\n",
      "Critic loss: -0.15054\n",
      "Generator loss: 0.12386\n",
      "\n"
     ]
    },
    {
     "name": "stderr",
     "output_type": "stream",
     "text": [
      "\r",
      " 59%|█████▉    | 59.0/100 [02:35<01:43,  2.52s/it]"
     ]
    },
    {
     "name": "stdout",
     "output_type": "stream",
     "text": [
      "DIGIT: 7\n",
      "EPOCH 59: 2.43740 sec\n",
      "Critic loss: -0.15010\n",
      "Generator loss: 0.68515\n",
      "\n"
     ]
    },
    {
     "name": "stderr",
     "output_type": "stream",
     "text": [
      "\r",
      " 60%|██████    | 60.0/100 [02:38<01:40,  2.52s/it]"
     ]
    },
    {
     "name": "stdout",
     "output_type": "stream",
     "text": [
      "DIGIT: 7\n",
      "EPOCH 60: 2.43464 sec\n",
      "Critic loss: -0.19147\n",
      "Generator loss: 0.61196\n",
      "\n"
     ]
    },
    {
     "name": "stderr",
     "output_type": "stream",
     "text": [
      "\r",
      " 61%|██████    | 61.0/100 [02:40<01:38,  2.52s/it]"
     ]
    },
    {
     "name": "stdout",
     "output_type": "stream",
     "text": [
      "DIGIT: 7\n",
      "EPOCH 61: 2.43684 sec\n",
      "Critic loss: -0.14979\n",
      "Generator loss: -0.32160\n",
      "\n",
      "INFO:tensorflow:Assets written to: models/05-05-21_10:15:28/7/generator/assets\n",
      "INFO:tensorflow:Assets written to: models/05-05-21_10:15:28/7/critic/assets\n"
     ]
    },
    {
     "name": "stderr",
     "output_type": "stream",
     "text": [
      "\r",
      " 62%|██████▏   | 62.0/100 [02:44<01:51,  2.94s/it]"
     ]
    },
    {
     "name": "stdout",
     "output_type": "stream",
     "text": [
      "DIGIT: 7\n",
      "EPOCH 62: 2.43320 sec\n",
      "Critic loss: -0.14476\n",
      "Generator loss: 0.00227\n",
      "\n"
     ]
    },
    {
     "name": "stderr",
     "output_type": "stream",
     "text": [
      "\r",
      " 63%|██████▎   | 63.0/100 [02:47<01:43,  2.81s/it]"
     ]
    },
    {
     "name": "stdout",
     "output_type": "stream",
     "text": [
      "DIGIT: 7\n",
      "EPOCH 63: 2.43629 sec\n",
      "Critic loss: -0.15670\n",
      "Generator loss: -0.06989\n",
      "\n"
     ]
    },
    {
     "name": "stderr",
     "output_type": "stream",
     "text": [
      "\r",
      " 64%|██████▍   | 64.0/100 [02:49<01:38,  2.72s/it]"
     ]
    },
    {
     "name": "stdout",
     "output_type": "stream",
     "text": [
      "DIGIT: 7\n",
      "EPOCH 64: 2.43724 sec\n",
      "Critic loss: -0.15724\n",
      "Generator loss: -0.40005\n",
      "\n"
     ]
    },
    {
     "name": "stderr",
     "output_type": "stream",
     "text": [
      "\r",
      " 65%|██████▌   | 65.0/100 [02:52<01:33,  2.66s/it]"
     ]
    },
    {
     "name": "stdout",
     "output_type": "stream",
     "text": [
      "DIGIT: 7\n",
      "EPOCH 65: 2.43333 sec\n",
      "Critic loss: -0.14205\n",
      "Generator loss: -0.06000\n",
      "\n"
     ]
    },
    {
     "name": "stderr",
     "output_type": "stream",
     "text": [
      "\r",
      " 66%|██████▌   | 66.0/100 [02:54<01:29,  2.62s/it]"
     ]
    },
    {
     "name": "stdout",
     "output_type": "stream",
     "text": [
      "DIGIT: 7\n",
      "EPOCH 66: 2.43462 sec\n",
      "Critic loss: -0.17277\n",
      "Generator loss: -0.48694\n",
      "\n"
     ]
    },
    {
     "name": "stderr",
     "output_type": "stream",
     "text": [
      "\r",
      " 67%|██████▋   | 67.0/100 [02:57<01:25,  2.59s/it]"
     ]
    },
    {
     "name": "stdout",
     "output_type": "stream",
     "text": [
      "DIGIT: 7\n",
      "EPOCH 67: 2.43592 sec\n",
      "Critic loss: -0.16806\n",
      "Generator loss: -0.01317\n",
      "\n"
     ]
    },
    {
     "name": "stderr",
     "output_type": "stream",
     "text": [
      "\r",
      " 68%|██████▊   | 68.0/100 [02:59<01:22,  2.57s/it]"
     ]
    },
    {
     "name": "stdout",
     "output_type": "stream",
     "text": [
      "DIGIT: 7\n",
      "EPOCH 68: 2.43618 sec\n",
      "Critic loss: -0.14513\n",
      "Generator loss: -1.08307\n",
      "\n"
     ]
    },
    {
     "name": "stderr",
     "output_type": "stream",
     "text": [
      "\r",
      " 69%|██████▉   | 69.0/100 [03:02<01:19,  2.55s/it]"
     ]
    },
    {
     "name": "stdout",
     "output_type": "stream",
     "text": [
      "DIGIT: 7\n",
      "EPOCH 69: 2.43593 sec\n",
      "Critic loss: -0.17675\n",
      "Generator loss: -0.27450\n",
      "\n"
     ]
    },
    {
     "name": "stderr",
     "output_type": "stream",
     "text": [
      "\r",
      " 70%|███████   | 70.0/100 [03:04<01:16,  2.54s/it]"
     ]
    },
    {
     "name": "stdout",
     "output_type": "stream",
     "text": [
      "DIGIT: 7\n",
      "EPOCH 70: 2.43404 sec\n",
      "Critic loss: -0.12263\n",
      "Generator loss: -0.52613\n",
      "\n"
     ]
    },
    {
     "name": "stderr",
     "output_type": "stream",
     "text": [
      "\r",
      " 71%|███████   | 71.0/100 [03:07<01:13,  2.53s/it]"
     ]
    },
    {
     "name": "stdout",
     "output_type": "stream",
     "text": [
      "DIGIT: 7\n",
      "EPOCH 71: 2.43801 sec\n",
      "Critic loss: -0.12931\n",
      "Generator loss: -0.41594\n",
      "\n"
     ]
    },
    {
     "name": "stderr",
     "output_type": "stream",
     "text": [
      "\r",
      " 72%|███████▏  | 72.0/100 [03:10<01:10,  2.53s/it]"
     ]
    },
    {
     "name": "stdout",
     "output_type": "stream",
     "text": [
      "DIGIT: 7\n",
      "EPOCH 72: 2.43392 sec\n",
      "Critic loss: -0.15517\n",
      "Generator loss: -0.17435\n",
      "\n"
     ]
    },
    {
     "name": "stderr",
     "output_type": "stream",
     "text": [
      "\r",
      " 73%|███████▎  | 73.0/100 [03:12<01:08,  2.53s/it]"
     ]
    },
    {
     "name": "stdout",
     "output_type": "stream",
     "text": [
      "DIGIT: 7\n",
      "EPOCH 73: 2.43762 sec\n",
      "Critic loss: -0.12886\n",
      "Generator loss: -0.09994\n",
      "\n"
     ]
    },
    {
     "name": "stderr",
     "output_type": "stream",
     "text": [
      "\r",
      " 74%|███████▍  | 74.0/100 [03:15<01:05,  2.52s/it]"
     ]
    },
    {
     "name": "stdout",
     "output_type": "stream",
     "text": [
      "DIGIT: 7\n",
      "EPOCH 74: 2.43169 sec\n",
      "Critic loss: -0.14568\n",
      "Generator loss: -0.18964\n",
      "\n"
     ]
    },
    {
     "name": "stderr",
     "output_type": "stream",
     "text": [
      "\r",
      " 75%|███████▌  | 75.0/100 [03:17<01:03,  2.52s/it]"
     ]
    },
    {
     "name": "stdout",
     "output_type": "stream",
     "text": [
      "DIGIT: 7\n",
      "EPOCH 75: 2.43573 sec\n",
      "Critic loss: -0.15056\n",
      "Generator loss: -0.76215\n",
      "\n"
     ]
    },
    {
     "name": "stderr",
     "output_type": "stream",
     "text": [
      "\r",
      " 76%|███████▌  | 76.0/100 [03:20<01:00,  2.52s/it]"
     ]
    },
    {
     "name": "stdout",
     "output_type": "stream",
     "text": [
      "DIGIT: 7\n",
      "EPOCH 76: 2.43654 sec\n",
      "Critic loss: -0.11811\n",
      "Generator loss: -0.15840\n",
      "\n"
     ]
    },
    {
     "name": "stderr",
     "output_type": "stream",
     "text": [
      "\r",
      " 77%|███████▋  | 77.0/100 [03:22<00:57,  2.52s/it]"
     ]
    },
    {
     "name": "stdout",
     "output_type": "stream",
     "text": [
      "DIGIT: 7\n",
      "EPOCH 77: 2.43147 sec\n",
      "Critic loss: -0.14877\n",
      "Generator loss: -0.89355\n",
      "\n"
     ]
    },
    {
     "name": "stderr",
     "output_type": "stream",
     "text": [
      "\r",
      " 78%|███████▊  | 78.0/100 [03:25<00:55,  2.52s/it]"
     ]
    },
    {
     "name": "stdout",
     "output_type": "stream",
     "text": [
      "DIGIT: 7\n",
      "EPOCH 78: 2.43234 sec\n",
      "Critic loss: -0.13323\n",
      "Generator loss: -0.96059\n",
      "\n"
     ]
    },
    {
     "name": "stderr",
     "output_type": "stream",
     "text": [
      "\r",
      " 79%|███████▉  | 79.0/100 [03:27<00:52,  2.52s/it]"
     ]
    },
    {
     "name": "stdout",
     "output_type": "stream",
     "text": [
      "DIGIT: 7\n",
      "EPOCH 79: 2.43546 sec\n",
      "Critic loss: -0.12441\n",
      "Generator loss: -0.31934\n",
      "\n"
     ]
    },
    {
     "name": "stderr",
     "output_type": "stream",
     "text": [
      "\r",
      " 80%|████████  | 80.0/100 [03:30<00:50,  2.52s/it]"
     ]
    },
    {
     "name": "stdout",
     "output_type": "stream",
     "text": [
      "DIGIT: 7\n",
      "EPOCH 80: 2.43229 sec\n",
      "Critic loss: -0.11414\n",
      "Generator loss: 0.05174\n",
      "\n"
     ]
    },
    {
     "name": "stderr",
     "output_type": "stream",
     "text": [
      "\r",
      " 81%|████████  | 81.0/100 [03:32<00:47,  2.52s/it]"
     ]
    },
    {
     "name": "stdout",
     "output_type": "stream",
     "text": [
      "DIGIT: 7\n",
      "EPOCH 81: 2.43325 sec\n",
      "Critic loss: -0.11101\n",
      "Generator loss: -0.48866\n",
      "\n",
      "INFO:tensorflow:Assets written to: models/05-05-21_10:15:28/7/generator/assets\n",
      "INFO:tensorflow:Assets written to: models/05-05-21_10:15:28/7/critic/assets\n"
     ]
    },
    {
     "name": "stderr",
     "output_type": "stream",
     "text": [
      "\r",
      " 82%|████████▏ | 82.0/100 [03:36<00:53,  2.96s/it]"
     ]
    },
    {
     "name": "stdout",
     "output_type": "stream",
     "text": [
      "DIGIT: 7\n",
      "EPOCH 82: 2.43622 sec\n",
      "Critic loss: -0.14740\n",
      "Generator loss: -0.61581\n",
      "\n"
     ]
    },
    {
     "name": "stderr",
     "output_type": "stream",
     "text": [
      "\r",
      " 83%|████████▎ | 83.0/100 [03:39<00:48,  2.83s/it]"
     ]
    },
    {
     "name": "stdout",
     "output_type": "stream",
     "text": [
      "DIGIT: 7\n",
      "EPOCH 83: 2.43514 sec\n",
      "Critic loss: -0.13326\n",
      "Generator loss: -0.01134\n",
      "\n"
     ]
    },
    {
     "name": "stderr",
     "output_type": "stream",
     "text": [
      "\r",
      " 84%|████████▍ | 84.0/100 [03:41<00:43,  2.73s/it]"
     ]
    },
    {
     "name": "stdout",
     "output_type": "stream",
     "text": [
      "DIGIT: 7\n",
      "EPOCH 84: 2.43372 sec\n",
      "Critic loss: -0.11751\n",
      "Generator loss: 0.17952\n",
      "\n"
     ]
    },
    {
     "name": "stderr",
     "output_type": "stream",
     "text": [
      "\r",
      " 85%|████████▌ | 85.0/100 [03:44<00:40,  2.68s/it]"
     ]
    },
    {
     "name": "stdout",
     "output_type": "stream",
     "text": [
      "DIGIT: 7\n",
      "EPOCH 85: 2.46515 sec\n",
      "Critic loss: -0.12999\n",
      "Generator loss: -0.88252\n",
      "\n"
     ]
    },
    {
     "name": "stderr",
     "output_type": "stream",
     "text": [
      "\r",
      " 86%|████████▌ | 86.0/100 [03:46<00:37,  2.66s/it]"
     ]
    },
    {
     "name": "stdout",
     "output_type": "stream",
     "text": [
      "DIGIT: 7\n",
      "EPOCH 86: 2.54979 sec\n",
      "Critic loss: -0.12487\n",
      "Generator loss: 0.40118\n",
      "\n"
     ]
    },
    {
     "name": "stderr",
     "output_type": "stream",
     "text": [
      "\r",
      " 87%|████████▋ | 87.0/100 [03:49<00:34,  2.64s/it]"
     ]
    },
    {
     "name": "stdout",
     "output_type": "stream",
     "text": [
      "DIGIT: 7\n",
      "EPOCH 87: 2.47469 sec\n",
      "Critic loss: -0.11665\n",
      "Generator loss: -0.12529\n",
      "\n"
     ]
    },
    {
     "name": "stderr",
     "output_type": "stream",
     "text": [
      "\r",
      " 88%|████████▊ | 88.0/100 [03:51<00:31,  2.60s/it]"
     ]
    },
    {
     "name": "stdout",
     "output_type": "stream",
     "text": [
      "DIGIT: 7\n",
      "EPOCH 88: 2.43645 sec\n",
      "Critic loss: -0.10473\n",
      "Generator loss: 0.17350\n",
      "\n"
     ]
    },
    {
     "name": "stderr",
     "output_type": "stream",
     "text": [
      "\r",
      " 89%|████████▉ | 89.0/100 [03:54<00:28,  2.58s/it]"
     ]
    },
    {
     "name": "stdout",
     "output_type": "stream",
     "text": [
      "DIGIT: 7\n",
      "EPOCH 89: 2.43633 sec\n",
      "Critic loss: -0.10358\n",
      "Generator loss: -0.06946\n",
      "\n"
     ]
    },
    {
     "name": "stderr",
     "output_type": "stream",
     "text": [
      "\r",
      " 90%|█████████ | 90.0/100 [03:57<00:25,  2.57s/it]"
     ]
    },
    {
     "name": "stdout",
     "output_type": "stream",
     "text": [
      "DIGIT: 7\n",
      "EPOCH 90: 2.46936 sec\n",
      "Critic loss: -0.11225\n",
      "Generator loss: 0.43663\n",
      "\n"
     ]
    },
    {
     "name": "stderr",
     "output_type": "stream",
     "text": [
      "\r",
      " 91%|█████████ | 91.0/100 [03:59<00:23,  2.56s/it]"
     ]
    },
    {
     "name": "stdout",
     "output_type": "stream",
     "text": [
      "DIGIT: 7\n",
      "EPOCH 91: 2.45223 sec\n",
      "Critic loss: -0.10852\n",
      "Generator loss: -0.70836\n",
      "\n"
     ]
    },
    {
     "name": "stderr",
     "output_type": "stream",
     "text": [
      "\r",
      " 92%|█████████▏| 92.0/100 [04:02<00:20,  2.55s/it]"
     ]
    },
    {
     "name": "stdout",
     "output_type": "stream",
     "text": [
      "DIGIT: 7\n",
      "EPOCH 92: 2.43626 sec\n",
      "Critic loss: -0.12710\n",
      "Generator loss: 0.28347\n",
      "\n"
     ]
    },
    {
     "name": "stderr",
     "output_type": "stream",
     "text": [
      "\r",
      " 93%|█████████▎| 93.0/100 [04:04<00:17,  2.54s/it]"
     ]
    },
    {
     "name": "stdout",
     "output_type": "stream",
     "text": [
      "DIGIT: 7\n",
      "EPOCH 93: 2.43714 sec\n",
      "Critic loss: -0.10440\n",
      "Generator loss: -0.04238\n",
      "\n"
     ]
    },
    {
     "name": "stderr",
     "output_type": "stream",
     "text": [
      "\r",
      " 94%|█████████▍| 94.0/100 [04:07<00:15,  2.53s/it]"
     ]
    },
    {
     "name": "stdout",
     "output_type": "stream",
     "text": [
      "DIGIT: 7\n",
      "EPOCH 94: 2.43590 sec\n",
      "Critic loss: -0.11507\n",
      "Generator loss: 0.51997\n",
      "\n"
     ]
    },
    {
     "name": "stderr",
     "output_type": "stream",
     "text": [
      "\r",
      " 95%|█████████▌| 95.0/100 [04:09<00:12,  2.53s/it]"
     ]
    },
    {
     "name": "stdout",
     "output_type": "stream",
     "text": [
      "DIGIT: 7\n",
      "EPOCH 95: 2.43476 sec\n",
      "Critic loss: -0.05994\n",
      "Generator loss: -0.57257\n",
      "\n"
     ]
    },
    {
     "name": "stderr",
     "output_type": "stream",
     "text": [
      "\r",
      " 96%|█████████▌| 96.0/100 [04:12<00:10,  2.53s/it]"
     ]
    },
    {
     "name": "stdout",
     "output_type": "stream",
     "text": [
      "DIGIT: 7\n",
      "EPOCH 96: 2.43692 sec\n",
      "Critic loss: -0.11416\n",
      "Generator loss: -0.41093\n",
      "\n"
     ]
    },
    {
     "name": "stderr",
     "output_type": "stream",
     "text": [
      "\r",
      " 97%|█████████▋| 97.0/100 [04:14<00:07,  2.52s/it]"
     ]
    },
    {
     "name": "stdout",
     "output_type": "stream",
     "text": [
      "DIGIT: 7\n",
      "EPOCH 97: 2.43434 sec\n",
      "Critic loss: -0.11204\n",
      "Generator loss: -0.12050\n",
      "\n"
     ]
    },
    {
     "name": "stderr",
     "output_type": "stream",
     "text": [
      "\r",
      " 98%|█████████▊| 98.0/100 [04:17<00:05,  2.52s/it]"
     ]
    },
    {
     "name": "stdout",
     "output_type": "stream",
     "text": [
      "DIGIT: 7\n",
      "EPOCH 98: 2.43726 sec\n",
      "Critic loss: -0.12413\n",
      "Generator loss: 0.41266\n",
      "\n"
     ]
    },
    {
     "name": "stderr",
     "output_type": "stream",
     "text": [
      "\r",
      " 99%|█████████▉| 99.0/100 [04:19<00:02,  2.52s/it]"
     ]
    },
    {
     "name": "stdout",
     "output_type": "stream",
     "text": [
      "DIGIT: 7\n",
      "EPOCH 99: 2.43676 sec\n",
      "Critic loss: -0.12102\n",
      "Generator loss: -0.43417\n",
      "\n"
     ]
    },
    {
     "name": "stderr",
     "output_type": "stream",
     "text": [
      "100%|██████████| 100.0/100 [04:22<00:00,  2.62s/it]\n",
      "  0%|          | 0/100 [00:00<?, ?it/s]"
     ]
    },
    {
     "name": "stdout",
     "output_type": "stream",
     "text": [
      "DIGIT: 7\n",
      "EPOCH 100: 2.43252 sec\n",
      "Critic loss: -0.13661\n",
      "Generator loss: -0.21800\n",
      "\n",
      "----------- TRAINING TO GENERATE **8** -----------\n"
     ]
    },
    {
     "name": "stderr",
     "output_type": "stream",
     "text": [
      "\r",
      "  1%|          | 1.0/100 [00:05<08:57,  5.43s/it]"
     ]
    },
    {
     "name": "stdout",
     "output_type": "stream",
     "text": [
      "DIGIT: 8\n",
      "EPOCH 1: 5.42770 sec\n",
      "Critic loss: -3.26341\n",
      "Generator loss: -2.79952\n",
      "\n",
      "INFO:tensorflow:Assets written to: models/05-05-21_10:15:28/8/generator/assets\n",
      "INFO:tensorflow:Assets written to: models/05-05-21_10:15:28/8/critic/assets\n"
     ]
    },
    {
     "name": "stderr",
     "output_type": "stream",
     "text": [
      "\r",
      "  2%|▏         | 2.0/100 [00:09<07:20,  4.49s/it]"
     ]
    },
    {
     "name": "stdout",
     "output_type": "stream",
     "text": [
      "DIGIT: 8\n",
      "EPOCH 2: 2.30084 sec\n",
      "Critic loss: -3.05845\n",
      "Generator loss: -2.05037\n",
      "\n"
     ]
    },
    {
     "name": "stderr",
     "output_type": "stream",
     "text": [
      "\r",
      "  3%|▎         | 3.0/100 [00:11<05:42,  3.53s/it]"
     ]
    },
    {
     "name": "stdout",
     "output_type": "stream",
     "text": [
      "DIGIT: 8\n",
      "EPOCH 3: 2.30142 sec\n",
      "Critic loss: -2.89960\n",
      "Generator loss: -1.33647\n",
      "\n"
     ]
    },
    {
     "name": "stderr",
     "output_type": "stream",
     "text": [
      "\r",
      "  4%|▍         | 4.0/100 [00:14<04:55,  3.08s/it]"
     ]
    },
    {
     "name": "stdout",
     "output_type": "stream",
     "text": [
      "DIGIT: 8\n",
      "EPOCH 4: 2.30296 sec\n",
      "Critic loss: -3.31103\n",
      "Generator loss: -0.46170\n",
      "\n"
     ]
    },
    {
     "name": "stderr",
     "output_type": "stream",
     "text": [
      "\r",
      "  5%|▌         | 5.0/100 [00:16<04:28,  2.83s/it]"
     ]
    },
    {
     "name": "stdout",
     "output_type": "stream",
     "text": [
      "DIGIT: 8\n",
      "EPOCH 5: 2.30226 sec\n",
      "Critic loss: -3.07576\n",
      "Generator loss: 0.51169\n",
      "\n"
     ]
    },
    {
     "name": "stderr",
     "output_type": "stream",
     "text": [
      "\r",
      "  6%|▌         | 6.0/100 [00:18<04:11,  2.68s/it]"
     ]
    },
    {
     "name": "stdout",
     "output_type": "stream",
     "text": [
      "DIGIT: 8\n",
      "EPOCH 6: 2.30221 sec\n",
      "Critic loss: -3.08781\n",
      "Generator loss: 0.45015\n",
      "\n"
     ]
    },
    {
     "name": "stderr",
     "output_type": "stream",
     "text": [
      "\r",
      "  7%|▋         | 7.0/100 [00:21<04:00,  2.58s/it]"
     ]
    },
    {
     "name": "stdout",
     "output_type": "stream",
     "text": [
      "DIGIT: 8\n",
      "EPOCH 7: 2.30344 sec\n",
      "Critic loss: -3.01469\n",
      "Generator loss: 0.48879\n",
      "\n"
     ]
    },
    {
     "name": "stderr",
     "output_type": "stream",
     "text": [
      "\r",
      "  8%|▊         | 8.0/100 [00:23<03:51,  2.52s/it]"
     ]
    },
    {
     "name": "stdout",
     "output_type": "stream",
     "text": [
      "DIGIT: 8\n",
      "EPOCH 8: 2.30326 sec\n",
      "Critic loss: -3.35466\n",
      "Generator loss: -0.01103\n",
      "\n"
     ]
    },
    {
     "name": "stderr",
     "output_type": "stream",
     "text": [
      "\r",
      "  9%|▉         | 9.0/100 [00:25<03:45,  2.48s/it]"
     ]
    },
    {
     "name": "stdout",
     "output_type": "stream",
     "text": [
      "DIGIT: 8\n",
      "EPOCH 9: 2.30274 sec\n",
      "Critic loss: -2.59104\n",
      "Generator loss: -0.76407\n",
      "\n"
     ]
    },
    {
     "name": "stderr",
     "output_type": "stream",
     "text": [
      "\r",
      " 10%|█         | 10.0/100 [00:28<03:40,  2.45s/it]"
     ]
    },
    {
     "name": "stdout",
     "output_type": "stream",
     "text": [
      "DIGIT: 8\n",
      "EPOCH 10: 2.30077 sec\n",
      "Critic loss: -2.01454\n",
      "Generator loss: -1.93230\n",
      "\n"
     ]
    },
    {
     "name": "stderr",
     "output_type": "stream",
     "text": [
      "\r",
      " 11%|█         | 11.0/100 [00:30<03:36,  2.43s/it]"
     ]
    },
    {
     "name": "stdout",
     "output_type": "stream",
     "text": [
      "DIGIT: 8\n",
      "EPOCH 11: 2.30259 sec\n",
      "Critic loss: -1.65659\n",
      "Generator loss: -2.86271\n",
      "\n"
     ]
    },
    {
     "name": "stderr",
     "output_type": "stream",
     "text": [
      "\r",
      " 12%|█▏        | 12.0/100 [00:33<03:32,  2.41s/it]"
     ]
    },
    {
     "name": "stdout",
     "output_type": "stream",
     "text": [
      "DIGIT: 8\n",
      "EPOCH 12: 2.30196 sec\n",
      "Critic loss: -1.61247\n",
      "Generator loss: -2.96330\n",
      "\n"
     ]
    },
    {
     "name": "stderr",
     "output_type": "stream",
     "text": [
      "\r",
      " 13%|█▎        | 13.0/100 [00:35<03:29,  2.41s/it]"
     ]
    },
    {
     "name": "stdout",
     "output_type": "stream",
     "text": [
      "DIGIT: 8\n",
      "EPOCH 13: 2.30399 sec\n",
      "Critic loss: -1.50520\n",
      "Generator loss: -2.69783\n",
      "\n"
     ]
    },
    {
     "name": "stderr",
     "output_type": "stream",
     "text": [
      "\r",
      " 14%|█▍        | 14.0/100 [00:37<03:26,  2.40s/it]"
     ]
    },
    {
     "name": "stdout",
     "output_type": "stream",
     "text": [
      "DIGIT: 8\n",
      "EPOCH 14: 2.30242 sec\n",
      "Critic loss: -1.46457\n",
      "Generator loss: -2.81269\n",
      "\n"
     ]
    },
    {
     "name": "stderr",
     "output_type": "stream",
     "text": [
      "\r",
      " 15%|█▌        | 15.0/100 [00:40<03:23,  2.39s/it]"
     ]
    },
    {
     "name": "stdout",
     "output_type": "stream",
     "text": [
      "DIGIT: 8\n",
      "EPOCH 15: 2.29951 sec\n",
      "Critic loss: -1.48149\n",
      "Generator loss: -2.96813\n",
      "\n"
     ]
    },
    {
     "name": "stderr",
     "output_type": "stream",
     "text": [
      "\r",
      " 16%|█▌        | 16.0/100 [00:42<03:20,  2.39s/it]"
     ]
    },
    {
     "name": "stdout",
     "output_type": "stream",
     "text": [
      "DIGIT: 8\n",
      "EPOCH 16: 2.29938 sec\n",
      "Critic loss: -1.45534\n",
      "Generator loss: -1.18639\n",
      "\n"
     ]
    },
    {
     "name": "stderr",
     "output_type": "stream",
     "text": [
      "\r",
      " 17%|█▋        | 17.0/100 [00:45<03:18,  2.39s/it]"
     ]
    },
    {
     "name": "stdout",
     "output_type": "stream",
     "text": [
      "DIGIT: 8\n",
      "EPOCH 17: 2.30459 sec\n",
      "Critic loss: -1.28189\n",
      "Generator loss: -0.90626\n",
      "\n"
     ]
    },
    {
     "name": "stderr",
     "output_type": "stream",
     "text": [
      "\r",
      " 18%|█▊        | 18.0/100 [00:47<03:15,  2.39s/it]"
     ]
    },
    {
     "name": "stdout",
     "output_type": "stream",
     "text": [
      "DIGIT: 8\n",
      "EPOCH 18: 2.30770 sec\n",
      "Critic loss: -1.49037\n",
      "Generator loss: -0.42179\n",
      "\n"
     ]
    },
    {
     "name": "stderr",
     "output_type": "stream",
     "text": [
      "\r",
      " 19%|█▉        | 19.0/100 [00:49<03:13,  2.39s/it]"
     ]
    },
    {
     "name": "stdout",
     "output_type": "stream",
     "text": [
      "DIGIT: 8\n",
      "EPOCH 19: 2.30155 sec\n",
      "Critic loss: -1.33305\n",
      "Generator loss: -0.81626\n",
      "\n"
     ]
    },
    {
     "name": "stderr",
     "output_type": "stream",
     "text": [
      "\r",
      " 20%|██        | 20.0/100 [00:52<03:10,  2.39s/it]"
     ]
    },
    {
     "name": "stdout",
     "output_type": "stream",
     "text": [
      "DIGIT: 8\n",
      "EPOCH 20: 2.30305 sec\n",
      "Critic loss: -1.23194\n",
      "Generator loss: -0.70429\n",
      "\n"
     ]
    },
    {
     "name": "stderr",
     "output_type": "stream",
     "text": [
      "\r",
      " 21%|██        | 21.0/100 [00:54<03:08,  2.39s/it]"
     ]
    },
    {
     "name": "stdout",
     "output_type": "stream",
     "text": [
      "DIGIT: 8\n",
      "EPOCH 21: 2.30265 sec\n",
      "Critic loss: -0.80202\n",
      "Generator loss: -0.73072\n",
      "\n",
      "INFO:tensorflow:Assets written to: models/05-05-21_10:15:28/8/generator/assets\n",
      "INFO:tensorflow:Assets written to: models/05-05-21_10:15:28/8/critic/assets\n"
     ]
    },
    {
     "name": "stderr",
     "output_type": "stream",
     "text": [
      "\r",
      " 22%|██▏       | 22.0/100 [00:58<03:38,  2.80s/it]"
     ]
    },
    {
     "name": "stdout",
     "output_type": "stream",
     "text": [
      "DIGIT: 8\n",
      "EPOCH 22: 2.30116 sec\n",
      "Critic loss: -0.58469\n",
      "Generator loss: -0.83327\n",
      "\n"
     ]
    },
    {
     "name": "stderr",
     "output_type": "stream",
     "text": [
      "\r",
      " 23%|██▎       | 23.0/100 [01:00<03:26,  2.68s/it]"
     ]
    },
    {
     "name": "stdout",
     "output_type": "stream",
     "text": [
      "DIGIT: 8\n",
      "EPOCH 23: 2.30287 sec\n",
      "Critic loss: -0.61515\n",
      "Generator loss: -0.72007\n",
      "\n"
     ]
    },
    {
     "name": "stderr",
     "output_type": "stream",
     "text": [
      "\r",
      " 24%|██▍       | 24.0/100 [01:03<03:16,  2.59s/it]"
     ]
    },
    {
     "name": "stdout",
     "output_type": "stream",
     "text": [
      "DIGIT: 8\n",
      "EPOCH 24: 2.30005 sec\n",
      "Critic loss: -0.67357\n",
      "Generator loss: -0.54265\n",
      "\n"
     ]
    },
    {
     "name": "stderr",
     "output_type": "stream",
     "text": [
      "\r",
      " 25%|██▌       | 25.0/100 [01:05<03:09,  2.53s/it]"
     ]
    },
    {
     "name": "stdout",
     "output_type": "stream",
     "text": [
      "DIGIT: 8\n",
      "EPOCH 25: 2.30228 sec\n",
      "Critic loss: -0.42475\n",
      "Generator loss: -0.21997\n",
      "\n"
     ]
    },
    {
     "name": "stderr",
     "output_type": "stream",
     "text": [
      "\r",
      " 26%|██▌       | 26.0/100 [01:07<03:03,  2.48s/it]"
     ]
    },
    {
     "name": "stdout",
     "output_type": "stream",
     "text": [
      "DIGIT: 8\n",
      "EPOCH 26: 2.30007 sec\n",
      "Critic loss: -0.33183\n",
      "Generator loss: 0.17032\n",
      "\n"
     ]
    },
    {
     "name": "stderr",
     "output_type": "stream",
     "text": [
      "\r",
      " 27%|██▋       | 27.0/100 [01:10<02:59,  2.45s/it]"
     ]
    },
    {
     "name": "stdout",
     "output_type": "stream",
     "text": [
      "DIGIT: 8\n",
      "EPOCH 27: 2.30152 sec\n",
      "Critic loss: -0.40672\n",
      "Generator loss: 0.56015\n",
      "\n"
     ]
    },
    {
     "name": "stderr",
     "output_type": "stream",
     "text": [
      "\r",
      " 28%|██▊       | 28.0/100 [01:12<02:55,  2.43s/it]"
     ]
    },
    {
     "name": "stdout",
     "output_type": "stream",
     "text": [
      "DIGIT: 8\n",
      "EPOCH 28: 2.30028 sec\n",
      "Critic loss: -0.31430\n",
      "Generator loss: 1.02577\n",
      "\n"
     ]
    },
    {
     "name": "stderr",
     "output_type": "stream",
     "text": [
      "\r",
      " 29%|██▉       | 29.0/100 [01:15<02:51,  2.42s/it]"
     ]
    },
    {
     "name": "stdout",
     "output_type": "stream",
     "text": [
      "DIGIT: 8\n",
      "EPOCH 29: 2.30265 sec\n",
      "Critic loss: -0.31556\n",
      "Generator loss: 1.38840\n",
      "\n"
     ]
    },
    {
     "name": "stderr",
     "output_type": "stream",
     "text": [
      "\r",
      " 30%|███       | 30.0/100 [01:17<02:48,  2.41s/it]"
     ]
    },
    {
     "name": "stdout",
     "output_type": "stream",
     "text": [
      "DIGIT: 8\n",
      "EPOCH 30: 2.30399 sec\n",
      "Critic loss: -0.17261\n",
      "Generator loss: 1.76726\n",
      "\n"
     ]
    },
    {
     "name": "stderr",
     "output_type": "stream",
     "text": [
      "\r",
      " 31%|███       | 31.0/100 [01:19<02:45,  2.40s/it]"
     ]
    },
    {
     "name": "stdout",
     "output_type": "stream",
     "text": [
      "DIGIT: 8\n",
      "EPOCH 31: 2.30211 sec\n",
      "Critic loss: -0.20988\n",
      "Generator loss: 1.90530\n",
      "\n"
     ]
    },
    {
     "name": "stderr",
     "output_type": "stream",
     "text": [
      "\r",
      " 32%|███▏      | 32.0/100 [01:22<02:42,  2.40s/it]"
     ]
    },
    {
     "name": "stdout",
     "output_type": "stream",
     "text": [
      "DIGIT: 8\n",
      "EPOCH 32: 2.30303 sec\n",
      "Critic loss: -0.12979\n",
      "Generator loss: 1.84342\n",
      "\n"
     ]
    },
    {
     "name": "stderr",
     "output_type": "stream",
     "text": [
      "\r",
      " 33%|███▎      | 33.0/100 [01:24<02:40,  2.39s/it]"
     ]
    },
    {
     "name": "stdout",
     "output_type": "stream",
     "text": [
      "DIGIT: 8\n",
      "EPOCH 33: 2.30574 sec\n",
      "Critic loss: -0.28272\n",
      "Generator loss: 1.82348\n",
      "\n"
     ]
    },
    {
     "name": "stderr",
     "output_type": "stream",
     "text": [
      "\r",
      " 34%|███▍      | 34.0/100 [01:26<02:37,  2.39s/it]"
     ]
    },
    {
     "name": "stdout",
     "output_type": "stream",
     "text": [
      "DIGIT: 8\n",
      "EPOCH 34: 2.30153 sec\n",
      "Critic loss: -0.26102\n",
      "Generator loss: 1.47615\n",
      "\n"
     ]
    },
    {
     "name": "stderr",
     "output_type": "stream",
     "text": [
      "\r",
      " 35%|███▌      | 35.0/100 [01:29<02:35,  2.39s/it]"
     ]
    },
    {
     "name": "stdout",
     "output_type": "stream",
     "text": [
      "DIGIT: 8\n",
      "EPOCH 35: 2.30493 sec\n",
      "Critic loss: -0.20556\n",
      "Generator loss: 1.76876\n",
      "\n"
     ]
    },
    {
     "name": "stderr",
     "output_type": "stream",
     "text": [
      "\r",
      " 36%|███▌      | 36.0/100 [01:31<02:32,  2.39s/it]"
     ]
    },
    {
     "name": "stdout",
     "output_type": "stream",
     "text": [
      "DIGIT: 8\n",
      "EPOCH 36: 2.30100 sec\n",
      "Critic loss: -0.24439\n",
      "Generator loss: 1.80431\n",
      "\n"
     ]
    },
    {
     "name": "stderr",
     "output_type": "stream",
     "text": [
      "\r",
      " 37%|███▋      | 37.0/100 [01:34<02:30,  2.39s/it]"
     ]
    },
    {
     "name": "stdout",
     "output_type": "stream",
     "text": [
      "DIGIT: 8\n",
      "EPOCH 37: 2.30868 sec\n",
      "Critic loss: -0.25429\n",
      "Generator loss: 2.01774\n",
      "\n"
     ]
    },
    {
     "name": "stderr",
     "output_type": "stream",
     "text": [
      "\r",
      " 38%|███▊      | 38.0/100 [01:36<02:28,  2.39s/it]"
     ]
    },
    {
     "name": "stdout",
     "output_type": "stream",
     "text": [
      "DIGIT: 8\n",
      "EPOCH 38: 2.31316 sec\n",
      "Critic loss: -0.29981\n",
      "Generator loss: 1.92826\n",
      "\n"
     ]
    },
    {
     "name": "stderr",
     "output_type": "stream",
     "text": [
      "\r",
      " 39%|███▉      | 39.0/100 [01:38<02:25,  2.39s/it]"
     ]
    },
    {
     "name": "stdout",
     "output_type": "stream",
     "text": [
      "DIGIT: 8\n",
      "EPOCH 39: 2.31142 sec\n",
      "Critic loss: -0.26917\n",
      "Generator loss: 1.69549\n",
      "\n"
     ]
    },
    {
     "name": "stderr",
     "output_type": "stream",
     "text": [
      "\r",
      " 40%|████      | 40.0/100 [01:41<02:23,  2.39s/it]"
     ]
    },
    {
     "name": "stdout",
     "output_type": "stream",
     "text": [
      "DIGIT: 8\n",
      "EPOCH 40: 2.30299 sec\n",
      "Critic loss: -0.27371\n",
      "Generator loss: 1.34839\n",
      "\n"
     ]
    },
    {
     "name": "stderr",
     "output_type": "stream",
     "text": [
      "\r",
      " 41%|████      | 41.0/100 [01:43<02:20,  2.39s/it]"
     ]
    },
    {
     "name": "stdout",
     "output_type": "stream",
     "text": [
      "DIGIT: 8\n",
      "EPOCH 41: 2.30484 sec\n",
      "Critic loss: -0.29377\n",
      "Generator loss: 1.68396\n",
      "\n",
      "INFO:tensorflow:Assets written to: models/05-05-21_10:15:28/8/generator/assets\n",
      "INFO:tensorflow:Assets written to: models/05-05-21_10:15:28/8/critic/assets\n"
     ]
    },
    {
     "name": "stderr",
     "output_type": "stream",
     "text": [
      "\r",
      " 42%|████▏     | 42.0/100 [01:47<02:43,  2.82s/it]"
     ]
    },
    {
     "name": "stdout",
     "output_type": "stream",
     "text": [
      "DIGIT: 8\n",
      "EPOCH 42: 2.29886 sec\n",
      "Critic loss: -0.27030\n",
      "Generator loss: 1.68178\n",
      "\n"
     ]
    },
    {
     "name": "stderr",
     "output_type": "stream",
     "text": [
      "\r",
      " 43%|████▎     | 43.0/100 [01:49<02:33,  2.69s/it]"
     ]
    },
    {
     "name": "stdout",
     "output_type": "stream",
     "text": [
      "DIGIT: 8\n",
      "EPOCH 43: 2.30271 sec\n",
      "Critic loss: -0.29324\n",
      "Generator loss: 1.54436\n",
      "\n"
     ]
    },
    {
     "name": "stderr",
     "output_type": "stream",
     "text": [
      "\r",
      " 44%|████▍     | 44.0/100 [01:52<02:25,  2.60s/it]"
     ]
    },
    {
     "name": "stdout",
     "output_type": "stream",
     "text": [
      "DIGIT: 8\n",
      "EPOCH 44: 2.30175 sec\n",
      "Critic loss: -0.30870\n",
      "Generator loss: 1.51775\n",
      "\n"
     ]
    },
    {
     "name": "stderr",
     "output_type": "stream",
     "text": [
      "\r",
      " 45%|████▌     | 45.0/100 [01:54<02:19,  2.54s/it]"
     ]
    },
    {
     "name": "stdout",
     "output_type": "stream",
     "text": [
      "DIGIT: 8\n",
      "EPOCH 45: 2.30278 sec\n",
      "Critic loss: -0.31663\n",
      "Generator loss: 1.69391\n",
      "\n"
     ]
    },
    {
     "name": "stderr",
     "output_type": "stream",
     "text": [
      "\r",
      " 46%|████▌     | 46.0/100 [01:57<02:14,  2.49s/it]"
     ]
    },
    {
     "name": "stdout",
     "output_type": "stream",
     "text": [
      "DIGIT: 8\n",
      "EPOCH 46: 2.30372 sec\n",
      "Critic loss: -0.35618\n",
      "Generator loss: 1.13408\n",
      "\n"
     ]
    },
    {
     "name": "stderr",
     "output_type": "stream",
     "text": [
      "\r",
      " 47%|████▋     | 47.0/100 [01:59<02:10,  2.46s/it]"
     ]
    },
    {
     "name": "stdout",
     "output_type": "stream",
     "text": [
      "DIGIT: 8\n",
      "EPOCH 47: 2.30227 sec\n",
      "Critic loss: -0.21696\n",
      "Generator loss: 1.39116\n",
      "\n"
     ]
    },
    {
     "name": "stderr",
     "output_type": "stream",
     "text": [
      "\r",
      " 48%|████▊     | 48.0/100 [02:01<02:06,  2.44s/it]"
     ]
    },
    {
     "name": "stdout",
     "output_type": "stream",
     "text": [
      "DIGIT: 8\n",
      "EPOCH 48: 2.30566 sec\n",
      "Critic loss: -0.32020\n",
      "Generator loss: 1.82364\n",
      "\n"
     ]
    },
    {
     "name": "stderr",
     "output_type": "stream",
     "text": [
      "\r",
      " 49%|████▉     | 49.0/100 [02:04<02:03,  2.42s/it]"
     ]
    },
    {
     "name": "stdout",
     "output_type": "stream",
     "text": [
      "DIGIT: 8\n",
      "EPOCH 49: 2.30314 sec\n",
      "Critic loss: -0.24797\n",
      "Generator loss: 1.34693\n",
      "\n"
     ]
    },
    {
     "name": "stderr",
     "output_type": "stream",
     "text": [
      "\r",
      " 50%|█████     | 50.0/100 [02:06<02:00,  2.41s/it]"
     ]
    },
    {
     "name": "stdout",
     "output_type": "stream",
     "text": [
      "DIGIT: 8\n",
      "EPOCH 50: 2.30449 sec\n",
      "Critic loss: -0.30788\n",
      "Generator loss: 1.00185\n",
      "\n"
     ]
    },
    {
     "name": "stderr",
     "output_type": "stream",
     "text": [
      "\r",
      " 51%|█████     | 51.0/100 [02:08<01:57,  2.40s/it]"
     ]
    },
    {
     "name": "stdout",
     "output_type": "stream",
     "text": [
      "DIGIT: 8\n",
      "EPOCH 51: 2.30394 sec\n",
      "Critic loss: -0.18927\n",
      "Generator loss: 1.48943\n",
      "\n"
     ]
    },
    {
     "name": "stderr",
     "output_type": "stream",
     "text": [
      "\r",
      " 52%|█████▏    | 52.0/100 [02:11<01:55,  2.40s/it]"
     ]
    },
    {
     "name": "stdout",
     "output_type": "stream",
     "text": [
      "DIGIT: 8\n",
      "EPOCH 52: 2.30213 sec\n",
      "Critic loss: -0.31471\n",
      "Generator loss: 1.51562\n",
      "\n"
     ]
    },
    {
     "name": "stderr",
     "output_type": "stream",
     "text": [
      "\r",
      " 53%|█████▎    | 53.0/100 [02:13<01:52,  2.39s/it]"
     ]
    },
    {
     "name": "stdout",
     "output_type": "stream",
     "text": [
      "DIGIT: 8\n",
      "EPOCH 53: 2.30643 sec\n",
      "Critic loss: -0.33190\n",
      "Generator loss: 1.02245\n",
      "\n"
     ]
    },
    {
     "name": "stderr",
     "output_type": "stream",
     "text": [
      "\r",
      " 54%|█████▍    | 54.0/100 [02:16<01:50,  2.39s/it]"
     ]
    },
    {
     "name": "stdout",
     "output_type": "stream",
     "text": [
      "DIGIT: 8\n",
      "EPOCH 54: 2.30451 sec\n",
      "Critic loss: -0.34615\n",
      "Generator loss: 1.40637\n",
      "\n"
     ]
    },
    {
     "name": "stderr",
     "output_type": "stream",
     "text": [
      "\r",
      " 55%|█████▌    | 55.0/100 [02:18<01:47,  2.39s/it]"
     ]
    },
    {
     "name": "stdout",
     "output_type": "stream",
     "text": [
      "DIGIT: 8\n",
      "EPOCH 55: 2.30379 sec\n",
      "Critic loss: -0.29205\n",
      "Generator loss: 1.15138\n",
      "\n"
     ]
    },
    {
     "name": "stderr",
     "output_type": "stream",
     "text": [
      "\r",
      " 56%|█████▌    | 56.0/100 [02:20<01:45,  2.39s/it]"
     ]
    },
    {
     "name": "stdout",
     "output_type": "stream",
     "text": [
      "DIGIT: 8\n",
      "EPOCH 56: 2.30323 sec\n",
      "Critic loss: -0.28672\n",
      "Generator loss: 0.69739\n",
      "\n"
     ]
    },
    {
     "name": "stderr",
     "output_type": "stream",
     "text": [
      "\r",
      " 57%|█████▋    | 57.0/100 [02:23<01:42,  2.39s/it]"
     ]
    },
    {
     "name": "stdout",
     "output_type": "stream",
     "text": [
      "DIGIT: 8\n",
      "EPOCH 57: 2.30348 sec\n",
      "Critic loss: -0.31597\n",
      "Generator loss: 1.11609\n",
      "\n"
     ]
    },
    {
     "name": "stderr",
     "output_type": "stream",
     "text": [
      "\r",
      " 58%|█████▊    | 58.0/100 [02:25<01:40,  2.39s/it]"
     ]
    },
    {
     "name": "stdout",
     "output_type": "stream",
     "text": [
      "DIGIT: 8\n",
      "EPOCH 58: 2.30376 sec\n",
      "Critic loss: -0.25757\n",
      "Generator loss: 1.08872\n",
      "\n"
     ]
    },
    {
     "name": "stderr",
     "output_type": "stream",
     "text": [
      "\r",
      " 59%|█████▉    | 59.0/100 [02:28<01:37,  2.39s/it]"
     ]
    },
    {
     "name": "stdout",
     "output_type": "stream",
     "text": [
      "DIGIT: 8\n",
      "EPOCH 59: 2.30205 sec\n",
      "Critic loss: -0.30784\n",
      "Generator loss: 1.13851\n",
      "\n"
     ]
    },
    {
     "name": "stderr",
     "output_type": "stream",
     "text": [
      "\r",
      " 60%|██████    | 60.0/100 [02:30<01:35,  2.39s/it]"
     ]
    },
    {
     "name": "stdout",
     "output_type": "stream",
     "text": [
      "DIGIT: 8\n",
      "EPOCH 60: 2.30169 sec\n",
      "Critic loss: -0.26530\n",
      "Generator loss: 1.17859\n",
      "\n"
     ]
    },
    {
     "name": "stderr",
     "output_type": "stream",
     "text": [
      "\r",
      " 61%|██████    | 61.0/100 [02:32<01:33,  2.39s/it]"
     ]
    },
    {
     "name": "stdout",
     "output_type": "stream",
     "text": [
      "DIGIT: 8\n",
      "EPOCH 61: 2.30434 sec\n",
      "Critic loss: -0.22345\n",
      "Generator loss: 0.73499\n",
      "\n",
      "INFO:tensorflow:Assets written to: models/05-05-21_10:15:28/8/generator/assets\n",
      "INFO:tensorflow:Assets written to: models/05-05-21_10:15:28/8/critic/assets\n"
     ]
    },
    {
     "name": "stderr",
     "output_type": "stream",
     "text": [
      "\r",
      " 62%|██████▏   | 62.0/100 [02:36<01:46,  2.80s/it]"
     ]
    },
    {
     "name": "stdout",
     "output_type": "stream",
     "text": [
      "DIGIT: 8\n",
      "EPOCH 62: 2.30368 sec\n",
      "Critic loss: -0.21899\n",
      "Generator loss: 0.89083\n",
      "\n"
     ]
    },
    {
     "name": "stderr",
     "output_type": "stream",
     "text": [
      "\r",
      " 63%|██████▎   | 63.0/100 [02:39<01:39,  2.68s/it]"
     ]
    },
    {
     "name": "stdout",
     "output_type": "stream",
     "text": [
      "DIGIT: 8\n",
      "EPOCH 63: 2.30473 sec\n",
      "Critic loss: -0.16270\n",
      "Generator loss: 0.74417\n",
      "\n"
     ]
    },
    {
     "name": "stderr",
     "output_type": "stream",
     "text": [
      "\r",
      " 64%|██████▍   | 64.0/100 [02:41<01:33,  2.59s/it]"
     ]
    },
    {
     "name": "stdout",
     "output_type": "stream",
     "text": [
      "DIGIT: 8\n",
      "EPOCH 64: 2.30400 sec\n",
      "Critic loss: -0.27828\n",
      "Generator loss: 0.37447\n",
      "\n"
     ]
    },
    {
     "name": "stderr",
     "output_type": "stream",
     "text": [
      "\r",
      " 65%|██████▌   | 65.0/100 [02:43<01:28,  2.53s/it]"
     ]
    },
    {
     "name": "stdout",
     "output_type": "stream",
     "text": [
      "DIGIT: 8\n",
      "EPOCH 65: 2.30267 sec\n",
      "Critic loss: -0.23903\n",
      "Generator loss: 0.81066\n",
      "\n"
     ]
    },
    {
     "name": "stderr",
     "output_type": "stream",
     "text": [
      "\r",
      " 66%|██████▌   | 66.0/100 [02:46<01:24,  2.49s/it]"
     ]
    },
    {
     "name": "stdout",
     "output_type": "stream",
     "text": [
      "DIGIT: 8\n",
      "EPOCH 66: 2.30216 sec\n",
      "Critic loss: -0.22721\n",
      "Generator loss: -0.03851\n",
      "\n"
     ]
    },
    {
     "name": "stderr",
     "output_type": "stream",
     "text": [
      "\r",
      " 67%|██████▋   | 67.0/100 [02:48<01:21,  2.46s/it]"
     ]
    },
    {
     "name": "stdout",
     "output_type": "stream",
     "text": [
      "DIGIT: 8\n",
      "EPOCH 67: 2.30858 sec\n",
      "Critic loss: -0.27318\n",
      "Generator loss: 0.14834\n",
      "\n"
     ]
    },
    {
     "name": "stderr",
     "output_type": "stream",
     "text": [
      "\r",
      " 68%|██████▊   | 68.0/100 [02:50<01:18,  2.44s/it]"
     ]
    },
    {
     "name": "stdout",
     "output_type": "stream",
     "text": [
      "DIGIT: 8\n",
      "EPOCH 68: 2.30174 sec\n",
      "Critic loss: -0.25349\n",
      "Generator loss: 0.20017\n",
      "\n"
     ]
    },
    {
     "name": "stderr",
     "output_type": "stream",
     "text": [
      "\r",
      " 69%|██████▉   | 69.0/100 [02:53<01:15,  2.42s/it]"
     ]
    },
    {
     "name": "stdout",
     "output_type": "stream",
     "text": [
      "DIGIT: 8\n",
      "EPOCH 69: 2.30224 sec\n",
      "Critic loss: -0.13019\n",
      "Generator loss: 0.37408\n",
      "\n"
     ]
    },
    {
     "name": "stderr",
     "output_type": "stream",
     "text": [
      "\r",
      " 70%|███████   | 70.0/100 [02:55<01:12,  2.41s/it]"
     ]
    },
    {
     "name": "stdout",
     "output_type": "stream",
     "text": [
      "DIGIT: 8\n",
      "EPOCH 70: 2.30420 sec\n",
      "Critic loss: -0.20822\n",
      "Generator loss: 0.22952\n",
      "\n"
     ]
    },
    {
     "name": "stderr",
     "output_type": "stream",
     "text": [
      "\r",
      " 71%|███████   | 71.0/100 [02:58<01:09,  2.40s/it]"
     ]
    },
    {
     "name": "stdout",
     "output_type": "stream",
     "text": [
      "DIGIT: 8\n",
      "EPOCH 71: 2.30427 sec\n",
      "Critic loss: -0.22119\n",
      "Generator loss: -0.17237\n",
      "\n"
     ]
    },
    {
     "name": "stderr",
     "output_type": "stream",
     "text": [
      "\r",
      " 72%|███████▏  | 72.0/100 [03:00<01:07,  2.40s/it]"
     ]
    },
    {
     "name": "stdout",
     "output_type": "stream",
     "text": [
      "DIGIT: 8\n",
      "EPOCH 72: 2.30819 sec\n",
      "Critic loss: -0.22226\n",
      "Generator loss: 0.22680\n",
      "\n"
     ]
    },
    {
     "name": "stderr",
     "output_type": "stream",
     "text": [
      "\r",
      " 73%|███████▎  | 73.0/100 [03:02<01:04,  2.39s/it]"
     ]
    },
    {
     "name": "stdout",
     "output_type": "stream",
     "text": [
      "DIGIT: 8\n",
      "EPOCH 73: 2.30197 sec\n",
      "Critic loss: -0.23806\n",
      "Generator loss: -0.06568\n",
      "\n"
     ]
    },
    {
     "name": "stderr",
     "output_type": "stream",
     "text": [
      "\r",
      " 74%|███████▍  | 74.0/100 [03:05<01:02,  2.39s/it]"
     ]
    },
    {
     "name": "stdout",
     "output_type": "stream",
     "text": [
      "DIGIT: 8\n",
      "EPOCH 74: 2.30444 sec\n",
      "Critic loss: -0.21789\n",
      "Generator loss: 0.32869\n",
      "\n"
     ]
    },
    {
     "name": "stderr",
     "output_type": "stream",
     "text": [
      "\r",
      " 75%|███████▌  | 75.0/100 [03:07<00:59,  2.39s/it]"
     ]
    },
    {
     "name": "stdout",
     "output_type": "stream",
     "text": [
      "DIGIT: 8\n",
      "EPOCH 75: 2.30260 sec\n",
      "Critic loss: -0.17024\n",
      "Generator loss: 0.17279\n",
      "\n"
     ]
    },
    {
     "name": "stderr",
     "output_type": "stream",
     "text": [
      "\r",
      " 76%|███████▌  | 76.0/100 [03:10<00:57,  2.39s/it]"
     ]
    },
    {
     "name": "stdout",
     "output_type": "stream",
     "text": [
      "DIGIT: 8\n",
      "EPOCH 76: 2.30336 sec\n",
      "Critic loss: -0.18330\n",
      "Generator loss: 0.80554\n",
      "\n"
     ]
    },
    {
     "name": "stderr",
     "output_type": "stream",
     "text": [
      "\r",
      " 77%|███████▋  | 77.0/100 [03:12<00:54,  2.39s/it]"
     ]
    },
    {
     "name": "stdout",
     "output_type": "stream",
     "text": [
      "DIGIT: 8\n",
      "EPOCH 77: 2.30244 sec\n",
      "Critic loss: -0.11983\n",
      "Generator loss: 0.65822\n",
      "\n"
     ]
    },
    {
     "name": "stderr",
     "output_type": "stream",
     "text": [
      "\r",
      " 78%|███████▊  | 78.0/100 [03:14<00:52,  2.39s/it]"
     ]
    },
    {
     "name": "stdout",
     "output_type": "stream",
     "text": [
      "DIGIT: 8\n",
      "EPOCH 78: 2.30151 sec\n",
      "Critic loss: -0.17899\n",
      "Generator loss: 0.39647\n",
      "\n"
     ]
    },
    {
     "name": "stderr",
     "output_type": "stream",
     "text": [
      "\r",
      " 79%|███████▉  | 79.0/100 [03:17<00:50,  2.39s/it]"
     ]
    },
    {
     "name": "stdout",
     "output_type": "stream",
     "text": [
      "DIGIT: 8\n",
      "EPOCH 79: 2.30345 sec\n",
      "Critic loss: -0.19464\n",
      "Generator loss: 0.36971\n",
      "\n"
     ]
    },
    {
     "name": "stderr",
     "output_type": "stream",
     "text": [
      "\r",
      " 80%|████████  | 80.0/100 [03:19<00:47,  2.39s/it]"
     ]
    },
    {
     "name": "stdout",
     "output_type": "stream",
     "text": [
      "DIGIT: 8\n",
      "EPOCH 80: 2.30048 sec\n",
      "Critic loss: -0.15358\n",
      "Generator loss: 0.52933\n",
      "\n"
     ]
    },
    {
     "name": "stderr",
     "output_type": "stream",
     "text": [
      "\r",
      " 81%|████████  | 81.0/100 [03:21<00:45,  2.38s/it]"
     ]
    },
    {
     "name": "stdout",
     "output_type": "stream",
     "text": [
      "DIGIT: 8\n",
      "EPOCH 81: 2.29926 sec\n",
      "Critic loss: -0.17409\n",
      "Generator loss: 0.85583\n",
      "\n",
      "INFO:tensorflow:Assets written to: models/05-05-21_10:15:28/8/generator/assets\n",
      "INFO:tensorflow:Assets written to: models/05-05-21_10:15:28/8/critic/assets\n"
     ]
    },
    {
     "name": "stderr",
     "output_type": "stream",
     "text": [
      "\r",
      " 82%|████████▏ | 82.0/100 [03:25<00:50,  2.82s/it]"
     ]
    },
    {
     "name": "stdout",
     "output_type": "stream",
     "text": [
      "DIGIT: 8\n",
      "EPOCH 82: 2.30016 sec\n",
      "Critic loss: -0.13513\n",
      "Generator loss: 0.30927\n",
      "\n"
     ]
    },
    {
     "name": "stderr",
     "output_type": "stream",
     "text": [
      "\r",
      " 83%|████████▎ | 83.0/100 [03:28<00:45,  2.69s/it]"
     ]
    },
    {
     "name": "stdout",
     "output_type": "stream",
     "text": [
      "DIGIT: 8\n",
      "EPOCH 83: 2.30368 sec\n",
      "Critic loss: -0.13876\n",
      "Generator loss: 0.71736\n",
      "\n"
     ]
    },
    {
     "name": "stderr",
     "output_type": "stream",
     "text": [
      "\r",
      " 84%|████████▍ | 84.0/100 [03:30<00:41,  2.60s/it]"
     ]
    },
    {
     "name": "stdout",
     "output_type": "stream",
     "text": [
      "DIGIT: 8\n",
      "EPOCH 84: 2.30743 sec\n",
      "Critic loss: -0.17193\n",
      "Generator loss: 0.77173\n",
      "\n"
     ]
    },
    {
     "name": "stderr",
     "output_type": "stream",
     "text": [
      "\r",
      " 85%|████████▌ | 85.0/100 [03:32<00:38,  2.53s/it]"
     ]
    },
    {
     "name": "stdout",
     "output_type": "stream",
     "text": [
      "DIGIT: 8\n",
      "EPOCH 85: 2.30085 sec\n",
      "Critic loss: -0.15484\n",
      "Generator loss: 0.64969\n",
      "\n"
     ]
    },
    {
     "name": "stderr",
     "output_type": "stream",
     "text": [
      "\r",
      " 86%|████████▌ | 86.0/100 [03:35<00:34,  2.49s/it]"
     ]
    },
    {
     "name": "stdout",
     "output_type": "stream",
     "text": [
      "DIGIT: 8\n",
      "EPOCH 86: 2.31348 sec\n",
      "Critic loss: -0.12937\n",
      "Generator loss: 0.48598\n",
      "\n"
     ]
    },
    {
     "name": "stderr",
     "output_type": "stream",
     "text": [
      "\r",
      " 87%|████████▋ | 87.0/100 [03:37<00:32,  2.46s/it]"
     ]
    },
    {
     "name": "stdout",
     "output_type": "stream",
     "text": [
      "DIGIT: 8\n",
      "EPOCH 87: 2.30968 sec\n",
      "Critic loss: -0.16217\n",
      "Generator loss: 0.94381\n",
      "\n"
     ]
    },
    {
     "name": "stderr",
     "output_type": "stream",
     "text": [
      "\r",
      " 88%|████████▊ | 88.0/100 [03:40<00:29,  2.44s/it]"
     ]
    },
    {
     "name": "stdout",
     "output_type": "stream",
     "text": [
      "DIGIT: 8\n",
      "EPOCH 88: 2.30264 sec\n",
      "Critic loss: -0.15410\n",
      "Generator loss: 0.47362\n",
      "\n"
     ]
    },
    {
     "name": "stderr",
     "output_type": "stream",
     "text": [
      "\r",
      " 89%|████████▉ | 89.0/100 [03:42<00:26,  2.42s/it]"
     ]
    },
    {
     "name": "stdout",
     "output_type": "stream",
     "text": [
      "DIGIT: 8\n",
      "EPOCH 89: 2.30265 sec\n",
      "Critic loss: -0.12961\n",
      "Generator loss: 0.93084\n",
      "\n"
     ]
    },
    {
     "name": "stderr",
     "output_type": "stream",
     "text": [
      "\r",
      " 90%|█████████ | 90.0/100 [03:44<00:24,  2.41s/it]"
     ]
    },
    {
     "name": "stdout",
     "output_type": "stream",
     "text": [
      "DIGIT: 8\n",
      "EPOCH 90: 2.30345 sec\n",
      "Critic loss: -0.15543\n",
      "Generator loss: 1.01788\n",
      "\n"
     ]
    },
    {
     "name": "stderr",
     "output_type": "stream",
     "text": [
      "\r",
      " 91%|█████████ | 91.0/100 [03:47<00:21,  2.40s/it]"
     ]
    },
    {
     "name": "stdout",
     "output_type": "stream",
     "text": [
      "DIGIT: 8\n",
      "EPOCH 91: 2.30412 sec\n",
      "Critic loss: -0.16550\n",
      "Generator loss: 0.91159\n",
      "\n"
     ]
    },
    {
     "name": "stderr",
     "output_type": "stream",
     "text": [
      "\r",
      " 92%|█████████▏| 92.0/100 [03:49<00:19,  2.40s/it]"
     ]
    },
    {
     "name": "stdout",
     "output_type": "stream",
     "text": [
      "DIGIT: 8\n",
      "EPOCH 92: 2.30231 sec\n",
      "Critic loss: -0.14919\n",
      "Generator loss: 0.98447\n",
      "\n"
     ]
    },
    {
     "name": "stderr",
     "output_type": "stream",
     "text": [
      "\r",
      " 93%|█████████▎| 93.0/100 [03:52<00:16,  2.39s/it]"
     ]
    },
    {
     "name": "stdout",
     "output_type": "stream",
     "text": [
      "DIGIT: 8\n",
      "EPOCH 93: 2.30224 sec\n",
      "Critic loss: -0.13886\n",
      "Generator loss: 1.48934\n",
      "\n"
     ]
    },
    {
     "name": "stderr",
     "output_type": "stream",
     "text": [
      "\r",
      " 94%|█████████▍| 94.0/100 [03:54<00:14,  2.39s/it]"
     ]
    },
    {
     "name": "stdout",
     "output_type": "stream",
     "text": [
      "DIGIT: 8\n",
      "EPOCH 94: 2.30412 sec\n",
      "Critic loss: -0.16241\n",
      "Generator loss: 0.73609\n",
      "\n"
     ]
    },
    {
     "name": "stderr",
     "output_type": "stream",
     "text": [
      "\r",
      " 95%|█████████▌| 95.0/100 [03:56<00:11,  2.39s/it]"
     ]
    },
    {
     "name": "stdout",
     "output_type": "stream",
     "text": [
      "DIGIT: 8\n",
      "EPOCH 95: 2.30287 sec\n",
      "Critic loss: 0.01212\n",
      "Generator loss: 1.33933\n",
      "\n"
     ]
    },
    {
     "name": "stderr",
     "output_type": "stream",
     "text": [
      "\r",
      " 96%|█████████▌| 96.0/100 [03:59<00:09,  2.39s/it]"
     ]
    },
    {
     "name": "stdout",
     "output_type": "stream",
     "text": [
      "DIGIT: 8\n",
      "EPOCH 96: 2.30091 sec\n",
      "Critic loss: -0.16987\n",
      "Generator loss: 1.40802\n",
      "\n"
     ]
    },
    {
     "name": "stderr",
     "output_type": "stream",
     "text": [
      "\r",
      " 97%|█████████▋| 97.0/100 [04:01<00:07,  2.39s/it]"
     ]
    },
    {
     "name": "stdout",
     "output_type": "stream",
     "text": [
      "DIGIT: 8\n",
      "EPOCH 97: 2.30140 sec\n",
      "Critic loss: -0.15896\n",
      "Generator loss: 1.21827\n",
      "\n"
     ]
    },
    {
     "name": "stderr",
     "output_type": "stream",
     "text": [
      "\r",
      " 98%|█████████▊| 98.0/100 [04:03<00:04,  2.39s/it]"
     ]
    },
    {
     "name": "stdout",
     "output_type": "stream",
     "text": [
      "DIGIT: 8\n",
      "EPOCH 98: 2.30472 sec\n",
      "Critic loss: -0.14620\n",
      "Generator loss: 1.42224\n",
      "\n"
     ]
    },
    {
     "name": "stderr",
     "output_type": "stream",
     "text": [
      "\r",
      " 99%|█████████▉| 99.0/100 [04:06<00:02,  2.39s/it]"
     ]
    },
    {
     "name": "stdout",
     "output_type": "stream",
     "text": [
      "DIGIT: 8\n",
      "EPOCH 99: 2.30160 sec\n",
      "Critic loss: -0.15895\n",
      "Generator loss: 1.68952\n",
      "\n"
     ]
    },
    {
     "name": "stderr",
     "output_type": "stream",
     "text": [
      "100%|██████████| 100.0/100 [04:08<00:00,  2.49s/it]\n",
      "  0%|          | 0/100 [00:00<?, ?it/s]"
     ]
    },
    {
     "name": "stdout",
     "output_type": "stream",
     "text": [
      "DIGIT: 8\n",
      "EPOCH 100: 2.30238 sec\n",
      "Critic loss: -0.14537\n",
      "Generator loss: 1.62406\n",
      "\n",
      "----------- TRAINING TO GENERATE **9** -----------\n"
     ]
    },
    {
     "name": "stderr",
     "output_type": "stream",
     "text": [
      "\r",
      "  1%|          | 1.0/100 [00:05<09:01,  5.47s/it]"
     ]
    },
    {
     "name": "stdout",
     "output_type": "stream",
     "text": [
      "DIGIT: 9\n",
      "EPOCH 1: 5.47164 sec\n",
      "Critic loss: -3.43014\n",
      "Generator loss: -1.85802\n",
      "\n",
      "INFO:tensorflow:Assets written to: models/05-05-21_10:15:28/9/generator/assets\n",
      "INFO:tensorflow:Assets written to: models/05-05-21_10:15:28/9/critic/assets\n"
     ]
    },
    {
     "name": "stderr",
     "output_type": "stream",
     "text": [
      "\r",
      "  2%|▏         | 2.0/100 [00:09<07:22,  4.51s/it]"
     ]
    },
    {
     "name": "stdout",
     "output_type": "stream",
     "text": [
      "DIGIT: 9\n",
      "EPOCH 2: 2.30326 sec\n",
      "Critic loss: -3.08298\n",
      "Generator loss: -1.77475\n",
      "\n"
     ]
    },
    {
     "name": "stderr",
     "output_type": "stream",
     "text": [
      "\r",
      "  3%|▎         | 3.0/100 [00:11<05:43,  3.54s/it]"
     ]
    },
    {
     "name": "stdout",
     "output_type": "stream",
     "text": [
      "DIGIT: 9\n",
      "EPOCH 3: 2.30454 sec\n",
      "Critic loss: -2.73492\n",
      "Generator loss: -1.77418\n",
      "\n"
     ]
    },
    {
     "name": "stderr",
     "output_type": "stream",
     "text": [
      "\r",
      "  4%|▍         | 4.0/100 [00:14<04:56,  3.09s/it]"
     ]
    },
    {
     "name": "stdout",
     "output_type": "stream",
     "text": [
      "DIGIT: 9\n",
      "EPOCH 4: 2.30883 sec\n",
      "Critic loss: -2.37246\n",
      "Generator loss: -1.05882\n",
      "\n"
     ]
    },
    {
     "name": "stderr",
     "output_type": "stream",
     "text": [
      "\r",
      "  5%|▌         | 5.0/100 [00:16<04:29,  2.84s/it]"
     ]
    },
    {
     "name": "stdout",
     "output_type": "stream",
     "text": [
      "DIGIT: 9\n",
      "EPOCH 5: 2.30498 sec\n",
      "Critic loss: -2.27759\n",
      "Generator loss: -0.48446\n",
      "\n"
     ]
    },
    {
     "name": "stderr",
     "output_type": "stream",
     "text": [
      "\r",
      "  6%|▌         | 6.0/100 [00:18<04:12,  2.68s/it]"
     ]
    },
    {
     "name": "stdout",
     "output_type": "stream",
     "text": [
      "DIGIT: 9\n",
      "EPOCH 6: 2.30281 sec\n",
      "Critic loss: -2.09148\n",
      "Generator loss: -0.82997\n",
      "\n"
     ]
    },
    {
     "name": "stderr",
     "output_type": "stream",
     "text": [
      "\r",
      "  7%|▋         | 7.0/100 [00:21<04:00,  2.59s/it]"
     ]
    },
    {
     "name": "stdout",
     "output_type": "stream",
     "text": [
      "DIGIT: 9\n",
      "EPOCH 7: 2.30424 sec\n",
      "Critic loss: -1.83909\n",
      "Generator loss: -1.49792\n",
      "\n"
     ]
    },
    {
     "name": "stderr",
     "output_type": "stream",
     "text": [
      "\r",
      "  8%|▊         | 8.0/100 [00:23<03:52,  2.52s/it]"
     ]
    },
    {
     "name": "stdout",
     "output_type": "stream",
     "text": [
      "DIGIT: 9\n",
      "EPOCH 8: 2.30351 sec\n",
      "Critic loss: -1.91753\n",
      "Generator loss: -2.55185\n",
      "\n"
     ]
    },
    {
     "name": "stderr",
     "output_type": "stream",
     "text": [
      "\r",
      "  9%|▉         | 9.0/100 [00:26<03:45,  2.48s/it]"
     ]
    },
    {
     "name": "stdout",
     "output_type": "stream",
     "text": [
      "DIGIT: 9\n",
      "EPOCH 9: 2.30774 sec\n",
      "Critic loss: -1.80274\n",
      "Generator loss: -3.41910\n",
      "\n"
     ]
    },
    {
     "name": "stderr",
     "output_type": "stream",
     "text": [
      "\r",
      " 10%|█         | 10.0/100 [00:28<03:40,  2.45s/it]"
     ]
    },
    {
     "name": "stdout",
     "output_type": "stream",
     "text": [
      "DIGIT: 9\n",
      "EPOCH 10: 2.30301 sec\n",
      "Critic loss: -1.90751\n",
      "Generator loss: -3.62741\n",
      "\n"
     ]
    },
    {
     "name": "stderr",
     "output_type": "stream",
     "text": [
      "\r",
      " 11%|█         | 11.0/100 [00:30<03:36,  2.43s/it]"
     ]
    },
    {
     "name": "stdout",
     "output_type": "stream",
     "text": [
      "DIGIT: 9\n",
      "EPOCH 11: 2.30503 sec\n",
      "Critic loss: -1.90760\n",
      "Generator loss: -3.53339\n",
      "\n"
     ]
    },
    {
     "name": "stderr",
     "output_type": "stream",
     "text": [
      "\r",
      " 12%|█▏        | 12.0/100 [00:33<03:32,  2.42s/it]"
     ]
    },
    {
     "name": "stdout",
     "output_type": "stream",
     "text": [
      "DIGIT: 9\n",
      "EPOCH 12: 2.30430 sec\n",
      "Critic loss: -1.85682\n",
      "Generator loss: -3.13679\n",
      "\n"
     ]
    },
    {
     "name": "stderr",
     "output_type": "stream",
     "text": [
      "\r",
      " 13%|█▎        | 13.0/100 [00:35<03:29,  2.41s/it]"
     ]
    },
    {
     "name": "stdout",
     "output_type": "stream",
     "text": [
      "DIGIT: 9\n",
      "EPOCH 13: 2.30339 sec\n",
      "Critic loss: -1.73648\n",
      "Generator loss: -2.70809\n",
      "\n"
     ]
    },
    {
     "name": "stderr",
     "output_type": "stream",
     "text": [
      "\r",
      " 14%|█▍        | 14.0/100 [00:37<03:26,  2.40s/it]"
     ]
    },
    {
     "name": "stdout",
     "output_type": "stream",
     "text": [
      "DIGIT: 9\n",
      "EPOCH 14: 2.30388 sec\n",
      "Critic loss: -1.53402\n",
      "Generator loss: -1.99161\n",
      "\n"
     ]
    },
    {
     "name": "stderr",
     "output_type": "stream",
     "text": [
      "\r",
      " 15%|█▌        | 15.0/100 [00:40<03:23,  2.40s/it]"
     ]
    },
    {
     "name": "stdout",
     "output_type": "stream",
     "text": [
      "DIGIT: 9\n",
      "EPOCH 15: 2.30630 sec\n",
      "Critic loss: -1.51114\n",
      "Generator loss: -0.47423\n",
      "\n"
     ]
    },
    {
     "name": "stderr",
     "output_type": "stream",
     "text": [
      "\r",
      " 16%|█▌        | 16.0/100 [00:42<03:21,  2.39s/it]"
     ]
    },
    {
     "name": "stdout",
     "output_type": "stream",
     "text": [
      "DIGIT: 9\n",
      "EPOCH 16: 2.30523 sec\n",
      "Critic loss: -1.53781\n",
      "Generator loss: -0.05729\n",
      "\n"
     ]
    },
    {
     "name": "stderr",
     "output_type": "stream",
     "text": [
      "\r",
      " 17%|█▋        | 17.0/100 [00:45<03:18,  2.39s/it]"
     ]
    },
    {
     "name": "stdout",
     "output_type": "stream",
     "text": [
      "DIGIT: 9\n",
      "EPOCH 17: 2.30622 sec\n",
      "Critic loss: -1.29377\n",
      "Generator loss: -0.61843\n",
      "\n"
     ]
    },
    {
     "name": "stderr",
     "output_type": "stream",
     "text": [
      "\r",
      " 18%|█▊        | 18.0/100 [00:47<03:16,  2.39s/it]"
     ]
    },
    {
     "name": "stdout",
     "output_type": "stream",
     "text": [
      "DIGIT: 9\n",
      "EPOCH 18: 2.30614 sec\n",
      "Critic loss: -1.20758\n",
      "Generator loss: -1.54782\n",
      "\n"
     ]
    },
    {
     "name": "stderr",
     "output_type": "stream",
     "text": [
      "\r",
      " 19%|█▉        | 19.0/100 [00:49<03:13,  2.39s/it]"
     ]
    },
    {
     "name": "stdout",
     "output_type": "stream",
     "text": [
      "DIGIT: 9\n",
      "EPOCH 19: 2.30443 sec\n",
      "Critic loss: -1.20665\n",
      "Generator loss: -1.55221\n",
      "\n"
     ]
    },
    {
     "name": "stderr",
     "output_type": "stream",
     "text": [
      "\r",
      " 20%|██        | 20.0/100 [00:52<03:11,  2.39s/it]"
     ]
    },
    {
     "name": "stdout",
     "output_type": "stream",
     "text": [
      "DIGIT: 9\n",
      "EPOCH 20: 2.30326 sec\n",
      "Critic loss: -1.26364\n",
      "Generator loss: -1.07555\n",
      "\n"
     ]
    },
    {
     "name": "stderr",
     "output_type": "stream",
     "text": [
      "\r",
      " 21%|██        | 21.0/100 [00:54<03:08,  2.39s/it]"
     ]
    },
    {
     "name": "stdout",
     "output_type": "stream",
     "text": [
      "DIGIT: 9\n",
      "EPOCH 21: 2.30456 sec\n",
      "Critic loss: -1.35686\n",
      "Generator loss: -0.86669\n",
      "\n",
      "INFO:tensorflow:Assets written to: models/05-05-21_10:15:28/9/generator/assets\n",
      "INFO:tensorflow:Assets written to: models/05-05-21_10:15:28/9/critic/assets\n"
     ]
    },
    {
     "name": "stderr",
     "output_type": "stream",
     "text": [
      "\r",
      " 22%|██▏       | 22.0/100 [00:58<03:38,  2.81s/it]"
     ]
    },
    {
     "name": "stdout",
     "output_type": "stream",
     "text": [
      "DIGIT: 9\n",
      "EPOCH 22: 2.30405 sec\n",
      "Critic loss: -1.24907\n",
      "Generator loss: -0.04935\n",
      "\n"
     ]
    },
    {
     "name": "stderr",
     "output_type": "stream",
     "text": [
      "\r",
      " 23%|██▎       | 23.0/100 [01:00<03:26,  2.68s/it]"
     ]
    },
    {
     "name": "stdout",
     "output_type": "stream",
     "text": [
      "DIGIT: 9\n",
      "EPOCH 23: 2.30591 sec\n",
      "Critic loss: -1.51467\n",
      "Generator loss: 1.11845\n",
      "\n"
     ]
    },
    {
     "name": "stderr",
     "output_type": "stream",
     "text": [
      "\r",
      " 24%|██▍       | 24.0/100 [01:03<03:17,  2.59s/it]"
     ]
    },
    {
     "name": "stdout",
     "output_type": "stream",
     "text": [
      "DIGIT: 9\n",
      "EPOCH 24: 2.30643 sec\n",
      "Critic loss: -1.34893\n",
      "Generator loss: 0.95105\n",
      "\n"
     ]
    },
    {
     "name": "stderr",
     "output_type": "stream",
     "text": [
      "\r",
      " 25%|██▌       | 25.0/100 [01:05<03:09,  2.53s/it]"
     ]
    },
    {
     "name": "stdout",
     "output_type": "stream",
     "text": [
      "DIGIT: 9\n",
      "EPOCH 25: 2.30466 sec\n",
      "Critic loss: -1.56314\n",
      "Generator loss: 1.18468\n",
      "\n"
     ]
    },
    {
     "name": "stderr",
     "output_type": "stream",
     "text": [
      "\r",
      " 26%|██▌       | 26.0/100 [01:07<03:04,  2.49s/it]"
     ]
    },
    {
     "name": "stdout",
     "output_type": "stream",
     "text": [
      "DIGIT: 9\n",
      "EPOCH 26: 2.30718 sec\n",
      "Critic loss: -0.83870\n",
      "Generator loss: 0.69556\n",
      "\n"
     ]
    },
    {
     "name": "stderr",
     "output_type": "stream",
     "text": [
      "\r",
      " 27%|██▋       | 27.0/100 [01:10<02:59,  2.46s/it]"
     ]
    },
    {
     "name": "stdout",
     "output_type": "stream",
     "text": [
      "DIGIT: 9\n",
      "EPOCH 27: 2.30569 sec\n",
      "Critic loss: -0.56131\n",
      "Generator loss: 0.28396\n",
      "\n"
     ]
    },
    {
     "name": "stderr",
     "output_type": "stream",
     "text": [
      "\r",
      " 28%|██▊       | 28.0/100 [01:12<02:55,  2.44s/it]"
     ]
    },
    {
     "name": "stdout",
     "output_type": "stream",
     "text": [
      "DIGIT: 9\n",
      "EPOCH 28: 2.30645 sec\n",
      "Critic loss: -0.51750\n",
      "Generator loss: -0.01820\n",
      "\n"
     ]
    },
    {
     "name": "stderr",
     "output_type": "stream",
     "text": [
      "\r",
      " 29%|██▉       | 29.0/100 [01:15<02:51,  2.42s/it]"
     ]
    },
    {
     "name": "stdout",
     "output_type": "stream",
     "text": [
      "DIGIT: 9\n",
      "EPOCH 29: 2.30390 sec\n",
      "Critic loss: -0.34294\n",
      "Generator loss: 0.06073\n",
      "\n"
     ]
    },
    {
     "name": "stderr",
     "output_type": "stream",
     "text": [
      "\r",
      " 30%|███       | 30.0/100 [01:17<02:48,  2.41s/it]"
     ]
    },
    {
     "name": "stdout",
     "output_type": "stream",
     "text": [
      "DIGIT: 9\n",
      "EPOCH 30: 2.30684 sec\n",
      "Critic loss: -0.34805\n",
      "Generator loss: 0.17022\n",
      "\n"
     ]
    },
    {
     "name": "stderr",
     "output_type": "stream",
     "text": [
      "\r",
      " 31%|███       | 31.0/100 [01:19<02:45,  2.40s/it]"
     ]
    },
    {
     "name": "stdout",
     "output_type": "stream",
     "text": [
      "DIGIT: 9\n",
      "EPOCH 31: 2.30671 sec\n",
      "Critic loss: -0.42390\n",
      "Generator loss: 0.46139\n",
      "\n"
     ]
    },
    {
     "name": "stderr",
     "output_type": "stream",
     "text": [
      "\r",
      " 32%|███▏      | 32.0/100 [01:22<02:43,  2.40s/it]"
     ]
    },
    {
     "name": "stdout",
     "output_type": "stream",
     "text": [
      "DIGIT: 9\n",
      "EPOCH 32: 2.30618 sec\n",
      "Critic loss: -0.26888\n",
      "Generator loss: 0.67343\n",
      "\n"
     ]
    },
    {
     "name": "stderr",
     "output_type": "stream",
     "text": [
      "\r",
      " 33%|███▎      | 33.0/100 [01:24<02:40,  2.40s/it]"
     ]
    },
    {
     "name": "stdout",
     "output_type": "stream",
     "text": [
      "DIGIT: 9\n",
      "EPOCH 33: 2.31036 sec\n",
      "Critic loss: -0.32107\n",
      "Generator loss: 1.01863\n",
      "\n"
     ]
    },
    {
     "name": "stderr",
     "output_type": "stream",
     "text": [
      "\r",
      " 34%|███▍      | 34.0/100 [01:27<02:38,  2.40s/it]"
     ]
    },
    {
     "name": "stdout",
     "output_type": "stream",
     "text": [
      "DIGIT: 9\n",
      "EPOCH 34: 2.31532 sec\n",
      "Critic loss: -0.18058\n",
      "Generator loss: 1.15716\n",
      "\n"
     ]
    },
    {
     "name": "stderr",
     "output_type": "stream",
     "text": [
      "\r",
      " 35%|███▌      | 35.0/100 [01:29<02:35,  2.40s/it]"
     ]
    },
    {
     "name": "stdout",
     "output_type": "stream",
     "text": [
      "DIGIT: 9\n",
      "EPOCH 35: 2.31334 sec\n",
      "Critic loss: -0.19715\n",
      "Generator loss: 1.62890\n",
      "\n"
     ]
    },
    {
     "name": "stderr",
     "output_type": "stream",
     "text": [
      "\r",
      " 36%|███▌      | 36.0/100 [01:31<02:33,  2.39s/it]"
     ]
    },
    {
     "name": "stdout",
     "output_type": "stream",
     "text": [
      "DIGIT: 9\n",
      "EPOCH 36: 2.30381 sec\n",
      "Critic loss: -0.20027\n",
      "Generator loss: 2.04399\n",
      "\n"
     ]
    },
    {
     "name": "stderr",
     "output_type": "stream",
     "text": [
      "\r",
      " 37%|███▋      | 37.0/100 [01:34<02:30,  2.39s/it]"
     ]
    },
    {
     "name": "stdout",
     "output_type": "stream",
     "text": [
      "DIGIT: 9\n",
      "EPOCH 37: 2.30868 sec\n",
      "Critic loss: -0.18852\n",
      "Generator loss: 2.31810\n",
      "\n"
     ]
    },
    {
     "name": "stderr",
     "output_type": "stream",
     "text": [
      "\r",
      " 38%|███▊      | 38.0/100 [01:36<02:28,  2.39s/it]"
     ]
    },
    {
     "name": "stdout",
     "output_type": "stream",
     "text": [
      "DIGIT: 9\n",
      "EPOCH 38: 2.30699 sec\n",
      "Critic loss: -0.19303\n",
      "Generator loss: 2.15455\n",
      "\n"
     ]
    },
    {
     "name": "stderr",
     "output_type": "stream",
     "text": [
      "\r",
      " 39%|███▉      | 39.0/100 [01:39<02:25,  2.39s/it]"
     ]
    },
    {
     "name": "stdout",
     "output_type": "stream",
     "text": [
      "DIGIT: 9\n",
      "EPOCH 39: 2.30470 sec\n",
      "Critic loss: -0.17291\n",
      "Generator loss: 2.22618\n",
      "\n"
     ]
    },
    {
     "name": "stderr",
     "output_type": "stream",
     "text": [
      "\r",
      " 40%|████      | 40.0/100 [01:41<02:23,  2.39s/it]"
     ]
    },
    {
     "name": "stdout",
     "output_type": "stream",
     "text": [
      "DIGIT: 9\n",
      "EPOCH 40: 2.30383 sec\n",
      "Critic loss: -0.16444\n",
      "Generator loss: 2.28116\n",
      "\n"
     ]
    },
    {
     "name": "stderr",
     "output_type": "stream",
     "text": [
      "\r",
      " 41%|████      | 41.0/100 [01:43<02:20,  2.39s/it]"
     ]
    },
    {
     "name": "stdout",
     "output_type": "stream",
     "text": [
      "DIGIT: 9\n",
      "EPOCH 41: 2.30445 sec\n",
      "Critic loss: -0.18936\n",
      "Generator loss: 1.99737\n",
      "\n",
      "INFO:tensorflow:Assets written to: models/05-05-21_10:15:28/9/generator/assets\n",
      "INFO:tensorflow:Assets written to: models/05-05-21_10:15:28/9/critic/assets\n"
     ]
    },
    {
     "name": "stderr",
     "output_type": "stream",
     "text": [
      "\r",
      " 42%|████▏     | 42.0/100 [01:47<02:44,  2.83s/it]"
     ]
    },
    {
     "name": "stdout",
     "output_type": "stream",
     "text": [
      "DIGIT: 9\n",
      "EPOCH 42: 2.30391 sec\n",
      "Critic loss: -0.21338\n",
      "Generator loss: 2.38104\n",
      "\n"
     ]
    },
    {
     "name": "stderr",
     "output_type": "stream",
     "text": [
      "\r",
      " 43%|████▎     | 43.0/100 [01:50<02:33,  2.70s/it]"
     ]
    },
    {
     "name": "stdout",
     "output_type": "stream",
     "text": [
      "DIGIT: 9\n",
      "EPOCH 43: 2.30678 sec\n",
      "Critic loss: -0.19991\n",
      "Generator loss: 2.23452\n",
      "\n"
     ]
    },
    {
     "name": "stderr",
     "output_type": "stream",
     "text": [
      "\r",
      " 44%|████▍     | 44.0/100 [01:52<02:25,  2.60s/it]"
     ]
    },
    {
     "name": "stdout",
     "output_type": "stream",
     "text": [
      "DIGIT: 9\n",
      "EPOCH 44: 2.30344 sec\n",
      "Critic loss: -0.29305\n",
      "Generator loss: 2.67301\n",
      "\n"
     ]
    },
    {
     "name": "stderr",
     "output_type": "stream",
     "text": [
      "\r",
      " 45%|████▌     | 45.0/100 [01:54<02:19,  2.54s/it]"
     ]
    },
    {
     "name": "stdout",
     "output_type": "stream",
     "text": [
      "DIGIT: 9\n",
      "EPOCH 45: 2.30578 sec\n",
      "Critic loss: -0.25679\n",
      "Generator loss: 2.22169\n",
      "\n"
     ]
    },
    {
     "name": "stderr",
     "output_type": "stream",
     "text": [
      "\r",
      " 46%|████▌     | 46.0/100 [01:57<02:15,  2.50s/it]"
     ]
    },
    {
     "name": "stdout",
     "output_type": "stream",
     "text": [
      "DIGIT: 9\n",
      "EPOCH 46: 2.33192 sec\n",
      "Critic loss: -0.18773\n",
      "Generator loss: 2.54063\n",
      "\n"
     ]
    },
    {
     "name": "stderr",
     "output_type": "stream",
     "text": [
      "\r",
      " 47%|████▋     | 47.0/100 [01:59<02:12,  2.51s/it]"
     ]
    },
    {
     "name": "stdout",
     "output_type": "stream",
     "text": [
      "DIGIT: 9\n",
      "EPOCH 47: 2.43837 sec\n",
      "Critic loss: -0.33867\n",
      "Generator loss: 2.06530\n",
      "\n"
     ]
    },
    {
     "name": "stderr",
     "output_type": "stream",
     "text": [
      "\r",
      " 48%|████▊     | 48.0/100 [02:02<02:08,  2.47s/it]"
     ]
    },
    {
     "name": "stdout",
     "output_type": "stream",
     "text": [
      "DIGIT: 9\n",
      "EPOCH 48: 2.30620 sec\n",
      "Critic loss: -0.20253\n",
      "Generator loss: 2.41706\n",
      "\n"
     ]
    },
    {
     "name": "stderr",
     "output_type": "stream",
     "text": [
      "\r",
      " 49%|████▉     | 49.0/100 [02:04<02:04,  2.45s/it]"
     ]
    },
    {
     "name": "stdout",
     "output_type": "stream",
     "text": [
      "DIGIT: 9\n",
      "EPOCH 49: 2.30464 sec\n",
      "Critic loss: -0.22728\n",
      "Generator loss: 2.60058\n",
      "\n"
     ]
    },
    {
     "name": "stderr",
     "output_type": "stream",
     "text": [
      "\r",
      " 50%|█████     | 50.0/100 [02:06<02:01,  2.43s/it]"
     ]
    },
    {
     "name": "stdout",
     "output_type": "stream",
     "text": [
      "DIGIT: 9\n",
      "EPOCH 50: 2.30369 sec\n",
      "Critic loss: -0.23010\n",
      "Generator loss: 2.18697\n",
      "\n"
     ]
    },
    {
     "name": "stderr",
     "output_type": "stream",
     "text": [
      "\r",
      " 51%|█████     | 51.0/100 [02:09<01:58,  2.42s/it]"
     ]
    },
    {
     "name": "stdout",
     "output_type": "stream",
     "text": [
      "DIGIT: 9\n",
      "EPOCH 51: 2.30558 sec\n",
      "Critic loss: -0.23379\n",
      "Generator loss: 2.49870\n",
      "\n"
     ]
    },
    {
     "name": "stderr",
     "output_type": "stream",
     "text": [
      "\r",
      " 52%|█████▏    | 52.0/100 [02:11<01:55,  2.41s/it]"
     ]
    },
    {
     "name": "stdout",
     "output_type": "stream",
     "text": [
      "DIGIT: 9\n",
      "EPOCH 52: 2.30462 sec\n",
      "Critic loss: -0.18809\n",
      "Generator loss: 2.19853\n",
      "\n"
     ]
    },
    {
     "name": "stderr",
     "output_type": "stream",
     "text": [
      "\r",
      " 53%|█████▎    | 53.0/100 [02:14<01:52,  2.40s/it]"
     ]
    },
    {
     "name": "stdout",
     "output_type": "stream",
     "text": [
      "DIGIT: 9\n",
      "EPOCH 53: 2.30578 sec\n",
      "Critic loss: -0.20656\n",
      "Generator loss: 2.48796\n",
      "\n"
     ]
    },
    {
     "name": "stderr",
     "output_type": "stream",
     "text": [
      "\r",
      " 54%|█████▍    | 54.0/100 [02:16<01:50,  2.40s/it]"
     ]
    },
    {
     "name": "stdout",
     "output_type": "stream",
     "text": [
      "DIGIT: 9\n",
      "EPOCH 54: 2.30532 sec\n",
      "Critic loss: -0.25015\n",
      "Generator loss: 2.33779\n",
      "\n"
     ]
    },
    {
     "name": "stderr",
     "output_type": "stream",
     "text": [
      "\r",
      " 55%|█████▌    | 55.0/100 [02:18<01:47,  2.40s/it]"
     ]
    },
    {
     "name": "stdout",
     "output_type": "stream",
     "text": [
      "DIGIT: 9\n",
      "EPOCH 55: 2.31089 sec\n",
      "Critic loss: -0.09705\n",
      "Generator loss: 2.25853\n",
      "\n"
     ]
    },
    {
     "name": "stderr",
     "output_type": "stream",
     "text": [
      "\r",
      " 56%|█████▌    | 56.0/100 [02:21<01:45,  2.39s/it]"
     ]
    },
    {
     "name": "stdout",
     "output_type": "stream",
     "text": [
      "DIGIT: 9\n",
      "EPOCH 56: 2.30650 sec\n",
      "Critic loss: -0.22548\n",
      "Generator loss: 1.92723\n",
      "\n"
     ]
    },
    {
     "name": "stderr",
     "output_type": "stream",
     "text": [
      "\r",
      " 57%|█████▋    | 57.0/100 [02:23<01:42,  2.39s/it]"
     ]
    },
    {
     "name": "stdout",
     "output_type": "stream",
     "text": [
      "DIGIT: 9\n",
      "EPOCH 57: 2.30473 sec\n",
      "Critic loss: -0.17129\n",
      "Generator loss: 2.08229\n",
      "\n"
     ]
    },
    {
     "name": "stderr",
     "output_type": "stream",
     "text": [
      "\r",
      " 58%|█████▊    | 58.0/100 [02:26<01:40,  2.39s/it]"
     ]
    },
    {
     "name": "stdout",
     "output_type": "stream",
     "text": [
      "DIGIT: 9\n",
      "EPOCH 58: 2.30824 sec\n",
      "Critic loss: -0.23994\n",
      "Generator loss: 2.36832\n",
      "\n"
     ]
    },
    {
     "name": "stderr",
     "output_type": "stream",
     "text": [
      "\r",
      " 59%|█████▉    | 59.0/100 [02:28<01:38,  2.39s/it]"
     ]
    },
    {
     "name": "stdout",
     "output_type": "stream",
     "text": [
      "DIGIT: 9\n",
      "EPOCH 59: 2.30700 sec\n",
      "Critic loss: -0.18416\n",
      "Generator loss: 2.10144\n",
      "\n"
     ]
    },
    {
     "name": "stderr",
     "output_type": "stream",
     "text": [
      "\r",
      " 60%|██████    | 60.0/100 [02:30<01:35,  2.39s/it]"
     ]
    },
    {
     "name": "stdout",
     "output_type": "stream",
     "text": [
      "DIGIT: 9\n",
      "EPOCH 60: 2.30398 sec\n",
      "Critic loss: -0.25776\n",
      "Generator loss: 2.22526\n",
      "\n"
     ]
    },
    {
     "name": "stderr",
     "output_type": "stream",
     "text": [
      "\r",
      " 61%|██████    | 61.0/100 [02:33<01:33,  2.39s/it]"
     ]
    },
    {
     "name": "stdout",
     "output_type": "stream",
     "text": [
      "DIGIT: 9\n",
      "EPOCH 61: 2.30320 sec\n",
      "Critic loss: -0.21330\n",
      "Generator loss: 2.09765\n",
      "\n",
      "INFO:tensorflow:Assets written to: models/05-05-21_10:15:28/9/generator/assets\n",
      "INFO:tensorflow:Assets written to: models/05-05-21_10:15:28/9/critic/assets\n"
     ]
    },
    {
     "name": "stderr",
     "output_type": "stream",
     "text": [
      "\r",
      " 62%|██████▏   | 62.0/100 [02:36<01:46,  2.81s/it]"
     ]
    },
    {
     "name": "stdout",
     "output_type": "stream",
     "text": [
      "DIGIT: 9\n",
      "EPOCH 62: 2.30495 sec\n",
      "Critic loss: -0.22663\n",
      "Generator loss: 2.15343\n",
      "\n"
     ]
    },
    {
     "name": "stderr",
     "output_type": "stream",
     "text": [
      "\r",
      " 63%|██████▎   | 63.0/100 [02:39<01:39,  2.68s/it]"
     ]
    },
    {
     "name": "stdout",
     "output_type": "stream",
     "text": [
      "DIGIT: 9\n",
      "EPOCH 63: 2.30571 sec\n",
      "Critic loss: -0.21558\n",
      "Generator loss: 2.28624\n",
      "\n"
     ]
    },
    {
     "name": "stderr",
     "output_type": "stream",
     "text": [
      "\r",
      " 64%|██████▍   | 64.0/100 [02:41<01:33,  2.59s/it]"
     ]
    },
    {
     "name": "stdout",
     "output_type": "stream",
     "text": [
      "DIGIT: 9\n",
      "EPOCH 64: 2.30404 sec\n",
      "Critic loss: -0.22228\n",
      "Generator loss: 2.16826\n",
      "\n"
     ]
    },
    {
     "name": "stderr",
     "output_type": "stream",
     "text": [
      "\r",
      " 65%|██████▌   | 65.0/100 [02:44<01:28,  2.53s/it]"
     ]
    },
    {
     "name": "stdout",
     "output_type": "stream",
     "text": [
      "DIGIT: 9\n",
      "EPOCH 65: 2.30157 sec\n",
      "Critic loss: -0.20686\n",
      "Generator loss: 2.19581\n",
      "\n"
     ]
    },
    {
     "name": "stderr",
     "output_type": "stream",
     "text": [
      "\r",
      " 66%|██████▌   | 66.0/100 [02:46<01:24,  2.49s/it]"
     ]
    },
    {
     "name": "stdout",
     "output_type": "stream",
     "text": [
      "DIGIT: 9\n",
      "EPOCH 66: 2.30637 sec\n",
      "Critic loss: -0.19350\n",
      "Generator loss: 2.40877\n",
      "\n"
     ]
    },
    {
     "name": "stderr",
     "output_type": "stream",
     "text": [
      "\r",
      " 67%|██████▋   | 67.0/100 [02:48<01:21,  2.46s/it]"
     ]
    },
    {
     "name": "stdout",
     "output_type": "stream",
     "text": [
      "DIGIT: 9\n",
      "EPOCH 67: 2.30470 sec\n",
      "Critic loss: -0.17437\n",
      "Generator loss: 2.14888\n",
      "\n"
     ]
    },
    {
     "name": "stderr",
     "output_type": "stream",
     "text": [
      "\r",
      " 68%|██████▊   | 68.0/100 [02:51<01:17,  2.44s/it]"
     ]
    },
    {
     "name": "stdout",
     "output_type": "stream",
     "text": [
      "DIGIT: 9\n",
      "EPOCH 68: 2.30571 sec\n",
      "Critic loss: -0.17831\n",
      "Generator loss: 2.06707\n",
      "\n"
     ]
    },
    {
     "name": "stderr",
     "output_type": "stream",
     "text": [
      "\r",
      " 69%|██████▉   | 69.0/100 [02:53<01:15,  2.42s/it]"
     ]
    },
    {
     "name": "stdout",
     "output_type": "stream",
     "text": [
      "DIGIT: 9\n",
      "EPOCH 69: 2.30403 sec\n",
      "Critic loss: -0.19459\n",
      "Generator loss: 2.06186\n",
      "\n"
     ]
    },
    {
     "name": "stderr",
     "output_type": "stream",
     "text": [
      "\r",
      " 70%|███████   | 70.0/100 [02:56<01:12,  2.41s/it]"
     ]
    },
    {
     "name": "stdout",
     "output_type": "stream",
     "text": [
      "DIGIT: 9\n",
      "EPOCH 70: 2.30737 sec\n",
      "Critic loss: -0.16872\n",
      "Generator loss: 2.65747\n",
      "\n"
     ]
    },
    {
     "name": "stderr",
     "output_type": "stream",
     "text": [
      "\r",
      " 71%|███████   | 71.0/100 [02:58<01:09,  2.40s/it]"
     ]
    },
    {
     "name": "stdout",
     "output_type": "stream",
     "text": [
      "DIGIT: 9\n",
      "EPOCH 71: 2.30460 sec\n",
      "Critic loss: -0.17952\n",
      "Generator loss: 2.71071\n",
      "\n"
     ]
    },
    {
     "name": "stderr",
     "output_type": "stream",
     "text": [
      "\r",
      " 72%|███████▏  | 72.0/100 [03:00<01:07,  2.40s/it]"
     ]
    },
    {
     "name": "stdout",
     "output_type": "stream",
     "text": [
      "DIGIT: 9\n",
      "EPOCH 72: 2.30706 sec\n",
      "Critic loss: -0.24362\n",
      "Generator loss: 1.96046\n",
      "\n"
     ]
    },
    {
     "name": "stderr",
     "output_type": "stream",
     "text": [
      "\r",
      " 73%|███████▎  | 73.0/100 [03:03<01:04,  2.40s/it]"
     ]
    },
    {
     "name": "stdout",
     "output_type": "stream",
     "text": [
      "DIGIT: 9\n",
      "EPOCH 73: 2.30461 sec\n",
      "Critic loss: -0.15161\n",
      "Generator loss: 2.17300\n",
      "\n"
     ]
    },
    {
     "name": "stderr",
     "output_type": "stream",
     "text": [
      "\r",
      " 74%|███████▍  | 74.0/100 [03:05<01:02,  2.39s/it]"
     ]
    },
    {
     "name": "stdout",
     "output_type": "stream",
     "text": [
      "DIGIT: 9\n",
      "EPOCH 74: 2.30694 sec\n",
      "Critic loss: -0.14999\n",
      "Generator loss: 2.53480\n",
      "\n"
     ]
    },
    {
     "name": "stderr",
     "output_type": "stream",
     "text": [
      "\r",
      " 75%|███████▌  | 75.0/100 [03:08<00:59,  2.39s/it]"
     ]
    },
    {
     "name": "stdout",
     "output_type": "stream",
     "text": [
      "DIGIT: 9\n",
      "EPOCH 75: 2.30609 sec\n",
      "Critic loss: -0.13081\n",
      "Generator loss: 2.89156\n",
      "\n"
     ]
    },
    {
     "name": "stderr",
     "output_type": "stream",
     "text": [
      "\r",
      " 76%|███████▌  | 76.0/100 [03:10<00:57,  2.39s/it]"
     ]
    },
    {
     "name": "stdout",
     "output_type": "stream",
     "text": [
      "DIGIT: 9\n",
      "EPOCH 76: 2.30430 sec\n",
      "Critic loss: -0.18481\n",
      "Generator loss: 2.63802\n",
      "\n"
     ]
    },
    {
     "name": "stderr",
     "output_type": "stream",
     "text": [
      "\r",
      " 77%|███████▋  | 77.0/100 [03:12<00:54,  2.39s/it]"
     ]
    },
    {
     "name": "stdout",
     "output_type": "stream",
     "text": [
      "DIGIT: 9\n",
      "EPOCH 77: 2.30503 sec\n",
      "Critic loss: -0.18377\n",
      "Generator loss: 3.04092\n",
      "\n"
     ]
    },
    {
     "name": "stderr",
     "output_type": "stream",
     "text": [
      "\r",
      " 78%|███████▊  | 78.0/100 [03:15<00:52,  2.39s/it]"
     ]
    },
    {
     "name": "stdout",
     "output_type": "stream",
     "text": [
      "DIGIT: 9\n",
      "EPOCH 78: 2.30626 sec\n",
      "Critic loss: -0.18780\n",
      "Generator loss: 2.27556\n",
      "\n"
     ]
    },
    {
     "name": "stderr",
     "output_type": "stream",
     "text": [
      "\r",
      " 79%|███████▉  | 79.0/100 [03:17<00:50,  2.39s/it]"
     ]
    },
    {
     "name": "stdout",
     "output_type": "stream",
     "text": [
      "DIGIT: 9\n",
      "EPOCH 79: 2.30555 sec\n",
      "Critic loss: -0.10810\n",
      "Generator loss: 2.55589\n",
      "\n"
     ]
    },
    {
     "name": "stderr",
     "output_type": "stream",
     "text": [
      "\r",
      " 80%|████████  | 80.0/100 [03:19<00:47,  2.39s/it]"
     ]
    },
    {
     "name": "stdout",
     "output_type": "stream",
     "text": [
      "DIGIT: 9\n",
      "EPOCH 80: 2.30815 sec\n",
      "Critic loss: -0.15162\n",
      "Generator loss: 2.69073\n",
      "\n"
     ]
    },
    {
     "name": "stderr",
     "output_type": "stream",
     "text": [
      "\r",
      " 81%|████████  | 81.0/100 [03:22<00:45,  2.39s/it]"
     ]
    },
    {
     "name": "stdout",
     "output_type": "stream",
     "text": [
      "DIGIT: 9\n",
      "EPOCH 81: 2.30452 sec\n",
      "Critic loss: -0.18007\n",
      "Generator loss: 2.72662\n",
      "\n",
      "INFO:tensorflow:Assets written to: models/05-05-21_10:15:28/9/generator/assets\n",
      "INFO:tensorflow:Assets written to: models/05-05-21_10:15:28/9/critic/assets\n"
     ]
    },
    {
     "name": "stderr",
     "output_type": "stream",
     "text": [
      "\r",
      " 82%|████████▏ | 82.0/100 [03:26<00:50,  2.83s/it]"
     ]
    },
    {
     "name": "stdout",
     "output_type": "stream",
     "text": [
      "DIGIT: 9\n",
      "EPOCH 82: 2.30489 sec\n",
      "Critic loss: -0.18670\n",
      "Generator loss: 2.50521\n",
      "\n"
     ]
    },
    {
     "name": "stderr",
     "output_type": "stream",
     "text": [
      "\r",
      " 83%|████████▎ | 83.0/100 [03:28<00:45,  2.70s/it]"
     ]
    },
    {
     "name": "stdout",
     "output_type": "stream",
     "text": [
      "DIGIT: 9\n",
      "EPOCH 83: 2.32830 sec\n",
      "Critic loss: -0.16524\n",
      "Generator loss: 1.96387\n",
      "\n"
     ]
    },
    {
     "name": "stderr",
     "output_type": "stream",
     "text": [
      "\r",
      " 84%|████████▍ | 84.0/100 [03:31<00:41,  2.61s/it]"
     ]
    },
    {
     "name": "stdout",
     "output_type": "stream",
     "text": [
      "DIGIT: 9\n",
      "EPOCH 84: 2.30687 sec\n",
      "Critic loss: -0.10993\n",
      "Generator loss: 2.52747\n",
      "\n"
     ]
    },
    {
     "name": "stderr",
     "output_type": "stream",
     "text": [
      "\r",
      " 85%|████████▌ | 85.0/100 [03:33<00:38,  2.54s/it]"
     ]
    },
    {
     "name": "stdout",
     "output_type": "stream",
     "text": [
      "DIGIT: 9\n",
      "EPOCH 85: 2.30718 sec\n",
      "Critic loss: -0.14838\n",
      "Generator loss: 3.16937\n",
      "\n"
     ]
    },
    {
     "name": "stderr",
     "output_type": "stream",
     "text": [
      "\r",
      " 86%|████████▌ | 86.0/100 [03:35<00:34,  2.50s/it]"
     ]
    },
    {
     "name": "stdout",
     "output_type": "stream",
     "text": [
      "DIGIT: 9\n",
      "EPOCH 86: 2.30610 sec\n",
      "Critic loss: -0.16819\n",
      "Generator loss: 2.74914\n",
      "\n"
     ]
    },
    {
     "name": "stderr",
     "output_type": "stream",
     "text": [
      "\r",
      " 87%|████████▋ | 87.0/100 [03:38<00:32,  2.46s/it]"
     ]
    },
    {
     "name": "stdout",
     "output_type": "stream",
     "text": [
      "DIGIT: 9\n",
      "EPOCH 87: 2.30578 sec\n",
      "Critic loss: -0.12710\n",
      "Generator loss: 2.69392\n",
      "\n"
     ]
    },
    {
     "name": "stderr",
     "output_type": "stream",
     "text": [
      "\r",
      " 88%|████████▊ | 88.0/100 [03:40<00:29,  2.44s/it]"
     ]
    },
    {
     "name": "stdout",
     "output_type": "stream",
     "text": [
      "DIGIT: 9\n",
      "EPOCH 88: 2.30650 sec\n",
      "Critic loss: -0.14055\n",
      "Generator loss: 3.15989\n",
      "\n"
     ]
    },
    {
     "name": "stderr",
     "output_type": "stream",
     "text": [
      "\r",
      " 89%|████████▉ | 89.0/100 [03:42<00:26,  2.43s/it]"
     ]
    },
    {
     "name": "stdout",
     "output_type": "stream",
     "text": [
      "DIGIT: 9\n",
      "EPOCH 89: 2.30689 sec\n",
      "Critic loss: -0.12290\n",
      "Generator loss: 2.99816\n",
      "\n"
     ]
    },
    {
     "name": "stderr",
     "output_type": "stream",
     "text": [
      "\r",
      " 90%|█████████ | 90.0/100 [03:45<00:24,  2.41s/it]"
     ]
    },
    {
     "name": "stdout",
     "output_type": "stream",
     "text": [
      "DIGIT: 9\n",
      "EPOCH 90: 2.30592 sec\n",
      "Critic loss: -0.15890\n",
      "Generator loss: 2.57986\n",
      "\n"
     ]
    },
    {
     "name": "stderr",
     "output_type": "stream",
     "text": [
      "\r",
      " 91%|█████████ | 91.0/100 [03:47<00:21,  2.41s/it]"
     ]
    },
    {
     "name": "stdout",
     "output_type": "stream",
     "text": [
      "DIGIT: 9\n",
      "EPOCH 91: 2.31035 sec\n",
      "Critic loss: -0.15450\n",
      "Generator loss: 2.90634\n",
      "\n"
     ]
    },
    {
     "name": "stderr",
     "output_type": "stream",
     "text": [
      "\r",
      " 92%|█████████▏| 92.0/100 [03:50<00:19,  2.40s/it]"
     ]
    },
    {
     "name": "stdout",
     "output_type": "stream",
     "text": [
      "DIGIT: 9\n",
      "EPOCH 92: 2.30412 sec\n",
      "Critic loss: -0.11957\n",
      "Generator loss: 2.66535\n",
      "\n"
     ]
    },
    {
     "name": "stderr",
     "output_type": "stream",
     "text": [
      "\r",
      " 93%|█████████▎| 93.0/100 [03:52<00:16,  2.40s/it]"
     ]
    },
    {
     "name": "stdout",
     "output_type": "stream",
     "text": [
      "DIGIT: 9\n",
      "EPOCH 93: 2.30560 sec\n",
      "Critic loss: -0.16401\n",
      "Generator loss: 3.22671\n",
      "\n"
     ]
    },
    {
     "name": "stderr",
     "output_type": "stream",
     "text": [
      "\r",
      " 94%|█████████▍| 94.0/100 [03:54<00:14,  2.39s/it]"
     ]
    },
    {
     "name": "stdout",
     "output_type": "stream",
     "text": [
      "DIGIT: 9\n",
      "EPOCH 94: 2.30646 sec\n",
      "Critic loss: -0.14233\n",
      "Generator loss: 2.98467\n",
      "\n"
     ]
    },
    {
     "name": "stderr",
     "output_type": "stream",
     "text": [
      "\r",
      " 95%|█████████▌| 95.0/100 [03:57<00:11,  2.39s/it]"
     ]
    },
    {
     "name": "stdout",
     "output_type": "stream",
     "text": [
      "DIGIT: 9\n",
      "EPOCH 95: 2.30760 sec\n",
      "Critic loss: -0.08429\n",
      "Generator loss: 2.61339\n",
      "\n"
     ]
    },
    {
     "name": "stderr",
     "output_type": "stream",
     "text": [
      "\r",
      " 96%|█████████▌| 96.0/100 [03:59<00:09,  2.39s/it]"
     ]
    },
    {
     "name": "stdout",
     "output_type": "stream",
     "text": [
      "DIGIT: 9\n",
      "EPOCH 96: 2.30592 sec\n",
      "Critic loss: -0.14302\n",
      "Generator loss: 2.93468\n",
      "\n"
     ]
    },
    {
     "name": "stderr",
     "output_type": "stream",
     "text": [
      "\r",
      " 97%|█████████▋| 97.0/100 [04:02<00:07,  2.39s/it]"
     ]
    },
    {
     "name": "stdout",
     "output_type": "stream",
     "text": [
      "DIGIT: 9\n",
      "EPOCH 97: 2.30507 sec\n",
      "Critic loss: -0.13288\n",
      "Generator loss: 2.77435\n",
      "\n"
     ]
    },
    {
     "name": "stderr",
     "output_type": "stream",
     "text": [
      "\r",
      " 98%|█████████▊| 98.0/100 [04:04<00:04,  2.39s/it]"
     ]
    },
    {
     "name": "stdout",
     "output_type": "stream",
     "text": [
      "DIGIT: 9\n",
      "EPOCH 98: 2.30324 sec\n",
      "Critic loss: -0.11829\n",
      "Generator loss: 2.74051\n",
      "\n"
     ]
    },
    {
     "name": "stderr",
     "output_type": "stream",
     "text": [
      "\r",
      " 99%|█████████▉| 99.0/100 [04:06<00:02,  2.39s/it]"
     ]
    },
    {
     "name": "stdout",
     "output_type": "stream",
     "text": [
      "DIGIT: 9\n",
      "EPOCH 99: 2.30457 sec\n",
      "Critic loss: -0.14047\n",
      "Generator loss: 3.02985\n",
      "\n"
     ]
    },
    {
     "name": "stderr",
     "output_type": "stream",
     "text": [
      "100%|██████████| 100.0/100 [04:09<00:00,  2.49s/it]"
     ]
    },
    {
     "name": "stdout",
     "output_type": "stream",
     "text": [
      "DIGIT: 9\n",
      "EPOCH 100: 2.30850 sec\n",
      "Critic loss: -0.15897\n",
      "Generator loss: 2.89753\n",
      "\n"
     ]
    },
    {
     "name": "stderr",
     "output_type": "stream",
     "text": [
      "\n"
     ]
    }
   ],
   "source": [
    "lm = False\n",
    "si = True\n",
    "sm = True\n",
    "C_losses, G_losses, critic, generator, basename = train(100, load_models=lm, save_images=si, save_models=sm)"
   ]
  },
  {
   "cell_type": "code",
   "execution_count": null,
   "metadata": {},
   "outputs": [],
   "source": []
  },
  {
   "cell_type": "code",
   "execution_count": null,
   "metadata": {},
   "outputs": [],
   "source": []
  },
  {
   "cell_type": "code",
   "execution_count": null,
   "metadata": {},
   "outputs": [],
   "source": []
  },
  {
   "cell_type": "code",
   "execution_count": null,
   "metadata": {},
   "outputs": [],
   "source": []
  }
 ],
 "metadata": {
  "kernelspec": {
   "display_name": "Python 3",
   "language": "python",
   "name": "python3"
  },
  "language_info": {
   "codemirror_mode": {
    "name": "ipython",
    "version": 3
   },
   "file_extension": ".py",
   "mimetype": "text/x-python",
   "name": "python",
   "nbconvert_exporter": "python",
   "pygments_lexer": "ipython3",
   "version": "3.6.9"
  }
 },
 "nbformat": 4,
 "nbformat_minor": 4
}
